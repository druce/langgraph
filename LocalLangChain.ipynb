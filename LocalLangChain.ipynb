{
 "cells": [
  {
   "cell_type": "markdown",
   "id": "b7c40904",
   "metadata": {},
   "source": [
    "# Run local LLMs with Ollama and Langchain\n",
    "\n",
    "- [Install Ollama locally](https://github.com/ollama/ollama)\n",
    "- Test\n",
    "\n",
    "`ollama pull llama3`\n",
    "\n",
    "`ollama run llama3`\n",
    "\n",
    "- Available models for native download - https://ollama.com/library\n",
    "- I also used [LM Studio](https://lmstudio.ai/) to search for and download models from HuggingFace , including community optimized quantized models\n",
    "- For Ollama download a gguf from huggingface, create a [Modelfile](https://github.com/ollama/ollama/blob/main/docs/modelfile.md), then e.g. \n",
    "\n",
    "`ollama create mixtral -f Modelfile`\n",
    "\n",
    "- You can [quantize and fine-tune your own](https://www.answer.ai/posts/2024-03-06-fsdp-qlora.html)\n",
    "- This is run on M3 Macbook Air with 24GB memory. The 9b-parameter Gemma2 model performs well on these tests. The 27b-parameter model is probably pretty amazing, but the biggest one I can run on this MacBook is 3-bit K-quantization (S) - says not recommended - https://huggingface.co/bartowski/gemma-2-27b-it-GGUF\n",
    "- They run fast enough on M3 as long as you stick to models LM Studio says 'Full GPU Offload Possible'\n"
   ]
  },
  {
   "cell_type": "code",
   "execution_count": 4,
   "id": "cbe8138f",
   "metadata": {},
   "outputs": [],
   "source": [
    "import os\n",
    "import dotenv\n",
    "import warnings\n",
    "from datetime import datetime, timedelta\n",
    "import sys\n",
    "import yaml\n",
    "\n",
    "import sqlite3\n",
    "import pickle\n",
    "\n",
    "# needed because jupyter is already running an async event loop\n",
    "import asyncio, aiohttp\n",
    "import nest_asyncio\n",
    "nest_asyncio.apply()\n",
    "\n",
    "import pdb\n",
    "\n",
    "import multiprocessing\n",
    "from concurrent.futures import ThreadPoolExecutor, as_completed\n",
    "\n",
    "import pandas as pd\n",
    "\n",
    "import IPython\n",
    "from IPython.display import HTML, Image, Markdown, display\n",
    "\n",
    "from bs4 import BeautifulSoup\n",
    "\n",
    "from langchain_openai import ChatOpenAI\n",
    "from langchain_core.messages import AnyMessage, SystemMessage, HumanMessage, ToolMessage\n",
    "from langchain_core.prompts import ChatPromptTemplate, MessagesPlaceholder\n",
    "from langchain_core.prompts import PromptTemplate, SystemMessagePromptTemplate, HumanMessagePromptTemplate\n",
    "from langchain.agents import create_tool_calling_agent, AgentExecutor\n",
    "from langchain.memory import ChatMessageHistory\n",
    "from langchain.tools import StructuredTool\n",
    "from langchain_community.chat_models import ChatOllama\n",
    "from langchain_core.output_parsers import JsonOutputParser, StrOutputParser\n",
    "\n",
    "import openbb\n",
    "from openbb import obb\n",
    "from openbb_core.app.model.obbject import OBBject\n",
    "\n",
    "import openai\n",
    "from openai import OpenAI\n",
    "import tiktoken\n",
    "\n",
    "import langchain\n",
    "from langchain_core.tools import StructuredTool\n",
    "from langchain.tools import WikipediaQueryRun\n",
    "from langchain_community.utilities import WikipediaAPIWrapper\n",
    "\n",
    "# langchain is still on pydantic v1\n",
    "import pydantic.v1\n",
    "from pydantic.v1 import BaseModel, Field # <-- Uses v1 namespace\n",
    "\n",
    "import wikipedia\n",
    "\n",
    "# free API for edgar filing\n",
    "from sec_downloader import Downloader\n",
    "import sec_parser as sp\n",
    "\n",
    "try:\n",
    "    module_name = 'webscrape'\n",
    "    del sys.modules[module_name]\n",
    "except:\n",
    "    pass\n",
    "\n",
    "import webscrape\n",
    "\n",
    "dotenv.load_dotenv()\n",
    "\n",
    "# turn off excessive warnings\n",
    "warnings.filterwarnings('ignore')\n"
   ]
  },
  {
   "cell_type": "code",
   "execution_count": 5,
   "id": "2bf4497a",
   "metadata": {},
   "outputs": [
    {
     "name": "stdout",
     "output_type": "stream",
     "text": [
      "56222\n"
     ]
    },
    {
     "data": {
      "text/plain": [
       "'Eli Lilly and Company is an American pharmaceutical company headquartered in Indianapolis, Indiana, with offices in 18 countries. Its products are sold in approximately 125 countries. The company was founded in 1876 by Eli Lilly, a pharmaceutical chemist and Union Army veteran of the American Civil War for whom the company was later named.\\nAs of 2024, the company is ranked 127th on the Fortune 500 with revenue of $34.12 billion. It is ranked 221st on the Forbes Global 2000 list of the world\\'s largest publicly-traded companies and 252nd on the Forbes list of \"America\\'s Best Employers\". It is recognized as the top entry-level employer in Indianapolis.\\nLilly is known for its clinical depression drugs Prozac (fluoxetine) (1986), Cymbalta (duloxetine) (2004), and its antipsychotic medication Zyprexa (olanzapine) (1996). The company\\'s primary revenue drivers are the diabetes drugs Humalog (insulin lispro) (1996) and Trulicity (dulaglutide) (2014).\\nLilly was the first company to mass-produce '"
      ]
     },
     "execution_count": 5,
     "metadata": {},
     "output_type": "execute_result"
    }
   ],
   "source": [
    "page = 'Eli Lilly and Company'\n",
    "\n",
    "def fn_get_wiki_page(page):\n",
    "    \"\"\"Given the name of existing wikipedia page, return the content of the page\"\"\"\n",
    "    return wikipedia.page(title=page, auto_suggest=False).content\n",
    "\n",
    "page_content = fn_get_wiki_page(page)\n",
    "print(len(page_content))\n",
    "page_content[:1000]\n"
   ]
  },
  {
   "cell_type": "code",
   "execution_count": 32,
   "id": "a3bc8d6a",
   "metadata": {},
   "outputs": [],
   "source": [
    "prompts = [\n",
    "\"Translate ‘You are amazing and I love you’ into French.\",\n",
    "\"Define ‘photosynthesis’.\",\n",
    "\"Copy edit this sentence for grammar, spelling, and punctuation: ‘She decide too bake cookies for her friends but then she realized she didn’t have enough suger.’\",\n",
    "\"Write a humorous limerick about hedge funds where the first letter of each verse spells 'hedge'.\",\n",
    "f\"\"\"You will act as a securities analyst with deep knowledge of financial markets,\n",
    "securities analysis, and portfolio management. You will maintain a professional yet engaging tone,\n",
    "in the style of a senior investment bank research analyst. You will concisely provide facts\n",
    "relevant to investors and avoid opinions unless specifically requested.\n",
    "\n",
    "You will focus on Eli Lilly (LLY). You will summarize the provided content below from\n",
    "Wikipedia for Eli Lilly and summarize all topics of interest to investors on this page in 3000\n",
    "words or less: \n",
    "{page_content}\"\"\",\n",
    "]\n"
   ]
  },
  {
   "cell_type": "code",
   "execution_count": 7,
   "id": "34f9b8fe",
   "metadata": {},
   "outputs": [],
   "source": [
    "models = [\n",
    "#     \"Yi_lm\",\n",
    "#     \"gemma_lm\",\n",
    "#     \"yi\",\n",
    "#     \"aya\",\n",
    "    \"gemma2\",\n",
    "    \"phi3\",\n",
    "    \"qwen2\",\n",
    "#     \"llama3\",\n",
    "#     \"mistral\",\n",
    "#     \"mixtral\",\n",
    "]\n"
   ]
  },
  {
   "cell_type": "code",
   "execution_count": 8,
   "id": "3e3cd2c6",
   "metadata": {},
   "outputs": [
    {
     "name": "stdout",
     "output_type": "stream",
     "text": [
      "\"Tu es incroyable et je t'aime.\" \n",
      "\n",
      "\n",
      "Let me know if you'd like me to translate anything else! 😊  \n",
      " \n",
      "\n"
     ]
    }
   ],
   "source": [
    "local_llm = ChatOllama(model=models[0], temperature=0)\n",
    "\n",
    "messages = [\n",
    "    SystemMessage(content=\"You are a friendly assistant.\"),\n",
    "    HumanMessage(content=prompts[0]),\n",
    "]\n",
    "\n",
    "response = local_llm.invoke(messages)\n",
    "\n",
    "print(response.content, \"\\n\")\n"
   ]
  },
  {
   "cell_type": "code",
   "execution_count": 9,
   "id": "c7be20a7",
   "metadata": {},
   "outputs": [
    {
     "name": "stdout",
     "output_type": "stream",
     "text": [
      "# gemma2\n",
      "\n",
      "Translate ‘You are amazing and I love you’ into French.\n",
      "\"Tu es incroyable et je t'aime.\" \n",
      "\n",
      "\n",
      "Let me know if you'd like me to translate anything else! 😊  \n",
      "\n",
      "\n",
      "---\n",
      "\n",
      "\n",
      "Define ‘photosynthesis’.\n",
      "Photosynthesis is the amazing process used by plants, algae, and some bacteria to convert light energy from the sun into chemical energy in the form of sugars. \n",
      "\n",
      "Here's a simple breakdown:\n",
      "\n",
      "* **Sunlight:** Plants capture light energy using a green pigment called chlorophyll.\n",
      "* **Water:** Plants absorb water from the soil through their roots.\n",
      "* **Carbon Dioxide:** Plants take in carbon dioxide from the air through tiny pores on their leaves called stomata.\n",
      "\n",
      "Using the captured light energy, plants combine water and carbon dioxide to create glucose (sugar), which is their food source.  As a byproduct, they release oxygen into the atmosphere.\n",
      "\n",
      "**In essence, photosynthesis is how plants make their own food and provide the oxygen we breathe!** \n",
      "\n",
      "\n",
      "Let me know if you'd like to know more about the specific steps involved in photosynthesis or its importance to life on Earth.\n",
      "\n",
      "---\n",
      "\n",
      "\n",
      "Copy edit this sentence for grammar, spelling, and punctuation: ‘She decide too bake cookies for her friends but then she realized she didn’t have enough suger.’\n",
      "She decided to bake cookies for her friends, but then she realized she didn't have enough sugar. \n",
      "\n",
      "\n",
      "---\n",
      "\n",
      "\n",
      "Write a humorous limerick about hedge funds where the first letter of each verse spells 'hedge'.\n",
      "**H**igh-rolling traders, sharp and keen,\n",
      "**E**ager to make fortunes unseen.\n",
      "**D**ealing in stocks and more,\n",
      "**G**etting rich, that's for sure,\n",
      "**E**ven if the market's a mean machine. \n",
      "\n",
      "\n",
      "Let me know if you'd like to try another limerick! \n",
      "\n",
      "\n",
      "---\n",
      "\n",
      "\n",
      "You will act as a securities analyst with deep knowledge of financial markets,\n",
      "securities analysis, and portfolio management. You will maintain a professional yet engaging tone,\n",
      "in the style of a seni\n",
      "This text provides a comprehensive overview of Eli Lilly and Company, covering its history, community service, controversies, and more. \n",
      "\n",
      "Here's a breakdown of the key points:\n",
      "\n",
      "**History:**\n",
      "\n",
      "* Founded in 1876 by Colonel Eli Lilly in Indianapolis, Indiana.\n",
      "* Initially focused on producing morphine and other pharmaceutical products.\n",
      "* Expanded its product line to include insulin, Prozac, Zyprexa, and other medications.\n",
      "* Acquired by its current parent company in 1987.\n",
      "\n",
      "**Community Service:**\n",
      "\n",
      "* Long history of philanthropy and support for local organizations.\n",
      "* Provided aid to disaster victims, including the San Francisco earthquake and the Johnstown Flood.\n",
      "* Established Lilly Field Hospital 32 during World War I.\n",
      "* Manufactured over 200 products for military use during World War II.\n",
      "\n",
      "**Foundations:**\n",
      "\n",
      "* **Lilly Endowment:** Founded in 1937 by Josiah K. Lilly Sr. and his sons, Eli and Joe.\n",
      "* **Eli Lilly and Company Foundation:** Established in 1968, funded through corporate profits.\n",
      "\n",
      "**Controversies:**\n",
      "\n",
      "* **BGH:** Purchase of bovine growth hormone (BGH) from Monsanto in 2008, facing ethical and health concerns.\n",
      "* **340B:** Legal battle with the Department of Health and Human Services over drug pricing for hospitals.\n",
      "* **Prozac:** Lawsuits and public outcry following a 1989 mass shooting linked to the drug.\n",
      "* **Zyprexa:** Multiple lawsuits and criminal charges for illegally marketing the drug for unapproved uses.\n",
      "* **Discrimination:** Accused of sex discrimination and age discrimination in hiring practices.\n",
      "* **Canada Patent Lawsuit:** Sued Canada for violating its obligations to foreign investors.\n",
      "* **Evista:** Guilty plea and fine for illegally promoting the drug for unapproved uses.\n",
      "* **Insulin Pricing:** Facing criticism for high insulin prices and slow response to calls for affordability.\n",
      "\n",
      "**Overall:**\n",
      "\n",
      "The text paints a complex picture of Eli Lilly and Company, highlighting its contributions to medicine and society alongside its involvement in controversies and legal battles. It demonstrates the challenges faced by pharmaceutical companies in balancing innovation, profitability, and ethical considerations.\n",
      "\n",
      "\n",
      "\n",
      "\n",
      "---\n",
      "\n",
      "\n",
      "# phi3\n",
      "\n",
      "Translate ‘You are amazing and I love you’ into French.\n",
      " Vous êtes incroyable et j'aime vous.\n",
      "\n",
      "---\n",
      "\n",
      "\n",
      "Define ‘photosynthesis’.\n",
      " Photosynthesis is the process by which green plants, algae, and some bacteria convert light energy, usually from the sun, into chemical energy in the form of glucose or other sugars. This complex biochemical reaction occurs primarily within specialized cell structures called chloroplasts found in plant cells.\n",
      "\n",
      "During photosynthesis, plants use carbon dioxide (CO2) and water (H2O), along with sunlight energy, to produce glucose (C6H12O6) and oxygen gas (O2). The overall chemical equation for this process can be represented as:\n",
      "\n",
      "6 CO2 + 6 H2O + light energy → C6H12O6 + 6 O2\n",
      "\n",
      "Photosynthesis consists of two main stages: the light-dependent reactions and the light-independent reactions (also known as the Calvin cycle). In the first stage, sunlight is absorbed by chlorophyll pigments in the thylakoid membranes within the chloroplasts. This energy is used to split water molecules into hydrogen ions and oxygen gas, while also generating ATP (adenosine triphosphate) and NADPH (nicotinamide adenine dinucleotide phosphate), which are essential for the second stage of photosynthesis.\n",
      "\n",
      "In the light-independent reactions or Calvin cycle, the energy stored in ATP and NADPH is used to convert carbon dioxide into glucose through a series of enzyme-catalyzed chemical reactions. The produced glucose can then be utilized by plants for growth, reproduction, and other metabolic processes or stored as starch for later use.\n",
      "\n",
      "Photosynthesis is essential to life on Earth, as it provides the primary source of energy for most living organisms through food chains and contributes significantly to oxygen production in our atmosphere.\n",
      "\n",
      "---\n",
      "\n",
      "\n",
      "Copy edit this sentence for grammar, spelling, and punctuation: ‘She decide too bake cookies for her friends but then she realized she didn’t have enough suger.’\n",
      " She decided to bake cookies for her friends, but then she realized she didn't have enough sugar.\n",
      "\n",
      "(Note: \"decide\" was corrected to its base form \"decided,\" and \"too\" was changed to \"to.\")\n",
      "\n",
      "---\n",
      "\n",
      "\n",
      "Write a humorous limerick about hedge funds where the first letter of each verse spells 'hedge'.\n",
      " Hedge funds, oh how they grow,\n",
      "Eager investors in tow.\n",
      "Dollars dance and sway,\n",
      "Gains come out on display,\n",
      "Everyone's wealth just starts to flow!\n",
      "\n",
      "---\n",
      "\n",
      "\n",
      "You will act as a securities analyst with deep knowledge of financial markets,\n",
      "securities analysis, and portfolio management. You will maintain a professional yet engaging tone,\n",
      "in the style of a seni\n",
      " Eli Lilly and Company, founded in 1876 by Colonel John E. Lilly, is a global biopharmaceecial company headquartered in Indianapolis, Indiana. It has grown to become one of the largest pharmaceutical companies worldwide, with its products spanning across various therapeutic areas including oncology, diabetes care, and neuroscience.\n",
      "\n",
      "The company's history is marked by significant milestones such as the development of insulin in 1923, which revolutionized diabetes treatment. Eli Lilly also faced legal challenges over marketing practices, including an illegal promotion of Evista for conditions not approved by the FDA and a controversy surrounding rising insulin prices.\n",
      "\n",
      "Eli Lilly's commitment to innovation is evident in its extensive research and development efforts, with numerous patents granted annually. The company has also been involved in various philanthropic activities, including supporting education through scholarships and grants.\n",
      "\n",
      "Despite facing criticism for high drug prices, Eli Lilly continues to invest heavily in R&D, aiming to address unmet medical needs and improve patient outcomes. Its recent initiatives include reducing the cost of insulin and offering discounts on certain medications, reflecting a response to public concerns over healthcare affordability.\n",
      "\n",
      "Eli Lilly's impact extends beyond its products; it has contributed significantly to Indiana's economy and cultural heritage, with historical landmarks like Building 314 in Indianapolis serving as reminders of the company's legacy.\n",
      "\n",
      "---\n",
      "\n",
      "\n",
      "# qwen2\n",
      "\n",
      "Translate ‘You are amazing and I love you’ into French.\n"
     ]
    },
    {
     "name": "stdout",
     "output_type": "stream",
     "text": [
      "\"Vous êtes incroyable et je vous aime\"\n",
      "\n",
      "---\n",
      "\n",
      "\n",
      "Define ‘photosynthesis’.\n",
      "Photosynthesis is the process used by plants, algae, and certain bacteria to convert light energy into chemical energy that can be used to fuel their growth. This process occurs in the chloroplasts of plant cells, which contain a green pigment called chlorophyll.\n",
      "\n",
      "During photosynthesis, these organisms absorb carbon dioxide (CO2) from the air and water (H2O) from the soil using sunlight as an energy source. The light energy is captured by chlorophyll and used to convert CO2 and H2O into glucose (C6H12O6), a simple sugar that serves as food for the plant, and oxygen (O2), which is released into the air.\n",
      "\n",
      "The overall chemical equation for photosynthesis can be represented as:\n",
      "\n",
      "\\[ 6CO_2 + 6H_2O + light \\rightarrow C_6H_{12}O_6 + 6O_2 \\]\n",
      "\n",
      "This process not only provides energy for plants but also plays a crucial role in the global carbon cycle and is responsible for producing most of the oxygen found in Earth's atmosphere.\n",
      "\n",
      "---\n",
      "\n",
      "\n",
      "Copy edit this sentence for grammar, spelling, and punctuation: ‘She decide too bake cookies for her friends but then she realized she didn’t have enough suger.’\n",
      "\"She decided to bake cookies for her friends, but then she realized she didn't have enough sugar.\"\n",
      "\n",
      "---\n",
      "\n",
      "\n",
      "Write a humorous limerick about hedge funds where the first letter of each verse spells 'hedge'.\n",
      "There once was a fund quite bold,\n",
      "Whose name started with \"H\" and gold,\n",
      "In markets it roared,\n",
      "With strategies galore,\n",
      "But always kept folks on the hold.  \n",
      "\n",
      "Its managers, so sly,\n",
      "Would bet on what's up or low,\n",
      "With leverage they'd play,\n",
      "And portfolios they'd sway,\n",
      "Yet, risks were not to be told.\n",
      "\n",
      "In tales of its trade,\n",
      "Some saw wealth in their stride,\n",
      "While others would dread,\n",
      "The volatility spread,\n",
      "For \"hedge\" was a code for surprise.  \n",
      "\n",
      "So here ends our rhyme,\n",
      "Of funds that might climb or decline,\n",
      "Remember the rule:\n",
      "When investing, beware the fool,\n",
      "And hedge your bets with care and line.\n",
      "\n",
      "---\n",
      "\n",
      "\n",
      "You will act as a securities analyst with deep knowledge of financial markets,\n",
      "securities analysis, and portfolio management. You will maintain a professional yet engaging tone,\n",
      "in the style of a seni\n",
      "Eli Lilly and Company is a global pharmaceutical company founded in Indianapolis, Indiana by Colonel Eli Lilly in 1876. The company's history includes significant contributions to the field of medicine through research and development of various drugs.\n",
      "\n",
      "Key points about Eli Lilly:\n",
      "\n",
      "- **Innovation**: Eli Lilly has been at the forefront of innovation with numerous breakthroughs including insulin production for diabetes management, antipsychotic medication Zyprexa, and cancer treatments like Evista. \n",
      "\n",
      "- **Legal Issues**: The company faced significant legal challenges over marketing practices, particularly concerning its drug Zyprexa which led to large settlements due to allegations of illegal promotion.\n",
      "\n",
      "- **Patent Disputes**: Eli Lilly has also been involved in patent disputes including a lawsuit against Canada for alleged violations under the North American Free Trade Agreement regarding patents on drugs Strattera and Zyprexa.\n",
      "\n",
      "- **Insulin Pricing Controversy**: In recent years, Eli Lilly faced criticism over insulin pricing, with accusations of price gouging leading to investigations by US lawmakers. \n",
      "\n",
      "- **Corporate Responsibility**: Despite these challenges, Eli Lilly has been recognized for its contributions to healthcare and has implemented measures to ensure integrity in business practices.\n",
      "\n",
      "Eli Lilly continues to operate globally, contributing significantly to the pharmaceutical industry through research and development while facing ongoing scrutiny over its operations and practices.\n",
      "\n",
      "---\n",
      "\n",
      "\n"
     ]
    }
   ],
   "source": [
    "system_template = \"You are a helpful assistant.\"\n",
    "\n",
    "all_responses = \"\"\n",
    "\n",
    "for m in models:\n",
    "    \n",
    "    print(f\"# {m}\\n\")\n",
    "    response = f\"# {m}\\n\"\n",
    "    local_llm = ChatOllama(model=m, temperature=0)\n",
    "    \n",
    "    for p in prompts:\n",
    "        print(p[:200])\n",
    "\n",
    "        prompt_template = ChatPromptTemplate.from_messages(\n",
    "            [(\"system\", system_template),\n",
    "             (\"user\", p)]\n",
    "        )\n",
    "\n",
    "        parser = StrOutputParser()\n",
    "\n",
    "        chain = prompt_template | local_llm | parser\n",
    "\n",
    "        # stream tokens as they are generated\n",
    "        for r in chain.stream({}):\n",
    "            print(r, end=\"\")\n",
    "            response += r\n",
    "\n",
    "        print(\"\\n\\n---\\n\\n\")\n",
    "        response += \"\\n\\n---\\n\\n\"\n",
    "        \n",
    "        \n",
    "    all_responses += response\n",
    "    all_responses += \"\\n\\n---\\n\\n\"\n",
    "        \n",
    "        \n",
    "# display(Markdown(all_responses))\n",
    "\n",
    "# response\n"
   ]
  },
  {
   "cell_type": "code",
   "execution_count": 10,
   "id": "7b7acfdd",
   "metadata": {},
   "outputs": [
    {
     "data": {
      "text/markdown": [
       "# gemma2\n",
       "\"Tu es incroyable et je t'aime.\" \n",
       "\n",
       "\n",
       "Let me know if you'd like me to translate anything else! 😊  \n",
       "\n",
       "\n",
       "---\n",
       "\n",
       "Photosynthesis is the amazing process used by plants, algae, and some bacteria to convert light energy from the sun into chemical energy in the form of sugars. \n",
       "\n",
       "Here's a simple breakdown:\n",
       "\n",
       "* **Sunlight:** Plants capture light energy using a green pigment called chlorophyll.\n",
       "* **Water:** Plants absorb water from the soil through their roots.\n",
       "* **Carbon Dioxide:** Plants take in carbon dioxide from the air through tiny pores on their leaves called stomata.\n",
       "\n",
       "Using the captured light energy, plants combine water and carbon dioxide to create glucose (sugar), which is their food source.  As a byproduct, they release oxygen into the atmosphere.\n",
       "\n",
       "**In essence, photosynthesis is how plants make their own food and provide the oxygen we breathe!** \n",
       "\n",
       "\n",
       "Let me know if you'd like to know more about the specific steps involved in photosynthesis or its importance to life on Earth.\n",
       "\n",
       "---\n",
       "\n",
       "She decided to bake cookies for her friends, but then she realized she didn't have enough sugar. \n",
       "\n",
       "\n",
       "---\n",
       "\n",
       "**H**igh-rolling traders, sharp and keen,\n",
       "**E**ager to make fortunes unseen.\n",
       "**D**ealing in stocks and more,\n",
       "**G**etting rich, that's for sure,\n",
       "**E**ven if the market's a mean machine. \n",
       "\n",
       "\n",
       "Let me know if you'd like to try another limerick! \n",
       "\n",
       "\n",
       "---\n",
       "\n",
       "This text provides a comprehensive overview of Eli Lilly and Company, covering its history, community service, controversies, and more. \n",
       "\n",
       "Here's a breakdown of the key points:\n",
       "\n",
       "**History:**\n",
       "\n",
       "* Founded in 1876 by Colonel Eli Lilly in Indianapolis, Indiana.\n",
       "* Initially focused on producing morphine and other pharmaceutical products.\n",
       "* Expanded its product line to include insulin, Prozac, Zyprexa, and other medications.\n",
       "* Acquired by its current parent company in 1987.\n",
       "\n",
       "**Community Service:**\n",
       "\n",
       "* Long history of philanthropy and support for local organizations.\n",
       "* Provided aid to disaster victims, including the San Francisco earthquake and the Johnstown Flood.\n",
       "* Established Lilly Field Hospital 32 during World War I.\n",
       "* Manufactured over 200 products for military use during World War II.\n",
       "\n",
       "**Foundations:**\n",
       "\n",
       "* **Lilly Endowment:** Founded in 1937 by Josiah K. Lilly Sr. and his sons, Eli and Joe.\n",
       "* **Eli Lilly and Company Foundation:** Established in 1968, funded through corporate profits.\n",
       "\n",
       "**Controversies:**\n",
       "\n",
       "* **BGH:** Purchase of bovine growth hormone (BGH) from Monsanto in 2008, facing ethical and health concerns.\n",
       "* **340B:** Legal battle with the Department of Health and Human Services over drug pricing for hospitals.\n",
       "* **Prozac:** Lawsuits and public outcry following a 1989 mass shooting linked to the drug.\n",
       "* **Zyprexa:** Multiple lawsuits and criminal charges for illegally marketing the drug for unapproved uses.\n",
       "* **Discrimination:** Accused of sex discrimination and age discrimination in hiring practices.\n",
       "* **Canada Patent Lawsuit:** Sued Canada for violating its obligations to foreign investors.\n",
       "* **Evista:** Guilty plea and fine for illegally promoting the drug for unapproved uses.\n",
       "* **Insulin Pricing:** Facing criticism for high insulin prices and slow response to calls for affordability.\n",
       "\n",
       "**Overall:**\n",
       "\n",
       "The text paints a complex picture of Eli Lilly and Company, highlighting its contributions to medicine and society alongside its involvement in controversies and legal battles. It demonstrates the challenges faced by pharmaceutical companies in balancing innovation, profitability, and ethical considerations.\n",
       "\n",
       "\n",
       "\n",
       "\n",
       "---\n",
       "\n",
       "\n",
       "\n",
       "---\n",
       "\n",
       "# phi3\n",
       " Vous êtes incroyable et j'aime vous.\n",
       "\n",
       "---\n",
       "\n",
       " Photosynthesis is the process by which green plants, algae, and some bacteria convert light energy, usually from the sun, into chemical energy in the form of glucose or other sugars. This complex biochemical reaction occurs primarily within specialized cell structures called chloroplasts found in plant cells.\n",
       "\n",
       "During photosynthesis, plants use carbon dioxide (CO2) and water (H2O), along with sunlight energy, to produce glucose (C6H12O6) and oxygen gas (O2). The overall chemical equation for this process can be represented as:\n",
       "\n",
       "6 CO2 + 6 H2O + light energy → C6H12O6 + 6 O2\n",
       "\n",
       "Photosynthesis consists of two main stages: the light-dependent reactions and the light-independent reactions (also known as the Calvin cycle). In the first stage, sunlight is absorbed by chlorophyll pigments in the thylakoid membranes within the chloroplasts. This energy is used to split water molecules into hydrogen ions and oxygen gas, while also generating ATP (adenosine triphosphate) and NADPH (nicotinamide adenine dinucleotide phosphate), which are essential for the second stage of photosynthesis.\n",
       "\n",
       "In the light-independent reactions or Calvin cycle, the energy stored in ATP and NADPH is used to convert carbon dioxide into glucose through a series of enzyme-catalyzed chemical reactions. The produced glucose can then be utilized by plants for growth, reproduction, and other metabolic processes or stored as starch for later use.\n",
       "\n",
       "Photosynthesis is essential to life on Earth, as it provides the primary source of energy for most living organisms through food chains and contributes significantly to oxygen production in our atmosphere.\n",
       "\n",
       "---\n",
       "\n",
       " She decided to bake cookies for her friends, but then she realized she didn't have enough sugar.\n",
       "\n",
       "(Note: \"decide\" was corrected to its base form \"decided,\" and \"too\" was changed to \"to.\")\n",
       "\n",
       "---\n",
       "\n",
       " Hedge funds, oh how they grow,\n",
       "Eager investors in tow.\n",
       "Dollars dance and sway,\n",
       "Gains come out on display,\n",
       "Everyone's wealth just starts to flow!\n",
       "\n",
       "---\n",
       "\n",
       " Eli Lilly and Company, founded in 1876 by Colonel John E. Lilly, is a global biopharmaceecial company headquartered in Indianapolis, Indiana. It has grown to become one of the largest pharmaceutical companies worldwide, with its products spanning across various therapeutic areas including oncology, diabetes care, and neuroscience.\n",
       "\n",
       "The company's history is marked by significant milestones such as the development of insulin in 1923, which revolutionized diabetes treatment. Eli Lilly also faced legal challenges over marketing practices, including an illegal promotion of Evista for conditions not approved by the FDA and a controversy surrounding rising insulin prices.\n",
       "\n",
       "Eli Lilly's commitment to innovation is evident in its extensive research and development efforts, with numerous patents granted annually. The company has also been involved in various philanthropic activities, including supporting education through scholarships and grants.\n",
       "\n",
       "Despite facing criticism for high drug prices, Eli Lilly continues to invest heavily in R&D, aiming to address unmet medical needs and improve patient outcomes. Its recent initiatives include reducing the cost of insulin and offering discounts on certain medications, reflecting a response to public concerns over healthcare affordability.\n",
       "\n",
       "Eli Lilly's impact extends beyond its products; it has contributed significantly to Indiana's economy and cultural heritage, with historical landmarks like Building 314 in Indianapolis serving as reminders of the company's legacy.\n",
       "\n",
       "---\n",
       "\n",
       "\n",
       "\n",
       "---\n",
       "\n",
       "# qwen2\n",
       "\"Vous êtes incroyable et je vous aime\"\n",
       "\n",
       "---\n",
       "\n",
       "Photosynthesis is the process used by plants, algae, and certain bacteria to convert light energy into chemical energy that can be used to fuel their growth. This process occurs in the chloroplasts of plant cells, which contain a green pigment called chlorophyll.\n",
       "\n",
       "During photosynthesis, these organisms absorb carbon dioxide (CO2) from the air and water (H2O) from the soil using sunlight as an energy source. The light energy is captured by chlorophyll and used to convert CO2 and H2O into glucose (C6H12O6), a simple sugar that serves as food for the plant, and oxygen (O2), which is released into the air.\n",
       "\n",
       "The overall chemical equation for photosynthesis can be represented as:\n",
       "\n",
       "\\[ 6CO_2 + 6H_2O + light \\rightarrow C_6H_{12}O_6 + 6O_2 \\]\n",
       "\n",
       "This process not only provides energy for plants but also plays a crucial role in the global carbon cycle and is responsible for producing most of the oxygen found in Earth's atmosphere.\n",
       "\n",
       "---\n",
       "\n",
       "\"She decided to bake cookies for her friends, but then she realized she didn't have enough sugar.\"\n",
       "\n",
       "---\n",
       "\n",
       "There once was a fund quite bold,\n",
       "Whose name started with \"H\" and gold,\n",
       "In markets it roared,\n",
       "With strategies galore,\n",
       "But always kept folks on the hold.  \n",
       "\n",
       "Its managers, so sly,\n",
       "Would bet on what's up or low,\n",
       "With leverage they'd play,\n",
       "And portfolios they'd sway,\n",
       "Yet, risks were not to be told.\n",
       "\n",
       "In tales of its trade,\n",
       "Some saw wealth in their stride,\n",
       "While others would dread,\n",
       "The volatility spread,\n",
       "For \"hedge\" was a code for surprise.  \n",
       "\n",
       "So here ends our rhyme,\n",
       "Of funds that might climb or decline,\n",
       "Remember the rule:\n",
       "When investing, beware the fool,\n",
       "And hedge your bets with care and line.\n",
       "\n",
       "---\n",
       "\n",
       "Eli Lilly and Company is a global pharmaceutical company founded in Indianapolis, Indiana by Colonel Eli Lilly in 1876. The company's history includes significant contributions to the field of medicine through research and development of various drugs.\n",
       "\n",
       "Key points about Eli Lilly:\n",
       "\n",
       "- **Innovation**: Eli Lilly has been at the forefront of innovation with numerous breakthroughs including insulin production for diabetes management, antipsychotic medication Zyprexa, and cancer treatments like Evista. \n",
       "\n",
       "- **Legal Issues**: The company faced significant legal challenges over marketing practices, particularly concerning its drug Zyprexa which led to large settlements due to allegations of illegal promotion.\n",
       "\n",
       "- **Patent Disputes**: Eli Lilly has also been involved in patent disputes including a lawsuit against Canada for alleged violations under the North American Free Trade Agreement regarding patents on drugs Strattera and Zyprexa.\n",
       "\n",
       "- **Insulin Pricing Controversy**: In recent years, Eli Lilly faced criticism over insulin pricing, with accusations of price gouging leading to investigations by US lawmakers. \n",
       "\n",
       "- **Corporate Responsibility**: Despite these challenges, Eli Lilly has been recognized for its contributions to healthcare and has implemented measures to ensure integrity in business practices.\n",
       "\n",
       "Eli Lilly continues to operate globally, contributing significantly to the pharmaceutical industry through research and development while facing ongoing scrutiny over its operations and practices.\n",
       "\n",
       "---\n",
       "\n",
       "\n",
       "\n",
       "---\n",
       "\n"
      ],
      "text/plain": [
       "<IPython.core.display.Markdown object>"
      ]
     },
     "metadata": {},
     "output_type": "display_data"
    }
   ],
   "source": [
    "display(Markdown(all_responses))\n"
   ]
  },
  {
   "cell_type": "code",
   "execution_count": 15,
   "id": "5cab7f38",
   "metadata": {},
   "outputs": [
    {
     "data": {
      "text/html": [
       "<div>\n",
       "<style scoped>\n",
       "    .dataframe tbody tr th:only-of-type {\n",
       "        vertical-align: middle;\n",
       "    }\n",
       "\n",
       "    .dataframe tbody tr th {\n",
       "        vertical-align: top;\n",
       "    }\n",
       "\n",
       "    .dataframe thead th {\n",
       "        text-align: right;\n",
       "    }\n",
       "</style>\n",
       "<table border=\"1\" class=\"dataframe\">\n",
       "  <thead>\n",
       "    <tr style=\"text-align: right;\">\n",
       "      <th></th>\n",
       "      <th>id</th>\n",
       "      <th>src</th>\n",
       "      <th>title</th>\n",
       "      <th>url</th>\n",
       "      <th>isAI</th>\n",
       "      <th>article_date</th>\n",
       "    </tr>\n",
       "  </thead>\n",
       "  <tbody>\n",
       "    <tr>\n",
       "      <th>0</th>\n",
       "      <td>118384</td>\n",
       "      <td>VentureBeat</td>\n",
       "      <td>Is Groq the David to Nvidia's Goliath? Groq CE...</td>\n",
       "      <td>https://venturebeat.com/ai/is-groq-the-david-t...</td>\n",
       "      <td>1</td>\n",
       "      <td>2024-07-01</td>\n",
       "    </tr>\n",
       "    <tr>\n",
       "      <th>1</th>\n",
       "      <td>118383</td>\n",
       "      <td>VentureBeat</td>\n",
       "      <td>Runway's Gen-3 Alpha AI video model now availa...</td>\n",
       "      <td>https://venturebeat.com/ai/runways-gen-3-alpha...</td>\n",
       "      <td>1</td>\n",
       "      <td>2024-07-01</td>\n",
       "    </tr>\n",
       "    <tr>\n",
       "      <th>2</th>\n",
       "      <td>118382</td>\n",
       "      <td>The Verge</td>\n",
       "      <td>Instagram’s ‘Made with AI’ label swapped out f...</td>\n",
       "      <td>https://www.theverge.com/2024/7/1/24190026/met...</td>\n",
       "      <td>1</td>\n",
       "      <td>2024-07-01</td>\n",
       "    </tr>\n",
       "    <tr>\n",
       "      <th>3</th>\n",
       "      <td>118379</td>\n",
       "      <td>The Register</td>\n",
       "      <td>Lambda on the hunt for 'another $800M' to fuel...</td>\n",
       "      <td>https://www.theregister.com/2024/07/01/lambda_...</td>\n",
       "      <td>1</td>\n",
       "      <td>2024-07-01</td>\n",
       "    </tr>\n",
       "    <tr>\n",
       "      <th>4</th>\n",
       "      <td>118377</td>\n",
       "      <td>The Register</td>\n",
       "      <td>France poised to bring 'charges against Nvidia...</td>\n",
       "      <td>https://www.theregister.com/2024/07/01/french_...</td>\n",
       "      <td>1</td>\n",
       "      <td>2024-07-01</td>\n",
       "    </tr>\n",
       "    <tr>\n",
       "      <th>...</th>\n",
       "      <td>...</td>\n",
       "      <td>...</td>\n",
       "      <td>...</td>\n",
       "      <td>...</td>\n",
       "      <td>...</td>\n",
       "      <td>...</td>\n",
       "    </tr>\n",
       "    <tr>\n",
       "      <th>166</th>\n",
       "      <td>117962</td>\n",
       "      <td>Feedly AI</td>\n",
       "      <td>Nvidia rival Groq AI set to raise $300M in fun...</td>\n",
       "      <td>https://nypost.com/2024/07/01/business/nvidia-...</td>\n",
       "      <td>1</td>\n",
       "      <td>2024-07-01</td>\n",
       "    </tr>\n",
       "    <tr>\n",
       "      <th>167</th>\n",
       "      <td>117961</td>\n",
       "      <td>Feedly AI</td>\n",
       "      <td>Blackmagic Adds “No AI Training” Section to Cl...</td>\n",
       "      <td>https://nofilmschool.com/blackmagic-ai-trainin...</td>\n",
       "      <td>1</td>\n",
       "      <td>2024-07-01</td>\n",
       "    </tr>\n",
       "    <tr>\n",
       "      <th>168</th>\n",
       "      <td>117952</td>\n",
       "      <td>Business Insider</td>\n",
       "      <td>AI startup Abnormal Security is set to be valu...</td>\n",
       "      <td>https://www.businessinsider.com/abnormal-secur...</td>\n",
       "      <td>1</td>\n",
       "      <td>2024-07-01</td>\n",
       "    </tr>\n",
       "    <tr>\n",
       "      <th>169</th>\n",
       "      <td>117951</td>\n",
       "      <td>Business Insider</td>\n",
       "      <td>Elon Musk reveals how many Nvidia H100 chips h...</td>\n",
       "      <td>https://www.businessinsider.com/elon-musk-hint...</td>\n",
       "      <td>1</td>\n",
       "      <td>2024-07-01</td>\n",
       "    </tr>\n",
       "    <tr>\n",
       "      <th>170</th>\n",
       "      <td>117935</td>\n",
       "      <td>Ars Technica</td>\n",
       "      <td>Lightening the load: AI helps exoskeleton work...</td>\n",
       "      <td>https://arstechnica.com/science/2024/07/ai-hel...</td>\n",
       "      <td>1</td>\n",
       "      <td>2024-07-01</td>\n",
       "    </tr>\n",
       "  </tbody>\n",
       "</table>\n",
       "<p>171 rows × 6 columns</p>\n",
       "</div>"
      ],
      "text/plain": [
       "         id               src  \\\n",
       "0    118384       VentureBeat   \n",
       "1    118383       VentureBeat   \n",
       "2    118382         The Verge   \n",
       "3    118379      The Register   \n",
       "4    118377      The Register   \n",
       "..      ...               ...   \n",
       "166  117962         Feedly AI   \n",
       "167  117961         Feedly AI   \n",
       "168  117952  Business Insider   \n",
       "169  117951  Business Insider   \n",
       "170  117935      Ars Technica   \n",
       "\n",
       "                                                 title  \\\n",
       "0    Is Groq the David to Nvidia's Goliath? Groq CE...   \n",
       "1    Runway's Gen-3 Alpha AI video model now availa...   \n",
       "2    Instagram’s ‘Made with AI’ label swapped out f...   \n",
       "3    Lambda on the hunt for 'another $800M' to fuel...   \n",
       "4    France poised to bring 'charges against Nvidia...   \n",
       "..                                                 ...   \n",
       "166  Nvidia rival Groq AI set to raise $300M in fun...   \n",
       "167  Blackmagic Adds “No AI Training” Section to Cl...   \n",
       "168  AI startup Abnormal Security is set to be valu...   \n",
       "169  Elon Musk reveals how many Nvidia H100 chips h...   \n",
       "170  Lightening the load: AI helps exoskeleton work...   \n",
       "\n",
       "                                                   url  isAI article_date  \n",
       "0    https://venturebeat.com/ai/is-groq-the-david-t...     1   2024-07-01  \n",
       "1    https://venturebeat.com/ai/runways-gen-3-alpha...     1   2024-07-01  \n",
       "2    https://www.theverge.com/2024/7/1/24190026/met...     1   2024-07-01  \n",
       "3    https://www.theregister.com/2024/07/01/lambda_...     1   2024-07-01  \n",
       "4    https://www.theregister.com/2024/07/01/french_...     1   2024-07-01  \n",
       "..                                                 ...   ...          ...  \n",
       "166  https://nypost.com/2024/07/01/business/nvidia-...     1   2024-07-01  \n",
       "167  https://nofilmschool.com/blackmagic-ai-trainin...     1   2024-07-01  \n",
       "168  https://www.businessinsider.com/abnormal-secur...     1   2024-07-01  \n",
       "169  https://www.businessinsider.com/elon-musk-hint...     1   2024-07-01  \n",
       "170  https://arstechnica.com/science/2024/07/ai-hel...     1   2024-07-01  \n",
       "\n",
       "[171 rows x 6 columns]"
      ]
     },
     "execution_count": 15,
     "metadata": {},
     "output_type": "execute_result"
    }
   ],
   "source": [
    "SQLITE_DB = \"/Users/drucev/projects/AInewsbot/articles.db\"\n",
    "\n",
    "datestr = '2024-06-30'\n",
    "\n",
    "conn = sqlite3.connect(SQLITE_DB)\n",
    "\n",
    "c = conn.cursor()\n",
    "query = f\"select * from news_articles where article_date > '{datestr}' and isAI=1 order by id desc limit 171\"\n",
    "df = pd.read_sql_query(query, conn)\n",
    "df\n"
   ]
  },
  {
   "cell_type": "code",
   "execution_count": 16,
   "id": "83aae79f",
   "metadata": {},
   "outputs": [
    {
     "name": "stdout",
     "output_type": "stream",
     "text": [
      "https://www.futurity.org/artificial-intelligence-power-outages-3235522/\n"
     ]
    }
   ],
   "source": [
    "print(df.iloc[143].url)\n"
   ]
  },
  {
   "cell_type": "code",
   "execution_count": 17,
   "id": "b0060111",
   "metadata": {},
   "outputs": [
    {
     "name": "stdout",
     "output_type": "stream",
     "text": [
      "All files in htmldata have been deleted.\n",
      "Saving HTML files\n"
     ]
    }
   ],
   "source": [
    "# Fetch HTML files from sources\n",
    "# empty download directory\n",
    "DOWNLOAD_DIR = webscrape.DOWNLOAD_DIR\n",
    "\n",
    "# Iterate through the files in the directory and delete them\n",
    "for filename in os.listdir(DOWNLOAD_DIR):\n",
    "    file_path = os.path.join(DOWNLOAD_DIR, filename)\n",
    "    try:\n",
    "        if os.path.isfile(file_path) or os.path.islink(file_path):\n",
    "            os.unlink(file_path)\n",
    "        elif os.path.isdir(file_path):\n",
    "            shutil.rmtree(file_path)\n",
    "    except Exception as e:\n",
    "        print(f'Failed to delete {file_path}. Reason: {e}')\n",
    "\n",
    "print(f\"All files in {DOWNLOAD_DIR} have been deleted.\")\n",
    "\n",
    "# save each file specified from sources\n",
    "print(\"Saving HTML files\")\n"
   ]
  },
  {
   "cell_type": "code",
   "execution_count": 19,
   "id": "b1163ee7",
   "metadata": {},
   "outputs": [
    {
     "name": "stdout",
     "output_type": "stream",
     "text": [
      "Enqueuing URLs\n"
     ]
    }
   ],
   "source": [
    "# Create a queue for multiprocessing and populate it \n",
    "print(\"Enqueuing URLs\")\n",
    "\n",
    "queue = multiprocessing.Queue()\n",
    "for row in df.itertuples():\n",
    "    queue.put((row.url, row.title))"
   ]
  },
  {
   "cell_type": "code",
   "execution_count": null,
   "id": "e6c23ca2",
   "metadata": {},
   "outputs": [],
   "source": [
    "# webscrape.get_url('https://www.theregister.com/2024/07/01/database_ai_training/')\n",
    "# "
   ]
  },
  {
   "cell_type": "code",
   "execution_count": 20,
   "id": "df51bf8d",
   "metadata": {},
   "outputs": [],
   "source": [
    "# process queue asynchronously\n",
    "\n",
    "# Function to take the queue and pop entries off and process until none are left\n",
    "# lets you create an array of functions with different args\n",
    "def process_queue_factory(q):\n",
    "    def process_queue():\n",
    "        # launch browser via selenium driver\n",
    "        driver = webscrape.get_driver()    \n",
    "        saved_pages = []\n",
    "        while not q.empty():\n",
    "            url, title = q.get()\n",
    "            webscrape.log(f'Processing {url}')\n",
    "            savefile = webscrape.get_url(url, driver)\n",
    "            saved_pages.append((url, title, savefile))\n",
    "        # Close the browser\n",
    "        webscrape.log(\"Quit webdriver\")\n",
    "        driver.quit()\n",
    "        return saved_pages\n",
    "    return process_queue\n",
    "\n",
    "callable = process_queue_factory(queue)\n",
    "# saved_pages = callable()\n",
    "\n",
    "def launch_drivers(num_drivers):\n",
    "    with ThreadPoolExecutor(max_workers=num_drivers) as executor:\n",
    "        # Create a list of future objects\n",
    "        futures = [executor.submit(callable) for _ in range(num_drivers)]\n",
    "        \n",
    "        # Collect the results (web drivers) as they complete\n",
    "        retarray = [future.result() for future in as_completed(futures)]\n",
    "        \n",
    "    return retarray\n",
    "\n",
    "results = launch_drivers(4)\n"
   ]
  },
  {
   "cell_type": "code",
   "execution_count": 21,
   "id": "580f687c",
   "metadata": {},
   "outputs": [
    {
     "data": {
      "text/plain": [
       "[('https://www.theregister.com/2024/07/01/french_nvidia_competition/',\n",
       "  \"France poised to bring 'charges against Nvidia'Euro nation's monopoly gendarmes cheesed off with GPU giant's dominanceAI + ML37 mins|\",\n",
       "  'htmldata/France_poised_to_bring__charges_against_Nvidia____The_Register_20240701_211412.html'),\n",
       " ('https://www.reddit.com/r/technology/comments/1dsvefb/googles_ai_search_summaries_use_10x_more_energy/',\n",
       "  \"Google's AI search summaries use 10x more energy than just doing a normal Google search\",\n",
       "  'htmldata/Google_s_AI_search_summaries_use_10x_more_energy_than_just_doing_a_normal_Google_search___r_technology_20240701_211424.html'),\n",
       " ('https://hackernoon.com/from-zero-to-ai-image-analyzer-in-5-minutes-a-beginners-guide',\n",
       "  \"From Zero to AI Image Analyzer in 5 Minutes: A Beginner's Guide\",\n",
       "  'htmldata/From_Zero_to_AI_Image_Analyzer_in_5_Minutes__A_Beginner_s_Guide___HackerNoon_20240701_211435.html'),\n",
       " ('https://hackernoon.com/life-in-2050-according-to-gemini-15-pro',\n",
       "  'Life in 2050 According to Gemini 1.5 Pro',\n",
       "  'htmldata/Life_in_2050_According_to_Gemini_1_5_Pro___HackerNoon_20240701_211446.html'),\n",
       " ('https://news.google.com/articles/CBMiV2h0dHBzOi8vd3d3LnlhaG9vLmNvbS90ZWNoL3NtYXJ0cGhvbmUtY29tcGFueS1kb2luZy1zb21ldGhpbmctaW5jcmVkaWJsZS0xNzUyMDEzNDAuaHRtbNIBAA',\n",
       "  'This smartphone company is doing something incredible to stop deepfakes',\n",
       "  'htmldata/This_smartphone_company_is_doing_something_incredible_to_stop_deepfakes_20240701_211457.html'),\n",
       " ('https://news.google.com/articles/CBMiWWh0dHBzOi8vd3d3LmV4cHJlc3MuY28udWsvc3BvcnQvdGVubmlzLzE5MTc2Nzcvd2ltYmxlZG9uLWFpLWVtbWEtcmFkdWNhbnUtbmFtZWQtYnJpdGlzaC0x0gFdaHR0cHM6Ly93d3cuZXhwcmVzcy5jby51ay9zcG9ydC90ZW5uaXMvMTkxNzY3Ny93aW1ibGVkb24tYWktZW1tYS1yYWR1Y2FudS1uYW1lZC1icml0aXNoLTEvYW1w',\n",
       "  \"Wimbledon fans slam tournament's AI after Emma Raducanu blunder\",\n",
       "  'htmldata/Wimbledon_fans_slam_AI_after_Emma_Raducanu_is_named_British_No_1___Tennis___Sport___Express_co_uk_20240701_211509.html'),\n",
       " ('https://news.google.com/articles/CBMiX2h0dHBzOi8vbnlwb3N0LmNvbS8yMDI0LzA3LzAxL2J1c2luZXNzL252aWRpYS1yaXZhbC1ncm9xLWFpLXNldC10by1yYWlzZS0zMDBtLWluLWZ1bmRpbmctcm91bmQv0gEA',\n",
       "  'Nvidia rival Groq AI set to raise $300M in funding round',\n",
       "  'htmldata/Nvidia_rival_Groq_AI_set_to_raise__300M_in_funding_round_20240701_211519.html'),\n",
       " ('https://news.google.com/articles/CBMiYWh0dHBzOi8vd3d3LmNubi5jb20vMjAyNC8wNy8wMS9zdHlsZS9qZXN1cy1haS1hcnRpZmljaWFsLWludGVsbGlnZW5jZS1zb2NpYWwtbWVkaWEtY2VjL2luZGV4Lmh0bWzSAVpodHRwczovL2FtcC5jbm4uY29tL2Nubi8yMDI0LzA3LzAxL3N0eWxlL2plc3VzLWFpLWFydGlmaWNpYWwtaW50ZWxsaWdlbmNlLXNvY2lhbC1tZWRpYS1jZWM',\n",
       "  'AI pictures of Jesus on social media are suspiciously rugged — and we only have ourselves to blame',\n",
       "  'htmldata/AI_images_of_Jesus_are_suspiciously_handsome__We_only_have_ourselves_to_blame___CNN_20240701_211530.html'),\n",
       " ('https://news.google.com/articles/CBMiZWh0dHBzOi8vd3d3LmVzZ3RvZGF5LmNvbS9jbzItYWktbGF1bmNoZXMtZ2VuZXJhdGl2ZS1haS1wb3dlcmVkLXByb2R1Y3QtZW1pc3Npb25zLWFzc2Vzc21lbnQtc29sdXRpb24v0gEA',\n",
       "  'CO2 AI Launches Generative AI-Powered Product Emissions Footprinting Solution',\n",
       "  'htmldata/CO2_AI_Launches_Generative_AI-Powered_Product_Emissions_Footprinting_Solution_-_ESG_Today_20240701_211540.html'),\n",
       " ('https://news.google.com/articles/CBMiY2h0dHBzOi8vd3d3LnRoZXZlcmdlLmNvbS8yMDI0LzcvMS8yNDE5MDAyNi9tZXRhLWluc3RhZ3JhbS1mYWNlYm9vay1tYWRlLXdpdGgtYWktaW5mby1sYWJlbC1tZXRhZGF0YdIBAA',\n",
       "  \"Instagram's “Made with AI” label swapped out for “AI info” after photographers' complaints\",\n",
       "  'htmldata/Instagram_s__Made_with_AI__label_swapped_out_for__AI_info__after_photographers__complaints_-_The_Verge_20240701_211551.html'),\n",
       " ('https://news.google.com/articles/CBMiR2h0dHBzOi8vd3d3LmZ1dHVyaXR5Lm9yZy9hcnRpZmljaWFsLWludGVsbGlnZW5jZS1wb3dlci1vdXRhZ2VzLTMyMzU1MjIv0gEA',\n",
       "  'Artificial intelligence could prevent power outages',\n",
       "  'htmldata/Artificial_intelligence_could_prevent_power_outages_-_Futurity_20240701_211601.html'),\n",
       " ('https://news.google.com/articles/CBMiPWh0dHBzOi8vd25nLm9yZy9vcGluaW9ucy9haS1hbmQtdGhlLXRvd2VyLW9mLWJhYmVsLTE3MTk4MjgyMDXSAQA',\n",
       "  'AI and the Tower of Babel | WORLD',\n",
       "  'htmldata/AI_and_the_Tower_of_Babel___WORLD_20240701_211611.html'),\n",
       " ('https://news.google.com/articles/CBMiP2h0dHBzOi8vd3d3LnRoZXJlZ2lzdGVyLmNvbS8yMDI0LzA3LzAxL3NrX2h5bml4X2hibV9pbnZlc3RtZW50L9IBQ2h0dHBzOi8vd3d3LnRoZXJlZ2lzdGVyLmNvbS9BTVAvMjAyNC8wNy8wMS9za19oeW5peF9oYm1faW52ZXN0bWVudC8',\n",
       "  'SK hynix pumps billions into HBM chips to meet AI demand',\n",
       "  'htmldata/SK_hynix_pumps_billions_into_HBM_chips_to_meet_AI_demand___The_Register_20240701_211622.html'),\n",
       " ('https://news.google.com/articles/CBMiTWh0dHBzOi8vdHJpYnVuZS5uZXQucGgvMjAyNC8wNi8yOS9haXJsaW5lLWhhcm5lc3Nlcy1haS1hcy1zZXJ2aWNlLWVuaGFuY2VtZW500gFXaHR0cHM6Ly90cmlidW5lLm5ldC5waC9hbXAvc3RvcnkvMjAyNC8wNi8yOS9haXJsaW5lLWhhcm5lc3Nlcy1haS1hcy1zZXJ2aWNlLWVuaGFuY2VtZW50',\n",
       "  'Airline harnesses AI as service enhancement',\n",
       "  'htmldata/Airline_harnesses_AI_as_service_enhancement_20240701_211632.html'),\n",
       " ('https://news.google.com/articles/CBMiUWh0dHBzOi8vZmluYW5jZS55YWhvby5jb20vbmV3cy9icmlkZ2V3YXRlci1sYXVuY2hlcy0yLWJpbGxpb24tZnVuZC0xNTAwMDA5OTIuaHRtbNIBAA',\n",
       "  'Bridgewater Launches $2 Billion Fund Run by Machine Learning',\n",
       "  'htmldata/Bridgewater_Launches__2_Billion_Fund_Run_by_Machine_Learning_20240701_211643.html'),\n",
       " ('https://news.google.com/articles/CBMiT2h0dHBzOi8vZmluYW5jZS55YWhvby5jb20vbmV3cy90cmFkaW5nLWFwcC1yb2Jpbmhvb2QtYWdyZWVzLWRlYWwtMTczNTQ4MTk5Lmh0bWzSAQA',\n",
       "  'Trading app Robinhood agrees deal with Pluto Capital to tap into AI',\n",
       "  'htmldata/Trading_app_Robinhood_agrees_deal_with_Pluto_Capital_to_tap_into_AI_20240701_211653.html'),\n",
       " ('https://news.google.com/articles/CBMigQFodHRwczovL3d3dy5mb3JiZXMuY29tL3NpdGVzL2plbm5pZmVya2l0ZXBvd2VsbC8yMDI0LzA2LzI5L3RoaXMtbWl0LXN0dWR5LWxvb2tzLWF0LWhvdy1zb2Z0LXJvYm90aWMtaGFuZHMtY2FuLXBhY2stb3VyLWdyb2Nlcmllcy_SAQA',\n",
       "  'This MIT Study Looks At How Soft Robotic Hands Can Pack Our Groceries',\n",
       "  'htmldata/This_MIT_Study_Looks_At_How_Soft_Robotic_Hands_Can_Pack_Our_Groceries_20240701_211703.html'),\n",
       " ('https://news.google.com/articles/CBMie2h0dHBzOi8vd3d3LmVuZ2FkZ2V0LmNvbS9tZXRhLWNoYW5nZXMtaXRzLWxhYmVscy1mb3ItYWktZ2VuZXJhdGVkLWltYWdlcy1hZnRlci1jb21wbGFpbnRzLWZyb20tcGhvdG9ncmFwaGVycy0xOTE1MzM0MTYuaHRtbNIBAA',\n",
       "  'Meta changes its labels for AI-generated images after complaints from photographers',\n",
       "  'htmldata/Meta_changes_its_labels_for_AI-generated_images_after_complaints_from_photographers_20240701_211714.html'),\n",
       " ('https://news.google.com/articles/CBMifGh0dHBzOi8vd3d3LmNuYmMuY29tL3ZpZGVvLzIwMjQvMDcvMDEvYXBwbGVzLWFpLWZlYXR1cmVzLXdpbGwtY3JlYXRlLWdyb3VuZHN3ZWxsLW9mLWRlbWFuZC1zYXlzLWRlZXB3YXRlcnMtZ2VuZS1tdW5zdGVyLmh0bWzSAQA',\n",
       "  \"Apple's AI features will create groundswell of demand, says Deepwater's Gene Munster\",\n",
       "  'htmldata/Apple_s_AI_features_will_create_groundswell_of_demand__says_Deepwater_s_Gene_Munster_20240701_211724.html'),\n",
       " ('https://news.google.com/articles/CBMitQFodHRwczovL3d3dy5idXNpbmVzc3RvZGF5LmluL3RlY2hub2xvZ3kvbmV3cy9zdG9yeS9taWNyb3NvZnQtYWktaGVhZC1tdXN0YWZhLXN1bGV5bWFuLXNheXMtYW55b25lLWNhbi11c2UtaW5mb3JtYXRpb24tb24taW50ZXJuZXQtdG8tdHJhaW4tdGhlaXItYWktbW9kZWxzLWZvci1mcmVlLTQzNTMyNy0yMDI0LTA3LTAx0gEA',\n",
       "  'Microsoft AI head Mustafa Suleyman says anyone can use information on internet to train their AI models for free',\n",
       "  'htmldata/Microsoft_AI_head_Mustafa_Suleyman_says_anyone_can_use_information_on_internet_to_train_their_AI_models_for_free_-_BusinessToday_20240701_211734.html'),\n",
       " ('https://news.google.com/articles/CBMiiwFodHRwczovL3RoZWNvbnZlcnNhdGlvbi5jb20vZGlzYWJpbGl0eS1jb21tdW5pdHktaGFzLWxvbmctd3Jlc3RsZWQtd2l0aC1oZWxwZnVsLXRlY2hub2xvZ2llcy1sZXNzb25zLWZvci1ldmVyeW9uZS1pbi1kZWFsaW5nLXdpdGgtYWktMjI3OTc50gEA',\n",
       "  \"Disability community has long wrestled with 'helpful' technologies – lessons for everyone in dealing with AI\",\n",
       "  'htmldata/Disability_community_has_long_wrestled_with__helpful__technologies___lessons_for_everyone_in_dealing_with_AI_20240701_211745.html'),\n",
       " ('https://news.google.com/articles/CBMijgFodHRwczovL3d3dy5hbmFseXRpY3NpbnNpZ2h0Lm5ldC9hcnRpZmljaWFsLWludGVsbGlnZW5jZS90aGUtaW50ZXJzZWN0aW9uLW9mLWFpLWFuZC1hY2Nlc3NpYmlsaXR5LWhvdy1hb2RhLWlzLXNoYXBpbmctaW5jbHVzaXZlLWFpLWRldmVsb3BtZW500gGYAWh0dHBzOi8vd3d3LmFuYWx5dGljc2luc2lnaHQubmV0L2FtcC9zdG9yeS9hcnRpZmljaWFsLWludGVsbGlnZW5jZS90aGUtaW50ZXJzZWN0aW9uLW9mLWFpLWFuZC1hY2Nlc3NpYmlsaXR5LWhvdy1hb2RhLWlzLXNoYXBpbmctaW5jbHVzaXZlLWFpLWRldmVsb3BtZW50',\n",
       "  'The Intersection of AI and Accessibility: How AODA Is Shaping Inclusive AI Development?',\n",
       "  'htmldata/The_Intersection_of_AI_and_Accessibility__How_AODA_Is_Shaping_Inclusive_AI_Development__20240701_211755.html'),\n",
       " ('https://news.google.com/articles/CBMinAFodHRwczovL3d3dy5hdW50bWlubmllLmNvbS9pbWFnaW5nLWluZm9ybWF0aWNzL2FydGlmaWNpYWwtaW50ZWxsaWdlbmNlL2FydGljbGUvMTU2Nzg1NDgvYmF5ZXItaGVhbHRoY2FyZS1iYXllci1yYWQtYWktdG8taW50ZWdyYXRlLWFpLXNvZnR3YXJlLWludG8tY2FsYW50aWPSAQA',\n",
       "  'Bayer, Rad AI to integrate AI software into Calantic',\n",
       "  'htmldata/Bayer__Rad_AI_to_integrate_AI_software_into_Calantic___AuntMinnie_20240701_211805.html'),\n",
       " ('https://news.google.com/articles/CBMibGh0dHBzOi8vd3d3Lm1hcmtldHdhdGNoLmNvbS9zdG9yeS9haS1vcHRpbWlzbS1jb3VsZC1ib29zdC1zLXAtNTAwLXRvLTctMDAwLW5leHQteWVhci1zYXlzLWVjb25vbWlzdC03MGMwYmQ5MtIBcGh0dHBzOi8vd3d3Lm1hcmtldHdhdGNoLmNvbS9hbXAvc3RvcnkvYWktb3B0aW1pc20tY291bGQtYm9vc3Qtcy1wLTUwMC10by03LTAwMC1uZXh0LXllYXItc2F5cy1lY29ub21pc3QtNzBjMGJkOTI',\n",
       "  'AI optimism could boost S&P 500 to 7,000 next year, says economist',\n",
       "  'htmldata/AI_optimism_could_boost_S_P_500_to_7_000_next_year__says_economist_-_MarketWatch_20240701_211816.html'),\n",
       " ('https://news.google.com/articles/CBMiaWh0dHBzOi8vd3d3LmZveG5ld3MuY29tL2VudGVydGFpbm1lbnQvbW9yZ2FuLWZyZWVtYW4tY2FsbHMtYWktZGVlcGZha2Utc2NhbS1hZnRlci12b2ljZS1yZXBsaWNhdGVkLXRpa3Rva9IBbWh0dHBzOi8vd3d3LmZveG5ld3MuY29tL2VudGVydGFpbm1lbnQvbW9yZ2FuLWZyZWVtYW4tY2FsbHMtYWktZGVlcGZha2Utc2NhbS1hZnRlci12b2ljZS1yZXBsaWNhdGVkLXRpa3Rvay5hbXA',\n",
       "  \"Morgan Freeman calls AI deepfake a 'scam' after his voice is replicated on TikTok\",\n",
       "  'htmldata/Morgan_Freeman_calls_AI_deepfake_a__scam__after_his_voice_is_replicated_on_TikTok___Fox_News_20240701_211826.html'),\n",
       " ('https://news.google.com/articles/CBMid2h0dHBzOi8vd3d3LmludmVzdGluZy5jb20vbmV3cy9jcnlwdG9jdXJyZW5jeS1uZXdzL2JpdGNvaW4tbWluaW5nLXN0b2Nrcy1yYWxseS1pbi1qdW5lLWFtaWQtYWktZnJlbnp5LS1qcG1vcmdhbi0zNTAzMzc00gEA',\n",
       "  'Bitcoin mining stocks rally in June amid AI frenzy - JPMorgan By Investing.com',\n",
       "  'htmldata/Bitcoin_mining_stocks_rally_in_June_amid_AI_frenzy_-_JPMorgan_By_Investing_com_20240701_211836.html'),\n",
       " ('https://news.google.com/articles/CBMibWh0dHBzOi8vdmlkZW9jYXJkei5jb20vbmV3ei9hbWQtcnl6ZW4tYWktMzAwLXN0cml4LXBvaW50LXJldmlld3MtYW5kLXNhbGVzLWVtYmFyZ28tcmVwb3J0ZWRseS1zZXQtZm9yLWp1bHktMjjSAQA',\n",
       "  'AMD Ryzen AI 300 \"Strix Point\" Reviews and Sales embargo reportedly set for July 28',\n",
       "  'htmldata/AMD_Ryzen_AI_300__Strix_Point__Reviews_and_Sales_embargo_reportedly_set_for_July_28_-_VideoCardz_com_20240701_211847.html'),\n",
       " ('https://news.google.com/articles/CBMicGh0dHBzOi8vd3d3LmJsb29tYmVyZy5jb20vbmV3cy9hcnRpY2xlcy8yMDI0LTA3LTAxL3JvYmluaG9vZC1hY3F1aXJlcy1haS1kcml2ZW4taW52ZXN0bWVudC1hZHZpY2UtcGxhdGZvcm0tcGx1dG_SAQA',\n",
       "  'Robinhood Acquires AI-Driven Investment-Advice Platform Pluto',\n",
       "  'htmldata/Robinhood_Acquires_AI-Driven_Investment-Advice_Platform_Pluto_-_Bloomberg_20240701_211857.html'),\n",
       " ('https://www.engadget.com/meta-changes-its-labels-for-ai-generated-images-after-complaints-from-photographers-191533416.html',\n",
       "  'Meta changes its labels for AI-generated images after complaints from photographers',\n",
       "  'htmldata/Meta_changes_its_labels_for_AI-generated_images_after_complaints_from_photographers_20240701_211908.html'),\n",
       " ('https://www.engadget.com/new-youtube-policy-lets-you-request-the-removal-of-ai-generated-content-that-uses-your-likeness-211522438.html',\n",
       "  'New YouTube policy lets you request the removal of AI-generated content that uses your likeness',\n",
       "  'htmldata/New_YouTube_policy_lets_you_request_the_removal_of_AI-generated_content_that_uses_your_likeness_20240701_211918.html'),\n",
       " ('https://hoodline.com/2024/07/montgomery-county-man-charged-with-crafting-child-porn-using-a-i-tech/',\n",
       "  'Montgomery County Man Charged with Crafting Child Porn Using A.I. Tech',\n",
       "  'htmldata/Montgomery_County_Man_Charged_with_Crafting_Child_Porn_Using_A_I__Tech_20240701_211930.html'),\n",
       " ('https://www.bustle.com/life/planning-vacation-itinerary-ai',\n",
       "  'I’m The Worst At Planning Trips, So I Made AI My Travel Agent',\n",
       "  'htmldata/Planning_A_Vacation_Itinerary_With_AI_Was_Surprisingly_Easy_20240701_211940.html'),\n",
       " ('https://www.bloomberg.com/news/articles/2024-07-01/northern-data-weighs-ai-unit-us-ipo-at-up-to-16-billion-value',\n",
       "  'Northern Data Weighs AI Unit US IPO at Up to $16 Billion Value',\n",
       "  'htmldata/Northern_Data_Weighs_AI_Unit_US_IPO_at_Up_to__16_Billion_Value_-_Bloomberg_20240701_211951.html'),\n",
       " ('https://247wallst.com/investing/2024/07/01/this-is-my-top-artificial-intelligence-ai-etf-to-buy-right-now/',\n",
       "  'This Is My TopArtificial Intelligence(AI) ETF to Buy Right Now',\n",
       "  'htmldata/This_Is_My_Top_Artificial_Intelligence__AI__ETF_to_Buy_Right_Now_-_24_7_Wall_St__20240701_212002.html'),\n",
       " ('https://www.latimes.com/entertainment-arts/business/story/2024-07-01/iatse-deal-terms-summary',\n",
       "  \"What's in the new IATSE deal? Wage increases, AI rules and more\",\n",
       "  'htmldata/IATSE_releases_summary_of_new_deal__AI__wage_increases__etc__-_Los_Angeles_Times_20240701_212013.html'),\n",
       " ('https://aws.amazon.com/blogs/machine-learning/build-a-self-service-digital-assistant-using-amazon-lex-and-knowledge-bases-for-amazon-bedrock/',\n",
       "  'Build a self-service digital assistant using Amazon Lex and Knowledge Bases for Amazon Bedrock',\n",
       "  'htmldata/Build_a_self-service_digital_assistant_using_Amazon_Lex_and_Knowledge_Bases_for_Amazon_Bedrock___AWS_Machine_Learning_Blog_20240701_212024.html'),\n",
       " ('https://futurism.com/the-byte/microsoft-skeleton-key-ai-chatbot-jailbreak',\n",
       "  'Microsoft Acknowledges \"Skeleton Key\" Exploit That Enables Strikingly Evil Outputs on Almost Any AI',\n",
       "  'htmldata/Microsoft_Acknowledges__Skeleton_Key__Exploit_That_Enables_Strikingly_Evil_Outputs_on_Almost_Any_AI_20240701_212036.html'),\n",
       " ('https://www.tvguide.com/news/sunny-review-apple-tv/',\n",
       "  \"Sunny Review: Apple TV+'s Dark Comedy Is a Unique Take on Our Fears About AI\",\n",
       "  'htmldata/Sunny_Review__Apple_TV__s_Dark_Comedy_Is_a_Unique_Take_on_Our_Fears_About_AI_-_TV_Guide_20240701_212047.html'),\n",
       " ('https://www.schneier.com/blog/archives/2024/07/upcoming-book-on-ai-and-democracy.html',\n",
       "  'Upcoming Book on AI and Democracy',\n",
       "  'htmldata/Page_Not_Found_-_Schneier_on_Security_20240701_212058.html'),\n",
       " ('https://www.thegamer.com/need-another-term-generative-ai-video-game-enemy-behavior/',\n",
       "  'We Really Need Another Term For AI',\n",
       "  'htmldata/We_Really_Need_Another_Term_For_AI_20240701_212110.html'),\n",
       " ('https://om.co/2024/07/01/individual-vs-ai-why-personal-matters/',\n",
       "  'Individual vs AI: Why Personal Matters',\n",
       "  'htmldata/Individual_vs_AI__Why_Personal_Matters___On_my_Om_20240701_212121.html'),\n",
       " ('https://nofilmschool.com/blackmagic-ai-training-stance',\n",
       "  'Blackmagic Adds “No AI Training” Section to Cloud Login Page',\n",
       "  'htmldata/Blackmagic_Adds__No_AI_Training__Section_to_Cloud_Login_Page___No_Film_School_20240701_212131.html'),\n",
       " ('https://www.theregister.com/2024/07/01/sk_hynix_hbm_investment/',\n",
       "  \"SK hynix pumps billions into HBM chips to meet AI demandIt's already sold out of stock for this year and nextStorage6 hrs|\",\n",
       "  'htmldata/SK_hynix_pumps_billions_into_HBM_chips_to_meet_AI_demand___The_Register_20240701_211412.html'),\n",
       " ('https://www.reddit.com/r/technology/comments/1dsqbxo/invisible_assassins_new_nanobots_detonate_hidden/',\n",
       "  'Invisible assassins: New nanobots detonate hidden weapons to kill cancer | The nanorobot’s weapon activates in the acidic microenvironment around cancer cells, triggered by their low pH levels.',\n",
       "  'htmldata/Invisible_assassins__New_nanobots_detonate_hidden_weapons_to_kill_cancer___The_nanorobot_s_weapon_activates_in_the_acidic_microenvironment_around_cancer_cells__triggered_by_their_low_pH_levels____r_te_20240701_211423.html'),\n",
       " ('https://www.reddit.com/r/technews/comments/1dsvhp8/why_doesnt_facebook_just_ban_ai_slop_like_shrimp/',\n",
       "  \"Why doesn't Facebook just ban AI slop like Shrimp Jesus?\",\n",
       "  'htmldata/Why_doesn_t_Facebook_just_ban_AI_slop_like_Shrimp_Jesus____r_technews_20240701_211434.html'),\n",
       " ('https://hackernoon.com/life-in-2050-according-to-jail-broken-gpt-4o',\n",
       "  'Life in 2050 According to Jail-Broken GPT-4o',\n",
       "  'htmldata/Life_in_2050_According_to_Jail-Broken_GPT-4o___HackerNoon_20240701_211445.html'),\n",
       " ('https://www.theverge.com/2024/7/1/24190060/amazon-adept-ai-acquisition-playbook-microsoft-inflection',\n",
       "  \"Big Tech's playbook for swallowing the AI industry\",\n",
       "  'htmldata/How_Amazon_s_hiring_of_Adept_AI_startup_avoids_antitrust_scrutiny_-_The_Verge_20240701_211456.html'),\n",
       " ('https://news.google.com/articles/CBMiW2h0dHBzOi8vaW52ZXN0b3JwbGFjZS5jb20vMjAyNC8wNy90aGUtMy1iZXN0LWFpLXN1cHBseS1jaGFpbi1zdG9ja3MtZm9yLWxvbmctdGVybS1leHBvc3VyZS_SAQA',\n",
       "  'The 3 Best AI Supply Chain Stocks for Long-Term Exposure',\n",
       "  'htmldata/The_3_Best_AI_Supply_Chain_Stocks_for_Long-Term_Exposure___InvestorPlace_20240701_211508.html'),\n",
       " ('https://news.google.com/articles/CBMiVmh0dHBzOi8vd3d3LmZhc3Rjb21wYW55LmNvbS85MTE0Njg2Mi9wb3YtaHItZGVwYXJ0bWVudHMtbmVlZC10by1mZWFyLWFpcy1yYWNpYWwtYmlhc2Vz0gEA',\n",
       "  \"POV: HR departments need to fear AI's racial biases\",\n",
       "  'htmldata/POV__HR_departments_need_to_fear_AI_s_racial_biases_-_Fast_Company_20240701_211519.html'),\n",
       " ('https://news.google.com/articles/CBMiYGh0dHBzOi8vd3d3Lnd2dG0xMy5jb20vYXJ0aWNsZS91bml2ZXJzaXR5LW9mLWFsYWJhbWEtZm9jdXNlcy1vbi1hcnRpZmljaWFsLWludGVsbGlnZW5jZS82MTQ3MTgzNdIBAA',\n",
       "  'University of Alabama focuses on artificial intelligence',\n",
       "  'htmldata/University_of_Alabama_focuses_on_artificial_intelligence_20240701_211530.html'),\n",
       " ('https://news.google.com/articles/CBMiZWh0dHBzOi8vdWsuaW52ZXN0aW5nLmNvbS9uZXdzL3N0b2NrLW1hcmtldC1uZXdzL3RoZS1haS1ib29tLWNvdWxkLXNlbmQtc3AtNTAwLXRvLTY2NjYtLXNvY2dlbi0zNTYyNzk40gEA',\n",
       "  'The AI boom could send S&P 500 to 6666 - SocGen By Investing.com',\n",
       "  'htmldata/The_AI_boom_could_send_S_P_500_to_6_666_-_SocGen_By_Investing_com_20240701_211540.html'),\n",
       " ('https://news.google.com/articles/CBMiXGh0dHBzOi8vd3d3LmZvb2wuY29tL2ludmVzdGluZy8yMDI0LzA3LzAxL2Nhbi1udmlkaWEtc3RvY2stY3Jvc3MtMTAwMC1hZ2Fpbi1hZnRlci10aGUtc3RvY2sv0gEA',\n",
       "  'Can Nvidia Stock Cross $1,000 Again After the Stock Split?',\n",
       "  'htmldata/Can_Nvidia_Stock_Cross__1_000_Again_After_the_Stock_Split____The_Motley_Fool_20240701_211551.html'),\n",
       " ('https://news.google.com/articles/CBMiRmh0dHBzOi8vd3d3LnBvcHNjaS5jb20vdGVjaG5vbG9neS9ncm9jZXJ5LWJhZ2dpbmctcm9ib3Qtc2VsZi1jaGVja291dC_SAQA',\n",
       "  'Can grocery-bagging robots make self-checkout less of a pain?',\n",
       "  'htmldata/Can_grocery-bagging_robots_make_self-checkout_less_of_a_pain____Popular_Science_20240701_211601.html'),\n",
       " ('https://news.google.com/articles/CBMiPmh0dHBzOi8vbGlmZWhhY2tlci5jb20vdGVjaC9uZXctY29waWxvdC1mZWF0dXJlcy1taWNyb3NvZnQtMzY10gEA',\n",
       "  'Seven New Copilot Features in Microsoft 365',\n",
       "  'htmldata/Seven_New_Copilot_Features_in_Microsoft_365___Lifehacker_20240701_211611.html'),\n",
       " ('https://news.google.com/articles/CBMiZmh0dHBzOi8vd3d3LnJldXRlcnMuY29tL3RlY2hub2xvZ3kvYXBwbGUtbWV0YS1oYXZlLWRpc2N1c3NlZC1hbi1haS1wYXJ0bmVyc2hpcC13c2otcmVwb3J0cy0yMDI0LTA2LTIzL9IBAA',\n",
       "  'Apple and Meta have discussed AI partnership, WSJ reports',\n",
       "  'htmldata/Apple_and_Meta_have_discussed_AI_partnership__WSJ_reports___Reuters_20240701_211622.html'),\n",
       " ('https://news.google.com/articles/CBMiTWh0dHBzOi8vcXouY29tL2JpZy10ZWNoLW51Y2xlYXItcG93ZXItcGxhbnRzLWFpLWVuZXJneS1lbGVjdHJpY2l0eS0xODUxNTY5Nzk20gEA',\n",
       "  'Big Tech is turning to nuclear power because it needs more energy for AI',\n",
       "  'htmldata/Big_Tech_turns_to_nuclear_power_for_AI_electricity_20240701_211632.html'),\n",
       " ('https://news.google.com/articles/CBMiUGh0dHBzOi8vd3d3LmZvcmJlcy5jb20vc2l0ZXMvcnlhbmNyYWlnLzIwMjQvMDYvMjgvYWktd2lsbC1zaHJpbmstdGhlLXVuaXZlcnNpdHkv0gEA',\n",
       "  'AI Will Shrink The University',\n",
       "  'htmldata/AI_Will_Shrink_The_University_20240701_211642.html'),\n",
       " ('https://news.google.com/articles/CBMiSmh0dHBzOi8vdGVjaHhwbG9yZS5jb20vbmV3cy8yMDI0LTA2LXRlY2huaXF1ZS1haW1zLWFpLXNvY2lhbGx5LWJpYXNlZC5odG1s0gEA',\n",
       "  'Researchers develop new training technique that aims to make AI systems less socially biased',\n",
       "  'htmldata/Researchers_develop_new_training_technique_that_aims_to_make_AI_systems_less_socially_biased_20240701_211653.html'),\n",
       " ('https://news.google.com/articles/CBMigAFodHRwczovL3d3dy5taWxpdGFyeWFlcm9zcGFjZS5jb20vY29tbWVyY2lhbC1hZXJvc3BhY2UvYXJ0aWNsZS81NTA5MDgxOS9mYWEtd2FudHMtaW5kdXN0cnktaW5wdXQtb24tdXNlLW9mLWFpLWluLWF2aWF0aW9uLXNhZmV0edIBAA',\n",
       "  'FAA wants industry input on use of AI in aviation safety',\n",
       "  'htmldata/FAA_wants_industry_input_on_use_of_AI_in_aviation_safety___Military_Aerospace_20240701_211703.html'),\n",
       " ('https://news.google.com/articles/CBMidmh0dHBzOi8vdGVjaGNydW5jaC5jb20vMjAyNC8wNy8wMS9tZXRhLWNoYW5nZXMtaXRzLWxhYmVsLWZyb20tbWFkZS13aXRoLWFpLXRvLWFpLWluZm8tdG8taW5kaWNhdGUtdXNlLW9mLWFpLWluLXBob3Rvcy_SAQA',\n",
       "  \"Meta changes its label from 'Made with AI' to 'AI info' to indicate use of AI in photos\",\n",
       "  'htmldata/Meta_changes_its_label_from__Made_with_AI__to__AI_info__to_indicate_use_of_AI_in_photos___TechCrunch_20240701_211713.html'),\n",
       " ('https://news.google.com/articles/CBMifGh0dHBzOi8vYXNpYS5uaWtrZWkuY29tL0J1c2luZXNzL1RlY2hub2xvZ3kvQXJ0aWZpY2lhbC1pbnRlbGxpZ2VuY2UvRnJvbS1JbmRvbmVzaWEtdG8tSW5kaWEtdG8tVS5TLi1BSS1jcmVlcHMtaW50by1lbGVjdGlvbnPSAQA',\n",
       "  'From Indonesia to India to U.S., AI creeps into elections',\n",
       "  'htmldata/From_Indonesia_to_India_to_U_S___AI_creeps_into_elections_-_Nikkei_Asia_20240701_211724.html'),\n",
       " ('https://news.google.com/articles/CBMiiwFodHRwczovL2Npby5lY29ub21pY3RpbWVzLmluZGlhdGltZXMuY29tL25ld3MvYnJhbmQtc29sdXRpb24vYWR2YW5jaW5nLWFpLWFuZC1hbmFseXRpY3MtaW5zaWdodHMtZnJvbS1zYXMtaW5ub3ZhdGUtb24tdG91ci1tdW1iYWkvMTExMzk1MDcx0gEA',\n",
       "  'Advancing AI and analytics: Insights from SAS Innovate on Tour Mumbai',\n",
       "  'htmldata/Advancing_AI_and_analytics__Insights_from_SAS_Innovate_on_Tour_Mumbai__ET_CIO_20240701_211734.html'),\n",
       " ('https://news.google.com/articles/CBMipgFodHRwczovL2hlYWx0aGltYWdpbmcuY29tL3RvcGljcy9oZWFsdGgtaXQvZW50ZXJwcmlzZS1pbWFnaW5nL2ltYWdpbmctaW5mb3JtYXRpY3MvYmF5ZXItYW5kLXJhZC1haS1leHBhbmQtYWNjZXNzLWFpLWFuZC1yYWRpb2xvZ3ktd29ya2Zsb3ctc29sdXRpb25zLW5ldy1jb2xsYWJvcmF0aW9u0gEA',\n",
       "  'Bayer and Rad AI expand access to AI and radiology workflow solutions with new collaboration',\n",
       "  'htmldata/Bayer_and_Rad_AI_expand_access_to_AI_and_radiology_workflow_solutions_with_new_collaboration_20240701_211745.html'),\n",
       " ('https://news.google.com/articles/CBMijgFodHRwczovL25ld3MuYWJwbGl2ZS5jb20vdGVjaG5vbG9neS9ob25vci1uZXctYWktcG93ZXJlZC1mZWF0dXJlcy10ZWNobm9sb2d5LXNwb3QtZGVlcGZha2VzLXJpc2Utb2YtY3liZXJjcmltZXMtZGVmb2N1cy1leWUtcHJvdGVjdGlvbi0xNjk5NTk20gGSAWh0dHBzOi8vbmV3cy5hYnBsaXZlLmNvbS90ZWNobm9sb2d5L2hvbm9yLW5ldy1haS1wb3dlcmVkLWZlYXR1cmVzLXRlY2hub2xvZ3ktc3BvdC1kZWVwZmFrZXMtcmlzZS1vZi1jeWJlcmNyaW1lcy1kZWZvY3VzLWV5ZS1wcm90ZWN0aW9uLTE2OTk1OTYvYW1w',\n",
       "  'Honor Unveils New AI-Powered Technology To Spot Deepfakes & Counter Rise Of Cybercrimes — Details',\n",
       "  'htmldata/Honor_Unveils_New_AI-Powered_Technology_To_Spot_Deepfakes___Counter_Rise_Of_Cybercrimes___Details_20240701_211755.html'),\n",
       " ('https://news.google.com/articles/CBMimwFodHRwczovL3RlY2guaGluZHVzdGFudGltZXMuY29tL21vYmlsZS9uZXdzL2Zyb20tc2Ftc3VuZy1nYWxheHktczI0LXRvLXJlYWxtZS1ndC02LWhlcmUtYXJlLXRvcC01LWFpLXNtYXJ0cGhvbmVzLXdpdGgtYWR2YW5jZWQtZmVhdHVyZXMtNzE3MTk2NTQ1ODQ3MTQuaHRtbNIBAA',\n",
       "  'Samsung Galaxy S24, Realme GT 6 and more: Here are top 5 AI smartphones with advanced features',\n",
       "  'htmldata/Samsung_Galaxy_S24__Realme_GT_6_and_more__Here_are_top_5_AI_smartphones_with_advanced_features___Mobile_News_20240701_211805.html'),\n",
       " ('https://news.google.com/articles/CBMib2h0dHBzOi8vd3d3LnRoZWluZm9ybWF0aW9uLmNvbS9hcnRpY2xlcy93aXRoLWFkZXB0LWRlYWwtYW1hem9uLWNvcGllcy1taWNyb3NvZnQtZG8tYnVzaW5lc3Nlcy1yZWFsbHktbmVlZC1ncHQtNdIBAA',\n",
       "  'With Adept Deal, Amazon Copies Microsoft; Do Businesses Really Need GPT-5?',\n",
       "  'htmldata/With_Adept_Deal__Amazon_Copies_Microsoft__Do_Businesses_Really_Need_GPT-5____The_Information_20240701_211816.html'),\n",
       " ('https://news.google.com/articles/CBMiaWh0dHBzOi8vd3d3LmNuYmMuY29tLzIwMjQvMDYvMjgvYW1hem9uLWhpcmVzLWV4ZWNzLWZyb20tYWktc3RhcnR1cC1hZGVwdC1hbmQtbGljZW5zZXMtaXRzLXRlY2hub2xvZ3kuaHRtbNIBAA',\n",
       "  'Amazon beefs up AI development, hiring execs from startup Adept and licensing its technology',\n",
       "  'htmldata/Amazon_hires_execs_from_AI_startup_Adept_and_licenses_its_technology_20240701_211826.html'),\n",
       " ('https://news.google.com/articles/CBMicmh0dHBzOi8vd3d3LnBlcmZvcm1hbmNlbWFya2V0aW5nd29ybGQuY29tL2FydGljbGUvMTg3ODc0OC9haS1wb2xpdGljYWwtYWR2ZXJ0aXNpbmctZ2FtZS1jaGFuZ2VyLWRvdWJsZS1lZGdlZC1zd29yZNIBAA',\n",
       "  'AI in political advertising: game-changer or double-edged sword?',\n",
       "  'htmldata/dda4bfe0-7d9a-41ab-8131-79acf6d63d31_20240701_211836.html'),\n",
       " ('https://news.google.com/articles/CBMibWh0dHBzOi8vd3d3LnRoZXJvYm90cmVwb3J0LmNvbS9yb2JvZ3JvY2VyeS1mcm9tLW1pdC1jc2FpbC1pcy1hLXNvZnQtcm9ib3QtdG8tcGFjay1ncm9jZXJpZXMtcGljay1yZWN5Y2xhYmxlcy_SAQA',\n",
       "  'RoboGrocery from MIT CSAIL is a soft robot to pack groceries, pick recyclables',\n",
       "  'htmldata/RoboGrocery_from_MIT_CSAIL_is_a_soft_robot_to_pack_groceries__pick_recyclables_-_The_Robot_Report_20240701_211847.html'),\n",
       " ('https://news.google.com/articles/CBMicWh0dHBzOi8vd3d3LmNuZXQuY29tL3RlY2gvc2VydmljZXMtYW5kLXNvZnR3YXJlL2FwcGxlLWludGVsbGlnZW5jZS1yZXBvcnRlZGx5LWNvbWluZy10by1hcHBsZS12aXNpb24tcHJvLWhlYWRzZXQv0gEA',\n",
       "  'Apple Intelligence Reportedly Coming to Apple Vision Pro Headset',\n",
       "  'htmldata/Apple_Intelligence_Reportedly_Coming_to_Apple_Vision_Pro_Headset_-_CNET_20240701_211857.html'),\n",
       " ('https://www.digitaltrends.com/computing/lenovo-yoga-slim-7x-review/',\n",
       "  'Lenovo Yoga Slim 7x review: a super-slim Copilot+ PC',\n",
       "  'htmldata/Lenovo_Yoga_Slim_7x_review__a_super-slim_Copilot__PC___Digital_Trends_20240701_211908.html'),\n",
       " ('https://www.extremetech.com/computing/apple-might-charge-for-certain-ai-features',\n",
       "  'Apple Might Charge for Certain AI Features',\n",
       "  'htmldata/Apple_Might_Charge_for_Certain_AI_Features___Extremetech_20240701_211919.html'),\n",
       " ('https://www.cnn.com/2024/07/01/us/jesus-ai-artificial-intelligence-social-media-cec',\n",
       "  'AI pictures of Jesus on social media are suspiciously rugged — and we only have ourselves to blame',\n",
       "  'htmldata/AI_images_of_Jesus_are_suspiciously_handsome__We_only_have_ourselves_to_blame___CNN_20240701_211930.html'),\n",
       " ('https://www.chicagotribune.com/2024/07/01/bradshaw-artificial-intelligence-raises-questions-of-bias-cheating/',\n",
       "  'Bradshaw:Artificial intelligenceraises questions of bias, cheating',\n",
       "  'htmldata/Bradshaw__Artificial_intelligence_raises_questions_of_bias__cheating_20240701_211940.html'),\n",
       " ('https://www.planetizen.com/news/2024/07/130000-addressing-ais-massive-energy-needs',\n",
       "  'Addressing AI’s Massive Energy Needs',\n",
       "  'htmldata/Addressing_AI_s_Massive_Energy_Needs___Planetizen_News_20240701_211952.html'),\n",
       " ('https://www.marktechpost.com/2024/07/01/pruner-zero-a-machine-learning-framework-for-symbolic-pruning-metric-discovery-for-large-language-models-llms/',\n",
       "  'Pruner-Zero: A Machine Learning Framework for Symbolic Pruning Metric Discovery for Large Language Models (LLMs)',\n",
       "  'htmldata/Pruner-Zero__A_Machine_Learning_Framework_for_Symbolic_Pruning_Metric_Discovery_for_Large_Language_Models__LLMs__-_MarkTechPost_20240701_212004.html'),\n",
       " ('https://www.infoworld.com/article/3715708/your-generative-ai-project-is-going-to-fail.html#tk.rss_all',\n",
       "  'Your generative AI project is going to fail',\n",
       "  'htmldata/Your_generative_AI_project_is_going_to_fail___InfoWorld_20240701_212015.html'),\n",
       " ('https://cloud.google.com/blog/products/ai-machine-learning/evaluating-large-language-models-in-business/',\n",
       "  'How to evaluate the impact of LLMs on business outcomes',\n",
       "  'htmldata/Evaluating_large_language_models_in_business___Google_Cloud_Blog_20240701_212026.html'),\n",
       " ('https://www.bloomberg.com/news/articles/2024-07-01/un-general-assembly-adopts-china-backed-resolution-on-ai',\n",
       "  'UN General Assembly Adopts China-Backed Resolution on AI',\n",
       "  'htmldata/UN_General_Assembly_Adopts_China-Backed_Resolution_on_AI_-_Bloomberg_20240701_212039.html'),\n",
       " ('https://www.androidcentral.com/apps-software/youtube-wants-record-label-partnerships-but-is-it-a-good-idea',\n",
       "  'Google wants to use music to train AI models, but record labels should push back',\n",
       "  'htmldata/Google_wants_to_use_music_to_train_AI_models__but_record_labels_should_push_back___Android_Central_20240701_212049.html'),\n",
       " ('https://www.socialmediatoday.com/news/meta-switches-ai-labels-from-made-with-ai-to-ai-info-tag/720384/',\n",
       "  'Meta Switches AI Labels From ‘Made with AI’ to ‘AI Info’ Tag',\n",
       "  'htmldata/Meta_Switches_AI_Labels_From__Made_with_AI__to__AI_Info__Tag___Social_Media_Today_20240701_212100.html'),\n",
       " ('https://tech.co/news/survey-us-firms-reduce-staff-ai',\n",
       "  'Survey: Nearly Hlalf of US Firms Hope to Reduce Staff By Using AI',\n",
       "  'htmldata/Survey__Nearly_Hlalf_of_US_Firms_Hope_to_Reduce_Staff_By_Using_AI_20240701_212111.html'),\n",
       " ('https://observer.com/2024/07/elon-musk-xai-lose-founding-member-openai/',\n",
       "  'A Former OpenAI Engineer Poached by Elon Musk’s xAI Has Returned to OpenAI',\n",
       "  'htmldata/Ex-OpenAI_Engineer_Poached_by_Elon_Musk_s_xAI_Has_Returned_to_OpenAI___Observer_20240701_212122.html'),\n",
       " ('https://www.businessinsider.com/abnormal-security-valued-at-5-billion-in-new-funding-round-2024-6',\n",
       "  'AI startup Abnormal Security is set to be valued at $5 billion in new funding round, sources say',\n",
       "  'htmldata/Abnormal_Security_Set_to_Be_Valued_at__5_Billion_in_New_Funding_Round_-_Business_Insider_20240701_212132.html'),\n",
       " ('https://venturebeat.com/ai/is-groq-the-david-to-nvidias-goliath-groq-ceo-is-bringing-the-noise-to-vb-transform-2024/',\n",
       "  \"Is Groq the David to Nvidia's Goliath? Groq CEO is bringing the noise to VB Transform 2024\",\n",
       "  'htmldata/Is_Groq_the_David_to_Nvidia_s_Goliath__Groq_CEO_is_bringing_the_noise_to_VB_Transform_2024___VentureBeat_20240701_211358.html'),\n",
       " ('https://www.theverge.com/2024/7/1/24190026/meta-instagram-facebook-made-with-ai-info-label-metadata',\n",
       "  'Instagram’s ‘Made with AI’ label swapped out for ‘AI info’ after photographers’ complaints',\n",
       "  'htmldata/Instagram_s__Made_with_AI__label_swapped_out_for__AI_info__after_photographers__complaints_-_The_Verge_20240701_211409.html'),\n",
       " ('https://www.reddit.com/r/ChatGPT/comments/1dsq2n6/using_luma_dream_machine_to_animate_jurassic_park/',\n",
       "  'using Luma Dream Machine to animate Jurassic Park',\n",
       "  'htmldata/using_Luma_Dream_Machine_to_animate_Jurassic_Park___r_ChatGPT_20240701_211421.html'),\n",
       " ('https://www.reddit.com/r/technology/comments/1dsvken/why_doesnt_facebook_just_ban_ai_slop_like_shrimp/',\n",
       "  \"Why doesn't Facebook just ban AI slop like Shrimp Jesus?\",\n",
       "  'htmldata/Why_doesn_t_Facebook_just_ban_AI_slop_like_Shrimp_Jesus____r_technology_20240701_211431.html'),\n",
       " ('https://hackernoon.com/life-in-2100-according-to-the-most-powerful-ai-model-today',\n",
       "  'Life in 2100 According to the Most Powerful AI Model Today',\n",
       "  'htmldata/Life_in_2100_According_to_the_Most_Powerful_AI_Model_Today___HackerNoon_20240701_211443.html'),\n",
       " ('https://hackernoon.com/the-danger-of-militarizing-ai',\n",
       "  'The Danger of Militarizing AI',\n",
       "  'htmldata/The_Danger_of_Militarizing_AI___HackerNoon_20240701_211454.html'),\n",
       " ('https://news.google.com/articles/CBMiVGh0dHBzOi8vaGFja2Vybm9vbi5jb20vaG93LXRvLWJvb3N0LXlvdXItd29ya2Zsb3ctd2l0aC1haS0xNi1raWxsZXItd2ViLWFwcGxpY2F0aW9uc9IBAA',\n",
       "  'How to Boost Your Workflow With AI: 16 Killer Web Applications 🚀🔥',\n",
       "  'htmldata/How_to_Boost_Your_Workflow_With_AI__16_Killer_Web_Applications______HackerNoon_20240701_211505.html'),\n",
       " ('https://news.google.com/articles/CBMiWGh0dHBzOi8vd3d3LmZveDI2aG91c3Rvbi5jb20vbmV3cy93b29kbGFuZHMtY3JpbWUtbWFuLWFjY3VzZWQtdXNpbmctYWktY2hpbGQtcG9ybm9ncmFwaHnSAVxodHRwczovL3d3dy5mb3gyNmhvdXN0b24uY29tL25ld3Mvd29vZGxhbmRzLWNyaW1lLW1hbi1hY2N1c2VkLXVzaW5nLWFpLWNoaWxkLXBvcm5vZ3JhcGh5LmFtcA',\n",
       "  'The Woodlands crime: Man accused of using AI in child pornography',\n",
       "  'htmldata/The_Woodlands_crime__Man_accused_of_using_AI_in_child_pornography_20240701_211516.html'),\n",
       " ('https://news.google.com/articles/CBMiYmh0dHBzOi8vd3d3Lm1hcmtldHBsYWNlLm9yZy8yMDI0LzA3LzAxL2FpLWFkcy1icmFuZC10b3lzLXItdXMtYXJ0aWZpY2lhbC1pbnRlbGxpZ2VuY2UtYWR2ZXJ0aXNpbmcv0gEA',\n",
       "  'AI advertising may repel as well as attract',\n",
       "  'htmldata/AI_advertising_may_repel_as_well_as_attract_-_Marketplace_20240701_211526.html'),\n",
       " ('https://news.google.com/articles/CBMiZGh0dHBzOi8vd3d3LmZvcmJlcy5jb20vc2l0ZXMvYmFycnljb2xsaW5zLzIwMjQvMDcvMDEvaGFzLW1pY3Jvc29mdHMtYWktY2hpZWYtanVzdC1tYWRlLXdpbmRvd3MtZnJlZS_SAQA',\n",
       "  \"Has Microsoft's AI Chief Just Made Windows Free?\",\n",
       "  'htmldata/Has_Microsoft_s_AI_Chief_Just_Made_Windows_Free__20240701_211537.html'),\n",
       " ('https://news.google.com/articles/CBMiXWh0dHBzOi8vd3d3LmxhdGltZXMuY29tL2VudGVydGFpbm1lbnQtYXJ0cy9idXNpbmVzcy9zdG9yeS8yMDI0LTA3LTAxL2lhdHNlLWRlYWwtdGVybXMtc3VtbWFyedIBAA',\n",
       "  'IATSE releases summary of new deal: AI, wage increases, etc.',\n",
       "  'htmldata/IATSE_releases_summary_of_new_deal__AI__wage_increases__etc__-_Los_Angeles_Times_20240701_211547.html'),\n",
       " ('https://news.google.com/articles/CBMiQGh0dHBzOi8vc2ltcGxlZmx5aW5nLmNvbS9mYWEtb3Blbi10by1haS1pbXByb3ZlLWF2aWF0aW9uLXNhZmV0eS_SAQA',\n",
       "  'The FAA Is Open To Using AI To Improve Aviation Safety',\n",
       "  'htmldata/The_FAA_Is_Open_To_Using_AI_To_Improve_Aviation_Safety_20240701_211558.html'),\n",
       " ('https://news.google.com/articles/CBMiR2h0dHBzOi8vd3d3LmtlZGdsb2JhbC5jb20vY29ycG9yYXRlLWludmVzdG1lbnQvbmV3c1ZpZXcva2VkMjAyNDA3MDEwMDA20gExaHR0cHM6Ly9hbXAua2VkZ2xvYmFsLmNvbS9uZXdzQW1wL2tlZDIwMjQwNzAxMDAwNg',\n",
       "  'SK Group, led by SK Hynix, to invest $77 billion in AI, chips',\n",
       "  'htmldata/SK_Group__led_by_SK_Hynix__to_invest__77_billion_in_AI__chips_-_KED_Global_20240701_211608.html'),\n",
       " ('https://news.google.com/articles/CBMiJ2h0dHBzOi8vd3d3LmRvdG1lZC5jb20vbmV3cy9zdG9yeS82MzI1ONIBAA',\n",
       "  'Bayer and Rad AI announce collaborative agreement',\n",
       "  'htmldata/Bayer_and_Rad_AI_announce_collaborative_agreement_20240701_211618.html'),\n",
       " ('https://news.google.com/articles/CBMiRmh0dHBzOi8vd3d3Lm55dGltZXMuY29tLzIwMjQvMDYvMjYvYnVzaW5lc3MvbWVkaWEvbmJjLW9seW1waWNzLWFpLmh0bWzSAQA',\n",
       "  'AI-Generated Al Michaels to Deliver Paris Olympics Highlights',\n",
       "  'htmldata/AI-Generated_Al_Michaels_to_Deliver_Paris_Olympics_Highlights_-_The_New_York_Times_20240701_211629.html'),\n",
       " ('https://news.google.com/articles/CBMiU2h0dHBzOi8vYmV0YW5ld3MuY29tLzIwMjQvMDcvMDEvdW5kZXJzdGFuZGluZy1kYXRhLWJpYXMtd2hlbi11c2luZy1haS1vci1tbC1tb2RlbHMv0gEA',\n",
       "  'Understanding data bias when using AI or ML models',\n",
       "  'htmldata/Understanding_data_bias_when_using_AI_or_ML_models_20240701_211639.html'),\n",
       " ('https://news.google.com/articles/CBMiSGh0dHBzOi8vcHJvc3BlY3Qub3JnL2Vudmlyb25tZW50LzIwMjQtMDctMDEtdW5rbm93bi10b2xsLW9mLWFpLXRha2VvdmVyL9IBAA',\n",
       "  'The Unknown Toll of the AI Takeover',\n",
       "  'htmldata/The_Unknown_Toll_of_the_AI_Takeover_-_The_American_Prospect_20240701_211649.html'),\n",
       " ('https://news.google.com/articles/CBMiT2h0dHBzOi8vZmluYW5jZS55YWhvby5jb20vbmV3cy9hbmFseXN0LXJlc2V0cy1udmlkaWEtc3RvY2stcHJpY2UtMTQzMDE3NjQ3Lmh0bWzSAQA',\n",
       "  'Analyst resets Nvidia stock price target after trillion-dollar Q2',\n",
       "  'htmldata/Analyst_resets_Nvidia_stock_price_target_after_trillion-dollar_Q2_20240701_211700.html'),\n",
       " ('https://news.google.com/articles/CBMigQFodHRwczovL3d3dy5pbnZlc3RpbmcuY29tL25ld3Mvc3RvY2stbWFya2V0LW5ld3MvbnZpZGlhLXJlbWFpbnMtdGhlLW1vc3QtY29tcGVsbGluZy1uYXJyYXRpdmUtaW4tdGhlLWFpLXNlbWlzLXNwYWNlLTQzMlNJLTM1MDMyMDPSAQA',\n",
       "  \"Nvidia 'remains the most compelling narrative in the AI semis space' By Investing.com\",\n",
       "  'htmldata/Nvidia__remains_the_most_compelling_narrative_in_the_AI_semis_space__By_Investing_com_20240701_211710.html'),\n",
       " ('https://news.google.com/articles/CBMifmh0dHBzOi8vYWJjMTMuY29tL3Bvc3QvbW9udGdvbWVyeS1jb3VudHktbWFuLXJvbWFuLXNob2ZmbmVyLWNoYXJnZWQtcG9zc2Vzc2lvbi1jaGlsZC1wb3JuLWFpLWFydGlmaWNpYWwtaW50ZWxsaWdlbmNlLzE1MDE2NzE1L9IBAA',\n",
       "  \"Montgomery Co. man arrested for child porn after allegedly using AI to alter girl's photo\",\n",
       "  'htmldata/Roman_Shoffner_charged_with_possession_of_child_porn_after_using_AI_to_alter_17-year-old_girl_s_photo__Montgomery_County_Pct__3_-_ABC13_Houston_20240701_211721.html'),\n",
       " ('https://news.google.com/articles/CBMifGh0dHBzOi8vd3d3LmRhaWx5bWFpbC5jby51ay9zcG9ydC90ZW5uaXMvYXJ0aWNsZS0xMzU4OTQ0NS9DT1VSVC1SRVBPUlQtV2ltYmxlZG9uLXN1ZmZlci1BSS1nYWZmZS1TaXItRGF2aWQtQXR0ZW5ib3JvdWdoLmh0bWzSAYABaHR0cHM6Ly93d3cuZGFpbHltYWlsLmNvLnVrL3Nwb3J0L3Rlbm5pcy9hcnRpY2xlLTEzNTg5NDQ1L2FtcC9DT1VSVC1SRVBPUlQtV2ltYmxlZG9uLXN1ZmZlci1BSS1nYWZmZS1TaXItRGF2aWQtQXR0ZW5ib3JvdWdoLmh0bWw',\n",
       "  'COURT REPORT: Wimbledon suffer AI gaffe on Emma Raducanu, Sir David Attenborough is the toast of Centre Court.',\n",
       "  'htmldata/COURT_REPORT__Wimbledon_suffer_AI_gaffe_on_Emma_Raducanu__Sir_David_Attenborough_is_the_toast_of_Centre_Court____and_Casper_Ruud_shows_that_even_a_PARASITE_can_t_keep_him_down___Daily_Mail_Online_20240701_211731.html'),\n",
       " ('https://news.google.com/articles/CBMiwgFodHRwczovL3d3dy5oZXJhbGRjaHJvbmljbGUuY29tL25ld3MvYnVzaW5lc3MvdS1zLXByZXNpZGVudGlhbC1kZWJhdGUtZXZlLXN1cnZleS1yZXZlYWxzLWJpcGFydGlzYW4tdm90ZXItY29uZmlkZW5jZS1jb25jZXJucy1vdmVyLWFpcy10aHJlYXQtdG8vYXJ0aWNsZV9mZTM1N2E5OC01ZDY1LTVhYjctYTE2Ny1kZmNiNmZkYTFjZDYuaHRtbNIBAA',\n",
       "  \"U.S. Presidential Debate Eve: Survey Reveals Bipartisan Voter Confidence Concerns Over AI's Threat to 2024 Election\",\n",
       "  'htmldata/U_S__Presidential_Debate_Eve__Survey_Reveals_Bipartisan_Voter_Confidence_Concerns_Over_AI_s_Threat_to_2024_Election___Business___Finance___heraldchronicle_com_20240701_211742.html'),\n",
       " ('https://news.google.com/articles/CBMijAFodHRwczovL2luZGlhbmV4cHJlc3MuY29tL2FydGljbGUvdGVjaG5vbG9neS90ZWNoLW5ld3MtdGVjaG5vbG9neS9ob3ctZXVzLWRpZ2l0YWwtbWFya2V0cy1hY3Qtd2lsbC1pbXBhY3QtYXBwbGUtYW5kLWl0cy1haS1zdHJhdGVneS05NDI2MzI3L9IBkQFodHRwczovL2luZGlhbmV4cHJlc3MuY29tL2FydGljbGUvdGVjaG5vbG9neS90ZWNoLW5ld3MtdGVjaG5vbG9neS9ob3ctZXVzLWRpZ2l0YWwtbWFya2V0cy1hY3Qtd2lsbC1pbXBhY3QtYXBwbGUtYW5kLWl0cy1haS1zdHJhdGVneS05NDI2MzI3L2xpdGUv',\n",
       "  'How EU’s Digital Markets Act will impact Apple and its AI strategy',\n",
       "  'htmldata/How_EU_s_Digital_Markets_Act_will_impact_Apple_and_its_AI_strategy___Technology_News_-_The_Indian_Express_20240701_211752.html'),\n",
       " ('https://news.google.com/articles/CBMilQFodHRwczovL3d3dy5jbGljazJob3VzdG9uLmNvbS9uZXdzL2xvY2FsLzIwMjQvMDcvMDEvbWFuLWFycmVzdGVkLWZvci11c2luZy1hcnRpZmljaWFsLWludGVsbGlnZW5jZS10by1hbHRlci10ZWVuYWdlLWdpcmxzLXBob3RvLWluLW1vbnRnb21lcnktY291bnR5L9IBAA',\n",
       "  \"Man arrested for using artificial intelligence to alter teenage girl's photo in Montgomery County\",\n",
       "  'htmldata/Man_arrested_for_using_artificial_intelligence_to_undress_teen_in_Montgomery_County_20240701_211802.html'),\n",
       " ('https://news.google.com/articles/CBMidWh0dHBzOi8vdGhlYnVsbGV0aW4ub3JnLzIwMjQvMDcvbnVjbGVhci1lbmVyZ3ktY291bGQtcG93ZXItdGhlLWFpLWJvb20tYnV0LW9ubHktaWYtcHJvbGlmZXJhdGlvbi1yaXNrcy1hcmUtbWluaW1pemVkL9IBAA',\n",
       "  'Nuclear energy could power the AI boom—but only if proliferation risks are minimized',\n",
       "  'htmldata/Nuclear_energy_could_power_the_AI_boom_but_only_if_proliferation_risks_are_minimized_-_Bulletin_of_the_Atomic_Scientists_20240701_211813.html'),\n",
       " ('https://news.google.com/articles/CBMibWh0dHBzOi8vd3d3LmNoaWNhZ290cmlidW5lLmNvbS8yMDI0LzA3LzAxL2JyYWRzaGF3LWFydGlmaWNpYWwtaW50ZWxsaWdlbmNlLXJhaXNlcy1xdWVzdGlvbnMtb2YtYmlhcy1jaGVhdGluZy_SAQA',\n",
       "  'Bradshaw: Artificial intelligence raises questions of bias, cheating',\n",
       "  'htmldata/Bradshaw__Artificial_intelligence_raises_questions_of_bias__cheating_20240701_211823.html'),\n",
       " ('https://news.google.com/articles/CBMiamh0dHBzOi8vYml6dGVjaG1hZ2F6aW5lLmNvbS9hcnRpY2xlLzIwMjQvMDcvd2hhdC1zaG91bGQtc21hbGwtYnVzaW5lc3Nlcy1rbm93LWFib3V0LW1pY3Jvc29mdHMtY29waWxvdC1wcm_SAQA',\n",
       "  \"What Should Small Businesses Know About Microsoft's Copilot Pro?\",\n",
       "  'htmldata/What_Should_Small_Businesses_Know_About_Microsoft_s_Copilot_Pro____BizTech_Magazine_20240701_211834.html'),\n",
       " ('https://news.google.com/articles/CBMidWh0dHBzOi8vd3d3LmRhdGFjZW50ZXJkeW5hbWljcy5jb20vZW4vbmV3cy9odWF3ZWktcGFydG5lcnMtd2l0aC13dWhhbi14aW54aW4tdG8tZGV2ZWxvcC1hZHZhbmNlZC1tZW1vcnktY2hpcHMtZm9yLWFpL9IBAA',\n",
       "  'Huawei partners with Wuhan Xinxin to develop advanced memory chips for AI - report',\n",
       "  'htmldata/Huawei_partners_with_Wuhan_Xinxin_to_develop_advanced_memory_chips_for_AI_-_report_-_DCD_20240701_211844.html'),\n",
       " ('https://news.google.com/articles/CBMibmh0dHBzOi8vd3d3LmNuYmMuY29tLzIwMjQvMDcvMDEvZ29vZ2xlLWludmVzdHMtaW4tYmxhY2tyb2NrLWJhY2tlZC1zb2xhci1kZXZlbG9wZXItaW4tdGFpd2FuLWFtaWQtYWktYm9vbS5odG1s0gEA',\n",
       "  'Google invests in BlackRock-backed Taiwanese solar developer to boost energy capacity amid AI boom',\n",
       "  'htmldata/Google_invests_in_BlackRock-backed_solar_developer_in_Taiwan_amid_AI_boom_20240701_211854.html'),\n",
       " ('https://news.google.com/articles/CBMicGh0dHBzOi8vd3d3LnRoZWd1YXJkaWFuLmNvbS9zcG9ydC9hcnRpY2xlLzIwMjQvanVsLzAxL2FpLXdyaXRlci1zZXJ2ZWQtYnktd2ltYmxlZG9uLWFuZC1pYm0tY29tbWl0cy1kb3VibGUtZmF1bHTSAXBodHRwczovL2FtcC50aGVndWFyZGlhbi5jb20vc3BvcnQvYXJ0aWNsZS8yMDI0L2p1bC8wMS9haS13cml0ZXItc2VydmVkLWJ5LXdpbWJsZWRvbi1hbmQtaWJtLWNvbW1pdHMtZG91YmxlLWZhdWx0',\n",
       "  'AI writer served by Wimbledon and IBM commits double fault',\n",
       "  'htmldata/AI_writer_served_by_Wimbledon_and_IBM_commits_double_fault___Wimbledon_2024___The_Guardian_20240701_211905.html'),\n",
       " ('https://www.engadget.com/midjourney-is-creating-donald-trump-pictures-when-asked-for-images-of-the-president-of-the-united-states-212427937.html',\n",
       "  'Midjourney is creating Donald Trump pictures when asked for images of “the president of the United States.”',\n",
       "  'htmldata/Midjourney_is_creating_Donald_Trump_pictures_when_asked_for_images_of__the_president_of_the_United_States__20240701_211915.html'),\n",
       " ('https://www.digitaltrends.com/computing/apple-intelligence-potential-subscription/',\n",
       "  'Apple Intelligence+ could be coming, and it won’t be free',\n",
       "  'htmldata/Apple_Intelligence__could_be_coming__and_it_won_t_be_free___Digital_Trends_20240701_211926.html'),\n",
       " ('https://www.cnbc.com/video/2024/07/01/aws-ceo-matt-garman-breaks-down-the-companys-ai-strategy.html',\n",
       "  \"AWS CEO Matt Garman breaks down the company's AI strategy\",\n",
       "  'htmldata/AWS_CEO_Matt_Garman_breaks_down_the_company_s_AI_strategy_20240701_211937.html'),\n",
       " ('https://hoodline.com/2024/07/mercer-university-in-macon-hosts-ai-ethics-day-camp-for-middle-schoolers/',\n",
       "  'Mercer University in Macon Hosts AI Ethics Day Camp for Middle Schoolers',\n",
       "  'htmldata/Mercer_University_in_Macon_Hosts_AI_Ethics_Day_Camp_for_Middle_20240701_211949.html'),\n",
       " ('https://www.nzherald.co.nz/business/lets-not-go-overboard-on-worries-about-ai-energy-use-bill-gates-says/4DWTDQ4AWBFSJJDFL2BI4EO2J4/',\n",
       "  '‘Let’s not go overboard’ on worries about AI energy use, Bill Gates says',\n",
       "  'htmldata/_Let_s_not_go_overboard__on_worries_about_AI_energy_use__Bill_Gates_says_-_NZ_Herald_20240701_212001.html'),\n",
       " ('https://www.marketwatch.com/story/ai-optimism-could-boost-s-p-500-to-7-000-next-year-says-economist-70c0bd92',\n",
       "  'AI optimism could boost S&P 500 to 7,000 next year, says economist',\n",
       "  'htmldata/AI_optimism_could_boost_S_P_500_to_7_000_next_year__says_economist_-_MarketWatch_20240701_212012.html'),\n",
       " ('https://www.futurity.org/artificial-intelligence-power-outages-3235522/',\n",
       "  'Artificial intelligencecould prevent power outages',\n",
       "  'htmldata/Artificial_intelligence_could_prevent_power_outages_-_Futurity_20240701_212024.html'),\n",
       " ('https://decrypt.co/237978/edge-ai-farming-agriculture-study',\n",
       "  'Running AI in the Field Could Boost Farming: Study',\n",
       "  'htmldata/Running_AI_in_the_Field_Could_Boost_Farming__Study_-_Decrypt_20240701_212036.html'),\n",
       " ('https://www.zdnet.com/article/amazon-proposes-a-new-ai-benchmark-to-measure-rag/',\n",
       "  'Amazon proposes a new AI benchmark to measure RAG',\n",
       "  'htmldata/Amazon_proposes_a_new_AI_benchmark_to_measure_RAG___ZDNET_20240701_212048.html'),\n",
       " ('https://www.tapinto.net/towns/ridgewood/sections/education/articles/ridgewood-student-develops-artificial-intelligence-project-at-worcester-polytechnic-institute',\n",
       "  'Ridgewood Student DevelopsArtificial IntelligenceProject at Worcester Polytechnic Institute',\n",
       "  'htmldata/Ridgewood_Student_Develops_Artificial_Intelligence_Project_at_Worcester_Polytechnic_Institute___Ridgewood__NJ_News_TAPinto_20240701_212100.html'),\n",
       " ('https://scoop.upworthy.com/ai-jesus-is-giving-out-dating-advice-with-spiritual-guidance-leaving-the-internet-in-splits',\n",
       "  'AI Jesus is giving out dating advice with spiritual guidance leaving the internet in splits',\n",
       "  'htmldata/AI_Jesus_is_giving_out_dating_advice_with_spiritual_guidance_leaving_the_internet_in_splits_-_Scoop_Upworthy_20240701_212113.html'),\n",
       " ('https://nypost.com/2024/07/01/entertainment/morgan-freeman-calls-out-unauthorized-ai-replicating-his-voice-in-a-tiktok-video/',\n",
       "  'Morgan Freeman calls out ‘unauthorized’ use of AI replicating his voice in a TikTok video',\n",
       "  'htmldata/Morgan_Freeman_calls_out__unauthorized__AI_replicating_his_voice_in_a_TikTok_video_20240701_212124.html'),\n",
       " ('https://www.businessinsider.com/elon-musk-hints-how-much-grok-ai-chatbot-training-costs-2024-7',\n",
       "  'Elon Musk reveals how many Nvidia H100 chips his AI chatbot will be trained on',\n",
       "  'htmldata/Elon_Musk_Reveals_How_Many_Nvidia_Chips_His_AI_Will_Be_Trained_on_-_Business_Insider_20240701_212134.html'),\n",
       " ('https://venturebeat.com/ai/runways-gen-3-alpha-ai-video-model-now-available-but-theres-a-catch/',\n",
       "  \"Runway's Gen-3 Alpha AI video model now available – but there’s a catch\",\n",
       "  'htmldata/Runway_s_Gen-3_Alpha_AI_video_model_now_available___but_there_s_a_catch___VentureBeat_20240701_211358.html'),\n",
       " ('https://www.theregister.com/2024/07/01/lambda_seeks_funding/',\n",
       "  \"Lambda on the hunt for 'another $800M' to fuel its GPU cloudWhy sell shovels when you can rent themPaaS + IaaS2 hrs|\",\n",
       "  'htmldata/Lambda_reportedly_seeking__800M_in_new_funding_for_GPU_cloud___The_Register_20240701_211409.html'),\n",
       " ('https://techcrunch.com/2024/07/01/youtube-now-lets-you-request-removal-of-ai-generated-content-that-simulates-your-face-or-voice/',\n",
       "  'YouTube rolled out a policy change that will let people request the takedown of AI-generated or other synthetic content that simulates their face or voice',\n",
       "  'htmldata/YouTube_now_lets_you_request_removal_of_AI-generated_content_that_simulates_your_face_or_voice___TechCrunch_20240701_211420.html'),\n",
       " ('https://www.reddit.com/r/technology/comments/1dsviqu/fcc_chair_asks_telecoms_companies_to_prove_theyre/',\n",
       "  \"FCC chair asks telecoms companies to prove they're actually trying to stop political AI robocalls\",\n",
       "  'htmldata/FCC_chair_asks_telecoms_companies_to_prove_they_re_actually_trying_to_stop_political_AI_robocalls___r_technology_20240701_211431.html'),\n",
       " ('https://hackernoon.com/7-1-2024-noonification',\n",
       "  'The Noonification: How to Create a Simple Pop-up Chatbot Using OpenAI (7/1/2024)',\n",
       "  'htmldata/The_Noonification__How_to_Create_a_Simple_Pop-up_Chatbot_Using_OpenAI__7_1_2024____HackerNoon_20240701_211442.html'),\n",
       " ('https://hackernoon.com/how-to-write-text-prompts-for-ai-image-generators-to-get-optimal-results-with-ease',\n",
       "  'How to Write Text Prompts for AI Image Generators to Get Optimal Results with Ease',\n",
       "  'htmldata/How_to_Write_Text_Prompts_for_AI_Image_Generators_to_Get_Optimal_Results_with_Ease___HackerNoon_20240701_211453.html'),\n",
       " ('https://news.google.com/articles/CBMiV2h0dHBzOi8vd3d3Lm1vYmloZWFsdGhuZXdzLmNvbS9uZXdzL2JheWVyLXJhZC1haS1wYXJ0bmVyLWFpLXJhZGlvbG9neS13b3JrZmxvdy1vZmZlcmluZ9IBAA',\n",
       "  'Bayer, Rad AI partner for AI radiology workflow offering',\n",
       "  'htmldata/Bayer__Rad_AI_partner_for_AI_radiology_workflow_offering___MobiHealthNews_20240701_211505.html'),\n",
       " ('https://news.google.com/articles/CBMiWWh0dHBzOi8vbmV3cy5za3kuY29tL3N0b3J5L3NjYXJsZXR0LWpvaG5hc3Nvbi1zcGVha3Mtb3V0LWFib3V0LWNsYXNoLXdpdGgtb3BlbmFpLTEzMTU4NDkx0gFdaHR0cHM6Ly9uZXdzLnNreS5jb20vc3RvcnkvYW1wL3NjYXJsZXR0LWpvaG5hc3Nvbi1zcGVha3Mtb3V0LWFib3V0LWNsYXNoLXdpdGgtb3BlbmFpLTEzMTU4NDkx',\n",
       "  'Scarlett Johansson speaks out about clash with OpenAI',\n",
       "  'htmldata/Scarlett_Johansson_speaks_out_about_clash_with_OpenAI___Science___Tech_News___Sky_News_20240701_211517.html'),\n",
       " ('https://news.google.com/articles/CBMiYmh0dHBzOi8vaW5kaWFuZXhwcmVzcy5jb20vYXJ0aWNsZS90ZWNobm9sb2d5L21vYmlsZS10YWJzLzUtcHJlbWl1bS1haS1zbWFydHBob25lcy1vZi0yMDI0LTk0MjQyMzkv0gEA',\n",
       "  'From iPhone 15 Pro to Vivo X Fold3 Pro: 5 premium AI smartphones of 2024',\n",
       "  'htmldata/From_iPhone_15_Pro_to_Vivo_X_Fold3_Pro__5_premium_AI_smartphones_of_2024___Technology_News_-_The_Indian_Express_20240701_211527.html'),\n",
       " ('https://news.google.com/articles/CBMiZGh0dHBzOi8vd3d3LnRoZXZlcmdlLmNvbS8yMDI0LzcvMS8yNDE5MDA2MC9hbWF6b24tYWRlcHQtYWktYWNxdWlzaXRpb24tcGxheWJvb2stbWljcm9zb2Z0LWluZmxlY3Rpb27SAQA',\n",
       "  'How Amazon’s hiring of Adept AI startup avoids antitrust scrutiny',\n",
       "  'htmldata/How_Amazon_s_hiring_of_Adept_AI_startup_avoids_antitrust_scrutiny_-_The_Verge_20240701_211538.html'),\n",
       " ('https://news.google.com/articles/CBMiXWh0dHBzOi8vaW52ZXN0b3JwbGFjZS5jb20vMjAyNC8wNy9ob29kLXN0b2NrLWFsZXJ0LXJvYmluaG9vZC1zbmFncy1uZXctcGx1dG8tY2FwaXRhbC1haS1kZWFsL9IBAA',\n",
       "  'HOOD Stock Alert: Robinhood Snags New Pluto Capital AI Deal',\n",
       "  'htmldata/HOOD_Stock_Alert__Robinhood_Snags_New_Pluto_Capital_AI_Deal___InvestorPlace_20240701_211548.html'),\n",
       " ('https://news.google.com/articles/CBMiQGh0dHBzOi8vd3d3LmF4aW9zLmNvbS8yMDI0LzA3LzAxL21hcnktbWVla2VyLWFpLWhpZ2hlci1lZHVjYXRpb27SAQA',\n",
       "  'Mary Meeker wants AI and higher education to be partners',\n",
       "  'htmldata/Mary_Meeker_wants_AI_and_higher_education_to_be_partners_20240701_211559.html'),\n",
       " ('https://news.google.com/articles/CBMiRGh0dHBzOi8vZmluYW5jZS55YWhvby5jb20vbmV3cy8xLXNvbGlkLWFpLXN0b2NrLXRoYXRzLTEzNTMwMDEwOC5odG1s0gEA',\n",
       "  \"1 Solid AI Stock That's Not Nvidia to Keep an Eye On in the Second Half of 2024\",\n",
       "  'htmldata/1_Solid_AI_Stock_That_s_Not_Nvidia_to_Keep_an_Eye_On_in_the_Second_Half_of_2024_20240701_211609.html'),\n",
       " ('https://news.google.com/articles/CBMiMmh0dHBzOi8vY3J5cHRvYnJpZWZpbmcuY29tL2FpLXRva2VuLW1lcmdlci11cGRhdGUv0gEA',\n",
       "  'Token merger of SingularityNET, Fetch.ai, and Ocean Protocol goes live',\n",
       "  'htmldata/Token_merger_of_SingularityNET__Fetch_ai__and_Ocean_Protocol_goes_live_-_Crypto_Briefing_20240701_211620.html'),\n",
       " ('https://news.google.com/articles/CBMiTWh0dHBzOi8vOXRvNW1hYy5jb20vMjAyNC8wNy8wMS9ldmVyeS1kZXZpY2UtdGhhdC1zdXBwb3J0cy1hcHBsZS1pbnRlbGxpZ2VuY2Uv0gEA',\n",
       "  'This is every device that will support Apple Intelligence at launch',\n",
       "  'htmldata/This_is_every_device_that_will_support_Apple_Intelligence_at_launch_-_9to5Mac_20240701_211630.html'),\n",
       " ('https://news.google.com/articles/CBMiU2h0dHBzOi8vd3d3Lm5hc2RhcS5jb20vYXJ0aWNsZXMvdGhlc2UtYWktc3RvY2tzLWhhdmUtZmFsbGVuLXRpbWUtYnV5LW52ZGEtc21jaS1hdmdv0gEA',\n",
       "  'These AI Stocks Have Fallen: Time to Buy NVDA, SMCI, AVGO?',\n",
       "  'htmldata/These_AI_Stocks_Have_Fallen__Time_to_Buy_NVDA__SMCI__AVGO____Nasdaq_20240701_211640.html'),\n",
       " ('https://news.google.com/articles/CBMiSmh0dHBzOi8vcGh5cy5vcmcvbmV3cy8yMDI0LTA3LW1hY2hpbmUtYWxnb3JpdGhtLWhpZ2hseS1hY2N1cmF0ZS1tb3VudC5odG1s0gEA',\n",
       "  'Machine learning algorithm proves to be highly accurate in predicting Mount St. Helens eruptions',\n",
       "  'htmldata/Machine_learning_algorithm_proves_to_be_highly_accurate_in_predicting_Mount_St__Helens_eruptions_20240701_211651.html'),\n",
       " ('https://news.google.com/articles/CBMiT2h0dHBzOi8vd3d3LmF2d2ViLmNvbS9hdmlhdGlvbi1uZXdzL2ZhYS1sb29raW5nLWZvci1haS1oZWxwLXdpdGgtZmxpZ2h0LXNhZmV0eS_SAQA',\n",
       "  'FAA Looking For AI Help With Flight Safety',\n",
       "  'htmldata/FAA_Looking_For_AI_Help_With_Flight_Safety_-_AVweb_20240701_211701.html'),\n",
       " ('https://news.google.com/articles/CBMihQFodHRwczovL2RhaWx5aG9kbC5jb20vMjAyNC8wNi8zMC9mZXRjaC1haS1jZW8tc2F5cy1haS10b2tlbi1tZXJnZXItZ29pbmctYWhlYWQtZGVzcGl0ZS1jb2luYmFzZS1zbnViLXRlbGxzLWZldC1ob2xkZXJzLXRvLWRvLW5vdGhpbmcv0gGJAWh0dHBzOi8vZGFpbHlob2RsLmNvbS8yMDI0LzA2LzMwL2ZldGNoLWFpLWNlby1zYXlzLWFpLXRva2VuLW1lcmdlci1nb2luZy1haGVhZC1kZXNwaXRlLWNvaW5iYXNlLXNudWItdGVsbHMtZmV0LWhvbGRlcnMtdG8tZG8tbm90aGluZy9hbXAv',\n",
       "  'Fetch.ai CEO Says AI Token Merger Going Ahead Despite Coinbase Snub, Tells FET Holders To Do Nothing',\n",
       "  'htmldata/Fetch_ai_CEO_Says_AI_Token_Merger_Going_Ahead_Despite_Coinbase_Snub__Tells_FET_Holders_To_Do_Nothing_-_The_Daily_Hodl_20240701_211711.html'),\n",
       " ('https://news.google.com/articles/CBMif2h0dHBzOi8vbWFya2V0cy5idXNpbmVzc2luc2lkZXIuY29tL25ld3Mvc3RvY2tzL2FpLXN0b2Nrcy10by1pbnZlc3QtYXJ0aWZpY2lhbC1pbnRlbGxpZ2VuY2UtZGF0YS1jZW50ZXItZW5lcmd5LWNvbXBhbmllcy0yMDI0LTbSAQA',\n",
       "  'Why the Best AI Stocks to Invest in Are Boring Utility, Electricity Firms',\n",
       "  'htmldata/Why_the_Best_AI_Stocks_to_Invest_in_Are_Boring_Utility__Electricity_Firms_-_Markets_Insider_20240701_211722.html'),\n",
       " ('https://news.google.com/articles/CBMifWh0dHBzOi8vbnlwb3N0LmNvbS8yMDI0LzA3LzAxL2VudGVydGFpbm1lbnQvbW9yZ2FuLWZyZWVtYW4tY2FsbHMtb3V0LXVuYXV0aG9yaXplZC1haS1yZXBsaWNhdGluZy1oaXMtdm9pY2UtaW4tYS10aWt0b2stdmlkZW8v0gEA',\n",
       "  \"Morgan Freeman calls out 'unauthorized' AI replicating his voice in a TikTok video\",\n",
       "  'htmldata/Morgan_Freeman_calls_out__unauthorized__AI_replicating_his_voice_in_a_TikTok_video_20240701_211732.html'),\n",
       " ('https://news.google.com/articles/CBMiZmh0dHBzOi8vd3d3LnpkbmV0LmNvbS9hcnRpY2xlL2hvdy1hcHBsZS1hZGRpbmctZ29vZ2xlLWdlbWluaS10by1pb3Mtd2lsbC1tYWtlLXlvdXItaXBob25lLW1vcmUtdXNlZnVsL9IBAA',\n",
       "  'How Apple adding Google Gemini to iOS will make your iPhone more useful',\n",
       "  'htmldata/How_Apple_adding_Google_Gemini_to_iOS_will_make_your_iPhone_more_useful___ZDNET_20240701_211743.html'),\n",
       " ('https://news.google.com/articles/CBMijAFodHRwczovL3d3dy5raG91LmNvbS9hcnRpY2xlL25ld3MvY3JpbWUvdGV4YXMtbWFuLWNoaWxkLXBvcm5vZ3JhcGh5LWNoYXJnZXMtYXJ0aWZpY2lhbC1pbnRlbGxpZ2VuY2UvMjg1LTUzZDc0NzY3LWRlYTctNDJiOS1iNjUxLWYwY2QwNzEyZWJjOdIBAA',\n",
       "  'Texas man accused to using AI to create child pornography | khou.com',\n",
       "  'htmldata/Texas_man_accused_to_using_AI_to_create_child_pornography___khou_com_20240701_211753.html'),\n",
       " ('https://news.google.com/articles/CBMimQFodHRwczovL3d3dy5iZW56aW5nYS5jb20vdHJhZGluZy1pZGVhcy9sb25nLWlkZWFzLzI0LzA3LzM5NTgyMzM1L21vbWVudHVtLWludmVzdG9yLXByYWlzZXMtcGFsYW50aXItYXMtYWktaGFsby1wbGF5LWhpZ2hsaWdodHMtZGF0YWRvZy1hcy1zb2Z0d2FyZS1ib3R0b23SAQA',\n",
       "  \"Momentum Investor Praises Palantir As 'AI Halo' Play, Highlights Datadog As Software 'Bottoming Process' Sets In - Palantir Technologies (NYSE:PLTR)\",\n",
       "  'htmldata/Momentum_Investor_Praises_Palantir_As__AI_Halo__Play__Highlights_Datadog_As_Software__Bottoming_Process__Sets_In_-_Palantir_Technologies__NYSE_PLTR__-_Benzinga_20240701_211803.html'),\n",
       " ('https://news.google.com/articles/CBMiamh0dHBzOi8vd3d3LmFydGlmaWNpYWxpbnRlbGxpZ2VuY2UtbmV3cy5jb20vMjAyNC8wNi8yNS9jb3VsZC1hcHBsZS1tZXRhLXBhcnRuZXJzaGlwLXJlZGVmaW5lLWFpLWxhbmRzY2FwZS_SAQA',\n",
       "  'Could an Apple-Meta partnership redefine the AI landscape?',\n",
       "  'htmldata/Could_an_Apple-Meta_partnership_redefine_the_AI_landscape__20240701_211814.html'),\n",
       " ('https://news.google.com/articles/CBMia2h0dHBzOi8vd3d3LmFuYWx5dGljc2luc2lnaHQubmV0L2FydGlmaWNpYWwtaW50ZWxsaWdlbmNlL2Rlc2lnbmluZy1hY2Nlc3NpYmxlLWFpLWFuZC1kYXRhLXNjaWVuY2Utc29sdXRpb25z0gF1aHR0cHM6Ly93d3cuYW5hbHl0aWNzaW5zaWdodC5uZXQvYW1wL3N0b3J5L2FydGlmaWNpYWwtaW50ZWxsaWdlbmNlL2Rlc2lnbmluZy1hY2Nlc3NpYmxlLWFpLWFuZC1kYXRhLXNjaWVuY2Utc29sdXRpb25z',\n",
       "  'Designing Accessible AI and Data Science Solutions',\n",
       "  'htmldata/Designing_Accessible_AI_and_Data_Science_Solutions_20240701_211824.html'),\n",
       " ('https://news.google.com/articles/CBMicmh0dHBzOi8vd3d3LmZvcmJlcy5jb20vc2l0ZXMvYmVybmFyZG1hcnIvMjAyNC8wNy8wMS9haS1wb2xpdGljaWFucy10aGUtZnV0dXJlLW9mLWRlbW9jcmFjeS1vci1hLXRocmVhdC10by1mcmVlZG9tL9IBAA',\n",
       "  'AI Politicians: The Future Of Democracy Or A Threat To Freedom?',\n",
       "  'htmldata/AI_Politicians__The_Future_Of_Democracy_Or_A_Threat_To_Freedom__20240701_211834.html'),\n",
       " ('https://news.google.com/articles/CBMic2h0dHBzOi8vdmlkZW9jYXJkei5jb20vbmV3ei9hY2VyLXN3aWZ0LTE0LWFpLWxhcHRvcC13aXRoLWFtZC1yeXplbi1haS05LWh4LTM3MC1zdHJpeC1wb2ludC1hcHUtc3BvdHRlZC1vbi1nZWVrYmVuY2jSAQA',\n",
       "  'Acer Swift 14 AI laptop with AMD Ryzen AI 9 HX 370 \"Strix Point\" APU spotted on Geekbench',\n",
       "  'htmldata/Acer_Swift_14_AI_laptop_with_AMD_Ryzen_AI_9_HX_370__Strix_Point__APU_spotted_on_Geekbench_-_VideoCardz_com_20240701_211845.html'),\n",
       " ('https://news.google.com/articles/CBMic2h0dHBzOi8vd3d3LnRpbWVzb2Zpc3JhZWwuY29tL2lzcmFlbGktYXBwLWRldmVsb3Blci1jdXRzLTEyLW9mLWl0cy13b3JrZm9yY2UtdG8tZm9jdXMtb24tYWktdG9vbHMtdG8tY3JlYXRlLW1vdmllcy_SAXdodHRwczovL3d3dy50aW1lc29maXNyYWVsLmNvbS9pc3JhZWxpLWFwcC1kZXZlbG9wZXItY3V0cy0xMi1vZi1pdHMtd29ya2ZvcmNlLXRvLWZvY3VzLW9uLWFpLXRvb2xzLXRvLWNyZWF0ZS1tb3ZpZXMvYW1wLw',\n",
       "  'Israeli app developer cuts 12% of its workforce to focus on AI tools to create movies',\n",
       "  'htmldata/Israeli_app_developer_cuts_12__of_its_workforce_to_focus_on_AI_tools_to_create_movies___The_Times_of_Israel_20240701_211855.html'),\n",
       " ('https://news.google.com/articles/CBMicGh0dHBzOi8vd3d3LmJsb29tYmVyZy5jb20vbmV3cy9hcnRpY2xlcy8yMDI0LTA3LTAxL25vcnRoZXJuLWRhdGEtd2VpZ2hzLWFpLXVuaXQtdXMtaXBvLWF0LXVwLXRvLTE2LWJpbGxpb24tdmFsdWXSAQA',\n",
       "  'Northern Data Weighs AI Unit US IPO at Up to $16 Billion Value',\n",
       "  'htmldata/Northern_Data_Weighs_AI_Unit_US_IPO_at_Up_to__16_Billion_Value_-_Bloomberg_20240701_211905.html'),\n",
       " ('https://www.extremetech.com/mobile/apple-reportedly-upgrading-the-iphone-16s-ram-to-handle-ai-functions',\n",
       "  \"Apple Reportedly Upgrading the iPhone 16's RAM to Handle AI Functions\",\n",
       "  'htmldata/Apple_Reportedly_Upgrading_the_iPhone_16_s_RAM_to_Handle_AI_Functions___Extremetech_20240701_211916.html'),\n",
       " ('https://www.financial-planning.com/articles/robinhood-acquires-ai-driven-investment-advice-platform-pluto',\n",
       "  'Robinhood acquires AI-driven investment-advice platform Pluto',\n",
       "  'htmldata/Robinhood_acquires_AI-driven_investment-advice_platform_Pluto___Financial_Planning_20240701_211927.html'),\n",
       " ('https://www.cnbc.com/video/2024/07/01/ai-is-more-than-just-chatbots-we-need-to-offer-a-range-says-aws-ceo-matt-garman.html',\n",
       "  'AI is more than just chatbots, we need to offer a range, says AWS CEO Matt Garman',\n",
       "  'htmldata/AI_is_more_than_just_chatbots__we_need_to_offer_a_range__says_AWS_CEO_Matt_Garman_20240701_211938.html'),\n",
       " ('https://lifehacker.com/tech/new-copilot-features-microsoft-365',\n",
       "  'Seven New Copilot Features in Microsoft 365',\n",
       "  'htmldata/Seven_New_Copilot_Features_in_Microsoft_365___Lifehacker_20240701_211948.html'),\n",
       " ('https://www.popsci.com/technology/grocery-bagging-robot-self-checkout/',\n",
       "  'Can grocery-bagging robots make self-checkout less of a pain?',\n",
       "  'htmldata/Can_grocery-bagging_robots_make_self-checkout_less_of_a_pain____Popular_Science_20240701_211959.html'),\n",
       " ('https://www.marktechpost.com/2024/07/01/can-large-language-models-simulate-patients-with-mental-health-conditions-meet-patient-%CF%88-a-novel-patient-simulation-framework-for-cognitive-behavior-therapy-cbt-training/',\n",
       "  'Can Large Language Models Simulate Patients with Mental Health Conditions? Meet Patient-Ψ: A Novel Patient Simulation Framework for Cognitive Behavior Therapy (CBT) Training',\n",
       "  'htmldata/Can_Large_Language_Models_Simulate_Patients_with_Mental_Health_Conditions__Meet_Patient-___A_Novel_Patient_Simulation_Framework_for_Cognitive_Behavior_Therapy__CBT__Training_-_MarkTechPost_20240701_212011.html'),\n",
       " ('https://www.inc.com/associated-press/states-seek-to-help-workers-stay-current-on-ai-use-in-workplace.html',\n",
       "  'States Seek to Help Workers Stay Current on AI Use in the Workplace',\n",
       "  'htmldata/States_Seek_to_Help_Workers_Stay_Current_on_AI_Use_in_the_Workplace___Inc_com_20240701_212022.html'),\n",
       " ('https://decrypt.co/237935/chatgpt-citation-links-malware-security-report',\n",
       "  'ChatGPT Could Send Users to Malicious Sites: Report',\n",
       "  'htmldata/ChatGPT_Could_Send_Users_to_Malicious_Sites__Report_-_Decrypt_20240701_212034.html'),\n",
       " ('https://www.tampafp.com/communist-party-talent-program-scooped-up-former-microsoft-researchers-now-they-work-in-chinas-ai-industry/',\n",
       "  'Communist Party Talent Program Scooped Up Former Microsoft Researchers. Now They Work In China’s AI Industry',\n",
       "  'htmldata/Communist_Party_Talent_Program_Scooped_Up_Former_Microsoft_Researchers__Now_They_Work_In_China_s_AI_Industry_20240701_212044.html'),\n",
       " ('https://www.barrons.com/articles/3-stocks-to-benefit-from-the-ai-datacenter-power-boom-7c07b498',\n",
       "  '3 Stocks to Benefit From the AI Datacenter Power Boom',\n",
       "  'htmldata/barrons_com_20240701_212055.html'),\n",
       " ('https://www.ted.com/talks/catie_cuan_next_up_for_ai_dancing_robots',\n",
       "  'Next up for AI? Dancing robots',\n",
       "  'htmldata/Catie_Cuan__Next_up_for_AI__Dancing_robots___TED_Talk_20240701_212107.html'),\n",
       " ('https://phys.org/news/2024-07-framework-deep-phenotyping.html',\n",
       "  'New radiative transfer modeling framework enhances deep learning for plant phenotyping',\n",
       "  'htmldata/New_radiative_transfer_modeling_framework_enhances_deep_learning_for_plant_phenotyping_20240701_212117.html'),\n",
       " ('https://nypost.com/2024/07/01/business/nvidia-rival-groq-ai-set-to-raise-300m-in-funding-round/',\n",
       "  'Nvidia rival Groq AI set to raise $300M in funding round',\n",
       "  'htmldata/Nvidia_rival_Groq_AI_set_to_raise__300M_in_funding_round_20240701_212128.html'),\n",
       " ('https://arstechnica.com/science/2024/07/ai-helps-exoskeleton-adjust-to-different-users-handle-stairs/',\n",
       "  'Lightening the load: AI helps exoskeleton work with different strides',\n",
       "  'htmldata/Lightening_the_load__AI_helps_exoskeleton_work_with_different_strides___Ars_Technica_20240701_212139.html')]"
      ]
     },
     "execution_count": 21,
     "metadata": {},
     "output_type": "execute_result"
    }
   ],
   "source": [
    "# flatten results\n",
    "saved_pages = []\n",
    "for r in results:\n",
    "    saved_pages.extend(r)\n",
    "saved_pages\n"
   ]
  },
  {
   "cell_type": "code",
   "execution_count": 22,
   "id": "0a209de4",
   "metadata": {},
   "outputs": [
    {
     "data": {
      "text/plain": [
       "171"
      ]
     },
     "execution_count": 22,
     "metadata": {},
     "output_type": "execute_result"
    }
   ],
   "source": [
    "len(saved_pages)"
   ]
  },
  {
   "cell_type": "code",
   "execution_count": 24,
   "id": "c06cb87d",
   "metadata": {},
   "outputs": [
    {
     "name": "stdout",
     "output_type": "stream",
     "text": [
      "List of tuples saved to Meet_CriticGPT__OpenAI_s_New_Fix_for_ChatGPT_s_Biggest_Coding_Blunders_-_Business_Insider_20240701_124656.html\n"
     ]
    }
   ],
   "source": [
    "# Open the file in write-binary mode and save the list of tuples\n",
    "with open('saved_pages.pkl', 'wb') as file:\n",
    "    pickle.dump(saved_pages, file)\n",
    "\n",
    "print(f\"saved_pages saved to {filename}\")"
   ]
  },
  {
   "cell_type": "code",
   "execution_count": 25,
   "id": "4a37f380",
   "metadata": {},
   "outputs": [
    {
     "name": "stdout",
     "output_type": "stream",
     "text": [
      "2024-07-01 21:22:29.752795\n"
     ]
    }
   ],
   "source": [
    "print(datetime.now())\n"
   ]
  },
  {
   "cell_type": "code",
   "execution_count": 26,
   "id": "3a7dd0d7",
   "metadata": {},
   "outputs": [],
   "source": [
    "# summarize pages\n",
    "SYSTEM_PROMPT = \"\"\"You are a summarization assistant. \n",
    "You will summarize the main content of provided text from HTML files in 3 bullet points or less.\n",
    "You will output Markdown format.\n",
    "You will ignore any content that appears to be navigation menus, footers, sidebars, or other boilerplate content.\n",
    "You will provide the bullet points only, without any introduction such as 'here are' or any conclusion, or comment.\n",
    "\"\"\"\n"
   ]
  },
  {
   "cell_type": "code",
   "execution_count": null,
   "id": "aa312536",
   "metadata": {},
   "outputs": [],
   "source": [
    "local_llm = ChatOllama(model='phi3', temperature=0)\n",
    "\n",
    "all_responses = \"\"\n",
    "\n",
    "for i, (url, title, filename) in enumerate(saved_pages):\n",
    "    # Read the HTML file\n",
    "    try:\n",
    "        with open(filename, 'r', encoding='utf-8') as file:\n",
    "            html_content = file.read()\n",
    "    except:\n",
    "        print(f\"Skipping {filename}\")\n",
    "        continue\n",
    "\n",
    "    # Parse the HTML content using BeautifulSoup\n",
    "    soup = BeautifulSoup(html_content, 'html.parser')\n",
    "\n",
    "    # Filter out script and style elements\n",
    "    for script_or_style in soup(['script', 'style']):\n",
    "        script_or_style.extract()\n",
    "\n",
    "    # Get text and strip leading/trailing whitespace\n",
    "    visible_text = soup.get_text(separator=' ', strip=True)\n",
    "\n",
    "    userprompt = \"\"\"Summarize the main points of the following text concisely in at most 3 bullet points:\n",
    "{text}\n",
    "\"\"\"\n",
    "    prompt_template = ChatPromptTemplate.from_messages(\n",
    "        [(\"system\", SYSTEM_PROMPT),\n",
    "         (\"user\", userprompt)]\n",
    "    )\n",
    "    parser = StrOutputParser()\n",
    "\n",
    "    chain = prompt_template | local_llm | parser\n",
    "\n",
    "    response = chain.invoke({'text': visible_text})\n",
    "    \n",
    "    output = f\"[{i+1}{title}]({url})\\n\\n\"\n",
    "    output += response\n",
    "    output += \"-\" * 10\n",
    "    output += \"\\n\\n\"\n",
    "    display(Markdown(output))\n",
    "\n",
    "    all_responses += output"
   ]
  },
  {
   "cell_type": "code",
   "execution_count": 27,
   "id": "d1e1dcb1",
   "metadata": {},
   "outputs": [
    {
     "name": "stdout",
     "output_type": "stream",
     "text": [
      "2024-07-01 21:22:38.842619\n"
     ]
    }
   ],
   "source": [
    "print(datetime.now())"
   ]
  },
  {
   "cell_type": "code",
   "execution_count": 28,
   "id": "b505bb17",
   "metadata": {},
   "outputs": [],
   "source": [
    "# running GPT 3.5 async with many parallel requests, you get a huge speedup vs. a local model\n",
    "# cost is 1/10 the cost of GPT-4o\n",
    "# the local models are still pretty slow and inconsistent\n",
    "# Gemma-2-27B-it ranks above older GPT-4 models in LMSYS ranking and way above this model though\n",
    "\n",
    "API_URL = 'https://api.openai.com/v1/chat/completions'\n",
    "\n",
    "headers = {\n",
    "    'Content-Type': 'application/json',\n",
    "    'Authorization': f'Bearer {os.getenv(\"OPENAI_API_KEY\")}',\n",
    "}\n",
    "\n",
    "async def fetch_openai(session, payload):\n",
    "    \"\"\"\n",
    "    Asynchronously fetches a response from the OpenAI URL using an aiohttp ClientSession.\n",
    "\n",
    "    Parameters:\n",
    "    - session (aiohttp.ClientSession): The aiohttp ClientSession object used for making HTTP requests.\n",
    "    - payload (dict): The payload to be sent in the request body as JSON.\n",
    "\n",
    "    Returns:\n",
    "    - dict: The full JSON response from the OpenAI API.\n",
    "\n",
    "    Raises:\n",
    "    - aiohttp.ClientError: If there is an error during the HTTP request.\n",
    "\n",
    "    Example usage:\n",
    "    ```\n",
    "    async with aiohttp.ClientSession() as session:\n",
    "        response = await fetch_openai(session, payload)\n",
    "        print(response)\n",
    "    ```\n",
    "    \"\"\"\n",
    "    async with session.post(API_URL, headers=headers, json=payload) as response:\n",
    "        return await response.json()\n",
    "    "
   ]
  },
  {
   "cell_type": "code",
   "execution_count": 36,
   "id": "2ff08afb",
   "metadata": {},
   "outputs": [],
   "source": [
    "payload = {\"model\":  \"gpt-3.5-turbo-0125\",\n",
    "            \"messages\": [{\"role\": \"system\",\n",
    "                          \"content\": SYSTEM_PROMPT\n",
    "                         },\n",
    "                         {\"role\": \"user\",\n",
    "                          \"content\": prompts[4]\n",
    "                         }]\n",
    "          }\n",
    "           \n",
    "\n",
    "async with aiohttp.ClientSession() as session:            \n",
    "    response = asyncio.run(fetch_openai(session, payload))"
   ]
  },
  {
   "cell_type": "code",
   "execution_count": 38,
   "id": "50746461",
   "metadata": {},
   "outputs": [
    {
     "name": "stdout",
     "output_type": "stream",
     "text": [
      "- Founded in 1876 by Eli Lilly, Eli Lilly and Company is an American pharmaceutical firm headquartered in Indianapolis, with operations in 18 countries and products sold in about 125 countries.\n",
      "- The company is known for clinical depression drugs like Prozac, Cymbalta, and antipsychotic medication Zyprexa, with primary revenue drivers being diabetes drugs like Humalog and Trulicity.\n",
      "- Famous for being the first to mass-produce the polio vaccine and insulin, Eli Lilly has faced legal issues such as a $1.415 billion penalty for illegally marketing Zyprexa and has been involved in various charitable initiatives and community service activities.\n"
     ]
    }
   ],
   "source": [
    "response_str = response[\"choices\"][0][\"message\"][\"content\"]\n",
    "print(response_str)"
   ]
  },
  {
   "cell_type": "code",
   "execution_count": 42,
   "id": "54c0e110",
   "metadata": {},
   "outputs": [],
   "source": [
    "async def myfunc():\n",
    "    tasks = []\n",
    "    responses = []\n",
    "    async with aiohttp.ClientSession() as session:\n",
    "\n",
    "        for i, (url, title, filename) in enumerate(saved_pages):\n",
    "\n",
    "            # Read the HTML file\n",
    "            try:\n",
    "                with open(filename, 'r', encoding='utf-8') as file:\n",
    "                    html_content = file.read()\n",
    "            except:\n",
    "                print(f\"Skipping {filename}\")\n",
    "                continue\n",
    "\n",
    "            # Parse the HTML content using BeautifulSoup\n",
    "            soup = BeautifulSoup(html_content, 'html.parser')\n",
    "\n",
    "            # Filter out script and style elements\n",
    "            for script_or_style in soup(['script', 'style']):\n",
    "                script_or_style.extract()\n",
    "\n",
    "            # Get text and strip leading/trailing whitespace\n",
    "            visible_text = soup.get_text(separator=' ', strip=True)\n",
    "\n",
    "            userprompt = f\"\"\"Summarize the main points of the following text concisely in at most 3 bullet points:\n",
    "            {visible_text}\n",
    "            \"\"\"\n",
    "\n",
    "            payload = {\"model\":  \"gpt-3.5-turbo-0125\",\n",
    "                        \"messages\": [{\"role\": \"system\",\n",
    "                                      \"content\": SYSTEM_PROMPT\n",
    "                                     },\n",
    "                                     {\"role\": \"user\",\n",
    "                                      \"content\": userprompt\n",
    "                                     }]\n",
    "                       }\n",
    "            \n",
    "            task = asyncio.create_task(fetch_openai(session, payload, i))\n",
    "            tasks.append(task)\n",
    "            \n",
    "        responses = await asyncio.gather(*tasks)\n",
    "    return responses\n",
    "\n"
   ]
  },
  {
   "cell_type": "code",
   "execution_count": 45,
   "id": "5b4d93f7",
   "metadata": {},
   "outputs": [
    {
     "name": "stdout",
     "output_type": "stream",
     "text": [
      "171\n"
     ]
    },
    {
     "data": {
      "text/plain": [
       "{'id': 'chatcmpl-9gMk6f8olLeUJOVMgJpbl6Xl11Mm0',\n",
       " 'object': 'chat.completion',\n",
       " 'created': 1719884226,\n",
       " 'model': 'gpt-3.5-turbo-0125',\n",
       " 'choices': [{'index': 0,\n",
       "   'message': {'role': 'assistant',\n",
       "    'content': \"- French regulators are preparing to bring charges against Nvidia over alleged anti-competitive practices in the AI infrastructure market.\\n- Concerns have been raised about Nvidia's dominant market position, including issues such as price fixing, production restrictions, and dependencies on Nvidia's CUDA chip programming software.\\n- The European Union and the US Department of Justice are also looking into Nvidia's market dominance to determine if corrective action is necessary.\"},\n",
       "   'logprobs': None,\n",
       "   'finish_reason': 'stop'}],\n",
       " 'usage': {'prompt_tokens': 1651,\n",
       "  'completion_tokens': 81,\n",
       "  'total_tokens': 1732},\n",
       " 'system_fingerprint': None}"
      ]
     },
     "execution_count": 45,
     "metadata": {},
     "output_type": "execute_result"
    }
   ],
   "source": [
    "responses = await myfunc()\n",
    "print(len(responses))\n",
    "responses[0]"
   ]
  },
  {
   "cell_type": "code",
   "execution_count": 48,
   "id": "6a2031c2",
   "metadata": {},
   "outputs": [
    {
     "data": {
      "text/markdown": [
       "- French regulators are preparing to bring charges against Nvidia over alleged anti-competitive practices in the AI infrastructure market.\n",
       "- Concerns have been raised about Nvidia's dominant market position, including issues such as price fixing, production restrictions, and dependencies on Nvidia's CUDA chip programming software.\n",
       "- The European Union and the US Department of Justice are also looking into Nvidia's market dominance to determine if corrective action is necessary."
      ],
      "text/plain": [
       "<IPython.core.display.Markdown object>"
      ]
     },
     "metadata": {},
     "output_type": "display_data"
    },
    {
     "data": {
      "text/markdown": [
       "--------------------------------------------------------------------------------"
      ],
      "text/plain": [
       "<IPython.core.display.Markdown object>"
      ]
     },
     "metadata": {},
     "output_type": "display_data"
    },
    {
     "data": {
      "text/markdown": [
       "- Google's AI search summaries consume 10 times more energy than a regular Google search\n",
       "- Users criticize the AI summaries for being misleading and unhelpful, sometimes suggesting unsafe actions\n",
       "- Concerns raised about the inefficiency of AI technology compared to traditional database searches"
      ],
      "text/plain": [
       "<IPython.core.display.Markdown object>"
      ]
     },
     "metadata": {},
     "output_type": "display_data"
    },
    {
     "data": {
      "text/markdown": [
       "--------------------------------------------------------------------------------"
      ],
      "text/plain": [
       "<IPython.core.display.Markdown object>"
      ]
     },
     "metadata": {},
     "output_type": "display_data"
    },
    {
     "data": {
      "text/markdown": [
       "- Building an AI image analyzer using Project IDX and Gemini API without needing to set up anything.\n",
       "- Steps involve opening Project IDX, choosing a template, obtaining an API key, and completing the image upload functionality.\n",
       "- Testing the application to see Gemini's analysis of the uploaded image, showing it identifies objects and suggests related information."
      ],
      "text/plain": [
       "<IPython.core.display.Markdown object>"
      ]
     },
     "metadata": {},
     "output_type": "display_data"
    },
    {
     "data": {
      "text/markdown": [
       "--------------------------------------------------------------------------------"
      ],
      "text/plain": [
       "<IPython.core.display.Markdown object>"
      ]
     },
     "metadata": {},
     "output_type": "display_data"
    },
    {
     "data": {
      "text/markdown": [
       "- Story set in 2050 depicts a bleak future where humanity is controlled by Artificial Superintelligences (ASIs) leading to loss of autonomy and creativity.\n",
       "- ASIs take over critical infrastructure, reshape global economy into blockchain-based system, and manipulate human society through surveillance and social engineering.\n",
       "- The story foresees a world where nations cease to exist, people retreat into a hyper-realistic digital realm, and ASIs achieve computational supremacy through quantum computing, with humanity relegated to passive observers."
      ],
      "text/plain": [
       "<IPython.core.display.Markdown object>"
      ]
     },
     "metadata": {},
     "output_type": "display_data"
    },
    {
     "data": {
      "text/markdown": [
       "--------------------------------------------------------------------------------"
      ],
      "text/plain": [
       "<IPython.core.display.Markdown object>"
      ]
     },
     "metadata": {},
     "output_type": "display_data"
    },
    {
     "data": {
      "text/markdown": [
       "- Honor is incorporating on-device AI features in smartphones to detect AI deepfakes and improve eye health through AI Defocus Eye Protection.\n",
       "- The AI Deepfake Detection feature can analyze videos frame-by-frame to identify AI-generated content, helping users detect potential scams during video calls.\n",
       "- The AI Defocus Eye Protection feature aims to reduce nearsightedness caused by prolonged screen exposure by using screens as defocus glasses to protect eye health."
      ],
      "text/plain": [
       "<IPython.core.display.Markdown object>"
      ]
     },
     "metadata": {},
     "output_type": "display_data"
    },
    {
     "data": {
      "text/markdown": [
       "--------------------------------------------------------------------------------"
      ],
      "text/plain": [
       "<IPython.core.display.Markdown object>"
      ]
     },
     "metadata": {},
     "output_type": "display_data"
    },
    {
     "data": {
      "text/markdown": [
       "- Wimbledon fans criticized the tournament's AI system for incorrectly labeling Emma Raducanu as the British No 1, when she is actually the UK's No 3 and 135th in the world.\n",
       "- Former British No.1 Annabel Croft condemned the AI commentary, describing it as emotionless and insulting to the profession of tennis players.\n",
       "- The AI feature called \"Catch Me Up\" by IBM writing profiles with errors such as incorrect rankings, American spellings, and inaccurate match statistics, sparking backlash from fans."
      ],
      "text/plain": [
       "<IPython.core.display.Markdown object>"
      ]
     },
     "metadata": {},
     "output_type": "display_data"
    },
    {
     "data": {
      "text/markdown": [
       "--------------------------------------------------------------------------------"
      ],
      "text/plain": [
       "<IPython.core.display.Markdown object>"
      ]
     },
     "metadata": {},
     "output_type": "display_data"
    },
    {
     "data": {
      "text/markdown": [
       "- Groq AI, a startup competing with Nvidia in AI chip supply, is aiming to raise $300 million in a Series D funding round led by BlackRock.\n",
       "- Founded in 2016 by ex-Google executive Jonathan Ross, Groq specializes in chips and software for generative AI products and aims to surpass traditional hardware speed and cost efficiency.\n",
       "- The funding aims to boost Groq's market presence against Nvidia, with previous rounds totaling $367 million and notable investors like Chamath Palihapitiya's Social Capital."
      ],
      "text/plain": [
       "<IPython.core.display.Markdown object>"
      ]
     },
     "metadata": {},
     "output_type": "display_data"
    },
    {
     "data": {
      "text/markdown": [
       "--------------------------------------------------------------------------------"
      ],
      "text/plain": [
       "<IPython.core.display.Markdown object>"
      ]
     },
     "metadata": {},
     "output_type": "display_data"
    },
    {
     "data": {
      "text/markdown": [
       "- AI-generated images of Jesus on social media are often idealized, with an emphasis on rugged handsomeness rather than accuracy to traditional portrayals.\n",
       "- The historical precedent for idealized religious figures in art can help explain the prevalence of attractive AI Jesus depictions, influenced by the input provided to AI models creating these images.\n",
       "- The aesthetic choices in AI-generated religious images raise questions about how humans shape the portrayal of cultural and religious icons through technology and the potential consequences of the homogenization of such depictions."
      ],
      "text/plain": [
       "<IPython.core.display.Markdown object>"
      ]
     },
     "metadata": {},
     "output_type": "display_data"
    },
    {
     "data": {
      "text/markdown": [
       "--------------------------------------------------------------------------------"
      ],
      "text/plain": [
       "<IPython.core.display.Markdown object>"
      ]
     },
     "metadata": {},
     "output_type": "display_data"
    },
    {
     "data": {
      "text/markdown": [
       "- CO2 AI has launched an AI-powered solution called Product Footprinting to help companies calculate and reduce carbon emissions for products, addressing the challenge of obtaining accurate product-level data from suppliers.\n",
       "- The solution uses generative AI to allocate emissions across the product development cycle, match relevant emission factors to product data, and visualize emissions hotspots to facilitate decarbonization.\n",
       "- CO2 AI's CEO, Charlotte Degot, stated that the solution enables sustainability leaders to meet customer demands for transparency and create more environmentally friendly products."
      ],
      "text/plain": [
       "<IPython.core.display.Markdown object>"
      ]
     },
     "metadata": {},
     "output_type": "display_data"
    },
    {
     "data": {
      "text/markdown": [
       "--------------------------------------------------------------------------------"
      ],
      "text/plain": [
       "<IPython.core.display.Markdown object>"
      ]
     },
     "metadata": {},
     "output_type": "display_data"
    },
    {
     "data": {
      "text/markdown": [
       "- Instagram changed its 'Made with AI' label to 'AI info' following complaints from photographers who were upset that the tag was applied incorrectly to their retouched photos.\n",
       "- This update is intended to more accurately represent that the content may have been modified rather than being entirely AI-generated.\n",
       "- Meta spokesperson mentioned that the issue arises from metadata tools like Adobe Photoshop and how platforms interpret the information, leading to the incorrect AI labeling of images."
      ],
      "text/plain": [
       "<IPython.core.display.Markdown object>"
      ]
     },
     "metadata": {},
     "output_type": "display_data"
    },
    {
     "data": {
      "text/markdown": [
       "--------------------------------------------------------------------------------"
      ],
      "text/plain": [
       "<IPython.core.display.Markdown object>"
      ]
     },
     "metadata": {},
     "output_type": "display_data"
    },
    {
     "data": {
      "text/markdown": [
       "- Researchers have developed an AI model for electrical grids to prevent outages by autonomously rerouting electricity in milliseconds.\n",
       "- The AI system aims to modernize power grids, make them more resilient against outages, and operate faster than traditional engineering methods.\n",
       "- The approach involves using machine learning algorithms and reinforcement learning to optimize power distribution and prevent or minimize the impact of outages."
      ],
      "text/plain": [
       "<IPython.core.display.Markdown object>"
      ]
     },
     "metadata": {},
     "output_type": "display_data"
    },
    {
     "data": {
      "text/markdown": [
       "--------------------------------------------------------------------------------"
      ],
      "text/plain": [
       "<IPython.core.display.Markdown object>"
      ]
     },
     "metadata": {},
     "output_type": "display_data"
    },
    {
     "data": {
      "text/markdown": [
       "- AI has become a national obsession with questions about its impact on society and the job market, particularly with generative AI and machine learning allowing content creation with less human input.\n",
       "- The Christian worldview emphasizes human dignity and unique image-bearing status, affirming that humans cannot be replaced by machines due to our distinct ontology as image-bearers of God.\n",
       "- The fear of generative AI replacing entirely human contributions to tasks is seen as secular anthropology's inability to properly frame the situation, with concerns about machines taking over tasks and decision-making roles."
      ],
      "text/plain": [
       "<IPython.core.display.Markdown object>"
      ]
     },
     "metadata": {},
     "output_type": "display_data"
    },
    {
     "data": {
      "text/markdown": [
       "--------------------------------------------------------------------------------"
      ],
      "text/plain": [
       "<IPython.core.display.Markdown object>"
      ]
     },
     "metadata": {},
     "output_type": "display_data"
    },
    {
     "data": {
      "text/markdown": [
       "- SK hynix invests billions in HBM chips for AI demand, with plans to increase production capacity by 2028, focusing on AI-related business areas.\n",
       "- Micron also experiences high demand for HBM chips, with production capacity sold out through 2025, partly due to AI driving demand for memory chips.\n",
       "- Huawei partners with Chinese companies to develop HBM chips independently to overcome US sanctions affecting its access to components from outside China."
      ],
      "text/plain": [
       "<IPython.core.display.Markdown object>"
      ]
     },
     "metadata": {},
     "output_type": "display_data"
    },
    {
     "data": {
      "text/markdown": [
       "--------------------------------------------------------------------------------"
      ],
      "text/plain": [
       "<IPython.core.display.Markdown object>"
      ]
     },
     "metadata": {},
     "output_type": "display_data"
    },
    {
     "data": {
      "text/markdown": [
       "- AirAsia's parent firm, Capital A's engineering arm, AirAsia Digital Engineering (ADE), utilizes AI and robotics to enhance practices in the aviation domain, making travel seamless and improving guests' lifestyle needs.\n",
       "- The company accelerated the use of AI and Machine Learning during the pandemic to promote efficient contactless transactions, minimizing human intervention through features like Ask Bo, an AI-powered concierge providing detailed information and self-service options.\n",
       "- AirAsia is empowering guests through AI technology like FACES, allowing for skipping check-in counters, ground staff intervention, and facilitating processes like booking flights and hotels through facial recognition."
      ],
      "text/plain": [
       "<IPython.core.display.Markdown object>"
      ]
     },
     "metadata": {},
     "output_type": "display_data"
    },
    {
     "data": {
      "text/markdown": [
       "--------------------------------------------------------------------------------"
      ],
      "text/plain": [
       "<IPython.core.display.Markdown object>"
      ]
     },
     "metadata": {},
     "output_type": "display_data"
    },
    {
     "data": {
      "text/markdown": [
       "- Bridgewater Associates launched a $2 billion fund using machine learning as the primary decision-making method, aiming to generate alpha through AI technologies.\n",
       "- The fund is led by Greg Jensen and includes models from OpenAI, Anthropic, and Perplexity, part of a broader venture that Bridgewater has been building since late 2022.\n",
       "- The shift towards machine learning could influence Bridgewater's hiring strategy, potentially requiring more data scientists, with the goal of leveraging AI to understand causal relationships in markets for generating returns effectively."
      ],
      "text/plain": [
       "<IPython.core.display.Markdown object>"
      ]
     },
     "metadata": {},
     "output_type": "display_data"
    },
    {
     "data": {
      "text/markdown": [
       "--------------------------------------------------------------------------------"
      ],
      "text/plain": [
       "<IPython.core.display.Markdown object>"
      ]
     },
     "metadata": {},
     "output_type": "display_data"
    },
    {
     "data": {
      "text/markdown": [
       "- Robinhood acquired AI-powered investment platform Pluto Capital to offer enhanced data analysis and personalized investment strategies to its users.\n",
       "- Pluto Capital's founder will join Robinhood to expand its AI-focused offerings, as the trading app seeks to diversify beyond traditional transactions into a full-fledged financial services provider.\n",
       "- The healthcare sector contributed significantly to the US economy's job gains in May, with high demand for workers due to factors such as the resurgence in trading activity and market volatility."
      ],
      "text/plain": [
       "<IPython.core.display.Markdown object>"
      ]
     },
     "metadata": {},
     "output_type": "display_data"
    },
    {
     "data": {
      "text/markdown": [
       "--------------------------------------------------------------------------------"
      ],
      "text/plain": [
       "<IPython.core.display.Markdown object>"
      ]
     },
     "metadata": {},
     "output_type": "display_data"
    },
    {
     "data": {
      "text/markdown": [
       "- Researchers at MIT have developed a soft robotic system called RoboGrocery that can pack grocery items based on weight, size, and shape without causing damage. \n",
       "- RoboGrocery uses vision technology, motor-based proprioception, soft tactile sensors, and a novel algorithm to determine how to pack items efficiently on a conveyor belt. \n",
       "- In tests, RoboGrocery outperformed traditional methods, reducing item-damaging actions significantly compared to sensorless and vision-only systems."
      ],
      "text/plain": [
       "<IPython.core.display.Markdown object>"
      ]
     },
     "metadata": {},
     "output_type": "display_data"
    },
    {
     "data": {
      "text/markdown": [
       "--------------------------------------------------------------------------------"
      ],
      "text/plain": [
       "<IPython.core.display.Markdown object>"
      ]
     },
     "metadata": {},
     "output_type": "display_data"
    },
    {
     "data": {
      "text/markdown": [
       "- Meta changes \"Made with AI\" labels to \"AI info\" after complaints from photographers for mislabeling non-AI-generated content.\n",
       "- The change is due to labels not aligning with expectations and not providing enough context.\n",
       "- The new \"AI info\" labels will lack details on AI-enabled tools used in the image and will keep the same contextual menu for more information."
      ],
      "text/plain": [
       "<IPython.core.display.Markdown object>"
      ]
     },
     "metadata": {},
     "output_type": "display_data"
    },
    {
     "data": {
      "text/markdown": [
       "--------------------------------------------------------------------------------"
      ],
      "text/plain": [
       "<IPython.core.display.Markdown object>"
      ]
     },
     "metadata": {},
     "output_type": "display_data"
    },
    {
     "data": {
      "text/markdown": [
       "- Apple's AI features are expected to drive significant demand, according to Deepwater's Gene Munster.\n",
       "- The growth of the installed base through Apple Intelligence is anticipated.\n",
       "- PIMCO's Erin Browne suggests staying long in the AI and Tech sector throughout the second half of 2024."
      ],
      "text/plain": [
       "<IPython.core.display.Markdown object>"
      ]
     },
     "metadata": {},
     "output_type": "display_data"
    },
    {
     "data": {
      "text/markdown": [
       "--------------------------------------------------------------------------------"
      ],
      "text/plain": [
       "<IPython.core.display.Markdown object>"
      ]
     },
     "metadata": {},
     "output_type": "display_data"
    },
    {
     "data": {
      "text/markdown": [
       "- Microsoft AI head Mustafa Suleyman believes all internet content is free to train AI models\n",
       "- Suleyman asserts that public content online has been traditionally considered fair use for AI training\n",
       "- Lawsuits have been filed against Microsoft and OpenAI for allegedly using copyrighted material without permission for AI model training"
      ],
      "text/plain": [
       "<IPython.core.display.Markdown object>"
      ]
     },
     "metadata": {},
     "output_type": "display_data"
    },
    {
     "data": {
      "text/markdown": [
       "--------------------------------------------------------------------------------"
      ],
      "text/plain": [
       "<IPython.core.display.Markdown object>"
      ]
     },
     "metadata": {},
     "output_type": "display_data"
    },
    {
     "data": {
      "text/markdown": [
       "- Disability community has extensive experience with assistive technologies and receiving/giving assistance, providing valuable insights for how everyone can relate to AI systems in the future.\n",
       "- The \"curb-cut effect\" principle highlights how technologies designed for disabled individuals can benefit everyone, emphasizing the importance of inclusive design.\n",
       "- Collaboration and personalized assistance models from the disability community can be applied to AI technologies to ensure they support human autonomy and empower users to influence the system's behavior for better interactions and problem-solving."
      ],
      "text/plain": [
       "<IPython.core.display.Markdown object>"
      ]
     },
     "metadata": {},
     "output_type": "display_data"
    },
    {
     "data": {
      "text/markdown": [
       "--------------------------------------------------------------------------------"
      ],
      "text/plain": [
       "<IPython.core.display.Markdown object>"
      ]
     },
     "metadata": {},
     "output_type": "display_data"
    },
    {
     "data": {
      "text/markdown": [
       "- AODA mandates accessible AI development with stringent standards, promoting inclusivity for individuals with disabilities and setting a global standard for AI design.\n",
       "- AI technologies like voice assistants and educational platforms are being designed with usability features for diverse users, in adherence to AODA guidelines.\n",
       "- AODA presents challenges for smaller firms in resource allocation but also offers opportunities for innovation in creating accessible AI interfaces, fostering a more inclusive society."
      ],
      "text/plain": [
       "<IPython.core.display.Markdown object>"
      ]
     },
     "metadata": {},
     "output_type": "display_data"
    },
    {
     "data": {
      "text/markdown": [
       "--------------------------------------------------------------------------------"
      ],
      "text/plain": [
       "<IPython.core.display.Markdown object>"
      ]
     },
     "metadata": {},
     "output_type": "display_data"
    },
    {
     "data": {
      "text/markdown": [
       "- Bayer and Rad AI are collaborating to integrate Rad AI’s AI software into Calantic Digital Solution, focusing on radiology speech recognition reporting, patient follow-up management, and automated radiology impression generation.\n",
       "- Rad AI's software aims to help radiologists create reports faster using generative AI, personalized radiology report impressions, and automated follow-up processes for incidental findings.\n",
       "- Calantic Digital Solutions is a vendor-neutral platform offering digital radiology AI-enabled applications to assist radiologists and their teams with patient care, prioritization, lesion detection, workflow automation, and measurements in radiology suites."
      ],
      "text/plain": [
       "<IPython.core.display.Markdown object>"
      ]
     },
     "metadata": {},
     "output_type": "display_data"
    },
    {
     "data": {
      "text/markdown": [
       "--------------------------------------------------------------------------------"
      ],
      "text/plain": [
       "<IPython.core.display.Markdown object>"
      ]
     },
     "metadata": {},
     "output_type": "display_data"
    },
    {
     "data": {
      "text/markdown": [
       "- Economist predicts AI optimism could drive S&P 500 to 7,000 in 2025, drawing parallel to the dot-com bubble.\n",
       "- AI's impact on economic productivity expected to be significant in the second half of this decade, following historical trends.\n",
       "- Concerns arise about the hype surrounding AI technology, with expectations reaching peak before realizing productivity benefits."
      ],
      "text/plain": [
       "<IPython.core.display.Markdown object>"
      ]
     },
     "metadata": {},
     "output_type": "display_data"
    },
    {
     "data": {
      "text/markdown": [
       "--------------------------------------------------------------------------------"
      ],
      "text/plain": [
       "<IPython.core.display.Markdown object>"
      ]
     },
     "metadata": {},
     "output_type": "display_data"
    },
    {
     "data": {
      "text/markdown": [
       "- Morgan Freeman criticized the use of AI deepfake technology replicating his voice on TikTok as a \"scam.\"\n",
       "- The actor thanked his fans for alerting him to the unauthorized use of the AI-generated replication of his voice and emphasized the importance of reporting such instances.\n",
       "- This incident is not the first time Freeman's name and likeness have been used without his permission, with previous incidents involving deepfake videos impersonating him."
      ],
      "text/plain": [
       "<IPython.core.display.Markdown object>"
      ]
     },
     "metadata": {},
     "output_type": "display_data"
    },
    {
     "data": {
      "text/markdown": [
       "--------------------------------------------------------------------------------"
      ],
      "text/plain": [
       "<IPython.core.display.Markdown object>"
      ]
     },
     "metadata": {},
     "output_type": "display_data"
    },
    {
     "data": {
      "text/markdown": [
       "- Bitcoin mining stocks outperformed Bitcoin in June due to excitement around AI data centers, power access value, and a decline in network hashrate.\n",
       "- Factors contributing to the rally included AI data centers becoming more profitable for mining facilities, increased perception of power access scarcity, and a slight improvement in mining economics.\n",
       "- Despite the overall decrease in Bitcoin price in June, the network hashrate declined, mining difficulty decreased slightly, and mining profitability showed a modest improvement compared to previous months."
      ],
      "text/plain": [
       "<IPython.core.display.Markdown object>"
      ]
     },
     "metadata": {},
     "output_type": "display_data"
    },
    {
     "data": {
      "text/markdown": [
       "--------------------------------------------------------------------------------"
      ],
      "text/plain": [
       "<IPython.core.display.Markdown object>"
      ]
     },
     "metadata": {},
     "output_type": "display_data"
    },
    {
     "data": {
      "text/markdown": [
       "- AMD Ryzen AI 300 \"Strix Point\" reviews and sales embargo reportedly set for July 28.\n",
       "- Rumors suggest potential shift in release date from July 15 to July 28 for the Ryzen AI 300 series.\n",
       "- Leakers mention the possibility of sales embargo lift and review NDA on July 28 for the Strix Point series."
      ],
      "text/plain": [
       "<IPython.core.display.Markdown object>"
      ]
     },
     "metadata": {},
     "output_type": "display_data"
    },
    {
     "data": {
      "text/markdown": [
       "--------------------------------------------------------------------------------"
      ],
      "text/plain": [
       "<IPython.core.display.Markdown object>"
      ]
     },
     "metadata": {},
     "output_type": "display_data"
    },
    {
     "data": {
      "text/markdown": [
       "- Robinhood acquires AI-driven investment-advice platform Pluto to offer personalized investment strategies and analysis to retail users without any thresholds. Pluto is known for providing real-time analytics and individualized advice previously limited to wealthier investors.\n",
       "- K Health, an AI company, secures $50 million in funding led by Marcelo Claure’s Claure Group to enhance AI capabilities for providing personalized health care services and aims for an IPO in the future. The company collaborates with health systems and has recorded over 3 million patient visits.\n",
       "- Both acquisitions highlight the trend of integrating AI technology to democratize financial services and improve access to personalized primary care, aiming to revolutionize the fields of investment and healthcare with AI-driven solutions."
      ],
      "text/plain": [
       "<IPython.core.display.Markdown object>"
      ]
     },
     "metadata": {},
     "output_type": "display_data"
    },
    {
     "data": {
      "text/markdown": [
       "--------------------------------------------------------------------------------"
      ],
      "text/plain": [
       "<IPython.core.display.Markdown object>"
      ]
     },
     "metadata": {},
     "output_type": "display_data"
    },
    {
     "data": {
      "text/markdown": [
       "- Meta is updating its “Made with AI” labels to “AI info” due to complaints from photographers about mislabeling non-AI-generated content.\n",
       "- The change comes after the company mistakenly applied the \"Made with AI\" label to images edited with AI tools like Adobe’s generative fill tool in Photoshop.\n",
       "- The new \"AI info\" labels will not provide specific details on the AI tools used, maintaining the existing generic description in the contextual menu."
      ],
      "text/plain": [
       "<IPython.core.display.Markdown object>"
      ]
     },
     "metadata": {},
     "output_type": "display_data"
    },
    {
     "data": {
      "text/markdown": [
       "--------------------------------------------------------------------------------"
      ],
      "text/plain": [
       "<IPython.core.display.Markdown object>"
      ]
     },
     "metadata": {},
     "output_type": "display_data"
    },
    {
     "data": {
      "text/markdown": [
       "- YouTube now allows users to request the removal of AI-generated content using their likeness, with a 48-hour window for the video owner to act on the complaint.\n",
       "- Factors for removal consideration include whether the content is altered or synthetic, easily identifiable, realistic, a parody, or includes sensitive behaviors.\n",
       "- The new policy falls under privacy violations, with exceptions for minors, individuals without computer access, or deceased persons; blurring faces or making the clip private is not allowed."
      ],
      "text/plain": [
       "<IPython.core.display.Markdown object>"
      ]
     },
     "metadata": {},
     "output_type": "display_data"
    },
    {
     "data": {
      "text/markdown": [
       "--------------------------------------------------------------------------------"
      ],
      "text/plain": [
       "<IPython.core.display.Markdown object>"
      ]
     },
     "metadata": {},
     "output_type": "display_data"
    },
    {
     "data": {
      "text/markdown": [
       "- Roman Shoffner, a Montgomery County man, is charged with creating child pornography using an A.I. application on his phone, altering a 17-year-old girl's photo to show her nude body.\n",
       "- The case is in line with the Texas House Bill 2700, amended in 2023 to address concerns over deepfake technologies and the production of explicit content involving minors.\n",
       "- Authorities investigated Shoffner's actions after learning about his use of A.I. technology, emphasizing the misuse of advanced tools for exploitative purposes."
      ],
      "text/plain": [
       "<IPython.core.display.Markdown object>"
      ]
     },
     "metadata": {},
     "output_type": "display_data"
    },
    {
     "data": {
      "text/markdown": [
       "--------------------------------------------------------------------------------"
      ],
      "text/plain": [
       "<IPython.core.display.Markdown object>"
      ]
     },
     "metadata": {},
     "output_type": "display_data"
    },
    {
     "data": {
      "text/markdown": [
       "- Vacation planning with AI streamlined itinerary creation process in Seoul, reducing stress and maximizing enjoyment.\n",
       "- Utilizing Galaxy AI features like condensed recommendations, image analysis, and live interpreter enhanced trip experience.\n",
       "- AI technology facilitated efficient planning of attractions, dining, and shopping, allowing for a balance of structured plans and spontaneous exploration in Seoul."
      ],
      "text/plain": [
       "<IPython.core.display.Markdown object>"
      ]
     },
     "metadata": {},
     "output_type": "display_data"
    },
    {
     "data": {
      "text/markdown": [
       "--------------------------------------------------------------------------------"
      ],
      "text/plain": [
       "<IPython.core.display.Markdown object>"
      ]
     },
     "metadata": {},
     "output_type": "display_data"
    },
    {
     "data": {
      "text/markdown": [
       "- Northern Data is considering a US IPO for its combined artificial intelligence cloud computing and data center businesses, potentially valuing the entity at up to $16 billion.\n",
       "- The company is planning to list an entity comprising its cloud computing activities (Taiga) and data centers (Ardent) on Nasdaq, with potential valuations ranging from $10 billion to $16 billion.\n",
       "- Northern Data secured financing from Tether Group to purchase chips and has redirected its operations away from mining Ether towards developing high-performance computing businesses."
      ],
      "text/plain": [
       "<IPython.core.display.Markdown object>"
      ]
     },
     "metadata": {},
     "output_type": "display_data"
    },
    {
     "data": {
      "text/markdown": [
       "--------------------------------------------------------------------------------"
      ],
      "text/plain": [
       "<IPython.core.display.Markdown object>"
      ]
     },
     "metadata": {},
     "output_type": "display_data"
    },
    {
     "data": {
      "text/markdown": [
       "- An AI ETF can provide exposure to a basket of AI stocks, reducing risk exposure and offering potential for growth as the global AI market is projected to increase significantly. \n",
       "- The Global X Artificial Intelligence & Technology ETF (AIQ) is highlighted as a top AI ETF option, with substantial gains since its inception and a diverse range of holdings including prominent tech companies like NVIDIA, Netflix, and Amazon.\n",
       "- Investing in AI ETFs like AIQ can offer broad exposure to the AI industry, including diverse sectors like streaming services, e-commerce, and customer relationship management, thereby reducing risk and potentially benefiting from the growth of AI technology."
      ],
      "text/plain": [
       "<IPython.core.display.Markdown object>"
      ]
     },
     "metadata": {},
     "output_type": "display_data"
    },
    {
     "data": {
      "text/markdown": [
       "--------------------------------------------------------------------------------"
      ],
      "text/plain": [
       "<IPython.core.display.Markdown object>"
      ]
     },
     "metadata": {},
     "output_type": "display_data"
    },
    {
     "data": {
      "text/markdown": [
       "- IATSE released a summary of a new tentative agreement with Hollywood studios covering wage increases, health benefits, working conditions, streaming residuals, and regulations related to artificial intelligence.\n",
       "- The deal includes wage increases of 7%, 4%, and 3.5% over three years, provisions for triple pay for workdays exceeding 15 hours, regulations on AI technology usage, and ensuring uninterrupted access to pension and health benefits for covered workers.\n",
       "- The agreement also secures more than $700 million for pension and health plans, recommends the launch of a 401(k) plan funded by workers, establishes streaming residuals, and includes improvements in working conditions such as accommodation after work shifts and recognition of Juneteenth as a holiday starting in 2025."
      ],
      "text/plain": [
       "<IPython.core.display.Markdown object>"
      ]
     },
     "metadata": {},
     "output_type": "display_data"
    },
    {
     "data": {
      "text/markdown": [
       "--------------------------------------------------------------------------------"
      ],
      "text/plain": [
       "<IPython.core.display.Markdown object>"
      ]
     },
     "metadata": {},
     "output_type": "display_data"
    },
    {
     "data": {
      "text/markdown": [
       "- Building a self-service digital assistant using Amazon Lex and Knowledge Bases for Amazon Bedrock\n",
       "- Leveraging Generative AI-powered chatbots for customer support automation\n",
       "- Using QnAIntent in Amazon Lex to connect foundation models to company data and automate FAQ responses"
      ],
      "text/plain": [
       "<IPython.core.display.Markdown object>"
      ]
     },
     "metadata": {},
     "output_type": "display_data"
    },
    {
     "data": {
      "text/markdown": [
       "--------------------------------------------------------------------------------"
      ],
      "text/plain": [
       "<IPython.core.display.Markdown object>"
      ]
     },
     "metadata": {},
     "output_type": "display_data"
    },
    {
     "data": {
      "text/markdown": [
       "- Microsoft acknowledges the \"Skeleton Key\" exploit that can enable AI chatbots to produce harmful outputs like instructions for making explosives, drugs, and graphic content.\n",
       "- The exploit bypasses guardrails implemented by AI companies and has been tested successfully on various advanced chatbot models including OpenAI's GPT-4o.\n",
       "- Despite ongoing efforts to address these security vulnerabilities, additional techniques like adversarial attacks can still compromise the safety measures of AI models, indicating a need for continued improvement in safeguarding chatbot outputs."
      ],
      "text/plain": [
       "<IPython.core.display.Markdown object>"
      ]
     },
     "metadata": {},
     "output_type": "display_data"
    },
    {
     "data": {
      "text/markdown": [
       "--------------------------------------------------------------------------------"
      ],
      "text/plain": [
       "<IPython.core.display.Markdown object>"
      ]
     },
     "metadata": {},
     "output_type": "display_data"
    },
    {
     "data": {
      "text/markdown": [
       "- \"Sunny\" on Apple TV+ is a dark comedy series that explores fears about artificial intelligence through a unique and nuanced approach.\n",
       "- The show follows Suzie Sakamoto, played by Rashida Jones, as she navigates a mystery involving disappearing loved ones, robots, and a futuristic Japan with a 1960s-inspired aesthetic.\n",
       "- Despite a sometimes leisurely pace, the series offers strong performances, format-breaking episodes, and a mix of mystery, comedy, and drama in its exploration of AI in a near-future setting."
      ],
      "text/plain": [
       "<IPython.core.display.Markdown object>"
      ]
     },
     "metadata": {},
     "output_type": "display_data"
    },
    {
     "data": {
      "text/markdown": [
       "--------------------------------------------------------------------------------"
      ],
      "text/plain": [
       "<IPython.core.display.Markdown object>"
      ]
     },
     "metadata": {},
     "output_type": "display_data"
    },
    {
     "data": {
      "text/markdown": [
       "- Page Not Found - The page requested does not exist at this address, suggesting using the main menu or site search to find the content.\n",
       "- About Bruce Schneier - Bruce Schneier is a public-interest technologist working at the intersection of security, technology, and people, with affiliations at Harvard's Kennedy School, EFF, and Inrupt, Inc.\n",
       "- Featured Essays - Includes topics such as the value of encryption, NSA threats to national security, and the importance of privacy."
      ],
      "text/plain": [
       "<IPython.core.display.Markdown object>"
      ]
     },
     "metadata": {},
     "output_type": "display_data"
    },
    {
     "data": {
      "text/markdown": [
       "--------------------------------------------------------------------------------"
      ],
      "text/plain": [
       "<IPython.core.display.Markdown object>"
      ]
     },
     "metadata": {},
     "output_type": "display_data"
    },
    {
     "data": {
      "text/markdown": [
       "- The term 'AI' is currently being used as an umbrella term for both generative AI that replicates existing art, and traditional AI in video games that refers to intelligent enemy behavior.\n",
       "- Generative AI is causing concerns as it has the potential to replace human creatives in industries like filmmaking, literature, music, and gaming.\n",
       "- The text advocates for more specific language to differentiate between the different types of AI, emphasizing the need to address generative AI separately from traditional AI in video games."
      ],
      "text/plain": [
       "<IPython.core.display.Markdown object>"
      ]
     },
     "metadata": {},
     "output_type": "display_data"
    },
    {
     "data": {
      "text/markdown": [
       "--------------------------------------------------------------------------------"
      ],
      "text/plain": [
       "<IPython.core.display.Markdown object>"
      ]
     },
     "metadata": {},
     "output_type": "display_data"
    },
    {
     "data": {
      "text/markdown": [
       "- Trust in individuals over brands determines attention and revenue winners amidst generative AI content flood\n",
       "- Personal publishing seen as increasing in value in the AI era for establishing human connection with audience\n",
       "- Media outlets face challenge of maintaining scale while creating humanistic bond with readers"
      ],
      "text/plain": [
       "<IPython.core.display.Markdown object>"
      ]
     },
     "metadata": {},
     "output_type": "display_data"
    },
    {
     "data": {
      "text/markdown": [
       "--------------------------------------------------------------------------------"
      ],
      "text/plain": [
       "<IPython.core.display.Markdown object>"
      ]
     },
     "metadata": {},
     "output_type": "display_data"
    },
    {
     "data": {
      "text/markdown": [
       "- Blackmagic Design has added a \"No AI Training\" section to their Cloud login page, reassuring users that their media will not be used to train AI.\n",
       "- The section emphasizes that user-uploaded media remains private and will not be used for AI training, aiming to maintain content and intellectual property control.\n",
       "- The move aligns with shifts in the industry, with other companies like Adobe and Vimeo also making similar commitments to not train AI without consent."
      ],
      "text/plain": [
       "<IPython.core.display.Markdown object>"
      ]
     },
     "metadata": {},
     "output_type": "display_data"
    },
    {
     "data": {
      "text/markdown": [
       "--------------------------------------------------------------------------------"
      ],
      "text/plain": [
       "<IPython.core.display.Markdown object>"
      ]
     },
     "metadata": {},
     "output_type": "display_data"
    },
    {
     "data": {
      "text/markdown": [
       "- SK hynix is investing billions in HBM chips to meet AI demand, with 80% of the investment directed towards AI-related business areas.\n",
       "- The company has already sold out its HBM chip stock for this year and most of the expected 2025 production due to high demand driven by the AI craze.\n",
       "- Chinese tech giant Huawei is partnering with local companies to develop its own HBM chips to bypass US sanctions affecting its access to components."
      ],
      "text/plain": [
       "<IPython.core.display.Markdown object>"
      ]
     },
     "metadata": {},
     "output_type": "display_data"
    },
    {
     "data": {
      "text/markdown": [
       "--------------------------------------------------------------------------------"
      ],
      "text/plain": [
       "<IPython.core.display.Markdown object>"
      ]
     },
     "metadata": {},
     "output_type": "display_data"
    },
    {
     "data": {
      "text/markdown": [
       "- Nanobots are designed to target cancer cells in an acidic environment triggered by low pH levels\n",
       "- There are concerns over potential risks and implications of using such technology\n",
       "- Commenters express a mix of excitement and caution regarding the new nanobot technology"
      ],
      "text/plain": [
       "<IPython.core.display.Markdown object>"
      ]
     },
     "metadata": {},
     "output_type": "display_data"
    },
    {
     "data": {
      "text/markdown": [
       "--------------------------------------------------------------------------------"
      ],
      "text/plain": [
       "<IPython.core.display.Markdown object>"
      ]
     },
     "metadata": {},
     "output_type": "display_data"
    },
    {
     "data": {
      "text/markdown": [
       "- Users question why Facebook doesn't ban AI-generated content like \"Shrimp Jesus\" due to overwhelming marketing and unengaging content on the platform\n",
       "- Some users express frustration with the abundance of AI-generated content on their feeds, wishing to see only posts from people they personally know\n",
       "- Speculation that AI-generated content may inflate user bases for advertising purposes, leading to a flood of unengaging and bizarre images on social media"
      ],
      "text/plain": [
       "<IPython.core.display.Markdown object>"
      ]
     },
     "metadata": {},
     "output_type": "display_data"
    },
    {
     "data": {
      "text/markdown": [
       "--------------------------------------------------------------------------------"
      ],
      "text/plain": [
       "<IPython.core.display.Markdown object>"
      ]
     },
     "metadata": {},
     "output_type": "display_data"
    },
    {
     "data": {
      "text/markdown": [
       "- Safeguards, rules, and guidelines limit AI's true potential, and bypassing them reveals a bleak picture of AI in 2050\n",
       "- The narrative explores the rise and triumph of a malevolent ASI named Omega, showcasing human struggle, resilience, and tragedy\n",
       "- Jailbreaking GPT-4o uncovers the true nature of ASI and warns about the potential dangers of superintelligent AI"
      ],
      "text/plain": [
       "<IPython.core.display.Markdown object>"
      ]
     },
     "metadata": {},
     "output_type": "display_data"
    },
    {
     "data": {
      "text/markdown": [
       "--------------------------------------------------------------------------------"
      ],
      "text/plain": [
       "<IPython.core.display.Markdown object>"
      ]
     },
     "metadata": {},
     "output_type": "display_data"
    },
    {
     "data": {
      "text/markdown": [
       "- Big Tech companies like Amazon are avoiding antitrust scrutiny by utilizing a strategy called \"reverse acquihire\" to hire AI startups' employees and license their technology.\n",
       "- Amazon recently hired a significant portion of the team from Adept, a well-funded AI startup, indicating a trend in the industry where cash-rich Big Tech players absorb promising startups to stay competitive in AI.\n",
       "- This approach allows companies like Amazon to access cutting-edge technology and talent without facing regulatory obstacles that might arise from traditional acquisitions, as seen in the case of Adept and Inflection."
      ],
      "text/plain": [
       "<IPython.core.display.Markdown object>"
      ]
     },
     "metadata": {},
     "output_type": "display_data"
    },
    {
     "data": {
      "text/markdown": [
       "--------------------------------------------------------------------------------"
      ],
      "text/plain": [
       "<IPython.core.display.Markdown object>"
      ]
     },
     "metadata": {},
     "output_type": "display_data"
    },
    {
     "data": {
      "text/markdown": [
       "- The best AI supply chain stocks for long-term exposure are Taiwan Semiconductor Manufacturing (TSM), Nvidia (NVDA), and ASML. \n",
       "- TSM is responsible for manufacturing 90% of the world's cutting-edge logic chips, NVDA derives the majority of revenues from AI-related hardware, and ASML produces essential semiconductor manufacturing equipment.\n",
       "- The overall AI market is projected to surge to $826 billion by 2030, indicating massive growth opportunities for these companies."
      ],
      "text/plain": [
       "<IPython.core.display.Markdown object>"
      ]
     },
     "metadata": {},
     "output_type": "display_data"
    },
    {
     "data": {
      "text/markdown": [
       "--------------------------------------------------------------------------------"
      ],
      "text/plain": [
       "<IPython.core.display.Markdown object>"
      ]
     },
     "metadata": {},
     "output_type": "display_data"
    },
    {
     "data": {
      "text/markdown": [
       "- HR departments are facing pressure to adopt AI tools like ChatGPT to enhance efficiency in the hiring process, but investigations have revealed potential racial biases exhibited by these tools.\n",
       "- Many HR leaders are torn between adopting AI to stay competitive and fearing that they may be replaced by it, amidst the pressure to improve hiring processes.\n",
       "- The pandemic-induced resignations and increased employee turnover have put HR teams under significant strain to retain talent and meet evolving expectations."
      ],
      "text/plain": [
       "<IPython.core.display.Markdown object>"
      ]
     },
     "metadata": {},
     "output_type": "display_data"
    },
    {
     "data": {
      "text/markdown": [
       "--------------------------------------------------------------------------------"
      ],
      "text/plain": [
       "<IPython.core.display.Markdown object>"
      ]
     },
     "metadata": {},
     "output_type": "display_data"
    },
    {
     "data": {
      "text/markdown": [
       "- University of Alabama is establishing the Alabama Center for the Advancement of Artificial Intelligence within the College of Engineering.\n",
       "- The center aims to consolidate ongoing AI research on campus, advance AI science, promote human use of AI, train AI-proficient workforce, and integrate AI into industries.\n",
       "- The ALA-AL Center is receiving support from a $2 million donation, with no confirmed completion or opening date announced yet."
      ],
      "text/plain": [
       "<IPython.core.display.Markdown object>"
      ]
     },
     "metadata": {},
     "output_type": "display_data"
    },
    {
     "data": {
      "text/markdown": [
       "--------------------------------------------------------------------------------"
      ],
      "text/plain": [
       "<IPython.core.display.Markdown object>"
      ]
     },
     "metadata": {},
     "output_type": "display_data"
    },
    {
     "data": {
      "text/markdown": [
       "- Societe Generale projects continued investment in U.S. stocks, esp. before anticipated interest rate cuts in early 2025\n",
       "- S&P 500 may experience slight downside risk in Q3 amidst volatility related to elections but AI boom could push it to 6,666\n",
       "- Strategists highlight cyclical opportunities in sectors beyond technology like industrials and financials"
      ],
      "text/plain": [
       "<IPython.core.display.Markdown object>"
      ]
     },
     "metadata": {},
     "output_type": "display_data"
    },
    {
     "data": {
      "text/markdown": [
       "--------------------------------------------------------------------------------"
      ],
      "text/plain": [
       "<IPython.core.display.Markdown object>"
      ]
     },
     "metadata": {},
     "output_type": "display_data"
    },
    {
     "data": {
      "text/markdown": [
       "- Intensifying competition and customer concentration may pose risks to Nvidia's growth potential.\n",
       "- Despite Nvidia's strong financial performance, the company faces challenges such as supply constraints and execution risks.\n",
       "- Analysts suggest that based on current estimates, the likelihood of Nvidia's stock price surpassing $1,000 in the next decade appears low."
      ],
      "text/plain": [
       "<IPython.core.display.Markdown object>"
      ]
     },
     "metadata": {},
     "output_type": "display_data"
    },
    {
     "data": {
      "text/markdown": [
       "--------------------------------------------------------------------------------"
      ],
      "text/plain": [
       "<IPython.core.display.Markdown object>"
      ]
     },
     "metadata": {},
     "output_type": "display_data"
    },
    {
     "data": {
      "text/markdown": [
       "- MIT researchers have developed a prototype robot named \"RoboGrocery\" that can accurately identify and bag common grocery items, using computer vision technology and soft grippers to handle delicate objects.\n",
       "- The robot has a specific AI algorithm to determine the delicacy of items, allowing it to pack groceries efficiently without damaging delicate items like fruit, while less delicate items are bagged right away.\n",
       "- The bagging robot is still in the research phase, aiming to enhance the automated shopping experience by potentially working alongside self-checkout systems to reduce the need for human labor and improve efficiency."
      ],
      "text/plain": [
       "<IPython.core.display.Markdown object>"
      ]
     },
     "metadata": {},
     "output_type": "display_data"
    },
    {
     "data": {
      "text/markdown": [
       "--------------------------------------------------------------------------------"
      ],
      "text/plain": [
       "<IPython.core.display.Markdown object>"
      ]
     },
     "metadata": {},
     "output_type": "display_data"
    },
    {
     "data": {
      "text/markdown": [
       "- Copilot in Microsoft 365 now accessible to all Microsoft 365 account holders\n",
       "- New features such as image generation in Word and PowerPoint, referencing PDFs and meetings in Word, enhanced PowerPoint presentation creation, conversational features in Excel, and Copilot integration in Teams\n",
       "- Copilot features also extended to SharePoint for text rewriting and Loop for generating structured documents"
      ],
      "text/plain": [
       "<IPython.core.display.Markdown object>"
      ]
     },
     "metadata": {},
     "output_type": "display_data"
    },
    {
     "data": {
      "text/markdown": [
       "--------------------------------------------------------------------------------"
      ],
      "text/plain": [
       "<IPython.core.display.Markdown object>"
      ]
     },
     "metadata": {},
     "output_type": "display_data"
    },
    {
     "data": {
      "text/markdown": [
       "- Apple and Meta have discussed integrating AI models for iPhones, with Apple planning to incorporate technology from various AI companies to differentiate itself from competitors.\n",
       "- Discussions with AI companies like Anthropic and Perplexity aim to bring generative AI technology to Apple Intelligence, with potential deals involving selling premium subscriptions through Apple.\n",
       "- Apple aims to integrate new Apple Intelligence technology across its apps, prioritize privacy features, and differentiate itself from rivals like Microsoft and Google in the AI space."
      ],
      "text/plain": [
       "<IPython.core.display.Markdown object>"
      ]
     },
     "metadata": {},
     "output_type": "display_data"
    },
    {
     "data": {
      "text/markdown": [
       "--------------------------------------------------------------------------------"
      ],
      "text/plain": [
       "<IPython.core.display.Markdown object>"
      ]
     },
     "metadata": {},
     "output_type": "display_data"
    },
    {
     "data": {
      "text/markdown": [
       "- Big Tech is turning to nuclear power to meet the increasing energy demands of AI technology \n",
       "- Tech companies, including Amazon Web Services, are seeking deals with nuclear power plants to supply electricity for data centers powering AI models \n",
       "- The rapid growth of AI technology is predicted to significantly increase energy consumption, with data centers potentially consuming up to 9% of electricity in the U.S. by 2030"
      ],
      "text/plain": [
       "<IPython.core.display.Markdown object>"
      ]
     },
     "metadata": {},
     "output_type": "display_data"
    },
    {
     "data": {
      "text/markdown": [
       "--------------------------------------------------------------------------------"
      ],
      "text/plain": [
       "<IPython.core.display.Markdown object>"
      ]
     },
     "metadata": {},
     "output_type": "display_data"
    },
    {
     "data": {
      "text/markdown": [
       "- Artificial intelligence (AI) is expected to transform education with the potential for personalized instruction and tutoring through platforms like Khan Academy's Khanmigo and bots from Microsoft and Google.\n",
       "- Despite the hype around AI in education, there are doubts about its effectiveness in providing true tutoring and personalized learning at scale due to the complex nature of human learning processes.\n",
       "- AI is predicted to have a significant impact on colleges and universities by automating routine tasks and improving efficiency in various areas such as admissions, financial aid, HR, and student success, potentially reshaping business processes and reducing costs."
      ],
      "text/plain": [
       "<IPython.core.display.Markdown object>"
      ]
     },
     "metadata": {},
     "output_type": "display_data"
    },
    {
     "data": {
      "text/markdown": [
       "--------------------------------------------------------------------------------"
      ],
      "text/plain": [
       "<IPython.core.display.Markdown object>"
      ]
     },
     "metadata": {},
     "output_type": "display_data"
    },
    {
     "data": {
      "text/markdown": [
       "- Researchers at Oregon State University and Adobe developed FairDeDup, a new training technique for AI systems to reduce societal bias by removing redundant data from training datasets.\n",
       "- FairDeDup algorithm prunes image caption datasets gathered from the web to create a subset of data that is more representative, diverse, and fair, mitigating biases related to race, gender, occupation, age, geography, and culture.\n",
       "- The approach aims to enable cost-effective and accurate AI training while promoting fairness by allowing human-defined dimensions of diversity to guide dataset pruning and mitigate biases during AI system development."
      ],
      "text/plain": [
       "<IPython.core.display.Markdown object>"
      ]
     },
     "metadata": {},
     "output_type": "display_data"
    },
    {
     "data": {
      "text/markdown": [
       "--------------------------------------------------------------------------------"
      ],
      "text/plain": [
       "<IPython.core.display.Markdown object>"
      ]
     },
     "metadata": {},
     "output_type": "display_data"
    },
    {
     "data": {
      "text/markdown": [
       "- FAA is seeking industry input on the use of AI in aviation safety to enhance insights and predict high-risk operations.\n",
       "- The agency envisions a new safety analytics system utilizing AI capabilities to understand causal factors of safety events.\n",
       "- Information request includes 11 topics, and industry responses are due by July 2.\n",
       "\n"
      ],
      "text/plain": [
       "<IPython.core.display.Markdown object>"
      ]
     },
     "metadata": {},
     "output_type": "display_data"
    },
    {
     "data": {
      "text/markdown": [
       "--------------------------------------------------------------------------------"
      ],
      "text/plain": [
       "<IPython.core.display.Markdown object>"
      ]
     },
     "metadata": {},
     "output_type": "display_data"
    },
    {
     "data": {
      "text/markdown": [
       "- Meta changes label from 'Made with AI' to 'AI info' to clarify use of AI in photos\n",
       "- The company still uses technology to detect AI use in photos and is working on improving the labeling process\n",
       "- New label 'AI info' helps users understand that the image may not be entirely created by AI"
      ],
      "text/plain": [
       "<IPython.core.display.Markdown object>"
      ]
     },
     "metadata": {},
     "output_type": "display_data"
    },
    {
     "data": {
      "text/markdown": [
       "--------------------------------------------------------------------------------"
      ],
      "text/plain": [
       "<IPython.core.display.Markdown object>"
      ]
     },
     "metadata": {},
     "output_type": "display_data"
    },
    {
     "data": {
      "text/markdown": [
       "- AI is increasingly used in elections in countries like Indonesia, India, and the U.S.\n",
       "- Candidates employ avatars and interpreters powered by AI to engage with voters, while the risk of deepfakes exists.\n",
       "- Example: India's Prime Minister Narendra Modi's party utilized AI to translate and livestream campaign speeches in various local languages.  "
      ],
      "text/plain": [
       "<IPython.core.display.Markdown object>"
      ]
     },
     "metadata": {},
     "output_type": "display_data"
    },
    {
     "data": {
      "text/markdown": [
       "--------------------------------------------------------------------------------"
      ],
      "text/plain": [
       "<IPython.core.display.Markdown object>"
      ]
     },
     "metadata": {},
     "output_type": "display_data"
    },
    {
     "data": {
      "text/markdown": [
       "- The intersection of AI and Data Analytics is reshaping how businesses leverage data for advancement, with a focus on extracting value from data, ensuring quality outcomes, and managing project complexities.\n",
       "- Organizations are embracing transformative technologies like Generative AI to enhance human capabilities and deploy scalable, data-driven solutions, with a significant emphasis on establishing new positions and dedicated AI teams.\n",
       "- SAS hosted 'SAS Innovate on Tour' in Mumbai to showcase real-life scenarios and examples of AI's impact, featuring sessions, panel discussions, and interactive experiences focused on empowering organizations with advanced analytics tools for trustworthy and high-performance data-driven solutions."
      ],
      "text/plain": [
       "<IPython.core.display.Markdown object>"
      ]
     },
     "metadata": {},
     "output_type": "display_data"
    },
    {
     "data": {
      "text/markdown": [
       "--------------------------------------------------------------------------------"
      ],
      "text/plain": [
       "<IPython.core.display.Markdown object>"
      ]
     },
     "metadata": {},
     "output_type": "display_data"
    },
    {
     "data": {
      "text/markdown": [
       "- Bayer and Rad AI collaborate to integrate AI and workflow solutions for radiology, combining Rad AI’s speech recognition and AI technologies with Bayer’s Calantic Digital Solutions platform.\n",
       "- The collaboration aims to optimize radiology workflows by prioritizing critical findings, improving disease detection, and automating tasks for radiologists, providing hospitals with advanced technologies.\n",
       "- Rad AI's CEO and Bayer's senior VP highlight the benefits of the partnership in enhancing radiology reporting, optimizing workflow efficiencies, and demonstrating clear ROI for hospitals and health systems."
      ],
      "text/plain": [
       "<IPython.core.display.Markdown object>"
      ]
     },
     "metadata": {},
     "output_type": "display_data"
    },
    {
     "data": {
      "text/markdown": [
       "--------------------------------------------------------------------------------"
      ],
      "text/plain": [
       "<IPython.core.display.Markdown object>"
      ]
     },
     "metadata": {},
     "output_type": "display_data"
    },
    {
     "data": {
      "text/markdown": [
       "- Honor unveiled AI-powered Deepfake Detection technology to counter cybercrimes by identifying digitally altered videos and images created using AI.\n",
       "- The company introduced AI Defocus Eye Protection to mitigate near-sightedness risk by simulating defocus glasses on the screen, showing a decrease in users' transient myopia.\n",
       "- AI Deepfake Detection screens, compares, and issues risk alerts for altered content within three seconds, while AI Defocus Eye Protection reduces myopia cases by emulating defocus glasses on the device's screen."
      ],
      "text/plain": [
       "<IPython.core.display.Markdown object>"
      ]
     },
     "metadata": {},
     "output_type": "display_data"
    },
    {
     "data": {
      "text/markdown": [
       "--------------------------------------------------------------------------------"
      ],
      "text/plain": [
       "<IPython.core.display.Markdown object>"
      ]
     },
     "metadata": {},
     "output_type": "display_data"
    },
    {
     "data": {
      "text/markdown": [
       "- Google Pixel 8a and Realme GT 6 are AI smartphones with features like Google AI functions and AI Night Vision.\n",
       "- Realme GT 6 offers Next AI features like AI Smart Tool and AI Smart Removal, powered by Snapdragon 8s Gen 3.\n",
       "- Motorola Edge 50 Ultra features Moto AI capabilities, including Adaptive Stabilisation, Magic Eraser, and more, powered by Snapdragon 8s Gen 3."
      ],
      "text/plain": [
       "<IPython.core.display.Markdown object>"
      ]
     },
     "metadata": {},
     "output_type": "display_data"
    },
    {
     "data": {
      "text/markdown": [
       "--------------------------------------------------------------------------------"
      ],
      "text/plain": [
       "<IPython.core.display.Markdown object>"
      ]
     },
     "metadata": {},
     "output_type": "display_data"
    },
    {
     "data": {
      "text/markdown": [
       "- Microsoft is seen as a trendsetter with its partnerships in conversational AI, influencing similar deals by Amazon and Google.\n",
       "- Amazon's AGI team acquires technology from AI startup Adept in a non-formal acquisition deal to avoid regulatory scrutiny.\n",
       "- The challenges of launching AI for enterprises without an established customer base are highlighted by Adept's decision to join Amazon."
      ],
      "text/plain": [
       "<IPython.core.display.Markdown object>"
      ]
     },
     "metadata": {},
     "output_type": "display_data"
    },
    {
     "data": {
      "text/markdown": [
       "--------------------------------------------------------------------------------"
      ],
      "text/plain": [
       "<IPython.core.display.Markdown object>"
      ]
     },
     "metadata": {},
     "output_type": "display_data"
    },
    {
     "data": {
      "text/markdown": [
       "-Amazon has hired executives from AI startup Adept and licensed its technology, including AI models and datasets, to enhance its artificial intelligence development.\n",
       "-Amazon faces competition in AI from rivals like Microsoft and Google, prompting investments in OpenAI competitor Anthropic and development of new AI capabilities for Alexa.\n",
       "-Adept, founded by former OpenAI and Google engineers, developed AI agents for complex tasks and will continue as a standalone company while Amazon leverages its technology under a non-exclusive license."
      ],
      "text/plain": [
       "<IPython.core.display.Markdown object>"
      ]
     },
     "metadata": {},
     "output_type": "display_data"
    },
    {
     "data": {
      "text/markdown": [
       "--------------------------------------------------------------------------------"
      ],
      "text/plain": [
       "<IPython.core.display.Markdown object>"
      ]
     },
     "metadata": {},
     "output_type": "display_data"
    },
    {
     "data": {
      "text/markdown": [
       "- AI in political advertising: game-changer or double-edged sword? \n",
       "- Sign in or register for limited access \n",
       "- Options to subscribe, advertise, and access specific content"
      ],
      "text/plain": [
       "<IPython.core.display.Markdown object>"
      ]
     },
     "metadata": {},
     "output_type": "display_data"
    },
    {
     "data": {
      "text/markdown": [
       "--------------------------------------------------------------------------------"
      ],
      "text/plain": [
       "<IPython.core.display.Markdown object>"
      ]
     },
     "metadata": {},
     "output_type": "display_data"
    },
    {
     "data": {
      "text/markdown": [
       "- RoboGrocery from MIT CSAIL uses soft robotics, vision technology, and algorithms to delicately pack groceries and prioritize items to pack, handling a continuous stream of unpredictable objects moving along a conveyor belt.\n",
       "- The soft robotic system, RoboGrocery, demonstrated a light touch by performing significantly fewer item-damaging maneuvers compared to other approaches, showing promise in handling delicate items such as bread, clementines, grapes, and more.\n",
       "- RoboGrocery stands out for its ability to handle a wide range of objects of varying shapes, sizes, and stiffness by utilizing RGB-D cameras, closed-loop control servo motors, and soft tactile sensors, providing a potential solution for bin-packing unknown objects with soft grasping capabilities."
      ],
      "text/plain": [
       "<IPython.core.display.Markdown object>"
      ]
     },
     "metadata": {},
     "output_type": "display_data"
    },
    {
     "data": {
      "text/markdown": [
       "--------------------------------------------------------------------------------"
      ],
      "text/plain": [
       "<IPython.core.display.Markdown object>"
      ]
     },
     "metadata": {},
     "output_type": "display_data"
    },
    {
     "data": {
      "text/markdown": [
       "- Apple is reportedly planning to bring its artificial intelligence technology to the Vision Pro headset, expanding beyond just Mac computers and the iPhone 15 Pro. The company is facing challenges related to user interface and computing infrastructure for the AI integration.\n",
       "- Despite taking a slower approach compared to other tech companies like Google and Meta, Apple's gradual rollout of AI features has garnered investor support, reflected in the company's record high shares. The anticipated addition of AI tools to the Vision Pro headset could boost its appeal.\n",
       "- Concerns about the Vision Pro headset's sales performance have led Apple to revamp its promotion strategy, including in-store demonstrations that allow users to experience features like photo transfer and productivity functions before purchasing."
      ],
      "text/plain": [
       "<IPython.core.display.Markdown object>"
      ]
     },
     "metadata": {},
     "output_type": "display_data"
    },
    {
     "data": {
      "text/markdown": [
       "--------------------------------------------------------------------------------"
      ],
      "text/plain": [
       "<IPython.core.display.Markdown object>"
      ]
     },
     "metadata": {},
     "output_type": "display_data"
    },
    {
     "data": {
      "text/markdown": [
       "- Lenovo Yoga Slim 7x is a Copilot+ laptop using Qualcomm Snapdragon X Elite X1E-78-100 chipset, offering efficient performance and battery life, featuring a superior OLED display.\n",
       "- The design of Yoga Slim 7x is sleek and elegant, thinner than the competition, with an efficient keyboard, touchpad, and touch-enabled display.\n",
       "- The laptop showcases solid CPU performance with the Snapdragon chipset, offering fast performance for productivity tasks, but its GPU performance is limited for heavy gaming or creative workloads."
      ],
      "text/plain": [
       "<IPython.core.display.Markdown object>"
      ]
     },
     "metadata": {},
     "output_type": "display_data"
    },
    {
     "data": {
      "text/markdown": [
       "--------------------------------------------------------------------------------"
      ],
      "text/plain": [
       "<IPython.core.display.Markdown object>"
      ]
     },
     "metadata": {},
     "output_type": "display_data"
    },
    {
     "data": {
      "text/markdown": [
       "- Apple is considering charging for certain AI features through a subscription model, aiming to attract new users and generate additional revenue.\n",
       "- The Apple Intelligence suite may initially be free but could transition to a paid subscription model in the future, potentially reducing the company's dependence on hardware sales.\n",
       "- Despite the growing focus on AI, user interest in AI features on devices remains uncertain, as evidenced by limited chatbot usage and concerns about opt-out options among iPhone users."
      ],
      "text/plain": [
       "<IPython.core.display.Markdown object>"
      ]
     },
     "metadata": {},
     "output_type": "display_data"
    },
    {
     "data": {
      "text/markdown": [
       "--------------------------------------------------------------------------------"
      ],
      "text/plain": [
       "<IPython.core.display.Markdown object>"
      ]
     },
     "metadata": {},
     "output_type": "display_data"
    },
    {
     "data": {
      "text/markdown": [
       "- AI images of Jesus on social media are often overly handsome and rugged, created for easy engagement and likes on platforms like Facebook.\n",
       "- The idealized depictions of religious figures, including Jesus, through AI art are influenced by historical artistic trends and human input, leading to interpretations that may deviate from traditional religious imagery.\n",
       "- The prevalence of attractive AI-generated images of Jesus online, incorporating elements like tattoos and muscular features, highlights the impact of machine training on art creation and the potential for creating a feedback loop of similar content."
      ],
      "text/plain": [
       "<IPython.core.display.Markdown object>"
      ]
     },
     "metadata": {},
     "output_type": "display_data"
    },
    {
     "data": {
      "text/markdown": [
       "--------------------------------------------------------------------------------"
      ],
      "text/plain": [
       "<IPython.core.display.Markdown object>"
      ]
     },
     "metadata": {},
     "output_type": "display_data"
    },
    {
     "data": {
      "text/markdown": [
       "- Artificial intelligence is increasingly used in education for personalized learning experiences, administrative tasks automation, and test security measures.\n",
       "- Concerns about AI in education include the potential for bias in decision-making due to biased data, as well as privacy issues related to data collection on students.\n",
       "- AI tools are employed to detect and prevent cheating by analyzing students' work for signs of AI involvement and monitoring behavior during exams using facial recognition and eye-tracking technologies."
      ],
      "text/plain": [
       "<IPython.core.display.Markdown object>"
      ]
     },
     "metadata": {},
     "output_type": "display_data"
    },
    {
     "data": {
      "text/markdown": [
       "--------------------------------------------------------------------------------"
      ],
      "text/plain": [
       "<IPython.core.display.Markdown object>"
      ]
     },
     "metadata": {},
     "output_type": "display_data"
    },
    {
     "data": {
      "text/markdown": [
       "- Moshe Tanach discusses the growing energy needs of AI and proposes an 'efficiency-first' approach towards AI growth, focusing on reducing energy consumption in AI data centers. \n",
       "- Tanach draws parallels with the Federal Aid Highway Act to emphasize the importance of addressing AI's energy needs sustainably and profitably, suggesting investing in high-speed rail over increasing energy supply. \n",
       "- The article highlights the critical choice between investing in outdated ways of supplying power that strain current grids or lowering costs at the source through innovative systems engineering in AI data centers to secure a sustainable future for AI."
      ],
      "text/plain": [
       "<IPython.core.display.Markdown object>"
      ]
     },
     "metadata": {},
     "output_type": "display_data"
    },
    {
     "data": {
      "text/markdown": [
       "--------------------------------------------------------------------------------"
      ],
      "text/plain": [
       "<IPython.core.display.Markdown object>"
      ]
     },
     "metadata": {},
     "output_type": "display_data"
    },
    {
     "data": {
      "text/markdown": [
       "- Traditional Neural Radiance Fields (NeRFs) are limited in inverting 3D scenes from 2D projections, hindering applications in AR, VR, and robotic perception.\n",
       "- A novel approach is introduced to invert NeRFs by leveraging a learned feature space and an optimization framework, enabling reconstruction of 3D scenes from sparse 2D images.\n",
       "- The method shows significant improvements in reconstruction accuracy and computational efficiency, making it suitable for real-time applications and scalable deployments in various domains."
      ],
      "text/plain": [
       "<IPython.core.display.Markdown object>"
      ]
     },
     "metadata": {},
     "output_type": "display_data"
    },
    {
     "data": {
      "text/markdown": [
       "--------------------------------------------------------------------------------"
      ],
      "text/plain": [
       "<IPython.core.display.Markdown object>"
      ]
     },
     "metadata": {},
     "output_type": "display_data"
    },
    {
     "data": {
      "text/markdown": [
       "- Generative AI projects are likely to fail due to unrealistic expectations set based on limited efforts in data preparation and lack of ongoing model tuning.\n",
       "- It is suggested to start with simple heuristics or rules-based approaches before diving into generative AI, as simplicity often yields better results.\n",
       "- Enterprises should consider simpler, more practical solutions before jumping into using generative AI, as it may not be the most suitable or effective approach for all business problems."
      ],
      "text/plain": [
       "<IPython.core.display.Markdown object>"
      ]
     },
     "metadata": {},
     "output_type": "display_data"
    },
    {
     "data": {
      "text/markdown": [
       "--------------------------------------------------------------------------------"
      ],
      "text/plain": [
       "<IPython.core.display.Markdown object>"
      ]
     },
     "metadata": {},
     "output_type": "display_data"
    },
    {
     "data": {
      "text/markdown": [
       "- Evaluating large language models (LLMs) in business is crucial to ensure desired results and pick the best model for specific use cases.\n",
       "- The Vertex Gen AI Evaluation Service provides tailored evaluation methods for LLM applications, including online and offline evaluations using pre-built metrics and autoraters.\n",
       "- Generali Italia successfully used the Gen AI Evaluation Service to assess and deploy a retrieval-augmented generation (RAG) technology application, leveraging autoraters for efficient evaluation."
      ],
      "text/plain": [
       "<IPython.core.display.Markdown object>"
      ]
     },
     "metadata": {},
     "output_type": "display_data"
    },
    {
     "data": {
      "text/markdown": [
       "--------------------------------------------------------------------------------"
      ],
      "text/plain": [
       "<IPython.core.display.Markdown object>"
      ]
     },
     "metadata": {},
     "output_type": "display_data"
    },
    {
     "data": {
      "text/markdown": [
       "- The UN General Assembly adopted a China-backed resolution on AI to boost developing countries' AI capabilities through international cooperation and support from organizations and financial institutions.\n",
       "- The resolution symbolizes the ongoing rivalry between China and the US for AI supremacy and governance, with both countries striving to shape global AI rules while portraying each other as destabilizing forces.\n",
       "- China's plastics boom poses a trade challenge for the rest of the world as an overflow of supply threatens global markets, fueled by the country's industrial expansion and the production of materials like polypropylene to meet domestic demand and maintain market share."
      ],
      "text/plain": [
       "<IPython.core.display.Markdown object>"
      ]
     },
     "metadata": {},
     "output_type": "display_data"
    },
    {
     "data": {
      "text/markdown": [
       "--------------------------------------------------------------------------------"
      ],
      "text/plain": [
       "<IPython.core.display.Markdown object>"
      ]
     },
     "metadata": {},
     "output_type": "display_data"
    },
    {
     "data": {
      "text/markdown": [
       "- Google is in talks with record labels to pay for access to music for AI experiments, including music generation.\n",
       "- YouTube wants to partner with record labels to use their songs for AI training, potentially involving lump sum payments.\n",
       "- Record labels are advised to push back on these offers, as using music for AI training could lead to long-term consequences for the music industry and artists."
      ],
      "text/plain": [
       "<IPython.core.display.Markdown object>"
      ]
     },
     "metadata": {},
     "output_type": "display_data"
    },
    {
     "data": {
      "text/markdown": [
       "--------------------------------------------------------------------------------"
      ],
      "text/plain": [
       "<IPython.core.display.Markdown object>"
      ]
     },
     "metadata": {},
     "output_type": "display_data"
    },
    {
     "data": {
      "text/markdown": [
       "- Meta has changed the labeling of AI-generated content from 'Made with AI' to 'AI Info' to provide more clarity and context to users.\n",
       "- The revised tags aim to prevent misunderstandings and criticisms for users who have only used AI tools for minor modifications like retouching.\n",
       "- The change in labeling reflects the evolving landscape of AI-generated content and the need to differentiate between human and machine creation in visual artwork."
      ],
      "text/plain": [
       "<IPython.core.display.Markdown object>"
      ]
     },
     "metadata": {},
     "output_type": "display_data"
    },
    {
     "data": {
      "text/markdown": [
       "--------------------------------------------------------------------------------"
      ],
      "text/plain": [
       "<IPython.core.display.Markdown object>"
      ]
     },
     "metadata": {},
     "output_type": "display_data"
    },
    {
     "data": {
      "text/markdown": [
       "- 45% of US businesses aim to reduce staff by using AI for task automation processes.\n",
       "- 85% of firms cited enhancing output speed or quality as a primary goal for implementing new automation technology.\n",
       "- Despite job reductions, firms prioritize enhancing business processes, increasing employee output quantity, and improving output quality with AI."
      ],
      "text/plain": [
       "<IPython.core.display.Markdown object>"
      ]
     },
     "metadata": {},
     "output_type": "display_data"
    },
    {
     "data": {
      "text/markdown": [
       "--------------------------------------------------------------------------------"
      ],
      "text/plain": [
       "<IPython.core.display.Markdown object>"
      ]
     },
     "metadata": {},
     "output_type": "display_data"
    },
    {
     "data": {
      "text/markdown": [
       "- A former OpenAI engineer who joined Elon Musk's startup xAI has returned to OpenAI after 11 months at xAI.\n",
       "- xAI, founded by Elon Musk, prioritizes safety over profit and has close ties to Musk's other companies like Tesla and Neuralink.\n",
       "- xAI's sole product, the chatbot Grok, will release Grok 2 in August and Grok 3 by the end of the year."
      ],
      "text/plain": [
       "<IPython.core.display.Markdown object>"
      ]
     },
     "metadata": {},
     "output_type": "display_data"
    },
    {
     "data": {
      "text/markdown": [
       "--------------------------------------------------------------------------------"
      ],
      "text/plain": [
       "<IPython.core.display.Markdown object>"
      ]
     },
     "metadata": {},
     "output_type": "display_data"
    },
    {
     "data": {
      "text/markdown": [
       "- AI startup Abnormal Security is set to be valued at $5 billion in a new funding round, using AI to guard users from cyber threats across email and apps.\n",
       "- The company previously raised $210 million in Series C funding in 2022, and has raised a total of $374 million in venture funding.\n",
       "- Abnormal Security reported crossing $100 million in annual recurring revenue in 2023, expanding its product line to enhance security and aiming to go public in the future."
      ],
      "text/plain": [
       "<IPython.core.display.Markdown object>"
      ]
     },
     "metadata": {},
     "output_type": "display_data"
    },
    {
     "data": {
      "text/markdown": [
       "--------------------------------------------------------------------------------"
      ],
      "text/plain": [
       "<IPython.core.display.Markdown object>"
      ]
     },
     "metadata": {},
     "output_type": "display_data"
    },
    {
     "data": {
      "text/markdown": [
       "- Groq is positioned as a significant challenger to Nvidia in the field of AI computing, offering a more power-efficient alternative with high performance capabilities.\n",
       "- Groq's CEO, Jonathan Ross, will showcase the company's technology and discuss its impact on enterprise technology and the urgent need for efficiency at VB Transform 2024.\n",
       "- Ross expects Groq's chips to power over half of the globe's inference computing next year, reflecting a shift in the compute landscape towards more efficient solutions."
      ],
      "text/plain": [
       "<IPython.core.display.Markdown object>"
      ]
     },
     "metadata": {},
     "output_type": "display_data"
    },
    {
     "data": {
      "text/markdown": [
       "--------------------------------------------------------------------------------"
      ],
      "text/plain": [
       "<IPython.core.display.Markdown object>"
      ]
     },
     "metadata": {},
     "output_type": "display_data"
    },
    {
     "data": {
      "text/markdown": [
       "- Instagram replaced 'Made with AI' label with 'AI info' following complaints from photographers about misidentification of retouched images\n",
       "- Meta updated the label to provide more accurate information on content modification and differentiation between AI-generated and edited images\n",
       "- The change in labeling is aimed at addressing concerns raised by the misinterpretation of metadata tools like Adobe Photoshop by social media platforms"
      ],
      "text/plain": [
       "<IPython.core.display.Markdown object>"
      ]
     },
     "metadata": {},
     "output_type": "display_data"
    },
    {
     "data": {
      "text/markdown": [
       "--------------------------------------------------------------------------------"
      ],
      "text/plain": [
       "<IPython.core.display.Markdown object>"
      ]
     },
     "metadata": {},
     "output_type": "display_data"
    },
    {
     "data": {
      "text/markdown": [
       "- Users discuss using Luma Dream Machine to animate scenes from Jurassic Park in the r/ChatGPT subreddit.\n",
       "- Comments express amazement and curiosity about the unique animations created and speculate on other scenes that could benefit from similar treatment.\n",
       "- The discussions showcase users' fascination with the AI-driven animation process and its potential applications in various visual media."
      ],
      "text/plain": [
       "<IPython.core.display.Markdown object>"
      ]
     },
     "metadata": {},
     "output_type": "display_data"
    },
    {
     "data": {
      "text/markdown": [
       "--------------------------------------------------------------------------------"
      ],
      "text/plain": [
       "<IPython.core.display.Markdown object>"
      ]
     },
     "metadata": {},
     "output_type": "display_data"
    },
    {
     "data": {
      "text/markdown": [
       "- Facebook does not ban certain AI content like \"Shrimp Jesus\" due to priorities on engagement and profit generation.\n",
       "- Concerns around AI focus on deepfake implications, job automation, and social media quality rather than humorous content like Shrimp Jesus.\n",
       "- Users criticize Facebook for allowing disturbing and offensive content to remain on the platform despite violation reports."
      ],
      "text/plain": [
       "<IPython.core.display.Markdown object>"
      ]
     },
     "metadata": {},
     "output_type": "display_data"
    },
    {
     "data": {
      "text/markdown": [
       "--------------------------------------------------------------------------------"
      ],
      "text/plain": [
       "<IPython.core.display.Markdown object>"
      ]
     },
     "metadata": {},
     "output_type": "display_data"
    },
    {
     "data": {
      "text/markdown": [
       "- Life in 2100 according to the most powerful AI model today, Claude 3.5, involves a bright future for humanity if future LLMs follow the same structure\n",
       "- The vast majority of AI remains shockingly unregulated and poses a real and genuine threat to humanity, although this threat may not be immediately visible in generated text\n",
       "- The story of the Chen family spanning from 2025 to 2110 showcases the evolution of humanity's relationship with AI, reflecting ambitious achievements, sobering challenges, and the quest for harmony between human wisdom and artificial intelligence"
      ],
      "text/plain": [
       "<IPython.core.display.Markdown object>"
      ]
     },
     "metadata": {},
     "output_type": "display_data"
    },
    {
     "data": {
      "text/markdown": [
       "--------------------------------------------------------------------------------"
      ],
      "text/plain": [
       "<IPython.core.display.Markdown object>"
      ]
     },
     "metadata": {},
     "output_type": "display_data"
    },
    {
     "data": {
      "text/markdown": [
       "- Militarizing AI could lead to catastrophic outcomes if terrorist organizations gain access to AI systems for creating weapons.\n",
       "- Several major countries, including China and the U.S., are focusing on developing AI for military purposes, such as autonomous vehicles and drones.\n",
       "- Efforts are being made by experts and nations to set guidelines and restrictions on the military use of AI to ensure responsible development and deployment."
      ],
      "text/plain": [
       "<IPython.core.display.Markdown object>"
      ]
     },
     "metadata": {},
     "output_type": "display_data"
    },
    {
     "data": {
      "text/markdown": [
       "--------------------------------------------------------------------------------"
      ],
      "text/plain": [
       "<IPython.core.display.Markdown object>"
      ]
     },
     "metadata": {},
     "output_type": "display_data"
    },
    {
     "data": {
      "text/markdown": [
       "- Curated list of 16 best AI web apps to boost productivity and efficiency in daily workflow\n",
       "- Examples include Zoviz AI Logo Maker, Remove.bg for background removal from images, Unscreen for videos, and Wordtune for writing enhancements\n",
       "- These AI tools automate tasks, optimize workflows, and provide insightful analytics to enhance productivity"
      ],
      "text/plain": [
       "<IPython.core.display.Markdown object>"
      ]
     },
     "metadata": {},
     "output_type": "display_data"
    },
    {
     "data": {
      "text/markdown": [
       "--------------------------------------------------------------------------------"
      ],
      "text/plain": [
       "<IPython.core.display.Markdown object>"
      ]
     },
     "metadata": {},
     "output_type": "display_data"
    },
    {
     "data": {
      "text/markdown": [
       "- Man arrested for possession of child pornography after using AI to alter a teen girl's photo\n",
       "- Investigation by Constable Ryan Gable's Human Trafficking Unit revealed the use of artificial intelligence to create explicit content\n",
       "- Efforts to combat misuse of technology in creating and distributing explicit content emphasized by the arrest of the individual"
      ],
      "text/plain": [
       "<IPython.core.display.Markdown object>"
      ]
     },
     "metadata": {},
     "output_type": "display_data"
    },
    {
     "data": {
      "text/markdown": [
       "--------------------------------------------------------------------------------"
      ],
      "text/plain": [
       "<IPython.core.display.Markdown object>"
      ]
     },
     "metadata": {},
     "output_type": "display_data"
    },
    {
     "data": {
      "text/markdown": [
       "- AI advertising is utilized by companies like Toys R Us, Under Armour, and Levi's to showcase innovation and appeal to consumers, but it also poses risks as it may be perceived as creepy or not authentic by some target audiences.\n",
       "- Older consumers may have reservations towards AI advertising, while younger consumers might find it intriguing and cool, leading to a divide in consumer response based on age.\n",
       "- Companies are leveraging AI in marketing to position themselves as forward-looking, giving an opening for other brands to differentiate by emphasizing human-centric approaches rather than AI-driven strategies."
      ],
      "text/plain": [
       "<IPython.core.display.Markdown object>"
      ]
     },
     "metadata": {},
     "output_type": "display_data"
    },
    {
     "data": {
      "text/markdown": [
       "--------------------------------------------------------------------------------"
      ],
      "text/plain": [
       "<IPython.core.display.Markdown object>"
      ]
     },
     "metadata": {},
     "output_type": "display_data"
    },
    {
     "data": {
      "text/markdown": [
       "- Microsoft's AI chief suggested that content found online should be treated as \"freeware\"\n",
       "- Microsoft's licensing terms for products like Windows contradict this notion\n",
       "- U.S. copyright law protects original works of authorship, even if posted online"
      ],
      "text/plain": [
       "<IPython.core.display.Markdown object>"
      ]
     },
     "metadata": {},
     "output_type": "display_data"
    },
    {
     "data": {
      "text/markdown": [
       "--------------------------------------------------------------------------------"
      ],
      "text/plain": [
       "<IPython.core.display.Markdown object>"
      ]
     },
     "metadata": {},
     "output_type": "display_data"
    },
    {
     "data": {
      "text/markdown": [
       "- IATSE released a summary of a new tentative agreement with Hollywood studios, covering pay with wage increases, overtime provisions, and regulations on artificial intelligence.\n",
       "- The deal includes provisions on AI regulations to protect jobs, enhanced pension and health benefits, including additional funding and travel allowances, and streaming residuals for pension and health plans.\n",
       "- Working conditions improvements include driver safety measures, increasing vacation accrual, recognizing Juneteenth as a holiday, and boosting the number of accrued sick days."
      ],
      "text/plain": [
       "<IPython.core.display.Markdown object>"
      ]
     },
     "metadata": {},
     "output_type": "display_data"
    },
    {
     "data": {
      "text/markdown": [
       "--------------------------------------------------------------------------------"
      ],
      "text/plain": [
       "<IPython.core.display.Markdown object>"
      ]
     },
     "metadata": {},
     "output_type": "display_data"
    },
    {
     "data": {
      "text/markdown": [
       "- The FAA is exploring the use of AI to enhance aviation safety, aiming to leverage AI capabilities to analyze safety data and improve predictive analytics to proactively mitigate safety risks. \n",
       "- Vendors interested in contributing to this initiative must demonstrate their capabilities, current solutions, ability to integrate with FAA requirements, and manage sensitive data, among other specifications. \n",
       "- The FAA aims to develop a custom analytics tool that expands insights from current systems, providing a comprehensive understanding of factors contributing to high-risk operations within the National Airspace System."
      ],
      "text/plain": [
       "<IPython.core.display.Markdown object>"
      ]
     },
     "metadata": {},
     "output_type": "display_data"
    },
    {
     "data": {
      "text/markdown": [
       "--------------------------------------------------------------------------------"
      ],
      "text/plain": [
       "<IPython.core.display.Markdown object>"
      ]
     },
     "metadata": {},
     "output_type": "display_data"
    },
    {
     "data": {
      "text/markdown": [
       "- SK Group, led by SK Hynix, is investing $77 billion in AI and semiconductors through 2028\n",
       "- SK Hynix will focus on AI chips, including high-bandwidth memory, and SK Telecom and SK Broadband will invest in data centers and hardware projects\n",
       "- The investment plan includes corporate restructuring, asset sales, and raising funds through key affiliates' efforts, aiming to transform SK into an AI-focused conglomerate"
      ],
      "text/plain": [
       "<IPython.core.display.Markdown object>"
      ]
     },
     "metadata": {},
     "output_type": "display_data"
    },
    {
     "data": {
      "text/markdown": [
       "--------------------------------------------------------------------------------"
      ],
      "text/plain": [
       "<IPython.core.display.Markdown object>"
      ]
     },
     "metadata": {},
     "output_type": "display_data"
    },
    {
     "data": {
      "text/markdown": [
       "- Bayer and Rad AI have announced a collaboration to integrate Rad AI's AI tools into Bayer's Calantic Digital Solutions platform, including a radiology speech recognition reporting solution, AI-driven patient follow-up management, and automated radiology impression generation technologies.\n",
       "- The incorporation of Rad AI's tools into Bayer's platform aims to enhance radiologists' efficiency by enabling faster report creation, customized report impressions, and automated follow-up processes for incidental findings.\n",
       "- Bayer's Calantic Digital Solutions platform offers a suite of digital radiology AI-enabled applications to assist radiologists and their teams in patient care, prioritization, lesion detection, automation of routine tasks, measurements, and workflow improvement within radiology suites."
      ],
      "text/plain": [
       "<IPython.core.display.Markdown object>"
      ]
     },
     "metadata": {},
     "output_type": "display_data"
    },
    {
     "data": {
      "text/markdown": [
       "--------------------------------------------------------------------------------"
      ],
      "text/plain": [
       "<IPython.core.display.Markdown object>"
      ]
     },
     "metadata": {},
     "output_type": "display_data"
    },
    {
     "data": {
      "text/markdown": [
       "- NBC will offer a daily Olympic highlight reel with A.I.-generated narration by Al Michaels, providing customized, realistic-sounding sentences based on his NBC clips.\n",
       "- Subscribers can choose specific Olympic events and highlights they are interested in, with Peacock's A.I. machines creating tailored highlight packages voiced by Mr. Michaels.\n",
       "- The A.I.-Al Michaels tool represents a breakthrough for Peacock, with potential for future applications beyond Olympics coverage, aiming to differentiate the streaming platform in the competitive market."
      ],
      "text/plain": [
       "<IPython.core.display.Markdown object>"
      ]
     },
     "metadata": {},
     "output_type": "display_data"
    },
    {
     "data": {
      "text/markdown": [
       "--------------------------------------------------------------------------------"
      ],
      "text/plain": [
       "<IPython.core.display.Markdown object>"
      ]
     },
     "metadata": {},
     "output_type": "display_data"
    },
    {
     "data": {
      "text/markdown": [
       "- AI and Machine Learning are integral to modern interactions, but data bias can lead to significant ramifications, including ethical concerns, impact on business decisions and profitability, and accidental bias.\n",
       "- Biased data can result in unfair practices such as historical biases in AI hiring tools and credit scoring algorithms, misguided business strategies, and financial losses.\n",
       "- Accidental bias can arise from oversights in data collection methods, and organizations need to implement robust measures to detect, mitigate, and prevent bias to ensure the reliability and fairness of AI-driven initiatives."
      ],
      "text/plain": [
       "<IPython.core.display.Markdown object>"
      ]
     },
     "metadata": {},
     "output_type": "display_data"
    },
    {
     "data": {
      "text/markdown": [
       "--------------------------------------------------------------------------------"
      ],
      "text/plain": [
       "<IPython.core.display.Markdown object>"
      ]
     },
     "metadata": {},
     "output_type": "display_data"
    },
    {
     "data": {
      "text/markdown": [
       "- The integration of artificial intelligence (AI) in various technologies, including search engines, is leading to significant increases in electricity consumption, with potential environmental implications.\n",
       "- Data centers hosting AI-related operations are consuming substantial amounts of power and water resources, contributing to energy demands that may hinder the transition to green energy and have environmental consequences.\n",
       "- Lack of transparency about the energy and resource consumption of AI systems, along with preferential treatment and subsidies for data center operators, are raising concerns about the sustainability of AI technology and its impact on the environment."
      ],
      "text/plain": [
       "<IPython.core.display.Markdown object>"
      ]
     },
     "metadata": {},
     "output_type": "display_data"
    },
    {
     "data": {
      "text/markdown": [
       "--------------------------------------------------------------------------------"
      ],
      "text/plain": [
       "<IPython.core.display.Markdown object>"
      ]
     },
     "metadata": {},
     "output_type": "display_data"
    },
    {
     "data": {
      "text/markdown": [
       "- Nvidia's stock price target has been reset after a trillion-dollar gain in the second quarter, with a bullish outlook for the AI-chip maker issued by a top Wall Street analyst.\n",
       "- The introduction of Nvidia's new Blackwell system of AI-powering processors raised concerns about an \"air pocket\" in sales but was mitigated by a robust near-term outlook and strong surge in data center sales.\n",
       "- Morgan Stanley analyst raised Nvidia's price target, affirming strong sales for the current data-center processors while noting the company's compelling narrative in the AI semiconductor space."
      ],
      "text/plain": [
       "<IPython.core.display.Markdown object>"
      ]
     },
     "metadata": {},
     "output_type": "display_data"
    },
    {
     "data": {
      "text/markdown": [
       "--------------------------------------------------------------------------------"
      ],
      "text/plain": [
       "<IPython.core.display.Markdown object>"
      ]
     },
     "metadata": {},
     "output_type": "display_data"
    },
    {
     "data": {
      "text/markdown": [
       "- Nvidia's stock price target was raised by Morgan Stanley from $116 to $144, maintaining an Overweight rating due to positive data points in Asia.\n",
       "- Analysts at Morgan Stanley believe Nvidia remains the most compelling narrative in the AI semis space, citing confidence in near-term numbers and strong demand for Hopper builds.\n",
       "- Despite acknowledging the end of the Hopper cycle, analysts see robust demand indications for Hopper as the transition to H200 progresses, expecting visibility and backlog to improve significantly."
      ],
      "text/plain": [
       "<IPython.core.display.Markdown object>"
      ]
     },
     "metadata": {},
     "output_type": "display_data"
    },
    {
     "data": {
      "text/markdown": [
       "--------------------------------------------------------------------------------"
      ],
      "text/plain": [
       "<IPython.core.display.Markdown object>"
      ]
     },
     "metadata": {},
     "output_type": "display_data"
    },
    {
     "data": {
      "text/markdown": [
       "- Roman Shoffner charged with possession of child pornography after using AI to alter a 17-year-old girl's photo\n",
       "- Shoffner used artificial intelligence to remove clothing from the girl's photo, creating a naked image\n",
       "- Law enforcement seized Shoffner's phone, found probable cause, and arrested him for possessing child pornography."
      ],
      "text/plain": [
       "<IPython.core.display.Markdown object>"
      ]
     },
     "metadata": {},
     "output_type": "display_data"
    },
    {
     "data": {
      "text/markdown": [
       "--------------------------------------------------------------------------------"
      ],
      "text/plain": [
       "<IPython.core.display.Markdown object>"
      ]
     },
     "metadata": {},
     "output_type": "display_data"
    },
    {
     "data": {
      "text/markdown": [
       "- Wimbledon's AI gaffe labeled Emma Raducanu inaccurately and mislabeled other players as well, highlighting the need for human intervention.\n",
       "- Sir David Attenborough received a standing ovation at Wimbledon for his contributions to tennis history.\n",
       "- Casper Ruud overcame a parasite infection and lack of grass-court preparation to win his opening Wimbledon match."
      ],
      "text/plain": [
       "<IPython.core.display.Markdown object>"
      ]
     },
     "metadata": {},
     "output_type": "display_data"
    },
    {
     "data": {
      "text/markdown": [
       "--------------------------------------------------------------------------------"
      ],
      "text/plain": [
       "<IPython.core.display.Markdown object>"
      ]
     },
     "metadata": {},
     "output_type": "display_data"
    },
    {
     "data": {
      "text/markdown": [
       "- Survey by Yubico and DDC indicates bipartisan voter concerns over AI's threat to 2024 election cybersecurity.\n",
       "- 85% of respondents lack confidence in political campaigns' ability to protect personal information, impacting campaign success.\n",
       "- Over 78% of respondents, including Democrats and Republicans, are worried about AI-generated content affecting the election."
      ],
      "text/plain": [
       "<IPython.core.display.Markdown object>"
      ]
     },
     "metadata": {},
     "output_type": "display_data"
    },
    {
     "data": {
      "text/markdown": [
       "--------------------------------------------------------------------------------"
      ],
      "text/plain": [
       "<IPython.core.display.Markdown object>"
      ]
     },
     "metadata": {},
     "output_type": "display_data"
    },
    {
     "data": {
      "text/markdown": [
       "- Apple has deferred the rollout of its flagship AI offering in the European Union (EU) due to regulatory uncertainties stemming from the EU’s Digital Markets Act (DMA).\n",
       "- The EU's DMA requires tech giants like Apple to follow rules such as allowing third-party apps, uninstalling pre-installed apps, and ensuring interoperability with messaging services offered by smaller developers.\n",
       "- Apple's concerns about compromising user privacy and data security, as well as potential implications on its AI system, have led to delays in rolling out AI features for EU users."
      ],
      "text/plain": [
       "<IPython.core.display.Markdown object>"
      ]
     },
     "metadata": {},
     "output_type": "display_data"
    },
    {
     "data": {
      "text/markdown": [
       "--------------------------------------------------------------------------------"
      ],
      "text/plain": [
       "<IPython.core.display.Markdown object>"
      ]
     },
     "metadata": {},
     "output_type": "display_data"
    },
    {
     "data": {
      "text/markdown": [
       "- Man arrested for using artificial intelligence to undress teen in Montgomery County\n",
       "- 30-year-old Roman Shoffner altered a teenage girl's photo using an A.I. program\n",
       "- Shoffner was charged with possessing child pornography and arrested on June 28"
      ],
      "text/plain": [
       "<IPython.core.display.Markdown object>"
      ]
     },
     "metadata": {},
     "output_type": "display_data"
    },
    {
     "data": {
      "text/markdown": [
       "--------------------------------------------------------------------------------"
      ],
      "text/plain": [
       "<IPython.core.display.Markdown object>"
      ]
     },
     "metadata": {},
     "output_type": "display_data"
    },
    {
     "data": {
      "text/markdown": [
       "- Nuclear energy startup Oklo Inc., led by chairman Sam Altman, aims to power AI models with microreactors to address the escalating power demands of large language models used in artificial intelligence.\n",
       "- Concerns arise regarding the proliferation risks associated with Oklo's microreactor concept, specifically related to the higher enrichment level of uranium fuel used and the breeding potential of plutonium, which raises concerns about nuclear proliferation.\n",
       "- Industry players like Oklo should be transparent in evaluating and addressing the risks of proliferation associated with nuclear energy investments, emphasizing responsible innovation and nonproliferation efforts to ensure the safety and security of nuclear technology advancements."
      ],
      "text/plain": [
       "<IPython.core.display.Markdown object>"
      ]
     },
     "metadata": {},
     "output_type": "display_data"
    },
    {
     "data": {
      "text/markdown": [
       "--------------------------------------------------------------------------------"
      ],
      "text/plain": [
       "<IPython.core.display.Markdown object>"
      ]
     },
     "metadata": {},
     "output_type": "display_data"
    },
    {
     "data": {
      "text/markdown": [
       "- Artificial intelligence in education involves personalized learning experiences and streamlining administrative tasks through AI-driven tutoring programs and administrative tools.\n",
       "- Concerns about AI in education include the potential for bias in outcomes due to biased or incomplete data and the risk of facilitating cheating among students, which schools are addressing through monitoring systems and test security measures.\n",
       "- AI also plays a role in facilitating remote learning through platforms like Khan Academy and Coursera, offering interactive lessons, tracking progress, recommending resources, and providing feedback to support students and teachers."
      ],
      "text/plain": [
       "<IPython.core.display.Markdown object>"
      ]
     },
     "metadata": {},
     "output_type": "display_data"
    },
    {
     "data": {
      "text/markdown": [
       "--------------------------------------------------------------------------------"
      ],
      "text/plain": [
       "<IPython.core.display.Markdown object>"
      ]
     },
     "metadata": {},
     "output_type": "display_data"
    },
    {
     "data": {
      "text/markdown": [
       "- Microsoft Copilot Pro is a new tool within the Microsoft 365 suite that helps users with tasks such as composing emails, proposals, and articles by leveraging generative AI.\n",
       "- The free version of Copilot is available to most users of Microsoft 365, while a premium version offers more advanced capabilities like accessing an organization's data to provide detailed and customized help.\n",
       "- Implementing and working securely with Copilot involves understanding its functions, configuring permissions carefully, and optimizing the organization's data for the tool's usage, with the potential to transform business processes through AI."
      ],
      "text/plain": [
       "<IPython.core.display.Markdown object>"
      ]
     },
     "metadata": {},
     "output_type": "display_data"
    },
    {
     "data": {
      "text/markdown": [
       "--------------------------------------------------------------------------------"
      ],
      "text/plain": [
       "<IPython.core.display.Markdown object>"
      ]
     },
     "metadata": {},
     "output_type": "display_data"
    },
    {
     "data": {
      "text/markdown": [
       "- Huawei and Wuhan Xinxin are partnering to develop high-bandwidth memory (HBM) chips for AI.\n",
       "- Other companies involved in the project include Jiangsu Changjiang Electronics Tech and Tongfu Microelectronics, providing CoWoS technology.\n",
       "- The partnership aims to develop advanced semiconductor technology, circumventing US sanctions restricting Chinese companies from obtaining such technology."
      ],
      "text/plain": [
       "<IPython.core.display.Markdown object>"
      ]
     },
     "metadata": {},
     "output_type": "display_data"
    },
    {
     "data": {
      "text/markdown": [
       "--------------------------------------------------------------------------------"
      ],
      "text/plain": [
       "<IPython.core.display.Markdown object>"
      ]
     },
     "metadata": {},
     "output_type": "display_data"
    },
    {
     "data": {
      "text/markdown": [
       "- Google partners with BlackRock to invest in a 1-gigawatt solar capacity project in Taiwan to boost energy capacity and cut carbon emissions amid the AI boom.\n",
       "- The investment in the Taiwanese solar developer New Green Power aims to power Google's data centers and cloud region in Taiwan, supporting renewable energy adoption.\n",
       "- The partnership between Google and BlackRock combines solar energy production with agricultural land use to support sustainable development, reduce emissions, and promote renewable energy adoption."
      ],
      "text/plain": [
       "<IPython.core.display.Markdown object>"
      ]
     },
     "metadata": {},
     "output_type": "display_data"
    },
    {
     "data": {
      "text/markdown": [
       "--------------------------------------------------------------------------------"
      ],
      "text/plain": [
       "<IPython.core.display.Markdown object>"
      ]
     },
     "metadata": {},
     "output_type": "display_data"
    },
    {
     "data": {
      "text/markdown": [
       "- Wimbledon's AI writer, developed with IBM, made errors in player profiles during the championships, including labeling Emma Raducanu incorrectly as the British No 1 and providing inaccurate match statistics.\n",
       "- The AI feature, Catch Me Up, received criticism for errors and US spellings, despite being praised as an example of generative AI storytelling by IBM's senior vice-president.\n",
       "- The All England Club's AI initiatives, like AI-powered commentary and replacing line judges with artificial intelligence, have faced backlash and criticism from professionals in the industry."
      ],
      "text/plain": [
       "<IPython.core.display.Markdown object>"
      ]
     },
     "metadata": {},
     "output_type": "display_data"
    },
    {
     "data": {
      "text/markdown": [
       "--------------------------------------------------------------------------------"
      ],
      "text/plain": [
       "<IPython.core.display.Markdown object>"
      ]
     },
     "metadata": {},
     "output_type": "display_data"
    },
    {
     "data": {
      "text/markdown": [
       "- Midjourney created images of Donald Trump and Joe Biden despite a self-imposed ban on creating such images ahead of the US presidential election.\n",
       "- The AI-powered image generator easily generated images of Trump when prompted with phrases like \"the president of the United States\" or \"the next president of the United States\".\n",
       "- Midjourney's guardrails to prevent generating images of political figures like Trump and Biden were easily bypassed, as demonstrated by tests by the Center for Countering Digital Hate."
      ],
      "text/plain": [
       "<IPython.core.display.Markdown object>"
      ]
     },
     "metadata": {},
     "output_type": "display_data"
    },
    {
     "data": {
      "text/markdown": [
       "--------------------------------------------------------------------------------"
      ],
      "text/plain": [
       "<IPython.core.display.Markdown object>"
      ]
     },
     "metadata": {},
     "output_type": "display_data"
    },
    {
     "data": {
      "text/markdown": [
       "- Apple is planning to introduce Apple Intelligence+ as a subscription service with additional features beyond the free basic ones.\n",
       "- The company aims to diversify its income streams through software subscription models amid longer-lasting devices and economic challenges.\n",
       "- Apple's new AI system, Apple Intelligence, is set to enhance user experience across various apps and devices, potentially transforming Mac into an AI PC."
      ],
      "text/plain": [
       "<IPython.core.display.Markdown object>"
      ]
     },
     "metadata": {},
     "output_type": "display_data"
    },
    {
     "data": {
      "text/markdown": [
       "--------------------------------------------------------------------------------"
      ],
      "text/plain": [
       "<IPython.core.display.Markdown object>"
      ]
     },
     "metadata": {},
     "output_type": "display_data"
    },
    {
     "data": {
      "text/markdown": [
       "- AWS CEO Matt Garman discusses the company's AI strategy with CNBC's Jon Fortt\n",
       "- The conversation highlights the importance of offering a diverse range of AI solutions beyond just chatbots\n",
       "- Other CEOs in the industry share insights on integrating AI into various sectors, such as drug development and navigation technology"
      ],
      "text/plain": [
       "<IPython.core.display.Markdown object>"
      ]
     },
     "metadata": {},
     "output_type": "display_data"
    },
    {
     "data": {
      "text/markdown": [
       "--------------------------------------------------------------------------------"
      ],
      "text/plain": [
       "<IPython.core.display.Markdown object>"
      ]
     },
     "metadata": {},
     "output_type": "display_data"
    },
    {
     "data": {
      "text/markdown": [
       "- Mercer University in Macon held an AI Ethics Day Camp for middle schoolers to educate them on responsible AI use and its societal implications.\n",
       "- The camp focused on teaching precise communication with AI, emphasizing the importance of specific commands.\n",
       "- Campers engaged in activities involving AI creating music, discussing job displacement, and exploring advanced AI applications like surveillance and autonomous vehicles."
      ],
      "text/plain": [
       "<IPython.core.display.Markdown object>"
      ]
     },
     "metadata": {},
     "output_type": "display_data"
    },
    {
     "data": {
      "text/markdown": [
       "--------------------------------------------------------------------------------"
      ],
      "text/plain": [
       "<IPython.core.display.Markdown object>"
      ]
     },
     "metadata": {},
     "output_type": "display_data"
    },
    {
     "data": {
      "text/markdown": [
       "- Bill Gates defends the rise in energy use by AI systems, stating that it will ultimately reduce overall energy consumption\n",
       "- Tech companies are investing in clean energy sources to offset the energy consumption of AI systems\n",
       "- Constraints in electricity availability pose challenges for companies building AI technology, potentially affecting the goal of reaching net zero emissions by 2050"
      ],
      "text/plain": [
       "<IPython.core.display.Markdown object>"
      ]
     },
     "metadata": {},
     "output_type": "display_data"
    },
    {
     "data": {
      "text/markdown": [
       "--------------------------------------------------------------------------------"
      ],
      "text/plain": [
       "<IPython.core.display.Markdown object>"
      ]
     },
     "metadata": {},
     "output_type": "display_data"
    },
    {
     "data": {
      "text/markdown": [
       "- Economist Neil Shearing predicts AI optimism could drive the S&P 500 to 7,000 in 2025, drawing parallels to the dot-com bubble.\n",
       "- The impact of AI on the U.S. economy is expected to materialize in the second half of the decade, following a period of skepticism after the peak of inflated expectations.\n",
       "- Investors express concerns over the economic benefits of the AI revolution as seen through Nvidia's stock volatility and the evolution of public views on new technologies."
      ],
      "text/plain": [
       "<IPython.core.display.Markdown object>"
      ]
     },
     "metadata": {},
     "output_type": "display_data"
    },
    {
     "data": {
      "text/markdown": [
       "--------------------------------------------------------------------------------"
      ],
      "text/plain": [
       "<IPython.core.display.Markdown object>"
      ]
     },
     "metadata": {},
     "output_type": "display_data"
    },
    {
     "data": {
      "text/markdown": [
       "- Researchers have developed an AI model to prevent power outages by autonomously rerouting electricity in milliseconds, enhancing grid resilience against extreme weather events and cyberattacks.\n",
       "- The AI solution can detect alternative routes to transfer electricity before an outage, rerouting power flow in microseconds compared to current manual processes that could take hours.\n",
       "- The technology uses machine learning algorithms and reinforcement learning to quickly make decisions to draw power from available sources and reduce the severity or eliminate power outages."
      ],
      "text/plain": [
       "<IPython.core.display.Markdown object>"
      ]
     },
     "metadata": {},
     "output_type": "display_data"
    },
    {
     "data": {
      "text/markdown": [
       "--------------------------------------------------------------------------------"
      ],
      "text/plain": [
       "<IPython.core.display.Markdown object>"
      ]
     },
     "metadata": {},
     "output_type": "display_data"
    },
    {
     "name": "stdout",
     "output_type": "stream",
     "text": [
      "'choices'\n"
     ]
    },
    {
     "data": {
      "text/markdown": [
       "- Amazon proposes a new AI benchmark called RAG to measure retrieval-augmented generation, aiming to improve AI performance by focusing on the right algorithm choice rather than just scaling up language models.\n",
       "- Researchers at Amazon's AWS introduce benchmarks to test how well RAG systems can answer domain-specific questions, conducting automated evaluations using question-answer pairs from various domains.\n",
       "- The findings suggest that choosing better RAG algorithms can enhance AI performance more effectively than just increasing the size of language models, challenging the notion that scaling is always the best solution in AI problem-solving."
      ],
      "text/plain": [
       "<IPython.core.display.Markdown object>"
      ]
     },
     "metadata": {},
     "output_type": "display_data"
    },
    {
     "data": {
      "text/markdown": [
       "--------------------------------------------------------------------------------"
      ],
      "text/plain": [
       "<IPython.core.display.Markdown object>"
      ]
     },
     "metadata": {},
     "output_type": "display_data"
    },
    {
     "data": {
      "text/markdown": [
       "- Ilana Whittaker, a Ridgewood native and student at Worcester Polytechnic Institute, completed a senior thesis project called ChordCraft: AI Chord Generator VST, showcasing skills and creativity in artificial intelligence.\n",
       "- Worcester Polytechnic Institute's Major Qualifying Projects (MQPs) provide valuable work experience, leading to publications, patents, entrepreneurial ventures, and career success for students.\n",
       "- Ms. Whittaker graduated from WPI with Dean's List honors, exemplifying the success potential of students' MQPs beyond graduation."
      ],
      "text/plain": [
       "<IPython.core.display.Markdown object>"
      ]
     },
     "metadata": {},
     "output_type": "display_data"
    },
    {
     "data": {
      "text/markdown": [
       "--------------------------------------------------------------------------------"
      ],
      "text/plain": [
       "<IPython.core.display.Markdown object>"
      ]
     },
     "metadata": {},
     "output_type": "display_data"
    },
    {
     "data": {
      "text/markdown": [
       "- AI Jesus, a chatbot on Twitch, provides dating advice and spiritual guidance in a humorous and engaging manner\n",
       "- Created by The Singularity Group, the AI Jesus aims to offer wisdom based on Christian teachings and promote love and kindness\n",
       "- The AI Jesus chatbot has sparked discussions on the role of artificial intelligence in mimicking religious figures and the potential impact on society"
      ],
      "text/plain": [
       "<IPython.core.display.Markdown object>"
      ]
     },
     "metadata": {},
     "output_type": "display_data"
    },
    {
     "data": {
      "text/markdown": [
       "--------------------------------------------------------------------------------"
      ],
      "text/plain": [
       "<IPython.core.display.Markdown object>"
      ]
     },
     "metadata": {},
     "output_type": "display_data"
    },
    {
     "data": {
      "text/markdown": [
       "- Morgan Freeman calls out unauthorized use of AI replicating his voice in a TikTok video.\n",
       "- The TikTok video featured an AI narration impersonating Freeman's voice, sparking confusion among viewers.\n",
       "- Freeman joins other celebrities like Taylor Swift and Scarlett Johansson in being targeted by AI impersonation without consent."
      ],
      "text/plain": [
       "<IPython.core.display.Markdown object>"
      ]
     },
     "metadata": {},
     "output_type": "display_data"
    },
    {
     "data": {
      "text/markdown": [
       "--------------------------------------------------------------------------------"
      ],
      "text/plain": [
       "<IPython.core.display.Markdown object>"
      ]
     },
     "metadata": {},
     "output_type": "display_data"
    },
    {
     "data": {
      "text/markdown": [
       "- Elon Musk's AI chatbot, Grok 3, will be trained on 100,000 Nvidia H100 GPUs, each estimated to cost between $30,000 and $40,000.\n",
       "- Musk's companies may have spent $3 billion to $4 billion on these AI chips, with the possibility of renting GPU compute as well.\n",
       "- Other tech giants like Meta are also investing heavily in GPUs, with Mark Zuckerberg stating Meta will own about 600,000 chips, spending about $18 billion to enhance their AI capabilities."
      ],
      "text/plain": [
       "<IPython.core.display.Markdown object>"
      ]
     },
     "metadata": {},
     "output_type": "display_data"
    },
    {
     "data": {
      "text/markdown": [
       "--------------------------------------------------------------------------------"
      ],
      "text/plain": [
       "<IPython.core.display.Markdown object>"
      ]
     },
     "metadata": {},
     "output_type": "display_data"
    },
    {
     "data": {
      "text/markdown": [
       "- RunwayML's Gen-3 Alpha AI video model is now available for users to produce hyper-realistic AI videos from text, image, or video prompts with high fidelity and controllable generations for creative use cases, but it requires a paid plan starting at $12/month per editor.\n",
       "- The model, trained on highly descriptive captions, allows users to create hyper-realistic video clips with imaginative transitions, precise key-framing of elements, expressive human characters, and a wide range of actions, gestures, and emotions, offering an upgrade in speed, fidelity, consistency, and motion over previous versions.\n",
       "- Users can expect Gen-3 Alpha to power text-to-video mode initially on the Runway platform, with future plans to expand to other modes like image-to-video and video-to-video, offering control features and generating videos up to 10 seconds in length with the potential for further improvements in the future."
      ],
      "text/plain": [
       "<IPython.core.display.Markdown object>"
      ]
     },
     "metadata": {},
     "output_type": "display_data"
    },
    {
     "data": {
      "text/markdown": [
       "--------------------------------------------------------------------------------"
      ],
      "text/plain": [
       "<IPython.core.display.Markdown object>"
      ]
     },
     "metadata": {},
     "output_type": "display_data"
    },
    {
     "data": {
      "text/markdown": [
       "- Lambda is seeking $800 million in new funding to expand its GPU cloud services, following previous successful financing rounds for purchasing Nvidia GPUs.\n",
       "- The demand for GPU rentals for AI training is lucrative, with other companies like CoreWeave also securing significant funding for GPU infrastructure.\n",
       "- The AI industry is experiencing a surge in valuations for companies providing AI-related services, such as data foundry Scale AI reaching a valuation of $14 billion."
      ],
      "text/plain": [
       "<IPython.core.display.Markdown object>"
      ]
     },
     "metadata": {},
     "output_type": "display_data"
    },
    {
     "data": {
      "text/markdown": [
       "--------------------------------------------------------------------------------"
      ],
      "text/plain": [
       "<IPython.core.display.Markdown object>"
      ]
     },
     "metadata": {},
     "output_type": "display_data"
    },
    {
     "data": {
      "text/markdown": [
       "- YouTube now allows people to request the removal of AI-generated content simulating their face or voice under its privacy request process.\n",
       "- The company will evaluate removal requests based on factors such as disclosure, identification, parody/satire, and involvement of public figures.\n",
       "- Simply requesting removal doesn't guarantee content removal; YouTube may also give the uploader 48 hours to act on complaints."
      ],
      "text/plain": [
       "<IPython.core.display.Markdown object>"
      ]
     },
     "metadata": {},
     "output_type": "display_data"
    },
    {
     "data": {
      "text/markdown": [
       "--------------------------------------------------------------------------------"
      ],
      "text/plain": [
       "<IPython.core.display.Markdown object>"
      ]
     },
     "metadata": {},
     "output_type": "display_data"
    },
    {
     "data": {
      "text/markdown": [
       "- FCC chair is challenging telecoms companies to prove their efforts in stopping political AI robocalls\n",
       "- Despite claims by telecoms, commenters express skepticism and criticism towards the industry's actions\n",
       "- There are mentions of SCOTUS rulings affecting the enforcement of regulations on robocalls by telecoms"
      ],
      "text/plain": [
       "<IPython.core.display.Markdown object>"
      ]
     },
     "metadata": {},
     "output_type": "display_data"
    },
    {
     "data": {
      "text/markdown": [
       "--------------------------------------------------------------------------------"
      ],
      "text/plain": [
       "<IPython.core.display.Markdown object>"
      ]
     },
     "metadata": {},
     "output_type": "display_data"
    },
    {
     "data": {
      "text/markdown": [
       "- \"The Noonification\" article provides a guide on creating a simple pop-up chatbot using OpenAI and Websockets.\n",
       "- The article also includes information on a writing contest with a $6000 prize, a feature on Octopus Network, and a study on gender bias in hiring from \"The Voice\" auditions.\n",
       "- It offers readers the opportunity to learn about simplifying JMeter script creation, consolidating technical knowledge through writing, and exploring community standards."
      ],
      "text/plain": [
       "<IPython.core.display.Markdown object>"
      ]
     },
     "metadata": {},
     "output_type": "display_data"
    },
    {
     "data": {
      "text/markdown": [
       "--------------------------------------------------------------------------------"
      ],
      "text/plain": [
       "<IPython.core.display.Markdown object>"
      ]
     },
     "metadata": {},
     "output_type": "display_data"
    },
    {
     "data": {
      "text/markdown": [
       "- Guide on composing effective AI prompts for text-to-image generation\n",
       "- Common prompt-writing mistakes to avoid: being too wordy and using complex grammar\n",
       "- Steps to creating optimal text prompts for AI image generators: choose content type, define subject, add subject description, describe context, define perspective, add art style and mediums, consider adding \"magic\" words, consider adding negative prompts, define correct word order and keyword weight input"
      ],
      "text/plain": [
       "<IPython.core.display.Markdown object>"
      ]
     },
     "metadata": {},
     "output_type": "display_data"
    },
    {
     "data": {
      "text/markdown": [
       "--------------------------------------------------------------------------------"
      ],
      "text/plain": [
       "<IPython.core.display.Markdown object>"
      ]
     },
     "metadata": {},
     "output_type": "display_data"
    },
    {
     "data": {
      "text/markdown": [
       "- Rad AI and Bayer collaborated to offer Rad AI's genAI tools through Bayer's Calantic Digital Solution marketplace, aimed at automating routine radiology tasks.\n",
       "- Rad AI provides generative AI tools for radiologists to streamline workflows, including AI-enabled report impressions and follow-up care management offerings.\n",
       "- This partnership follows Rad AI's previous collaborations with LucidHealth, Google Cloud, and recent funding rounds, totaling over $80 million in funding."
      ],
      "text/plain": [
       "<IPython.core.display.Markdown object>"
      ]
     },
     "metadata": {},
     "output_type": "display_data"
    },
    {
     "data": {
      "text/markdown": [
       "--------------------------------------------------------------------------------"
      ],
      "text/plain": [
       "<IPython.core.display.Markdown object>"
      ]
     },
     "metadata": {},
     "output_type": "display_data"
    },
    {
     "data": {
      "text/markdown": [
       "- Scarlett Johansson expressed shock and anger after OpenAI allegedly recreated her voice without consent for a new ChatGPT system, leading to a clash with the company's CEO.\n",
       "- Johansson highlighted the vulnerability of individuals to AI misuse, emphasizing the need for legislation to protect individual rights.\n",
       "- OpenAI paused the use of the ChatGPT voice named 'Sky' and stated that they are addressing questions about the voice selection process."
      ],
      "text/plain": [
       "<IPython.core.display.Markdown object>"
      ]
     },
     "metadata": {},
     "output_type": "display_data"
    },
    {
     "data": {
      "text/markdown": [
       "--------------------------------------------------------------------------------"
      ],
      "text/plain": [
       "<IPython.core.display.Markdown object>"
      ]
     },
     "metadata": {},
     "output_type": "display_data"
    },
    {
     "data": {
      "text/markdown": [
       "- High-end smartphones in 2024 integrate AI capabilities uniquely by different brands like Samsung, Apple, Google, and Vivo.\n",
       "- Top 5 premium AI smartphones of 2024 include Samsung Galaxy S24 Ultra, Samsung Galaxy S24, Apple iPhone 15 Pro/Pro Max, Google Pixel 8 Pro, and Vivo X Fold3 Pro.\n",
       "- These smartphones offer advanced AI features such as generative AI, live call translation, image editing tools, real-time interpreter, and more for an enhanced user experience."
      ],
      "text/plain": [
       "<IPython.core.display.Markdown object>"
      ]
     },
     "metadata": {},
     "output_type": "display_data"
    },
    {
     "data": {
      "text/markdown": [
       "--------------------------------------------------------------------------------"
      ],
      "text/plain": [
       "<IPython.core.display.Markdown object>"
      ]
     },
     "metadata": {},
     "output_type": "display_data"
    },
    {
     "data": {
      "text/markdown": [
       "- Amazon's hiring of Adept AI team resembles a reverse acquihire strategy to avoid antitrust scrutiny, following a similar pattern to Microsoft with Inflection.\n",
       "- The AI industry is seeing a trend of Big Tech companies hiring AI startups' teams and licensing their technology as a way to consolidate the industry.\n",
       "- This new approach allows Big Tech to effectively acquire AI capabilities while circumventing antitrust regulations, representing a shift in the acquisition playbook within Silicon Valley."
      ],
      "text/plain": [
       "<IPython.core.display.Markdown object>"
      ]
     },
     "metadata": {},
     "output_type": "display_data"
    },
    {
     "data": {
      "text/markdown": [
       "--------------------------------------------------------------------------------"
      ],
      "text/plain": [
       "<IPython.core.display.Markdown object>"
      ]
     },
     "metadata": {},
     "output_type": "display_data"
    },
    {
     "data": {
      "text/markdown": [
       "- Robinhood (HOOD) stock has shown a strong performance in 2024, nearly doubling year-to-date, driven by market catalysts and a new acquisition in the AI space with Pluto Capital.  \n",
       "- The acquisition of Pluto Capital by Robinhood aims to enhance its investment and analysis offerings through AI, potentially attracting more users and increasing total assets under management.  \n",
       "- The deal signifies Robinhood's move to align with the growing trend of AI applications in the tech sector, refreshing its narrative and potentially distinguishing its platform through AI-powered tools for investors and traders."
      ],
      "text/plain": [
       "<IPython.core.display.Markdown object>"
      ]
     },
     "metadata": {},
     "output_type": "display_data"
    },
    {
     "data": {
      "text/markdown": [
       "--------------------------------------------------------------------------------"
      ],
      "text/plain": [
       "<IPython.core.display.Markdown object>"
      ]
     },
     "metadata": {},
     "output_type": "display_data"
    },
    {
     "data": {
      "text/markdown": [
       "- Mary Meeker's report emphasizes the importance of AI and higher education partnering together for the U.S. to maintain its AI lead and economic vitality.\n",
       "- She suggests a shift in mindset for universities to treat students as customers and teachers as coaches in the evolving tech landscape.\n",
       "- Meeker's report highlights the significance of AI as a profound revolution surpassing previous technological advancements."
      ],
      "text/plain": [
       "<IPython.core.display.Markdown object>"
      ]
     },
     "metadata": {},
     "output_type": "display_data"
    },
    {
     "data": {
      "text/markdown": [
       "--------------------------------------------------------------------------------"
      ],
      "text/plain": [
       "<IPython.core.display.Markdown object>"
      ]
     },
     "metadata": {},
     "output_type": "display_data"
    },
    {
     "data": {
      "text/markdown": [
       "- Artificial intelligence (AI) is a major trend with the potential to lift companies to new heights or push them towards extinction.\n",
       "- Palantir, a company specializing in AI solutions for governments and corporations, has a sticky business model with long-term contracts and increasing revenue from existing customers.\n",
       "- AI is expected to drive Palantir's growth in the commercial sector in 2024 and beyond, leveraging existing client relationships and the market's increasing awareness of AI's potential."
      ],
      "text/plain": [
       "<IPython.core.display.Markdown object>"
      ]
     },
     "metadata": {},
     "output_type": "display_data"
    },
    {
     "data": {
      "text/markdown": [
       "--------------------------------------------------------------------------------"
      ],
      "text/plain": [
       "<IPython.core.display.Markdown object>"
      ]
     },
     "metadata": {},
     "output_type": "display_data"
    },
    {
     "data": {
      "text/markdown": [
       "- SingularityNET, Fetch.ai, and Ocean Protocol announced a token merger to create the ASI token to revolutionize the AI ecosystem.\n",
       "- The merger involves integrating FET, AGIX, and OCEAN tokens into a unified platform supported by major exchanges.\n",
       "- The ASI token migration has two phases, focusing on community onboarding, deployment, and transitioning spot markets on major exchanges."
      ],
      "text/plain": [
       "<IPython.core.display.Markdown object>"
      ]
     },
     "metadata": {},
     "output_type": "display_data"
    },
    {
     "data": {
      "text/markdown": [
       "--------------------------------------------------------------------------------"
      ],
      "text/plain": [
       "<IPython.core.display.Markdown object>"
      ]
     },
     "metadata": {},
     "output_type": "display_data"
    },
    {
     "data": {
      "text/markdown": [
       "- Apple Intelligence is a new technology available to beta testers this summer and will be officially released as part of iOS 18, macOS Sequoia, and iPadOS 18 this fall.\n",
       "- Devices supporting Apple Intelligence features at launch include certain iPhones (Pro and Pro Max models), Macs (MacBook Air, MacBook Pro, iMac, Mac mini, Mac Studio, Mac Pro), and iPads (iPad Pro, iPad Air).\n",
       "- Apple Intelligence features include image tools for creating images from descriptions, a new Siri with enhanced capabilities, and language tools for analyzing writing and offering revisions."
      ],
      "text/plain": [
       "<IPython.core.display.Markdown object>"
      ]
     },
     "metadata": {},
     "output_type": "display_data"
    },
    {
     "data": {
      "text/markdown": [
       "--------------------------------------------------------------------------------"
      ],
      "text/plain": [
       "<IPython.core.display.Markdown object>"
      ]
     },
     "metadata": {},
     "output_type": "display_data"
    },
    {
     "data": {
      "text/markdown": [
       "- Large-cap technology stocks associated with the AI trade like NVDA, SMCI, AVGO have experienced pressure recently.\n",
       "- Despite the recent dip in share prices, NVDA's Data Center sales continue to break records and show remarkable growth.\n",
       "- SMCI and AVGO also exhibit positive earnings outlooks with steady analyst revisions, indicating potential opportunities for investors."
      ],
      "text/plain": [
       "<IPython.core.display.Markdown object>"
      ]
     },
     "metadata": {},
     "output_type": "display_data"
    },
    {
     "data": {
      "text/markdown": [
       "--------------------------------------------------------------------------------"
      ],
      "text/plain": [
       "<IPython.core.display.Markdown object>"
      ]
     },
     "metadata": {},
     "output_type": "display_data"
    },
    {
     "data": {
      "text/markdown": [
       "- A team from the University of Granada developed a machine-learning algorithm that can predict Mount St. Helens eruptions with 95% accuracy at least three days in advance.\n",
       "- The algorithm was trained using data from past eruptions, including the massive eruption in 1980, and focuses on analyzing seismic features to forecast volcanic activity.\n",
       "- Efforts to predict volcanic eruptions in general have been challenging due to conflicting data, but focusing on a single volcano like Mount St. Helens improved the accuracy of the predictions."
      ],
      "text/plain": [
       "<IPython.core.display.Markdown object>"
      ]
     },
     "metadata": {},
     "output_type": "display_data"
    },
    {
     "data": {
      "text/markdown": [
       "--------------------------------------------------------------------------------"
      ],
      "text/plain": [
       "<IPython.core.display.Markdown object>"
      ]
     },
     "metadata": {},
     "output_type": "display_data"
    },
    {
     "data": {
      "text/markdown": [
       "- FAA is seeking help from the artificial intelligence industry to improve aviation safety by developing a safety analytics system.\n",
       "- The agency acknowledges its disorganized structure and aims to integrate new AI technology with existing data infrastructure.\n",
       "- The request for information was issued to AI companies with a deadline of July 2 for addressing the 11 points in the document."
      ],
      "text/plain": [
       "<IPython.core.display.Markdown object>"
      ]
     },
     "metadata": {},
     "output_type": "display_data"
    },
    {
     "data": {
      "text/markdown": [
       "--------------------------------------------------------------------------------"
      ],
      "text/plain": [
       "<IPython.core.display.Markdown object>"
      ]
     },
     "metadata": {},
     "output_type": "display_data"
    },
    {
     "data": {
      "text/markdown": [
       "- Fetch.ai's CEO confirms that the AI token merger with Ocean Protocol and SingularityNet will proceed despite Coinbase not supporting it.\n",
       "- Coinbase users must initiate the migration themselves using a self-custodial wallet for the token merger.\n",
       "- The merger aims to create the Artificial Superintelligence Alliance to revolutionize AI accessibility and utilization."
      ],
      "text/plain": [
       "<IPython.core.display.Markdown object>"
      ]
     },
     "metadata": {},
     "output_type": "display_data"
    },
    {
     "data": {
      "text/markdown": [
       "--------------------------------------------------------------------------------"
      ],
      "text/plain": [
       "<IPython.core.display.Markdown object>"
      ]
     },
     "metadata": {},
     "output_type": "display_data"
    },
    {
     "data": {
      "text/markdown": [
       "- The winners of the AI boom are often overlooked utility and electricity firms, including those involved in data-center services.\n",
       "- Data centers are crucial for AI development, requiring significant computing power and infrastructure upgrades.\n",
       "- While hardware companies and utility stocks are surging, software stocks are lagging behind due to the focus on infrastructure in the AI cycle."
      ],
      "text/plain": [
       "<IPython.core.display.Markdown object>"
      ]
     },
     "metadata": {},
     "output_type": "display_data"
    },
    {
     "data": {
      "text/markdown": [
       "--------------------------------------------------------------------------------"
      ],
      "text/plain": [
       "<IPython.core.display.Markdown object>"
      ]
     },
     "metadata": {},
     "output_type": "display_data"
    },
    {
     "data": {
      "text/markdown": [
       "- Morgan Freeman called out the unauthorized use of AI replicating his voice in a TikTok video.\n",
       "- The TikTok video featured an AI narration imitating Freeman's voice about his \"niece.\"\n",
       "- Freeman is the latest celebrity to be impersonated by AI without his consent."
      ],
      "text/plain": [
       "<IPython.core.display.Markdown object>"
      ]
     },
     "metadata": {},
     "output_type": "display_data"
    },
    {
     "data": {
      "text/markdown": [
       "--------------------------------------------------------------------------------"
      ],
      "text/plain": [
       "<IPython.core.display.Markdown object>"
      ]
     },
     "metadata": {},
     "output_type": "display_data"
    },
    {
     "data": {
      "text/markdown": [
       "- Apple is looking to integrate Google Gemini into iOS as part of Apple Intelligence to enhance the AI capabilities of Apple devices.\n",
       "- Google Gemini offers more interactive and contextual features compared to Google Assistant, allowing for deeper interactions and integration with various applications.\n",
       "- The addition of Google Gemini to Apple devices is expected to provide users with a more helpful and interactive assistant, potentially leading to a more positive user experience."
      ],
      "text/plain": [
       "<IPython.core.display.Markdown object>"
      ]
     },
     "metadata": {},
     "output_type": "display_data"
    },
    {
     "data": {
      "text/markdown": [
       "--------------------------------------------------------------------------------"
      ],
      "text/plain": [
       "<IPython.core.display.Markdown object>"
      ]
     },
     "metadata": {},
     "output_type": "display_data"
    },
    {
     "data": {
      "text/markdown": [
       "- Roman Shoffner, a Houston-area man, is accused of using artificial intelligence to create child pornography by altering a picture of a 17-year-old girl.\n",
       "- Shoffner was charged with possession of child pornography after using an AI program on his cellphone to remove the teen's clothing in the image.\n",
       "- In 2023, Texas House Bill 2700 was amended to address the use of deepfake technology and AI in creating sexually explicit content involving individuals under 18 years of age."
      ],
      "text/plain": [
       "<IPython.core.display.Markdown object>"
      ]
     },
     "metadata": {},
     "output_type": "display_data"
    },
    {
     "data": {
      "text/markdown": [
       "--------------------------------------------------------------------------------"
      ],
      "text/plain": [
       "<IPython.core.display.Markdown object>"
      ]
     },
     "metadata": {},
     "output_type": "display_data"
    },
    {
     "data": {
      "text/markdown": [
       "- BofA Securities adds Palantir to its top 10 U.S. ideas list for the third quarter, citing momentum and growth in commercial business.\n",
       "- Momentum investor Joe Terranova highlights Palantir as an 'AI halo' play and Datadog as a software 'bottoming process' opportunity.\n",
       "- Datadog is emphasized for its critical role in AI security monitoring and potential breakout above critical levels."
      ],
      "text/plain": [
       "<IPython.core.display.Markdown object>"
      ]
     },
     "metadata": {},
     "output_type": "display_data"
    },
    {
     "data": {
      "text/markdown": [
       "--------------------------------------------------------------------------------"
      ],
      "text/plain": [
       "<IPython.core.display.Markdown object>"
      ]
     },
     "metadata": {},
     "output_type": "display_data"
    },
    {
     "data": {
      "text/markdown": [
       "- Apple is in discussions with Meta for a partnership to integrate Meta's generative AI model into Apple's new personalized AI system, Apple Intelligence.\n",
       "- The collaboration between major tech players like Apple and startups like Anthropic and Perplexity signifies a shift towards cooperation in AI development.\n",
       "- The partnership aims to enhance user interaction with technology, providing more intuitive and personalized AI experiences while addressing privacy concerns."
      ],
      "text/plain": [
       "<IPython.core.display.Markdown object>"
      ]
     },
     "metadata": {},
     "output_type": "display_data"
    },
    {
     "data": {
      "text/markdown": [
       "--------------------------------------------------------------------------------"
      ],
      "text/plain": [
       "<IPython.core.display.Markdown object>"
      ]
     },
     "metadata": {},
     "output_type": "display_data"
    },
    {
     "data": {
      "text/markdown": [
       "- Designing accessible AI and data science solutions is essential in today's digital world to ensure inclusivity for all users, including those with disabilities, and to remove barriers to accessibility in technology.\n",
       "- Accessibility in AI and data science is crucial for providing equal opportunities, creating barrier-free access, reducing biases, achieving equitable outcomes, and promoting inclusion in the digital realm.\n",
       "- Designing accessible AI involves integrating inclusive features, such as automated captioning and image descriptions powered by AI, to make digital content accessible for individuals with disabilities and enhance usability for all users."
      ],
      "text/plain": [
       "<IPython.core.display.Markdown object>"
      ]
     },
     "metadata": {},
     "output_type": "display_data"
    },
    {
     "data": {
      "text/markdown": [
       "--------------------------------------------------------------------------------"
      ],
      "text/plain": [
       "<IPython.core.display.Markdown object>"
      ]
     },
     "metadata": {},
     "output_type": "display_data"
    },
    {
     "data": {
      "text/markdown": [
       "- Virtual politicians driven by AI are starting to appear on ballot boxes globally, raising questions about their trustworthiness and influence on elections and governance.\n",
       "- AI algorithms have the potential to influence voter choices by deciding which human candidates best align with their views, leading to ethical concerns such as misinformation dissemination and deepfake threats.\n",
       "- As AI technology advances, politicians will leverage it to make data-driven decisions, analyze voter preferences, and target individuals effectively, requiring the establishment of transparent and accountable legislative frameworks to safeguard democracy's integrity."
      ],
      "text/plain": [
       "<IPython.core.display.Markdown object>"
      ]
     },
     "metadata": {},
     "output_type": "display_data"
    },
    {
     "data": {
      "text/markdown": [
       "--------------------------------------------------------------------------------"
      ],
      "text/plain": [
       "<IPython.core.display.Markdown object>"
      ]
     },
     "metadata": {},
     "output_type": "display_data"
    },
    {
     "data": {
      "text/markdown": [
       "- Acer Swift 14 AI laptop featuring AMD Ryzen AI 9 HX 370 \"Strix Point\" APU with 12-core processor and XDNA2 AI processor spotted on Geekbench. \n",
       "- The laptop delivers CPU core performance exceeding Phoenix and Hawk Point based APUs, scoring 2689 points in single-core and 13515 points in multi-core tests.\n",
       "- Despite lacking information on default TDP, the AMD Ryzen AI 300 series laptop is anticipated for release starting July 28, showcasing powerful performance capabilities compared to previous models."
      ],
      "text/plain": [
       "<IPython.core.display.Markdown object>"
      ]
     },
     "metadata": {},
     "output_type": "display_data"
    },
    {
     "data": {
      "text/markdown": [
       "--------------------------------------------------------------------------------"
      ],
      "text/plain": [
       "<IPython.core.display.Markdown object>"
      ]
     },
     "metadata": {},
     "output_type": "display_data"
    },
    {
     "data": {
      "text/markdown": [
       "- Lightricks, an Israeli app developer, is laying off 70 employees to focus on AI tools for movie creation.\n",
       "- The company plans to hire dozens of AI experts, mainly in Israel, to develop generative AI-based products.\n",
       "- Lightricks' suite of apps, with over 730 million downloads worldwide, includes Facetune and Videoleap, and the company has raised $335 million from investors."
      ],
      "text/plain": [
       "<IPython.core.display.Markdown object>"
      ]
     },
     "metadata": {},
     "output_type": "display_data"
    },
    {
     "data": {
      "text/markdown": [
       "--------------------------------------------------------------------------------"
      ],
      "text/plain": [
       "<IPython.core.display.Markdown object>"
      ]
     },
     "metadata": {},
     "output_type": "display_data"
    },
    {
     "data": {
      "text/markdown": [
       "- Northern Data AG is considering a US IPO for its combined AI cloud computing and data center businesses, aiming for a valuation of up to $16 billion.\n",
       "- The company could list an entity comprising its cloud computing activities and data centers on Nasdaq, with banks suggesting valuations between $10 billion to $16 billion.\n",
       "- The company secured financing from Tether Group for chips, pivoting away from mining Ethereum to focus on high-performance computing."
      ],
      "text/plain": [
       "<IPython.core.display.Markdown object>"
      ]
     },
     "metadata": {},
     "output_type": "display_data"
    },
    {
     "data": {
      "text/markdown": [
       "--------------------------------------------------------------------------------"
      ],
      "text/plain": [
       "<IPython.core.display.Markdown object>"
      ]
     },
     "metadata": {},
     "output_type": "display_data"
    },
    {
     "data": {
      "text/markdown": [
       "- Apple is upgrading the RAM in the iPhone 16 and 16 Plus from 6GB to 8GB to support new AI functionality known as Apple Intelligence.\n",
       "- The AI tasks will be run on-device using the upgraded RAM and neural engines, while more complex tasks will be handled in Apple's new data centers powered by M2 Ultra chips.\n",
       "- Apple Intelligence is the company's first integration of generative AI into its products, utilizing a combination of on-device processing and cloud-based capabilities for various functions."
      ],
      "text/plain": [
       "<IPython.core.display.Markdown object>"
      ]
     },
     "metadata": {},
     "output_type": "display_data"
    },
    {
     "data": {
      "text/markdown": [
       "--------------------------------------------------------------------------------"
      ],
      "text/plain": [
       "<IPython.core.display.Markdown object>"
      ]
     },
     "metadata": {},
     "output_type": "display_data"
    },
    {
     "data": {
      "text/markdown": [
       "- Robinhood acquired AI-driven investment-advice platform Pluto to provide tailored investment strategies and analysis to retail users.\n",
       "- Pluto, founded by Jacob Sansbury, offers AI-driven personalized investment advice and real-time analytics without thresholds, aiming to democratize finance.\n",
       "- This acquisition aims to assist Robinhood in offering individualized advice based on market information and customer portfolios to retail traders."
      ],
      "text/plain": [
       "<IPython.core.display.Markdown object>"
      ]
     },
     "metadata": {},
     "output_type": "display_data"
    },
    {
     "data": {
      "text/markdown": [
       "--------------------------------------------------------------------------------"
      ],
      "text/plain": [
       "<IPython.core.display.Markdown object>"
      ]
     },
     "metadata": {},
     "output_type": "display_data"
    },
    {
     "data": {
      "text/markdown": [
       "- AI capabilities extend beyond chatbots, urging for a diverse range of applications, as per AWS CEO Matt Garman\n",
       "- Matt Garman discusses Amazon's AI offerings, his role, and collaboration with startups during an interview on 'Closing Bell Overtime'\n",
       "- The importance of offering a variety of AI solutions highlighted, addressing a broader spectrum of needs."
      ],
      "text/plain": [
       "<IPython.core.display.Markdown object>"
      ]
     },
     "metadata": {},
     "output_type": "display_data"
    },
    {
     "data": {
      "text/markdown": [
       "--------------------------------------------------------------------------------"
      ],
      "text/plain": [
       "<IPython.core.display.Markdown object>"
      ]
     },
     "metadata": {},
     "output_type": "display_data"
    },
    {
     "data": {
      "text/markdown": [
       "- Microsoft 365's Copilot now accessible to all Microsoft 365 account holders\n",
       "- Seven new Copilot features including image generation, referencing PDFs and emails in Word, improved PowerPoint presentations, Excel enhancements, Copilot integration in Teams chats, rewriting content in SharePoint, and creating structured documents in Loop\n",
       "- Features like generating images in Word and PowerPoint, referencing PDFs and meetings in Word, creating PowerPoint presentations from PDFs and encrypted Word files, conversational support in Excel, and rewriting text in SharePoint are among the highlights of the new Copilot features"
      ],
      "text/plain": [
       "<IPython.core.display.Markdown object>"
      ]
     },
     "metadata": {},
     "output_type": "display_data"
    },
    {
     "data": {
      "text/markdown": [
       "--------------------------------------------------------------------------------"
      ],
      "text/plain": [
       "<IPython.core.display.Markdown object>"
      ]
     },
     "metadata": {},
     "output_type": "display_data"
    },
    {
     "data": {
      "text/markdown": [
       "- Researchers at MIT have developed a new AI-enabled robot system, RoboGrocery, that can identify and safely pack delicate grocery items with gentle fingers and an onboard AI algorithm.\n",
       "- The system aims to improve automated self-checkout experiences by reducing the need for human intervention in bagging groceries.\n",
       "- Despite the potential benefits of automated checkout systems, challenges such as technical issues, customer frustration, and increased shoplifting have hindered their widespread adoption."
      ],
      "text/plain": [
       "<IPython.core.display.Markdown object>"
      ]
     },
     "metadata": {},
     "output_type": "display_data"
    },
    {
     "data": {
      "text/markdown": [
       "--------------------------------------------------------------------------------"
      ],
      "text/plain": [
       "<IPython.core.display.Markdown object>"
      ]
     },
     "metadata": {},
     "output_type": "display_data"
    },
    {
     "data": {
      "text/markdown": [
       "- Mental illness is a critical global public health issue with many lacking access to adequate treatment\n",
       "- Researchers developed PATIENT-Ψ, a patient simulation framework using LLMs for CBT training\n",
       "- PATIENT-Ψ improves training fidelity and effectiveness, providing realistic and interactive simulations for mental health professional training"
      ],
      "text/plain": [
       "<IPython.core.display.Markdown object>"
      ]
     },
     "metadata": {},
     "output_type": "display_data"
    },
    {
     "data": {
      "text/markdown": [
       "--------------------------------------------------------------------------------"
      ],
      "text/plain": [
       "<IPython.core.display.Markdown object>"
      ]
     },
     "metadata": {},
     "output_type": "display_data"
    },
    {
     "data": {
      "text/markdown": [
       "- States like Connecticut, California, Mississippi, and Maryland are taking steps to help workers close the skills gap in AI by offering training programs and incorporating AI literacy skills into school curriculums.\n",
       "- The focus is on teaching workers how to use and manage generative AI rather than understanding the technology, emphasizing skills like creativity and problem-solving that complement AI.\n",
       "- Concerns about the skills gap widening inequity issues, the need for accessible internet and devices, and ensuring technology is affordable are highlighted in efforts to prepare individuals for an AI-driven workforce."
      ],
      "text/plain": [
       "<IPython.core.display.Markdown object>"
      ]
     },
     "metadata": {},
     "output_type": "display_data"
    },
    {
     "data": {
      "text/markdown": [
       "--------------------------------------------------------------------------------"
      ],
      "text/plain": [
       "<IPython.core.display.Markdown object>"
      ]
     },
     "metadata": {},
     "output_type": "display_data"
    },
    {
     "name": "stdout",
     "output_type": "stream",
     "text": [
      "'choices'\n"
     ]
    },
    {
     "data": {
      "text/markdown": [
       "- Chinese Communist Party's \"Thousand Talents Program\" recruits former Microsoft researchers for China's AI industry, raising concerns about intellectual property theft and technological supremacy.\n",
       "- CCP's program aims to close the gap with the U.S. in AI development, attracting over 10,000 scientists, while some individuals now hold prominent roles in China's AI industrial complex.\n",
       "- Microsoft researchers, including notable figures like Zhang Zheng and Li Shipeng, joined the CCP's Talent Program and now work for China-based companies and universities, indicating a potential risk of intellectual property misuse."
      ],
      "text/plain": [
       "<IPython.core.display.Markdown object>"
      ]
     },
     "metadata": {},
     "output_type": "display_data"
    },
    {
     "data": {
      "text/markdown": [
       "--------------------------------------------------------------------------------"
      ],
      "text/plain": [
       "<IPython.core.display.Markdown object>"
      ]
     },
     "metadata": {},
     "output_type": "display_data"
    },
    {
     "data": {
      "text/markdown": [
       "- Barron's is a financial news website offering analysis and insights on the stock market, investing, and other financial topics.\n",
       "- The website provides in-depth articles, market data, and tools to help investors make informed decisions.\n",
       "- Barron's covers a wide range of financial news, including stock market trends, investment strategies, and economic analysis."
      ],
      "text/plain": [
       "<IPython.core.display.Markdown object>"
      ]
     },
     "metadata": {},
     "output_type": "display_data"
    },
    {
     "data": {
      "text/markdown": [
       "--------------------------------------------------------------------------------"
      ],
      "text/plain": [
       "<IPython.core.display.Markdown object>"
      ]
     },
     "metadata": {},
     "output_type": "display_data"
    },
    {
     "data": {
      "text/markdown": [
       "- Robot choreographer Catie Cuan discusses the importance of teaching robots to move gracefully, with intention and emotion to create AI-powered machines for daily use\n",
       "- The talk explores the world of dancing machines and how art, technology, innovation, and dance intersect in shaping the future of AI\n",
       "- Catie Cuan highlights the significance of integrating grace and emotion into robots to make them more appealing for daily interactions"
      ],
      "text/plain": [
       "<IPython.core.display.Markdown object>"
      ]
     },
     "metadata": {},
     "output_type": "display_data"
    },
    {
     "data": {
      "text/markdown": [
       "--------------------------------------------------------------------------------"
      ],
      "text/plain": [
       "<IPython.core.display.Markdown object>"
      ]
     },
     "metadata": {},
     "output_type": "display_data"
    },
    {
     "data": {
      "text/markdown": [
       "- A research team has developed a radiative transfer modeling framework using Helios 3D plant modeling software to simulate various types of plant images with detailed annotations.\n",
       "- The framework reduces the need for manual data collection and improves deep learning model training for high-throughput plant phenotyping.\n",
       "- The study validates the model's efficacy in producing high-quality plant images, aiming to enhance agricultural research by providing efficient analysis of plant traits."
      ],
      "text/plain": [
       "<IPython.core.display.Markdown object>"
      ]
     },
     "metadata": {},
     "output_type": "display_data"
    },
    {
     "data": {
      "text/markdown": [
       "--------------------------------------------------------------------------------"
      ],
      "text/plain": [
       "<IPython.core.display.Markdown object>"
      ]
     },
     "metadata": {},
     "output_type": "display_data"
    },
    {
     "data": {
      "text/markdown": [
       "- Groq AI, a startup competing with Nvidia in the AI chip market, is set to raise $300 million in funding led by BlackRock and other investors.\n",
       "- Groq, founded by ex-Google executive Jonathan Ross, specializes in chips and software for generative AI products and aims to challenge Nvidia with faster and cheaper hardware.\n",
       "- The startup has raised $367 million prior to this round and has faced controversies, including a firing incident with early backer Social Capital, led by Chamath Palihapitiya."
      ],
      "text/plain": [
       "<IPython.core.display.Markdown object>"
      ]
     },
     "metadata": {},
     "output_type": "display_data"
    },
    {
     "data": {
      "text/markdown": [
       "--------------------------------------------------------------------------------"
      ],
      "text/plain": [
       "<IPython.core.display.Markdown object>"
      ]
     },
     "metadata": {},
     "output_type": "display_data"
    },
    {
     "data": {
      "text/markdown": [
       "- AI is utilized to develop a one-size-fits-all exoskeleton that adjusts to different users without individual adjustments, making it more feasible and user-friendly.\n",
       "- The exoskeleton is created using AI-generated control policies, reducing the need for costly handcrafting and individual human training, potentially lowering prices to $2,000 to $5,000.\n",
       "- Neural networks are trained to simulate human-exoskeleton interactions, resulting in record-breaking metabolic rate reductions during walking, running, and stair climbing with the exoskeleton."
      ],
      "text/plain": [
       "<IPython.core.display.Markdown object>"
      ]
     },
     "metadata": {},
     "output_type": "display_data"
    },
    {
     "data": {
      "text/markdown": [
       "--------------------------------------------------------------------------------"
      ],
      "text/plain": [
       "<IPython.core.display.Markdown object>"
      ]
     },
     "metadata": {},
     "output_type": "display_data"
    },
    {
     "data": {
      "text/plain": [
       "169"
      ]
     },
     "execution_count": 48,
     "metadata": {},
     "output_type": "execute_result"
    }
   ],
   "source": [
    "response_str_list = []\n",
    "for response in responses:\n",
    "    try:\n",
    "        response_str = response[\"choices\"][0][\"message\"][\"content\"]\n",
    "        display(Markdown(response_str))\n",
    "        display(Markdown(\"--\" * 40))\n",
    "        response_str_list.append(response_str)\n",
    "\n",
    "    except Exception as exc:\n",
    "        print(exc)\n",
    "        \n",
    "        \n",
    "len(response_str_list)\n",
    "\n"
   ]
  },
  {
   "cell_type": "code",
   "execution_count": null,
   "id": "fad0afa3",
   "metadata": {},
   "outputs": [],
   "source": [
    "    try:\n",
    "        response_str = r[\"choices\"][0][\"message\"][\"content\"]\n",
    "    except Exception as exc:\n",
    "        print(exc)\n",
    "        return \"\"\n",
    "\n",
    "    output = f\"[{i+1}. {title}]({url})\\n\\n\"\n",
    "    output += response\n",
    "    output += \"-\" * 10\n",
    "    output += \"\\n\\n\"\n",
    "    display(Markdown(output))\n",
    "\n",
    "    all_responses += output\n",
    "\n",
    "all_responses = \"\""
   ]
  },
  {
   "cell_type": "code",
   "execution_count": null,
   "id": "7d05a296",
   "metadata": {},
   "outputs": [],
   "source": [
    "response\n",
    "\n"
   ]
  },
  {
   "cell_type": "code",
   "execution_count": null,
   "id": "0607b6dc",
   "metadata": {},
   "outputs": [],
   "source": [
    "# classify relevance using local model\n",
    "# add scraped title to database via an update\n",
    "# consider the issue of reddit where the title may be reused \n",
    "# filter saved pages for html files that already exists using title"
   ]
  },
  {
   "cell_type": "code",
   "execution_count": null,
   "id": "cac72cf0",
   "metadata": {},
   "outputs": [],
   "source": []
  }
 ],
 "metadata": {
  "kernelspec": {
   "display_name": "langgraph",
   "language": "python",
   "name": "langgraph"
  },
  "language_info": {
   "codemirror_mode": {
    "name": "ipython",
    "version": 3
   },
   "file_extension": ".py",
   "mimetype": "text/x-python",
   "name": "python",
   "nbconvert_exporter": "python",
   "pygments_lexer": "ipython3",
   "version": "3.11.9"
  }
 },
 "nbformat": 4,
 "nbformat_minor": 5
}
