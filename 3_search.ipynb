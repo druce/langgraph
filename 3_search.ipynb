{
 "cells": [
  {
   "cell_type": "markdown",
   "id": "2544dd96-a13c-42df-ab63-c427e68fd41e",
   "metadata": {},
   "source": [
    "# Lesson 3: Agentic Search"
   ]
  },
  {
   "cell_type": "code",
   "execution_count": 1,
   "id": "d0168aee-bce9-4d60-b827-f86a88187e31",
   "metadata": {},
   "outputs": [],
   "source": [
    "# libraries\n",
    "from dotenv import load_dotenv\n",
    "import os\n",
    "from tavily import TavilyClient\n",
    "\n",
    "# load environment variables from .env file\n",
    "_ = load_dotenv()\n",
    "\n",
    "# connect\n",
    "client = TavilyClient(api_key=os.environ.get(\"TAVILY_API_KEY\"))"
   ]
  },
  {
   "cell_type": "code",
   "execution_count": 2,
   "id": "a2ba84ec-c172-4de7-ac55-e3158a531b23",
   "metadata": {},
   "outputs": [
    {
     "data": {
      "text/plain": [
       "\"Broadcom Inc. is a global technology leader specializing in semiconductor, enterprise software, and security solutions. Established in 1961 as HP Associates, it later became Broadcom through a spinoff from Hewlett-Packard in 1999. In 2005, Avago Technologies was formed after acquiring the Semiconductor Products Group of Agilent Technologies. Broadcom completed the acquisition of Symantec's enterprise security business in 2019. The company has been involved in investigations for anti-competitive practices by authorities like the European Union. As of 2022, Broadcom offers enterprise software and operates the enterprise security business under the Symantec brand.\""
      ]
     },
     "execution_count": 2,
     "metadata": {},
     "output_type": "execute_result"
    }
   ],
   "source": [
    "# run search\n",
    "result = client.search(\"what are basic facts about Broadcom\",\n",
    "                       include_answer=True)\n",
    "\n",
    "# print the answer\n",
    "result[\"answer\"]\n"
   ]
  },
  {
   "cell_type": "markdown",
   "id": "d7f3f33c-c7bd-4b7f-9616-b65eef104514",
   "metadata": {},
   "source": [
    "## Regular search"
   ]
  },
  {
   "cell_type": "code",
   "execution_count": 12,
   "id": "876d5092-b8ef-4e38-b4d7-0e80c609bf7a",
   "metadata": {},
   "outputs": [],
   "source": [
    "# choose location (try to change to your own city!)\n",
    "\n",
    "company = \"Broadcom\"\n",
    "\n",
    "query = f\"\"\"\n",
    "    what are basic facts about {company}?\n",
    "\"\"\""
   ]
  },
  {
   "cell_type": "code",
   "execution_count": 15,
   "id": "10084a02-2928-4945-9f7c-ad3f5b33caf7",
   "metadata": {},
   "outputs": [
    {
     "name": "stdout",
     "output_type": "stream",
     "text": [
      "https://www.broadcom.com/company/about-us\n",
      "https://facts.net/general/16-facts-about-broadcom/\n",
      "https://en.wikipedia.org/wiki/Broadcom\n",
      "https://www.statista.com/topics/9932/broadcom/\n",
      "https://www.broadcom.com/company/about-us/company-history\n"
     ]
    }
   ],
   "source": [
    "import requests\n",
    "from bs4 import BeautifulSoup\n",
    "from duckduckgo_search import DDGS\n",
    "import re\n",
    "\n",
    "ddg = DDGS()\n",
    "\n",
    "def search(query, max_results=5):\n",
    "    try:\n",
    "        results = ddg.text(query, max_results=max_results)\n",
    "        return [i[\"href\"] for i in results]\n",
    "    except Exception as e:\n",
    "        print(f\"returning previous results due to exception reaching ddg.\")\n",
    "        results = [ # cover case where DDG rate limits due to high deeplearning.ai volume\n",
    "            \"https://weather.com/weather/today/l/USCA0987:1:US\",\n",
    "            \"https://weather.com/weather/hourbyhour/l/54f9d8baac32496f6b5497b4bf7a277c3e2e6cc5625de69680e6169e7e38e9a8\",\n",
    "        ]\n",
    "        return results  \n",
    "\n",
    "\n",
    "for i in search(query):\n",
    "    print(i)"
   ]
  },
  {
   "cell_type": "code",
   "execution_count": 16,
   "id": "d31c432d-8e22-412f-b302-961ace0b00bd",
   "metadata": {},
   "outputs": [],
   "source": [
    "def scrape_info(url):\n",
    "    \"\"\"Scrape content from the given URL\"\"\"\n",
    "    if not url:\n",
    "        return \"Weather information could not be found.\"\n",
    "    \n",
    "    # fetch data\n",
    "    headers = {'User-Agent': 'Mozilla/5.0'}\n",
    "    response = requests.get(url, headers=headers)\n",
    "    if response.status_code != 200:\n",
    "        return \"Failed to retrieve the webpage.\"\n",
    "\n",
    "    # parse result\n",
    "    soup = BeautifulSoup(response.text, 'html.parser')\n",
    "    return soup\n"
   ]
  },
  {
   "cell_type": "code",
   "execution_count": 26,
   "id": "714d1205-f8fc-4912-b148-2a45da99219c",
   "metadata": {},
   "outputs": [
    {
     "name": "stdout",
     "output_type": "stream",
     "text": [
      "Website: https://www.broadcom.com/company/about-us\n",
      "\n",
      "\n",
      "Description: Broadcom Inc. is a global technology leader that designs, develops and supplies a broad range of semiconductor, enterprise software and security solutions. \n",
      "\n",
      "\n",
      "\n",
      "----\n",
      "\n",
      "\n",
      "\n",
      "Website: https://facts.net/general/16-facts-about-broadcom/\n",
      "\n",
      "\n",
      "Description: Discover 16 intriguing facts about Broadcom, a leading technology company that is shaping the future with its innovative solutions and cutting-edge products. Explore the company's history, achievements, and impact on various industries.\n",
      "\n",
      "\n",
      "16 Facts About Broadcom Written by Doll Hutcherson Modified & Updated: 02 Jun 2024 Reviewed by Sherman Smith Broadcom is a global technology company that is known for its extensive range of semiconductor and infrastructure software solutions. With a presence in over 30 countries, Broadcom is a key player in the field of wireless communication, wired infrastructure, enterprise storage, industrial automation, and more. The company has made significant contributions to the advancement of technology, enabling faster and more reliable connectivity across a wide range of devices. In this article, we will explore 16 fascinating facts about Broadcom that highlight its impact and success in the tech industry. From its humble beginnings to its current position as one of the leading tech companies in the world, we will delve into the key milestones, industry partnerships , and innovative products that have propelled Broadcom to its present-day status. Key Takeaways: The Birth of Broadcom Broadcom\n",
      "----\n",
      "\n",
      "\n",
      "\n",
      "Website: https://en.wikipedia.org/wiki/Broadcom\n",
      "\n",
      "\n",
      "Contents Broadcom  Broadcom Inc. is an American multinational designer, developer, manufacturer, and global supplier of a wide range of semiconductor and infrastructure software products. Broadcom's product offerings serve the data center, networking, software, broadband, wireless, storage, and industrial markets. As of 2023, some 79 percent of Broadcom's revenue came from its semiconductor-based products and 21 percent from its infrastructure software products and services. [1] : 43 Tan Hock Eng is the company's president and CEO . [4] [5] The company is headquartered in Palo Alto, California . [6] Avago Technologies Limited took the Broadcom part of the Broadcom Corporation name after acquiring it in January 2016. The ticker symbol AVGO which represented old Avago now represents the newly merged entity. The Broadcom Corporation ticker symbol BRCM was retired. At first the merged entity was known as Broadcom Limited , before assuming the present name in November 2017. In October 2019,\n",
      "----\n",
      "\n",
      "\n",
      "\n",
      "Website: https://www.statista.com/topics/9932/broadcom/\n",
      "\n",
      "\n",
      "Description: Discover all statistics and data on Broadcom now on statista.com!\n",
      "\n",
      "\n",
      "Industry Overview Digital & Trend reports Overview and forecasts on trending topics Industry & Market reports Industry and market insights and forecasts Companies & Products reports Key figures and rankings about companies and products Consumer & Brand reports Consumer and brand insights and preferences in various industries Politics & Society reports Detailed information about political and social topics Country & Region reports All key figures about countries and regions Market forecast and expert KPIs for 1000+ markets in 190+ countries & territories Insights on consumer attitudes and behavior worldwide Business information on 100m+ public and private companies Explore Company Insights Detailed information for 39,000+ online stores and marketplaces Directly accessible data for 170 industries from 150+ countries\n",
      "                    and over 1 Mio. facts. Customized Research & Analysis projects: Get quick analyses with our professional research service The best of the best: the portal\n",
      "----\n",
      "\n",
      "\n",
      "\n",
      "Website: https://www.broadcom.com/company/about-us/company-history\n",
      "\n",
      "\n",
      "Description: Broadcom Inc. is a global technology leader that designs, develops and supplies a broad range of semiconductor, enterprise software and security solutions. \n",
      "\n",
      "\n",
      "\n",
      "----\n",
      "\n",
      "\n",
      "\n"
     ]
    }
   ],
   "source": [
    "# use DuckDuckGo to find websites and take the first result\n",
    "for url in search(query):\n",
    "\n",
    "    soup = scrape_info(url)\n",
    "\n",
    "    print(f\"Website: {url}\\n\\n\")\n",
    "    try:\n",
    "        meta_description = soup.find('meta', attrs={'name': 'description'})\n",
    "    \n",
    "        # Check if meta description exists\n",
    "        if meta_description:\n",
    "            meta_description = meta_description.get('content')\n",
    "    except Exception as exc:\n",
    "        print(exc)\n",
    "        meta_description=\"\"\n",
    "        \n",
    "    if meta_description:\n",
    "        print(f\"Description: {meta_description}\\n\\n\")\n",
    "        \n",
    "    data = []\n",
    "    for tag in soup.find_all(['h1', 'h2', 'h3', 'p']):\n",
    "        text = tag.get_text(\" \", strip=True)\n",
    "        data.append(text)\n",
    "    \n",
    "    output = \" \".join(data)\n",
    "        \n",
    "    print(output[:1000]) # limit long outputs  \n",
    "    print(\"----\\n\\n\\n\")\n",
    "    \n"
   ]
  },
  {
   "cell_type": "markdown",
   "id": "92db676d-d8d9-4558-8dcf-1b20fcb48e45",
   "metadata": {},
   "source": [
    "## Agentic Search"
   ]
  },
  {
   "cell_type": "code",
   "execution_count": 27,
   "id": "dc3293b7-a50c-43c8-a022-8975e1e444b8",
   "metadata": {},
   "outputs": [
    {
     "name": "stdout",
     "output_type": "stream",
     "text": [
      "In October 2019, the European Union issued an interim antitrust order against Broadcom concerning anticompetitive business practices which allegedly violate European Union competition law.[10]\n",
      "History[edit]\n",
      "Origin in Hewlett-Packard[edit]\n",
      "The company that would later become Broadcom Inc. was established in 1961 as HP Associates, a semiconductor products division of Hewlett-Packard.[11]\n",
      "The division separated from Hewlett-Packard as part of the Agilent Technologies spinoff in 1999.[7][12]\n",
      "Formation of Avago Technologies[edit]\n",
      "KKR and Silver Lake Partners acquired the Semiconductor Products Group of Agilent Technologies in 2005 for $2.6 billion and formed Avago Technologies.[7] Avago Technologies agreed to sell its I/O solutions unit to PMC-Sierra for $42.5 million in October 2005.[13]\n",
      "In August 2008, the company filed an initial public offering of $400 million.[14][15] And on 4 November 2019, Broadcom announced that it had completed the acquisition of the business, as well as the Symantec name and brand.[51][52][53][54][55]\n",
      "In 2019, Broadcom was announced the fifth best performing stock of the 2010s, with a total return of 1,956%.[56]\n",
      "Anti-competitive practices investigations[edit]\n",
      "On January 17, 2018, it was reported that the FTC had been investigating Broadcom for several months in regard to its anti-competitive tactics while negotiating with customers.[57]\n",
      "In October 2019, Broadcom was ordered by the European Union to stop allegedly anticompetitive practices.[10]\n",
      " Broadcom is suggesting 80 ports at 100 Gbit/s; or 48 ports at 100 Gbit/s plus either 8 ports at 400 Gbit/s or 16 ports at 200 Gbit/s; or 96 ports at 50 Gbit/s plus either 8 ports at 400 Gbit/s or 16 ports at 200 Gbit/s.[87] The Tomahawk 4 reached a speed of 25.6 Tbit/s while the Tomahawk 5 has a maximum speed of 51.2 Tbit/s.[88]\n",
      "Software[edit]\n",
      "As of 2022, Broadcom has offered Enterprise software.[89]\n",
      "Broadcom operates its enterprise security business under the Symantec brand; Broadcom purchased this business from NortonLifeLock (formerly known as Symantec) in 2019.[90]\n",
      "Broadcom also offers products for supporting BizOps, including:[91]\n",
      "See also[edit]\n",
      "References[edit]\n",
      "External links[edit] However, critics of the move stated that the decision was motivated by competitiveness more than security concerns.[43] Broadcom withdrew its takeover bid two days after the executive order.[44]\n",
      "Observers have stated that Mr. Trump's decision was as consistent with the balance of trade objectives as it was with security concerns.[45]\n",
      "Move into software[edit]\n",
      "Historically a semiconductor-based-only company,[46] the failure of the Qualcomm bid led Broadcom and its CEO to look at acquiring infrastructure software as an alternative way of growing in size.[47] The U.S. International Trade Commission ruled in favor of the smart TV manufacturers.[62]\n",
      "In 2020, Broadcom sued Netflix over multiple patent infringements.[63] Critics have argued that Broadcom is suing Netflix for being more successful,[64] citing the declining number of traditional pay television subscribers due to the rise of streaming services.[65] The Leichtman Research Group calculated that the largest pay TV providers in the U.S. – representing about 95% of the market – lost about 4,915,000 net video subscribers in 2019.[65]\n"
     ]
    }
   ],
   "source": [
    "# run search\n",
    "result = client.search(query, max_results=1)\n",
    "\n",
    "# print first result\n",
    "data = result[\"results\"][0][\"content\"]\n",
    "\n",
    "print(data)"
   ]
  },
  {
   "cell_type": "code",
   "execution_count": 28,
   "id": "0722c3d4-4cbf-43bf-81b0-50f634c4ce61",
   "metadata": {},
   "outputs": [
    {
     "ename": "JSONDecodeError",
     "evalue": "Expecting value: line 1 column 1 (char 0)",
     "output_type": "error",
     "traceback": [
      "\u001b[0;31m---------------------------------------------------------------------------\u001b[0m",
      "\u001b[0;31mJSONDecodeError\u001b[0m                           Traceback (most recent call last)",
      "Cell \u001b[0;32mIn[28], line 5\u001b[0m\n\u001b[1;32m      2\u001b[0m \u001b[38;5;28;01mfrom\u001b[39;00m \u001b[38;5;21;01mpygments\u001b[39;00m \u001b[38;5;28;01mimport\u001b[39;00m highlight, lexers, formatters\n\u001b[1;32m      4\u001b[0m \u001b[38;5;66;03m# parse JSON\u001b[39;00m\n\u001b[0;32m----> 5\u001b[0m parsed_json \u001b[38;5;241m=\u001b[39m \u001b[43mjson\u001b[49m\u001b[38;5;241;43m.\u001b[39;49m\u001b[43mloads\u001b[49m\u001b[43m(\u001b[49m\u001b[43mdata\u001b[49m\u001b[38;5;241;43m.\u001b[39;49m\u001b[43mreplace\u001b[49m\u001b[43m(\u001b[49m\u001b[38;5;124;43m\"\u001b[39;49m\u001b[38;5;124;43m'\u001b[39;49m\u001b[38;5;124;43m\"\u001b[39;49m\u001b[43m,\u001b[49m\u001b[43m \u001b[49m\u001b[38;5;124;43m'\u001b[39;49m\u001b[38;5;124;43m\"\u001b[39;49m\u001b[38;5;124;43m'\u001b[39;49m\u001b[43m)\u001b[49m\u001b[43m)\u001b[49m\n\u001b[1;32m      7\u001b[0m \u001b[38;5;66;03m# pretty print JSON with syntax highlighting\u001b[39;00m\n\u001b[1;32m      8\u001b[0m formatted_json \u001b[38;5;241m=\u001b[39m json\u001b[38;5;241m.\u001b[39mdumps(parsed_json, indent\u001b[38;5;241m=\u001b[39m\u001b[38;5;241m4\u001b[39m)\n",
      "File \u001b[0;32m/opt/anaconda3/envs/langgraph/lib/python3.11/json/__init__.py:346\u001b[0m, in \u001b[0;36mloads\u001b[0;34m(s, cls, object_hook, parse_float, parse_int, parse_constant, object_pairs_hook, **kw)\u001b[0m\n\u001b[1;32m    341\u001b[0m     s \u001b[38;5;241m=\u001b[39m s\u001b[38;5;241m.\u001b[39mdecode(detect_encoding(s), \u001b[38;5;124m'\u001b[39m\u001b[38;5;124msurrogatepass\u001b[39m\u001b[38;5;124m'\u001b[39m)\n\u001b[1;32m    343\u001b[0m \u001b[38;5;28;01mif\u001b[39;00m (\u001b[38;5;28mcls\u001b[39m \u001b[38;5;129;01mis\u001b[39;00m \u001b[38;5;28;01mNone\u001b[39;00m \u001b[38;5;129;01mand\u001b[39;00m object_hook \u001b[38;5;129;01mis\u001b[39;00m \u001b[38;5;28;01mNone\u001b[39;00m \u001b[38;5;129;01mand\u001b[39;00m\n\u001b[1;32m    344\u001b[0m         parse_int \u001b[38;5;129;01mis\u001b[39;00m \u001b[38;5;28;01mNone\u001b[39;00m \u001b[38;5;129;01mand\u001b[39;00m parse_float \u001b[38;5;129;01mis\u001b[39;00m \u001b[38;5;28;01mNone\u001b[39;00m \u001b[38;5;129;01mand\u001b[39;00m\n\u001b[1;32m    345\u001b[0m         parse_constant \u001b[38;5;129;01mis\u001b[39;00m \u001b[38;5;28;01mNone\u001b[39;00m \u001b[38;5;129;01mand\u001b[39;00m object_pairs_hook \u001b[38;5;129;01mis\u001b[39;00m \u001b[38;5;28;01mNone\u001b[39;00m \u001b[38;5;129;01mand\u001b[39;00m \u001b[38;5;129;01mnot\u001b[39;00m kw):\n\u001b[0;32m--> 346\u001b[0m     \u001b[38;5;28;01mreturn\u001b[39;00m \u001b[43m_default_decoder\u001b[49m\u001b[38;5;241;43m.\u001b[39;49m\u001b[43mdecode\u001b[49m\u001b[43m(\u001b[49m\u001b[43ms\u001b[49m\u001b[43m)\u001b[49m\n\u001b[1;32m    347\u001b[0m \u001b[38;5;28;01mif\u001b[39;00m \u001b[38;5;28mcls\u001b[39m \u001b[38;5;129;01mis\u001b[39;00m \u001b[38;5;28;01mNone\u001b[39;00m:\n\u001b[1;32m    348\u001b[0m     \u001b[38;5;28mcls\u001b[39m \u001b[38;5;241m=\u001b[39m JSONDecoder\n",
      "File \u001b[0;32m/opt/anaconda3/envs/langgraph/lib/python3.11/json/decoder.py:337\u001b[0m, in \u001b[0;36mJSONDecoder.decode\u001b[0;34m(self, s, _w)\u001b[0m\n\u001b[1;32m    332\u001b[0m \u001b[38;5;28;01mdef\u001b[39;00m \u001b[38;5;21mdecode\u001b[39m(\u001b[38;5;28mself\u001b[39m, s, _w\u001b[38;5;241m=\u001b[39mWHITESPACE\u001b[38;5;241m.\u001b[39mmatch):\n\u001b[1;32m    333\u001b[0m \u001b[38;5;250m    \u001b[39m\u001b[38;5;124;03m\"\"\"Return the Python representation of ``s`` (a ``str`` instance\u001b[39;00m\n\u001b[1;32m    334\u001b[0m \u001b[38;5;124;03m    containing a JSON document).\u001b[39;00m\n\u001b[1;32m    335\u001b[0m \n\u001b[1;32m    336\u001b[0m \u001b[38;5;124;03m    \"\"\"\u001b[39;00m\n\u001b[0;32m--> 337\u001b[0m     obj, end \u001b[38;5;241m=\u001b[39m \u001b[38;5;28;43mself\u001b[39;49m\u001b[38;5;241;43m.\u001b[39;49m\u001b[43mraw_decode\u001b[49m\u001b[43m(\u001b[49m\u001b[43ms\u001b[49m\u001b[43m,\u001b[49m\u001b[43m \u001b[49m\u001b[43midx\u001b[49m\u001b[38;5;241;43m=\u001b[39;49m\u001b[43m_w\u001b[49m\u001b[43m(\u001b[49m\u001b[43ms\u001b[49m\u001b[43m,\u001b[49m\u001b[43m \u001b[49m\u001b[38;5;241;43m0\u001b[39;49m\u001b[43m)\u001b[49m\u001b[38;5;241;43m.\u001b[39;49m\u001b[43mend\u001b[49m\u001b[43m(\u001b[49m\u001b[43m)\u001b[49m\u001b[43m)\u001b[49m\n\u001b[1;32m    338\u001b[0m     end \u001b[38;5;241m=\u001b[39m _w(s, end)\u001b[38;5;241m.\u001b[39mend()\n\u001b[1;32m    339\u001b[0m     \u001b[38;5;28;01mif\u001b[39;00m end \u001b[38;5;241m!=\u001b[39m \u001b[38;5;28mlen\u001b[39m(s):\n",
      "File \u001b[0;32m/opt/anaconda3/envs/langgraph/lib/python3.11/json/decoder.py:355\u001b[0m, in \u001b[0;36mJSONDecoder.raw_decode\u001b[0;34m(self, s, idx)\u001b[0m\n\u001b[1;32m    353\u001b[0m     obj, end \u001b[38;5;241m=\u001b[39m \u001b[38;5;28mself\u001b[39m\u001b[38;5;241m.\u001b[39mscan_once(s, idx)\n\u001b[1;32m    354\u001b[0m \u001b[38;5;28;01mexcept\u001b[39;00m \u001b[38;5;167;01mStopIteration\u001b[39;00m \u001b[38;5;28;01mas\u001b[39;00m err:\n\u001b[0;32m--> 355\u001b[0m     \u001b[38;5;28;01mraise\u001b[39;00m JSONDecodeError(\u001b[38;5;124m\"\u001b[39m\u001b[38;5;124mExpecting value\u001b[39m\u001b[38;5;124m\"\u001b[39m, s, err\u001b[38;5;241m.\u001b[39mvalue) \u001b[38;5;28;01mfrom\u001b[39;00m \u001b[38;5;28;01mNone\u001b[39;00m\n\u001b[1;32m    356\u001b[0m \u001b[38;5;28;01mreturn\u001b[39;00m obj, end\n",
      "\u001b[0;31mJSONDecodeError\u001b[0m: Expecting value: line 1 column 1 (char 0)"
     ]
    }
   ],
   "source": [
    "# didn't get json for this search\n",
    "\n",
    "import json\n",
    "from pygments import highlight, lexers, formatters\n",
    "\n",
    "# parse JSON\n",
    "parsed_json = json.loads(data.replace(\"'\", '\"'))\n",
    "\n",
    "# pretty print JSON with syntax highlighting\n",
    "formatted_json = json.dumps(parsed_json, indent=4)\n",
    "colorful_json = highlight(formatted_json,\n",
    "                          lexers.JsonLexer(),\n",
    "                          formatters.TerminalFormatter())\n",
    "\n",
    "print(colorful_json)\n"
   ]
  },
  {
   "cell_type": "markdown",
   "id": "837f3ecd-df6b-4f2f-9325-a253678897b0",
   "metadata": {},
   "source": [
    "<img src=\"./google_sample.png\" width=\"800\" height=\"600\">"
   ]
  },
  {
   "cell_type": "code",
   "execution_count": null,
   "id": "61f79eb9-d1c9-44b0-9efd-a8f9b380332a",
   "metadata": {},
   "outputs": [],
   "source": []
  }
 ],
 "metadata": {
  "kernelspec": {
   "display_name": "langgraph",
   "language": "python",
   "name": "langgraph"
  },
  "language_info": {
   "codemirror_mode": {
    "name": "ipython",
    "version": 3
   },
   "file_extension": ".py",
   "mimetype": "text/x-python",
   "name": "python",
   "nbconvert_exporter": "python",
   "pygments_lexer": "ipython3",
   "version": "3.11.9"
  }
 },
 "nbformat": 4,
 "nbformat_minor": 5
}
