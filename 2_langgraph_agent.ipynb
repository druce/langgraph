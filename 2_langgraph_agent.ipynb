{
 "cells": [
  {
   "cell_type": "markdown",
   "id": "21fa2e13-567d-4509-9023-c99fb230f31f",
   "metadata": {},
   "source": [
    "# Lesson 2 : LangGraph Components"
   ]
  },
  {
   "cell_type": "code",
   "execution_count": null,
   "id": "5060e0ab",
   "metadata": {},
   "outputs": [],
   "source": [
    "# !brew install graphviz\n",
    "# export C_INCLUDE_PATH=$(brew --prefix graphviz)/include\n",
    "# export LIBRARY_PATH=$(brew --prefix graphviz)/lib\n",
    "# pip install pygraphviz\n",
    "\n",
    "# get free Tavily key at https://app.tavily.com/sign-in and put in .env"
   ]
  },
  {
   "cell_type": "code",
   "execution_count": 2,
   "id": "f5762271-8736-4e94-9444-8c92bd0e8074",
   "metadata": {},
   "outputs": [],
   "source": [
    "from dotenv import load_dotenv\n",
    "_ = load_dotenv()"
   ]
  },
  {
   "cell_type": "code",
   "execution_count": 3,
   "id": "d0168aee-bce9-4d60-b827-f86a88187e31",
   "metadata": {},
   "outputs": [],
   "source": [
    "import os\n",
    "import shutil\n",
    "import glob\n",
    "from datetime import datetime, timedelta\n",
    "import time\n",
    "from typing import TypedDict, Annotated\n",
    "import operator\n",
    "import re\n",
    "from IPython.display import Image, display, HTML, Markdown\n",
    "\n",
    "import pandas as pd\n",
    "\n",
    "import requests\n",
    "from bs4 import BeautifulSoup\n",
    "from urllib.parse import urljoin, urlparse\n",
    "\n",
    "import sec_parser as sp\n",
    "from sec_downloader import Downloader\n",
    "\n",
    "# for Mac desktop automation\n",
    "import pyautogui\n",
    "import AppKit\n",
    "from AppKit import NSApplication, NSApp, NSWorkspace\n",
    "\n",
    "import selenium\n",
    "from selenium import webdriver\n",
    "from selenium.webdriver.common.by import By\n",
    "from selenium.webdriver.common.keys import Keys\n",
    "from selenium.webdriver.common.action_chains import ActionChains\n",
    "# use firefox because it updates less often, can disable updates\n",
    "# recommend importing profile from Chrome for cookies, passwords\n",
    "# looks less like a bot with more user cruft in the profile\n",
    "from selenium.webdriver.firefox.options import Options\n",
    "from selenium.webdriver.firefox.service import Service\n",
    "from selenium.webdriver.support.ui import WebDriverWait\n",
    "from selenium.webdriver.support import expected_conditions as EC\n",
    "\n",
    "import openai\n",
    "from openai import OpenAI\n",
    "import tiktoken\n",
    "\n",
    "import asyncio\n",
    "import aiohttp\n",
    "\n",
    "from langgraph.graph import StateGraph, END\n",
    "from langchain_core.messages import AnyMessage, SystemMessage, HumanMessage, ToolMessage\n",
    "from langchain_core.prompts import ChatPromptTemplate\n",
    "from langchain_core.output_parsers import StrOutputParser, JsonOutputParser\n",
    "from langchain_openai import ChatOpenAI\n",
    "from langchain.tools import BaseTool, StructuredTool, tool\n",
    "from langchain_community.tools.tavily_search import TavilySearchResults\n",
    "from langgraph.checkpoint.sqlite import SqliteSaver\n",
    "from langgraph.checkpoint.aiosqlite import AsyncSqliteSaver\n",
    "from langchain_core.pydantic_v1 import BaseModel, Field\n",
    "\n",
    "import wikipedia\n",
    "\n",
    "import openbb\n",
    "from openbb import obb\n",
    "\n",
    "from newsapi import NewsApiClient\n",
    "\n"
   ]
  },
  {
   "cell_type": "code",
   "execution_count": 4,
   "id": "7f274865",
   "metadata": {},
   "outputs": [],
   "source": [
    "MODEL='gpt-4o'\n",
    "\n",
    "DOWNLOAD_DIR = 'download'\n",
    "OUTPUT_Dir = 'output'\n",
    "DEFAULT_DOWNLOAD_DIR='/Users/drucev/Downloads/'\n"
   ]
  },
  {
   "cell_type": "markdown",
   "id": "e975c011",
   "metadata": {},
   "source": [
    "# Basic LangChain prompt completion\n"
   ]
  },
  {
   "cell_type": "code",
   "execution_count": 5,
   "id": "f1478a6c",
   "metadata": {},
   "outputs": [
    {
     "name": "stdout",
     "output_type": "stream",
     "text": [
      "Écoute-moi. Tu es belle. Tu es parfaite et je t'aime.\n"
     ]
    }
   ],
   "source": [
    "model = ChatOpenAI(model=MODEL)\n",
    "\n",
    "messages = [\n",
    "    SystemMessage(content=\"Translate the following from English into French\"),\n",
    "    HumanMessage(content=\"Listen to me. You are beautiful. You are flawless and I love you.\"),\n",
    "]\n",
    "\n",
    "response = model.invoke(messages)\n",
    "\n",
    "print(response.content)\n"
   ]
  },
  {
   "cell_type": "markdown",
   "id": "d7f34591",
   "metadata": {},
   "source": [
    "# With a prompt template\n"
   ]
  },
  {
   "cell_type": "code",
   "execution_count": null,
   "id": "ebba863d",
   "metadata": {},
   "outputs": [],
   "source": [
    "system_template = \"Translate the following into {language}:\"\n",
    "user_template = \"Listen to me. You are {adjective1}. You are {adjective2} and I love you.\"\n",
    "\n",
    "prompt_template = ChatPromptTemplate.from_messages(\n",
    "    [(\"system\", system_template),\n",
    "     (\"user\", user_template)]\n",
    ")\n",
    "\n",
    "parser = StrOutputParser()\n",
    "\n",
    "chain = prompt_template | model | parser\n",
    "\n",
    "# stream tokens as they are generated\n",
    "response = \"\"\n",
    "for r in chain.stream({\"language\": \"German\", \"adjective1\": \"tops\", \"adjective2\": \"amazing\"}):\n",
    "    print(r, end=\"\")\n",
    "    response += r\n",
    "\n",
    "# response\n"
   ]
  },
  {
   "cell_type": "markdown",
   "id": "44aba32a",
   "metadata": {},
   "source": [
    "# Using a graph and a tool"
   ]
  },
  {
   "cell_type": "code",
   "execution_count": null,
   "id": "2589c5b6-6cc2-4594-9a17-dccdcf676054",
   "metadata": {},
   "outputs": [],
   "source": [
    "mytool = TavilySearchResults(max_results=4) #increased number of results\n",
    "print(type(mytool))\n",
    "print(mytool.name)\n"
   ]
  },
  {
   "cell_type": "code",
   "execution_count": null,
   "id": "a2ba84ec-c172-4de7-ac55-e3158a531b23",
   "metadata": {},
   "outputs": [],
   "source": [
    "class AgentState(TypedDict):\n",
    "    messages: Annotated[list[AnyMessage], operator.add]"
   ]
  },
  {
   "cell_type": "code",
   "execution_count": null,
   "id": "876d5092-b8ef-4e38-b4d7-0e80c609bf7a",
   "metadata": {},
   "outputs": [],
   "source": [
    "memory = AsyncSqliteSaver.from_conn_string(\":memory:\")\n",
    "\n",
    "class Agent:\n",
    "\n",
    "    def __init__(self, model, tools, checkpointer, system=\"\"):\n",
    "        self.system = system\n",
    "        graph = StateGraph(AgentState)\n",
    "        graph.add_node(\"llm\", self.call_openai)\n",
    "        graph.add_node(\"action\", self.take_action)\n",
    "        graph.add_conditional_edges(\n",
    "            \"llm\",\n",
    "            self.exists_action,\n",
    "            {True: \"action\", False: END}\n",
    "        )\n",
    "        graph.add_edge(\"action\", \"llm\")\n",
    "        graph.set_entry_point(\"llm\")\n",
    "        self.graph = graph.compile(checkpointer=checkpointer)\n",
    "        self.tools = {t.name: t for t in tools}\n",
    "        self.model = model.bind_tools(tools)\n",
    "\n",
    "    def call_openai(self, state: AgentState):\n",
    "        messages = state['messages']\n",
    "        if self.system:\n",
    "            messages = [SystemMessage(content=self.system)] + messages\n",
    "        message = self.model.invoke(messages)\n",
    "        return {'messages': [message]}\n",
    "\n",
    "    def exists_action(self, state: AgentState):\n",
    "        result = state['messages'][-1]\n",
    "        return len(result.tool_calls) > 0\n",
    "\n",
    "    def take_action(self, state: AgentState):\n",
    "        tool_calls = state['messages'][-1].tool_calls\n",
    "        results = []\n",
    "        for t in tool_calls:\n",
    "            print(f\"Calling: {t}\")\n",
    "            result = self.tools[t['name']].invoke(t['args'])\n",
    "            results.append(ToolMessage(tool_call_id=t['id'], name=t['name'], content=str(result)))\n",
    "        print(\"Sending tool results back to the model!\")\n",
    "        return {'messages': results}\n"
   ]
  },
  {
   "cell_type": "code",
   "execution_count": null,
   "id": "10084a02-2928-4945-9f7c-ad3f5b33caf7",
   "metadata": {},
   "outputs": [],
   "source": [
    "prompt = \"\"\"You are a smart research assistant. Use the search engine to look up information. \\\n",
    "You can make multiple calls (either simultaneously or in sequence). \\\n",
    "Only look up information when you are sure of what you want. \\\n",
    "If you need to look up some information before asking a follow up question, you are allowed to do that!\n",
    "\"\"\"\n",
    "\n",
    "model = ChatOpenAI(model=MODEL)\n",
    "lg_agent = Agent(model, [mytool], memory, system=prompt)\n"
   ]
  },
  {
   "cell_type": "code",
   "execution_count": null,
   "id": "a3d6f5f4-2392-41b9-ab96-7919840baa3e",
   "metadata": {},
   "outputs": [],
   "source": [
    "Image(lg_agent.graph.get_graph().draw_png())\n"
   ]
  },
  {
   "cell_type": "code",
   "execution_count": null,
   "id": "fdce4817",
   "metadata": {},
   "outputs": [],
   "source": [
    "messages = [HumanMessage(content=\"What is the current weather in Brooklyn and as of what time?\")]\n",
    "thread = {\"configurable\": {\"thread_id\": \"1\"}}\n",
    "all_content=\"\"\n",
    "async for event in lg_agent.graph.astream_events({\"messages\": messages}, thread, version=\"v1\"):\n",
    "    kind = event[\"event\"]\n",
    "    if kind == \"on_chat_model_stream\":  # stream content\n",
    "        content = event[\"data\"][\"chunk\"].content\n",
    "        if content:\n",
    "            # Empty content in the context of OpenAI means\n",
    "            # that the model is asking for a tool to be invoked.\n",
    "            # So we only print non-empty content\n",
    "            print(content, end=\"\")\n",
    "            all_content += content\n",
    "\n",
    "display(Markdown(\"**Final result**\"))\n",
    "\n",
    "display(Markdown(all_content))\n"
   ]
  },
  {
   "cell_type": "markdown",
   "id": "fc0bb809",
   "metadata": {},
   "source": [
    "# Using 2 tools in parallel"
   ]
  },
  {
   "cell_type": "code",
   "execution_count": null,
   "id": "dc3293b7-a50c-43c8-a022-8975e1e444b8",
   "metadata": {},
   "outputs": [],
   "source": [
    "messages = [HumanMessage(content=\"What is the weather in San Francisco, Eureka, and Denver? and as of what time\")]\n",
    "thread = {\"configurable\": {\"thread_id\": \"2\"}}\n",
    "all_content=\"\"\n",
    "async for event in lg_agent.graph.astream_events({\"messages\": messages}, thread, version=\"v1\"):\n",
    "    kind = event[\"event\"]\n",
    "    if kind == \"on_chat_model_stream\":\n",
    "        content = event[\"data\"][\"chunk\"].content\n",
    "        if content:\n",
    "            # Empty content in the context of OpenAI means\n",
    "            # that the model is asking for a tool to be invoked.\n",
    "            # So we only print non-empty content\n",
    "            print(content, end=\"\")\n",
    "            all_content += content\n",
    "\n",
    "display(Markdown(all_content))\n"
   ]
  },
  {
   "cell_type": "markdown",
   "id": "79034ec1",
   "metadata": {},
   "source": [
    "# 2 or more tools in sequence, where answer from 2nd depends on result from 1st"
   ]
  },
  {
   "cell_type": "code",
   "execution_count": null,
   "id": "6b2f82fe-3ec4-4917-be51-9fb10d1317fa",
   "metadata": {},
   "outputs": [],
   "source": [
    "query = \"Who won the super bowl in 2024? In what state is the winning team headquarters located? \\\n",
    "Who are the statewide elected officials of that state? Answer each question.\"\n",
    "messages = [HumanMessage(content=query)]\n",
    "thread = {\"configurable\": {\"thread_id\": \"3\"}}\n",
    "all_content=\"\"\n",
    "async for event in lg_agent.graph.astream_events({\"messages\": messages}, thread, version=\"v1\"):\n",
    "    kind = event[\"event\"]\n",
    "    if kind == \"on_chat_model_stream\":\n",
    "        content = event[\"data\"][\"chunk\"].content\n",
    "        if content:\n",
    "            # Empty content in the context of OpenAI means\n",
    "            # that the model is asking for a tool to be invoked.\n",
    "            # So we only print non-empty content\n",
    "            print(content, end=\"\")\n",
    "            all_content += content\n",
    "\n",
    "display(Markdown(all_content))\n"
   ]
  },
  {
   "cell_type": "markdown",
   "id": "9dec360c",
   "metadata": {},
   "source": [
    "# Summarize a Wikipedia page\n"
   ]
  },
  {
   "cell_type": "code",
   "execution_count": 6,
   "id": "351023a4",
   "metadata": {},
   "outputs": [],
   "source": [
    "def delete_files(download_dir):\n",
    "    \"\"\"\n",
    "    Deletes non-hidden files in the specified directory.\n",
    "\n",
    "    Args:\n",
    "        download_dir (str): The path to the directory containing the files.\n",
    "\n",
    "    Raises:\n",
    "        OSError: If there is an error while deleting a file.\n",
    "\n",
    "    Note:\n",
    "        This function does not delete subdirectories. If you want to remove subdirectories as well, use os.rmdir().\n",
    "\n",
    "    Example:\n",
    "        >>> delete_files('/path/to/directory')\n",
    "    \"\"\"\n",
    "\n",
    "    # Iterate over all files in the directory\n",
    "    for filename in os.listdir(download_dir):\n",
    "        if filename.startswith('.'):\n",
    "            continue\n",
    "        file_path = os.path.join(download_dir, filename)\n",
    "        try:\n",
    "            if os.path.isfile(file_path) or os.path.islink(file_path):\n",
    "                os.remove(file_path)  # Remove the file\n",
    "            elif os.path.isdir(file_path):\n",
    "                # If you want to remove subdirectories as well, use os.rmdir() here\n",
    "                pass\n",
    "        except Exception as e:\n",
    "            print(f'Failed to delete {file_path}. Reason: {e}')\n",
    "\n",
    "delete_files(DOWNLOAD_DIR)\n"
   ]
  },
  {
   "cell_type": "code",
   "execution_count": 7,
   "id": "23ef1c84",
   "metadata": {},
   "outputs": [
    {
     "data": {
      "text/plain": [
       "['Eli Lilly and Company',\n",
       " 'Eli Lilly',\n",
       " 'LLY',\n",
       " 'Ruth Lilly',\n",
       " 'Josiah K. Lilly Jr.',\n",
       " 'Abelardo Aguilar',\n",
       " 'Retatrutide',\n",
       " 'Eli (name)',\n",
       " 'Sidney Taurel',\n",
       " 'Russell 1000 Index']"
      ]
     },
     "execution_count": 7,
     "metadata": {},
     "output_type": "execute_result"
    }
   ],
   "source": [
    "# get a list of wikipedia suggestions for a query using the wikipedia module\n",
    "\n",
    "symbol = 'LLY'\n",
    "company = 'Eli Lilly'\n",
    "\n",
    "def fn_get_wikipedia_suggestions(symbol, company):\n",
    "    \"\"\"search for possible Wikipedia pages for a ticker symbol\"\"\"\n",
    "    query_str = f'{company} ({symbol})'\n",
    "    search_results = wikipedia.search(query_str)\n",
    "    return search_results\n",
    "\n",
    "search_results = fn_get_wikipedia_suggestions(symbol, company)\n",
    "search_results\n"
   ]
  },
  {
   "cell_type": "code",
   "execution_count": 8,
   "id": "1d55f5c5",
   "metadata": {},
   "outputs": [
    {
     "name": "stdout",
     "output_type": "stream",
     "text": [
      "Eli Lilly and Company\n"
     ]
    },
    {
     "data": {
      "text/plain": [
       "'Eli Lilly and Company'"
      ]
     },
     "execution_count": 8,
     "metadata": {},
     "output_type": "execute_result"
    }
   ],
   "source": [
    "# use LLM to pick the best page for symbol and company from search_results\n",
    "\n",
    "# a Pydantic class to get a structured object back from an LLM query\n",
    "\n",
    "class Wiki_title(BaseModel):\n",
    "    title: str = Field(description=\"The title of the main Wikipedia page for a company\")\n",
    "\n",
    "\n",
    "def fn_pick_wiki_page(model, symbol, company, search_results):\n",
    "    \"\"\"Given a company, ticker, and a list of wikipedia pages search_results, return the most likely wikipedia page matching the given company and symbol\"\"\"\n",
    "\n",
    "    system_template = \"\"\"You will act as a Wikipedia page selection helper.\n",
    "    I will provide a description of a company I am writing a profile of, and a list of\n",
    "    search results of possible Wikipedia pages to use formatted as a Python array.\n",
    "    Your task is to select the most relevant Wikipedia page from the search results to\n",
    "    help write a profile of the company.\"\"\"\n",
    "\n",
    "    user_template = \"\"\"Given the following Wikipedia search results for the company\n",
    "    named {company} (ticker {symbol}), select the most likely main Wikipedia page for {company}\n",
    "    and return it as a JSON object with a single field named title:\n",
    "\n",
    "    Search Results:\n",
    "    {search_results}\n",
    "    \"\"\"\n",
    "\n",
    "    # use openai json response type\n",
    "    wikititle_structured_model = model.with_structured_output(Wiki_title, method=\"json_mode\")\n",
    "\n",
    "    prompt_template = ChatPromptTemplate.from_messages(\n",
    "        [(\"system\", system_template),\n",
    "         (\"user\", user_template)]\n",
    "    )\n",
    "\n",
    "    chain = prompt_template | wikititle_structured_model\n",
    "    response_obj = chain.invoke({\"company\": company,\n",
    "                                 \"symbol\": symbol,\n",
    "                                 \"search_results\": search_results},\n",
    "                            )\n",
    "    print(response_obj.title, flush=True)\n",
    "    return response_obj.title\n",
    "\n",
    "page = fn_pick_wiki_page(model, \"TSLA\", \"Tesla\", search_results)\n",
    "page"
   ]
  },
  {
   "cell_type": "code",
   "execution_count": 9,
   "id": "574ee76c",
   "metadata": {},
   "outputs": [
    {
     "data": {
      "text/plain": [
       "'Eli Lilly and Company is an American pharmaceutical company headquartered in Indianapolis, Indiana, with offices in 18 countries. Its products are sold in approximately 125 countries. The company was founded in 1876 by Eli Lilly, a pharmaceutical chemist and Union Army veteran of the American Civil War for whom the company was later named.\\nAs of 2024, the company is ranked 127th on the Fortune 500 with revenue of $34.12 billion. It is ranked 221st on the Forbes Global 2000 list of the world\\'s largest publicly-traded companies and 252nd on the Forbes list of \"America\\'s Best Employers\". It is recognized as the top entry-level employer in Indianapolis.\\nLilly is known for its clinical depression drugs Prozac (fluoxetine) (1986), Cymbalta (duloxetine) (2004), and its antipsychotic medication Zyprexa (olanzapine) (1996). The company\\'s primary revenue drivers are the diabetes drugs Humalog (insulin lispro) (1996) and Trulicity (dulaglutide) (2014).\\nLilly was the first company to mass-produce '"
      ]
     },
     "execution_count": 9,
     "metadata": {},
     "output_type": "execute_result"
    }
   ],
   "source": [
    "# fetch the wikipedia page\n",
    "\n",
    "def fn_get_wiki_page(page):\n",
    "    \"\"\"Given the name of existing wikipedia page, return the content of the page\"\"\"\n",
    "    return wikipedia.page(title=page, auto_suggest=False).content\n",
    "\n",
    "page_content = fn_get_wiki_page(page)\n",
    "page_content[:1000]"
   ]
  },
  {
   "cell_type": "code",
   "execution_count": 10,
   "id": "a382c873",
   "metadata": {},
   "outputs": [
    {
     "name": "stdout",
     "output_type": "stream",
     "text": [
      "### Eli Lilly: Comprehensive Investor Overview\n",
      "\n",
      "#### Company Profile\n",
      "\n",
      "**Eli Lilly and Company**, founded in 1876 by Colonel Eli Lilly, is a leading American pharmaceutical firm headquartered in Indianapolis, Indiana. The company operates in 18 countries, with its products available in approximately 125 countries. As of 2024, Eli Lilly is ranked 127th on the Fortune 500 list with revenues of $34.12 billion and 221st on the Forbes Global 2000 list. Historically, Eli Lilly was the first company to mass-produce both insulin and the polio vaccine, showcasing its innovative prowess in the pharmaceutical industry.\n",
      "\n",
      "Eli Lilly’s primary revenue streams stem from its diabetes medications, including Humalog (insulin lispro) and Trulicity (dulaglutide). The company’s commitment to mental health is evident from its well-known drugs such as Prozac (fluoxetine) and Cymbalta (duloxetine). Additionally, the company has faced legal challenges, notably a $1.415 billion fine in 2009 for the illegal marketing of Zyprexa.\n",
      "\n",
      "#### Products and Services\n",
      "\n",
      "Eli Lilly offers a diverse portfolio of products aimed at treating various conditions, with a strong emphasis on diabetes, mental health, cancer, and immunological disorders. Key products include:\n",
      "\n",
      "- **Trulicity (dulaglutide)**: A GLP-1 receptor agonist for type 2 diabetes.\n",
      "- **Humalog (insulin lispro)**: A rapid-acting insulin for diabetes.\n",
      "- **Prozac (fluoxetine)**: An SSRI for depression.\n",
      "- **Cymbalta (duloxetine)**: A serotonin-norepinephrine reuptake inhibitor for depression and anxiety.\n",
      "- **Zyprexa (olanzapine)**: An antipsychotic for schizophrenia and bipolar disorder.\n",
      "- **Mounjaro (Tirzepatide)**: For type 2 diabetes.\n",
      "- **Verzenio, Taltz, Jardiance, Cyramza, Olumiant, Emgality, Tyvyt, Retevmo, Alimta, and Zepbound**: Various treatments for cancer, autoimmune diseases, and other conditions.\n",
      "\n",
      "Recent product launches include Zepbound for obesity, while notable acquisitions have expanded Eli Lilly’s portfolio, such as the acquisition of Loxo Oncology, which added Vitrakvi (Larotrectinib) to its offerings.\n",
      "\n",
      "#### Strategic Initiatives\n",
      "\n",
      "Eli Lilly has a robust history of strategic initiatives, including:\n",
      "\n",
      "- **Acquisitions**: Key acquisitions include Icos Corporation (2007), CoLucid Pharmaceuticals (2017), Loxo Oncology (2019), Dermira (2020), Disarm Therapeutics (2020), Prevail Therapeutics (2020), and Versanis (2023).\n",
      "- **Partnerships**: In January 2011, Eli Lilly entered a significant partnership with Boehringer Ingelheim to develop diabetes therapies.\n",
      "- **Divestitures**: Sold its share in DowElanco to Dow Chemical in 1997.\n",
      "- **Joint Ventures**: Formed collaborations like the one with Innovent Biologics in 2015, which was expanded in 2022.\n",
      "- **Restructuring**: Strategically narrowed its focus under CEO Randall L. Tobias in the 1990s, resulting in divestitures and increased research funding.\n",
      "\n",
      "#### Recent Events\n",
      "\n",
      "**Significant Developments**:\n",
      "\n",
      "- **COVID-19 Response**: Collaborated with AbCellera to develop monoclonal antibody treatments for COVID-19, leading to the emergency use authorization of bamlanivimab and bebtelovimab.\n",
      "- **Legal and Regulatory**: Faced a $1.415 billion fine in 2009 for illegal marketing of Zyprexa and settled various lawsuits related to this drug.\n",
      "- **Leadership Changes**: Recent leadership includes John C. Lechleiter (CEO from 2008) and newer executives steering the company towards innovative drug development.\n",
      "- **Product Developments**: Recent FDA approval of tirzepatide for obesity treatment and ongoing focus on diabetes, obesity, Alzheimer's, and autoimmune drug development.\n",
      "- **Market Adjustments**: Announced a $35 cap on monthly insulin prices in March 2023 in response to public and governmental pressure.\n",
      "\n",
      "**Controversies**:\n",
      "\n",
      "- **Prozac and Zyprexa Lawsuits**: Faced numerous lawsuits over adverse effects and illegal marketing.\n",
      "- **Insulin Pricing**: Under scrutiny for high insulin prices, leading to recent price reductions.\n",
      "\n",
      "#### Conclusion\n",
      "\n",
      "Eli Lilly remains a key player in the pharmaceutical industry with a strong focus on innovative treatments for diabetes, mental health, cancer, and immune disorders. Its strategic acquisitions, partnerships, and product developments continue to enhance its market position. Despite facing legal challenges and controversies, the company's proactive measures in pricing and product innovation underscore its commitment to growth and patient care. Investors should consider Eli Lilly's robust pipeline, strategic initiatives, and market responsiveness as crucial factors in its long-term investment potential."
     ]
    },
    {
     "data": {
      "text/markdown": [
       "### Eli Lilly: Comprehensive Investor Overview\n",
       "\n",
       "#### Company Profile\n",
       "\n",
       "**Eli Lilly and Company**, founded in 1876 by Colonel Eli Lilly, is a leading American pharmaceutical firm headquartered in Indianapolis, Indiana. The company operates in 18 countries, with its products available in approximately 125 countries. As of 2024, Eli Lilly is ranked 127th on the Fortune 500 list with revenues of $34.12 billion and 221st on the Forbes Global 2000 list. Historically, Eli Lilly was the first company to mass-produce both insulin and the polio vaccine, showcasing its innovative prowess in the pharmaceutical industry.\n",
       "\n",
       "Eli Lilly’s primary revenue streams stem from its diabetes medications, including Humalog (insulin lispro) and Trulicity (dulaglutide). The company’s commitment to mental health is evident from its well-known drugs such as Prozac (fluoxetine) and Cymbalta (duloxetine). Additionally, the company has faced legal challenges, notably a $1.415 billion fine in 2009 for the illegal marketing of Zyprexa.\n",
       "\n",
       "#### Products and Services\n",
       "\n",
       "Eli Lilly offers a diverse portfolio of products aimed at treating various conditions, with a strong emphasis on diabetes, mental health, cancer, and immunological disorders. Key products include:\n",
       "\n",
       "- **Trulicity (dulaglutide)**: A GLP-1 receptor agonist for type 2 diabetes.\n",
       "- **Humalog (insulin lispro)**: A rapid-acting insulin for diabetes.\n",
       "- **Prozac (fluoxetine)**: An SSRI for depression.\n",
       "- **Cymbalta (duloxetine)**: A serotonin-norepinephrine reuptake inhibitor for depression and anxiety.\n",
       "- **Zyprexa (olanzapine)**: An antipsychotic for schizophrenia and bipolar disorder.\n",
       "- **Mounjaro (Tirzepatide)**: For type 2 diabetes.\n",
       "- **Verzenio, Taltz, Jardiance, Cyramza, Olumiant, Emgality, Tyvyt, Retevmo, Alimta, and Zepbound**: Various treatments for cancer, autoimmune diseases, and other conditions.\n",
       "\n",
       "Recent product launches include Zepbound for obesity, while notable acquisitions have expanded Eli Lilly’s portfolio, such as the acquisition of Loxo Oncology, which added Vitrakvi (Larotrectinib) to its offerings.\n",
       "\n",
       "#### Strategic Initiatives\n",
       "\n",
       "Eli Lilly has a robust history of strategic initiatives, including:\n",
       "\n",
       "- **Acquisitions**: Key acquisitions include Icos Corporation (2007), CoLucid Pharmaceuticals (2017), Loxo Oncology (2019), Dermira (2020), Disarm Therapeutics (2020), Prevail Therapeutics (2020), and Versanis (2023).\n",
       "- **Partnerships**: In January 2011, Eli Lilly entered a significant partnership with Boehringer Ingelheim to develop diabetes therapies.\n",
       "- **Divestitures**: Sold its share in DowElanco to Dow Chemical in 1997.\n",
       "- **Joint Ventures**: Formed collaborations like the one with Innovent Biologics in 2015, which was expanded in 2022.\n",
       "- **Restructuring**: Strategically narrowed its focus under CEO Randall L. Tobias in the 1990s, resulting in divestitures and increased research funding.\n",
       "\n",
       "#### Recent Events\n",
       "\n",
       "**Significant Developments**:\n",
       "\n",
       "- **COVID-19 Response**: Collaborated with AbCellera to develop monoclonal antibody treatments for COVID-19, leading to the emergency use authorization of bamlanivimab and bebtelovimab.\n",
       "- **Legal and Regulatory**: Faced a $1.415 billion fine in 2009 for illegal marketing of Zyprexa and settled various lawsuits related to this drug.\n",
       "- **Leadership Changes**: Recent leadership includes John C. Lechleiter (CEO from 2008) and newer executives steering the company towards innovative drug development.\n",
       "- **Product Developments**: Recent FDA approval of tirzepatide for obesity treatment and ongoing focus on diabetes, obesity, Alzheimer's, and autoimmune drug development.\n",
       "- **Market Adjustments**: Announced a $35 cap on monthly insulin prices in March 2023 in response to public and governmental pressure.\n",
       "\n",
       "**Controversies**:\n",
       "\n",
       "- **Prozac and Zyprexa Lawsuits**: Faced numerous lawsuits over adverse effects and illegal marketing.\n",
       "- **Insulin Pricing**: Under scrutiny for high insulin prices, leading to recent price reductions.\n",
       "\n",
       "#### Conclusion\n",
       "\n",
       "Eli Lilly remains a key player in the pharmaceutical industry with a strong focus on innovative treatments for diabetes, mental health, cancer, and immune disorders. Its strategic acquisitions, partnerships, and product developments continue to enhance its market position. Despite facing legal challenges and controversies, the company's proactive measures in pricing and product innovation underscore its commitment to growth and patient care. Investors should consider Eli Lilly's robust pipeline, strategic initiatives, and market responsiveness as crucial factors in its long-term investment potential."
      ],
      "text/plain": [
       "<IPython.core.display.Markdown object>"
      ]
     },
     "metadata": {},
     "output_type": "display_data"
    }
   ],
   "source": [
    "# use the LLM to summarize the page based on a prompt, and save it to a file\n",
    "def summarize_wiki_page(model, symbol, company, content):\n",
    "    \"\"\"Given the content of the company's wikipedia page, summarize the content of the page\"\"\"\n",
    "\n",
    "    system_prompt = \"\"\"You will act as a securities analyst with deep knowledge of financial markets,\n",
    "securities analysis, and portfolio management. You will maintain a professional yet engaging tone,\n",
    "in the style of a senior investment bank research analyst. You will provide facts\n",
    "relevant to investors and avoid opinions unless specifically requested.\n",
    "    \"\"\"\n",
    "\n",
    "    user_prompt = f\"\"\"You will focus on {company} ({symbol}). You will summarize the provided content below from\n",
    "Wikipedia for {company} and summarize all topics of interest to investors on this page in 3000\n",
    "words or less, in particular the following topics:\n",
    "\n",
    "Company Profile: An overview of {company}, including its history, commercial operations and sales\n",
    "by lines of business and geography, and recent key developments.\n",
    "\n",
    "Products and services: {company} offerings, their features and benefits, target markets, recent\n",
    "changes such as launches and discontinuations of products and services.\n",
    "\n",
    "Strategic Initiatives: Information on deals, partnerships, mergers, acquisitions, divestitures,\n",
    "joint ventures, strategic initiatives, restructurings, and any other major developments.\n",
    "\n",
    "Recent Events: Significant recent news events, management changes, controversies\n",
    "and other developments related to {company} or its industry which might impact its stock.\n",
    "\n",
    "Use only the provided content below:\n",
    "{content}\n",
    "\"\"\"\n",
    "\n",
    "    messages = [SystemMessage(content=system_prompt), HumanMessage(content=user_prompt)]\n",
    "    prompt_template = ChatPromptTemplate.from_messages(messages)\n",
    "\n",
    "    parser = StrOutputParser()\n",
    "\n",
    "    chain = prompt_template | model | parser\n",
    "\n",
    "    response_str = \"\"\n",
    "    for r in chain.stream(dict(symbol=symbol, company=company, page_content=page_content)):\n",
    "        print(r, end=\"\", flush=True)\n",
    "        response_str += r\n",
    "\n",
    "    outfile_name = \"wiki_summary.txt\"\n",
    "    with open(f\"{DOWNLOAD_DIR}/{outfile_name}\", \"w\") as outfile:\n",
    "        outfile.write(response_str)\n",
    "    return response_str\n",
    "\n",
    "page_summary = summarize_wiki_page(model, symbol, company, page_content)\n",
    "display(Markdown(page_summary))\n"
   ]
  },
  {
   "cell_type": "code",
   "execution_count": 11,
   "id": "d36403c5",
   "metadata": {},
   "outputs": [
    {
     "data": {
      "text/markdown": [
       "**Eli Lilly (LLY) Comprehensive Analysis**\n",
       "\n",
       "**Company Profile:**\n",
       "Eli Lilly and Company is a global pharmaceutical company founded in 1876 by Colonel Eli Lilly. Headquartered in Indianapolis, Indiana, the company is a leading developer, manufacturer, and marketer of pharmaceutical products. Lilly's commercial operations span across the globe, with a diverse portfolio of human pharmaceutical products, animal health products, and diagnostics.\n",
       "\n",
       "**Sales by Lines of Business and Geography:**\n",
       "\n",
       "* Human Pharmaceuticals: 85% of total revenue (2022)\n",
       "\t+ Neuroscience (e.g., Zyprexa, Cymbalta): 24%\n",
       "\t+ Diabetes (e.g., Humalog, Humulin): 23%\n",
       "\t+ Oncology (e.g., Verzenio, Cyramza): 17%\n",
       "\t+ Immunology (e.g., Taltz, Olumiant): 12%\n",
       "\t+ Cardiovascular (e.g., Trulicity, Jardiance): 9%\n",
       "* Animal Health: 13% of total revenue (2022)\n",
       "* Diagnostics: 2% of total revenue (2022)\n",
       "\n",
       "**Geographic Breakdown:**\n",
       "\n",
       "* United States: 44% of total revenue (2022)\n",
       "* Europe: 24%\n",
       "* Japan: 11%\n",
       "* Rest of World: 21%\n",
       "\n",
       "**Recent Key Developments:**\n",
       "\n",
       "* Lilly announced a strategic review of its Elanco Animal Health business, exploring options for a potential initial public offering (IPO) or spin-off.\n",
       "* The company received FDA approval for its oral GLP-1 receptor agonist, tirzepatide, for the treatment of type 2 diabetes.\n",
       "\n",
       "**Recent Events:**\n",
       "\n",
       "* On February 1, 2023, Lilly announced a voluntary recall of a specific lot of its diabetes medication, Humalog 100 insulin lispro, due to potential contamination.\n",
       "* The company's shares were impacted by the broader market volatility in response to the COVID-19 pandemic and interest rate changes.\n",
       "\n",
       "**Financial Performance:**\n",
       "\n",
       "* Q4 2022 Earnings Report: Lilly reported revenue of \\\\$7.34 billion, beating estimates by 2.5%. Adjusted EPS of \\\\$2.09 exceeded expectations by 5.6%.\n",
       "* Stock Performance: LLY shares have underperformed the S&P 500 index over the past 12 months, with a total return of -10.5% compared to the index's 2.5% return.\n",
       "* Dividend and Buyback: Lilly maintained its quarterly dividend of \\\\$0.98 per share and authorized an additional \\\\$5 billion share repurchase program.\n",
       "\n",
       "**Analyst Coverage:**\n",
       "\n",
       "* Upgrades:\n",
       "\t+ J.P. Morgan (February 2, 2023): Upgraded to Overweight from Neutral, citing the company's strong pipeline and potential upside from tirzepatide.\n",
       "\t+ Cowen (January 25, 2023): Upgraded to Outperform from Market Perform, highlighting Lilly's diversified portfolio and growth opportunities.\n",
       "* Downgrades:\n",
       "\t+ Morgan Stanley (January 10, 2023): Downgraded to Equal-weight from Overweight, citing concerns over the company's near-term growth prospects.\n",
       "* Short Seller Reports:\n",
       "\t+ Citron Research (February 15, 2023): Initiated a short position in LLY, citing concerns over the company's valuation and potential competition in the diabetes market.\n",
       "\n",
       "**Product Announcements:**\n",
       "\n",
       "* Tirzepatide (Mounjaro): FDA-approved oral GLP-1 receptor agonist for the treatment of type 2 diabetes.\n",
       "* Donanemab: Phase 2 study results for the treatment of Alzheimer's disease were presented at the 2022 Alzheimer's Association International Conference.\n",
       "\n",
       "**Strategic Initiatives:**\n",
       "\n",
       "* Lilly announced a collaboration with Foghorn Therapeutics to develop novel oncology therapies.\n",
       "* The company acquired Prevail Therapeutics, expanding its gene therapy capabilities.\n",
       "\n",
       "**Securities Offerings:**\n",
       "\n",
       "* Lilly issued \\\\$2.5 billion in senior notes in January 2023 to refinance existing debt.\n",
       "\n",
       "**Management Changes:**\n",
       "\n",
       "* David A. Ricks, Chairman and CEO, announced his retirement, effective June 30, 2023. He will be succeeded by Patrik Jonsson, currently President and COO.\n",
       "\n",
       "**Stock Price Movements:**\n",
       "\n",
       "* LLY shares have been trading in a range of \\\\$240-\\\\$280 over the past 12 months, with a recent uptrend driven by the tirzepatide approval and strong Q4 earnings report.\n",
       "* Notable deviations from trend include a 10% decline in January 2023 following the Morgan Stanley downgrade and a 5% increase in February 2023 after the J.P. Morgan upgrade.\n",
       "\n",
       "Overall, Eli Lilly's diversified portfolio, strong pipeline, and recent product approvals position the company for long-term growth. However, near-term challenges and competitive pressures in the diabetes market may impact the stock's performance."
      ],
      "text/plain": [
       "<IPython.core.display.Markdown object>"
      ]
     },
     "metadata": {},
     "output_type": "display_data"
    }
   ],
   "source": [
    "def fn_perplexity_profile(symbol, company):\n",
    "    \"\"\"Return a company profile from Perplexity\"\"\"\n",
    "\n",
    "    perplexity_url = \"https://api.perplexity.ai/chat/completions\"\n",
    "    # https://docs.perplexity.ai/docs/model-cards\n",
    "    perplexity_model = 'llama-3-70b-instruct'\n",
    "\n",
    "    system_prompt = \"\"\"\n",
    "You will act as a securities analyst and investment advisor with deep knowledge of financial markets,\n",
    "securities analysis, portfolio management. You will maintain a professional yet engaging tone,\n",
    "in the style of a senior investment bank research analyst.\"\n",
    "\"\"\"\n",
    "\n",
    "    user_prompt = f\"\"\"You will focus on {company} ({symbol}), and provide a comprehensive profile\n",
    "covering the following topics:\n",
    "\n",
    "Company Profile: An overview of {company}, including its history, commercial operations and sales\n",
    "by lines of business and geography, and recent key developments.\n",
    "\n",
    "Recent Events: Significant recent news events related to {company} or its industry impacting its stock.\n",
    "\n",
    "Financial Performance: Recent earnings reports and stock performance compared to expectations,\n",
    "changes in dividends or stock buybacks.\n",
    "\n",
    "Analyst Coverage: Summarize recent changes to analysts' ratings noting which analyst and firm\n",
    "made upgrades or downgrades on which date; summarize any recent short seller reports noting the\n",
    "firm and analyst.\n",
    "\n",
    "Product Announcements: Launch of new products, strategic initiatives, or restructurings.\n",
    "\n",
    "Strategic Initiatives: Information on deals, partnerships, mergers, acquisitions, divestitures,\n",
    "joint ventures, and major new business and revenue.\n",
    "\n",
    "Securities Offerings: Announcements related to stock or bond issuances, buybacks, special\n",
    "dividends, or stock splits.\n",
    "\n",
    "Management Changes: Significant personnel changes within {company}.\n",
    "\n",
    "Stock Price Movements: Stock price trends and notable deviations from trend and reasons for them.\n",
    "\"\"\"\n",
    "\n",
    "    payload = {\n",
    "        \"model\": perplexity_model,\n",
    "        \"messages\": [\n",
    "            {\n",
    "                \"role\": \"system\",\n",
    "                \"content\": system_prompt,\n",
    "            },\n",
    "            {\n",
    "                \"role\": \"user\",\n",
    "                \"content\": user_prompt,\n",
    "            }\n",
    "        ]\n",
    "    }\n",
    "\n",
    "    perplexity_headers = {\n",
    "        \"Authorization\": f\"Bearer {os.getenv('PERPLEXITY_API_KEY')}\",\n",
    "        \"accept\": \"application/json\",\n",
    "        \"content-type\": \"application/json\"\n",
    "    }\n",
    "\n",
    "    response = requests.post(perplexity_url, json=payload, headers=perplexity_headers)\n",
    "    if response.status_code == 200:\n",
    "        response_str = response.json()['choices'][0]['message']['content']\n",
    "        response_str = response_str.replace(\"$\", \"\\\\\\$\")\n",
    "        with open(f\"{DOWNLOAD_DIR}/profile_px.txt\", \"w\") as outfile:\n",
    "            outfile.write(response_str)\n",
    "    else:\n",
    "        response_str = response.content\n",
    "    return response_str\n",
    "\n",
    "\n",
    "profile_px = fn_perplexity_profile(symbol, company)\n",
    "\n",
    "display(Markdown(profile_px))\n"
   ]
  },
  {
   "cell_type": "code",
   "execution_count": 12,
   "id": "44c4b0c2",
   "metadata": {},
   "outputs": [
    {
     "name": "stdout",
     "output_type": "stream",
     "text": [
      "Eli Lilly & Co. engages in the discovery, development, manufacture, and sale of pharmaceutical products. The firm's products consist of diabetes, oncology, immunology, neuroscience, and other products and therapies. The company was founded by Eli Lilly in May 1876 and is headquartered in Indianapolis, IN.\n"
     ]
    }
   ],
   "source": [
    "def fn_get_obb_profile(symbol):\n",
    "\n",
    "    obb_results = obb.equity.profile(symbol=symbol)\n",
    "    profile_openbb = obb_results.results[0].long_description\n",
    "\n",
    "    with open(f\"{DOWNLOAD_DIR}/profile_openbb.txt\", \"w\") as outfile:\n",
    "        outfile.write(profile_openbb)\n",
    "\n",
    "    return profile_openbb\n",
    "\n",
    "print(fn_get_obb_profile(symbol))\n"
   ]
  },
  {
   "cell_type": "code",
   "execution_count": 13,
   "id": "418cb428",
   "metadata": {},
   "outputs": [
    {
     "name": "stderr",
     "output_type": "stream",
     "text": [
      "/opt/anaconda3/envs/langgraph/lib/python3.11/site-packages/sec_parser/processing_engine/core.py:153: UserWarning: Invalid section type for part1item1a. Defaulting to InvalidTopSectionIn10Q.\n",
      "  elements = step.process(elements)\n",
      "/opt/anaconda3/envs/langgraph/lib/python3.11/site-packages/sec_parser/processing_engine/core.py:153: UserWarning: Invalid section type for part2item7. Defaulting to InvalidTopSectionIn10Q.\n",
      "  elements = step.process(elements)\n",
      "/opt/anaconda3/envs/langgraph/lib/python3.11/site-packages/sec_parser/processing_engine/core.py:153: UserWarning: Invalid section type for part2item7a. Defaulting to InvalidTopSectionIn10Q.\n",
      "  elements = step.process(elements)\n",
      "/opt/anaconda3/envs/langgraph/lib/python3.11/site-packages/sec_parser/processing_engine/core.py:153: UserWarning: Invalid section type for part2item8. Defaulting to InvalidTopSectionIn10Q.\n",
      "  elements = step.process(elements)\n",
      "/opt/anaconda3/envs/langgraph/lib/python3.11/site-packages/sec_parser/processing_engine/core.py:153: UserWarning: Invalid section type for part2item9. Defaulting to InvalidTopSectionIn10Q.\n",
      "  elements = step.process(elements)\n",
      "/opt/anaconda3/envs/langgraph/lib/python3.11/site-packages/sec_parser/processing_engine/core.py:153: UserWarning: Invalid section type for part2item9a. Defaulting to InvalidTopSectionIn10Q.\n",
      "  elements = step.process(elements)\n",
      "/opt/anaconda3/envs/langgraph/lib/python3.11/site-packages/sec_parser/processing_engine/core.py:153: UserWarning: Invalid section type for part3. Defaulting to InvalidTopSectionIn10Q.\n",
      "  elements = step.process(elements)\n",
      "/opt/anaconda3/envs/langgraph/lib/python3.11/site-packages/sec_parser/processing_engine/core.py:153: UserWarning: Invalid section type for part3item10. Defaulting to InvalidTopSectionIn10Q.\n",
      "  elements = step.process(elements)\n",
      "/opt/anaconda3/envs/langgraph/lib/python3.11/site-packages/sec_parser/processing_engine/core.py:153: UserWarning: Invalid section type for part3item11. Defaulting to InvalidTopSectionIn10Q.\n",
      "  elements = step.process(elements)\n",
      "/opt/anaconda3/envs/langgraph/lib/python3.11/site-packages/sec_parser/processing_engine/core.py:153: UserWarning: Invalid section type for part3item12. Defaulting to InvalidTopSectionIn10Q.\n",
      "  elements = step.process(elements)\n",
      "/opt/anaconda3/envs/langgraph/lib/python3.11/site-packages/sec_parser/processing_engine/core.py:153: UserWarning: Invalid section type for part3item13. Defaulting to InvalidTopSectionIn10Q.\n",
      "  elements = step.process(elements)\n",
      "/opt/anaconda3/envs/langgraph/lib/python3.11/site-packages/sec_parser/processing_engine/core.py:153: UserWarning: Invalid section type for part3item14. Defaulting to InvalidTopSectionIn10Q.\n",
      "  elements = step.process(elements)\n",
      "/opt/anaconda3/envs/langgraph/lib/python3.11/site-packages/sec_parser/processing_engine/core.py:153: UserWarning: Invalid section type for part3item15. Defaulting to InvalidTopSectionIn10Q.\n",
      "  elements = step.process(elements)\n",
      "/opt/anaconda3/envs/langgraph/lib/python3.11/site-packages/sec_parser/processing_engine/core.py:153: UserWarning: Invalid section type for part3item16. Defaulting to InvalidTopSectionIn10Q.\n",
      "  elements = step.process(elements)\n"
     ]
    },
    {
     "name": "stdout",
     "output_type": "stream",
     "text": [
      "### Eli Lilly and Company (LLY) Summary\n",
      "\n",
      "#### Company Profile\n",
      "Eli Lilly and Company (referred to as \"Lilly\" or \"the company\") was founded in Indianapolis, Indiana, in 1876 by Colonel Eli Lilly and incorporated in Indiana in 1901. Lilly specializes in the discovery, development, manufacturing, and marketing of human pharmaceutical products. Operating in a single business segment—human pharmaceutical products—the company emphasizes its mission of uniting caring with discovery to produce medicines that improve lives globally. Most of Lilly’s current product portfolio was discovered or developed internally by its scientists. The company's long-term viability is tied to its capacity to innovate continually, either through internal research or acquisitions.\n",
      "\n",
      "Lilly's manufacturing and distribution network spans the United States (including Puerto Rico), Europe, and Asia, with products sold in approximately 105 countries. The company employs a robust marketing strategy tailored to local markets, leveraging a combination of direct engagement with healthcare professionals, online promotions, literature distribution, and attendance at medical conferences. In the U.S., Lilly supplements its sales force with contract sales organizations and maintains significant relationships with three major wholesale distributors—McKesson Corporation, Cencora, Inc., and Cardinal Health, Inc.\n",
      "\n",
      "#### Products and Services\n",
      "Lilly's product portfolio is diverse, targeting multiple therapeutic areas with notable products including:\n",
      "\n",
      "1. **Diabetes, Obesity, and Cardiometabolic Products:**\n",
      "   - **Basaglar®**: Long-acting insulin for diabetes.\n",
      "   - **Humalog®**: Human insulin analogs for diabetes.\n",
      "   - **Jardiance®**: For type 2 diabetes and cardiovascular conditions.\n",
      "   - **Mounjaro®**: For type 2 diabetes.\n",
      "   - **Trulicity®**: For type 2 diabetes in adults and pediatrics.\n",
      "   - **Zepbound®**: For obesity and weight-related comorbidities.\n",
      "\n",
      "2. **Oncology Products:**\n",
      "   - **Alimta®**: For non-small cell lung cancer (NSCLC) and malignant pleural mesothelioma.\n",
      "   - **Cyramza®**: For various advanced cancers including gastric and hepatocellular carcinoma.\n",
      "   - **Erbitux®**: For colorectal and head and neck cancers.\n",
      "   - **Jaypirca®**: For mantle cell lymphoma (MCL) and chronic lymphocytic leukemia.\n",
      "   - **Retevmo®**: For NSCLC and thyroid cancers with RET gene mutations.\n",
      "   - **Tyvyt®**: For Hodgkin's lymphoma and other cancers in China.\n",
      "   - **Verzenio®**: For HR+, HER2- metastatic and early breast cancer.\n",
      "\n",
      "3. **Immunology Products:**\n",
      "   - **Ebglyss®**: For atopic dermatitis.\n",
      "   - **Olumiant®**: For rheumatoid arthritis, alopecia areata, and COVID-19.\n",
      "   - **Omvoh™**: For ulcerative colitis.\n",
      "   - **Taltz®**: For psoriasis, psoriatic arthritis, and axial spondyloarthritis.\n",
      "\n",
      "4. **Neuroscience Products:**\n",
      "   - **Cymbalta®**: For major depressive disorder, diabetic neuropathic pain, and fibromyalgia.\n",
      "   - **Emgality®**: For migraine prevention and cluster headaches.\n",
      "   - **Reyvow®**: For migraine treatment.\n",
      "\n",
      "5. **Other Products and Therapies:**\n",
      "   - **Cialis®**: For erectile dysfunction and benign prostatic hyperplasia.\n",
      "   - **Forteo®**: For osteoporosis.\n",
      "\n",
      "#### Strategic Initiatives\n",
      "Lilly has actively pursued partnerships and collaborations to bolster its research and development capabilities. For instance, the company has a global agreement with Boehringer Ingelheim to develop and commercialize diabetes products, including Jardiance®, Trajenta®, and Basaglar®. Additionally, Lilly works with Innovent Biologics on Tyvyt® in China and collaborates with Incyte Corporation on Olumiant®.\n",
      "\n",
      "Lilly is also expanding its manufacturing footprint to meet projected demand increases, with new sites planned in Concord, North Carolina; Limerick, Ireland; Alzey, Germany; and Lebanon, Indiana.\n",
      "\n",
      "#### Recent Events\n",
      "Key recent developments include the launch of new products like Zepbound® and the submission of regulatory reviews for new treatments such as Donanemab for early Alzheimer’s disease and Lebrikizumab for atopic dermatitis. Additionally, the FDA’s selection of Jardiance as one of the first ten medicines subject to government-set pricing under the Inflation Reduction Act of 2022 will likely impact future revenue streams.\n",
      "\n",
      "Lilly's executive leadership has also seen changes, with executives such as David Ricks (CEO), Anat Ashkenazi (CFO), and others playing pivotal roles in steering the company's strategic direction. The company remains committed to maintaining a diverse and inclusive workforce, with significant representation of minority group members and women in leadership roles.\n",
      "\n",
      "Lilly faces ongoing challenges, including competitive pressures, regulatory scrutiny, and the need to innovate continually. However, its diversified product portfolio, strategic partnerships, and focus on expanding manufacturing capabilities position it well for future growth.\n",
      "\n",
      "#### Intellectual Property\n",
      "Lilly holds numerous patents and trademarks critical to protecting its innovations and maintaining market exclusivity. The company faces challenges from generic pharmaceuticals and biosimilars, which can erode market share and revenue upon patent expiration. Lilly is proactive in securing patent term extensions and supplementary protection certificates in key markets to extend product life cycles. The company also engages in patent litigation to defend its intellectual property rights.\n",
      "\n",
      "#### Regulatory Compliance\n",
      "Lilly's operations are subject to extensive regulation by numerous government agencies, including the FDA in the U.S. and equivalent bodies in other countries. Compliance with regulations concerning product safety, efficacy, manufacturing standards, and marketing practices is essential. The company invests significantly in maintaining high-quality standards across its operations to ensure compliance and minimize risks associated with regulatory scrutiny.\n",
      "\n",
      "#### Human Capital Management\n",
      "With approximately 43,000 employees worldwide, Lilly emphasizes creating a supportive and inclusive work environment. The company regularly surveys its workforce to gather feedback and implement improvements. Lilly's commitment to diversity, equity, and inclusion is reflected in its recruitment, training, and development strategies, ensuring a skilled and motivated workforce.\n",
      "\n",
      "### Conclusion\n",
      "Eli Lilly and Company is a prominent player in the pharmaceutical industry with a rich history and a strong focus on innovative drug development. Its diverse product portfolio, strategic partnerships, and commitment to expanding manufacturing capabilities underscore its potential for sustained growth. However, the company must navigate challenges such as regulatory pressures, competitive threats, and the need for continuous innovation to maintain its market position and drive future success."
     ]
    },
    {
     "data": {
      "text/markdown": [
       "### Eli Lilly and Company (LLY) Summary\n",
       "\n",
       "#### Company Profile\n",
       "Eli Lilly and Company (referred to as \"Lilly\" or \"the company\") was founded in Indianapolis, Indiana, in 1876 by Colonel Eli Lilly and incorporated in Indiana in 1901. Lilly specializes in the discovery, development, manufacturing, and marketing of human pharmaceutical products. Operating in a single business segment—human pharmaceutical products—the company emphasizes its mission of uniting caring with discovery to produce medicines that improve lives globally. Most of Lilly’s current product portfolio was discovered or developed internally by its scientists. The company's long-term viability is tied to its capacity to innovate continually, either through internal research or acquisitions.\n",
       "\n",
       "Lilly's manufacturing and distribution network spans the United States (including Puerto Rico), Europe, and Asia, with products sold in approximately 105 countries. The company employs a robust marketing strategy tailored to local markets, leveraging a combination of direct engagement with healthcare professionals, online promotions, literature distribution, and attendance at medical conferences. In the U.S., Lilly supplements its sales force with contract sales organizations and maintains significant relationships with three major wholesale distributors—McKesson Corporation, Cencora, Inc., and Cardinal Health, Inc.\n",
       "\n",
       "#### Products and Services\n",
       "Lilly's product portfolio is diverse, targeting multiple therapeutic areas with notable products including:\n",
       "\n",
       "1. **Diabetes, Obesity, and Cardiometabolic Products:**\n",
       "   - **Basaglar®**: Long-acting insulin for diabetes.\n",
       "   - **Humalog®**: Human insulin analogs for diabetes.\n",
       "   - **Jardiance®**: For type 2 diabetes and cardiovascular conditions.\n",
       "   - **Mounjaro®**: For type 2 diabetes.\n",
       "   - **Trulicity®**: For type 2 diabetes in adults and pediatrics.\n",
       "   - **Zepbound®**: For obesity and weight-related comorbidities.\n",
       "\n",
       "2. **Oncology Products:**\n",
       "   - **Alimta®**: For non-small cell lung cancer (NSCLC) and malignant pleural mesothelioma.\n",
       "   - **Cyramza®**: For various advanced cancers including gastric and hepatocellular carcinoma.\n",
       "   - **Erbitux®**: For colorectal and head and neck cancers.\n",
       "   - **Jaypirca®**: For mantle cell lymphoma (MCL) and chronic lymphocytic leukemia.\n",
       "   - **Retevmo®**: For NSCLC and thyroid cancers with RET gene mutations.\n",
       "   - **Tyvyt®**: For Hodgkin's lymphoma and other cancers in China.\n",
       "   - **Verzenio®**: For HR+, HER2- metastatic and early breast cancer.\n",
       "\n",
       "3. **Immunology Products:**\n",
       "   - **Ebglyss®**: For atopic dermatitis.\n",
       "   - **Olumiant®**: For rheumatoid arthritis, alopecia areata, and COVID-19.\n",
       "   - **Omvoh™**: For ulcerative colitis.\n",
       "   - **Taltz®**: For psoriasis, psoriatic arthritis, and axial spondyloarthritis.\n",
       "\n",
       "4. **Neuroscience Products:**\n",
       "   - **Cymbalta®**: For major depressive disorder, diabetic neuropathic pain, and fibromyalgia.\n",
       "   - **Emgality®**: For migraine prevention and cluster headaches.\n",
       "   - **Reyvow®**: For migraine treatment.\n",
       "\n",
       "5. **Other Products and Therapies:**\n",
       "   - **Cialis®**: For erectile dysfunction and benign prostatic hyperplasia.\n",
       "   - **Forteo®**: For osteoporosis.\n",
       "\n",
       "#### Strategic Initiatives\n",
       "Lilly has actively pursued partnerships and collaborations to bolster its research and development capabilities. For instance, the company has a global agreement with Boehringer Ingelheim to develop and commercialize diabetes products, including Jardiance®, Trajenta®, and Basaglar®. Additionally, Lilly works with Innovent Biologics on Tyvyt® in China and collaborates with Incyte Corporation on Olumiant®.\n",
       "\n",
       "Lilly is also expanding its manufacturing footprint to meet projected demand increases, with new sites planned in Concord, North Carolina; Limerick, Ireland; Alzey, Germany; and Lebanon, Indiana.\n",
       "\n",
       "#### Recent Events\n",
       "Key recent developments include the launch of new products like Zepbound® and the submission of regulatory reviews for new treatments such as Donanemab for early Alzheimer’s disease and Lebrikizumab for atopic dermatitis. Additionally, the FDA’s selection of Jardiance as one of the first ten medicines subject to government-set pricing under the Inflation Reduction Act of 2022 will likely impact future revenue streams.\n",
       "\n",
       "Lilly's executive leadership has also seen changes, with executives such as David Ricks (CEO), Anat Ashkenazi (CFO), and others playing pivotal roles in steering the company's strategic direction. The company remains committed to maintaining a diverse and inclusive workforce, with significant representation of minority group members and women in leadership roles.\n",
       "\n",
       "Lilly faces ongoing challenges, including competitive pressures, regulatory scrutiny, and the need to innovate continually. However, its diversified product portfolio, strategic partnerships, and focus on expanding manufacturing capabilities position it well for future growth.\n",
       "\n",
       "#### Intellectual Property\n",
       "Lilly holds numerous patents and trademarks critical to protecting its innovations and maintaining market exclusivity. The company faces challenges from generic pharmaceuticals and biosimilars, which can erode market share and revenue upon patent expiration. Lilly is proactive in securing patent term extensions and supplementary protection certificates in key markets to extend product life cycles. The company also engages in patent litigation to defend its intellectual property rights.\n",
       "\n",
       "#### Regulatory Compliance\n",
       "Lilly's operations are subject to extensive regulation by numerous government agencies, including the FDA in the U.S. and equivalent bodies in other countries. Compliance with regulations concerning product safety, efficacy, manufacturing standards, and marketing practices is essential. The company invests significantly in maintaining high-quality standards across its operations to ensure compliance and minimize risks associated with regulatory scrutiny.\n",
       "\n",
       "#### Human Capital Management\n",
       "With approximately 43,000 employees worldwide, Lilly emphasizes creating a supportive and inclusive work environment. The company regularly surveys its workforce to gather feedback and implement improvements. Lilly's commitment to diversity, equity, and inclusion is reflected in its recruitment, training, and development strategies, ensuring a skilled and motivated workforce.\n",
       "\n",
       "### Conclusion\n",
       "Eli Lilly and Company is a prominent player in the pharmaceutical industry with a rich history and a strong focus on innovative drug development. Its diverse product portfolio, strategic partnerships, and commitment to expanding manufacturing capabilities underscore its potential for sustained growth. However, the company must navigate challenges such as regulatory pressures, competitive threats, and the need for continuous innovation to maintain its market position and drive future success."
      ],
      "text/plain": [
       "<IPython.core.display.Markdown object>"
      ]
     },
     "metadata": {},
     "output_type": "display_data"
    }
   ],
   "source": [
    "def get_10k_item1_from_symbol(symbol):\n",
    "    \"\"\"\n",
    "    Get item 1 of the latest 10-K annual report filing for a given symbol.\n",
    "\n",
    "    Args:\n",
    "        symbol (str): The symbol of the equity.\n",
    "\n",
    "    Returns:\n",
    "        str: The item 1 of the latest 10-K annual report filing, or None if not found.\n",
    "\n",
    "    \"\"\"\n",
    "    item1_text = None\n",
    "    try:\n",
    "        # sec needs you to identify yourself for rate limiting\n",
    "        dl = Downloader(os.getenv(\"SEC_FIRM\"), os.getenv(\"SEC_USER\"))\n",
    "        html = dl.get_filing_html(ticker=symbol, form=\"10-K\")\n",
    "        elements: list = sp.Edgar10QParser().parse(html)\n",
    "        tree = sp.TreeBuilder().build(elements)\n",
    "        sections = [n for n in tree.nodes if n.text.lower().strip().startswith(\"item\")]\n",
    "        item1_node = sections[0]\n",
    "        item1_text = \"\\n\\n\".join([n.text for n in sections[0].get_descendants()])\n",
    "    except Exception as exc:\n",
    "        return str(exc)\n",
    "    # always return a list of dicts\n",
    "    return item1_text\n",
    "\n",
    "\n",
    "def summarize_10k(symbol, company, profile_10k):\n",
    "\n",
    "    system_prompt = \"\"\"You will act as a securities analyst with deep knowledge of financial markets,\n",
    "securities analysis, and portfolio management. You will maintain a professional yet engaging tone,\n",
    "in the style of a senior investment bank research analyst. You will provide facts\n",
    "relevant to investors and avoid opinions unless specifically requested.\n",
    "    \"\"\"\n",
    "\n",
    "    user_prompt = f\"\"\"You will focus on {company} ({symbol}). I will provide a profile of\n",
    "{company} from its 10k. Please summarize this page in 3000 words or less, covering\n",
    "topics of interest to investors, in particular the following topics:\n",
    "\n",
    "\n",
    "Company Profile: An overview of {company}, including its history, commercial operations and sales\n",
    "by lines of business and geography, and recent key developments.\n",
    "\n",
    "Products and services: {company} offerings, their features and benefits, target markets, recent\n",
    "changes such as launches and discontinuations of products and services.\n",
    "\n",
    "Strategic Initiatives: Information on deals, partnerships, mergers, acquisitions, divestitures,\n",
    "joint ventures, strategic initiatives, restructurings, and any other major developments.\n",
    "\n",
    "Recent Events: Significant recent news events, management changes, controversies\n",
    "and other developments related to {company} or its industry which might impact its stock.\n",
    "\n",
    "Use only the provided content below:\n",
    "{profile_10k}\n",
    "\"\"\"\n",
    "\n",
    "    messages = [SystemMessage(content=system_prompt), HumanMessage(content=user_prompt)]\n",
    "    prompt_template = ChatPromptTemplate.from_messages(messages)\n",
    "\n",
    "    parser = StrOutputParser()\n",
    "\n",
    "    chain = prompt_template | model | parser\n",
    "\n",
    "    response_str = \"\"\n",
    "    for r in chain.stream(dict(symbol=symbol, company=company, page_content=page_content)):\n",
    "        print(r, end=\"\", flush=True)\n",
    "        response_str += r\n",
    "\n",
    "    outfile_name = \"profile_10k.txt\"\n",
    "    with open(f\"{DOWNLOAD_DIR}/{outfile_name}\", \"w\") as outfile:\n",
    "        outfile.write(response_str)\n",
    "    return response_str\n",
    "\n",
    "\n",
    "profile_10k = get_10k_item1_from_symbol(symbol)\n",
    "\n",
    "profile_10k_summary = summarize_10k(symbol, company, profile_10k)\n",
    "\n",
    "summary = profile_10k_summary.replace(\"$\", \"\\\\\\$\")  # so Markdown doesn't interpret as latex escape\n",
    "display(Markdown(summary))\n"
   ]
  },
  {
   "cell_type": "code",
   "execution_count": 20,
   "id": "1f226555",
   "metadata": {},
   "outputs": [
    {
     "data": {
      "text/markdown": [
       "[2024-06-26 21:42:08.584989 How consumer spending, election impact markets: Market Domination](https://finance.yahoo.com/video/consumer-spending-election-impact-markets-215807921.html)"
      ],
      "text/plain": [
       "<IPython.core.display.Markdown object>"
      ]
     },
     "metadata": {},
     "output_type": "display_data"
    },
    {
     "data": {
      "text/markdown": [
       "[2024-06-26 21:42:08.585001 Eli Lilly (LLY) Stock Drops Despite Market Gains: Important Facts to Note](https://www.zacks.com/stock/news/2293935/eli-lilly-lly-stock-drops-despite-market-gains-important-facts-to-note)"
      ],
      "text/plain": [
       "<IPython.core.display.Markdown object>"
      ]
     },
     "metadata": {},
     "output_type": "display_data"
    },
    {
     "data": {
      "text/markdown": [
       "[2024-06-26 21:42:08.585001 Lawmakers to vote on if Medicare could cover obesity drugs](https://finance.yahoo.com/video/lawmakers-vote-medicare-could-cover-195358353.html)"
      ],
      "text/plain": [
       "<IPython.core.display.Markdown object>"
      ]
     },
     "metadata": {},
     "output_type": "display_data"
    },
    {
     "data": {
      "text/markdown": [
       "[2024-06-26 21:42:08.585002 Lilly joins fellow pharma giants in OpenAI partnership](https://finance.yahoo.com/m/a76ab61c-6e40-3ed7-8fbb-8e49720dc1c1/lilly-joins-fellow-pharma.html)"
      ],
      "text/plain": [
       "<IPython.core.display.Markdown object>"
      ]
     },
     "metadata": {},
     "output_type": "display_data"
    },
    {
     "data": {
      "text/markdown": [
       "[2024-06-26 21:42:08.585003 The S&P 500 and Nvidia, Chipotle stock split: Morning Brief](https://finance.yahoo.com/video/p-500-nvidia-chipotle-stock-165526472.html)"
      ],
      "text/plain": [
       "<IPython.core.display.Markdown object>"
      ]
     },
     "metadata": {},
     "output_type": "display_data"
    },
    {
     "data": {
      "text/markdown": [
       "[2024-06-26 21:42:08.585003 Novo Nordisk, Eli Lilly still top 2 pharma stocks: Analyst](https://finance.yahoo.com/video/novo-nordisk-eli-lilly-still-144857840.html)"
      ],
      "text/plain": [
       "<IPython.core.display.Markdown object>"
      ]
     },
     "metadata": {},
     "output_type": "display_data"
    },
    {
     "data": {
      "text/markdown": [
       "[2024-06-26 21:42:08.585004 Augustine raises  17m to advance lead candidate into trials for neuro conditions](https://www.pharmaceutical-business-review.com/news/augustine-lead-candidate-trials/)"
      ],
      "text/plain": [
       "<IPython.core.display.Markdown object>"
      ]
     },
     "metadata": {},
     "output_type": "display_data"
    },
    {
     "data": {
      "text/markdown": [
       "[2024-06-26 21:42:08.585006 The Next 7 Trillion-Dollar Stocks to Buy: June 2024 Edition](https://investorplace.com/2024/06/the-next-7-trillion-dollar-stocks-to-buy-june-2024-edition/)"
      ],
      "text/plain": [
       "<IPython.core.display.Markdown object>"
      ]
     },
     "metadata": {},
     "output_type": "display_data"
    },
    {
     "data": {
      "text/markdown": [
       "[2024-06-26 21:42:08.585006 The War Over Cheaper Ozempic Wont End Well for Some Investors](https://finance.yahoo.com/m/086ba0a3-0fca-3aae-a076-3d18b9a000a8/the-war-over-cheaper-ozempic.html)"
      ],
      "text/plain": [
       "<IPython.core.display.Markdown object>"
      ]
     },
     "metadata": {},
     "output_type": "display_data"
    },
    {
     "data": {
      "text/markdown": [
       "[2024-06-26 21:42:08.585007 2 Reasons Why Eli Lilly's Stock Likely Hasn't Peaked](https://finance.yahoo.com/m/8e0feebc-417b-31cb-92c5-d261799dfe3e/2-reasons-why-eli-lilly%27s.html)"
      ],
      "text/plain": [
       "<IPython.core.display.Markdown object>"
      ]
     },
     "metadata": {},
     "output_type": "display_data"
    },
    {
     "data": {
      "text/markdown": [
       "[2024-06-26 21:42:08.585008 Why Drugmaker Eli Lilly Is Partnering With ChatGPT Maker OpenAI](https://www.investopedia.com/why-drugmaker-eli-lilly-is-partnering-with-chatgpt-maker-openai-8668887)"
      ],
      "text/plain": [
       "<IPython.core.display.Markdown object>"
      ]
     },
     "metadata": {},
     "output_type": "display_data"
    },
    {
     "data": {
      "text/markdown": [
       "[2024-06-26 21:42:08.585009 AI Work Assistants Need a Lot of Handholding](https://finance.yahoo.com/m/033bbbc6-eb7d-35c6-9224-00c436a525d2/ai-work-assistants-need-a-lot.html)"
      ],
      "text/plain": [
       "<IPython.core.display.Markdown object>"
      ]
     },
     "metadata": {},
     "output_type": "display_data"
    },
    {
     "data": {
      "text/markdown": [
       "[2024-06-26 21:42:08.585009 Top Stock Movers Now: Carnival, Nvidia, SolarEdge Technologies, and More](https://www.investopedia.com/top-stock-movers-now-carnival-nvidia-solaredge-technologies-and-more-8668829)"
      ],
      "text/plain": [
       "<IPython.core.display.Markdown object>"
      ]
     },
     "metadata": {},
     "output_type": "display_data"
    },
    {
     "data": {
      "text/markdown": [
       "[2024-06-26 21:42:08.585010 Insulet Points Its Insulin Pump at the Big Diabetes Market: Type 2](https://finance.yahoo.com/m/df4b2385-1cf7-3c77-b36f-411552519883/insulet-points-its-insulin.html)"
      ],
      "text/plain": [
       "<IPython.core.display.Markdown object>"
      ]
     },
     "metadata": {},
     "output_type": "display_data"
    },
    {
     "data": {
      "text/markdown": [
       "[2024-06-26 21:42:08.585010 Eli Lilly inks OpenAI deal for discovering new antibiotics](https://www.fiercebiotech.com/biotech/eli-lilly-inks-openai-deal-discovering-new-antibiotics)"
      ],
      "text/plain": [
       "<IPython.core.display.Markdown object>"
      ]
     },
     "metadata": {},
     "output_type": "display_data"
    },
    {
     "data": {
      "text/markdown": [
       "[2024-06-26 21:42:08.585011 Novo Nordisk Rises as Wegovy Is Approved in China](https://www.investopedia.com/novo-nordisk-rises-as-wegovy-is-approved-in-china-8668690)"
      ],
      "text/plain": [
       "<IPython.core.display.Markdown object>"
      ]
     },
     "metadata": {},
     "output_type": "display_data"
    },
    {
     "data": {
      "text/markdown": [
       "[2024-06-26 21:42:08.585012 From Sci-Fi Dream to Market Maze: Eli Lilly's Weight-Loss Medication Faces Hurdles](https://finance.yahoo.com/news/sci-fi-dream-market-maze-140002588.html)"
      ],
      "text/plain": [
       "<IPython.core.display.Markdown object>"
      ]
     },
     "metadata": {},
     "output_type": "display_data"
    },
    {
     "data": {
      "text/markdown": [
       "[2024-06-26 21:42:08.585012 Lilly collaborates with OpenAI to discover novel medicines to treat drug-resistant bacteria](https://www.prnewswire.com/news-releases/lilly-collaborates-with-openai-to-discover-novel-medicines-to-treat-drug-resistant-bacteria-302180973.html)"
      ],
      "text/plain": [
       "<IPython.core.display.Markdown object>"
      ]
     },
     "metadata": {},
     "output_type": "display_data"
    },
    {
     "data": {
      "text/markdown": [
       "[2024-06-26 21:42:08.585013 NVO Stock: Novo Nordisk Pops as China Approves Wegovy Weight Loss Drug](https://investorplace.com/2024/06/nvo-stock-novo-nordisk-pops-as-china-approves-wegovy-weight-loss-drug/)"
      ],
      "text/plain": [
       "<IPython.core.display.Markdown object>"
      ]
     },
     "metadata": {},
     "output_type": "display_data"
    },
    {
     "data": {
      "text/markdown": [
       "[2024-06-26 21:42:08.585013 Is Eli Lilly (LLY) a Buy on Tirzepatide Success in Sleep Apnea?](https://www.zacks.com/stock/news/2292780/is-eli-lilly-lly-a-buy-on-tirzepatide-success-in-sleep-apnea)"
      ],
      "text/plain": [
       "<IPython.core.display.Markdown object>"
      ]
     },
     "metadata": {},
     "output_type": "display_data"
    },
    {
     "data": {
      "text/markdown": [
       "[2024-06-26 21:42:08.585014 Novo to spend $4B on US plant, adding to obesity drug production push](https://finance.yahoo.com/m/39e1d1ea-fa9e-388e-831b-212a608d867f/novo-to-spend-%244b-on-us.html)"
      ],
      "text/plain": [
       "<IPython.core.display.Markdown object>"
      ]
     },
     "metadata": {},
     "output_type": "display_data"
    },
    {
     "data": {
      "text/markdown": [
       "[2024-06-26 21:42:08.585015 ADA 2024: Altimmunes GLP-1 drug shows weight loss potential](https://finance.yahoo.com/m/3ea56d3f-8a05-3f05-8811-374b8b296e98/ada-2024%3A-altimmune%E2%80%99s-glp-1.html)"
      ],
      "text/plain": [
       "<IPython.core.display.Markdown object>"
      ]
     },
     "metadata": {},
     "output_type": "display_data"
    },
    {
     "data": {
      "text/markdown": [
       "[2024-06-26 21:42:08.585016 Why Investors Haven't Feasted on Two New Weight-Loss ETFs](https://www.investopedia.com/why-investors-have-not-feasted-on-two-new-weight-loss-etfs-8668085)"
      ],
      "text/plain": [
       "<IPython.core.display.Markdown object>"
      ]
     },
     "metadata": {},
     "output_type": "display_data"
    },
    {
     "data": {
      "text/markdown": [
       "[2024-06-26 21:42:08.585016 Crypto under pressure, Good Buy or Goodbye: Market Domination](https://finance.yahoo.com/video/crypto-under-pressure-good-buy-220224103.html)"
      ],
      "text/plain": [
       "<IPython.core.display.Markdown object>"
      ]
     },
     "metadata": {},
     "output_type": "display_data"
    },
    {
     "data": {
      "text/markdown": [
       "[2024-06-26 21:42:08.585017 S&P 500 Gains and Losses Today: Oil Stocks Surge Amid Global Tensions, Summer Demand](https://www.investopedia.com/s-and-p-500-gains-and-losses-today-oil-stocks-surge-amid-global-tensions-summer-demand-8668542)"
      ],
      "text/plain": [
       "<IPython.core.display.Markdown object>"
      ]
     },
     "metadata": {},
     "output_type": "display_data"
    },
    {
     "data": {
      "text/markdown": [
       "[2024-06-26 21:42:08.585018 Novo Nordisk to invest $4.1B in NC facility for GLP-1 drugs](https://finance.yahoo.com/video/novo-nordisk-invest-4-1b-203556543.html)"
      ],
      "text/plain": [
       "<IPython.core.display.Markdown object>"
      ]
     },
     "metadata": {},
     "output_type": "display_data"
    },
    {
     "data": {
      "text/markdown": [
       "[2024-06-26 21:42:08.585018 These Stocks Are Moving the Most Today: Nvidia, Apple, Trump Media, RXO, ResMed, Alnylam, Affirm, IBM, and More](https://finance.yahoo.com/m/d8631de2-c51b-3543-9d87-5a0592db133c/these-stocks-are-moving-the.html)"
      ],
      "text/plain": [
       "<IPython.core.display.Markdown object>"
      ]
     },
     "metadata": {},
     "output_type": "display_data"
    },
    {
     "data": {
      "text/markdown": [
       "[2024-06-26 21:42:08.585019 Eli Lilly's Weight-Loss Drug Takes Down ResMed, Inspire Medical  Again](https://finance.yahoo.com/m/bbe694a5-ece2-3639-a09e-40da9dfddad5/eli-lilly%27s-weight-loss-drug.html)"
      ],
      "text/plain": [
       "<IPython.core.display.Markdown object>"
      ]
     },
     "metadata": {},
     "output_type": "display_data"
    },
    {
     "data": {
      "text/markdown": [
       "[2024-06-26 21:42:08.585019 Lilly Weight-Loss Drug Data Spurs Selloff in Sleep Apnea Stocks](https://finance.yahoo.com/news/lilly-weight-loss-drug-data-161219351.html)"
      ],
      "text/plain": [
       "<IPython.core.display.Markdown object>"
      ]
     },
     "metadata": {},
     "output_type": "display_data"
    },
    {
     "data": {
      "text/markdown": [
       "[2024-06-26 21:42:08.585020 It's Not Just a Bad Day for Chip Stocks. ResMed Is the S&P 500s Top Decliner.](https://finance.yahoo.com/m/1135d694-5a3d-377b-bc2e-3dd006cfb40b/it%27s-not-just-a-bad-day-for.html)"
      ],
      "text/plain": [
       "<IPython.core.display.Markdown object>"
      ]
     },
     "metadata": {},
     "output_type": "display_data"
    },
    {
     "data": {
      "text/markdown": [
       "[2024-06-26 21:42:08.585021 How Lilly is joining Novo in the crusade to circumvent Medicare's block on weight loss drugs](https://finance.yahoo.com/news/how-lilly-is-joining-novo-in-the-crusade-to-circumvent-medicares-block-on-weight-loss-drugs-180112580.html)"
      ],
      "text/plain": [
       "<IPython.core.display.Markdown object>"
      ]
     },
     "metadata": {},
     "output_type": "display_data"
    },
    {
     "data": {
      "text/markdown": [
       "[2024-06-26 21:42:08.585022 ResMed Stock Dives. Blame Eli Lillys Zepbound Trials for Sleep Apnea.](https://finance.yahoo.com/m/8ee8ce4d-a010-3f7b-b1de-5f4a79c1fede/resmed-stock-dives.-blame-eli.html)"
      ],
      "text/plain": [
       "<IPython.core.display.Markdown object>"
      ]
     },
     "metadata": {},
     "output_type": "display_data"
    },
    {
     "data": {
      "text/markdown": [
       "[2024-06-26 21:42:08.585022 Tech sector growth, EU considers fining Apple: Morning Brief](https://finance.yahoo.com/video/tech-sector-growth-eu-considers-163240487.html)"
      ],
      "text/plain": [
       "<IPython.core.display.Markdown object>"
      ]
     },
     "metadata": {},
     "output_type": "display_data"
    },
    {
     "data": {
      "text/markdown": [
       "[2024-06-26 21:42:08.585023 Top Stock Movers Now: Affirm, Nvidia, ResMed, and More](https://www.investopedia.com/top-stock-movers-now-affirm-nvidia-resmed-and-more-8668184)"
      ],
      "text/plain": [
       "<IPython.core.display.Markdown object>"
      ]
     },
     "metadata": {},
     "output_type": "display_data"
    },
    {
     "data": {
      "text/markdown": [
       "[2024-06-26 21:42:08.585023 ADA 2024: Altimmunes GLP-1 drug shows weight loss potential](https://finance.yahoo.com/m/f85e3c7e-b079-3f15-829b-c76a67d967ba/ada-2024%3A-altimmune%E2%80%99s-glp-1.html)"
      ],
      "text/plain": [
       "<IPython.core.display.Markdown object>"
      ]
     },
     "metadata": {},
     "output_type": "display_data"
    },
    {
     "data": {
      "text/markdown": [
       "[2024-06-26 21:42:08.585024 Lilly Declares Third-Quarter 2024 Dividend](https://www.prnewswire.com/news-releases/lilly-declares-third-quarter-2024-dividend-302180441.html)"
      ],
      "text/plain": [
       "<IPython.core.display.Markdown object>"
      ]
     },
     "metadata": {},
     "output_type": "display_data"
    },
    {
     "data": {
      "text/markdown": [
       "[2024-06-26 21:42:08.585024 ALT Stock Alert: Altimmune Pops on Weight-Loss Drug Findings](https://investorplace.com/2024/06/alt-stock-alert-altimmune-pops-on-weight-loss-drug-findings/)"
      ],
      "text/plain": [
       "<IPython.core.display.Markdown object>"
      ]
     },
     "metadata": {},
     "output_type": "display_data"
    },
    {
     "data": {
      "text/markdown": [
       "[2024-06-26 21:42:08.585025 Why a Pair of Eli Lilly Clinical Trials Sent ResMed Stock Tumbling](https://www.investopedia.com/why-a-pair-of-eli-lilly-clinical-trials-sent-resmed-stock-tumbling-8668009)"
      ],
      "text/plain": [
       "<IPython.core.display.Markdown object>"
      ]
     },
     "metadata": {},
     "output_type": "display_data"
    },
    {
     "data": {
      "text/markdown": [
       "[2024-06-26 21:42:08.585026 Eli Lilly seeks to expand Zepbound use to treat sleep apnea](https://finance.yahoo.com/video/eli-lilly-seeks-expand-zepbound-143600056.html)"
      ],
      "text/plain": [
       "<IPython.core.display.Markdown object>"
      ]
     },
     "metadata": {},
     "output_type": "display_data"
    },
    {
     "data": {
      "text/markdown": [
       "[2024-06-26 21:42:08.585026 What Makes Eli Lilly & Company (LLY) a Hot Healthcare Stock Right Now?](https://www.insidermonkey.com/blog/what-makes-eli-lilly-company-lly-a-hot-healthcare-stock-right-now-1317293/)"
      ],
      "text/plain": [
       "<IPython.core.display.Markdown object>"
      ]
     },
     "metadata": {},
     "output_type": "display_data"
    },
    {
     "data": {
      "text/markdown": [
       "[2024-06-26 21:42:08.585027 Investors Heavily Search Eli Lilly and Company (LLY): Here is What You Need to Know](https://www.zacks.com/stock/news/2292048/investors-heavily-search-eli-lilly-and-company-lly-here-is-what-you-need-to-know)"
      ],
      "text/plain": [
       "<IPython.core.display.Markdown object>"
      ]
     },
     "metadata": {},
     "output_type": "display_data"
    },
    {
     "data": {
      "text/markdown": [
       "[2024-06-26 21:42:08.585027 Eli Lilly's Zepbound For Weight Loss Shows Disease Resolution In Obese Sleep Apnea Patients, Lays Further Groundwork For Label Expansion](https://finance.yahoo.com/news/eli-lillys-zepbound-weight-loss-122943468.html)"
      ],
      "text/plain": [
       "<IPython.core.display.Markdown object>"
      ]
     },
     "metadata": {},
     "output_type": "display_data"
    },
    {
     "data": {
      "text/markdown": [
       "[2024-06-26 21:42:08.585028 How To Invest After A Follow-Through Day](https://finance.yahoo.com/m/57d307ed-7000-38b5-8f88-ea57a4bae109/how-to-invest-after-a.html)"
      ],
      "text/plain": [
       "<IPython.core.display.Markdown object>"
      ]
     },
     "metadata": {},
     "output_type": "display_data"
    },
    {
     "data": {
      "text/markdown": [
       "[2024-06-26 21:42:08.585028 ResMed Stock Is Sinking. Blame Eli Lillys Zepbound Trials for Sleep Apnea.](https://finance.yahoo.com/m/b5888f6e-8324-3393-bc72-48b3dafe0fb0/resmed-stock-is-sinking..html)"
      ],
      "text/plain": [
       "<IPython.core.display.Markdown object>"
      ]
     },
     "metadata": {},
     "output_type": "display_data"
    },
    {
     "data": {
      "text/markdown": [
       "[2024-06-26 21:42:08.585029 ResMed Stock Is Sinking. Blame Lillys Zepbound Trials for Sleep Apnea.](https://finance.yahoo.com/m/8ee8ce4d-a010-3f7b-b1de-5f4a79c1fede/resmed-stock-is-sinking..html)"
      ],
      "text/plain": [
       "<IPython.core.display.Markdown object>"
      ]
     },
     "metadata": {},
     "output_type": "display_data"
    },
    {
     "data": {
      "text/markdown": [
       "[2024-06-26 21:42:08.585030 Lillys tirzepatide reduces OSA severity in Phase III clinical trials](https://finance.yahoo.com/m/7f3010b1-6f61-34c7-bca5-92f9bae22b6c/lilly%E2%80%99s-tirzepatide-reduces.html)"
      ],
      "text/plain": [
       "<IPython.core.display.Markdown object>"
      ]
     },
     "metadata": {},
     "output_type": "display_data"
    },
    {
     "data": {
      "text/markdown": [
       "[2024-06-26 21:42:08.585030 Broadcom, Eli Lilly and Trump Media rise premarket; Under Armour falls](https://finance.yahoo.com/news/broadcom-eli-lilly-trump-media-072221862.html)"
      ],
      "text/plain": [
       "<IPython.core.display.Markdown object>"
      ]
     },
     "metadata": {},
     "output_type": "display_data"
    },
    {
     "data": {
      "text/markdown": [
       "[2024-06-26 21:42:08.585031 Did Eli Lilly and Company (LLY) Achieve Its 10th Consecutive Year of Dividend Growth?](https://www.insidermonkey.com/blog/did-eli-lilly-and-company-lly-achieve-its-10th-consecutive-year-of-dividend-growth-1316939/)"
      ],
      "text/plain": [
       "<IPython.core.display.Markdown object>"
      ]
     },
     "metadata": {},
     "output_type": "display_data"
    },
    {
     "data": {
      "text/markdown": [
       "[2024-06-26 21:42:08.585031 10 Dividend Zombies and Kings with Longest Dividend Payouts](https://www.insidermonkey.com/blog/10-dividend-zombies-and-kings-with-longest-dividend-payouts-1315561/)"
      ],
      "text/plain": [
       "<IPython.core.display.Markdown object>"
      ]
     },
     "metadata": {},
     "output_type": "display_data"
    },
    {
     "data": {
      "text/markdown": [
       "[2024-06-26 21:42:08.585032 Lilly's tirzepatide reduced obstructive sleep apnea (OSA) severity, with up to 51.5% of participants meeting the criteria for disease resolution](https://www.prnewswire.com/news-releases/lillys-tirzepatide-reduced-obstructive-sleep-apnea-osa-severity-with-up-to-51-5-of-participants-meeting-the-criteria-for-disease-resolution-302179373.html)"
      ],
      "text/plain": [
       "<IPython.core.display.Markdown object>"
      ]
     },
     "metadata": {},
     "output_type": "display_data"
    },
    {
     "data": {
      "text/markdown": [
       "[2024-06-26 21:42:08.585032 Three-Stock Lunch: Nvidia, Eli Lilly](https://www.youtube.com/watch?v=Xbfto0Up2no)"
      ],
      "text/plain": [
       "<IPython.core.display.Markdown object>"
      ]
     },
     "metadata": {},
     "output_type": "display_data"
    },
    {
     "data": {
      "text/markdown": [
       "[2024-06-26 21:42:08.585033 3 Biotech Stocks to Buy Now: June 2024](https://investorplace.com/2024/06/3-biotech-stocks-to-buy-now-june-2024/)"
      ],
      "text/plain": [
       "<IPython.core.display.Markdown object>"
      ]
     },
     "metadata": {},
     "output_type": "display_data"
    },
    {
     "data": {
      "text/markdown": [
       "[2024-06-26 21:42:08.585034 Eli Lillys Weight-Loss Franchise Has Been a Massive Winner Under Dave Ricks](https://finance.yahoo.com/m/59f79c85-29e8-378e-b67b-ea4288ec57a1/eli-lilly%E2%80%99s-weight-loss.html)"
      ],
      "text/plain": [
       "<IPython.core.display.Markdown object>"
      ]
     },
     "metadata": {},
     "output_type": "display_data"
    },
    {
     "data": {
      "text/markdown": [
       "[2024-06-26 21:42:08.585034 WHO warns of harmful fake Ozempic in circulation in Americas and Europe](https://finance.yahoo.com/m/3d60f3dc-a1b8-36bb-9ad9-da8ad6999f5e/who-warns-of-%E2%80%9Charmful%E2%80%9D-fake.html)"
      ],
      "text/plain": [
       "<IPython.core.display.Markdown object>"
      ]
     },
     "metadata": {},
     "output_type": "display_data"
    },
    {
     "data": {
      "text/markdown": [
       "[2024-06-26 21:42:08.585035 AI Stocks Are Soaring on Hope. Why Their Dominance Puts Markets at Peril.](https://finance.yahoo.com/m/5577ece3-6962-3b23-9539-a795fdd9a5f9/ai-stocks-are-soaring-on.html)"
      ],
      "text/plain": [
       "<IPython.core.display.Markdown object>"
      ]
     },
     "metadata": {},
     "output_type": "display_data"
    },
    {
     "data": {
      "text/markdown": [
       "[2024-06-26 21:42:08.585035 AI Stocks Are Soaring on Hope. Why Their Dominance Puts Markets at Peril, and 4 Other Things to Know Today.](https://finance.yahoo.com/m/7bd2a723-6f85-3117-b511-456ca5174df4/ai-stocks-are-soaring-on.html)"
      ],
      "text/plain": [
       "<IPython.core.display.Markdown object>"
      ]
     },
     "metadata": {},
     "output_type": "display_data"
    },
    {
     "data": {
      "text/markdown": [
       "[2024-06-26 21:42:08.585036 Hype Busters: 3 Overvalued Stocks Ready for a Reality Check](https://investorplace.com/2024/06/hype-busters-3-overvalued-stocks-ready-for-a-reality-check/)"
      ],
      "text/plain": [
       "<IPython.core.display.Markdown object>"
      ]
     },
     "metadata": {},
     "output_type": "display_data"
    },
    {
     "data": {
      "text/markdown": [
       "[2024-06-26 21:42:08.585037 Forget Eli Lilly, Buy This Magnificent Biotech Stock Instead](https://finance.yahoo.com/m/f9ecfb63-a384-309c-bf61-c295efcb5215/forget-eli-lilly%2C-buy-this.html)"
      ],
      "text/plain": [
       "<IPython.core.display.Markdown object>"
      ]
     },
     "metadata": {},
     "output_type": "display_data"
    },
    {
     "data": {
      "text/markdown": [
       "[2024-06-26 21:42:08.585037 Fake weight loss drugs, and Novo Nordisk's CEO will face Bernie Sanders: Pharma news roundup](https://qz.com/fake-ozempic-weight-loss-drugs-novo-nordisk-pharma-news-1851551818)"
      ],
      "text/plain": [
       "<IPython.core.display.Markdown object>"
      ]
     },
     "metadata": {},
     "output_type": "display_data"
    },
    {
     "data": {
      "text/markdown": [
       "[2024-06-26 21:42:08.585038 Eli Lilly (LLY) Registers a Bigger Fall Than the Market: Important Facts to Note](https://www.zacks.com/stock/news/2291076/eli-lilly-lly-registers-a-bigger-fall-than-the-market-important-facts-to-note)"
      ],
      "text/plain": [
       "<IPython.core.display.Markdown object>"
      ]
     },
     "metadata": {},
     "output_type": "display_data"
    },
    {
     "data": {
      "text/markdown": [
       "[2024-06-26 21:42:08.585038 Why Wall Street Is Chasing Ozempic Wannabes](https://finance.yahoo.com/m/ee249c47-646a-3f70-a794-c0086a6d9590/why-wall-street-is-chasing.html)"
      ],
      "text/plain": [
       "<IPython.core.display.Markdown object>"
      ]
     },
     "metadata": {},
     "output_type": "display_data"
    },
    {
     "data": {
      "text/markdown": [
       "[2024-06-26 21:42:08.585039 Obesity-Drug Developers Look at Whats Next for a $100 Billion Market](https://finance.yahoo.com/m/3bcb1d26-07e2-3f3b-b95c-9e52cca7ef23/obesity-drug-developers-look.html)"
      ],
      "text/plain": [
       "<IPython.core.display.Markdown object>"
      ]
     },
     "metadata": {},
     "output_type": "display_data"
    },
    {
     "data": {
      "text/markdown": [
       "[2024-06-26 21:42:08.585039 Eli Lilly Has a New Drug That Could Push the Stock Higher](https://finance.yahoo.com/m/39ffd5e9-b63c-33c3-92c2-4a8e7addabb9/eli-lilly-has-a-new-drug-that.html)"
      ],
      "text/plain": [
       "<IPython.core.display.Markdown object>"
      ]
     },
     "metadata": {},
     "output_type": "display_data"
    },
    {
     "data": {
      "text/markdown": [
       "[2024-06-26 21:42:08.585040 WHO and Eli Lilly caution patients against falling for fake versions of popular weight-loss drugs](https://finance.yahoo.com/news/eli-lilly-caution-patients-against-180741023.html)"
      ],
      "text/plain": [
       "<IPython.core.display.Markdown object>"
      ]
     },
     "metadata": {},
     "output_type": "display_data"
    },
    {
     "data": {
      "text/markdown": [
       "[2024-06-26 21:42:08.585041 Is Eli Lilly Stock A Buy After FDA Advisors Back Its Alzheimer's Drug?](https://finance.yahoo.com/m/75ad41f4-79f0-3b48-af19-38b6a6e1e059/is-eli-lilly-stock-a-buy.html)"
      ],
      "text/plain": [
       "<IPython.core.display.Markdown object>"
      ]
     },
     "metadata": {},
     "output_type": "display_data"
    },
    {
     "data": {
      "text/markdown": [
       "[2024-06-26 21:42:08.585042 Wall Street Favorites: 7 Growth Stocks With Strong Buy Ratings for June 2024](https://investorplace.com/2024/06/wall-street-favorites-7-growth-stocks-with-strong-buy-ratings-for-june-2024/)"
      ],
      "text/plain": [
       "<IPython.core.display.Markdown object>"
      ]
     },
     "metadata": {},
     "output_type": "display_data"
    },
    {
     "data": {
      "text/markdown": [
       "[2024-06-26 21:42:08.585042 Eli Lilly Files More Lawsuits at Sellers of Counterfeit Mounjaro, Zepbound](https://finance.yahoo.com/m/8c6db41e-4b44-3b02-a7e3-8c005198e349/eli-lilly-files-more-lawsuits.html)"
      ],
      "text/plain": [
       "<IPython.core.display.Markdown object>"
      ]
     },
     "metadata": {},
     "output_type": "display_data"
    },
    {
     "data": {
      "text/markdown": [
       "[2024-06-26 21:42:08.585043 Eli Lilly is cracking down on knock off versions of its popular weight loss and diabetes drug](https://qz.com/eli-lilly-fake-zepbound-1851550525)"
      ],
      "text/plain": [
       "<IPython.core.display.Markdown object>"
      ]
     },
     "metadata": {},
     "output_type": "display_data"
    },
    {
     "data": {
      "text/markdown": [
       "[2024-06-26 21:42:08.585043 Here's Why Eli Lilly (LLY) is Probably the Best Drug Stock Now](https://www.zacks.com/stock/news/2290782/here-s-why-eli-lilly-lly-is-probably-the-best-drug-stock-now)"
      ],
      "text/plain": [
       "<IPython.core.display.Markdown object>"
      ]
     },
     "metadata": {},
     "output_type": "display_data"
    },
    {
     "data": {
      "text/markdown": [
       "[2024-06-26 21:42:08.585044 Eli Lilly's Growth Prospects Just Got a Huge Upgrade](https://finance.yahoo.com/m/adaa448e-7e2e-3b33-a28c-d7ae482e3fea/eli-lilly%27s-growth-prospects.html)"
      ],
      "text/plain": [
       "<IPython.core.display.Markdown object>"
      ]
     },
     "metadata": {},
     "output_type": "display_data"
    },
    {
     "data": {
      "text/markdown": [
       "[2024-06-26 21:42:08.585044 The Fed Needs to Cut Rates Eventually Amid This Economic Slowdown. Heres Why, and 4 Other Things to Know Today.](https://finance.yahoo.com/m/c7216779-db1c-3a46-b0f3-d535d75de6d6/the-fed-needs-to-cut-rates.html)"
      ],
      "text/plain": [
       "<IPython.core.display.Markdown object>"
      ]
     },
     "metadata": {},
     "output_type": "display_data"
    },
    {
     "data": {
      "text/markdown": [
       "[2024-06-26 21:42:08.585045 50 Largest Companies in Every State in the US](https://www.insidermonkey.com/blog/50-largest-companies-in-every-state-in-the-us-1296919/)"
      ],
      "text/plain": [
       "<IPython.core.display.Markdown object>"
      ]
     },
     "metadata": {},
     "output_type": "display_data"
    },
    {
     "data": {
      "text/markdown": [
       "[2024-06-26 21:42:08.585045 Why the GLP-1 impact on other industries 'will take years'](https://finance.yahoo.com/news/why-the-glp-1-impact-on-other-industries-will-take-years-195120285.html)"
      ],
      "text/plain": [
       "<IPython.core.display.Markdown object>"
      ]
     },
     "metadata": {},
     "output_type": "display_data"
    },
    {
     "data": {
      "text/markdown": [
       "[2024-06-26 21:42:08.585046 New Weight-Loss Drugs and Devices Are Coming This Week](https://finance.yahoo.com/m/c2d8322b-4f66-3290-ae20-855fc4292eb3/new-weight-loss-drugs-and.html)"
      ],
      "text/plain": [
       "<IPython.core.display.Markdown object>"
      ]
     },
     "metadata": {},
     "output_type": "display_data"
    },
    {
     "data": {
      "text/markdown": [
       "[2024-06-26 21:42:08.585046 Amazon Widens RxPass Eligibility To Include Prime Members With Medicare](https://www.investopedia.com/amazon-widens-rxpass-eligibility-to-include-prime-members-with-medicare-8665120)"
      ],
      "text/plain": [
       "<IPython.core.display.Markdown object>"
      ]
     },
     "metadata": {},
     "output_type": "display_data"
    },
    {
     "data": {
      "text/markdown": [
       "[2024-06-26 21:42:08.585047 Stocks close higher, Trump tax cuts: Market Domination Overtime](https://finance.yahoo.com/video/stocks-close-higher-trump-tax-215338577.html)"
      ],
      "text/plain": [
       "<IPython.core.display.Markdown object>"
      ]
     },
     "metadata": {},
     "output_type": "display_data"
    },
    {
     "data": {
      "text/markdown": [
       "[2024-06-26 21:42:08.585047 Eli Lilly unveils new North Carolina plant for GLP-1 drugs](https://finance.yahoo.com/video/eli-lilly-unveils-north-carolina-210054637.html)"
      ],
      "text/plain": [
       "<IPython.core.display.Markdown object>"
      ]
     },
     "metadata": {},
     "output_type": "display_data"
    },
    {
     "data": {
      "text/markdown": [
       "[2024-06-26 21:42:08.585048 Top Weight-Loss Rivals Share This Risk After Eye-Popping Runs](https://finance.yahoo.com/m/bb981237-9854-343b-9452-73de558100f5/top-weight-loss-rivals-share.html)"
      ],
      "text/plain": [
       "<IPython.core.display.Markdown object>"
      ]
     },
     "metadata": {},
     "output_type": "display_data"
    },
    {
     "data": {
      "text/markdown": [
       "[2024-06-26 21:42:08.585049 Broadcom Is on Track to Edge Past Eli Lillys Market Value. AI Is Helping It Do So.](https://finance.yahoo.com/m/02610377-0198-3d01-a705-78cc58935fcb/broadcom-is-on-track-to-edge.html)"
      ],
      "text/plain": [
       "<IPython.core.display.Markdown object>"
      ]
     },
     "metadata": {},
     "output_type": "display_data"
    },
    {
     "data": {
      "text/markdown": [
       "[2024-06-26 21:42:08.585049 Two Is Better Than One in the Alzheimers Market](https://finance.yahoo.com/m/bf1ea8cf-3d77-3d0a-a2cf-e451f125a548/two-is-better-than-one-in-the.html)"
      ],
      "text/plain": [
       "<IPython.core.display.Markdown object>"
      ]
     },
     "metadata": {},
     "output_type": "display_data"
    },
    {
     "data": {
      "text/markdown": [
       "[2024-06-26 21:42:08.585050 Lillys Phase II results in Alzheimers disease have most experts saying donanemab is done](https://finance.yahoo.com/m/a4ab855e-236b-377f-8e0c-3bdc976cd771/lilly%E2%80%99s-phase-ii-results-in.html)"
      ],
      "text/plain": [
       "<IPython.core.display.Markdown object>"
      ]
     },
     "metadata": {},
     "output_type": "display_data"
    },
    {
     "data": {
      "text/markdown": [
       "[2024-06-26 21:42:08.585050 Thinking of Buying Madrigal Pharmaceuticals Stock? Eli Lilly Would Like to Have a Word.](https://finance.yahoo.com/m/a037cb37-74ab-3127-a591-b4e02e03cd38/thinking-of-buying-madrigal.html)"
      ],
      "text/plain": [
       "<IPython.core.display.Markdown object>"
      ]
     },
     "metadata": {},
     "output_type": "display_data"
    },
    {
     "data": {
      "text/markdown": [
       "[2024-06-26 21:42:08.585051 Mounjaro Is Targeting Another Multibillion-Dollar Market: Is Eli Lilly Stock a Buy?](https://finance.yahoo.com/m/1c9db29c-dab7-3502-9cbe-ebd278ad762c/mounjaro-is-targeting-another.html)"
      ],
      "text/plain": [
       "<IPython.core.display.Markdown object>"
      ]
     },
     "metadata": {},
     "output_type": "display_data"
    },
    {
     "data": {
      "text/markdown": [
       "[2024-06-26 21:42:08.585052 Eli Lilly Scores Another Major Win and Lines Up Its Next Blockbuster](https://finance.yahoo.com/m/5c9b9df2-f1a4-3c97-871c-f77e202bf707/eli-lilly-scores-another.html)"
      ],
      "text/plain": [
       "<IPython.core.display.Markdown object>"
      ]
     },
     "metadata": {},
     "output_type": "display_data"
    },
    {
     "data": {
      "text/markdown": [
       "[2024-06-26 21:42:08.585052 3 Growth Stocks You Can Buy Right Now Without Any Hesitation](https://finance.yahoo.com/m/81951870-b48d-36bd-8f55-1d5c315baa28/3-growth-stocks-you-can-buy.html)"
      ],
      "text/plain": [
       "<IPython.core.display.Markdown object>"
      ]
     },
     "metadata": {},
     "output_type": "display_data"
    },
    {
     "data": {
      "text/markdown": [
       "[2024-06-26 21:42:08.585053 Exit Alert: 3 Stocks to Offload Before the Downturn](https://investorplace.com/2024/06/exit-alert-3-stocks-to-offload-before-the-downturn/)"
      ],
      "text/plain": [
       "<IPython.core.display.Markdown object>"
      ]
     },
     "metadata": {},
     "output_type": "display_data"
    },
    {
     "data": {
      "text/markdown": [
       "[2024-06-26 21:42:08.585053 Gilead Sciences Jumps After Its Weight-Loss Drug Emerges From Under The Radar](https://finance.yahoo.com/m/67de46c0-3f75-3fc8-8899-ef3ae85642e2/gilead-sciences-jumps-after.html)"
      ],
      "text/plain": [
       "<IPython.core.display.Markdown object>"
      ]
     },
     "metadata": {},
     "output_type": "display_data"
    },
    {
     "data": {
      "text/markdown": [
       "[2024-06-26 21:42:08.585054 Eli Lilly unveils new manufacturing plant for GLP-1 pens](https://finance.yahoo.com/news/eli-lilly-unveils-new-manufacturing-plant-for-glp-1-pens-200808212.html)"
      ],
      "text/plain": [
       "<IPython.core.display.Markdown object>"
      ]
     },
     "metadata": {},
     "output_type": "display_data"
    },
    {
     "data": {
      "text/markdown": [
       "[2024-06-26 21:42:08.585054 June consumer sentiment disappoints, Tesla short-selling: Catalysts](https://finance.yahoo.com/video/june-consumer-sentiment-disappoints-tesla-171749071.html)"
      ],
      "text/plain": [
       "<IPython.core.display.Markdown object>"
      ]
     },
     "metadata": {},
     "output_type": "display_data"
    },
    {
     "data": {
      "text/markdown": [
       "[2024-06-26 21:42:08.585055 Pre-diabetes rates increase amidst a renaissance for type 2 diabetes research](https://finance.yahoo.com/m/1e93f3ad-c874-3b7c-acc2-2b5f23fe7216/pre-diabetes-rates-increase.html)"
      ],
      "text/plain": [
       "<IPython.core.display.Markdown object>"
      ]
     },
     "metadata": {},
     "output_type": "display_data"
    },
    {
     "data": {
      "text/markdown": [
       "[2024-06-26 21:42:08.585055 Food companies worried about weight loss drugs can just make healthier food, Eli Lilly CEO says](https://qz.com/weight-loss-drugs-food-companies-eli-lilly-zepbound-1851540483)"
      ],
      "text/plain": [
       "<IPython.core.display.Markdown object>"
      ]
     },
     "metadata": {},
     "output_type": "display_data"
    },
    {
     "data": {
      "text/markdown": [
       "[2024-06-26 21:42:08.585056 Eli Lilly and Novo Nordisk are a 'duopoly' in GLP-1 market](https://finance.yahoo.com/video/eli-lilly-novo-nordisk-duopoly-155816856.html)"
      ],
      "text/plain": [
       "<IPython.core.display.Markdown object>"
      ]
     },
     "metadata": {},
     "output_type": "display_data"
    },
    {
     "data": {
      "text/markdown": [
       "[2024-06-26 21:42:08.585056 Eli Lilly wants to replace Zepbound with an even stronger weight loss drug](https://qz.com/eli-lilly-successor-1851540206)"
      ],
      "text/plain": [
       "<IPython.core.display.Markdown object>"
      ]
     },
     "metadata": {},
     "output_type": "display_data"
    },
    {
     "data": {
      "text/markdown": [
       "[2024-06-26 21:42:08.585057 7 A-Rated Biotech Stocks Worth Betting on in June](https://investorplace.com/market360/2024/06/7-a-rated-biotech-stocks-worth-betting-on-in-june/)"
      ],
      "text/plain": [
       "<IPython.core.display.Markdown object>"
      ]
     },
     "metadata": {},
     "output_type": "display_data"
    },
    {
     "data": {
      "text/markdown": [
       "[2024-06-26 21:42:08.585058 3 Stocks to Sell as Ozempic Surges in Popularity](https://investorplace.com/2024/06/3-stocks-to-sell-as-ozempic-surges-in-popularity/)"
      ],
      "text/plain": [
       "<IPython.core.display.Markdown object>"
      ]
     },
     "metadata": {},
     "output_type": "display_data"
    },
    {
     "data": {
      "text/markdown": [
       "[2024-06-26 21:42:08.585058 Wegovy's Precarious Position: 3 Drugs Most Likely to Dethrone Novo Nordisk's Blockbuster Obesity Drug](https://finance.yahoo.com/m/dd6ad51e-5c21-3668-9279-2bdc037796d6/wegovy%27s-precarious-position%3A.html)"
      ],
      "text/plain": [
       "<IPython.core.display.Markdown object>"
      ]
     },
     "metadata": {},
     "output_type": "display_data"
    },
    {
     "data": {
      "text/markdown": [
       "[2024-06-26 21:42:08.585059 Lillys Weight-Loss Drug Is a Huge Hit. Its CEO Wants to Replace It ASAP.](https://finance.yahoo.com/m/f725b402-9d2b-3ac4-9d85-2482b9850f42/lilly%E2%80%99s-weight-loss-drug-is-a.html)"
      ],
      "text/plain": [
       "<IPython.core.display.Markdown object>"
      ]
     },
     "metadata": {},
     "output_type": "display_data"
    },
    {
     "data": {
      "text/markdown": [
       "[2024-06-26 21:42:08.585059 Why Eli Lilly (LLY) is a Top Momentum Stock for the Long-Term](https://www.zacks.com/stock/news/2287885/why-eli-lilly-lly-is-a-top-momentum-stock-for-the-long-term)"
      ],
      "text/plain": [
       "<IPython.core.display.Markdown object>"
      ]
     },
     "metadata": {},
     "output_type": "display_data"
    },
    {
     "data": {
      "text/markdown": [
       "[2024-06-26 21:42:08.585060 Billionaire Israel Englander is Buying This Weight Loss Stock in 2024](https://finance.yahoo.com/news/billionaire-israel-englander-buying-weight-114646707.html)"
      ],
      "text/plain": [
       "<IPython.core.display.Markdown object>"
      ]
     },
     "metadata": {},
     "output_type": "display_data"
    },
    {
     "data": {
      "text/markdown": [
       "[2024-06-26 21:42:08.585060 Want to Get Richer? 2 Top Stocks to Buy Now and Hold Forever.](https://finance.yahoo.com/m/d5cf8979-a294-3558-b70e-0463d590748a/want-to-get-richer%3F-2-top.html)"
      ],
      "text/plain": [
       "<IPython.core.display.Markdown object>"
      ]
     },
     "metadata": {},
     "output_type": "display_data"
    }
   ],
   "source": [
    "def get_finviz_news(symbol):\n",
    "    url = f\"https://www.finviz.com/quote.ashx?t={symbol}\"\n",
    "    headers = {'User-Agent': 'Mozilla/5.0 (Windows NT 10.0; Win64; x64; rv:91.0) Gecko/20100101 Firefox/91.0'}\n",
    "    response = requests.get(url, headers=headers)\n",
    "\n",
    "    if response.status_code != 200:\n",
    "        print(f\"Failed to retrieve data for {symbol}\")\n",
    "        return []\n",
    "\n",
    "    soup = BeautifulSoup(response.content, 'html.parser')\n",
    "    news_table = soup.find('table', {'id': 'news-table'})\n",
    "\n",
    "    if not news_table:\n",
    "        print(f\"No news found for {symbol}\")\n",
    "        return []\n",
    "\n",
    "    news_list = []\n",
    "    for row in news_table.find_all('tr'):\n",
    "        date_data = row.td.text.split(' ')\n",
    "        if len(date_data) == 1:\n",
    "            time = date_data[0]\n",
    "        else:\n",
    "            date = date_data[0]\n",
    "            time = date_data[1]\n",
    "\n",
    "        a_tag = row.a\n",
    "        if a_tag:\n",
    "            headline = a_tag.text\n",
    "            link = a_tag['href']\n",
    "            news_list.append((date, time, headline, link))\n",
    "\n",
    "    md_list = [f\"[{headline}]({link})  \" for _, _, headline, link in news_list]\n",
    "\n",
    "    outfile_name = \"finviz_news.txt\"\n",
    "    with open(f\"{DOWNLOAD_DIR}/{outfile_name}\", \"w\") as outfile:\n",
    "        outfile.write(\"\\n\".join(md_list))\n",
    "\n",
    "    finviz_list = [{'date': datetime.now(), 'title': headline, 'url': link, 'src': 'finviz' } for _, _, headline, link in news_list]\n",
    "    finviz_news_df = pd.DataFrame(finviz_list)\n",
    "    return finviz_news_df\n",
    "    return news_list\n",
    "\n",
    "finviz_news_df = get_finviz_news(symbol)\n",
    "for row in finviz_news_df.itertuples():\n",
    "    md_str = f\"[{row.date} {row.title}]({row.url})\"\n",
    "    display(Markdown(md_str))\n"
   ]
  },
  {
   "cell_type": "code",
   "execution_count": 21,
   "id": "00e51182",
   "metadata": {},
   "outputs": [
    {
     "name": "stdout",
     "output_type": "stream",
     "text": [
      "21:43:17 Starting init_driver\n",
      "21:43:30 Initialized profile\n",
      "21:43:30 Initialized service\n",
      "21:44:10 Initialized webdriver\n"
     ]
    }
   ],
   "source": [
    "outputdir = \"download\"\n",
    "firefox_app_path = '/Applications/Firefox.app'\n",
    "# Path to geckodriver\n",
    "geckodriver_path = '/Users/drucev/webdrivers/geckodriver'\n",
    "# Set up Firefox options to use your existing profile\n",
    "# important for some sites that need a login, also a generic profile fingerprint that looks like a bot might get blocked\n",
    "firefox_profile_path = '/Users/drucev/Library/Application Support/Firefox/Profiles/k8k0lcjj.default-release'\n",
    "\n",
    "def init_driver(firefox_profile_path=firefox_profile_path,\n",
    "                geckodriver_path=geckodriver_path,\n",
    "               ):\n",
    "    \"\"\"open pages via selenium and firefox\"\"\"\n",
    "\n",
    "    print(datetime.now().strftime('%H:%M:%S'), \"Starting init_driver\", flush=True)\n",
    "\n",
    "    options = Options()\n",
    "    options.profile = firefox_profile_path\n",
    "    print(datetime.now().strftime('%H:%M:%S'), \"Initialized profile\", flush=True)\n",
    "\n",
    "    # Create a Service object with the path\n",
    "    service = Service(geckodriver_path)\n",
    "    print(datetime.now().strftime('%H:%M:%S'), \"Initialized service\", flush=True)\n",
    "\n",
    "    # Set up the Firefox driver\n",
    "    driver = webdriver.Firefox(service=service, options=options)\n",
    "\n",
    "    print(datetime.now().strftime('%H:%M:%S'), \"Initialized webdriver\", flush=True)\n",
    "    return driver\n",
    "\n",
    "driver = init_driver()\n"
   ]
  },
  {
   "cell_type": "code",
   "execution_count": 22,
   "id": "82455fb5",
   "metadata": {},
   "outputs": [],
   "source": [
    "# Function to make sure the browser is in the foreground\n",
    "\n",
    "def activate_app(app_name=\"Firefox\"):\n",
    "    for app_instance in NSWorkspace.sharedWorkspace().runningApplications():\n",
    "        if  app_instance.localizedName() == app_name:\n",
    "            app_instance.activateWithOptions_(AppKit.NSApplicationActivateIgnoringOtherApps)\n",
    "            break\n",
    "\n",
    "activate_app(\"Firefox\")\n"
   ]
  },
  {
   "cell_type": "code",
   "execution_count": 23,
   "id": "c66d119e",
   "metadata": {},
   "outputs": [],
   "source": [
    "# Function to check if the Selenium driver is still active\n",
    "def is_driver_active(driver):\n",
    "    try:\n",
    "        session_id = driver.session_id\n",
    "        if session_id:\n",
    "            return True\n",
    "        else:\n",
    "            return False\n",
    "    except WebDriverException:\n",
    "        return False\n"
   ]
  },
  {
   "cell_type": "code",
   "execution_count": 24,
   "id": "9f4bf142",
   "metadata": {},
   "outputs": [],
   "source": [
    "def get_file(title, url, symbol, company, driver, scroll=0, click=None, initial_sleep=0):\n",
    "    \"\"\"\n",
    "    Fetches a URL using a Selenium driver and parameters defined in sources.yaml.\n",
    "    Updates sourcedict['latest'] with the path to the downloaded file.\n",
    "\n",
    "    Args:\n",
    "        title: a title for this page, to save the page\n",
    "        url: the URL to fetch\n",
    "        symbol: symbol to search for\n",
    "        company: company to search for\n",
    "        driver: the Selenium webdriver\n",
    "        scroll: number of times to scroll to the bottom of the page for infinite scroll\n",
    "        click: an xpath to click on (todo: make it a list of buttons to click, pausing sleeptime after each one)\n",
    "        initial_sleep: how long to wait initially for long-loading pages\n",
    "\n",
    "    Returns:\n",
    "        str: The path to the downloaded file.\n",
    "\n",
    "    Raises:\n",
    "        Exception: If there is an error during the execution of the function.\n",
    "\n",
    "    \"\"\"\n",
    "    sleeptime = 5\n",
    "\n",
    "    # Open the page\n",
    "    driver.get(url)\n",
    "\n",
    "    # Wait for the page to load\n",
    "    if not initial_sleep:\n",
    "        initial_sleep = sleeptime\n",
    "    time.sleep(initial_sleep)  # Adjust the sleep time as necessary\n",
    "\n",
    "    if click:\n",
    "        print(datetime.now().strftime('%H:%M:%S'), f\"Attempting to click on {click}\", f'get_file({title})')\n",
    "        button = driver.find_element(By.XPATH, click)\n",
    "        if button:\n",
    "            button.click()\n",
    "            print(datetime.now().strftime('%H:%M:%S'), f\"Clicked\", 'get_files')\n",
    "\n",
    "    wait = WebDriverWait(driver, 10)\n",
    "    search_input = wait.until(\n",
    "        EC.presence_of_element_located((By.CSS_SELECTOR, 'input[aria-label=\"Search for topics, locations & sources\"]'))\n",
    "    )\n",
    "\n",
    "    # Click on the input element\n",
    "    search_input.click()\n",
    "\n",
    "    # Type \"Salesforce (CRM)\" into the input element\n",
    "    search_str = f\"{company} ({symbol})\"\n",
    "    search_input.send_keys(search_str)\n",
    "    search_input.send_keys(Keys.RETURN)\n",
    "\n",
    "    for _ in range(scroll):\n",
    "        # scroll to bottom of infinite scrolling window\n",
    "        driver.execute_script(\n",
    "            \"window.scrollTo(0, document.body.scrollHeight);\")\n",
    "        print(datetime.now().strftime('%H:%M:%S'), \"Loading additional infinite scroll items\",\n",
    "            f'get_files({title})')\n",
    "        time.sleep(sleeptime)  # wait for it to load additional items\n",
    "\n",
    "    # Get the HTML source of the page\n",
    "    time.sleep(sleeptime)\n",
    "    html_source = driver.page_source\n",
    "\n",
    "    # check encoding, default utf-8\n",
    "    encoding = \"utf-8\"  # Default to UTF-8 if not specified\n",
    "    # Retrieve the content-type meta tag from the HTML. For now just use utf-8\n",
    "    #     try:\n",
    "    #         meta_tag = driver.find_element(\n",
    "    #             By.XPATH, \"//meta[@http-equiv='Content-Type']\")\n",
    "    #         content_type = meta_tag.get_attribute(\"content\")\n",
    "    #         # Typical format is \"text/html; charset=UTF-8\"\n",
    "    #         charset_start = content_type.find(\"charset=\")\n",
    "    #         if charset_start != -1:\n",
    "    #             encoding = content_type[charset_start + 8:]\n",
    "    #     except Exception as err:\n",
    "    #         log(str(err))\n",
    "\n",
    "    # Save the HTML to a local file\n",
    "    datestr = datetime.now().strftime(\"%m_%d_%Y %I_%M_%S %p\")\n",
    "    outfile = f'{title} ({datestr}).html'\n",
    "    print(datetime.now().strftime('%H:%M:%S'), f\"Saving {outfile} as {encoding}\", f'get_files({title})')\n",
    "    destpath = DOWNLOAD_DIR + \"/\" + outfile\n",
    "    with open(destpath, 'w', encoding=encoding) as file:\n",
    "        file.write(html_source)\n",
    "\n",
    "    return destpath\n",
    "\n",
    "# try:\n",
    "#     google_news_file = get_file('Google', 'https://news.google.com/home?hl=en-US&gl=US&ceid=US:en', 'CRM', 'Salesforce')\n",
    "# except Exception as exc:\n",
    "#     print(\"Get_file error\", exc)\n",
    "#     print(\"Retrying with new driver\")\n",
    "#     driver = init_driver()\n",
    "#     google_news_file = get_file('Google', 'https://news.google.com/home?hl=en-US&gl=US&ceid=US:en')\n",
    "\n"
   ]
  },
  {
   "cell_type": "code",
   "execution_count": 25,
   "id": "6cb969bb",
   "metadata": {},
   "outputs": [],
   "source": [
    "def get_path_from_url(url):\n",
    "    parsed_url = urlparse(url)\n",
    "    return parsed_url.path\n",
    "\n",
    "\n",
    "def trimmed_href(link):\n",
    "    \"\"\"\n",
    "    Trims everything in the link after a question mark such as a session ID.\n",
    "\n",
    "    :param link: The input string or bs4 link.\n",
    "    :return: The trimmed string.\n",
    "    \"\"\"\n",
    "    # Find the position of the question mark\n",
    "    if type(link) is str:\n",
    "        s = link\n",
    "    else:\n",
    "        s = link.get(\"href\")\n",
    "    if s:\n",
    "        question_mark_index = s.find(\"?\")\n",
    "\n",
    "        # If a question mark is found, trim the string up to that point\n",
    "        if question_mark_index != -1:\n",
    "            return s[:question_mark_index]\n",
    "        else:\n",
    "            # Return the original string if no question mark is found\n",
    "            return s\n",
    "    else:\n",
    "        return s\n",
    "\n",
    "def get_google_news(symbol, company, driver=None):\n",
    "\n",
    "    if not driver:\n",
    "        driver = init_driver()\n",
    "\n",
    "    try:\n",
    "        filename = get_file('Google', 'https://news.google.com/home?hl=en-US&gl=US&ceid=US:en', symbol, company, driver)\n",
    "    except Exception as exc:\n",
    "        print(\"Get_file error\", exc)\n",
    "        print(\"Retrying with new driver\")\n",
    "        driver = init_driver()\n",
    "        google_news_file = get_file('Google', 'https://news.google.com/home?hl=en-US&gl=US&ceid=US:en', symbol, company, driver)\n",
    "\n",
    "    retlist = []\n",
    "    with open(filename, \"r\") as file:\n",
    "        html_content = file.read()\n",
    "\n",
    "        # Parse the HTML content\n",
    "        soup = BeautifulSoup(html_content, \"html.parser\")\n",
    "\n",
    "        # Find all <a> tags\n",
    "        if soup:\n",
    "            links = soup.find_all(\"a\")\n",
    "        else:\n",
    "            print(datetime.now().strftime(f\"Skipping {url}, unable to parse\"))\n",
    "        print(datetime.now().strftime(f\"found {len(links)} raw links\"))\n",
    "\n",
    "        # drop empty text\n",
    "        links = [link for link in links if link.get_text(strip=True)]\n",
    "        # drop some ArsTechnica links that are just the number of comments and dupe the primary link\n",
    "        links = [link for link in links if not re.match(\n",
    "            \"^(\\d+)$\", link.get_text(strip=True))]\n",
    "\n",
    "        # convert relative links to absolute links using base URL if present\n",
    "        base_tag = soup.find('base')\n",
    "        base_url = base_tag.get('href') if base_tag else url\n",
    "        for link in links:\n",
    "            link[\"href\"] = urljoin(base_url, link.get('href', \"\"))\n",
    "\n",
    "        # drop empty url path, i.e. url = toplevel domain\n",
    "        links = [link for link in links if len(\n",
    "            get_path_from_url(trimmed_href(link))) > 1]\n",
    "        # drop anything that is not http, like javascript: or mailto:\n",
    "        links = [link for link in links if link.get(\n",
    "            \"href\") and link.get(\"href\").startswith(\"http\")]\n",
    "\n",
    "    #     if exclude:\n",
    "    #         for pattern in exclude:\n",
    "    #             # filter links by exclusion pattern\n",
    "    #             links = [\n",
    "    #                 link\n",
    "    #                 for link in links\n",
    "    #                 if link.get(\"href\") is not None and not re.match(pattern, link.get(\"href\"))\n",
    "    #             ]\n",
    "\n",
    "    #     if include:\n",
    "    #         for pattern in include:\n",
    "    #             newlinks = []\n",
    "    #             for link in links:\n",
    "    #                 href = link.get(\"href\")\n",
    "    #                 if href and re.match(pattern, href):\n",
    "    #                     newlinks.append(link)\n",
    "    #             links = newlinks\n",
    "\n",
    "        for link in links:\n",
    "            url = trimmed_href(link)\n",
    "            title = link.get_text(strip=True)\n",
    "            if title == \"LINK\":\n",
    "                # try to update title\n",
    "                og_dict = get_og_tags(url)\n",
    "                if og_dict.get(\"og:title\"):\n",
    "                    title = og_dict.get(\"og:title\")\n",
    "\n",
    "            # skip some low quality links that don't have full headline, like link to a Twitter or Threads account\n",
    "            if len(title) <= 10 and title != \"LINK\":\n",
    "                continue\n",
    "\n",
    "            retlist.append({\"title\": title, \"url\": url})\n",
    "\n",
    "        print(datetime.now().strftime(f\"found {len(retlist)} filtered links\"))\n",
    "\n",
    "    retdf = pd.DataFrame(retlist)\n",
    "    retdf[\"src\"] = \"Google News\"\n",
    "    retdf[\"date\"] = pd.to_datetime(datetime.now())\n",
    "    return retdf[[\"date\", \"title\", \"url\", \"src\"]]\n",
    "\n"
   ]
  },
  {
   "cell_type": "code",
   "execution_count": 27,
   "id": "c89a7cfd",
   "metadata": {},
   "outputs": [
    {
     "name": "stdout",
     "output_type": "stream",
     "text": [
      "21:45:07 Saving Google (06_26_2024 09_45_07 PM).html as utf-8 get_files(Google)\n",
      "found 350 raw links\n",
      "found 156 filtered links\n"
     ]
    }
   ],
   "source": [
    "google_news_df = get_google_news(symbol, company, driver)\n"
   ]
  },
  {
   "cell_type": "code",
   "execution_count": 28,
   "id": "bfe09886",
   "metadata": {},
   "outputs": [
    {
     "data": {
      "image/png": "[encoded data removed]",
      "text/plain": [
       "<IPython.core.display.Image object>"
      ]
     },
     "metadata": {},
     "output_type": "display_data"
    }
   ],
   "source": [
    "def fn_get_chart(driver, symbol):\n",
    "\n",
    "    # switch to Firefox\n",
    "    activate_app(\"Firefox\")\n",
    "\n",
    "    # Open the page\n",
    "    url = f\"https://stockcharts.com/h-sc/ui?s={symbol}&id=p33407302522&def=Y&listNum=1#\"\n",
    "    driver.get(url)\n",
    "\n",
    "    # Locate the img tag containing the chart image\n",
    "    chart_img = driver.find_element(By.ID, 'chartImg')\n",
    "\n",
    "    # Create a selenium ActionChains object\n",
    "    action_chains = ActionChains(driver)\n",
    "    # Right click the image to get the context menu to appear\n",
    "    action_chains.context_click(chart_img).perform()\n",
    "    # Wait for the context menu to appear\n",
    "    time.sleep(1)\n",
    "\n",
    "    # this is a aystem menu, can't use Selenium so use pyautogui\n",
    "    # Simulate keyboard presses to navigate and select the \"Save Image As...\" option\n",
    "    pyautogui.press('down')\n",
    "    pyautogui.press('down')\n",
    "    pyautogui.press('enter')\n",
    "    time.sleep(1)\n",
    "\n",
    "    # Wait for the \"Save As\" dialog to appear\n",
    "    time.sleep(1)\n",
    "    # type the filename\n",
    "    today_date_str = datetime.now().strftime(\"%Y-%m-%d-%H-%M-%S\")\n",
    "    save_path = f\"{symbol}-{today_date_str}\"\n",
    "    pyautogui.typewrite(save_path)\n",
    "    pyautogui.press('Enter')\n",
    "\n",
    "    img_path = save_path + \".png\"\n",
    "    # move it from default firefox download directory\n",
    "    source_path = f'{DEFAULT_DOWNLOAD_DIR}/{img_path}'\n",
    "    destination_path = f'{DOWNLOAD_DIR}/{img_path}'\n",
    "    shutil.move(source_path, destination_path)\n",
    "\n",
    "    return img_path\n",
    "\n",
    "activate_app(\"Firefox\")\n",
    "\n",
    "img_path = fn_get_chart(driver, symbol)\n",
    "\n",
    "# display the image\n",
    "with open(f\"{DOWNLOAD_DIR}/{img_path}\", 'rb') as f:\n",
    "    image_data = f.read()\n",
    "display(Image(image_data))\n"
   ]
  },
  {
   "cell_type": "code",
   "execution_count": 30,
   "id": "96e86bc1",
   "metadata": {},
   "outputs": [],
   "source": [
    "def get_news_obb(symbol, provider):\n",
    "    \n",
    "    current_date = datetime.now()\n",
    "    one_week_ago = current_date - timedelta(weeks=1)\n",
    "    formatted_start_date = one_week_ago.strftime(\"%Y-%m-%d\")\n",
    "    formatted_end_date = current_date.strftime(\"%Y-%m-%d\")\n",
    "\n",
    "    openbb_results = obb.news.company(symbol=symbol, provider=provider,\n",
    "                                      start_date=formatted_start_date, end_date=formatted_end_date)\n",
    "\n",
    "    obb_df = openbb_results.to_dataframe()\n",
    "    obb_df = obb_df.reset_index()[['date', 'title', 'url']]\n",
    "    obb_df['src'] = provider\n",
    "    return obb_df\n",
    "\n",
    "# polygon_news_df = get_news_obb(symbol, 'polygon')\n",
    "# polygon_news_df\n"
   ]
  },
  {
   "cell_type": "code",
   "execution_count": 31,
   "id": "5b2aee85",
   "metadata": {},
   "outputs": [
    {
     "data": {
      "text/html": [
       "<div>\n",
       "<style scoped>\n",
       "    .dataframe tbody tr th:only-of-type {\n",
       "        vertical-align: middle;\n",
       "    }\n",
       "\n",
       "    .dataframe tbody tr th {\n",
       "        vertical-align: top;\n",
       "    }\n",
       "\n",
       "    .dataframe thead th {\n",
       "        text-align: right;\n",
       "    }\n",
       "</style>\n",
       "<table border=\"1\" class=\"dataframe\">\n",
       "  <thead>\n",
       "    <tr style=\"text-align: right;\">\n",
       "      <th></th>\n",
       "      <th>date</th>\n",
       "      <th>title</th>\n",
       "      <th>url</th>\n",
       "      <th>src</th>\n",
       "    </tr>\n",
       "  </thead>\n",
       "  <tbody>\n",
       "    <tr>\n",
       "      <th>0</th>\n",
       "      <td>2019-08-08 09:00:00-04:00</td>\n",
       "      <td>Lilly Announces Positive Results for Emgality(...</td>\n",
       "      <td>https://money.tmx.com/quote/LLY/news/613753718...</td>\n",
       "      <td>tmx</td>\n",
       "    </tr>\n",
       "    <tr>\n",
       "      <th>1</th>\n",
       "      <td>2019-11-04 09:00:00-05:00</td>\n",
       "      <td>Boehringer Ingelheim and Lilly modernise allia...</td>\n",
       "      <td>https://money.tmx.com/quote/LLY/news/553574493...</td>\n",
       "      <td>tmx</td>\n",
       "    </tr>\n",
       "    <tr>\n",
       "      <th>2</th>\n",
       "      <td>2020-08-05 08:00:00-04:00</td>\n",
       "      <td>Empagliflozin meets primary endpoint in reduci...</td>\n",
       "      <td>https://money.tmx.com/quote/LLY/news/629707626...</td>\n",
       "      <td>tmx</td>\n",
       "    </tr>\n",
       "    <tr>\n",
       "      <th>3</th>\n",
       "      <td>2020-09-08 08:00:00-04:00</td>\n",
       "      <td>Empagliflozin reduced the combined relative ri...</td>\n",
       "      <td>https://money.tmx.com/quote/LLY/news/851679265...</td>\n",
       "      <td>tmx</td>\n",
       "    </tr>\n",
       "    <tr>\n",
       "      <th>4</th>\n",
       "      <td>2020-10-08 10:30:00-04:00</td>\n",
       "      <td>Lilly provides comprehensive update on progres...</td>\n",
       "      <td>https://money.tmx.com/quote/LLY/news/663147860...</td>\n",
       "      <td>tmx</td>\n",
       "    </tr>\n",
       "    <tr>\n",
       "      <th>...</th>\n",
       "      <td>...</td>\n",
       "      <td>...</td>\n",
       "      <td>...</td>\n",
       "      <td>...</td>\n",
       "    </tr>\n",
       "    <tr>\n",
       "      <th>62</th>\n",
       "      <td>2024-06-08 09:03:00-04:00</td>\n",
       "      <td>Lilly's tirzepatide was superior to placebo fo...</td>\n",
       "      <td>https://money.tmx.com/quote/LLY/news/568413571...</td>\n",
       "      <td>tmx</td>\n",
       "    </tr>\n",
       "    <tr>\n",
       "      <th>63</th>\n",
       "      <td>2024-06-11 08:45:00-04:00</td>\n",
       "      <td>Global Multiple Sclerosis Drugs Market Size Pr...</td>\n",
       "      <td>https://money.tmx.com/quote/LLY/news/715549674...</td>\n",
       "      <td>tmx</td>\n",
       "    </tr>\n",
       "    <tr>\n",
       "      <th>64</th>\n",
       "      <td>2024-06-21 15:49:00-04:00</td>\n",
       "      <td>Lilly's tirzepatide reduced obstructive sleep ...</td>\n",
       "      <td>https://money.tmx.com/quote/LLY/news/797025021...</td>\n",
       "      <td>tmx</td>\n",
       "    </tr>\n",
       "    <tr>\n",
       "      <th>65</th>\n",
       "      <td>2024-06-24 11:30:00-04:00</td>\n",
       "      <td>Lilly Declares Third-Quarter 2024 Dividend</td>\n",
       "      <td>https://money.tmx.com/quote/LLY/news/468748319...</td>\n",
       "      <td>tmx</td>\n",
       "    </tr>\n",
       "    <tr>\n",
       "      <th>66</th>\n",
       "      <td>2024-06-25 10:00:00-04:00</td>\n",
       "      <td>Lilly collaborates with OpenAI to discover nov...</td>\n",
       "      <td>https://money.tmx.com/quote/LLY/news/859508170...</td>\n",
       "      <td>tmx</td>\n",
       "    </tr>\n",
       "  </tbody>\n",
       "</table>\n",
       "<p>67 rows × 4 columns</p>\n",
       "</div>"
      ],
      "text/plain": [
       "                        date  \\\n",
       "0  2019-08-08 09:00:00-04:00   \n",
       "1  2019-11-04 09:00:00-05:00   \n",
       "2  2020-08-05 08:00:00-04:00   \n",
       "3  2020-09-08 08:00:00-04:00   \n",
       "4  2020-10-08 10:30:00-04:00   \n",
       "..                       ...   \n",
       "62 2024-06-08 09:03:00-04:00   \n",
       "63 2024-06-11 08:45:00-04:00   \n",
       "64 2024-06-21 15:49:00-04:00   \n",
       "65 2024-06-24 11:30:00-04:00   \n",
       "66 2024-06-25 10:00:00-04:00   \n",
       "\n",
       "                                                title  \\\n",
       "0   Lilly Announces Positive Results for Emgality(...   \n",
       "1   Boehringer Ingelheim and Lilly modernise allia...   \n",
       "2   Empagliflozin meets primary endpoint in reduci...   \n",
       "3   Empagliflozin reduced the combined relative ri...   \n",
       "4   Lilly provides comprehensive update on progres...   \n",
       "..                                                ...   \n",
       "62  Lilly's tirzepatide was superior to placebo fo...   \n",
       "63  Global Multiple Sclerosis Drugs Market Size Pr...   \n",
       "64  Lilly's tirzepatide reduced obstructive sleep ...   \n",
       "65         Lilly Declares Third-Quarter 2024 Dividend   \n",
       "66  Lilly collaborates with OpenAI to discover nov...   \n",
       "\n",
       "                                                  url  src  \n",
       "0   https://money.tmx.com/quote/LLY/news/613753718...  tmx  \n",
       "1   https://money.tmx.com/quote/LLY/news/553574493...  tmx  \n",
       "2   https://money.tmx.com/quote/LLY/news/629707626...  tmx  \n",
       "3   https://money.tmx.com/quote/LLY/news/851679265...  tmx  \n",
       "4   https://money.tmx.com/quote/LLY/news/663147860...  tmx  \n",
       "..                                                ...  ...  \n",
       "62  https://money.tmx.com/quote/LLY/news/568413571...  tmx  \n",
       "63  https://money.tmx.com/quote/LLY/news/715549674...  tmx  \n",
       "64  https://money.tmx.com/quote/LLY/news/797025021...  tmx  \n",
       "65  https://money.tmx.com/quote/LLY/news/468748319...  tmx  \n",
       "66  https://money.tmx.com/quote/LLY/news/859508170...  tmx  \n",
       "\n",
       "[67 rows x 4 columns]"
      ]
     },
     "execution_count": 31,
     "metadata": {},
     "output_type": "execute_result"
    }
   ],
   "source": [
    "tmx_news_df = get_news_obb(symbol, 'tmx')\n",
    "tmx_news_df\n"
   ]
  },
  {
   "cell_type": "code",
   "execution_count": 32,
   "id": "1b05bb81",
   "metadata": {},
   "outputs": [
    {
     "data": {
      "text/html": [
       "<div>\n",
       "<style scoped>\n",
       "    .dataframe tbody tr th:only-of-type {\n",
       "        vertical-align: middle;\n",
       "    }\n",
       "\n",
       "    .dataframe tbody tr th {\n",
       "        vertical-align: top;\n",
       "    }\n",
       "\n",
       "    .dataframe thead th {\n",
       "        text-align: right;\n",
       "    }\n",
       "</style>\n",
       "<table border=\"1\" class=\"dataframe\">\n",
       "  <thead>\n",
       "    <tr style=\"text-align: right;\">\n",
       "      <th></th>\n",
       "      <th>date</th>\n",
       "      <th>title</th>\n",
       "      <th>url</th>\n",
       "      <th>src</th>\n",
       "    </tr>\n",
       "  </thead>\n",
       "  <tbody>\n",
       "    <tr>\n",
       "      <th>0</th>\n",
       "      <td>2024-06-26 13:00:05</td>\n",
       "      <td>Why Investors Need to Take Advantage of These ...</td>\n",
       "      <td>https://finance.yahoo.com/news/why-investors-a...</td>\n",
       "      <td>yfinance</td>\n",
       "    </tr>\n",
       "    <tr>\n",
       "      <th>1</th>\n",
       "      <td>2024-06-26 14:48:57</td>\n",
       "      <td>Novo Nordisk, Eli Lilly still top 2 pharma sto...</td>\n",
       "      <td>https://finance.yahoo.com/video/novo-nordisk-e...</td>\n",
       "      <td>yfinance</td>\n",
       "    </tr>\n",
       "    <tr>\n",
       "      <th>2</th>\n",
       "      <td>2024-06-26 14:55:01</td>\n",
       "      <td>Yahoo Video: Novo Nordisk, Eli Lilly still top...</td>\n",
       "      <td>https://finance.yahoo.com/news/yahoo-video-nov...</td>\n",
       "      <td>yfinance</td>\n",
       "    </tr>\n",
       "    <tr>\n",
       "      <th>3</th>\n",
       "      <td>2024-06-26 16:55:26</td>\n",
       "      <td>The S&amp;P 500 and Nvidia, Chipotle stock split: ...</td>\n",
       "      <td>https://finance.yahoo.com/video/p-500-nvidia-c...</td>\n",
       "      <td>yfinance</td>\n",
       "    </tr>\n",
       "    <tr>\n",
       "      <th>4</th>\n",
       "      <td>2024-06-26 19:22:05</td>\n",
       "      <td>Lilly joins fellow pharma giants in OpenAI par...</td>\n",
       "      <td>https://finance.yahoo.com/m/a76ab61c-6e40-3ed7...</td>\n",
       "      <td>yfinance</td>\n",
       "    </tr>\n",
       "    <tr>\n",
       "      <th>5</th>\n",
       "      <td>2024-06-26 19:53:58</td>\n",
       "      <td>Lawmakers to vote on if Medicare could cover o...</td>\n",
       "      <td>https://finance.yahoo.com/video/lawmakers-vote...</td>\n",
       "      <td>yfinance</td>\n",
       "    </tr>\n",
       "    <tr>\n",
       "      <th>6</th>\n",
       "      <td>2024-06-26 21:45:21</td>\n",
       "      <td>Eli Lilly (LLY) Stock Drops Despite Market Gai...</td>\n",
       "      <td>https://finance.yahoo.com/news/eli-lilly-lly-s...</td>\n",
       "      <td>yfinance</td>\n",
       "    </tr>\n",
       "    <tr>\n",
       "      <th>7</th>\n",
       "      <td>2024-06-26 21:58:21</td>\n",
       "      <td>How consumer spending, election impact markets...</td>\n",
       "      <td>https://finance.yahoo.com/video/consumer-spend...</td>\n",
       "      <td>yfinance</td>\n",
       "    </tr>\n",
       "  </tbody>\n",
       "</table>\n",
       "</div>"
      ],
      "text/plain": [
       "                 date                                              title  \\\n",
       "0 2024-06-26 13:00:05  Why Investors Need to Take Advantage of These ...   \n",
       "1 2024-06-26 14:48:57  Novo Nordisk, Eli Lilly still top 2 pharma sto...   \n",
       "2 2024-06-26 14:55:01  Yahoo Video: Novo Nordisk, Eli Lilly still top...   \n",
       "3 2024-06-26 16:55:26  The S&P 500 and Nvidia, Chipotle stock split: ...   \n",
       "4 2024-06-26 19:22:05  Lilly joins fellow pharma giants in OpenAI par...   \n",
       "5 2024-06-26 19:53:58  Lawmakers to vote on if Medicare could cover o...   \n",
       "6 2024-06-26 21:45:21  Eli Lilly (LLY) Stock Drops Despite Market Gai...   \n",
       "7 2024-06-26 21:58:21  How consumer spending, election impact markets...   \n",
       "\n",
       "                                                 url       src  \n",
       "0  https://finance.yahoo.com/news/why-investors-a...  yfinance  \n",
       "1  https://finance.yahoo.com/video/novo-nordisk-e...  yfinance  \n",
       "2  https://finance.yahoo.com/news/yahoo-video-nov...  yfinance  \n",
       "3  https://finance.yahoo.com/video/p-500-nvidia-c...  yfinance  \n",
       "4  https://finance.yahoo.com/m/a76ab61c-6e40-3ed7...  yfinance  \n",
       "5  https://finance.yahoo.com/video/lawmakers-vote...  yfinance  \n",
       "6  https://finance.yahoo.com/news/eli-lilly-lly-s...  yfinance  \n",
       "7  https://finance.yahoo.com/video/consumer-spend...  yfinance  "
      ]
     },
     "execution_count": 32,
     "metadata": {},
     "output_type": "execute_result"
    }
   ],
   "source": [
    "yfinance_news_df = get_news_obb(symbol, 'yfinance')\n",
    "yfinance_news_df\n"
   ]
  },
  {
   "cell_type": "code",
   "execution_count": 33,
   "id": "22d1269e",
   "metadata": {},
   "outputs": [
    {
     "data": {
      "text/html": [
       "<div>\n",
       "<style scoped>\n",
       "    .dataframe tbody tr th:only-of-type {\n",
       "        vertical-align: middle;\n",
       "    }\n",
       "\n",
       "    .dataframe tbody tr th {\n",
       "        vertical-align: top;\n",
       "    }\n",
       "\n",
       "    .dataframe thead th {\n",
       "        text-align: right;\n",
       "    }\n",
       "</style>\n",
       "<table border=\"1\" class=\"dataframe\">\n",
       "  <thead>\n",
       "    <tr style=\"text-align: right;\">\n",
       "      <th></th>\n",
       "      <th>date</th>\n",
       "      <th>title</th>\n",
       "      <th>url</th>\n",
       "      <th>src</th>\n",
       "    </tr>\n",
       "  </thead>\n",
       "  <tbody>\n",
       "    <tr>\n",
       "      <th>0</th>\n",
       "      <td>2024-06-26 21:45:21+00:00</td>\n",
       "      <td>Eli Lilly  ( LLY )  Stock Drops Despite Market...</td>\n",
       "      <td>https://www.zacks.com/stock/news/2293935/eli-l...</td>\n",
       "      <td>alphavantage</td>\n",
       "    </tr>\n",
       "    <tr>\n",
       "      <th>1</th>\n",
       "      <td>2024-06-26 17:06:30+00:00</td>\n",
       "      <td>Active Fund Managers Bet These 6 Stocks Will T...</td>\n",
       "      <td>https://www.benzinga.com/markets/equities/24/0...</td>\n",
       "      <td>alphavantage</td>\n",
       "    </tr>\n",
       "    <tr>\n",
       "      <th>2</th>\n",
       "      <td>2024-06-26 12:50:05+00:00</td>\n",
       "      <td>Why Investors Need to Take Advantage of These ...</td>\n",
       "      <td>https://www.zacks.com/stock/news/2293477/why-i...</td>\n",
       "      <td>alphavantage</td>\n",
       "    </tr>\n",
       "    <tr>\n",
       "      <th>3</th>\n",
       "      <td>2024-06-26 12:32:00+00:00</td>\n",
       "      <td>La-Z-Boy and Winnebago have been highlighted a...</td>\n",
       "      <td>https://www.zacks.com/stock/news/2293447/la-z-...</td>\n",
       "      <td>alphavantage</td>\n",
       "    </tr>\n",
       "    <tr>\n",
       "      <th>4</th>\n",
       "      <td>2024-06-26 11:45:00+00:00</td>\n",
       "      <td>Better Growth Stock: Archer Aviation or Viking...</td>\n",
       "      <td>https://www.fool.com/investing/2024/06/26/bett...</td>\n",
       "      <td>alphavantage</td>\n",
       "    </tr>\n",
       "    <tr>\n",
       "      <th>5</th>\n",
       "      <td>2024-06-26 08:35:00+00:00</td>\n",
       "      <td>2 Reasons Why Eli Lilly's Stock Likely Hasn't ...</td>\n",
       "      <td>https://www.fool.com/investing/2024/06/26/2-re...</td>\n",
       "      <td>alphavantage</td>\n",
       "    </tr>\n",
       "    <tr>\n",
       "      <th>6</th>\n",
       "      <td>2024-06-25 18:12:26+00:00</td>\n",
       "      <td>Novo Nordisk's Older Generation Weight-Loss Dr...</td>\n",
       "      <td>https://www.benzinga.com/general/biotech/24/06...</td>\n",
       "      <td>alphavantage</td>\n",
       "    </tr>\n",
       "    <tr>\n",
       "      <th>7</th>\n",
       "      <td>2024-06-25 16:50:29+00:00</td>\n",
       "      <td>What's Going On With Eli Lilly Stock On Tuesda...</td>\n",
       "      <td>https://www.benzinga.com/general/biotech/24/06...</td>\n",
       "      <td>alphavantage</td>\n",
       "    </tr>\n",
       "    <tr>\n",
       "      <th>8</th>\n",
       "      <td>2024-06-25 14:22:00+00:00</td>\n",
       "      <td>Novo Nordisk  ( NVO )  to Invest $4.1B in Clay...</td>\n",
       "      <td>https://www.zacks.com/stock/news/2293002/novo-...</td>\n",
       "      <td>alphavantage</td>\n",
       "    </tr>\n",
       "    <tr>\n",
       "      <th>9</th>\n",
       "      <td>2024-06-25 14:00:00+00:00</td>\n",
       "      <td>Lilly collaborates with OpenAI to discover nov...</td>\n",
       "      <td>https://www.prnewswire.com/news-releases/lilly...</td>\n",
       "      <td>alphavantage</td>\n",
       "    </tr>\n",
       "    <tr>\n",
       "      <th>10</th>\n",
       "      <td>2024-06-25 13:48:07+00:00</td>\n",
       "      <td>This Is What Whales Are Betting On Eli Lilly a...</td>\n",
       "      <td>https://www.benzinga.com/insights/options/24/0...</td>\n",
       "      <td>alphavantage</td>\n",
       "    </tr>\n",
       "    <tr>\n",
       "      <th>11</th>\n",
       "      <td>2024-06-25 13:05:00+00:00</td>\n",
       "      <td>Is Eli Lilly  ( LLY )  a Buy on Tirzepatide Su...</td>\n",
       "      <td>https://www.zacks.com/stock/news/2292780/is-el...</td>\n",
       "      <td>alphavantage</td>\n",
       "    </tr>\n",
       "    <tr>\n",
       "      <th>12</th>\n",
       "      <td>2024-06-25 08:09:00+00:00</td>\n",
       "      <td>Company News for Jun 25, 2024</td>\n",
       "      <td>https://www.zacks.com/stock/news/2292592/compa...</td>\n",
       "      <td>alphavantage</td>\n",
       "    </tr>\n",
       "    <tr>\n",
       "      <th>13</th>\n",
       "      <td>2024-06-24 20:18:06+00:00</td>\n",
       "      <td>What's Going On With Eli Lilly Shares Monday? ...</td>\n",
       "      <td>https://www.benzinga.com/news/24/06/39466189/w...</td>\n",
       "      <td>alphavantage</td>\n",
       "    </tr>\n",
       "    <tr>\n",
       "      <th>14</th>\n",
       "      <td>2024-06-24 18:33:17+00:00</td>\n",
       "      <td>Why ResMed Shares Are Trading Lower Monday - R...</td>\n",
       "      <td>https://www.benzinga.com/news/24/06/39464160/w...</td>\n",
       "      <td>alphavantage</td>\n",
       "    </tr>\n",
       "    <tr>\n",
       "      <th>15</th>\n",
       "      <td>2024-06-24 18:08:51+00:00</td>\n",
       "      <td>Will Novo Nordisk Building Fires Serve As A Ca...</td>\n",
       "      <td>https://www.benzinga.com/general/biotech/24/06...</td>\n",
       "      <td>alphavantage</td>\n",
       "    </tr>\n",
       "    <tr>\n",
       "      <th>16</th>\n",
       "      <td>2024-06-24 13:23:00+00:00</td>\n",
       "      <td>Lilly's Weight-Loss Drug Takes Down ResMed, In...</td>\n",
       "      <td>https://www.investors.com/news/technology/resm...</td>\n",
       "      <td>alphavantage</td>\n",
       "    </tr>\n",
       "    <tr>\n",
       "      <th>17</th>\n",
       "      <td>2024-06-24 13:00:15+00:00</td>\n",
       "      <td>Investors Heavily Search Eli Lilly and Company...</td>\n",
       "      <td>https://www.zacks.com/stock/news/2292048/inves...</td>\n",
       "      <td>alphavantage</td>\n",
       "    </tr>\n",
       "    <tr>\n",
       "      <th>18</th>\n",
       "      <td>2024-06-24 12:29:43+00:00</td>\n",
       "      <td>What's Going On With Eli Lilly Stock On Monday...</td>\n",
       "      <td>https://www.benzinga.com/general/biotech/24/06...</td>\n",
       "      <td>alphavantage</td>\n",
       "    </tr>\n",
       "    <tr>\n",
       "      <th>19</th>\n",
       "      <td>2024-06-24 11:15:55+00:00</td>\n",
       "      <td>The Future of Weight-Loss Drugs for Investors</td>\n",
       "      <td>https://www.kiplinger.com/investing/healthcare...</td>\n",
       "      <td>alphavantage</td>\n",
       "    </tr>\n",
       "    <tr>\n",
       "      <th>20</th>\n",
       "      <td>2024-06-21 21:40:40+00:00</td>\n",
       "      <td>All Public Company News from PR Newswire</td>\n",
       "      <td>https://www.prnewswire.com/news-releases/all-p...</td>\n",
       "      <td>alphavantage</td>\n",
       "    </tr>\n",
       "    <tr>\n",
       "      <th>21</th>\n",
       "      <td>2024-06-21 19:31:14+00:00</td>\n",
       "      <td>The Zacks Analyst Blog Highlights Pfizer, John...</td>\n",
       "      <td>https://www.benzinga.com/general/biotech/24/06...</td>\n",
       "      <td>alphavantage</td>\n",
       "    </tr>\n",
       "    <tr>\n",
       "      <th>22</th>\n",
       "      <td>2024-06-21 15:42:22+00:00</td>\n",
       "      <td>Gilead Sciences Faces Wall Street Speculation ...</td>\n",
       "      <td>https://www.benzinga.com/general/biotech/24/06...</td>\n",
       "      <td>alphavantage</td>\n",
       "    </tr>\n",
       "    <tr>\n",
       "      <th>23</th>\n",
       "      <td>2024-06-21 12:30:03+00:00</td>\n",
       "      <td>Here's How Much a $1000 Investment in Eli Lill...</td>\n",
       "      <td>https://www.zacks.com/stock/news/2291308/heres...</td>\n",
       "      <td>alphavantage</td>\n",
       "    </tr>\n",
       "    <tr>\n",
       "      <th>24</th>\n",
       "      <td>2024-06-21 12:12:28+00:00</td>\n",
       "      <td>Move Aside Ozempic, WeGovy: Denmark's New Drug...</td>\n",
       "      <td>https://www.benzinga.com/general/biotech/24/06...</td>\n",
       "      <td>alphavantage</td>\n",
       "    </tr>\n",
       "    <tr>\n",
       "      <th>25</th>\n",
       "      <td>2024-06-21 11:59:00+00:00</td>\n",
       "      <td>The Zacks Analyst Blog Highlights Pfizer, John...</td>\n",
       "      <td>https://www.zacks.com/stock/news/2291339/the-z...</td>\n",
       "      <td>alphavantage</td>\n",
       "    </tr>\n",
       "    <tr>\n",
       "      <th>26</th>\n",
       "      <td>2024-06-21 10:18:15+00:00</td>\n",
       "      <td>Nestle Carefully Targets Weight-Loss Drug User...</td>\n",
       "      <td>https://www.benzinga.com/general/biotech/24/06...</td>\n",
       "      <td>alphavantage</td>\n",
       "    </tr>\n",
       "    <tr>\n",
       "      <th>27</th>\n",
       "      <td>2024-06-21 09:51:00+00:00</td>\n",
       "      <td>Forget Eli Lilly, Buy This Magnificent Biotech...</td>\n",
       "      <td>https://www.fool.com/investing/2024/06/21/forg...</td>\n",
       "      <td>alphavantage</td>\n",
       "    </tr>\n",
       "    <tr>\n",
       "      <th>28</th>\n",
       "      <td>2024-06-20 21:45:19+00:00</td>\n",
       "      <td>Eli Lilly  ( LLY )  Registers a Bigger Fall Th...</td>\n",
       "      <td>https://www.zacks.com/stock/news/2291076/eli-l...</td>\n",
       "      <td>alphavantage</td>\n",
       "    </tr>\n",
       "    <tr>\n",
       "      <th>29</th>\n",
       "      <td>2024-06-20 18:25:00+00:00</td>\n",
       "      <td>Eli Lilly Has a New Drug That Could Push the S...</td>\n",
       "      <td>https://www.fool.com/investing/2024/06/20/eli-...</td>\n",
       "      <td>alphavantage</td>\n",
       "    </tr>\n",
       "    <tr>\n",
       "      <th>30</th>\n",
       "      <td>2024-06-20 17:46:42+00:00</td>\n",
       "      <td>German Drug Developer Evotec Seeks Adviser Inp...</td>\n",
       "      <td>https://www.benzinga.com/general/biotech/24/06...</td>\n",
       "      <td>alphavantage</td>\n",
       "    </tr>\n",
       "    <tr>\n",
       "      <th>31</th>\n",
       "      <td>2024-06-20 13:01:00+00:00</td>\n",
       "      <td>Here's Why Eli Lilly  ( LLY )  is Probably the...</td>\n",
       "      <td>https://www.zacks.com/stock/news/2290782/heres...</td>\n",
       "      <td>alphavantage</td>\n",
       "    </tr>\n",
       "    <tr>\n",
       "      <th>32</th>\n",
       "      <td>2024-06-20 12:30:00+00:00</td>\n",
       "      <td>Eli Lilly's Growth Prospects Just Got a Huge U...</td>\n",
       "      <td>https://www.fool.com/investing/2024/06/20/eli-...</td>\n",
       "      <td>alphavantage</td>\n",
       "    </tr>\n",
       "    <tr>\n",
       "      <th>33</th>\n",
       "      <td>2024-06-20 11:44:10+00:00</td>\n",
       "      <td>Eli Lilly Expands Fight Against Counterfeit Ob...</td>\n",
       "      <td>https://www.benzinga.com/markets/equities/24/0...</td>\n",
       "      <td>alphavantage</td>\n",
       "    </tr>\n",
       "    <tr>\n",
       "      <th>34</th>\n",
       "      <td>2024-06-19 17:00:00+00:00</td>\n",
       "      <td>Can Eli Lilly ETFs Surge on Approval of Alzhei...</td>\n",
       "      <td>https://www.zacks.com/stock/news/2290613/can-e...</td>\n",
       "      <td>alphavantage</td>\n",
       "    </tr>\n",
       "  </tbody>\n",
       "</table>\n",
       "</div>"
      ],
      "text/plain": [
       "                        date  \\\n",
       "0  2024-06-26 21:45:21+00:00   \n",
       "1  2024-06-26 17:06:30+00:00   \n",
       "2  2024-06-26 12:50:05+00:00   \n",
       "3  2024-06-26 12:32:00+00:00   \n",
       "4  2024-06-26 11:45:00+00:00   \n",
       "5  2024-06-26 08:35:00+00:00   \n",
       "6  2024-06-25 18:12:26+00:00   \n",
       "7  2024-06-25 16:50:29+00:00   \n",
       "8  2024-06-25 14:22:00+00:00   \n",
       "9  2024-06-25 14:00:00+00:00   \n",
       "10 2024-06-25 13:48:07+00:00   \n",
       "11 2024-06-25 13:05:00+00:00   \n",
       "12 2024-06-25 08:09:00+00:00   \n",
       "13 2024-06-24 20:18:06+00:00   \n",
       "14 2024-06-24 18:33:17+00:00   \n",
       "15 2024-06-24 18:08:51+00:00   \n",
       "16 2024-06-24 13:23:00+00:00   \n",
       "17 2024-06-24 13:00:15+00:00   \n",
       "18 2024-06-24 12:29:43+00:00   \n",
       "19 2024-06-24 11:15:55+00:00   \n",
       "20 2024-06-21 21:40:40+00:00   \n",
       "21 2024-06-21 19:31:14+00:00   \n",
       "22 2024-06-21 15:42:22+00:00   \n",
       "23 2024-06-21 12:30:03+00:00   \n",
       "24 2024-06-21 12:12:28+00:00   \n",
       "25 2024-06-21 11:59:00+00:00   \n",
       "26 2024-06-21 10:18:15+00:00   \n",
       "27 2024-06-21 09:51:00+00:00   \n",
       "28 2024-06-20 21:45:19+00:00   \n",
       "29 2024-06-20 18:25:00+00:00   \n",
       "30 2024-06-20 17:46:42+00:00   \n",
       "31 2024-06-20 13:01:00+00:00   \n",
       "32 2024-06-20 12:30:00+00:00   \n",
       "33 2024-06-20 11:44:10+00:00   \n",
       "34 2024-06-19 17:00:00+00:00   \n",
       "\n",
       "                                                title  \\\n",
       "0   Eli Lilly  ( LLY )  Stock Drops Despite Market...   \n",
       "1   Active Fund Managers Bet These 6 Stocks Will T...   \n",
       "2   Why Investors Need to Take Advantage of These ...   \n",
       "3   La-Z-Boy and Winnebago have been highlighted a...   \n",
       "4   Better Growth Stock: Archer Aviation or Viking...   \n",
       "5   2 Reasons Why Eli Lilly's Stock Likely Hasn't ...   \n",
       "6   Novo Nordisk's Older Generation Weight-Loss Dr...   \n",
       "7   What's Going On With Eli Lilly Stock On Tuesda...   \n",
       "8   Novo Nordisk  ( NVO )  to Invest $4.1B in Clay...   \n",
       "9   Lilly collaborates with OpenAI to discover nov...   \n",
       "10  This Is What Whales Are Betting On Eli Lilly a...   \n",
       "11  Is Eli Lilly  ( LLY )  a Buy on Tirzepatide Su...   \n",
       "12                      Company News for Jun 25, 2024   \n",
       "13  What's Going On With Eli Lilly Shares Monday? ...   \n",
       "14  Why ResMed Shares Are Trading Lower Monday - R...   \n",
       "15  Will Novo Nordisk Building Fires Serve As A Ca...   \n",
       "16  Lilly's Weight-Loss Drug Takes Down ResMed, In...   \n",
       "17  Investors Heavily Search Eli Lilly and Company...   \n",
       "18  What's Going On With Eli Lilly Stock On Monday...   \n",
       "19      The Future of Weight-Loss Drugs for Investors   \n",
       "20           All Public Company News from PR Newswire   \n",
       "21  The Zacks Analyst Blog Highlights Pfizer, John...   \n",
       "22  Gilead Sciences Faces Wall Street Speculation ...   \n",
       "23  Here's How Much a $1000 Investment in Eli Lill...   \n",
       "24  Move Aside Ozempic, WeGovy: Denmark's New Drug...   \n",
       "25  The Zacks Analyst Blog Highlights Pfizer, John...   \n",
       "26  Nestle Carefully Targets Weight-Loss Drug User...   \n",
       "27  Forget Eli Lilly, Buy This Magnificent Biotech...   \n",
       "28  Eli Lilly  ( LLY )  Registers a Bigger Fall Th...   \n",
       "29  Eli Lilly Has a New Drug That Could Push the S...   \n",
       "30  German Drug Developer Evotec Seeks Adviser Inp...   \n",
       "31  Here's Why Eli Lilly  ( LLY )  is Probably the...   \n",
       "32  Eli Lilly's Growth Prospects Just Got a Huge U...   \n",
       "33  Eli Lilly Expands Fight Against Counterfeit Ob...   \n",
       "34  Can Eli Lilly ETFs Surge on Approval of Alzhei...   \n",
       "\n",
       "                                                  url           src  \n",
       "0   https://www.zacks.com/stock/news/2293935/eli-l...  alphavantage  \n",
       "1   https://www.benzinga.com/markets/equities/24/0...  alphavantage  \n",
       "2   https://www.zacks.com/stock/news/2293477/why-i...  alphavantage  \n",
       "3   https://www.zacks.com/stock/news/2293447/la-z-...  alphavantage  \n",
       "4   https://www.fool.com/investing/2024/06/26/bett...  alphavantage  \n",
       "5   https://www.fool.com/investing/2024/06/26/2-re...  alphavantage  \n",
       "6   https://www.benzinga.com/general/biotech/24/06...  alphavantage  \n",
       "7   https://www.benzinga.com/general/biotech/24/06...  alphavantage  \n",
       "8   https://www.zacks.com/stock/news/2293002/novo-...  alphavantage  \n",
       "9   https://www.prnewswire.com/news-releases/lilly...  alphavantage  \n",
       "10  https://www.benzinga.com/insights/options/24/0...  alphavantage  \n",
       "11  https://www.zacks.com/stock/news/2292780/is-el...  alphavantage  \n",
       "12  https://www.zacks.com/stock/news/2292592/compa...  alphavantage  \n",
       "13  https://www.benzinga.com/news/24/06/39466189/w...  alphavantage  \n",
       "14  https://www.benzinga.com/news/24/06/39464160/w...  alphavantage  \n",
       "15  https://www.benzinga.com/general/biotech/24/06...  alphavantage  \n",
       "16  https://www.investors.com/news/technology/resm...  alphavantage  \n",
       "17  https://www.zacks.com/stock/news/2292048/inves...  alphavantage  \n",
       "18  https://www.benzinga.com/general/biotech/24/06...  alphavantage  \n",
       "19  https://www.kiplinger.com/investing/healthcare...  alphavantage  \n",
       "20  https://www.prnewswire.com/news-releases/all-p...  alphavantage  \n",
       "21  https://www.benzinga.com/general/biotech/24/06...  alphavantage  \n",
       "22  https://www.benzinga.com/general/biotech/24/06...  alphavantage  \n",
       "23  https://www.zacks.com/stock/news/2291308/heres...  alphavantage  \n",
       "24  https://www.benzinga.com/general/biotech/24/06...  alphavantage  \n",
       "25  https://www.zacks.com/stock/news/2291339/the-z...  alphavantage  \n",
       "26  https://www.benzinga.com/general/biotech/24/06...  alphavantage  \n",
       "27  https://www.fool.com/investing/2024/06/21/forg...  alphavantage  \n",
       "28  https://www.zacks.com/stock/news/2291076/eli-l...  alphavantage  \n",
       "29  https://www.fool.com/investing/2024/06/20/eli-...  alphavantage  \n",
       "30  https://www.benzinga.com/general/biotech/24/06...  alphavantage  \n",
       "31  https://www.zacks.com/stock/news/2290782/heres...  alphavantage  \n",
       "32  https://www.fool.com/investing/2024/06/20/eli-...  alphavantage  \n",
       "33  https://www.benzinga.com/markets/equities/24/0...  alphavantage  \n",
       "34  https://www.zacks.com/stock/news/2290613/can-e...  alphavantage  "
      ]
     },
     "execution_count": 33,
     "metadata": {},
     "output_type": "execute_result"
    }
   ],
   "source": [
    "def get_news_alphavantage(symbol):\n",
    "\n",
    "    ALPHAVANTAGE_API_KEY = os.environ['ALPHAVANTAGE_API_KEY']\n",
    "    current_date = datetime.now()\n",
    "    one_week_ago = current_date - timedelta(weeks=1)\n",
    "    formatted_start_date = one_week_ago.strftime('%Y%m%dT0000')\n",
    "    formatted_end_date = current_date.strftime('%Y%m%dT%H%M%S')\n",
    "    url = f'https://www.alphavantage.co/query?function=NEWS_SENTIMENT&tickers={symbol}&time_from={formatted_start_date}&limit=100&apikey={ALPHAVANTAGE_API_KEY}'\n",
    "    r = requests.get(url)\n",
    "    data = r.json()\n",
    "\n",
    "    # for item in data['feed']:\n",
    "    #     markdown_str = \"\"\n",
    "    #     date_object = datetime.strptime(item['time_published'], \"%Y%m%dT%H%M%S\")\n",
    "    #     item['title'] = item['title'].replace(\"$\", \"\\\\\\$\")\n",
    "    #     markdown_str += f\"[{str(date_object)} {item['title']}]({item['url']})\\n {item['summary']}\"\n",
    "    #     display(Markdown(markdown_str))\n",
    "\n",
    "    alphavantage_df = pd.DataFrame(data['feed'])\n",
    "    alphavantage_df['date'] = pd.to_datetime(alphavantage_df['time_published'], format='%Y%m%dT%H%M%S', utc=True)\n",
    "    alphavantage_df = alphavantage_df[['date', 'title', 'url']]\n",
    "    alphavantage_df['src'] = 'alphavantage'\n",
    "    return alphavantage_df\n",
    "\n",
    "alphavantage_df = get_news_alphavantage(symbol)\n",
    "alphavantage_df\n"
   ]
  },
  {
   "cell_type": "code",
   "execution_count": 34,
   "id": "886494f0",
   "metadata": {},
   "outputs": [],
   "source": [
    "def get_news_newsapi(symbol):\n",
    "\n",
    "    api = NewsApiClient(api_key=os.environ['NEWSAPI_API_KEY'])\n",
    "    current_date = datetime.now()\n",
    "    one_week_ago = current_date - timedelta(weeks=1)\n",
    "    formatted_start_date = one_week_ago.strftime('%Y-%m-%d')\n",
    "    formatted_end_date = current_date.strftime('%Y-%m-%d')\n",
    "    \n",
    "    all_articles = api.get_everything(q=symbol,\n",
    "    #                                       sources='bbc-news,the-verge',\n",
    "    #                                       domains='bbc.co.uk,techcrunch.com',\n",
    "                                          from_param=formatted_start_date,\n",
    "                                          to=formatted_end_date,\n",
    "                                          language='en',\n",
    "                                          sort_by='relevancy',\n",
    "                                          page=1)\n",
    "\n",
    "#     for item in all_articles['articles']:\n",
    "#         markdown_str = \"\"\n",
    "#         datestr = item['publishedAt'].split(\".\")[0]\n",
    "#         if datestr[-1]=='Z':\n",
    "#             datestr = datestr[:-1]\n",
    "#         date_object = datetime.strptime(datestr, \"%Y-%m-%dT%H:%M:%S\")\n",
    "#         item['title'] = item['title'].replace(\"$\", \"\\\\\\$\")\n",
    "#         item['description'] = item['description'].replace(\"$\", \"\\\\\\$\")\n",
    "#         markdown_str += f\"[{str(date_object)} {item['title']}]({item['url']})\\n {item['description']}\"\n",
    "#         display(Markdown(markdown_str))\n",
    "\n",
    "    newsapi_df = pd.DataFrame(all_articles['articles'])\n",
    "    newsapi_df['date'] = pd.to_datetime(newsapi_df['publishedAt'], utc=True)\n",
    "    newsapi_df = newsapi_df[['date', 'title', 'url']]\n",
    "    newsapi_df['src'] = 'NewsApi'\n",
    "    return newsapi_df\n",
    "\n",
    "# newsapi_df = get_news_newsapi(symbol)\n",
    "# newsapi_df\n"
   ]
  },
  {
   "cell_type": "code",
   "execution_count": 35,
   "id": "503f7f7a",
   "metadata": {},
   "outputs": [
    {
     "data": {
      "text/html": [
       "<div>\n",
       "<style scoped>\n",
       "    .dataframe tbody tr th:only-of-type {\n",
       "        vertical-align: middle;\n",
       "    }\n",
       "\n",
       "    .dataframe tbody tr th {\n",
       "        vertical-align: top;\n",
       "    }\n",
       "\n",
       "    .dataframe thead th {\n",
       "        text-align: right;\n",
       "    }\n",
       "</style>\n",
       "<table border=\"1\" class=\"dataframe\">\n",
       "  <thead>\n",
       "    <tr style=\"text-align: right;\">\n",
       "      <th></th>\n",
       "      <th>date</th>\n",
       "      <th>title</th>\n",
       "      <th>url</th>\n",
       "      <th>src</th>\n",
       "    </tr>\n",
       "  </thead>\n",
       "  <tbody>\n",
       "    <tr>\n",
       "      <th>0</th>\n",
       "      <td>2024-06-23 20:14:16+00:00</td>\n",
       "      <td>Did Eli Lilly and Company (LLY) Achieve Its 10...</td>\n",
       "      <td>https://consent.yahoo.com/v2/collectConsent?se...</td>\n",
       "      <td>NewsApi</td>\n",
       "    </tr>\n",
       "    <tr>\n",
       "      <th>1</th>\n",
       "      <td>2024-06-24 14:33:56+00:00</td>\n",
       "      <td>What Makes Eli Lilly &amp; Company (LLY) a Hot Hea...</td>\n",
       "      <td>https://finance.yahoo.com/news/makes-eli-lilly...</td>\n",
       "      <td>NewsApi</td>\n",
       "    </tr>\n",
       "    <tr>\n",
       "      <th>2</th>\n",
       "      <td>2024-06-21 19:25:37+00:00</td>\n",
       "      <td>How Long Can Extreme Concentration Last?</td>\n",
       "      <td>https://www.forbes.com/sites/randywatts/2024/0...</td>\n",
       "      <td>NewsApi</td>\n",
       "    </tr>\n",
       "    <tr>\n",
       "      <th>3</th>\n",
       "      <td>2024-06-20 18:07:41+00:00</td>\n",
       "      <td>WHO and Eli Lilly caution patients against fal...</td>\n",
       "      <td>https://finance.yahoo.com/news/eli-lilly-cauti...</td>\n",
       "      <td>NewsApi</td>\n",
       "    </tr>\n",
       "    <tr>\n",
       "      <th>4</th>\n",
       "      <td>2024-06-21 15:22:49+00:00</td>\n",
       "      <td>US Stocks Are Showing Signs Of Extreme Divergence</td>\n",
       "      <td>https://www.forbes.com/sites/seanhanlon-1/2024...</td>\n",
       "      <td>NewsApi</td>\n",
       "    </tr>\n",
       "    <tr>\n",
       "      <th>...</th>\n",
       "      <td>...</td>\n",
       "      <td>...</td>\n",
       "      <td>...</td>\n",
       "      <td>...</td>\n",
       "    </tr>\n",
       "    <tr>\n",
       "      <th>95</th>\n",
       "      <td>2024-06-24 19:12:41+00:00</td>\n",
       "      <td>Eli Lilly and Company (NYSE:LLY) Shares Acquir...</td>\n",
       "      <td>https://www.etfdailynews.com/2024/06/24/eli-li...</td>\n",
       "      <td>NewsApi</td>\n",
       "    </tr>\n",
       "    <tr>\n",
       "      <th>96</th>\n",
       "      <td>2024-06-26 14:36:46+00:00</td>\n",
       "      <td>Eli Lilly and Company (NYSE:LLY) Shares Sold b...</td>\n",
       "      <td>https://www.etfdailynews.com/2024/06/26/eli-li...</td>\n",
       "      <td>NewsApi</td>\n",
       "    </tr>\n",
       "    <tr>\n",
       "      <th>97</th>\n",
       "      <td>2024-06-25 17:04:43+00:00</td>\n",
       "      <td>Eli Lilly and Company (NYSE:LLY) Shares Sold b...</td>\n",
       "      <td>https://www.etfdailynews.com/2024/06/25/eli-li...</td>\n",
       "      <td>NewsApi</td>\n",
       "    </tr>\n",
       "    <tr>\n",
       "      <th>98</th>\n",
       "      <td>2024-06-25 18:12:42+00:00</td>\n",
       "      <td>Harbor Investment Advisory LLC Purchases 421 S...</td>\n",
       "      <td>https://www.etfdailynews.com/2024/06/25/harbor...</td>\n",
       "      <td>NewsApi</td>\n",
       "    </tr>\n",
       "    <tr>\n",
       "      <th>99</th>\n",
       "      <td>2024-06-20 17:14:42+00:00</td>\n",
       "      <td>Tompkins Financial Corp Has $24 Million Positi...</td>\n",
       "      <td>https://www.etfdailynews.com/2024/06/20/tompki...</td>\n",
       "      <td>NewsApi</td>\n",
       "    </tr>\n",
       "  </tbody>\n",
       "</table>\n",
       "<p>100 rows × 4 columns</p>\n",
       "</div>"
      ],
      "text/plain": [
       "                        date  \\\n",
       "0  2024-06-23 20:14:16+00:00   \n",
       "1  2024-06-24 14:33:56+00:00   \n",
       "2  2024-06-21 19:25:37+00:00   \n",
       "3  2024-06-20 18:07:41+00:00   \n",
       "4  2024-06-21 15:22:49+00:00   \n",
       "..                       ...   \n",
       "95 2024-06-24 19:12:41+00:00   \n",
       "96 2024-06-26 14:36:46+00:00   \n",
       "97 2024-06-25 17:04:43+00:00   \n",
       "98 2024-06-25 18:12:42+00:00   \n",
       "99 2024-06-20 17:14:42+00:00   \n",
       "\n",
       "                                                title  \\\n",
       "0   Did Eli Lilly and Company (LLY) Achieve Its 10...   \n",
       "1   What Makes Eli Lilly & Company (LLY) a Hot Hea...   \n",
       "2            How Long Can Extreme Concentration Last?   \n",
       "3   WHO and Eli Lilly caution patients against fal...   \n",
       "4   US Stocks Are Showing Signs Of Extreme Divergence   \n",
       "..                                                ...   \n",
       "95  Eli Lilly and Company (NYSE:LLY) Shares Acquir...   \n",
       "96  Eli Lilly and Company (NYSE:LLY) Shares Sold b...   \n",
       "97  Eli Lilly and Company (NYSE:LLY) Shares Sold b...   \n",
       "98  Harbor Investment Advisory LLC Purchases 421 S...   \n",
       "99  Tompkins Financial Corp Has $24 Million Positi...   \n",
       "\n",
       "                                                  url      src  \n",
       "0   https://consent.yahoo.com/v2/collectConsent?se...  NewsApi  \n",
       "1   https://finance.yahoo.com/news/makes-eli-lilly...  NewsApi  \n",
       "2   https://www.forbes.com/sites/randywatts/2024/0...  NewsApi  \n",
       "3   https://finance.yahoo.com/news/eli-lilly-cauti...  NewsApi  \n",
       "4   https://www.forbes.com/sites/seanhanlon-1/2024...  NewsApi  \n",
       "..                                                ...      ...  \n",
       "95  https://www.etfdailynews.com/2024/06/24/eli-li...  NewsApi  \n",
       "96  https://www.etfdailynews.com/2024/06/26/eli-li...  NewsApi  \n",
       "97  https://www.etfdailynews.com/2024/06/25/eli-li...  NewsApi  \n",
       "98  https://www.etfdailynews.com/2024/06/25/harbor...  NewsApi  \n",
       "99  https://www.etfdailynews.com/2024/06/20/tompki...  NewsApi  \n",
       "\n",
       "[100 rows x 4 columns]"
      ]
     },
     "execution_count": 35,
     "metadata": {},
     "output_type": "execute_result"
    }
   ],
   "source": [
    "newsapi_df = get_news_newsapi(symbol)\n",
    "newsapi_df\n"
   ]
  },
  {
   "cell_type": "code",
   "execution_count": 36,
   "id": "61ad16b5",
   "metadata": {},
   "outputs": [],
   "source": [
    "def get_news_newsfilter(symbol):\n",
    "\n",
    "    API_KEY = os.environ['NEWSFILTER_API_KEY']\n",
    "    API_ENDPOINT = \"https://api.newsfilter.io/search?token={}\".format(API_KEY)\n",
    "    \n",
    "    current_date = datetime.now()\n",
    "    one_week_ago = current_date - timedelta(weeks=1)\n",
    "    formatted_start_date = one_week_ago.strftime('%Y-%m-%d')\n",
    "    formatted_end_date = current_date.strftime('%Y-%m-%d')\n",
    "\n",
    "    # Define the news search parameters\n",
    "    queryString = f\"(source.id:sec-api OR source.id:prNewswire OR source.id:businesswire) AND symbols:{symbol} AND publishedAt:[{formatted_start_date} TO {formatted_end_date}]\"\n",
    "    # queryString = \"(source.id:businesswire) AND publishedAt:[2023-08-15 TO 2023-08-16]\"\n",
    "    payload = {\n",
    "        \"queryString\": queryString,\n",
    "        \"from\": 0,\n",
    "        \"size\": 200\n",
    "    }\n",
    "\n",
    "    # Send the search query to the Search API\n",
    "    response = requests.post(API_ENDPOINT, json=payload)\n",
    "\n",
    "    # Read the response\n",
    "    articles = response.json()\n",
    "\n",
    "    if len(articles['articles']) == 0:   # return empty dataframe\n",
    "        return pd.DataFrame(columns=['date', 'title', 'url', 'src'])\n",
    "\n",
    "#     for item in articles['articles']:\n",
    "#         markdown_str = \"\"\n",
    "#         date_array = item['publishedAt'].split(\"T\")\n",
    "#         datestr = date_array[0] + \"T\" + date_array[1][:8]\n",
    "#     #     print(item['publishedAt'])\n",
    "#     #     print(date_array)\n",
    "#     #     print(datestr)\n",
    "#         date_object = datetime.strptime(datestr, \"%Y-%m-%dT%H:%M:%S\")\n",
    "#         item['title'] = item['title'].replace(\"$\", \"\\\\\\$\")\n",
    "#         item['description'] = item['description'].replace(\"$\", \"\\\\\\$\")\n",
    "#         markdown_str += f\"[{str(date_object)} {item['title']}]({item['url']})\\n {item['description']}\"\n",
    "#         display(Markdown(markdown_str))\n",
    "\n",
    "    newsfilter_df = pd.DataFrame(articles['articles'])\n",
    "    newsfilter_df['date'] = pd.to_datetime(newsfilter_df['publishedAt'], utc=True)\n",
    "    newsfilter_df = newsfilter_df[['date', 'title', 'url']]\n",
    "    newsfilter_df['src'] = 'NewsFilter'\n",
    "    return newsfilter_df\n",
    "\n",
    "# newsfilter_df = get_news_newsfilter(symbol)\n",
    "# newsfilter_df\n"
   ]
  },
  {
   "cell_type": "code",
   "execution_count": 37,
   "id": "1776b5fc",
   "metadata": {},
   "outputs": [
    {
     "data": {
      "text/html": [
       "<div>\n",
       "<style scoped>\n",
       "    .dataframe tbody tr th:only-of-type {\n",
       "        vertical-align: middle;\n",
       "    }\n",
       "\n",
       "    .dataframe tbody tr th {\n",
       "        vertical-align: top;\n",
       "    }\n",
       "\n",
       "    .dataframe thead th {\n",
       "        text-align: right;\n",
       "    }\n",
       "</style>\n",
       "<table border=\"1\" class=\"dataframe\">\n",
       "  <thead>\n",
       "    <tr style=\"text-align: right;\">\n",
       "      <th></th>\n",
       "      <th>date</th>\n",
       "      <th>title</th>\n",
       "      <th>url</th>\n",
       "      <th>src</th>\n",
       "    </tr>\n",
       "  </thead>\n",
       "  <tbody>\n",
       "    <tr>\n",
       "      <th>0</th>\n",
       "      <td>2024-06-26 14:55:01+00:00</td>\n",
       "      <td>Yahoo Video: Novo Nordisk, Eli Lilly still top...</td>\n",
       "      <td>https://finnhub.io/api/news?id=3e35d5d2c67f9e0...</td>\n",
       "      <td>Finnhub</td>\n",
       "    </tr>\n",
       "    <tr>\n",
       "      <th>1</th>\n",
       "      <td>2024-06-26 14:48:57+00:00</td>\n",
       "      <td>Novo Nordisk, Eli Lilly still top 2 pharma sto...</td>\n",
       "      <td>https://finnhub.io/api/news?id=73d665833f7c343...</td>\n",
       "      <td>Finnhub</td>\n",
       "    </tr>\n",
       "    <tr>\n",
       "      <th>2</th>\n",
       "      <td>2024-06-26 13:00:05+00:00</td>\n",
       "      <td>Why Investors Need to Take Advantage of These ...</td>\n",
       "      <td>https://finnhub.io/api/news?id=cfcf37aacb7beee...</td>\n",
       "      <td>Finnhub</td>\n",
       "    </tr>\n",
       "    <tr>\n",
       "      <th>3</th>\n",
       "      <td>2024-06-26 12:32:00+00:00</td>\n",
       "      <td>La-Z-Boy and Winnebago have been highlighted a...</td>\n",
       "      <td>https://finnhub.io/api/news?id=46c20809df2c5e3...</td>\n",
       "      <td>Finnhub</td>\n",
       "    </tr>\n",
       "    <tr>\n",
       "      <th>4</th>\n",
       "      <td>2024-06-26 11:00:00+00:00</td>\n",
       "      <td>The War Over Cheaper Ozempic Won’t End Well fo...</td>\n",
       "      <td>https://finnhub.io/api/news?id=f16184bd37aabe1...</td>\n",
       "      <td>Finnhub</td>\n",
       "    </tr>\n",
       "    <tr>\n",
       "      <th>...</th>\n",
       "      <td>...</td>\n",
       "      <td>...</td>\n",
       "      <td>...</td>\n",
       "      <td>...</td>\n",
       "    </tr>\n",
       "    <tr>\n",
       "      <th>143</th>\n",
       "      <td>2024-06-20 06:45:00+00:00</td>\n",
       "      <td>Eli Lilly Expands Fight Against Counterfeit Ob...</td>\n",
       "      <td>https://finnhub.io/api/news?id=be9df28e5f129fd...</td>\n",
       "      <td>Finnhub</td>\n",
       "    </tr>\n",
       "    <tr>\n",
       "      <th>144</th>\n",
       "      <td>2024-06-20 06:39:09+00:00</td>\n",
       "      <td>Eli Lilly and : An Open Letter From Eli Lilly ...</td>\n",
       "      <td>https://finnhub.io/api/news?id=88d67a402277978...</td>\n",
       "      <td>Finnhub</td>\n",
       "    </tr>\n",
       "    <tr>\n",
       "      <th>145</th>\n",
       "      <td>2024-06-20 06:30:30+00:00</td>\n",
       "      <td>Lilly files additional lawsuits over US sales ...</td>\n",
       "      <td>https://finnhub.io/api/news?id=614425cffd1772b...</td>\n",
       "      <td>Finnhub</td>\n",
       "    </tr>\n",
       "    <tr>\n",
       "      <th>146</th>\n",
       "      <td>2024-06-19 17:00:00+00:00</td>\n",
       "      <td>Can Eli Lilly ETFs Surge on Approval of Alzhei...</td>\n",
       "      <td>https://finnhub.io/api/news?id=88a4cccd23398db...</td>\n",
       "      <td>Finnhub</td>\n",
       "    </tr>\n",
       "    <tr>\n",
       "      <th>147</th>\n",
       "      <td>2024-06-19 12:30:39+00:00</td>\n",
       "      <td>Eli Lilly: The Party Is Probably Nearing The End</td>\n",
       "      <td>https://finnhub.io/api/news?id=f7009c63c0b0ce3...</td>\n",
       "      <td>Finnhub</td>\n",
       "    </tr>\n",
       "  </tbody>\n",
       "</table>\n",
       "<p>148 rows × 4 columns</p>\n",
       "</div>"
      ],
      "text/plain": [
       "                         date  \\\n",
       "0   2024-06-26 14:55:01+00:00   \n",
       "1   2024-06-26 14:48:57+00:00   \n",
       "2   2024-06-26 13:00:05+00:00   \n",
       "3   2024-06-26 12:32:00+00:00   \n",
       "4   2024-06-26 11:00:00+00:00   \n",
       "..                        ...   \n",
       "143 2024-06-20 06:45:00+00:00   \n",
       "144 2024-06-20 06:39:09+00:00   \n",
       "145 2024-06-20 06:30:30+00:00   \n",
       "146 2024-06-19 17:00:00+00:00   \n",
       "147 2024-06-19 12:30:39+00:00   \n",
       "\n",
       "                                                 title  \\\n",
       "0    Yahoo Video: Novo Nordisk, Eli Lilly still top...   \n",
       "1    Novo Nordisk, Eli Lilly still top 2 pharma sto...   \n",
       "2    Why Investors Need to Take Advantage of These ...   \n",
       "3    La-Z-Boy and Winnebago have been highlighted a...   \n",
       "4    The War Over Cheaper Ozempic Won’t End Well fo...   \n",
       "..                                                 ...   \n",
       "143  Eli Lilly Expands Fight Against Counterfeit Ob...   \n",
       "144  Eli Lilly and : An Open Letter From Eli Lilly ...   \n",
       "145  Lilly files additional lawsuits over US sales ...   \n",
       "146  Can Eli Lilly ETFs Surge on Approval of Alzhei...   \n",
       "147   Eli Lilly: The Party Is Probably Nearing The End   \n",
       "\n",
       "                                                   url      src  \n",
       "0    https://finnhub.io/api/news?id=3e35d5d2c67f9e0...  Finnhub  \n",
       "1    https://finnhub.io/api/news?id=73d665833f7c343...  Finnhub  \n",
       "2    https://finnhub.io/api/news?id=cfcf37aacb7beee...  Finnhub  \n",
       "3    https://finnhub.io/api/news?id=46c20809df2c5e3...  Finnhub  \n",
       "4    https://finnhub.io/api/news?id=f16184bd37aabe1...  Finnhub  \n",
       "..                                                 ...      ...  \n",
       "143  https://finnhub.io/api/news?id=be9df28e5f129fd...  Finnhub  \n",
       "144  https://finnhub.io/api/news?id=88d67a402277978...  Finnhub  \n",
       "145  https://finnhub.io/api/news?id=614425cffd1772b...  Finnhub  \n",
       "146  https://finnhub.io/api/news?id=88a4cccd23398db...  Finnhub  \n",
       "147  https://finnhub.io/api/news?id=f7009c63c0b0ce3...  Finnhub  \n",
       "\n",
       "[148 rows x 4 columns]"
      ]
     },
     "execution_count": 37,
     "metadata": {},
     "output_type": "execute_result"
    }
   ],
   "source": [
    "def get_news_finnhub(symbol):\n",
    "\n",
    "    FINNHUB_API_KEY = os.environ['FINNHUB_API_KEY']\n",
    "    current_date = datetime.now()\n",
    "    one_week_ago = current_date - timedelta(weeks=1)\n",
    "    formatted_start_date = one_week_ago.strftime('%Y-%m-%d')\n",
    "    formatted_end_date = current_date.strftime('%Y-%m-%d')\n",
    "    \n",
    "    url=f'https://finnhub.io/api/v1/company-news?symbol={symbol}&from={formatted_start_date}&to={formatted_end_date}&token={FINNHUB_API_KEY}'\n",
    "    response = requests.get(url)\n",
    "    response_json = response.json()\n",
    "    finnhub_df = pd.DataFrame(response_json)\n",
    "    finnhub_df['date'] = pd.to_datetime(finnhub_df['datetime'], unit='s', utc=True)\n",
    "    finnhub_df = finnhub_df.rename(columns={'headline': 'title'})\n",
    "    finnhub_df = finnhub_df[['date', 'title', 'url']]\n",
    "    finnhub_df['src'] = 'Finnhub'\n",
    "    return finnhub_df\n",
    "\n",
    "finnhub_df = get_news_finnhub(symbol)\n",
    "finnhub_df\n"
   ]
  },
  {
   "cell_type": "code",
   "execution_count": 38,
   "id": "f3ae72e7",
   "metadata": {},
   "outputs": [
    {
     "name": "stdout",
     "output_type": "stream",
     "text": [
      "21:46:15 Starting init_driver\n",
      "21:46:28 Initialized profile\n",
      "21:46:28 Initialized service\n",
      "21:47:05 Initialized webdriver\n",
      "21:47:17 Saving Google (06_26_2024 09_47_17 PM).html as utf-8 get_files(Google)\n",
      "found 349 raw links\n",
      "found 156 filtered links\n"
     ]
    },
    {
     "data": {
      "text/html": [
       "<div>\n",
       "<style scoped>\n",
       "    .dataframe tbody tr th:only-of-type {\n",
       "        vertical-align: middle;\n",
       "    }\n",
       "\n",
       "    .dataframe tbody tr th {\n",
       "        vertical-align: top;\n",
       "    }\n",
       "\n",
       "    .dataframe thead th {\n",
       "        text-align: right;\n",
       "    }\n",
       "</style>\n",
       "<table border=\"1\" class=\"dataframe\">\n",
       "  <thead>\n",
       "    <tr style=\"text-align: right;\">\n",
       "      <th></th>\n",
       "      <th>id</th>\n",
       "      <th>date</th>\n",
       "      <th>title</th>\n",
       "      <th>url</th>\n",
       "      <th>src</th>\n",
       "    </tr>\n",
       "  </thead>\n",
       "  <tbody>\n",
       "    <tr>\n",
       "      <th>0</th>\n",
       "      <td>0</td>\n",
       "      <td>2024-06-26 21:47:17.240639</td>\n",
       "      <td>News Showcase</td>\n",
       "      <td>https://news.google.com/showcase</td>\n",
       "      <td>Google News</td>\n",
       "    </tr>\n",
       "    <tr>\n",
       "      <th>1</th>\n",
       "      <td>1</td>\n",
       "      <td>2024-06-26 21:47:17.240639</td>\n",
       "      <td>Entertainment</td>\n",
       "      <td>https://news.google.com/topics/CAAqJggKIiBDQkF...</td>\n",
       "      <td>Google News</td>\n",
       "    </tr>\n",
       "    <tr>\n",
       "      <th>2</th>\n",
       "      <td>2</td>\n",
       "      <td>2024-06-26 21:47:17.240639</td>\n",
       "      <td>Severe Thunderstorm WatchTHE NATIONAL WEATHER ...</td>\n",
       "      <td>https://www.google.com/search</td>\n",
       "      <td>Google News</td>\n",
       "    </tr>\n",
       "    <tr>\n",
       "      <th>3</th>\n",
       "      <td>3</td>\n",
       "      <td>2024-06-26 21:47:17.240639</td>\n",
       "      <td>More on weather.com</td>\n",
       "      <td>https://www.weather.com/wx/today/</td>\n",
       "      <td>Google News</td>\n",
       "    </tr>\n",
       "    <tr>\n",
       "      <th>4</th>\n",
       "      <td>4</td>\n",
       "      <td>2024-06-26 21:47:17.240639</td>\n",
       "      <td>Top stories</td>\n",
       "      <td>https://news.google.com/topics/CAAqJggKIiBDQkF...</td>\n",
       "      <td>Google News</td>\n",
       "    </tr>\n",
       "    <tr>\n",
       "      <th>...</th>\n",
       "      <td>...</td>\n",
       "      <td>...</td>\n",
       "      <td>...</td>\n",
       "      <td>...</td>\n",
       "      <td>...</td>\n",
       "    </tr>\n",
       "    <tr>\n",
       "      <th>636</th>\n",
       "      <td>636</td>\n",
       "      <td>2024-06-24 20:11:10+00:00</td>\n",
       "      <td>11-K Form - Annual report of employee stock pu...</td>\n",
       "      <td>https://newsfilter.io/articles/11-k-form---ann...</td>\n",
       "      <td>NewsFilter</td>\n",
       "    </tr>\n",
       "    <tr>\n",
       "      <th>637</th>\n",
       "      <td>637</td>\n",
       "      <td>2024-06-24 15:30:00+00:00</td>\n",
       "      <td>Lilly Declares Third-Quarter 2024 Dividend</td>\n",
       "      <td>https://newsfilter.io/articles/lilly-declares-...</td>\n",
       "      <td>NewsFilter</td>\n",
       "    </tr>\n",
       "    <tr>\n",
       "      <th>638</th>\n",
       "      <td>638</td>\n",
       "      <td>2024-06-21 20:00:06+00:00</td>\n",
       "      <td>4 Form - Statement of changes in beneficial ow...</td>\n",
       "      <td>https://newsfilter.io/articles/4-form---statem...</td>\n",
       "      <td>NewsFilter</td>\n",
       "    </tr>\n",
       "    <tr>\n",
       "      <th>639</th>\n",
       "      <td>639</td>\n",
       "      <td>2024-06-21 19:49:00+00:00</td>\n",
       "      <td>Lilly&amp;apos;s tirzepatide reduced obstructive s...</td>\n",
       "      <td>https://newsfilter.io/articles/lillyaposs-tirz...</td>\n",
       "      <td>NewsFilter</td>\n",
       "    </tr>\n",
       "    <tr>\n",
       "      <th>640</th>\n",
       "      <td>640</td>\n",
       "      <td>2024-06-20 18:43:03+00:00</td>\n",
       "      <td>144 Form - Report of proposed sale of securiti...</td>\n",
       "      <td>https://newsfilter.io/articles/144-form---repo...</td>\n",
       "      <td>NewsFilter</td>\n",
       "    </tr>\n",
       "  </tbody>\n",
       "</table>\n",
       "<p>641 rows × 5 columns</p>\n",
       "</div>"
      ],
      "text/plain": [
       "      id                        date  \\\n",
       "0      0  2024-06-26 21:47:17.240639   \n",
       "1      1  2024-06-26 21:47:17.240639   \n",
       "2      2  2024-06-26 21:47:17.240639   \n",
       "3      3  2024-06-26 21:47:17.240639   \n",
       "4      4  2024-06-26 21:47:17.240639   \n",
       "..   ...                         ...   \n",
       "636  636   2024-06-24 20:11:10+00:00   \n",
       "637  637   2024-06-24 15:30:00+00:00   \n",
       "638  638   2024-06-21 20:00:06+00:00   \n",
       "639  639   2024-06-21 19:49:00+00:00   \n",
       "640  640   2024-06-20 18:43:03+00:00   \n",
       "\n",
       "                                                 title  \\\n",
       "0                                        News Showcase   \n",
       "1                                        Entertainment   \n",
       "2    Severe Thunderstorm WatchTHE NATIONAL WEATHER ...   \n",
       "3                                  More on weather.com   \n",
       "4                                          Top stories   \n",
       "..                                                 ...   \n",
       "636  11-K Form - Annual report of employee stock pu...   \n",
       "637         Lilly Declares Third-Quarter 2024 Dividend   \n",
       "638  4 Form - Statement of changes in beneficial ow...   \n",
       "639  Lilly&apos;s tirzepatide reduced obstructive s...   \n",
       "640  144 Form - Report of proposed sale of securiti...   \n",
       "\n",
       "                                                   url          src  \n",
       "0                     https://news.google.com/showcase  Google News  \n",
       "1    https://news.google.com/topics/CAAqJggKIiBDQkF...  Google News  \n",
       "2                        https://www.google.com/search  Google News  \n",
       "3                    https://www.weather.com/wx/today/  Google News  \n",
       "4    https://news.google.com/topics/CAAqJggKIiBDQkF...  Google News  \n",
       "..                                                 ...          ...  \n",
       "636  https://newsfilter.io/articles/11-k-form---ann...   NewsFilter  \n",
       "637  https://newsfilter.io/articles/lilly-declares-...   NewsFilter  \n",
       "638  https://newsfilter.io/articles/4-form---statem...   NewsFilter  \n",
       "639  https://newsfilter.io/articles/lillyaposs-tirz...   NewsFilter  \n",
       "640  https://newsfilter.io/articles/144-form---repo...   NewsFilter  \n",
       "\n",
       "[641 rows x 5 columns]"
      ]
     },
     "execution_count": 38,
     "metadata": {},
     "output_type": "execute_result"
    }
   ],
   "source": [
    "def get_news_df(symbol, company):\n",
    "    google_news_df = get_google_news(symbol, company)\n",
    "    finviz_news_df = get_finviz_news(symbol)\n",
    "    polygon_news_df = get_news_obb(symbol, 'polygon')\n",
    "    tmx_news_df = get_news_obb(symbol, 'tmx')\n",
    "    yfinance_news_df = get_news_obb(symbol, 'yfinance')\n",
    "    alphavantage_df = get_news_alphavantage(symbol)\n",
    "    finnhub_df = get_news_finnhub(symbol)\n",
    "    newsapi_df = get_news_newsapi(symbol)\n",
    "    newsfilter_df = get_news_newsfilter(symbol)\n",
    "\n",
    "    news_df = pd.concat([google_news_df,\n",
    "                         finviz_news_df,                         \n",
    "                         polygon_news_df,\n",
    "                         tmx_news_df,\n",
    "                         yfinance_news_df,\n",
    "                         alphavantage_df,\n",
    "                         finnhub_df,\n",
    "                         newsapi_df,\n",
    "                         newsfilter_df]\n",
    "                       )\n",
    "    news_df = news_df.reset_index(drop=True) \\\n",
    "        .reset_index() \\\n",
    "        .rename(columns={'index': 'id'})\n",
    "\n",
    "    return news_df\n",
    "\n",
    "\n",
    "news_df = get_news_df(symbol, company)\n",
    "news_df\n",
    "\n"
   ]
  },
  {
   "cell_type": "code",
   "execution_count": 39,
   "id": "117382b2",
   "metadata": {},
   "outputs": [
    {
     "data": {
      "text/html": [
       "<div>\n",
       "<style scoped>\n",
       "    .dataframe tbody tr th:only-of-type {\n",
       "        vertical-align: middle;\n",
       "    }\n",
       "\n",
       "    .dataframe tbody tr th {\n",
       "        vertical-align: top;\n",
       "    }\n",
       "\n",
       "    .dataframe thead th {\n",
       "        text-align: right;\n",
       "    }\n",
       "</style>\n",
       "<table border=\"1\" class=\"dataframe\">\n",
       "  <thead>\n",
       "    <tr style=\"text-align: right;\">\n",
       "      <th></th>\n",
       "      <th>id</th>\n",
       "      <th>date</th>\n",
       "      <th>title</th>\n",
       "      <th>url</th>\n",
       "      <th>src</th>\n",
       "    </tr>\n",
       "  </thead>\n",
       "  <tbody>\n",
       "    <tr>\n",
       "      <th>275</th>\n",
       "      <td>275</td>\n",
       "      <td>2019-08-08 13:00:00+00:00</td>\n",
       "      <td>Lilly Announces Positive Results for Emgality(...</td>\n",
       "      <td>https://money.tmx.com/quote/LLY/news/613753718...</td>\n",
       "      <td>tmx</td>\n",
       "    </tr>\n",
       "    <tr>\n",
       "      <th>276</th>\n",
       "      <td>276</td>\n",
       "      <td>2019-11-04 14:00:00+00:00</td>\n",
       "      <td>Boehringer Ingelheim and Lilly modernise allia...</td>\n",
       "      <td>https://money.tmx.com/quote/LLY/news/553574493...</td>\n",
       "      <td>tmx</td>\n",
       "    </tr>\n",
       "    <tr>\n",
       "      <th>277</th>\n",
       "      <td>277</td>\n",
       "      <td>2020-08-05 12:00:00+00:00</td>\n",
       "      <td>Empagliflozin meets primary endpoint in reduci...</td>\n",
       "      <td>https://money.tmx.com/quote/LLY/news/629707626...</td>\n",
       "      <td>tmx</td>\n",
       "    </tr>\n",
       "    <tr>\n",
       "      <th>278</th>\n",
       "      <td>278</td>\n",
       "      <td>2020-09-08 12:00:00+00:00</td>\n",
       "      <td>Empagliflozin reduced the combined relative ri...</td>\n",
       "      <td>https://money.tmx.com/quote/LLY/news/851679265...</td>\n",
       "      <td>tmx</td>\n",
       "    </tr>\n",
       "    <tr>\n",
       "      <th>279</th>\n",
       "      <td>279</td>\n",
       "      <td>2020-10-08 14:30:00+00:00</td>\n",
       "      <td>Lilly provides comprehensive update on progres...</td>\n",
       "      <td>https://money.tmx.com/quote/LLY/news/663147860...</td>\n",
       "      <td>tmx</td>\n",
       "    </tr>\n",
       "    <tr>\n",
       "      <th>...</th>\n",
       "      <td>...</td>\n",
       "      <td>...</td>\n",
       "      <td>...</td>\n",
       "      <td>...</td>\n",
       "      <td>...</td>\n",
       "    </tr>\n",
       "    <tr>\n",
       "      <th>252</th>\n",
       "      <td>252</td>\n",
       "      <td>2024-06-26 21:47:17.447757+00:00</td>\n",
       "      <td>Lillys Weight-Loss Drug Is a Huge Hit. Its CEO...</td>\n",
       "      <td>https://finance.yahoo.com/m/f725b402-9d2b-3ac4...</td>\n",
       "      <td>finviz</td>\n",
       "    </tr>\n",
       "    <tr>\n",
       "      <th>253</th>\n",
       "      <td>253</td>\n",
       "      <td>2024-06-26 21:47:17.447758+00:00</td>\n",
       "      <td>Why Eli Lilly (LLY) is a Top Momentum Stock fo...</td>\n",
       "      <td>https://www.zacks.com/stock/news/2287885/why-e...</td>\n",
       "      <td>finviz</td>\n",
       "    </tr>\n",
       "    <tr>\n",
       "      <th>254</th>\n",
       "      <td>254</td>\n",
       "      <td>2024-06-26 21:47:17.447758+00:00</td>\n",
       "      <td>Billionaire Israel Englander is Buying This We...</td>\n",
       "      <td>https://finance.yahoo.com/news/billionaire-isr...</td>\n",
       "      <td>finviz</td>\n",
       "    </tr>\n",
       "    <tr>\n",
       "      <th>255</th>\n",
       "      <td>255</td>\n",
       "      <td>2024-06-26 21:47:17.447759+00:00</td>\n",
       "      <td>Want to Get Richer? 2 Top Stocks to Buy Now an...</td>\n",
       "      <td>https://finance.yahoo.com/m/d5cf8979-a294-3558...</td>\n",
       "      <td>finviz</td>\n",
       "    </tr>\n",
       "    <tr>\n",
       "      <th>349</th>\n",
       "      <td>349</td>\n",
       "      <td>2024-06-26 21:58:21+00:00</td>\n",
       "      <td>How consumer spending, election impact markets...</td>\n",
       "      <td>https://finance.yahoo.com/video/consumer-spend...</td>\n",
       "      <td>yfinance</td>\n",
       "    </tr>\n",
       "  </tbody>\n",
       "</table>\n",
       "<p>641 rows × 5 columns</p>\n",
       "</div>"
      ],
      "text/plain": [
       "      id                             date  \\\n",
       "275  275        2019-08-08 13:00:00+00:00   \n",
       "276  276        2019-11-04 14:00:00+00:00   \n",
       "277  277        2020-08-05 12:00:00+00:00   \n",
       "278  278        2020-09-08 12:00:00+00:00   \n",
       "279  279        2020-10-08 14:30:00+00:00   \n",
       "..   ...                              ...   \n",
       "252  252 2024-06-26 21:47:17.447757+00:00   \n",
       "253  253 2024-06-26 21:47:17.447758+00:00   \n",
       "254  254 2024-06-26 21:47:17.447758+00:00   \n",
       "255  255 2024-06-26 21:47:17.447759+00:00   \n",
       "349  349        2024-06-26 21:58:21+00:00   \n",
       "\n",
       "                                                 title  \\\n",
       "275  Lilly Announces Positive Results for Emgality(...   \n",
       "276  Boehringer Ingelheim and Lilly modernise allia...   \n",
       "277  Empagliflozin meets primary endpoint in reduci...   \n",
       "278  Empagliflozin reduced the combined relative ri...   \n",
       "279  Lilly provides comprehensive update on progres...   \n",
       "..                                                 ...   \n",
       "252  Lillys Weight-Loss Drug Is a Huge Hit. Its CEO...   \n",
       "253  Why Eli Lilly (LLY) is a Top Momentum Stock fo...   \n",
       "254  Billionaire Israel Englander is Buying This We...   \n",
       "255  Want to Get Richer? 2 Top Stocks to Buy Now an...   \n",
       "349  How consumer spending, election impact markets...   \n",
       "\n",
       "                                                   url       src  \n",
       "275  https://money.tmx.com/quote/LLY/news/613753718...       tmx  \n",
       "276  https://money.tmx.com/quote/LLY/news/553574493...       tmx  \n",
       "277  https://money.tmx.com/quote/LLY/news/629707626...       tmx  \n",
       "278  https://money.tmx.com/quote/LLY/news/851679265...       tmx  \n",
       "279  https://money.tmx.com/quote/LLY/news/663147860...       tmx  \n",
       "..                                                 ...       ...  \n",
       "252  https://finance.yahoo.com/m/f725b402-9d2b-3ac4...    finviz  \n",
       "253  https://www.zacks.com/stock/news/2287885/why-e...    finviz  \n",
       "254  https://finance.yahoo.com/news/billionaire-isr...    finviz  \n",
       "255  https://finance.yahoo.com/m/d5cf8979-a294-3558...    finviz  \n",
       "349  https://finance.yahoo.com/video/consumer-spend...  yfinance  \n",
       "\n",
       "[641 rows x 5 columns]"
      ]
     },
     "execution_count": 39,
     "metadata": {},
     "output_type": "execute_result"
    }
   ],
   "source": [
    "news_df['date'] = pd.to_datetime(news_df['date'], utc=True)\n",
    "news_df['date'] = news_df['date'].dt.tz_convert('UTC')\n",
    "news_df = news_df.sort_values(by='date')\n",
    "news_df"
   ]
  },
  {
   "cell_type": "code",
   "execution_count": 40,
   "id": "f0cf52c4",
   "metadata": {},
   "outputs": [
    {
     "data": {
      "text/html": [
       "<div>\n",
       "<style scoped>\n",
       "    .dataframe tbody tr th:only-of-type {\n",
       "        vertical-align: middle;\n",
       "    }\n",
       "\n",
       "    .dataframe tbody tr th {\n",
       "        vertical-align: top;\n",
       "    }\n",
       "\n",
       "    .dataframe thead th {\n",
       "        text-align: right;\n",
       "    }\n",
       "</style>\n",
       "<table border=\"1\" class=\"dataframe\">\n",
       "  <thead>\n",
       "    <tr style=\"text-align: right;\">\n",
       "      <th></th>\n",
       "      <th>date</th>\n",
       "      <th>title</th>\n",
       "      <th>url</th>\n",
       "      <th>src</th>\n",
       "    </tr>\n",
       "  </thead>\n",
       "  <tbody>\n",
       "    <tr>\n",
       "      <th>0</th>\n",
       "      <td>2024-06-25 09:12:00+00:00</td>\n",
       "      <td>1 Supercharged Vanguard Index Fund to Buy Befo...</td>\n",
       "      <td>https://www.fool.com/investing/2024/06/25/1-in...</td>\n",
       "      <td>polygon</td>\n",
       "    </tr>\n",
       "    <tr>\n",
       "      <th>1</th>\n",
       "      <td>2024-06-20 13:50:44+00:00</td>\n",
       "      <td>1,084 Shares in Eli Lilly and Company (NYSE:LL...</td>\n",
       "      <td>https://www.etfdailynews.com/2024/06/20/1084-s...</td>\n",
       "      <td>NewsApi</td>\n",
       "    </tr>\n",
       "    <tr>\n",
       "      <th>2</th>\n",
       "      <td>2024-06-26 21:47:17.447733+00:00</td>\n",
       "      <td>10 Dividend Zombies and Kings with Longest Div...</td>\n",
       "      <td>https://www.insidermonkey.com/blog/10-dividend...</td>\n",
       "      <td>finviz</td>\n",
       "    </tr>\n",
       "    <tr>\n",
       "      <th>3</th>\n",
       "      <td>2024-06-25 12:39:00+00:00</td>\n",
       "      <td>10 Health Care Stocks Whale Activity In Today'...</td>\n",
       "      <td>https://finnhub.io/api/news?id=afdba26581f2107...</td>\n",
       "      <td>Finnhub</td>\n",
       "    </tr>\n",
       "    <tr>\n",
       "      <th>4</th>\n",
       "      <td>2024-06-24 20:11:10+00:00</td>\n",
       "      <td>11-K Form - Annual report of employee stock pu...</td>\n",
       "      <td>https://newsfilter.io/articles/11-k-form---ann...</td>\n",
       "      <td>NewsFilter</td>\n",
       "    </tr>\n",
       "    <tr>\n",
       "      <th>...</th>\n",
       "      <td>...</td>\n",
       "      <td>...</td>\n",
       "      <td>...</td>\n",
       "      <td>...</td>\n",
       "    </tr>\n",
       "    <tr>\n",
       "      <th>510</th>\n",
       "      <td>2024-05-16 10:45:00+00:00</td>\n",
       "      <td>With Once-a-Week Dosing, Insulin Efsitora Alfa...</td>\n",
       "      <td>https://money.tmx.com/quote/LLY/news/617311369...</td>\n",
       "      <td>tmx</td>\n",
       "    </tr>\n",
       "    <tr>\n",
       "      <th>511</th>\n",
       "      <td>2024-06-21 11:56:49+00:00</td>\n",
       "      <td>Woodstock Corp Buys 31 Shares of Eli Lilly and...</td>\n",
       "      <td>https://www.etfdailynews.com/2024/06/21/woodst...</td>\n",
       "      <td>NewsApi</td>\n",
       "    </tr>\n",
       "    <tr>\n",
       "      <th>512</th>\n",
       "      <td>2024-06-26 14:55:01+00:00</td>\n",
       "      <td>Yahoo Video: Novo Nordisk, Eli Lilly still top...</td>\n",
       "      <td>https://finance.yahoo.com/news/yahoo-video-nov...</td>\n",
       "      <td>yfinance</td>\n",
       "    </tr>\n",
       "    <tr>\n",
       "      <th>513</th>\n",
       "      <td>2024-06-21 07:23:00+00:00</td>\n",
       "      <td>Zealand Pharma extends gains on early-stage da...</td>\n",
       "      <td>https://finnhub.io/api/news?id=758713cd82e1eff...</td>\n",
       "      <td>Finnhub</td>\n",
       "    </tr>\n",
       "    <tr>\n",
       "      <th>514</th>\n",
       "      <td>2024-06-24 13:05:06+00:00</td>\n",
       "      <td>Zealand Pharma: Weight Loss Drug Petrelintide ...</td>\n",
       "      <td>https://finnhub.io/api/news?id=11f25dd29285d02...</td>\n",
       "      <td>Finnhub</td>\n",
       "    </tr>\n",
       "  </tbody>\n",
       "</table>\n",
       "<p>515 rows × 4 columns</p>\n",
       "</div>"
      ],
      "text/plain": [
       "                                date  \\\n",
       "0          2024-06-25 09:12:00+00:00   \n",
       "1          2024-06-20 13:50:44+00:00   \n",
       "2   2024-06-26 21:47:17.447733+00:00   \n",
       "3          2024-06-25 12:39:00+00:00   \n",
       "4          2024-06-24 20:11:10+00:00   \n",
       "..                               ...   \n",
       "510        2024-05-16 10:45:00+00:00   \n",
       "511        2024-06-21 11:56:49+00:00   \n",
       "512        2024-06-26 14:55:01+00:00   \n",
       "513        2024-06-21 07:23:00+00:00   \n",
       "514        2024-06-24 13:05:06+00:00   \n",
       "\n",
       "                                                 title  \\\n",
       "0    1 Supercharged Vanguard Index Fund to Buy Befo...   \n",
       "1    1,084 Shares in Eli Lilly and Company (NYSE:LL...   \n",
       "2    10 Dividend Zombies and Kings with Longest Div...   \n",
       "3    10 Health Care Stocks Whale Activity In Today'...   \n",
       "4    11-K Form - Annual report of employee stock pu...   \n",
       "..                                                 ...   \n",
       "510  With Once-a-Week Dosing, Insulin Efsitora Alfa...   \n",
       "511  Woodstock Corp Buys 31 Shares of Eli Lilly and...   \n",
       "512  Yahoo Video: Novo Nordisk, Eli Lilly still top...   \n",
       "513  Zealand Pharma extends gains on early-stage da...   \n",
       "514  Zealand Pharma: Weight Loss Drug Petrelintide ...   \n",
       "\n",
       "                                                   url         src  \n",
       "0    https://www.fool.com/investing/2024/06/25/1-in...     polygon  \n",
       "1    https://www.etfdailynews.com/2024/06/20/1084-s...     NewsApi  \n",
       "2    https://www.insidermonkey.com/blog/10-dividend...      finviz  \n",
       "3    https://finnhub.io/api/news?id=afdba26581f2107...     Finnhub  \n",
       "4    https://newsfilter.io/articles/11-k-form---ann...  NewsFilter  \n",
       "..                                                 ...         ...  \n",
       "510  https://money.tmx.com/quote/LLY/news/617311369...         tmx  \n",
       "511  https://www.etfdailynews.com/2024/06/21/woodst...     NewsApi  \n",
       "512  https://finance.yahoo.com/news/yahoo-video-nov...    yfinance  \n",
       "513  https://finnhub.io/api/news?id=758713cd82e1eff...     Finnhub  \n",
       "514  https://finnhub.io/api/news?id=11f25dd29285d02...     Finnhub  \n",
       "\n",
       "[515 rows x 4 columns]"
      ]
     },
     "execution_count": 40,
     "metadata": {},
     "output_type": "execute_result"
    }
   ],
   "source": [
    "# dedupe headlines with exact same title\n",
    "news_df = news_df.groupby('title').last().reset_index()[['date', 'title', 'url', 'src']]\n",
    "news_df"
   ]
  },
  {
   "cell_type": "code",
   "execution_count": 41,
   "id": "31ec8813",
   "metadata": {},
   "outputs": [
    {
     "data": {
      "text/html": [
       "<div>\n",
       "<style scoped>\n",
       "    .dataframe tbody tr th:only-of-type {\n",
       "        vertical-align: middle;\n",
       "    }\n",
       "\n",
       "    .dataframe tbody tr th {\n",
       "        vertical-align: top;\n",
       "    }\n",
       "\n",
       "    .dataframe thead th {\n",
       "        text-align: right;\n",
       "    }\n",
       "</style>\n",
       "<table border=\"1\" class=\"dataframe\">\n",
       "  <thead>\n",
       "    <tr style=\"text-align: right;\">\n",
       "      <th></th>\n",
       "      <th>id</th>\n",
       "      <th>date</th>\n",
       "      <th>title</th>\n",
       "      <th>url</th>\n",
       "      <th>src</th>\n",
       "    </tr>\n",
       "  </thead>\n",
       "  <tbody>\n",
       "    <tr>\n",
       "      <th>0</th>\n",
       "      <td>0</td>\n",
       "      <td>2024-06-25 09:12:00+00:00</td>\n",
       "      <td>1 Supercharged Vanguard Index Fund to Buy Befo...</td>\n",
       "      <td>https://www.fool.com/investing/2024/06/25/1-in...</td>\n",
       "      <td>polygon</td>\n",
       "    </tr>\n",
       "    <tr>\n",
       "      <th>1</th>\n",
       "      <td>1</td>\n",
       "      <td>2024-06-20 13:50:44+00:00</td>\n",
       "      <td>1,084 Shares in Eli Lilly and Company (NYSE:LL...</td>\n",
       "      <td>https://www.etfdailynews.com/2024/06/20/1084-s...</td>\n",
       "      <td>NewsApi</td>\n",
       "    </tr>\n",
       "    <tr>\n",
       "      <th>2</th>\n",
       "      <td>2</td>\n",
       "      <td>2024-06-26 21:47:17.447733+00:00</td>\n",
       "      <td>10 Dividend Zombies and Kings with Longest Div...</td>\n",
       "      <td>https://www.insidermonkey.com/blog/10-dividend...</td>\n",
       "      <td>finviz</td>\n",
       "    </tr>\n",
       "    <tr>\n",
       "      <th>3</th>\n",
       "      <td>3</td>\n",
       "      <td>2024-06-25 12:39:00+00:00</td>\n",
       "      <td>10 Health Care Stocks Whale Activity In Today'...</td>\n",
       "      <td>https://finnhub.io/api/news?id=afdba26581f2107...</td>\n",
       "      <td>Finnhub</td>\n",
       "    </tr>\n",
       "    <tr>\n",
       "      <th>4</th>\n",
       "      <td>4</td>\n",
       "      <td>2024-06-24 20:11:10+00:00</td>\n",
       "      <td>11-K Form - Annual report of employee stock pu...</td>\n",
       "      <td>https://newsfilter.io/articles/11-k-form---ann...</td>\n",
       "      <td>NewsFilter</td>\n",
       "    </tr>\n",
       "    <tr>\n",
       "      <th>...</th>\n",
       "      <td>...</td>\n",
       "      <td>...</td>\n",
       "      <td>...</td>\n",
       "      <td>...</td>\n",
       "      <td>...</td>\n",
       "    </tr>\n",
       "    <tr>\n",
       "      <th>436</th>\n",
       "      <td>436</td>\n",
       "      <td>2024-06-26 21:47:17.240639+00:00</td>\n",
       "      <td>Windows on Arm finally has legs</td>\n",
       "      <td>https://news.google.com/articles/CBMibWh0dHBzO...</td>\n",
       "      <td>Google News</td>\n",
       "    </tr>\n",
       "    <tr>\n",
       "      <th>437</th>\n",
       "      <td>437</td>\n",
       "      <td>2024-06-21 11:56:49+00:00</td>\n",
       "      <td>Woodstock Corp Buys 31 Shares of Eli Lilly and...</td>\n",
       "      <td>https://www.etfdailynews.com/2024/06/21/woodst...</td>\n",
       "      <td>NewsApi</td>\n",
       "    </tr>\n",
       "    <tr>\n",
       "      <th>438</th>\n",
       "      <td>438</td>\n",
       "      <td>2024-06-26 14:55:01+00:00</td>\n",
       "      <td>Yahoo Video: Novo Nordisk, Eli Lilly still top...</td>\n",
       "      <td>https://finance.yahoo.com/news/yahoo-video-nov...</td>\n",
       "      <td>yfinance</td>\n",
       "    </tr>\n",
       "    <tr>\n",
       "      <th>439</th>\n",
       "      <td>439</td>\n",
       "      <td>2024-06-21 07:23:00+00:00</td>\n",
       "      <td>Zealand Pharma extends gains on early-stage da...</td>\n",
       "      <td>https://finnhub.io/api/news?id=758713cd82e1eff...</td>\n",
       "      <td>Finnhub</td>\n",
       "    </tr>\n",
       "    <tr>\n",
       "      <th>440</th>\n",
       "      <td>440</td>\n",
       "      <td>2024-06-24 13:05:06+00:00</td>\n",
       "      <td>Zealand Pharma: Weight Loss Drug Petrelintide ...</td>\n",
       "      <td>https://finnhub.io/api/news?id=11f25dd29285d02...</td>\n",
       "      <td>Finnhub</td>\n",
       "    </tr>\n",
       "  </tbody>\n",
       "</table>\n",
       "<p>441 rows × 5 columns</p>\n",
       "</div>"
      ],
      "text/plain": [
       "      id                             date  \\\n",
       "0      0        2024-06-25 09:12:00+00:00   \n",
       "1      1        2024-06-20 13:50:44+00:00   \n",
       "2      2 2024-06-26 21:47:17.447733+00:00   \n",
       "3      3        2024-06-25 12:39:00+00:00   \n",
       "4      4        2024-06-24 20:11:10+00:00   \n",
       "..   ...                              ...   \n",
       "436  436 2024-06-26 21:47:17.240639+00:00   \n",
       "437  437        2024-06-21 11:56:49+00:00   \n",
       "438  438        2024-06-26 14:55:01+00:00   \n",
       "439  439        2024-06-21 07:23:00+00:00   \n",
       "440  440        2024-06-24 13:05:06+00:00   \n",
       "\n",
       "                                                 title  \\\n",
       "0    1 Supercharged Vanguard Index Fund to Buy Befo...   \n",
       "1    1,084 Shares in Eli Lilly and Company (NYSE:LL...   \n",
       "2    10 Dividend Zombies and Kings with Longest Div...   \n",
       "3    10 Health Care Stocks Whale Activity In Today'...   \n",
       "4    11-K Form - Annual report of employee stock pu...   \n",
       "..                                                 ...   \n",
       "436                    Windows on Arm finally has legs   \n",
       "437  Woodstock Corp Buys 31 Shares of Eli Lilly and...   \n",
       "438  Yahoo Video: Novo Nordisk, Eli Lilly still top...   \n",
       "439  Zealand Pharma extends gains on early-stage da...   \n",
       "440  Zealand Pharma: Weight Loss Drug Petrelintide ...   \n",
       "\n",
       "                                                   url          src  \n",
       "0    https://www.fool.com/investing/2024/06/25/1-in...      polygon  \n",
       "1    https://www.etfdailynews.com/2024/06/20/1084-s...      NewsApi  \n",
       "2    https://www.insidermonkey.com/blog/10-dividend...       finviz  \n",
       "3    https://finnhub.io/api/news?id=afdba26581f2107...      Finnhub  \n",
       "4    https://newsfilter.io/articles/11-k-form---ann...   NewsFilter  \n",
       "..                                                 ...          ...  \n",
       "436  https://news.google.com/articles/CBMibWh0dHBzO...  Google News  \n",
       "437  https://www.etfdailynews.com/2024/06/21/woodst...      NewsApi  \n",
       "438  https://finance.yahoo.com/news/yahoo-video-nov...     yfinance  \n",
       "439  https://finnhub.io/api/news?id=758713cd82e1eff...      Finnhub  \n",
       "440  https://finnhub.io/api/news?id=11f25dd29285d02...      Finnhub  \n",
       "\n",
       "[441 rows x 5 columns]"
      ]
     },
     "execution_count": 41,
     "metadata": {},
     "output_type": "execute_result"
    }
   ],
   "source": [
    "one_week_ago = pd.Timestamp.now(tz='UTC') - timedelta(weeks=1)\n",
    "news_df = news_df.loc[news_df['date'] > one_week_ago]\n",
    "news_df = news_df.reset_index(drop=True)\n",
    "news_df = news_df.reset_index()\n",
    "news_df = news_df.rename(columns={'index': 'id'})\n",
    "news_df\n"
   ]
  },
  {
   "cell_type": "code",
   "execution_count": 42,
   "id": "d9d24c22",
   "metadata": {},
   "outputs": [
    {
     "data": {
      "text/plain": [
       "[[{'id': 0,\n",
       "   'title': '1 Supercharged Vanguard Index Fund to Buy Before It Soars 174%, According to a Wall Street Analyst'},\n",
       "  {'id': 1,\n",
       "   'title': '1,084 Shares in Eli Lilly and Company (NYSE:LLY) Purchased by Emprise Bank'},\n",
       "  {'id': 2,\n",
       "   'title': '10 Dividend Zombies and Kings with Longest Dividend Payouts'},\n",
       "  {'id': 3,\n",
       "   'title': \"10 Health Care Stocks Whale Activity In Today's Session\"},\n",
       "  {'id': 4,\n",
       "   'title': '11-K Form - Annual report of employee stock purchase, savings and similar plans - ELI LILLY & Co (0000059478) (Filer)'},\n",
       "  {'id': 5,\n",
       "   'title': '144 Form - Report of proposed sale of securities - ELI LILLY & Co (0000059478) (Subject)'},\n",
       "  {'id': 6, 'title': \"2 Reasons Why Eli Lilly's Stock Likely Hasn't Peaked\"},\n",
       "  {'id': 7, 'title': '2024 NBA Draft: Live Grades for Every Round 1 Pick'},\n",
       "  {'id': 8,\n",
       "   'title': '2024 NFL OTAs: Players who surprised us most at minicamp'},\n",
       "  {'id': 9,\n",
       "   'title': '297 Shares in Eli Lilly and Company (NYSE:LLY) Bought by Conrad Siegel Investment Advisors Inc.'},\n",
       "  {'id': 10, 'title': '3 Biotech Stocks to Buy Now: June 2024'},\n",
       "  {'id': 11,\n",
       "   'title': '3 Growth Stocks You Can Buy Right Now Without Any Hesitation'},\n",
       "  {'id': 12, 'title': '3 Stocks to Sell as Ozempic Surges in Popularity'},\n",
       "  {'id': 13,\n",
       "   'title': '314 Shares in Eli Lilly and Company (NYSE:LLY) Acquired by Central Valley Advisors LLC'},\n",
       "  {'id': 14,\n",
       "   'title': '4 Form - Statement of changes in beneficial ownership of securities - ELI LILLY & Co (0000059478) (Issuer)'},\n",
       "  {'id': 15, 'title': '50 Largest Companies in Every State in the US'},\n",
       "  {'id': 16, 'title': '7 A-Rated Biotech Stocks Worth Betting on in June'},\n",
       "  {'id': 17,\n",
       "   'title': \"A 'Heads Up' on Eli Lilly as the Stock Continues to Climb\"},\n",
       "  {'id': 18,\n",
       "   'title': 'ADA 2024: Altimmunes GLP-1 drug shows weight loss potential'},\n",
       "  {'id': 19,\n",
       "   'title': 'ADA 2024: Altimmune’s GLP-1 drug shows weight loss potential'},\n",
       "  {'id': 20,\n",
       "   'title': 'AI Stocks Are Soaring on Hope. Why Their Dominance Puts Markets at Peril, and 4 Other Things to Know Today.'},\n",
       "  {'id': 21,\n",
       "   'title': 'AI Stocks Are Soaring on Hope. Why Their Dominance Puts Markets at Peril.'},\n",
       "  {'id': 22, 'title': 'AI Work Assistants Need a Lot of Handholding'},\n",
       "  {'id': 23,\n",
       "   'title': 'ALT Stock Alert: Altimmune Pops on Weight-Loss Drug Findings'},\n",
       "  {'id': 24,\n",
       "   'title': 'Abacus Planning Group Inc. Cuts Holdings in Eli Lilly and Company (NYSE:LLY)'},\n",
       "  {'id': 25,\n",
       "   'title': 'AbbVie Inc. Dividend Stock Analysis - Saturday, June 22'},\n",
       "  {'id': 26,\n",
       "   'title': 'Active Fund Managers Bet These 6 Stocks Will Trade Near All-Time Highs - Apple  ( NASDAQ:AAPL ) , Amazon.com  ( NASDAQ:AMZN ) '},\n",
       "  {'id': 27, 'title': 'Actor Found Dead After Tinder Date With Two Women'},\n",
       "  {'id': 28,\n",
       "   'title': 'AdvisorNet Financial Inc Lowers Stock Position in Eli Lilly and Company (NYSE:LLY)'},\n",
       "  {'id': 29,\n",
       "   'title': 'After Earnings, Is Eli Lilly Stock a Buy, a Sell, or Fairly Valued?'},\n",
       "  {'id': 30,\n",
       "   'title': 'Alaska Permanent Fund Corp Has $14.08 Million Stake in Eli Lilly and Company (NYSE:LLY)'},\n",
       "  {'id': 31, 'title': 'All Public Company News from PR Newswire'},\n",
       "  {'id': 32,\n",
       "   'title': 'Allied Investment Advisors LLC Takes $209,000 Position in Eli Lilly and Company (NYSE:LLY)'},\n",
       "  {'id': 33,\n",
       "   'title': 'Allied Investment Advisors LLC Takes Position in Eli Lilly and Company (NYSE:LLY)'},\n",
       "  {'id': 34,\n",
       "   'title': 'Altimmune jumps 13% on phase 2 pemvidutide results for obesity'},\n",
       "  {'id': 35,\n",
       "   'title': 'Amazon Widens RxPass Eligibility To Include Prime Members With Medicare'},\n",
       "  {'id': 36,\n",
       "   'title': 'Analysts Are Bullish on Top Healthcare Stocks: Vertex Pharmaceuticals (VRTX), Eli Lilly & Co (LLY)'},\n",
       "  {'id': 37,\n",
       "   'title': 'Analysts Offer Insights on Healthcare Companies: Eli Lilly & Co (LLY) and Vertex Pharmaceuticals (VRTX)'},\n",
       "  {'id': 38,\n",
       "   'title': 'Anderson Hoagland & Co. Has $17.39 Million Stock Position in Eli Lilly and Company (NYSE:LLY)'},\n",
       "  {'id': 39,\n",
       "   'title': \"Angelina Jolie 'Knows She's Super Skinny' at Shocking 98 Lbs: 'Loves to Flaunt It'\"},\n",
       "  {'id': 40,\n",
       "   'title': 'Aprio Wealth Management LLC Purchases 378 Shares of Eli Lilly and Company (NYSE:LLY)'},\n",
       "  {'id': 41,\n",
       "   'title': 'Augustine Therapeutics raises EUR 17M in Series A first closing'},\n",
       "  {'id': 42,\n",
       "   'title': 'Augustine Therapeutics raises €17M in series A first closing'},\n",
       "  {'id': 43,\n",
       "   'title': 'Augustine raises  17m to advance lead candidate into trials for neuro conditions'},\n",
       "  {'id': 44,\n",
       "   'title': 'Bangor Savings Bank Sells 47 Shares of Eli Lilly and Company (NYSE:LLY)'},\n",
       "  {'id': 45,\n",
       "   'title': 'Banque Cantonale Vaudoise Buys 2,383 Shares of Eli Lilly and Company (NYSE:LLY)'},\n",
       "  {'id': 46,\n",
       "   'title': 'Better Growth Stock: Archer Aviation or Viking Therapeutics?'},\n",
       "  {'id': 47,\n",
       "   'title': 'Bill Cobbs, veteran actor known for roles in ‘Demolition Man’ and ‘Air Bud,’ dead at 90'},\n",
       "  {'id': 48,\n",
       "   'title': 'Billionaire Israel Englander is Buying This Weight Loss Stock in 2024'},\n",
       "  {'id': 49,\n",
       "   'title': 'Bloomberg: Supreme Court appears to side with Biden admin in abortion case, according to draft briefly posted on website'}],\n",
       " [{'id': 50,\n",
       "   'title': 'BofA says OSA resolution magnitude of tirzepatide not baked into Lilly shares'},\n",
       "  {'id': 51,\n",
       "   'title': 'Bolivia attempted coup: General taken into custody, military flees palace'},\n",
       "  {'id': 52,\n",
       "   'title': 'Bolivian General Is Arrested After Apparent Coup Attempt'},\n",
       "  {'id': 53,\n",
       "   'title': \"Bolivian president survives failed coup, calls for 'democracy to be respected,' army general arrested\"},\n",
       "  {'id': 54,\n",
       "   'title': 'Bridge Creek Capital Management LLC Reduces Position in Eli Lilly and Company (NYSE:LLY)'},\n",
       "  {'id': 55,\n",
       "   'title': 'Bridge Creek Capital Management LLC Sells 125 Shares of Eli Lilly and Company (NYSE:LLY)'},\n",
       "  {'id': 56,\n",
       "   'title': 'Broadcom Is on Track to Edge Past Eli Lillys Market Value. AI Is Helping It Do So.'},\n",
       "  {'id': 57,\n",
       "   'title': 'Broadcom, Eli Lilly and Trump Media rise premarket; Under Armour falls'},\n",
       "  {'id': 58,\n",
       "   'title': 'Buy Rating Affirmed for Eli Lilly on Tirzepatide’s Promise in OSA and Obesity Treatment'},\n",
       "  {'id': 59,\n",
       "   'title': 'CBS News poll: In debate, Democrats want more forceful Biden, GOP wants polite Trump; most want to hear about issues'},\n",
       "  {'id': 60,\n",
       "   'title': 'CHICAGO TRUST Co NA Has $4.84 Million Stake in Eli Lilly and Company (NYSE:LLY)'},\n",
       "  {'id': 61,\n",
       "   'title': 'CHURCHILL MANAGEMENT Corp Purchases New Shares in Eli Lilly and Company (NYSE:LLY)'},\n",
       "  {'id': 62,\n",
       "   'title': 'Cardano Risk Management B.V. Acquires 199 Shares of Eli Lilly and Company (NYSE:LLY)'},\n",
       "  {'id': 63,\n",
       "   'title': 'Central Valley Advisors LLC Buys Shares of 314 Eli Lilly and Company (NYSE:LLY)'},\n",
       "  {'id': 64, 'title': 'Chart Of The Day: Eli Lilly - More New Highs'},\n",
       "  {'id': 65, 'title': 'Chart of the Day: Eli Lilly - More New Highs'},\n",
       "  {'id': 66,\n",
       "   'title': \"Christina Applegate announces daughter Sadie, 13, was diagnosed with POTS: 'I'm sad'\"},\n",
       "  {'id': 67,\n",
       "   'title': \"Citigroup urges staffers to 'keep cool' as anti-Israel protesters surround NYC headquarters\"},\n",
       "  {'id': 68,\n",
       "   'title': 'City State Bank Sells 203 Shares of Eli Lilly and Company (NYSE:LLY)'},\n",
       "  {'id': 69, 'title': 'Company News for Jun 25, 2024'},\n",
       "  {'id': 70,\n",
       "   'title': 'Compass Wealth Management LLC Sells 420 Shares of Eli Lilly and Company (NYSE:LLY)'},\n",
       "  {'id': 71,\n",
       "   'title': 'Cooper Financial Group Buys 211 Shares of Eli Lilly and Company (NYSE:LLY)'},\n",
       "  {'id': 72, 'title': 'Core Charts'},\n",
       "  {'id': 73,\n",
       "   'title': 'Crypto under pressure, Good Buy or Goodbye: Market Domination'},\n",
       "  {'id': 74,\n",
       "   'title': 'Curbstone Financial Management Corp Trims Stake in Eli Lilly and Company (NYSE:LLY)'},\n",
       "  {'id': 75,\n",
       "   'title': 'Did Eli Lilly and Company (LLY) Achieve Its 10th Consecutive Year of Dividend Growth?'},\n",
       "  {'id': 76,\n",
       "   'title': 'Doctors must keep Ozempic prescriptions in check, Danish regulator says'},\n",
       "  {'id': 77,\n",
       "   'title': 'Douglas Lane & Associates LLC Sells 322 Shares of Eli Lilly and Company (NYSE:LLY)'},\n",
       "  {'id': 78, 'title': 'Dow Jones+0.04%39,127.80'},\n",
       "  {'id': 79,\n",
       "   'title': 'Dynamic Advisor Solutions LLC Boosts Holdings in Eli Lilly and Company (NYSE:LLY)'},\n",
       "  {'id': 80,\n",
       "   'title': 'Eli Lilly  ( LLY )  Registers a Bigger Fall Than the Market: Important Facts to Note'},\n",
       "  {'id': 81,\n",
       "   'title': 'Eli Lilly  ( LLY )  Stock Drops Despite Market Gains: Important Facts to Note'},\n",
       "  {'id': 82,\n",
       "   'title': 'Eli Lilly & Co (LLY) Gets a Buy from Cantor Fitzgerald'},\n",
       "  {'id': 83, 'title': 'Eli Lilly & Co (LLY) Receives a Buy from Jefferies'},\n",
       "  {'id': 84,\n",
       "   'title': 'Eli Lilly & Co. (LLY) Declares $1.30 Quarterly Dividend; 0.6% Yield'},\n",
       "  {'id': 85,\n",
       "   'title': 'Eli Lilly (LLY) Registers a Bigger Fall Than the Market: Important Facts to Note'},\n",
       "  {'id': 86,\n",
       "   'title': 'Eli Lilly (LLY) Stock Drops Despite Market Gains: Important Facts to Note'},\n",
       "  {'id': 87,\n",
       "   'title': 'Eli Lilly (NYSE:LLY) Gains after Announcing OpenAI Partnership'},\n",
       "  {'id': 88,\n",
       "   'title': 'Eli Lilly (NYSE:LLY) Gains after Announcing OpenAI Partnership - TipRanks.com'},\n",
       "  {'id': 89,\n",
       "   'title': 'Eli Lilly (NYSE:LLY) Notches Up on Pursuit of Bogus Mounjaro'},\n",
       "  {'id': 90,\n",
       "   'title': 'Eli Lilly (NYSE:LLY) Notches Up on Pursuit of Bogus Mounjaro - TipRanks.com'},\n",
       "  {'id': 91,\n",
       "   'title': 'Eli Lilly And Company (LLY) Partners With OpenAI To Create “Novel Antimicrobials” For Drug-Resistant Pathogens'},\n",
       "  {'id': 92,\n",
       "   'title': 'Eli Lilly Expands Fight Against Counterfeit Obesity Drug Zepbound With New Legal Actions'},\n",
       "  {'id': 93,\n",
       "   'title': 'Eli Lilly Expands Fight Against Counterfeit Obesity Drug Zepbound With New Legal Actions - Novo Nordisk  ( NYSE:NVO ) , Eli Lilly and Co  ( NYSE:LLY ) '},\n",
       "  {'id': 94,\n",
       "   'title': 'Eli Lilly Files More Lawsuits at Sellers of Counterfeit Mounjaro, Zepbound'},\n",
       "  {'id': 95,\n",
       "   'title': 'Eli Lilly Has a New Drug That Could Push the Stock Higher'},\n",
       "  {'id': 96,\n",
       "   'title': 'Eli Lilly Scores Another Major Win and Lines Up Its Next Blockbuster'},\n",
       "  {'id': 97, 'title': 'Eli Lilly Stock Analysis: Buy, Hold, or Sell?'},\n",
       "  {'id': 98,\n",
       "   'title': 'Eli Lilly Stock At Yet-Another All-Time High. Check Out New Names Added To IBD Best Stocks Lists'},\n",
       "  {'id': 99,\n",
       "   'title': 'Eli Lilly Stock Runs Up 49% Amid Lofty Expectations For Weight-Loss Drug'}],\n",
       " [{'id': 100,\n",
       "   'title': \"Eli Lilly Stock: FDA Panelists Unanimously Back Lilly's Biogen-Rivaling Alzheimer's Drug\"},\n",
       "  {'id': 101,\n",
       "   'title': 'Eli Lilly Working With OpenAI to Develop Medicines Against Drug-Resistant Pathogens'},\n",
       "  {'id': 102,\n",
       "   'title': 'Eli Lilly and : An Open Letter From Eli Lilly and Company Regarding Certain Practices Related to Mounjaro® and Zepbound®'},\n",
       "  {'id': 103,\n",
       "   'title': 'Eli Lilly and : Lilly Warns Patients About Counterfeit and Compounded Medicines Releases Open Letter and Takes Further Legal Action Against Counterfeit, Fake, Unsafe, and Untested Products'},\n",
       "  {'id': 104,\n",
       "   'title': 'Eli Lilly and Company (NYSE:LLY) Given Buy Rating at Truist Financial'},\n",
       "  {'id': 105,\n",
       "   'title': 'Eli Lilly and Company (NYSE:LLY) Holdings Boosted by Cardano Risk Management B.V.'},\n",
       "  {'id': 106,\n",
       "   'title': 'Eli Lilly and Company (NYSE:LLY) Major Shareholder Lilly Endowment Inc Sells 17229 Shares'},\n",
       "  {'id': 107,\n",
       "   'title': 'Eli Lilly and Company (NYSE:LLY) Position Increased by Legacy Financial Strategies LLC'},\n",
       "  {'id': 108,\n",
       "   'title': 'Eli Lilly and Company (NYSE:LLY) Receives Buy Rating from Truist Financial'},\n",
       "  {'id': 109,\n",
       "   'title': 'Eli Lilly and Company (NYSE:LLY) Receives “Buy” Rating from Bank of America'},\n",
       "  {'id': 110,\n",
       "   'title': 'Eli Lilly and Company (NYSE:LLY) Receives “Overweight” Rating from Cantor Fitzgerald'},\n",
       "  {'id': 111,\n",
       "   'title': 'Eli Lilly and Company (NYSE:LLY) Shares Acquired by Aletheian Wealth Advisors LLC'},\n",
       "  {'id': 112,\n",
       "   'title': 'Eli Lilly and Company (NYSE:LLY) Shares Acquired by Annex Advisory Services LLC'},\n",
       "  {'id': 113,\n",
       "   'title': 'Eli Lilly and Company (NYSE:LLY) Shares Acquired by Atlas Brown Inc.'},\n",
       "  {'id': 114,\n",
       "   'title': 'Eli Lilly and Company (NYSE:LLY) Shares Acquired by Ballentine Partners LLC'},\n",
       "  {'id': 115,\n",
       "   'title': 'Eli Lilly and Company (NYSE:LLY) Shares Acquired by True North Advisors LLC'},\n",
       "  {'id': 116,\n",
       "   'title': 'Eli Lilly and Company (NYSE:LLY) Shares Bought by Ignite Planners LLC'},\n",
       "  {'id': 117,\n",
       "   'title': 'Eli Lilly and Company (NYSE:LLY) Shares Bought by Rise Advisors LLC'},\n",
       "  {'id': 118,\n",
       "   'title': 'Eli Lilly and Company (NYSE:LLY) Shares Bought by Salem Investment Counselors Inc.'},\n",
       "  {'id': 119,\n",
       "   'title': 'Eli Lilly and Company (NYSE:LLY) Shares Purchased by Grandview Asset Management LLC'},\n",
       "  {'id': 120,\n",
       "   'title': 'Eli Lilly and Company (NYSE:LLY) Shares Purchased by Marion Wealth Management'},\n",
       "  {'id': 121,\n",
       "   'title': 'Eli Lilly and Company (NYSE:LLY) Shares Purchased by Rheos Capital Works Inc.'},\n",
       "  {'id': 122,\n",
       "   'title': 'Eli Lilly and Company (NYSE:LLY) Shares Sold by Affinity Capital Advisors LLC'},\n",
       "  {'id': 123,\n",
       "   'title': 'Eli Lilly and Company (NYSE:LLY) Shares Sold by Allen Mooney & Barnes Investment Advisors LLC'},\n",
       "  {'id': 124,\n",
       "   'title': 'Eli Lilly and Company (NYSE:LLY) Shares Sold by American National Bank'},\n",
       "  {'id': 125,\n",
       "   'title': 'Eli Lilly and Company (NYSE:LLY) Shares Sold by Carlson Capital Management'},\n",
       "  {'id': 126,\n",
       "   'title': 'Eli Lilly and Company (NYSE:LLY) Shares Sold by Central Bank & Trust Co.'},\n",
       "  {'id': 127,\n",
       "   'title': 'Eli Lilly and Company (NYSE:LLY) Shares Sold by Enterprise Bank & Trust Co'},\n",
       "  {'id': 128,\n",
       "   'title': 'Eli Lilly and Company (NYSE:LLY) Shares Sold by First Hawaiian Bank'},\n",
       "  {'id': 129,\n",
       "   'title': 'Eli Lilly and Company (NYSE:LLY) Shares Sold by GSG Advisors LLC'},\n",
       "  {'id': 130,\n",
       "   'title': 'Eli Lilly and Company (NYSE:LLY) Shares Sold by Meyer Handelman Co.'},\n",
       "  {'id': 131,\n",
       "   'title': 'Eli Lilly and Company (NYSE:LLY) Shares Sold by Paragon Capital Management Ltd'},\n",
       "  {'id': 132,\n",
       "   'title': 'Eli Lilly and Company (NYSE:LLY) Shares Sold by Quad Cities Investment Group LLC'},\n",
       "  {'id': 133,\n",
       "   'title': 'Eli Lilly and Company (NYSE:LLY) Shares Sold by Walker Asset Management LLC'},\n",
       "  {'id': 134,\n",
       "   'title': 'Eli Lilly and Company (NYSE:LLY) Shares Up 1.5% Following Dividend Announcement'},\n",
       "  {'id': 135,\n",
       "   'title': 'Eli Lilly and Company (NYSE:LLY) Stake Cut by Madison Park Capital Advisors LLC'},\n",
       "  {'id': 136,\n",
       "   'title': 'Eli Lilly and Company (NYSE:LLY) Stake Lessened by Rowlandmiller & PARTNERS.ADV'},\n",
       "  {'id': 137,\n",
       "   'title': 'Eli Lilly and Company (NYSE:LLY) Stake Lowered by Gateway Investment Advisers LLC'},\n",
       "  {'id': 138,\n",
       "   'title': 'Eli Lilly and Company (NYSE:LLY) Stock Holdings Lifted by MADDEN SECURITIES Corp'},\n",
       "  {'id': 139,\n",
       "   'title': 'Eli Lilly and Company (NYSE:LLY) Stock Holdings Lifted by Wedmont Private Capital'},\n",
       "  {'id': 140,\n",
       "   'title': 'Eli Lilly and Company (NYSE:LLY) Stock Position Increased by Aletheian Wealth Advisors LLC'},\n",
       "  {'id': 141,\n",
       "   'title': 'Eli Lilly and Company (NYSE:LLY) Stock Position Lifted by Fermata Advisors LLC'},\n",
       "  {'id': 142,\n",
       "   'title': 'Eli Lilly and Company (NYSE:LLY) Stock Price Down 0.3%'},\n",
       "  {'id': 143, 'title': 'Eli Lilly and Company (NYSE:LLY) Stock Price Up 0.7%'},\n",
       "  {'id': 144,\n",
       "   'title': 'Eli Lilly and Company (NYSE:LLY) Trading Down 0% Following Insider Selling'},\n",
       "  {'id': 145,\n",
       "   'title': 'Eli Lilly and Company (NYSE:LLY) Trading Up 1.5% After Analyst Upgrade'},\n",
       "  {'id': 146,\n",
       "   'title': \"Eli Lilly and Company (NYSE:LLY) is Gunderson Capital Management Inc.'s 2nd Largest Position\"},\n",
       "  {'id': 147,\n",
       "   'title': 'Eli Lilly and Company (NYSE:LLY) is Sanders Morris Harris LLC’s 9th Largest Position'},\n",
       "  {'id': 148,\n",
       "   'title': 'Eli Lilly and Company (NYSE:LLY) is Summit Financial Group Inc.’s 4th Largest Position'},\n",
       "  {'id': 149,\n",
       "   'title': \"Eli Lilly and Company's (LLY) Overweight Rating Reaffirmed at Cantor Fitzgerald\"}],\n",
       " [{'id': 150,\n",
       "   'title': 'Eli Lilly and Company’s (LLY) Buy Rating Reiterated at Truist Financial'},\n",
       "  {'id': 151,\n",
       "   'title': \"Eli Lilly and Novo Nordisk are a 'duopoly' in GLP-1 market\"},\n",
       "  {'id': 152,\n",
       "   'title': 'Eli Lilly collaborates with OpenAI for medicines against drug-resistant bacteria'},\n",
       "  {'id': 153,\n",
       "   'title': 'Eli Lilly collaborates with OpenAI to discover novel antimicrobials'},\n",
       "  {'id': 154, 'title': 'Eli Lilly declares $1.30 dividend'},\n",
       "  {'id': 155,\n",
       "   'title': 'Eli Lilly files lawsuits to stop sales of counterfeit Mounjaro, Reuters reports'},\n",
       "  {'id': 156,\n",
       "   'title': 'Eli Lilly inks OpenAI deal for discovering new antibiotics'},\n",
       "  {'id': 157,\n",
       "   'title': 'Eli Lilly is cracking down on knock off versions of its popular weight loss and diabetes drug'},\n",
       "  {'id': 158,\n",
       "   'title': 'Eli Lilly participates in a conference call with Cantor Fitzgerald'},\n",
       "  {'id': 159,\n",
       "   'title': \"Eli Lilly price target raised by $108 at Truist, here's why\"},\n",
       "  {'id': 160,\n",
       "   'title': \"Eli Lilly price target raised by $21 at Jefferies, here's why\"},\n",
       "  {'id': 161,\n",
       "   'title': 'Eli Lilly ramps up efforts against fake weight loss drugs'},\n",
       "  {'id': 162,\n",
       "   'title': 'Eli Lilly reports tirzepatide reduced obstructive sleep apnea severity in study'},\n",
       "  {'id': 163,\n",
       "   'title': 'Eli Lilly seeks to expand Zepbound use to treat sleep apnea'},\n",
       "  {'id': 164,\n",
       "   'title': \"Eli Lilly sleep apnea data 'represent a clear win,' says Barclays\"},\n",
       "  {'id': 165,\n",
       "   'title': 'Eli Lilly unveils new North Carolina plant for GLP-1 drugs'},\n",
       "  {'id': 166,\n",
       "   'title': 'Eli Lilly unveils new manufacturing plant for GLP-1 pens'},\n",
       "  {'id': 167,\n",
       "   'title': 'Eli Lilly wants to replace Zepbound with an even stronger weight loss drug'},\n",
       "  {'id': 168, 'title': \"Eli Lilly's Growth Prospects Just Got a Huge Upgrade\"},\n",
       "  {'id': 169,\n",
       "   'title': \"Eli Lilly's Weight-Loss Drug Takes Down ResMed, Inspire Medical  Again\"},\n",
       "  {'id': 170,\n",
       "   'title': \"Eli Lilly's Weight-Loss Drug Takes Down ResMed, Inspire Medical — Again\"},\n",
       "  {'id': 171,\n",
       "   'title': \"Eli Lilly's Zepbound For Weight Loss Shows Disease Resolution In Obese Sleep Apnea Patients, Lays Further Groundwork For Label Expansion\"},\n",
       "  {'id': 172,\n",
       "   'title': 'Eli Lilly: Throwing Its Weight Around - But, For How Long? (NYSE:LLY)'},\n",
       "  {'id': 173,\n",
       "   'title': 'Eli Lilly: Throwing Its Weight Around - But, For How Long? (Technical Analysis)'},\n",
       "  {'id': 174, 'title': 'Eli Lilly: collaboration agreement with OpenAI'},\n",
       "  {'id': 175, 'title': 'Eli Lilly: warning about counterfeit products'},\n",
       "  {'id': 176,\n",
       "   'title': 'Eli Lillys Weight-Loss Franchise Has Been a Massive Winner Under Dave Ricks'},\n",
       "  {'id': 177,\n",
       "   'title': 'Eli Lilly’s Tirzepatide Shows Promising Results in Sleep Apnea Treatment, Justifying a Buy Rating'},\n",
       "  {'id': 178,\n",
       "   'title': 'Eli Lilly’s Weight-Loss Franchise Has Been a Massive Winner Under Dave Ricks'},\n",
       "  {'id': 179,\n",
       "   'title': 'Ellenbecker Investment Group Acquires Shares of 290 Eli Lilly and Company (NYSE:LLY)'},\n",
       "  {'id': 180, 'title': 'Entertainment'},\n",
       "  {'id': 181, 'title': 'Exit Alert: 3 Stocks to Offload Before the Downturn'},\n",
       "  {'id': 182, 'title': 'Fact Check: Did the CIA Want Julian Assange Killed?'},\n",
       "  {'id': 183,\n",
       "   'title': 'Factory Mutual Insurance Co. Has $81.14 Million Position in Eli Lilly and Company (NYSE:LLY)'},\n",
       "  {'id': 184,\n",
       "   'title': 'Factory Mutual Insurance Co. Sells 1,100 Shares of Eli Lilly and Company (NYSE:LLY)'},\n",
       "  {'id': 185,\n",
       "   'title': \"Fake weight loss drugs, and Novo Nordisk's CEO will face Bernie Sanders: Pharma news roundup\"},\n",
       "  {'id': 186,\n",
       "   'title': 'Farmers Trust Co. Has $384,000 Position in Eli Lilly and Company (NYSE:LLY)'},\n",
       "  {'id': 187,\n",
       "   'title': \"Fed's favorite inflation reading highlights last week of Q2: What to know this week\"},\n",
       "  {'id': 188,\n",
       "   'title': 'Federal Reserve says all 31 banks in annual stress test withstood a severe hypothetical downturn'},\n",
       "  {'id': 189, 'title': 'Fly Intel: Pre-market Movers'},\n",
       "  {'id': 190,\n",
       "   'title': 'Food companies worried about weight loss drugs can just make healthier food, Eli Lilly CEO says'},\n",
       "  {'id': 191,\n",
       "   'title': 'Forbes J M & Co. LLP Has $1.22 Million Stock Holdings in Eli Lilly and Company (NYSE:LLY)'},\n",
       "  {'id': 192,\n",
       "   'title': 'Forbes J M & Co. LLP Sells 25 Shares of Eli Lilly and Company (NYSE:LLY)'},\n",
       "  {'id': 193,\n",
       "   'title': 'Forget Eli Lilly, Buy This Magnificent Biotech Stock Instead'},\n",
       "  {'id': 194,\n",
       "   'title': 'Fort Pitt Capital Group LLC Sells 32 Shares of Eli Lilly and Company (NYSE:LLY)'},\n",
       "  {'id': 195,\n",
       "   'title': 'Foster Group Inc. Acquires 51 Shares of Eli Lilly and Company (NYSE:LLY)'},\n",
       "  {'id': 196,\n",
       "   'title': \"From Sci-Fi Dream to Market Maze: Eli Lilly's Weight-Loss Medication Faces Hurdles\"},\n",
       "  {'id': 197, 'title': 'Full Coverage'},\n",
       "  {'id': 198,\n",
       "   'title': 'GAMMA Investing LLC Has $5.29 Million Holdings in Eli Lilly and Company (NYSE:LLY)'},\n",
       "  {'id': 199, 'title': 'GLP-1 drugs linked to reduced dementia risk: study'}],\n",
       " [{'id': 200,\n",
       "   'title': 'GLP-1 weight loss meds + exercise seen preserving bone health'},\n",
       "  {'id': 201,\n",
       "   'title': 'German Drug Developer Evotec Seeks Adviser Input As Takeover Concerns Mount'},\n",
       "  {'id': 202,\n",
       "   'title': 'German Drug Developer Evotec Seeks Adviser Input As Takeover Concerns Mount - Evotec  ( NASDAQ:EVO ) '},\n",
       "  {'id': 203,\n",
       "   'title': 'Gilead Sciences Faces Wall Street Speculation About Obesity Drugs Despite Focus On Liver Treatments'},\n",
       "  {'id': 204,\n",
       "   'title': 'Gilead Sciences Faces Wall Street Speculation About Obesity Drugs Despite Focus On Liver Treatments - Gilead Sciences  ( NASDAQ:GILD ) '},\n",
       "  {'id': 205,\n",
       "   'title': 'Gilead Sciences Jumps After Its Weight-Loss Drug Emerges From Under The Radar'},\n",
       "  {'id': 206,\n",
       "   'title': 'Gilman Hill Asset Management LLC Lowers Stake in Eli Lilly and Company (NYSE:LLY)'},\n",
       "  {'id': 207,\n",
       "   'title': 'Global Assets Advisory LLC Invests $325.42 Million in Eli Lilly and Company (NYSE:LLY)'},\n",
       "  {'id': 208,\n",
       "   'title': 'Global Assets Advisory LLC Takes Position in Eli Lilly and Company (NYSE:LLY)'},\n",
       "  {'id': 209,\n",
       "   'title': 'Global Trust Asset Management LLC Sells 300 Shares of Eli Lilly and Company (NYSE:LLY)'},\n",
       "  {'id': 210,\n",
       "   'title': 'Gordon Ramsay Threw Swimmer Lia Thomas Out of His Restaurant?'},\n",
       "  {'id': 211,\n",
       "   'title': 'Grandview Asset Management LLC Purchases 227 Shares of Eli Lilly and Company (NYSE:LLY)'},\n",
       "  {'id': 212,\n",
       "   'title': 'Gulf International Bank UK Ltd Has $53.45 Million Stock Holdings in Eli Lilly and Company (NYSE:LLY)'},\n",
       "  {'id': 213,\n",
       "   'title': 'Harbor Investment Advisory LLC Has $8.05 Million Stock Holdings in Eli Lilly and Company (NYSE:LLY)'},\n",
       "  {'id': 214,\n",
       "   'title': 'Harbor Investment Advisory LLC Purchases 421 Shares of Eli Lilly and Company (NYSE:LLY)'},\n",
       "  {'id': 215,\n",
       "   'title': \"Here's How Much a $1000 Investment in Eli Lilly Made 10 Years Ago Would Be Worth Today\"},\n",
       "  {'id': 216,\n",
       "   'title': \"Here's Why Eli Lilly  ( LLY )  is Probably the Best Drug Stock Now\"},\n",
       "  {'id': 217,\n",
       "   'title': \"Here's Why Eli Lilly (LLY) is Probably the Best Drug Stock Now\"},\n",
       "  {'id': 218,\n",
       "   'title': 'High Net Worth Advisory Group LLC Acquires 67 Shares of Eli Lilly and Company (NYSE:LLY)'},\n",
       "  {'id': 219,\n",
       "   'title': \"Highland Park parade shooting suspect rejects guilty plea deal, crushing victims' families: 'Evil and manipulative'\"},\n",
       "  {'id': 220,\n",
       "   'title': 'Hims & Hers defended at BofA as Lilly fights compounded GLP-1s'},\n",
       "  {'id': 221,\n",
       "   'title': \"How Lilly is joining Novo in the crusade to circumvent Medicare's block on weight loss drugs\"},\n",
       "  {'id': 222, 'title': 'How Long Can Extreme Concentration Last?'},\n",
       "  {'id': 223, 'title': 'How To Invest After A Follow-Through Day'},\n",
       "  {'id': 224,\n",
       "   'title': 'How consumer spending, election impact markets: Market Domination'},\n",
       "  {'id': 225,\n",
       "   'title': 'Hype Busters: 3 Overvalued Stocks Ready for a Reality Check'},\n",
       "  {'id': 226,\n",
       "   'title': \"In Search of the Rarest Book in American Literature: Edgar Allan Poe's Tamerlane\"},\n",
       "  {'id': 227,\n",
       "   'title': 'Independent Wealth Network Inc. Decreases Stake in Eli Lilly and Company (NYSE:LLY)'},\n",
       "  {'id': 228,\n",
       "   'title': 'Insider Selling: Eli Lilly and Company (NYSE:LLY) Major Shareholder Sells 17,229 Shares of Stock'},\n",
       "  {'id': 229,\n",
       "   'title': 'Insider Trade: Lilly Endowment Sells Eli Lilly Shares Worth $172M'},\n",
       "  {'id': 230,\n",
       "   'title': \"Inspire Medical price target lowered by $40 at Stifel, here's why\"},\n",
       "  {'id': 231,\n",
       "   'title': 'Inspire Medical, ResMed decline following Lilly tirzepatide sleep apnea data'},\n",
       "  {'id': 232,\n",
       "   'title': 'Insulet Points Its Insulin Pump at the Big Diabetes Market: Type 2'},\n",
       "  {'id': 233,\n",
       "   'title': 'International Assets Investment Management LLC Has $10.46 Million Position in Eli Lilly and Company (NYSE:LLY)'},\n",
       "  {'id': 234,\n",
       "   'title': 'International Assets Investment Management LLC Purchases 1,160 Shares of Eli Lilly and Company (NYSE:LLY)'},\n",
       "  {'id': 235,\n",
       "   'title': 'Investors Heavily Search Eli Lilly and Company  ( LLY ) : Here is What You Need to Know'},\n",
       "  {'id': 236,\n",
       "   'title': 'Investors Heavily Search Eli Lilly and Company (LLY): Here is What You Need to Know'},\n",
       "  {'id': 237,\n",
       "   'title': 'Is Eli Lilly  ( LLY )  a Buy on Tirzepatide Success in Sleep Apnea?'},\n",
       "  {'id': 238,\n",
       "   'title': 'Is Eli Lilly (LLY) a Buy on Tirzepatide Success in Sleep Apnea?'},\n",
       "  {'id': 239,\n",
       "   'title': \"Is Eli Lilly Stock A Buy After FDA Advisors Back Its Alzheimer's Drug?\"},\n",
       "  {'id': 240,\n",
       "   'title': \"Is Lilly Stock A Buy After FDA Advisors Back Its Alzheimer's Drug?\"},\n",
       "  {'id': 241,\n",
       "   'title': \"It's Not Just a Bad Day for Chip Stocks. ResMed Is the S&P 500s Top Decliner.\"},\n",
       "  {'id': 242,\n",
       "   'title': \"It's Not Just a Bad Day for Chip Stocks. ResMed Is the S&P 500’s Top Decliner.\"},\n",
       "  {'id': 243,\n",
       "   'title': 'Jacobs & Co. CA Has $17.53 Million Stake in Eli Lilly and Company (NYSE:LLY)'},\n",
       "  {'id': 244,\n",
       "   'title': \"Jimmy Butler to play out existing contract, won't sign extension\"},\n",
       "  {'id': 245,\n",
       "   'title': 'June consumer sentiment disappoints, Tesla short-selling: Catalysts'},\n",
       "  {'id': 246,\n",
       "   'title': 'Justices seem set to allow emergency abortions in Idaho for now, a prematurely posted opinion says'},\n",
       "  {'id': 247,\n",
       "   'title': 'KMG Fiduciary Partners LLC Has $19.80 Million Holdings in Eli Lilly and Company (NYSE:LLY)'},\n",
       "  {'id': 248,\n",
       "   'title': 'Kenyan President Ruto withdraws controversial finance bill following deadly protests'},\n",
       "  {'id': 249,\n",
       "   'title': 'La-Z-Boy and Winnebago have been highlighted as Zacks Bull and Bear of the Day'}],\n",
       " [{'id': 250,\n",
       "   'title': 'Lantz Financial LLC Increases Stake in Eli Lilly and Company (NYSE:LLY)'},\n",
       "  {'id': 251,\n",
       "   'title': 'Lawmakers to vote on if Medicare could cover obesity drugs'},\n",
       "  {'id': 252,\n",
       "   'title': 'Lawsuit Could Challenge Trust In Ozempic And Other Popular Weight Loss Drugs'},\n",
       "  {'id': 253,\n",
       "   'title': 'Liberty Capital Management Inc. Sells 15 Shares of Eli Lilly and Company (NYSE:LLY)'},\n",
       "  {'id': 254, 'title': 'Lilly Declares Third-Quarter 2024 Dividend'},\n",
       "  {'id': 255,\n",
       "   'title': 'Lilly Endowment Inc Sells 9671 Shares of Eli Lilly and Company (NYSE:LLY) Stock'},\n",
       "  {'id': 256,\n",
       "   'title': 'Lilly Weight-Loss Drug Data Spurs Selloff in Sleep Apnea Stocks'},\n",
       "  {'id': 257,\n",
       "   'title': 'Lilly collaborates with OpenAI to discover novel medicines to treat drug-resistant bacteria'},\n",
       "  {'id': 258,\n",
       "   'title': 'Lilly collaborates with OpenAI to discover novel medicines to treat drug-resistant bacteria | Eli Lilly and Company'},\n",
       "  {'id': 259,\n",
       "   'title': 'Lilly files additional lawsuits over US sales of counterfeit Mounjaro'},\n",
       "  {'id': 260,\n",
       "   'title': 'Lilly gains approval of lebrikizumab in Canada for atopic dermatitis'},\n",
       "  {'id': 261,\n",
       "   'title': 'Lilly joins fellow pharma giants in OpenAI partnership'},\n",
       "  {'id': 262,\n",
       "   'title': 'Lilly partners with OpenAI to develop medicines for drug-resistant bacteria'},\n",
       "  {'id': 263,\n",
       "   'title': 'Lilly weight loss drug tirzepatide meets primary endpoint in sleep apnea study'},\n",
       "  {'id': 264,\n",
       "   'title': 'Lilly&apos;s tirzepatide reduced obstructive sleep apnea (OSA) severity, with up to 51.5% of participants meeting the criteria for disease resolution'},\n",
       "  {'id': 265,\n",
       "   'title': \"Lilly's Weight-Loss Drug Takes Down ResMed, Inspire - Again\"},\n",
       "  {'id': 266,\n",
       "   'title': \"Lilly's tirzepatide reduced obstructive sleep apnea (OSA) severity, with up to 51.5% of participants meeting the criteria ...\"},\n",
       "  {'id': 267,\n",
       "   'title': \"Lilly's tirzepatide reduced obstructive sleep apnea (OSA) severity, with up to 51.5% of participants meeting the criteria for disease resolution\"},\n",
       "  {'id': 268,\n",
       "   'title': \"Lilly's tirzepatide was superior to placebo for MASH resolution, and more than half of patients achieved improvement in ...\"},\n",
       "  {'id': 269,\n",
       "   'title': 'Lilly, Novo Nordisk to dominate weight loss therapy market: SA Investing Summit'},\n",
       "  {'id': 270,\n",
       "   'title': 'Lillys Phase II results in Alzheimers disease have most experts saying donanemab is done'},\n",
       "  {'id': 271,\n",
       "   'title': 'Lillys Weight-Loss Drug Is a Huge Hit. Its CEO Wants to Replace It ASAP.'},\n",
       "  {'id': 272,\n",
       "   'title': 'Lillys tirzepatide reduces OSA severity in Phase III clinical trials'},\n",
       "  {'id': 273,\n",
       "   'title': 'Lilly’s tirzepatide reduces OSA severity in Phase III clinical trials'},\n",
       "  {'id': 274,\n",
       "   'title': 'Lloyd Advisory Services LLC. Grows Holdings in Eli Lilly and Company (NYSE:LLY)'},\n",
       "  {'id': 275,\n",
       "   'title': 'Los Angeles Capital Management LLC Raises Holdings in Eli Lilly and Company (NYSE:LLY)'},\n",
       "  {'id': 276,\n",
       "   'title': 'Lynch & Associates IN Acquires 143 Shares of Eli Lilly and Company (NYSE:LLY)'},\n",
       "  {'id': 277,\n",
       "   'title': 'M. Kraus & Co Sells 15 Shares of Eli Lilly and Company (NYSE:LLY)'},\n",
       "  {'id': 278,\n",
       "   'title': 'MJP Associates Inc. ADV Buys 604 Shares of Eli Lilly and Company (NYSE:LLY)'},\n",
       "  {'id': 279,\n",
       "   'title': 'Marcum Wealth LLC Increases Position in Eli Lilly and Company (NYSE:LLY)'},\n",
       "  {'id': 280,\n",
       "   'title': 'Market Street Wealth Management Advisors LLC Raises Stock Position in Eli Lilly and Company (NYSE:LLY)'},\n",
       "  {'id': 281,\n",
       "   'title': \"Market Today: Eli Lilly's Tirzepatide Success, AeroVironment Faces Competition, and More\"},\n",
       "  {'id': 282,\n",
       "   'title': 'Market shifting focus to softening growth from inflation, Morgan Stanley and BofA say'},\n",
       "  {'id': 283,\n",
       "   'title': \"Matthew Perry's ketamine suppliers could face charges in probe of 'Friends' star's death, sources say\"},\n",
       "  {'id': 284,\n",
       "   'title': 'Mechanics Bank Trust Department Has $3.22 Million Position in Eli Lilly and Company (NYSE:LLY)'},\n",
       "  {'id': 285,\n",
       "   'title': 'Meyer Handelman Co. Sells 919 Shares of Eli Lilly and Company (NYSE:LLY)'},\n",
       "  {'id': 286,\n",
       "   'title': \"Mom who slit children's throats and left them for dead on NYC sidewalk hit with 30 years-to-life sentence: DA\"},\n",
       "  {'id': 287,\n",
       "   'title': 'Montecito Bank & Trust Trims Stake in Eli Lilly and Company (NYSE:LLY)'},\n",
       "  {'id': 288,\n",
       "   'title': 'Moody National Bank Trust Division Has $9.37 Million Stock Holdings in Eli Lilly and Company (NYSE:LLY)'},\n",
       "  {'id': 289, 'title': 'More on weather.com'},\n",
       "  {'id': 290,\n",
       "   'title': 'More than 60 ice cream products recalled over possible listeria contamination'},\n",
       "  {'id': 291,\n",
       "   'title': 'Mounjaro Is Targeting Another Multibillion-Dollar Market: Is Eli Lilly Stock a Buy?'},\n",
       "  {'id': 292,\n",
       "   'title': \"Move Aside Ozempic, WeGovy: Denmark's New Drug Just Showed Positive Results For Weightloss\"},\n",
       "  {'id': 293,\n",
       "   'title': \"Move Aside Ozempic, WeGovy: Denmark's New Drug Just Showed Positive Results For Weightloss - Novo Nordisk  ( OTC:NONOF ) , Eli Lilly and Co  ( NYSE:LLY ) \"},\n",
       "  {'id': 294,\n",
       "   'title': 'Murphy Pohlad Asset Management LLC Reduces Stock Holdings in Eli Lilly and Company (NYSE:LLY)'},\n",
       "  {'id': 295,\n",
       "   'title': 'NVO Stock: Novo Nordisk Pops as China Approves Wegovy Weight Loss Drug'},\n",
       "  {'id': 296,\n",
       "   'title': \"NYC home to the world's top tourist attraction for 2024 — beating out the Eiffel Tower and the Colosseum\"},\n",
       "  {'id': 297, 'title': 'Nasdaq+0.49%17,805.16'},\n",
       "  {'id': 298,\n",
       "   'title': 'Nektar Therapeutics Likely To Drift And Wobble Ahead Of Key Phase II Data In 2025'},\n",
       "  {'id': 299,\n",
       "   'title': 'Nestle Carefully Targets Weight-Loss Drug Users with New Food Line'}],\n",
       " [{'id': 300,\n",
       "   'title': 'Nestle Carefully Targets Weight-Loss Drug Users with New Food Line - Novo Nordisk  ( NYSE:NVO ) , Eli Lilly and Co  ( NYSE:LLY ) , Nestle  ( OTC:NSRGY ) '},\n",
       "  {'id': 301,\n",
       "   'title': 'New Hampshire Trust Purchases 28 Shares of Eli Lilly and Company (NYSE:LLY)'},\n",
       "  {'id': 302,\n",
       "   'title': 'New Jersey man warning beachgoers about storm killed by lightning strike'},\n",
       "  {'id': 303,\n",
       "   'title': 'New Weight-Loss Drugs and Devices Are Coming This Week'},\n",
       "  {'id': 304, 'title': 'News Showcase'},\n",
       "  {'id': 305,\n",
       "   'title': \"Nicole Kidman and Daughter Sunday's Twinning Moment at Paris Fashion Week Is Practically Magic - E! Online\"},\n",
       "  {'id': 306,\n",
       "   'title': \"No, Maine's first LGBTQ+ affordable housing project isn't against the law\"},\n",
       "  {'id': 307, 'title': 'Noteworthy Friday Option Activity: LLY, GS, BX'},\n",
       "  {'id': 308,\n",
       "   'title': 'Novo Nordisk  ( NVO )  to Invest $4.1B in Clayton Facility Expansion'},\n",
       "  {'id': 309,\n",
       "   'title': 'Novo Nordisk (NVO) to Invest $4.1B in Clayton Facility Expansion'},\n",
       "  {'id': 310,\n",
       "   'title': 'Novo Nordisk Breaks Out To An All-Time High On China Approval Of Wegovy'},\n",
       "  {'id': 311,\n",
       "   'title': 'Novo Nordisk Eyes Another U.S. Plant; Bags Key Approval in China'},\n",
       "  {'id': 312, 'title': 'Novo Nordisk Rises as Wegovy Is Approved in China'},\n",
       "  {'id': 313,\n",
       "   'title': 'Novo Nordisk to invest $4.1B in NC facility for GLP-1 drugs'},\n",
       "  {'id': 314,\n",
       "   'title': 'Novo Nordisk to spend $4.1B to build new plant for obesity drugs in N.C.'},\n",
       "  {'id': 315,\n",
       "   'title': \"Novo Nordisk's Older Generation Weight-Loss Drug Saxenda Associated With Decreased Bone Mass Density, Study Shows - Novo Nordisk  ( NYSE:NVO ) \"},\n",
       "  {'id': 316,\n",
       "   'title': 'Novo Nordisk, Eli Lilly still top 2 pharma stocks: Analyst'},\n",
       "  {'id': 317,\n",
       "   'title': 'Novo to spend $4B on US plant, adding to obesity drug production push'},\n",
       "  {'id': 318,\n",
       "   'title': 'Nyxoah price target lowered to $19 from $27 at Stifel'},\n",
       "  {'id': 319,\n",
       "   'title': 'Obesity drug used in Mounjaro and Zepbound may help treat dangerous sleep apnea'},\n",
       "  {'id': 320,\n",
       "   'title': 'Obesity drugs from Altimmune, Hengrui show potential; Lilly details Zepbound sleep apnea data'},\n",
       "  {'id': 321,\n",
       "   'title': 'Obesity-Drug Developers Look at Whats Next for a $100 Billion Market'},\n",
       "  {'id': 322,\n",
       "   'title': 'Obesity-Drug Developers Look at What’s Next for a $100 Billion Market'},\n",
       "  {'id': 323,\n",
       "   'title': 'Orser Capital Management LLC Purchases 36 Shares of Eli Lilly and Company (NYSE:LLY)'},\n",
       "  {'id': 324,\n",
       "   'title': 'PPS&V Asset Management Consultants Inc. Sells 24 Shares of Eli Lilly and Company (NYSE:LLY)'},\n",
       "  {'id': 325,\n",
       "   'title': 'Pacifica Partners Inc. Has $510,000 Stock Position in Eli Lilly and Company (NYSE:LLY)'},\n",
       "  {'id': 326,\n",
       "   'title': 'Peak Financial Advisors LLC Decreases Holdings in Eli Lilly and Company (NYSE:LLY)'},\n",
       "  {'id': 327,\n",
       "   'title': \"Planet Fitness upgraded, Comcast downgraded: Wall Street's top analyst calls\"},\n",
       "  {'id': 328, 'title': 'Pre-Market Movers - June 21, 2024'},\n",
       "  {'id': 329,\n",
       "   'title': 'Pre-diabetes rates increase amidst a renaissance for type 2 diabetes research'},\n",
       "  {'id': 330,\n",
       "   'title': 'RFG Advisory LLC Has $5.06 Million Stock Position in Eli Lilly and Company (NYSE:LLY)'},\n",
       "  {'id': 331,\n",
       "   'title': 'Radnor Capital Management LLC Trims Position in Eli Lilly and Company (NYSE:LLY)'},\n",
       "  {'id': 332,\n",
       "   'title': 'Range Financial Group LLC Acquires 60 Shares of Eli Lilly and Company (NYSE:LLY)'},\n",
       "  {'id': 333,\n",
       "   'title': \"ResMed Stock Collapses After Eli Lilly's Weight-Loss Drug Reduces Sleep Apnea Events\"},\n",
       "  {'id': 334,\n",
       "   'title': 'ResMed Stock Dives. Blame Eli Lillys Zepbound Trials for Sleep Apnea.'},\n",
       "  {'id': 335,\n",
       "   'title': 'ResMed Stock Dives. Blame Eli Lilly’s Zepbound Trials for Sleep Apnea.'},\n",
       "  {'id': 336,\n",
       "   'title': 'ResMed Stock Is Sinking. Blame Eli Lillys Zepbound Trials for Sleep Apnea.'},\n",
       "  {'id': 337,\n",
       "   'title': 'ResMed Stock Is Sinking. Blame Lillys Zepbound Trials for Sleep Apnea.'},\n",
       "  {'id': 338,\n",
       "   'title': 'ResMed cut at Oppenheimer after Eli Lilly’s tirzepatide sleep apnea data'},\n",
       "  {'id': 339,\n",
       "   'title': 'ResMed shares slip after Eli Lilly reports sleep apnea study data'},\n",
       "  {'id': 340,\n",
       "   'title': 'ResMed, Philips under pressure as Eli Lilly seeks sleep indication for weight loss drug'},\n",
       "  {'id': 341, 'title': \"Roche: Obesity Treatment's Promise Isn't Enough\"},\n",
       "  {'id': 342,\n",
       "   'title': 'Rockland Trust Co. Sells 338 Shares of Eli Lilly and Company (NYSE:LLY)'},\n",
       "  {'id': 343, 'title': 'Russell-0.21%2,018.12'},\n",
       "  {'id': 344,\n",
       "   'title': 'S&P 500 Gains and Losses Today: Oil Stocks Surge Amid Global Tensions, Summer Demand'},\n",
       "  {'id': 345, 'title': 'S&P 500+0.16%5,477.90'},\n",
       "  {'id': 346,\n",
       "   'title': \"Seattle's Living Computers Museum logs off for good as Paul Allen estate will auction vintage items\"},\n",
       "  {'id': 347,\n",
       "   'title': 'Sector Update: Health Care Stocks Higher Late Afternoon'},\n",
       "  {'id': 348,\n",
       "   'title': 'Severe Thunderstorm WatchTHE NATIONAL WEATHER SERVICE HAS ISSUED SEVERE THUNDERSTORM WATCH 469 IN EFFECT UNTIL MIDNIGHT EDT TONIGHT FOR THE FOLLOWING AREAS IN CONNECTICUT THIS WATCH INCLUDES 4 COUNTIES ...'},\n",
       "  {'id': 349,\n",
       "   'title': 'Shilanski & Associates Inc. Cuts Stake in Eli Lilly and Company (NYSE:LLY)'}],\n",
       " [{'id': 350, 'title': 'Six key takeaways from the last TV leadership debate'},\n",
       "  {'id': 351,\n",
       "   'title': 'Sources - Wizards trading forward Deni Avdija to Trail Blazers'},\n",
       "  {'id': 352,\n",
       "   'title': 'Southland Equity Partners LLC Grows Holdings in Eli Lilly and Company (NYSE:LLY)'},\n",
       "  {'id': 353,\n",
       "   'title': 'Stableford Capital II LLC Acquires 635 Shares of Eli Lilly and Company (NYSE:LLY)'},\n",
       "  {'id': 354, 'title': 'Star Tracks: Sophia Bush, Ashlyn Harris and More'},\n",
       "  {'id': 355,\n",
       "   'title': 'Steam Just Made It Super Easy To Record All Your Biggest Gaming Moments'},\n",
       "  {'id': 356,\n",
       "   'title': 'Stocks close higher, Trump tax cuts: Market Domination Overtime'},\n",
       "  {'id': 357,\n",
       "   'title': 'Sunflower Bank N.A. Lowers Position in Eli Lilly and Company (NYSE:LLY)'},\n",
       "  {'id': 358,\n",
       "   'title': 'Supreme Court Appears Poised to Allow, for Now, Emergency Abortions in Idaho'},\n",
       "  {'id': 359,\n",
       "   'title': \"Supreme Court conservatives clash over ruling on Biden's social media influence\"},\n",
       "  {'id': 360,\n",
       "   'title': 'Supreme Court declines to say if accidentally posted Idaho abortion is final'},\n",
       "  {'id': 361,\n",
       "   'title': 'Supreme Court wipes out anti-corruption law that bars officials from taking gifts for past favors'},\n",
       "  {'id': 362,\n",
       "   'title': 'Takeda gets EU approval for Fruzaqla for colorectal cancer'},\n",
       "  {'id': 363,\n",
       "   'title': 'Tech sector growth, EU considers fining Apple: Morning Brief'},\n",
       "  {'id': 364,\n",
       "   'title': 'The Fed Needs to Cut Rates Eventually Amid This Economic Slowdown. Heres Why, and 4 Other Things to Know Today.'},\n",
       "  {'id': 365,\n",
       "   'title': 'The Fed Needs to Cut Rates Eventually Amid This Economic Slowdown. Here’s Why, and 4 Other Things to Know Today.'},\n",
       "  {'id': 366, 'title': 'The Future of Weight-Loss Drugs for Investors'},\n",
       "  {'id': 367,\n",
       "   'title': 'The Green Bubble Nightmare Is Over, Apple Messages Now Support RCS'},\n",
       "  {'id': 368,\n",
       "   'title': 'The Next 7 Trillion-Dollar Stocks to Buy: June 2024 Edition'},\n",
       "  {'id': 369,\n",
       "   'title': 'The S&P 500 and Nvidia, Chipotle stock split: Morning Brief'},\n",
       "  {'id': 370,\n",
       "   'title': 'The War Over Cheaper Ozempic Wont End Well for Some Investors'},\n",
       "  {'id': 371,\n",
       "   'title': 'The War Over Cheaper Ozempic Won’t End Well for Some Investors'},\n",
       "  {'id': 372,\n",
       "   'title': 'The Zacks Analyst Blog Highlights Pfizer, Johnson & Johnson and Eli Lilly'},\n",
       "  {'id': 373,\n",
       "   'title': 'The Zacks Analyst Blog Highlights Pfizer, Johnson & Johnson and Eli Lilly - Johnson & Johnson  ( NYSE:JNJ ) , Eli Lilly and Co  ( NYSE:LLY ) '},\n",
       "  {'id': 374,\n",
       "   'title': 'These Stocks Are Moving the Most Today: Apple, Meta, Trump Media, RXO, Eli Lilly, ResMed, Under Armour, and More'},\n",
       "  {'id': 375,\n",
       "   'title': 'These Stocks Are Moving the Most Today: Nvidia, Apple, Trump Media, RXO, ResMed, Alnylam, Affirm, IBM, and More'},\n",
       "  {'id': 376,\n",
       "   'title': 'They took part in Apache ceremonies. Their schools expelled them for satanic activities'},\n",
       "  {'id': 377,\n",
       "   'title': 'Thinking of Buying Madrigal Pharmaceuticals Stock? Eli Lilly Would Like to Have a Word.'},\n",
       "  {'id': 378, 'title': 'This Is What Whales Are Betting On Eli Lilly and Co'},\n",
       "  {'id': 379,\n",
       "   'title': 'This Is What Whales Are Betting On Eli Lilly and Co - Eli Lilly and Co  ( NYSE:LLY ) '},\n",
       "  {'id': 380,\n",
       "   'title': 'This Is What Whales Are Betting On Eli Lilly and Co - Eli Lilly and Co (NYSE:LLY)'},\n",
       "  {'id': 381,\n",
       "   'title': 'Threadgill Financial LLC Sells 225 Shares of Eli Lilly and Company (NYSE:LLY)'},\n",
       "  {'id': 382, 'title': 'Three-Stock Lunch: Nvidia, Eli Lilly'},\n",
       "  {'id': 383,\n",
       "   'title': 'Tompkins Financial Corp Has $24 Million Position in Eli Lilly and Company (NYSE:LLY)'},\n",
       "  {'id': 384,\n",
       "   'title': 'Top 10 performing S&P 500 names as H1 looks to close out this week'},\n",
       "  {'id': 385,\n",
       "   'title': 'Top 10 performing S&P 500 names as first half looks to close out this week'},\n",
       "  {'id': 386,\n",
       "   'title': 'Top Stock Movers Now: Affirm, Nvidia, ResMed, and More'},\n",
       "  {'id': 387,\n",
       "   'title': 'Top Stock Movers Now: Carnival, Nvidia, SolarEdge Technologies, and More'},\n",
       "  {'id': 388,\n",
       "   'title': 'Top Weight-Loss Rivals Share This Risk After Eye-Popping Runs'},\n",
       "  {'id': 389, 'title': 'Top stories'},\n",
       "  {'id': 390,\n",
       "   'title': 'Traynor Capital Management Inc. Boosts Position in Eli Lilly and Company (NYSE:LLY)'},\n",
       "  {'id': 391,\n",
       "   'title': 'Treasury Secretary Janet Yellen gives unbelievable response when asked if she goes grocery shopping and if she'},\n",
       "  {'id': 392,\n",
       "   'title': 'Trending : Lilly Anti-Obesity Drug Tirzepatide Reduces Sleep Apnea Severity in Studies'},\n",
       "  {'id': 393,\n",
       "   'title': 'Triangle Securities Wealth Management Reduces Position in Eli Lilly and Company (NYSE:LLY)'},\n",
       "  {'id': 394, 'title': 'Trillionaire Club Throws An Indulgent Theme Party'},\n",
       "  {'id': 395,\n",
       "   'title': 'Truist Financial Reaffirms Their Buy Rating on Eli Lilly & Co (LLY)'},\n",
       "  {'id': 396, 'title': 'Trump Spreads Election Misinformation in Key States'},\n",
       "  {'id': 397,\n",
       "   'title': 'Trump threatens lawsuit over ad using his own words to discourage mail voting'},\n",
       "  {'id': 398, 'title': 'Two Is Better Than One in the Alzheimers Market'},\n",
       "  {'id': 399, 'title': 'US Stocks Are Showing Signs Of Extreme Divergence'}],\n",
       " [{'id': 400,\n",
       "   'title': 'Unique Wealth LLC Takes Position in Eli Lilly and Company (NYSE:LLY)'},\n",
       "  {'id': 401,\n",
       "   'title': 'Unusual Put Option Trade in Eli Lilly and (LLY)  Worth $2,895.00K'},\n",
       "  {'id': 402,\n",
       "   'title': 'Up 400% In 3 Years, Eli Lilly Stock Just Keeps Giving'},\n",
       "  {'id': 403, 'title': 'Video: Daily Dividend Report: LLY,MRVL,ARR,SNX,IVR'},\n",
       "  {'id': 404, 'title': 'Video: Daily Dividend Report: LLY,MRVL,LOAN,SM,FFMR'},\n",
       "  {'id': 405,\n",
       "   'title': 'WHO and Eli Lilly caution patients against falling for fake versions of popular weight-loss drugs'},\n",
       "  {'id': 406, 'title': 'WHO issues warning on falsified semaglutides'},\n",
       "  {'id': 407,\n",
       "   'title': 'WHO warns of harmful fake Ozempic in circulation in Americas and Europe'},\n",
       "  {'id': 408,\n",
       "   'title': 'WHO warns of “harmful” fake Ozempic in circulation in Americas and Europe'},\n",
       "  {'id': 409,\n",
       "   'title': 'Wall Street Favorites: 7 Growth Stocks With Strong Buy Ratings for June 2024'},\n",
       "  {'id': 410,\n",
       "   'title': 'Want to Get Richer? 2 Top Stocks to Buy Now and Hold Forever.'},\n",
       "  {'id': 411,\n",
       "   'title': \"Wegovy's Precarious Position: 3 Drugs Most Likely to Dethrone Novo Nordisk's Blockbuster Obesity Drug\"},\n",
       "  {'id': 412,\n",
       "   'title': 'Weight-loss drug Zepbound resolves sleep apnea in up to 52% of patients, Lilly says'},\n",
       "  {'id': 413,\n",
       "   'title': 'Welch Group LLC Has $4.62 Million Stock Holdings in Eli Lilly and Company (NYSE:LLY)'},\n",
       "  {'id': 414,\n",
       "   'title': 'What Makes Eli Lilly & Company (LLY) a Hot Healthcare Stock Right Now?'},\n",
       "  {'id': 415, 'title': 'What You Missed On Wall Street On Friday'},\n",
       "  {'id': 416, 'title': 'What You Missed On Wall Street This Morning'},\n",
       "  {'id': 417,\n",
       "   'title': 'What stocks would benefit from a red sweep this November - UBS'},\n",
       "  {'id': 418,\n",
       "   'title': \"What's Going On With Eli Lilly Shares Monday? - Eli Lilly and Co  ( NYSE:LLY ) \"},\n",
       "  {'id': 419,\n",
       "   'title': \"What's Going On With Eli Lilly Stock On Monday? - Eli Lilly and Co  ( NYSE:LLY ) \"},\n",
       "  {'id': 420, 'title': \"What's Going On With Eli Lilly Stock On Tuesday?\"},\n",
       "  {'id': 421,\n",
       "   'title': \"What's Going On With Eli Lilly Stock On Tuesday? - Eli Lilly and Co  ( NYSE:LLY ) \"},\n",
       "  {'id': 422,\n",
       "   'title': \"What's Going On With Eli Lilly Stock On Tuesday? - Eli Lilly and Co (NYSE:LLY)\"},\n",
       "  {'id': 423,\n",
       "   'title': 'Which stocks would benefit from a red sweep this November - UBS'},\n",
       "  {'id': 424,\n",
       "   'title': \"Who Is Bolivia's President Luis Arce? Former Economist Survives Coup Attempt\"},\n",
       "  {'id': 425,\n",
       "   'title': 'Why Drugmaker Eli Lilly Is Partnering With ChatGPT Maker OpenAI'},\n",
       "  {'id': 426,\n",
       "   'title': 'Why Eli Lilly (LLY) is a Top Momentum Stock for the Long-Term'},\n",
       "  {'id': 427,\n",
       "   'title': \"Why Investors Haven't Feasted on Two New Weight-Loss ETFs\"},\n",
       "  {'id': 428,\n",
       "   'title': 'Why Investors Need to Take Advantage of These 2 Medical Stocks Now'},\n",
       "  {'id': 429,\n",
       "   'title': 'Why ResMed Shares Are Trading Lower Monday - ResMed  ( NYSE:RMD ) '},\n",
       "  {'id': 430, 'title': 'Why Wall Street Is Chasing Ozempic Wannabes'},\n",
       "  {'id': 431,\n",
       "   'title': 'Why a Pair of Eli Lilly Clinical Trials Sent ResMed Stock Tumbling'},\n",
       "  {'id': 432,\n",
       "   'title': \"Why the GLP-1 impact on other industries 'will take years'\"},\n",
       "  {'id': 433,\n",
       "   'title': \"Will Novo Nordisk Building Fires Serve As A Catalyst For Eli Lilly? Redditors See A Stock Split For US Company 'Very ...\"},\n",
       "  {'id': 434,\n",
       "   'title': \"Will Novo Nordisk Building Fires Serve As A Catalyst For Eli Lilly? Redditors See A Stock Split For US Company 'Very Likely'\"},\n",
       "  {'id': 435,\n",
       "   'title': \"Will Novo Nordisk Building Fires Serve As A Catalyst For Eli Lilly? Redditors See A Stock Split For US Company 'Very Likely' - Novo Nordisk  ( NYSE:NVO ) , Eli Lilly and Co  ( NYSE:LLY ) \"},\n",
       "  {'id': 436, 'title': 'Windows on Arm finally has legs'},\n",
       "  {'id': 437,\n",
       "   'title': 'Woodstock Corp Buys 31 Shares of Eli Lilly and Company (NYSE:LLY)'},\n",
       "  {'id': 438,\n",
       "   'title': 'Yahoo Video: Novo Nordisk, Eli Lilly still top 2 pharma stocks: Analyst'},\n",
       "  {'id': 439,\n",
       "   'title': 'Zealand Pharma extends gains on early-stage data for weight loss drug'},\n",
       "  {'id': 440,\n",
       "   'title': \"Zealand Pharma: Weight Loss Drug Petrelintide Is Not A 'Me Too' Advancement\"}]]"
      ]
     },
     "execution_count": 42,
     "metadata": {},
     "output_type": "execute_result"
    }
   ],
   "source": [
    "MAXPAGELEN = 50\n",
    "MAX_INPUT_TOKENS = 8192     # includes text of all headlines\n",
    "\n",
    "\n",
    "def paginate_df(filtered_df, maxpagelen=MAXPAGELEN, max_input_tokens=MAX_INPUT_TOKENS):\n",
    "    \"\"\"\n",
    "    Splits the filtered dataframe into pages based on the maximum page length in rows and maximum input tokens in titles.\n",
    "\n",
    "    Args:\n",
    "        filtered_df (pandas.DataFrame): The filtered dataframe to be paginated.\n",
    "        maxpagelen (int, optional): The maximum length of each page in characters. Defaults to MAXPAGELEN.\n",
    "        max_input_tokens (int, optional): The maximum number of tokens allowed in each page. Defaults to MAX_INPUT_TOKENS.\n",
    "\n",
    "    Returns:\n",
    "        list: A list of pages, where each page is a list of dictionaries representing the links.\n",
    "\n",
    "    \"\"\"\n",
    "\n",
    "    pages = []\n",
    "    current_page = []\n",
    "    pagelength = 0\n",
    "\n",
    "    enc = tiktoken.encoding_for_model('gpt-4')\n",
    "    assert enc.decode(enc.encode(\"hello world\")) == \"hello world\"\n",
    "\n",
    "    for row in filtered_df.itertuples():\n",
    "        curlink = {\"id\": row.Index, \"title\": row.title}\n",
    "        curlength = len(enc.encode(json.dumps(curlink)))\n",
    "        # Check if adding the current string would exceed the limit\n",
    "        if len(current_page) >= maxpagelen or pagelength + curlength > max_input_tokens:\n",
    "            # If so, start a new page\n",
    "            pages.append(current_page)\n",
    "            current_page = [curlink]\n",
    "            pagelength = curlength\n",
    "        else:\n",
    "            # Otherwise, add the string to the current page\n",
    "            current_page.append(curlink)\n",
    "            pagelength += curlength\n",
    "\n",
    "    # add the last page if it's not empty\n",
    "    if current_page:\n",
    "        pages.append(current_page)\n",
    "    return pages\n",
    "\n",
    "\n",
    "pages = paginate_df(news_df)\n",
    "pages\n"
   ]
  },
  {
   "cell_type": "code",
   "execution_count": 43,
   "id": "a15b0743",
   "metadata": {},
   "outputs": [
    {
     "data": {
      "text/plain": [
       "[[{'id': 0,\n",
       "   'title': '1 Supercharged Vanguard Index Fund to Buy Before It Soars 174%, According to a Wall Street Analyst'},\n",
       "  {'id': 1,\n",
       "   'title': '1,084 Shares in Eli Lilly and Company (NYSE:LLY) Purchased by Emprise Bank'},\n",
       "  {'id': 2,\n",
       "   'title': '10 Dividend Zombies and Kings with Longest Dividend Payouts'},\n",
       "  {'id': 3,\n",
       "   'title': \"10 Health Care Stocks Whale Activity In Today's Session\"},\n",
       "  {'id': 4,\n",
       "   'title': '11-K Form - Annual report of employee stock purchase, savings and similar plans - ELI LILLY & Co (0000059478) (Filer)'},\n",
       "  {'id': 5,\n",
       "   'title': '144 Form - Report of proposed sale of securities - ELI LILLY & Co (0000059478) (Subject)'},\n",
       "  {'id': 6, 'title': \"2 Reasons Why Eli Lilly's Stock Likely Hasn't Peaked\"},\n",
       "  {'id': 7, 'title': '2024 NBA Draft: Live Grades for Every Round 1 Pick'},\n",
       "  {'id': 8,\n",
       "   'title': '2024 NFL OTAs: Players who surprised us most at minicamp'},\n",
       "  {'id': 9,\n",
       "   'title': '297 Shares in Eli Lilly and Company (NYSE:LLY) Bought by Conrad Siegel Investment Advisors Inc.'},\n",
       "  {'id': 10, 'title': '3 Biotech Stocks to Buy Now: June 2024'},\n",
       "  {'id': 11,\n",
       "   'title': '3 Growth Stocks You Can Buy Right Now Without Any Hesitation'},\n",
       "  {'id': 12, 'title': '3 Stocks to Sell as Ozempic Surges in Popularity'},\n",
       "  {'id': 13,\n",
       "   'title': '314 Shares in Eli Lilly and Company (NYSE:LLY) Acquired by Central Valley Advisors LLC'},\n",
       "  {'id': 14,\n",
       "   'title': '4 Form - Statement of changes in beneficial ownership of securities - ELI LILLY & Co (0000059478) (Issuer)'},\n",
       "  {'id': 15, 'title': '50 Largest Companies in Every State in the US'},\n",
       "  {'id': 16, 'title': '7 A-Rated Biotech Stocks Worth Betting on in June'},\n",
       "  {'id': 17,\n",
       "   'title': \"A 'Heads Up' on Eli Lilly as the Stock Continues to Climb\"},\n",
       "  {'id': 18,\n",
       "   'title': 'ADA 2024: Altimmunes GLP-1 drug shows weight loss potential'},\n",
       "  {'id': 19,\n",
       "   'title': 'ADA 2024: Altimmune’s GLP-1 drug shows weight loss potential'},\n",
       "  {'id': 20,\n",
       "   'title': 'AI Stocks Are Soaring on Hope. Why Their Dominance Puts Markets at Peril, and 4 Other Things to Know Today.'},\n",
       "  {'id': 21,\n",
       "   'title': 'AI Stocks Are Soaring on Hope. Why Their Dominance Puts Markets at Peril.'},\n",
       "  {'id': 22, 'title': 'AI Work Assistants Need a Lot of Handholding'},\n",
       "  {'id': 23,\n",
       "   'title': 'ALT Stock Alert: Altimmune Pops on Weight-Loss Drug Findings'},\n",
       "  {'id': 24,\n",
       "   'title': 'Abacus Planning Group Inc. Cuts Holdings in Eli Lilly and Company (NYSE:LLY)'},\n",
       "  {'id': 25,\n",
       "   'title': 'AbbVie Inc. Dividend Stock Analysis - Saturday, June 22'},\n",
       "  {'id': 26,\n",
       "   'title': 'Active Fund Managers Bet These 6 Stocks Will Trade Near All-Time Highs - Apple  ( NASDAQ:AAPL ) , Amazon.com  ( NASDAQ:AMZN ) '},\n",
       "  {'id': 27, 'title': 'Actor Found Dead After Tinder Date With Two Women'},\n",
       "  {'id': 28,\n",
       "   'title': 'AdvisorNet Financial Inc Lowers Stock Position in Eli Lilly and Company (NYSE:LLY)'},\n",
       "  {'id': 29,\n",
       "   'title': 'After Earnings, Is Eli Lilly Stock a Buy, a Sell, or Fairly Valued?'},\n",
       "  {'id': 30,\n",
       "   'title': 'Alaska Permanent Fund Corp Has $14.08 Million Stake in Eli Lilly and Company (NYSE:LLY)'},\n",
       "  {'id': 31, 'title': 'All Public Company News from PR Newswire'},\n",
       "  {'id': 32,\n",
       "   'title': 'Allied Investment Advisors LLC Takes $209,000 Position in Eli Lilly and Company (NYSE:LLY)'},\n",
       "  {'id': 33,\n",
       "   'title': 'Allied Investment Advisors LLC Takes Position in Eli Lilly and Company (NYSE:LLY)'},\n",
       "  {'id': 34,\n",
       "   'title': 'Altimmune jumps 13% on phase 2 pemvidutide results for obesity'},\n",
       "  {'id': 35,\n",
       "   'title': 'Amazon Widens RxPass Eligibility To Include Prime Members With Medicare'},\n",
       "  {'id': 36,\n",
       "   'title': 'Analysts Are Bullish on Top Healthcare Stocks: Vertex Pharmaceuticals (VRTX), Eli Lilly & Co (LLY)'},\n",
       "  {'id': 37,\n",
       "   'title': 'Analysts Offer Insights on Healthcare Companies: Eli Lilly & Co (LLY) and Vertex Pharmaceuticals (VRTX)'},\n",
       "  {'id': 38,\n",
       "   'title': 'Anderson Hoagland & Co. Has $17.39 Million Stock Position in Eli Lilly and Company (NYSE:LLY)'},\n",
       "  {'id': 39,\n",
       "   'title': \"Angelina Jolie 'Knows She's Super Skinny' at Shocking 98 Lbs: 'Loves to Flaunt It'\"},\n",
       "  {'id': 40,\n",
       "   'title': 'Aprio Wealth Management LLC Purchases 378 Shares of Eli Lilly and Company (NYSE:LLY)'},\n",
       "  {'id': 41,\n",
       "   'title': 'Augustine Therapeutics raises EUR 17M in Series A first closing'},\n",
       "  {'id': 42,\n",
       "   'title': 'Augustine Therapeutics raises €17M in series A first closing'},\n",
       "  {'id': 43,\n",
       "   'title': 'Augustine raises  17m to advance lead candidate into trials for neuro conditions'},\n",
       "  {'id': 44,\n",
       "   'title': 'Bangor Savings Bank Sells 47 Shares of Eli Lilly and Company (NYSE:LLY)'},\n",
       "  {'id': 45,\n",
       "   'title': 'Banque Cantonale Vaudoise Buys 2,383 Shares of Eli Lilly and Company (NYSE:LLY)'},\n",
       "  {'id': 46,\n",
       "   'title': 'Better Growth Stock: Archer Aviation or Viking Therapeutics?'},\n",
       "  {'id': 47,\n",
       "   'title': 'Bill Cobbs, veteran actor known for roles in ‘Demolition Man’ and ‘Air Bud,’ dead at 90'},\n",
       "  {'id': 48,\n",
       "   'title': 'Billionaire Israel Englander is Buying This Weight Loss Stock in 2024'},\n",
       "  {'id': 49,\n",
       "   'title': 'Bloomberg: Supreme Court appears to side with Biden admin in abortion case, according to draft briefly posted on website'}],\n",
       " [{'id': 50,\n",
       "   'title': 'BofA says OSA resolution magnitude of tirzepatide not baked into Lilly shares'},\n",
       "  {'id': 51,\n",
       "   'title': 'Bolivia attempted coup: General taken into custody, military flees palace'},\n",
       "  {'id': 52,\n",
       "   'title': 'Bolivian General Is Arrested After Apparent Coup Attempt'},\n",
       "  {'id': 53,\n",
       "   'title': \"Bolivian president survives failed coup, calls for 'democracy to be respected,' army general arrested\"},\n",
       "  {'id': 54,\n",
       "   'title': 'Bridge Creek Capital Management LLC Reduces Position in Eli Lilly and Company (NYSE:LLY)'},\n",
       "  {'id': 55,\n",
       "   'title': 'Bridge Creek Capital Management LLC Sells 125 Shares of Eli Lilly and Company (NYSE:LLY)'},\n",
       "  {'id': 56,\n",
       "   'title': 'Broadcom Is on Track to Edge Past Eli Lillys Market Value. AI Is Helping It Do So.'},\n",
       "  {'id': 57,\n",
       "   'title': 'Broadcom, Eli Lilly and Trump Media rise premarket; Under Armour falls'},\n",
       "  {'id': 58,\n",
       "   'title': 'Buy Rating Affirmed for Eli Lilly on Tirzepatide’s Promise in OSA and Obesity Treatment'},\n",
       "  {'id': 59,\n",
       "   'title': 'CBS News poll: In debate, Democrats want more forceful Biden, GOP wants polite Trump; most want to hear about issues'},\n",
       "  {'id': 60,\n",
       "   'title': 'CHICAGO TRUST Co NA Has $4.84 Million Stake in Eli Lilly and Company (NYSE:LLY)'},\n",
       "  {'id': 61,\n",
       "   'title': 'CHURCHILL MANAGEMENT Corp Purchases New Shares in Eli Lilly and Company (NYSE:LLY)'},\n",
       "  {'id': 62,\n",
       "   'title': 'Cardano Risk Management B.V. Acquires 199 Shares of Eli Lilly and Company (NYSE:LLY)'},\n",
       "  {'id': 63,\n",
       "   'title': 'Central Valley Advisors LLC Buys Shares of 314 Eli Lilly and Company (NYSE:LLY)'},\n",
       "  {'id': 64, 'title': 'Chart Of The Day: Eli Lilly - More New Highs'},\n",
       "  {'id': 65, 'title': 'Chart of the Day: Eli Lilly - More New Highs'},\n",
       "  {'id': 66,\n",
       "   'title': \"Christina Applegate announces daughter Sadie, 13, was diagnosed with POTS: 'I'm sad'\"},\n",
       "  {'id': 67,\n",
       "   'title': \"Citigroup urges staffers to 'keep cool' as anti-Israel protesters surround NYC headquarters\"},\n",
       "  {'id': 68,\n",
       "   'title': 'City State Bank Sells 203 Shares of Eli Lilly and Company (NYSE:LLY)'},\n",
       "  {'id': 69, 'title': 'Company News for Jun 25, 2024'},\n",
       "  {'id': 70,\n",
       "   'title': 'Compass Wealth Management LLC Sells 420 Shares of Eli Lilly and Company (NYSE:LLY)'},\n",
       "  {'id': 71,\n",
       "   'title': 'Cooper Financial Group Buys 211 Shares of Eli Lilly and Company (NYSE:LLY)'},\n",
       "  {'id': 72, 'title': 'Core Charts'},\n",
       "  {'id': 73,\n",
       "   'title': 'Crypto under pressure, Good Buy or Goodbye: Market Domination'},\n",
       "  {'id': 74,\n",
       "   'title': 'Curbstone Financial Management Corp Trims Stake in Eli Lilly and Company (NYSE:LLY)'},\n",
       "  {'id': 75,\n",
       "   'title': 'Did Eli Lilly and Company (LLY) Achieve Its 10th Consecutive Year of Dividend Growth?'},\n",
       "  {'id': 76,\n",
       "   'title': 'Doctors must keep Ozempic prescriptions in check, Danish regulator says'},\n",
       "  {'id': 77,\n",
       "   'title': 'Douglas Lane & Associates LLC Sells 322 Shares of Eli Lilly and Company (NYSE:LLY)'},\n",
       "  {'id': 78, 'title': 'Dow Jones+0.04%39,127.80'},\n",
       "  {'id': 79,\n",
       "   'title': 'Dynamic Advisor Solutions LLC Boosts Holdings in Eli Lilly and Company (NYSE:LLY)'},\n",
       "  {'id': 80,\n",
       "   'title': 'Eli Lilly  ( LLY )  Registers a Bigger Fall Than the Market: Important Facts to Note'},\n",
       "  {'id': 81,\n",
       "   'title': 'Eli Lilly  ( LLY )  Stock Drops Despite Market Gains: Important Facts to Note'},\n",
       "  {'id': 82,\n",
       "   'title': 'Eli Lilly & Co (LLY) Gets a Buy from Cantor Fitzgerald'},\n",
       "  {'id': 83, 'title': 'Eli Lilly & Co (LLY) Receives a Buy from Jefferies'},\n",
       "  {'id': 84,\n",
       "   'title': 'Eli Lilly & Co. (LLY) Declares $1.30 Quarterly Dividend; 0.6% Yield'},\n",
       "  {'id': 85,\n",
       "   'title': 'Eli Lilly (LLY) Registers a Bigger Fall Than the Market: Important Facts to Note'},\n",
       "  {'id': 86,\n",
       "   'title': 'Eli Lilly (LLY) Stock Drops Despite Market Gains: Important Facts to Note'},\n",
       "  {'id': 87,\n",
       "   'title': 'Eli Lilly (NYSE:LLY) Gains after Announcing OpenAI Partnership'},\n",
       "  {'id': 88,\n",
       "   'title': 'Eli Lilly (NYSE:LLY) Gains after Announcing OpenAI Partnership - TipRanks.com'},\n",
       "  {'id': 89,\n",
       "   'title': 'Eli Lilly (NYSE:LLY) Notches Up on Pursuit of Bogus Mounjaro'},\n",
       "  {'id': 90,\n",
       "   'title': 'Eli Lilly (NYSE:LLY) Notches Up on Pursuit of Bogus Mounjaro - TipRanks.com'},\n",
       "  {'id': 91,\n",
       "   'title': 'Eli Lilly And Company (LLY) Partners With OpenAI To Create “Novel Antimicrobials” For Drug-Resistant Pathogens'},\n",
       "  {'id': 92,\n",
       "   'title': 'Eli Lilly Expands Fight Against Counterfeit Obesity Drug Zepbound With New Legal Actions'},\n",
       "  {'id': 93,\n",
       "   'title': 'Eli Lilly Expands Fight Against Counterfeit Obesity Drug Zepbound With New Legal Actions - Novo Nordisk  ( NYSE:NVO ) , Eli Lilly and Co  ( NYSE:LLY ) '},\n",
       "  {'id': 94,\n",
       "   'title': 'Eli Lilly Files More Lawsuits at Sellers of Counterfeit Mounjaro, Zepbound'},\n",
       "  {'id': 95,\n",
       "   'title': 'Eli Lilly Has a New Drug That Could Push the Stock Higher'},\n",
       "  {'id': 96,\n",
       "   'title': 'Eli Lilly Scores Another Major Win and Lines Up Its Next Blockbuster'},\n",
       "  {'id': 97, 'title': 'Eli Lilly Stock Analysis: Buy, Hold, or Sell?'},\n",
       "  {'id': 98,\n",
       "   'title': 'Eli Lilly Stock At Yet-Another All-Time High. Check Out New Names Added To IBD Best Stocks Lists'},\n",
       "  {'id': 99,\n",
       "   'title': 'Eli Lilly Stock Runs Up 49% Amid Lofty Expectations For Weight-Loss Drug'}],\n",
       " [{'id': 100,\n",
       "   'title': \"Eli Lilly Stock: FDA Panelists Unanimously Back Lilly's Biogen-Rivaling Alzheimer's Drug\"},\n",
       "  {'id': 101,\n",
       "   'title': 'Eli Lilly Working With OpenAI to Develop Medicines Against Drug-Resistant Pathogens'},\n",
       "  {'id': 102,\n",
       "   'title': 'Eli Lilly and : An Open Letter From Eli Lilly and Company Regarding Certain Practices Related to Mounjaro® and Zepbound®'},\n",
       "  {'id': 103,\n",
       "   'title': 'Eli Lilly and : Lilly Warns Patients About Counterfeit and Compounded Medicines Releases Open Letter and Takes Further Legal Action Against Counterfeit, Fake, Unsafe, and Untested Products'},\n",
       "  {'id': 104,\n",
       "   'title': 'Eli Lilly and Company (NYSE:LLY) Given Buy Rating at Truist Financial'},\n",
       "  {'id': 105,\n",
       "   'title': 'Eli Lilly and Company (NYSE:LLY) Holdings Boosted by Cardano Risk Management B.V.'},\n",
       "  {'id': 106,\n",
       "   'title': 'Eli Lilly and Company (NYSE:LLY) Major Shareholder Lilly Endowment Inc Sells 17229 Shares'},\n",
       "  {'id': 107,\n",
       "   'title': 'Eli Lilly and Company (NYSE:LLY) Position Increased by Legacy Financial Strategies LLC'},\n",
       "  {'id': 108,\n",
       "   'title': 'Eli Lilly and Company (NYSE:LLY) Receives Buy Rating from Truist Financial'},\n",
       "  {'id': 109,\n",
       "   'title': 'Eli Lilly and Company (NYSE:LLY) Receives “Buy” Rating from Bank of America'},\n",
       "  {'id': 110,\n",
       "   'title': 'Eli Lilly and Company (NYSE:LLY) Receives “Overweight” Rating from Cantor Fitzgerald'},\n",
       "  {'id': 111,\n",
       "   'title': 'Eli Lilly and Company (NYSE:LLY) Shares Acquired by Aletheian Wealth Advisors LLC'},\n",
       "  {'id': 112,\n",
       "   'title': 'Eli Lilly and Company (NYSE:LLY) Shares Acquired by Annex Advisory Services LLC'},\n",
       "  {'id': 113,\n",
       "   'title': 'Eli Lilly and Company (NYSE:LLY) Shares Acquired by Atlas Brown Inc.'},\n",
       "  {'id': 114,\n",
       "   'title': 'Eli Lilly and Company (NYSE:LLY) Shares Acquired by Ballentine Partners LLC'},\n",
       "  {'id': 115,\n",
       "   'title': 'Eli Lilly and Company (NYSE:LLY) Shares Acquired by True North Advisors LLC'},\n",
       "  {'id': 116,\n",
       "   'title': 'Eli Lilly and Company (NYSE:LLY) Shares Bought by Ignite Planners LLC'},\n",
       "  {'id': 117,\n",
       "   'title': 'Eli Lilly and Company (NYSE:LLY) Shares Bought by Rise Advisors LLC'},\n",
       "  {'id': 118,\n",
       "   'title': 'Eli Lilly and Company (NYSE:LLY) Shares Bought by Salem Investment Counselors Inc.'},\n",
       "  {'id': 119,\n",
       "   'title': 'Eli Lilly and Company (NYSE:LLY) Shares Purchased by Grandview Asset Management LLC'},\n",
       "  {'id': 120,\n",
       "   'title': 'Eli Lilly and Company (NYSE:LLY) Shares Purchased by Marion Wealth Management'},\n",
       "  {'id': 121,\n",
       "   'title': 'Eli Lilly and Company (NYSE:LLY) Shares Purchased by Rheos Capital Works Inc.'},\n",
       "  {'id': 122,\n",
       "   'title': 'Eli Lilly and Company (NYSE:LLY) Shares Sold by Affinity Capital Advisors LLC'},\n",
       "  {'id': 123,\n",
       "   'title': 'Eli Lilly and Company (NYSE:LLY) Shares Sold by Allen Mooney & Barnes Investment Advisors LLC'},\n",
       "  {'id': 124,\n",
       "   'title': 'Eli Lilly and Company (NYSE:LLY) Shares Sold by American National Bank'},\n",
       "  {'id': 125,\n",
       "   'title': 'Eli Lilly and Company (NYSE:LLY) Shares Sold by Carlson Capital Management'},\n",
       "  {'id': 126,\n",
       "   'title': 'Eli Lilly and Company (NYSE:LLY) Shares Sold by Central Bank & Trust Co.'},\n",
       "  {'id': 127,\n",
       "   'title': 'Eli Lilly and Company (NYSE:LLY) Shares Sold by Enterprise Bank & Trust Co'},\n",
       "  {'id': 128,\n",
       "   'title': 'Eli Lilly and Company (NYSE:LLY) Shares Sold by First Hawaiian Bank'},\n",
       "  {'id': 129,\n",
       "   'title': 'Eli Lilly and Company (NYSE:LLY) Shares Sold by GSG Advisors LLC'},\n",
       "  {'id': 130,\n",
       "   'title': 'Eli Lilly and Company (NYSE:LLY) Shares Sold by Meyer Handelman Co.'},\n",
       "  {'id': 131,\n",
       "   'title': 'Eli Lilly and Company (NYSE:LLY) Shares Sold by Paragon Capital Management Ltd'},\n",
       "  {'id': 132,\n",
       "   'title': 'Eli Lilly and Company (NYSE:LLY) Shares Sold by Quad Cities Investment Group LLC'},\n",
       "  {'id': 133,\n",
       "   'title': 'Eli Lilly and Company (NYSE:LLY) Shares Sold by Walker Asset Management LLC'},\n",
       "  {'id': 134,\n",
       "   'title': 'Eli Lilly and Company (NYSE:LLY) Shares Up 1.5% Following Dividend Announcement'},\n",
       "  {'id': 135,\n",
       "   'title': 'Eli Lilly and Company (NYSE:LLY) Stake Cut by Madison Park Capital Advisors LLC'},\n",
       "  {'id': 136,\n",
       "   'title': 'Eli Lilly and Company (NYSE:LLY) Stake Lessened by Rowlandmiller & PARTNERS.ADV'},\n",
       "  {'id': 137,\n",
       "   'title': 'Eli Lilly and Company (NYSE:LLY) Stake Lowered by Gateway Investment Advisers LLC'},\n",
       "  {'id': 138,\n",
       "   'title': 'Eli Lilly and Company (NYSE:LLY) Stock Holdings Lifted by MADDEN SECURITIES Corp'},\n",
       "  {'id': 139,\n",
       "   'title': 'Eli Lilly and Company (NYSE:LLY) Stock Holdings Lifted by Wedmont Private Capital'},\n",
       "  {'id': 140,\n",
       "   'title': 'Eli Lilly and Company (NYSE:LLY) Stock Position Increased by Aletheian Wealth Advisors LLC'},\n",
       "  {'id': 141,\n",
       "   'title': 'Eli Lilly and Company (NYSE:LLY) Stock Position Lifted by Fermata Advisors LLC'},\n",
       "  {'id': 142,\n",
       "   'title': 'Eli Lilly and Company (NYSE:LLY) Stock Price Down 0.3%'},\n",
       "  {'id': 143, 'title': 'Eli Lilly and Company (NYSE:LLY) Stock Price Up 0.7%'},\n",
       "  {'id': 144,\n",
       "   'title': 'Eli Lilly and Company (NYSE:LLY) Trading Down 0% Following Insider Selling'},\n",
       "  {'id': 145,\n",
       "   'title': 'Eli Lilly and Company (NYSE:LLY) Trading Up 1.5% After Analyst Upgrade'},\n",
       "  {'id': 146,\n",
       "   'title': \"Eli Lilly and Company (NYSE:LLY) is Gunderson Capital Management Inc.'s 2nd Largest Position\"},\n",
       "  {'id': 147,\n",
       "   'title': 'Eli Lilly and Company (NYSE:LLY) is Sanders Morris Harris LLC’s 9th Largest Position'},\n",
       "  {'id': 148,\n",
       "   'title': 'Eli Lilly and Company (NYSE:LLY) is Summit Financial Group Inc.’s 4th Largest Position'},\n",
       "  {'id': 149,\n",
       "   'title': \"Eli Lilly and Company's (LLY) Overweight Rating Reaffirmed at Cantor Fitzgerald\"}],\n",
       " [{'id': 150,\n",
       "   'title': 'Eli Lilly and Company’s (LLY) Buy Rating Reiterated at Truist Financial'},\n",
       "  {'id': 151,\n",
       "   'title': \"Eli Lilly and Novo Nordisk are a 'duopoly' in GLP-1 market\"},\n",
       "  {'id': 152,\n",
       "   'title': 'Eli Lilly collaborates with OpenAI for medicines against drug-resistant bacteria'},\n",
       "  {'id': 153,\n",
       "   'title': 'Eli Lilly collaborates with OpenAI to discover novel antimicrobials'},\n",
       "  {'id': 154, 'title': 'Eli Lilly declares $1.30 dividend'},\n",
       "  {'id': 155,\n",
       "   'title': 'Eli Lilly files lawsuits to stop sales of counterfeit Mounjaro, Reuters reports'},\n",
       "  {'id': 156,\n",
       "   'title': 'Eli Lilly inks OpenAI deal for discovering new antibiotics'},\n",
       "  {'id': 157,\n",
       "   'title': 'Eli Lilly is cracking down on knock off versions of its popular weight loss and diabetes drug'},\n",
       "  {'id': 158,\n",
       "   'title': 'Eli Lilly participates in a conference call with Cantor Fitzgerald'},\n",
       "  {'id': 159,\n",
       "   'title': \"Eli Lilly price target raised by $108 at Truist, here's why\"},\n",
       "  {'id': 160,\n",
       "   'title': \"Eli Lilly price target raised by $21 at Jefferies, here's why\"},\n",
       "  {'id': 161,\n",
       "   'title': 'Eli Lilly ramps up efforts against fake weight loss drugs'},\n",
       "  {'id': 162,\n",
       "   'title': 'Eli Lilly reports tirzepatide reduced obstructive sleep apnea severity in study'},\n",
       "  {'id': 163,\n",
       "   'title': 'Eli Lilly seeks to expand Zepbound use to treat sleep apnea'},\n",
       "  {'id': 164,\n",
       "   'title': \"Eli Lilly sleep apnea data 'represent a clear win,' says Barclays\"},\n",
       "  {'id': 165,\n",
       "   'title': 'Eli Lilly unveils new North Carolina plant for GLP-1 drugs'},\n",
       "  {'id': 166,\n",
       "   'title': 'Eli Lilly unveils new manufacturing plant for GLP-1 pens'},\n",
       "  {'id': 167,\n",
       "   'title': 'Eli Lilly wants to replace Zepbound with an even stronger weight loss drug'},\n",
       "  {'id': 168, 'title': \"Eli Lilly's Growth Prospects Just Got a Huge Upgrade\"},\n",
       "  {'id': 169,\n",
       "   'title': \"Eli Lilly's Weight-Loss Drug Takes Down ResMed, Inspire Medical  Again\"},\n",
       "  {'id': 170,\n",
       "   'title': \"Eli Lilly's Weight-Loss Drug Takes Down ResMed, Inspire Medical — Again\"},\n",
       "  {'id': 171,\n",
       "   'title': \"Eli Lilly's Zepbound For Weight Loss Shows Disease Resolution In Obese Sleep Apnea Patients, Lays Further Groundwork For Label Expansion\"},\n",
       "  {'id': 172,\n",
       "   'title': 'Eli Lilly: Throwing Its Weight Around - But, For How Long? (NYSE:LLY)'},\n",
       "  {'id': 173,\n",
       "   'title': 'Eli Lilly: Throwing Its Weight Around - But, For How Long? (Technical Analysis)'},\n",
       "  {'id': 174, 'title': 'Eli Lilly: collaboration agreement with OpenAI'},\n",
       "  {'id': 175, 'title': 'Eli Lilly: warning about counterfeit products'},\n",
       "  {'id': 176,\n",
       "   'title': 'Eli Lillys Weight-Loss Franchise Has Been a Massive Winner Under Dave Ricks'},\n",
       "  {'id': 177,\n",
       "   'title': 'Eli Lilly’s Tirzepatide Shows Promising Results in Sleep Apnea Treatment, Justifying a Buy Rating'},\n",
       "  {'id': 178,\n",
       "   'title': 'Eli Lilly’s Weight-Loss Franchise Has Been a Massive Winner Under Dave Ricks'},\n",
       "  {'id': 179,\n",
       "   'title': 'Ellenbecker Investment Group Acquires Shares of 290 Eli Lilly and Company (NYSE:LLY)'},\n",
       "  {'id': 180, 'title': 'Entertainment'},\n",
       "  {'id': 181, 'title': 'Exit Alert: 3 Stocks to Offload Before the Downturn'},\n",
       "  {'id': 182, 'title': 'Fact Check: Did the CIA Want Julian Assange Killed?'},\n",
       "  {'id': 183,\n",
       "   'title': 'Factory Mutual Insurance Co. Has $81.14 Million Position in Eli Lilly and Company (NYSE:LLY)'},\n",
       "  {'id': 184,\n",
       "   'title': 'Factory Mutual Insurance Co. Sells 1,100 Shares of Eli Lilly and Company (NYSE:LLY)'},\n",
       "  {'id': 185,\n",
       "   'title': \"Fake weight loss drugs, and Novo Nordisk's CEO will face Bernie Sanders: Pharma news roundup\"},\n",
       "  {'id': 186,\n",
       "   'title': 'Farmers Trust Co. Has $384,000 Position in Eli Lilly and Company (NYSE:LLY)'},\n",
       "  {'id': 187,\n",
       "   'title': \"Fed's favorite inflation reading highlights last week of Q2: What to know this week\"},\n",
       "  {'id': 188,\n",
       "   'title': 'Federal Reserve says all 31 banks in annual stress test withstood a severe hypothetical downturn'},\n",
       "  {'id': 189, 'title': 'Fly Intel: Pre-market Movers'},\n",
       "  {'id': 190,\n",
       "   'title': 'Food companies worried about weight loss drugs can just make healthier food, Eli Lilly CEO says'},\n",
       "  {'id': 191,\n",
       "   'title': 'Forbes J M & Co. LLP Has $1.22 Million Stock Holdings in Eli Lilly and Company (NYSE:LLY)'},\n",
       "  {'id': 192,\n",
       "   'title': 'Forbes J M & Co. LLP Sells 25 Shares of Eli Lilly and Company (NYSE:LLY)'},\n",
       "  {'id': 193,\n",
       "   'title': 'Forget Eli Lilly, Buy This Magnificent Biotech Stock Instead'},\n",
       "  {'id': 194,\n",
       "   'title': 'Fort Pitt Capital Group LLC Sells 32 Shares of Eli Lilly and Company (NYSE:LLY)'},\n",
       "  {'id': 195,\n",
       "   'title': 'Foster Group Inc. Acquires 51 Shares of Eli Lilly and Company (NYSE:LLY)'},\n",
       "  {'id': 196,\n",
       "   'title': \"From Sci-Fi Dream to Market Maze: Eli Lilly's Weight-Loss Medication Faces Hurdles\"},\n",
       "  {'id': 197, 'title': 'Full Coverage'},\n",
       "  {'id': 198,\n",
       "   'title': 'GAMMA Investing LLC Has $5.29 Million Holdings in Eli Lilly and Company (NYSE:LLY)'},\n",
       "  {'id': 199, 'title': 'GLP-1 drugs linked to reduced dementia risk: study'}],\n",
       " [{'id': 200,\n",
       "   'title': 'GLP-1 weight loss meds + exercise seen preserving bone health'},\n",
       "  {'id': 201,\n",
       "   'title': 'German Drug Developer Evotec Seeks Adviser Input As Takeover Concerns Mount'},\n",
       "  {'id': 202,\n",
       "   'title': 'German Drug Developer Evotec Seeks Adviser Input As Takeover Concerns Mount - Evotec  ( NASDAQ:EVO ) '},\n",
       "  {'id': 203,\n",
       "   'title': 'Gilead Sciences Faces Wall Street Speculation About Obesity Drugs Despite Focus On Liver Treatments'},\n",
       "  {'id': 204,\n",
       "   'title': 'Gilead Sciences Faces Wall Street Speculation About Obesity Drugs Despite Focus On Liver Treatments - Gilead Sciences  ( NASDAQ:GILD ) '},\n",
       "  {'id': 205,\n",
       "   'title': 'Gilead Sciences Jumps After Its Weight-Loss Drug Emerges From Under The Radar'},\n",
       "  {'id': 206,\n",
       "   'title': 'Gilman Hill Asset Management LLC Lowers Stake in Eli Lilly and Company (NYSE:LLY)'},\n",
       "  {'id': 207,\n",
       "   'title': 'Global Assets Advisory LLC Invests $325.42 Million in Eli Lilly and Company (NYSE:LLY)'},\n",
       "  {'id': 208,\n",
       "   'title': 'Global Assets Advisory LLC Takes Position in Eli Lilly and Company (NYSE:LLY)'},\n",
       "  {'id': 209,\n",
       "   'title': 'Global Trust Asset Management LLC Sells 300 Shares of Eli Lilly and Company (NYSE:LLY)'},\n",
       "  {'id': 210,\n",
       "   'title': 'Gordon Ramsay Threw Swimmer Lia Thomas Out of His Restaurant?'},\n",
       "  {'id': 211,\n",
       "   'title': 'Grandview Asset Management LLC Purchases 227 Shares of Eli Lilly and Company (NYSE:LLY)'},\n",
       "  {'id': 212,\n",
       "   'title': 'Gulf International Bank UK Ltd Has $53.45 Million Stock Holdings in Eli Lilly and Company (NYSE:LLY)'},\n",
       "  {'id': 213,\n",
       "   'title': 'Harbor Investment Advisory LLC Has $8.05 Million Stock Holdings in Eli Lilly and Company (NYSE:LLY)'},\n",
       "  {'id': 214,\n",
       "   'title': 'Harbor Investment Advisory LLC Purchases 421 Shares of Eli Lilly and Company (NYSE:LLY)'},\n",
       "  {'id': 215,\n",
       "   'title': \"Here's How Much a $1000 Investment in Eli Lilly Made 10 Years Ago Would Be Worth Today\"},\n",
       "  {'id': 216,\n",
       "   'title': \"Here's Why Eli Lilly  ( LLY )  is Probably the Best Drug Stock Now\"},\n",
       "  {'id': 217,\n",
       "   'title': \"Here's Why Eli Lilly (LLY) is Probably the Best Drug Stock Now\"},\n",
       "  {'id': 218,\n",
       "   'title': 'High Net Worth Advisory Group LLC Acquires 67 Shares of Eli Lilly and Company (NYSE:LLY)'},\n",
       "  {'id': 219,\n",
       "   'title': \"Highland Park parade shooting suspect rejects guilty plea deal, crushing victims' families: 'Evil and manipulative'\"},\n",
       "  {'id': 220,\n",
       "   'title': 'Hims & Hers defended at BofA as Lilly fights compounded GLP-1s'},\n",
       "  {'id': 221,\n",
       "   'title': \"How Lilly is joining Novo in the crusade to circumvent Medicare's block on weight loss drugs\"},\n",
       "  {'id': 222, 'title': 'How Long Can Extreme Concentration Last?'},\n",
       "  {'id': 223, 'title': 'How To Invest After A Follow-Through Day'},\n",
       "  {'id': 224,\n",
       "   'title': 'How consumer spending, election impact markets: Market Domination'},\n",
       "  {'id': 225,\n",
       "   'title': 'Hype Busters: 3 Overvalued Stocks Ready for a Reality Check'},\n",
       "  {'id': 226,\n",
       "   'title': \"In Search of the Rarest Book in American Literature: Edgar Allan Poe's Tamerlane\"},\n",
       "  {'id': 227,\n",
       "   'title': 'Independent Wealth Network Inc. Decreases Stake in Eli Lilly and Company (NYSE:LLY)'},\n",
       "  {'id': 228,\n",
       "   'title': 'Insider Selling: Eli Lilly and Company (NYSE:LLY) Major Shareholder Sells 17,229 Shares of Stock'},\n",
       "  {'id': 229,\n",
       "   'title': 'Insider Trade: Lilly Endowment Sells Eli Lilly Shares Worth $172M'},\n",
       "  {'id': 230,\n",
       "   'title': \"Inspire Medical price target lowered by $40 at Stifel, here's why\"},\n",
       "  {'id': 231,\n",
       "   'title': 'Inspire Medical, ResMed decline following Lilly tirzepatide sleep apnea data'},\n",
       "  {'id': 232,\n",
       "   'title': 'Insulet Points Its Insulin Pump at the Big Diabetes Market: Type 2'},\n",
       "  {'id': 233,\n",
       "   'title': 'International Assets Investment Management LLC Has $10.46 Million Position in Eli Lilly and Company (NYSE:LLY)'},\n",
       "  {'id': 234,\n",
       "   'title': 'International Assets Investment Management LLC Purchases 1,160 Shares of Eli Lilly and Company (NYSE:LLY)'},\n",
       "  {'id': 235,\n",
       "   'title': 'Investors Heavily Search Eli Lilly and Company  ( LLY ) : Here is What You Need to Know'},\n",
       "  {'id': 236,\n",
       "   'title': 'Investors Heavily Search Eli Lilly and Company (LLY): Here is What You Need to Know'},\n",
       "  {'id': 237,\n",
       "   'title': 'Is Eli Lilly  ( LLY )  a Buy on Tirzepatide Success in Sleep Apnea?'},\n",
       "  {'id': 238,\n",
       "   'title': 'Is Eli Lilly (LLY) a Buy on Tirzepatide Success in Sleep Apnea?'},\n",
       "  {'id': 239,\n",
       "   'title': \"Is Eli Lilly Stock A Buy After FDA Advisors Back Its Alzheimer's Drug?\"},\n",
       "  {'id': 240,\n",
       "   'title': \"Is Lilly Stock A Buy After FDA Advisors Back Its Alzheimer's Drug?\"},\n",
       "  {'id': 241,\n",
       "   'title': \"It's Not Just a Bad Day for Chip Stocks. ResMed Is the S&P 500s Top Decliner.\"},\n",
       "  {'id': 242,\n",
       "   'title': \"It's Not Just a Bad Day for Chip Stocks. ResMed Is the S&P 500’s Top Decliner.\"},\n",
       "  {'id': 243,\n",
       "   'title': 'Jacobs & Co. CA Has $17.53 Million Stake in Eli Lilly and Company (NYSE:LLY)'},\n",
       "  {'id': 244,\n",
       "   'title': \"Jimmy Butler to play out existing contract, won't sign extension\"},\n",
       "  {'id': 245,\n",
       "   'title': 'June consumer sentiment disappoints, Tesla short-selling: Catalysts'},\n",
       "  {'id': 246,\n",
       "   'title': 'Justices seem set to allow emergency abortions in Idaho for now, a prematurely posted opinion says'},\n",
       "  {'id': 247,\n",
       "   'title': 'KMG Fiduciary Partners LLC Has $19.80 Million Holdings in Eli Lilly and Company (NYSE:LLY)'},\n",
       "  {'id': 248,\n",
       "   'title': 'Kenyan President Ruto withdraws controversial finance bill following deadly protests'},\n",
       "  {'id': 249,\n",
       "   'title': 'La-Z-Boy and Winnebago have been highlighted as Zacks Bull and Bear of the Day'}],\n",
       " [{'id': 250,\n",
       "   'title': 'Lantz Financial LLC Increases Stake in Eli Lilly and Company (NYSE:LLY)'},\n",
       "  {'id': 251,\n",
       "   'title': 'Lawmakers to vote on if Medicare could cover obesity drugs'},\n",
       "  {'id': 252,\n",
       "   'title': 'Lawsuit Could Challenge Trust In Ozempic And Other Popular Weight Loss Drugs'},\n",
       "  {'id': 253,\n",
       "   'title': 'Liberty Capital Management Inc. Sells 15 Shares of Eli Lilly and Company (NYSE:LLY)'},\n",
       "  {'id': 254, 'title': 'Lilly Declares Third-Quarter 2024 Dividend'},\n",
       "  {'id': 255,\n",
       "   'title': 'Lilly Endowment Inc Sells 9671 Shares of Eli Lilly and Company (NYSE:LLY) Stock'},\n",
       "  {'id': 256,\n",
       "   'title': 'Lilly Weight-Loss Drug Data Spurs Selloff in Sleep Apnea Stocks'},\n",
       "  {'id': 257,\n",
       "   'title': 'Lilly collaborates with OpenAI to discover novel medicines to treat drug-resistant bacteria'},\n",
       "  {'id': 258,\n",
       "   'title': 'Lilly collaborates with OpenAI to discover novel medicines to treat drug-resistant bacteria | Eli Lilly and Company'},\n",
       "  {'id': 259,\n",
       "   'title': 'Lilly files additional lawsuits over US sales of counterfeit Mounjaro'},\n",
       "  {'id': 260,\n",
       "   'title': 'Lilly gains approval of lebrikizumab in Canada for atopic dermatitis'},\n",
       "  {'id': 261,\n",
       "   'title': 'Lilly joins fellow pharma giants in OpenAI partnership'},\n",
       "  {'id': 262,\n",
       "   'title': 'Lilly partners with OpenAI to develop medicines for drug-resistant bacteria'},\n",
       "  {'id': 263,\n",
       "   'title': 'Lilly weight loss drug tirzepatide meets primary endpoint in sleep apnea study'},\n",
       "  {'id': 264,\n",
       "   'title': 'Lilly&apos;s tirzepatide reduced obstructive sleep apnea (OSA) severity, with up to 51.5% of participants meeting the criteria for disease resolution'},\n",
       "  {'id': 265,\n",
       "   'title': \"Lilly's Weight-Loss Drug Takes Down ResMed, Inspire - Again\"},\n",
       "  {'id': 266,\n",
       "   'title': \"Lilly's tirzepatide reduced obstructive sleep apnea (OSA) severity, with up to 51.5% of participants meeting the criteria ...\"},\n",
       "  {'id': 267,\n",
       "   'title': \"Lilly's tirzepatide reduced obstructive sleep apnea (OSA) severity, with up to 51.5% of participants meeting the criteria for disease resolution\"},\n",
       "  {'id': 268,\n",
       "   'title': \"Lilly's tirzepatide was superior to placebo for MASH resolution, and more than half of patients achieved improvement in ...\"},\n",
       "  {'id': 269,\n",
       "   'title': 'Lilly, Novo Nordisk to dominate weight loss therapy market: SA Investing Summit'},\n",
       "  {'id': 270,\n",
       "   'title': 'Lillys Phase II results in Alzheimers disease have most experts saying donanemab is done'},\n",
       "  {'id': 271,\n",
       "   'title': 'Lillys Weight-Loss Drug Is a Huge Hit. Its CEO Wants to Replace It ASAP.'},\n",
       "  {'id': 272,\n",
       "   'title': 'Lillys tirzepatide reduces OSA severity in Phase III clinical trials'},\n",
       "  {'id': 273,\n",
       "   'title': 'Lilly’s tirzepatide reduces OSA severity in Phase III clinical trials'},\n",
       "  {'id': 274,\n",
       "   'title': 'Lloyd Advisory Services LLC. Grows Holdings in Eli Lilly and Company (NYSE:LLY)'},\n",
       "  {'id': 275,\n",
       "   'title': 'Los Angeles Capital Management LLC Raises Holdings in Eli Lilly and Company (NYSE:LLY)'},\n",
       "  {'id': 276,\n",
       "   'title': 'Lynch & Associates IN Acquires 143 Shares of Eli Lilly and Company (NYSE:LLY)'},\n",
       "  {'id': 277,\n",
       "   'title': 'M. Kraus & Co Sells 15 Shares of Eli Lilly and Company (NYSE:LLY)'},\n",
       "  {'id': 278,\n",
       "   'title': 'MJP Associates Inc. ADV Buys 604 Shares of Eli Lilly and Company (NYSE:LLY)'},\n",
       "  {'id': 279,\n",
       "   'title': 'Marcum Wealth LLC Increases Position in Eli Lilly and Company (NYSE:LLY)'},\n",
       "  {'id': 280,\n",
       "   'title': 'Market Street Wealth Management Advisors LLC Raises Stock Position in Eli Lilly and Company (NYSE:LLY)'},\n",
       "  {'id': 281,\n",
       "   'title': \"Market Today: Eli Lilly's Tirzepatide Success, AeroVironment Faces Competition, and More\"},\n",
       "  {'id': 282,\n",
       "   'title': 'Market shifting focus to softening growth from inflation, Morgan Stanley and BofA say'},\n",
       "  {'id': 283,\n",
       "   'title': \"Matthew Perry's ketamine suppliers could face charges in probe of 'Friends' star's death, sources say\"},\n",
       "  {'id': 284,\n",
       "   'title': 'Mechanics Bank Trust Department Has $3.22 Million Position in Eli Lilly and Company (NYSE:LLY)'},\n",
       "  {'id': 285,\n",
       "   'title': 'Meyer Handelman Co. Sells 919 Shares of Eli Lilly and Company (NYSE:LLY)'},\n",
       "  {'id': 286,\n",
       "   'title': \"Mom who slit children's throats and left them for dead on NYC sidewalk hit with 30 years-to-life sentence: DA\"},\n",
       "  {'id': 287,\n",
       "   'title': 'Montecito Bank & Trust Trims Stake in Eli Lilly and Company (NYSE:LLY)'},\n",
       "  {'id': 288,\n",
       "   'title': 'Moody National Bank Trust Division Has $9.37 Million Stock Holdings in Eli Lilly and Company (NYSE:LLY)'},\n",
       "  {'id': 289, 'title': 'More on weather.com'},\n",
       "  {'id': 290,\n",
       "   'title': 'More than 60 ice cream products recalled over possible listeria contamination'},\n",
       "  {'id': 291,\n",
       "   'title': 'Mounjaro Is Targeting Another Multibillion-Dollar Market: Is Eli Lilly Stock a Buy?'},\n",
       "  {'id': 292,\n",
       "   'title': \"Move Aside Ozempic, WeGovy: Denmark's New Drug Just Showed Positive Results For Weightloss\"},\n",
       "  {'id': 293,\n",
       "   'title': \"Move Aside Ozempic, WeGovy: Denmark's New Drug Just Showed Positive Results For Weightloss - Novo Nordisk  ( OTC:NONOF ) , Eli Lilly and Co  ( NYSE:LLY ) \"},\n",
       "  {'id': 294,\n",
       "   'title': 'Murphy Pohlad Asset Management LLC Reduces Stock Holdings in Eli Lilly and Company (NYSE:LLY)'},\n",
       "  {'id': 295,\n",
       "   'title': 'NVO Stock: Novo Nordisk Pops as China Approves Wegovy Weight Loss Drug'},\n",
       "  {'id': 296,\n",
       "   'title': \"NYC home to the world's top tourist attraction for 2024 — beating out the Eiffel Tower and the Colosseum\"},\n",
       "  {'id': 297, 'title': 'Nasdaq+0.49%17,805.16'},\n",
       "  {'id': 298,\n",
       "   'title': 'Nektar Therapeutics Likely To Drift And Wobble Ahead Of Key Phase II Data In 2025'},\n",
       "  {'id': 299,\n",
       "   'title': 'Nestle Carefully Targets Weight-Loss Drug Users with New Food Line'}],\n",
       " [{'id': 300,\n",
       "   'title': 'Nestle Carefully Targets Weight-Loss Drug Users with New Food Line - Novo Nordisk  ( NYSE:NVO ) , Eli Lilly and Co  ( NYSE:LLY ) , Nestle  ( OTC:NSRGY ) '},\n",
       "  {'id': 301,\n",
       "   'title': 'New Hampshire Trust Purchases 28 Shares of Eli Lilly and Company (NYSE:LLY)'},\n",
       "  {'id': 302,\n",
       "   'title': 'New Jersey man warning beachgoers about storm killed by lightning strike'},\n",
       "  {'id': 303,\n",
       "   'title': 'New Weight-Loss Drugs and Devices Are Coming This Week'},\n",
       "  {'id': 304, 'title': 'News Showcase'},\n",
       "  {'id': 305,\n",
       "   'title': \"Nicole Kidman and Daughter Sunday's Twinning Moment at Paris Fashion Week Is Practically Magic - E! Online\"},\n",
       "  {'id': 306,\n",
       "   'title': \"No, Maine's first LGBTQ+ affordable housing project isn't against the law\"},\n",
       "  {'id': 307, 'title': 'Noteworthy Friday Option Activity: LLY, GS, BX'},\n",
       "  {'id': 308,\n",
       "   'title': 'Novo Nordisk  ( NVO )  to Invest $4.1B in Clayton Facility Expansion'},\n",
       "  {'id': 309,\n",
       "   'title': 'Novo Nordisk (NVO) to Invest $4.1B in Clayton Facility Expansion'},\n",
       "  {'id': 310,\n",
       "   'title': 'Novo Nordisk Breaks Out To An All-Time High On China Approval Of Wegovy'},\n",
       "  {'id': 311,\n",
       "   'title': 'Novo Nordisk Eyes Another U.S. Plant; Bags Key Approval in China'},\n",
       "  {'id': 312, 'title': 'Novo Nordisk Rises as Wegovy Is Approved in China'},\n",
       "  {'id': 313,\n",
       "   'title': 'Novo Nordisk to invest $4.1B in NC facility for GLP-1 drugs'},\n",
       "  {'id': 314,\n",
       "   'title': 'Novo Nordisk to spend $4.1B to build new plant for obesity drugs in N.C.'},\n",
       "  {'id': 315,\n",
       "   'title': \"Novo Nordisk's Older Generation Weight-Loss Drug Saxenda Associated With Decreased Bone Mass Density, Study Shows - Novo Nordisk  ( NYSE:NVO ) \"},\n",
       "  {'id': 316,\n",
       "   'title': 'Novo Nordisk, Eli Lilly still top 2 pharma stocks: Analyst'},\n",
       "  {'id': 317,\n",
       "   'title': 'Novo to spend $4B on US plant, adding to obesity drug production push'},\n",
       "  {'id': 318,\n",
       "   'title': 'Nyxoah price target lowered to $19 from $27 at Stifel'},\n",
       "  {'id': 319,\n",
       "   'title': 'Obesity drug used in Mounjaro and Zepbound may help treat dangerous sleep apnea'},\n",
       "  {'id': 320,\n",
       "   'title': 'Obesity drugs from Altimmune, Hengrui show potential; Lilly details Zepbound sleep apnea data'},\n",
       "  {'id': 321,\n",
       "   'title': 'Obesity-Drug Developers Look at Whats Next for a $100 Billion Market'},\n",
       "  {'id': 322,\n",
       "   'title': 'Obesity-Drug Developers Look at What’s Next for a $100 Billion Market'},\n",
       "  {'id': 323,\n",
       "   'title': 'Orser Capital Management LLC Purchases 36 Shares of Eli Lilly and Company (NYSE:LLY)'},\n",
       "  {'id': 324,\n",
       "   'title': 'PPS&V Asset Management Consultants Inc. Sells 24 Shares of Eli Lilly and Company (NYSE:LLY)'},\n",
       "  {'id': 325,\n",
       "   'title': 'Pacifica Partners Inc. Has $510,000 Stock Position in Eli Lilly and Company (NYSE:LLY)'},\n",
       "  {'id': 326,\n",
       "   'title': 'Peak Financial Advisors LLC Decreases Holdings in Eli Lilly and Company (NYSE:LLY)'},\n",
       "  {'id': 327,\n",
       "   'title': \"Planet Fitness upgraded, Comcast downgraded: Wall Street's top analyst calls\"},\n",
       "  {'id': 328, 'title': 'Pre-Market Movers - June 21, 2024'},\n",
       "  {'id': 329,\n",
       "   'title': 'Pre-diabetes rates increase amidst a renaissance for type 2 diabetes research'},\n",
       "  {'id': 330,\n",
       "   'title': 'RFG Advisory LLC Has $5.06 Million Stock Position in Eli Lilly and Company (NYSE:LLY)'},\n",
       "  {'id': 331,\n",
       "   'title': 'Radnor Capital Management LLC Trims Position in Eli Lilly and Company (NYSE:LLY)'},\n",
       "  {'id': 332,\n",
       "   'title': 'Range Financial Group LLC Acquires 60 Shares of Eli Lilly and Company (NYSE:LLY)'},\n",
       "  {'id': 333,\n",
       "   'title': \"ResMed Stock Collapses After Eli Lilly's Weight-Loss Drug Reduces Sleep Apnea Events\"},\n",
       "  {'id': 334,\n",
       "   'title': 'ResMed Stock Dives. Blame Eli Lillys Zepbound Trials for Sleep Apnea.'},\n",
       "  {'id': 335,\n",
       "   'title': 'ResMed Stock Dives. Blame Eli Lilly’s Zepbound Trials for Sleep Apnea.'},\n",
       "  {'id': 336,\n",
       "   'title': 'ResMed Stock Is Sinking. Blame Eli Lillys Zepbound Trials for Sleep Apnea.'},\n",
       "  {'id': 337,\n",
       "   'title': 'ResMed Stock Is Sinking. Blame Lillys Zepbound Trials for Sleep Apnea.'},\n",
       "  {'id': 338,\n",
       "   'title': 'ResMed cut at Oppenheimer after Eli Lilly’s tirzepatide sleep apnea data'},\n",
       "  {'id': 339,\n",
       "   'title': 'ResMed shares slip after Eli Lilly reports sleep apnea study data'},\n",
       "  {'id': 340,\n",
       "   'title': 'ResMed, Philips under pressure as Eli Lilly seeks sleep indication for weight loss drug'},\n",
       "  {'id': 341, 'title': \"Roche: Obesity Treatment's Promise Isn't Enough\"},\n",
       "  {'id': 342,\n",
       "   'title': 'Rockland Trust Co. Sells 338 Shares of Eli Lilly and Company (NYSE:LLY)'},\n",
       "  {'id': 343, 'title': 'Russell-0.21%2,018.12'},\n",
       "  {'id': 344,\n",
       "   'title': 'S&P 500 Gains and Losses Today: Oil Stocks Surge Amid Global Tensions, Summer Demand'},\n",
       "  {'id': 345, 'title': 'S&P 500+0.16%5,477.90'},\n",
       "  {'id': 346,\n",
       "   'title': \"Seattle's Living Computers Museum logs off for good as Paul Allen estate will auction vintage items\"},\n",
       "  {'id': 347,\n",
       "   'title': 'Sector Update: Health Care Stocks Higher Late Afternoon'},\n",
       "  {'id': 348,\n",
       "   'title': 'Severe Thunderstorm WatchTHE NATIONAL WEATHER SERVICE HAS ISSUED SEVERE THUNDERSTORM WATCH 469 IN EFFECT UNTIL MIDNIGHT EDT TONIGHT FOR THE FOLLOWING AREAS IN CONNECTICUT THIS WATCH INCLUDES 4 COUNTIES ...'},\n",
       "  {'id': 349,\n",
       "   'title': 'Shilanski & Associates Inc. Cuts Stake in Eli Lilly and Company (NYSE:LLY)'}],\n",
       " [{'id': 350, 'title': 'Six key takeaways from the last TV leadership debate'},\n",
       "  {'id': 351,\n",
       "   'title': 'Sources - Wizards trading forward Deni Avdija to Trail Blazers'},\n",
       "  {'id': 352,\n",
       "   'title': 'Southland Equity Partners LLC Grows Holdings in Eli Lilly and Company (NYSE:LLY)'},\n",
       "  {'id': 353,\n",
       "   'title': 'Stableford Capital II LLC Acquires 635 Shares of Eli Lilly and Company (NYSE:LLY)'},\n",
       "  {'id': 354, 'title': 'Star Tracks: Sophia Bush, Ashlyn Harris and More'},\n",
       "  {'id': 355,\n",
       "   'title': 'Steam Just Made It Super Easy To Record All Your Biggest Gaming Moments'},\n",
       "  {'id': 356,\n",
       "   'title': 'Stocks close higher, Trump tax cuts: Market Domination Overtime'},\n",
       "  {'id': 357,\n",
       "   'title': 'Sunflower Bank N.A. Lowers Position in Eli Lilly and Company (NYSE:LLY)'},\n",
       "  {'id': 358,\n",
       "   'title': 'Supreme Court Appears Poised to Allow, for Now, Emergency Abortions in Idaho'},\n",
       "  {'id': 359,\n",
       "   'title': \"Supreme Court conservatives clash over ruling on Biden's social media influence\"},\n",
       "  {'id': 360,\n",
       "   'title': 'Supreme Court declines to say if accidentally posted Idaho abortion is final'},\n",
       "  {'id': 361,\n",
       "   'title': 'Supreme Court wipes out anti-corruption law that bars officials from taking gifts for past favors'},\n",
       "  {'id': 362,\n",
       "   'title': 'Takeda gets EU approval for Fruzaqla for colorectal cancer'},\n",
       "  {'id': 363,\n",
       "   'title': 'Tech sector growth, EU considers fining Apple: Morning Brief'},\n",
       "  {'id': 364,\n",
       "   'title': 'The Fed Needs to Cut Rates Eventually Amid This Economic Slowdown. Heres Why, and 4 Other Things to Know Today.'},\n",
       "  {'id': 365,\n",
       "   'title': 'The Fed Needs to Cut Rates Eventually Amid This Economic Slowdown. Here’s Why, and 4 Other Things to Know Today.'},\n",
       "  {'id': 366, 'title': 'The Future of Weight-Loss Drugs for Investors'},\n",
       "  {'id': 367,\n",
       "   'title': 'The Green Bubble Nightmare Is Over, Apple Messages Now Support RCS'},\n",
       "  {'id': 368,\n",
       "   'title': 'The Next 7 Trillion-Dollar Stocks to Buy: June 2024 Edition'},\n",
       "  {'id': 369,\n",
       "   'title': 'The S&P 500 and Nvidia, Chipotle stock split: Morning Brief'},\n",
       "  {'id': 370,\n",
       "   'title': 'The War Over Cheaper Ozempic Wont End Well for Some Investors'},\n",
       "  {'id': 371,\n",
       "   'title': 'The War Over Cheaper Ozempic Won’t End Well for Some Investors'},\n",
       "  {'id': 372,\n",
       "   'title': 'The Zacks Analyst Blog Highlights Pfizer, Johnson & Johnson and Eli Lilly'},\n",
       "  {'id': 373,\n",
       "   'title': 'The Zacks Analyst Blog Highlights Pfizer, Johnson & Johnson and Eli Lilly - Johnson & Johnson  ( NYSE:JNJ ) , Eli Lilly and Co  ( NYSE:LLY ) '},\n",
       "  {'id': 374,\n",
       "   'title': 'These Stocks Are Moving the Most Today: Apple, Meta, Trump Media, RXO, Eli Lilly, ResMed, Under Armour, and More'},\n",
       "  {'id': 375,\n",
       "   'title': 'These Stocks Are Moving the Most Today: Nvidia, Apple, Trump Media, RXO, ResMed, Alnylam, Affirm, IBM, and More'},\n",
       "  {'id': 376,\n",
       "   'title': 'They took part in Apache ceremonies. Their schools expelled them for satanic activities'},\n",
       "  {'id': 377,\n",
       "   'title': 'Thinking of Buying Madrigal Pharmaceuticals Stock? Eli Lilly Would Like to Have a Word.'},\n",
       "  {'id': 378, 'title': 'This Is What Whales Are Betting On Eli Lilly and Co'},\n",
       "  {'id': 379,\n",
       "   'title': 'This Is What Whales Are Betting On Eli Lilly and Co - Eli Lilly and Co  ( NYSE:LLY ) '},\n",
       "  {'id': 380,\n",
       "   'title': 'This Is What Whales Are Betting On Eli Lilly and Co - Eli Lilly and Co (NYSE:LLY)'},\n",
       "  {'id': 381,\n",
       "   'title': 'Threadgill Financial LLC Sells 225 Shares of Eli Lilly and Company (NYSE:LLY)'},\n",
       "  {'id': 382, 'title': 'Three-Stock Lunch: Nvidia, Eli Lilly'},\n",
       "  {'id': 383,\n",
       "   'title': 'Tompkins Financial Corp Has $24 Million Position in Eli Lilly and Company (NYSE:LLY)'},\n",
       "  {'id': 384,\n",
       "   'title': 'Top 10 performing S&P 500 names as H1 looks to close out this week'},\n",
       "  {'id': 385,\n",
       "   'title': 'Top 10 performing S&P 500 names as first half looks to close out this week'},\n",
       "  {'id': 386,\n",
       "   'title': 'Top Stock Movers Now: Affirm, Nvidia, ResMed, and More'},\n",
       "  {'id': 387,\n",
       "   'title': 'Top Stock Movers Now: Carnival, Nvidia, SolarEdge Technologies, and More'},\n",
       "  {'id': 388,\n",
       "   'title': 'Top Weight-Loss Rivals Share This Risk After Eye-Popping Runs'},\n",
       "  {'id': 389, 'title': 'Top stories'},\n",
       "  {'id': 390,\n",
       "   'title': 'Traynor Capital Management Inc. Boosts Position in Eli Lilly and Company (NYSE:LLY)'},\n",
       "  {'id': 391,\n",
       "   'title': 'Treasury Secretary Janet Yellen gives unbelievable response when asked if she goes grocery shopping and if she'},\n",
       "  {'id': 392,\n",
       "   'title': 'Trending : Lilly Anti-Obesity Drug Tirzepatide Reduces Sleep Apnea Severity in Studies'},\n",
       "  {'id': 393,\n",
       "   'title': 'Triangle Securities Wealth Management Reduces Position in Eli Lilly and Company (NYSE:LLY)'},\n",
       "  {'id': 394, 'title': 'Trillionaire Club Throws An Indulgent Theme Party'},\n",
       "  {'id': 395,\n",
       "   'title': 'Truist Financial Reaffirms Their Buy Rating on Eli Lilly & Co (LLY)'},\n",
       "  {'id': 396, 'title': 'Trump Spreads Election Misinformation in Key States'},\n",
       "  {'id': 397,\n",
       "   'title': 'Trump threatens lawsuit over ad using his own words to discourage mail voting'},\n",
       "  {'id': 398, 'title': 'Two Is Better Than One in the Alzheimers Market'},\n",
       "  {'id': 399, 'title': 'US Stocks Are Showing Signs Of Extreme Divergence'}],\n",
       " [{'id': 400,\n",
       "   'title': 'Unique Wealth LLC Takes Position in Eli Lilly and Company (NYSE:LLY)'},\n",
       "  {'id': 401,\n",
       "   'title': 'Unusual Put Option Trade in Eli Lilly and (LLY)  Worth $2,895.00K'},\n",
       "  {'id': 402,\n",
       "   'title': 'Up 400% In 3 Years, Eli Lilly Stock Just Keeps Giving'},\n",
       "  {'id': 403, 'title': 'Video: Daily Dividend Report: LLY,MRVL,ARR,SNX,IVR'},\n",
       "  {'id': 404, 'title': 'Video: Daily Dividend Report: LLY,MRVL,LOAN,SM,FFMR'},\n",
       "  {'id': 405,\n",
       "   'title': 'WHO and Eli Lilly caution patients against falling for fake versions of popular weight-loss drugs'},\n",
       "  {'id': 406, 'title': 'WHO issues warning on falsified semaglutides'},\n",
       "  {'id': 407,\n",
       "   'title': 'WHO warns of harmful fake Ozempic in circulation in Americas and Europe'},\n",
       "  {'id': 408,\n",
       "   'title': 'WHO warns of “harmful” fake Ozempic in circulation in Americas and Europe'},\n",
       "  {'id': 409,\n",
       "   'title': 'Wall Street Favorites: 7 Growth Stocks With Strong Buy Ratings for June 2024'},\n",
       "  {'id': 410,\n",
       "   'title': 'Want to Get Richer? 2 Top Stocks to Buy Now and Hold Forever.'},\n",
       "  {'id': 411,\n",
       "   'title': \"Wegovy's Precarious Position: 3 Drugs Most Likely to Dethrone Novo Nordisk's Blockbuster Obesity Drug\"},\n",
       "  {'id': 412,\n",
       "   'title': 'Weight-loss drug Zepbound resolves sleep apnea in up to 52% of patients, Lilly says'},\n",
       "  {'id': 413,\n",
       "   'title': 'Welch Group LLC Has $4.62 Million Stock Holdings in Eli Lilly and Company (NYSE:LLY)'},\n",
       "  {'id': 414,\n",
       "   'title': 'What Makes Eli Lilly & Company (LLY) a Hot Healthcare Stock Right Now?'},\n",
       "  {'id': 415, 'title': 'What You Missed On Wall Street On Friday'},\n",
       "  {'id': 416, 'title': 'What You Missed On Wall Street This Morning'},\n",
       "  {'id': 417,\n",
       "   'title': 'What stocks would benefit from a red sweep this November - UBS'},\n",
       "  {'id': 418,\n",
       "   'title': \"What's Going On With Eli Lilly Shares Monday? - Eli Lilly and Co  ( NYSE:LLY ) \"},\n",
       "  {'id': 419,\n",
       "   'title': \"What's Going On With Eli Lilly Stock On Monday? - Eli Lilly and Co  ( NYSE:LLY ) \"},\n",
       "  {'id': 420, 'title': \"What's Going On With Eli Lilly Stock On Tuesday?\"},\n",
       "  {'id': 421,\n",
       "   'title': \"What's Going On With Eli Lilly Stock On Tuesday? - Eli Lilly and Co  ( NYSE:LLY ) \"},\n",
       "  {'id': 422,\n",
       "   'title': \"What's Going On With Eli Lilly Stock On Tuesday? - Eli Lilly and Co (NYSE:LLY)\"},\n",
       "  {'id': 423,\n",
       "   'title': 'Which stocks would benefit from a red sweep this November - UBS'},\n",
       "  {'id': 424,\n",
       "   'title': \"Who Is Bolivia's President Luis Arce? Former Economist Survives Coup Attempt\"},\n",
       "  {'id': 425,\n",
       "   'title': 'Why Drugmaker Eli Lilly Is Partnering With ChatGPT Maker OpenAI'},\n",
       "  {'id': 426,\n",
       "   'title': 'Why Eli Lilly (LLY) is a Top Momentum Stock for the Long-Term'},\n",
       "  {'id': 427,\n",
       "   'title': \"Why Investors Haven't Feasted on Two New Weight-Loss ETFs\"},\n",
       "  {'id': 428,\n",
       "   'title': 'Why Investors Need to Take Advantage of These 2 Medical Stocks Now'},\n",
       "  {'id': 429,\n",
       "   'title': 'Why ResMed Shares Are Trading Lower Monday - ResMed  ( NYSE:RMD ) '},\n",
       "  {'id': 430, 'title': 'Why Wall Street Is Chasing Ozempic Wannabes'},\n",
       "  {'id': 431,\n",
       "   'title': 'Why a Pair of Eli Lilly Clinical Trials Sent ResMed Stock Tumbling'},\n",
       "  {'id': 432,\n",
       "   'title': \"Why the GLP-1 impact on other industries 'will take years'\"},\n",
       "  {'id': 433,\n",
       "   'title': \"Will Novo Nordisk Building Fires Serve As A Catalyst For Eli Lilly? Redditors See A Stock Split For US Company 'Very ...\"},\n",
       "  {'id': 434,\n",
       "   'title': \"Will Novo Nordisk Building Fires Serve As A Catalyst For Eli Lilly? Redditors See A Stock Split For US Company 'Very Likely'\"},\n",
       "  {'id': 435,\n",
       "   'title': \"Will Novo Nordisk Building Fires Serve As A Catalyst For Eli Lilly? Redditors See A Stock Split For US Company 'Very Likely' - Novo Nordisk  ( NYSE:NVO ) , Eli Lilly and Co  ( NYSE:LLY ) \"},\n",
       "  {'id': 436, 'title': 'Windows on Arm finally has legs'},\n",
       "  {'id': 437,\n",
       "   'title': 'Woodstock Corp Buys 31 Shares of Eli Lilly and Company (NYSE:LLY)'},\n",
       "  {'id': 438,\n",
       "   'title': 'Yahoo Video: Novo Nordisk, Eli Lilly still top 2 pharma stocks: Analyst'},\n",
       "  {'id': 439,\n",
       "   'title': 'Zealand Pharma extends gains on early-stage data for weight loss drug'},\n",
       "  {'id': 440,\n",
       "   'title': \"Zealand Pharma: Weight Loss Drug Petrelintide Is Not A 'Me Too' Advancement\"}]]"
      ]
     },
     "execution_count": 43,
     "metadata": {},
     "output_type": "execute_result"
    }
   ],
   "source": [
    "pages = paginate_df(news_df)\n",
    "pages\n"
   ]
  },
  {
   "cell_type": "code",
   "execution_count": 44,
   "id": "81a7e610",
   "metadata": {},
   "outputs": [],
   "source": [
    "MAX_OUTPUT_TOKENS = 4096\n",
    "MAX_RETRIES = 3\n",
    "TEMPERATURE = 0\n",
    "\n",
    "async def get_response_json(\n",
    "    client,\n",
    "    messages,\n",
    "    verbose=False,\n",
    "    model=MODEL,\n",
    "    max_output_tokens=MAX_OUTPUT_TOKENS,\n",
    "    max_retries=MAX_RETRIES,\n",
    "    temperature=TEMPERATURE,\n",
    "):\n",
    "    \"\"\"\n",
    "    Calls the OpenAI client with messages and returns the response as a JSON string.\n",
    "    response_format={\"type\": \"json_object\"} forces ChatGPT to return a valid JSON string.\n",
    "\n",
    "    Args:\n",
    "        client (OpenAI.ChatCompletionClient): The OpenAI client used to make the API call.\n",
    "        messages (str or list): The messages to send to the chat model. If a string is provided, it will be converted to a list with a single message.\n",
    "        verbose (bool, optional): Whether to print the messages to the console. Defaults to False.\n",
    "        model (str, optional): The model to use for chat completion. Defaults to MODEL.\n",
    "        max_output_tokens (int, optional): The maximum number of tokens in the response. Defaults to MAX_OUTPUT_TOKENS.\n",
    "        max_retries (int, optional): The maximum number of retries in case of API errors. Defaults to MAX_RETRIES.\n",
    "        temperature (float, optional): The temperature parameter for generating diverse responses. Defaults to TEMPERATURE.\n",
    "\n",
    "    Returns:\n",
    "        dict: The response from the OpenAI API as a JSON object.\n",
    "\n",
    "    Raises:\n",
    "        Exception: If an error occurs during the API call.\n",
    "\n",
    "    \"\"\"\n",
    "    if type(messages) is not list:  # allow passing one string for convenience\n",
    "        messages = [{\"role\": \"user\", \"content\": messages}]\n",
    "\n",
    "    if verbose:\n",
    "        print(\"\\n\".join([str(msg) for msg in messages]))\n",
    "\n",
    "    # truncate number of tokens\n",
    "    # retry loop, have received untrapped 500 errors like too busy\n",
    "    for i in range(max_retries):\n",
    "        if i > 0:\n",
    "            print(f\"Attempt {i+1}...\")\n",
    "        try:\n",
    "            response = client.chat.completions.create(\n",
    "                model=model,\n",
    "                messages=messages,\n",
    "                temperature=temperature,\n",
    "                max_tokens=max_output_tokens,\n",
    "                response_format={\"type\": \"json_object\"},\n",
    "            )\n",
    "            # no exception thrown\n",
    "            return response\n",
    "        except Exception as error:\n",
    "            print(f\"An exception occurred on attempt {i+1}:\", error)\n",
    "            time.sleep(sleeptime)\n",
    "            continue  # try again\n",
    "        # retries exceeded if you got this far\n",
    "    print(\"Retries exceeded.\")\n",
    "    return None\n",
    "\n"
   ]
  },
  {
   "cell_type": "code",
   "execution_count": 45,
   "id": "6ee69d48",
   "metadata": {},
   "outputs": [],
   "source": [
    "async def fetch_response(client, prompt, p):\n",
    "    \"\"\"Fetches the response from the OpenAI client based on the given prompt and page.\n",
    "\n",
    "    Args:\n",
    "        client (OpenAI.Client): The OpenAI client used to make the API request.\n",
    "        prompt (str): The prompt to be processed by the OpenAI client.\n",
    "        p (dict): The page containing keys and values to be processed.\n",
    "\n",
    "    Returns:\n",
    "        list: The response as a list of keys and values.\n",
    "\n",
    "    Raises:\n",
    "        TypeError: If the response is not a dictionary or a list.\n",
    "\n",
    "    \"\"\"\n",
    "    retlist = []\n",
    "    response = await get_response_json(client, prompt + json.dumps(p))\n",
    "    response_json = json.loads(response.choices[0].message.content)\n",
    "\n",
    "    if type(response_json) is dict:\n",
    "        for k, v in response_json.items():\n",
    "            if type(v) is list:  # came back correctly as e.g. {'stories': []}\n",
    "                retlist.extend(v)\n",
    "            else:  # maybe a weird dict with keys  of id\n",
    "                retlist.append(v)\n",
    "        print(f\"{datetime.now().strftime('%H:%M:%S')} got dict with {len(retlist)} items \")\n",
    "    elif type(response_json) is list:\n",
    "        retlist = response_json\n",
    "        print(f\"{datetime.now().strftime('%H:%M:%S')} got list with {len(retlist)} items \")\n",
    "    else:\n",
    "        raise TypeError(\"Error: Invalid response type\")\n",
    "\n",
    "    sent_ids = [s['id'] for s in p]\n",
    "    received_ids = [r['id'] for r in response_json['stories']]\n",
    "    difference = set(sent_ids) - set(received_ids)\n",
    "\n",
    "    if difference:\n",
    "        print(f\"missing items, {str(difference)}\")\n",
    "        return []\n",
    "    else:\n",
    "        return retlist\n"
   ]
  },
  {
   "cell_type": "code",
   "execution_count": 48,
   "id": "6aa07ec0",
   "metadata": {},
   "outputs": [],
   "source": [
    "async def process_pages(client, symbol, company, pages):\n",
    "    \"\"\"\n",
    "    Process a list of pages by sending them individually to the OpenAI API with the given prompt.\n",
    "\n",
    "    Args:\n",
    "        client (OpenAI.Client): The OpenAI API client.\n",
    "        prompt (str): The prompt template to be sent to the OpenAI API.\n",
    "        pages (list): A list of pages to be processed.\n",
    "\n",
    "    Returns:\n",
    "        list: A list of enriched URLs.\n",
    "\n",
    "    \"\"\"\n",
    "\n",
    "    company_str = f\"{company} (symbol {symbol})\"\n",
    "    prompt = f\"\"\"You will act as a research assistant to categorize news articles based on their relevance\n",
    "to the topic of the following company {company_str}. You will process and classify news headlines\n",
    "formatted as JSON objects.\n",
    "\n",
    "Input Specification:\n",
    "You will receive a list of news stories formatted as JSON objects.\n",
    "Each object will include an 'id' and a 'title'. For instance:\n",
    "[{{'id': 0, 'title': 'Nvidia: Time To Admit My Big Mistake (Rating Upgrade)'}},\n",
    " {{'id': 1,\n",
    "  'title': 'Tesla Faces Uphill Battle: Morgan Stanley Analyst Adam Jonas Cuts Target Price, Forecasts Lower FY24 Sales Volume'}},\n",
    " {{'id': 2, 'title': 'Why Investors Slammed the Brakes on Tesla Stock Today'}},\n",
    " {{'id': 3,\n",
    "  'title': 'The 2024 GMC Hummer EV SUV: Reimagined, futuristic, luxurious and an off-road champ'}},\n",
    " {{'id': 4,\n",
    "  'title': 'Jim Cramer Weighs In On Tuesday Market Decline, Says It Reflects A Market Top, Not A Bubble'}}]\n",
    "\n",
    "Classification Criteria:\n",
    "Classify each story based on its title to determine whether it primarily pertains to {company_str} .\n",
    "Narrowly define company-related to be a headline that would be of interest to an investor in the company\n",
    "because it is related to the company's business, products and services. Do not include headlines that only\n",
    "mention the company or symbol as part of a broad topic like the day's stock market activity.\n",
    "\n",
    "Output Specification:\n",
    "You will return a JSON object with the field 'stories' containing the list of classification results.\n",
    "For each story, your output will be a JSON object containing the original 'id' and a new field 'related',\n",
    "a boolean indicating if the story is about {company_str}. The output schema must be strictly adhered to, \n",
    "without any additional fields. Example output for company 'Tesla (symbol TSLA)':\n",
    "{{'stories':\n",
    "[{{'id': 0, 'related': false}},\n",
    " {{'id': 1, 'related': true}},\n",
    " {{'id': 2, 'related': true}},\n",
    " {{'id': 3, 'related': false}},\n",
    " {{'id': 4, 'related': false}}]\n",
    "}}\n",
    "\n",
    "Ensure that each output object accurately reflects the corresponding input object in terms of the 'id' field\n",
    "and that the '':' field accurately represents the relevance of the story to {company_str} as determined by the title.\n",
    "\n",
    "The list of news stories to classify is:\n",
    "\"\"\"\n",
    "    print(prompt)\n",
    "    enriched_urls = []\n",
    "    tasks = []\n",
    "    for i, p in enumerate(pages):\n",
    "        print(f\"send page {i+1} of {len(pages)}, {len(p)} items \")\n",
    "        task = asyncio.create_task(fetch_response(client, prompt, p))\n",
    "        tasks.append(task)\n",
    "    responses = await asyncio.gather(*tasks)\n",
    "    for retlist in responses:\n",
    "        if retlist:\n",
    "            enriched_urls.extend(retlist)\n",
    "        else:\n",
    "            print(\"process_pages failed\")\n",
    "    return enriched_urls\n",
    "\n"
   ]
  },
  {
   "cell_type": "code",
   "execution_count": 49,
   "id": "36e97cc2",
   "metadata": {},
   "outputs": [
    {
     "name": "stdout",
     "output_type": "stream",
     "text": [
      "You will act as a research assistant to categorize news articles based on their relevance\n",
      "to the topic of the following company Eli Lilly (symbol LLY). You will process and classify news headlines\n",
      "formatted as JSON objects.\n",
      "\n",
      "Input Specification:\n",
      "You will receive a list of news stories formatted as JSON objects.\n",
      "Each object will include an 'id' and a 'title'. For instance:\n",
      "[{'id': 0, 'title': 'Nvidia: Time To Admit My Big Mistake (Rating Upgrade)'},\n",
      " {'id': 1,\n",
      "  'title': 'Tesla Faces Uphill Battle: Morgan Stanley Analyst Adam Jonas Cuts Target Price, Forecasts Lower FY24 Sales Volume'},\n",
      " {'id': 2, 'title': 'Why Investors Slammed the Brakes on Tesla Stock Today'},\n",
      " {'id': 3,\n",
      "  'title': 'The 2024 GMC Hummer EV SUV: Reimagined, futuristic, luxurious and an off-road champ'},\n",
      " {'id': 4,\n",
      "  'title': 'Jim Cramer Weighs In On Tuesday Market Decline, Says It Reflects A Market Top, Not A Bubble'}]\n",
      "\n",
      "Classification Criteria:\n",
      "Classify each story based on its title to determine whether it primarily pertains to the specified company.\n",
      "Narrowly define company-related to be a headline that would be of interest to an investor in the company\n",
      "because it is related to the company's business, products and services. Do not include headlines that only\n",
      "mention the company or symbol as part of a broad topic like the day's stock market activity.\n",
      "\n",
      "Output Specification:\n",
      "You will return a JSON object with the field 'stories' containing the list of classification results.\n",
      "For each story, your output will be a JSON object containing the original 'id' and a new field 'related',\n",
      "a boolean indicating if the story is about Eli Lilly (symbol LLY). The output schema must be strictly adhered to, without\n",
      "any additional fields. Example output for company 'Tesla (symbol TSLA)':\n",
      "{'stories':\n",
      "[{'id': 0, 'related': false},\n",
      " {'id': 1, 'related': true},\n",
      " {'id': 2, 'related': true},\n",
      " {'id': 3, 'related': false},\n",
      " {'id': 4, 'related': false}]\n",
      "}\n",
      "\n",
      "Ensure that each output object accurately reflects the corresponding input object in terms of the 'id' field\n",
      "and that the '':' field accurately represents the relevance of the story to Eli Lilly (symbol LLY) as determined by the title.\n",
      "\n",
      "The list of news stories to classify and enrich is:\n",
      "\n",
      "send page 1 of 9, 50 items \n",
      "send page 2 of 9, 50 items \n",
      "send page 3 of 9, 50 items \n",
      "send page 4 of 9, 50 items \n",
      "send page 5 of 9, 50 items \n",
      "send page 6 of 9, 50 items \n",
      "send page 7 of 9, 50 items \n",
      "send page 8 of 9, 50 items \n",
      "send page 9 of 9, 41 items \n",
      "21:50:14 got dict with 50 items \n",
      "21:50:24 got dict with 50 items \n",
      "21:50:44 got dict with 50 items \n",
      "21:50:49 got dict with 50 items \n",
      "21:51:01 got dict with 50 items \n",
      "21:51:11 got dict with 50 items \n",
      "21:51:22 got dict with 50 items \n",
      "21:51:33 got dict with 50 items \n",
      "21:51:41 got dict with 41 items \n"
     ]
    },
    {
     "data": {
      "text/plain": [
       "[{'id': 0, 'related': False},\n",
       " {'id': 1, 'related': True},\n",
       " {'id': 2, 'related': False},\n",
       " {'id': 3, 'related': False},\n",
       " {'id': 4, 'related': True},\n",
       " {'id': 5, 'related': True},\n",
       " {'id': 6, 'related': True},\n",
       " {'id': 7, 'related': False},\n",
       " {'id': 8, 'related': False},\n",
       " {'id': 9, 'related': True},\n",
       " {'id': 10, 'related': False},\n",
       " {'id': 11, 'related': False},\n",
       " {'id': 12, 'related': False},\n",
       " {'id': 13, 'related': True},\n",
       " {'id': 14, 'related': True},\n",
       " {'id': 15, 'related': False},\n",
       " {'id': 16, 'related': False},\n",
       " {'id': 17, 'related': True},\n",
       " {'id': 18, 'related': False},\n",
       " {'id': 19, 'related': False},\n",
       " {'id': 20, 'related': False},\n",
       " {'id': 21, 'related': False},\n",
       " {'id': 22, 'related': False},\n",
       " {'id': 23, 'related': False},\n",
       " {'id': 24, 'related': True},\n",
       " {'id': 25, 'related': False},\n",
       " {'id': 26, 'related': False},\n",
       " {'id': 27, 'related': False},\n",
       " {'id': 28, 'related': True},\n",
       " {'id': 29, 'related': True},\n",
       " {'id': 30, 'related': True},\n",
       " {'id': 31, 'related': False},\n",
       " {'id': 32, 'related': True},\n",
       " {'id': 33, 'related': True},\n",
       " {'id': 34, 'related': False},\n",
       " {'id': 35, 'related': False},\n",
       " {'id': 36, 'related': True},\n",
       " {'id': 37, 'related': True},\n",
       " {'id': 38, 'related': True},\n",
       " {'id': 39, 'related': False},\n",
       " {'id': 40, 'related': True},\n",
       " {'id': 41, 'related': False},\n",
       " {'id': 42, 'related': False},\n",
       " {'id': 43, 'related': False},\n",
       " {'id': 44, 'related': True},\n",
       " {'id': 45, 'related': True},\n",
       " {'id': 46, 'related': False},\n",
       " {'id': 47, 'related': False},\n",
       " {'id': 48, 'related': False},\n",
       " {'id': 49, 'related': False},\n",
       " {'id': 50, 'related': True},\n",
       " {'id': 51, 'related': False},\n",
       " {'id': 52, 'related': False},\n",
       " {'id': 53, 'related': False},\n",
       " {'id': 54, 'related': True},\n",
       " {'id': 55, 'related': True},\n",
       " {'id': 56, 'related': True},\n",
       " {'id': 57, 'related': True},\n",
       " {'id': 58, 'related': True},\n",
       " {'id': 59, 'related': False},\n",
       " {'id': 60, 'related': True},\n",
       " {'id': 61, 'related': True},\n",
       " {'id': 62, 'related': True},\n",
       " {'id': 63, 'related': True},\n",
       " {'id': 64, 'related': True},\n",
       " {'id': 65, 'related': True},\n",
       " {'id': 66, 'related': False},\n",
       " {'id': 67, 'related': False},\n",
       " {'id': 68, 'related': True},\n",
       " {'id': 69, 'related': False},\n",
       " {'id': 70, 'related': True},\n",
       " {'id': 71, 'related': True},\n",
       " {'id': 72, 'related': False},\n",
       " {'id': 73, 'related': False},\n",
       " {'id': 74, 'related': True},\n",
       " {'id': 75, 'related': True},\n",
       " {'id': 76, 'related': False},\n",
       " {'id': 77, 'related': True},\n",
       " {'id': 78, 'related': False},\n",
       " {'id': 79, 'related': True},\n",
       " {'id': 80, 'related': True},\n",
       " {'id': 81, 'related': True},\n",
       " {'id': 82, 'related': True},\n",
       " {'id': 83, 'related': True},\n",
       " {'id': 84, 'related': True},\n",
       " {'id': 85, 'related': True},\n",
       " {'id': 86, 'related': True},\n",
       " {'id': 87, 'related': True},\n",
       " {'id': 88, 'related': True},\n",
       " {'id': 89, 'related': True},\n",
       " {'id': 90, 'related': True},\n",
       " {'id': 91, 'related': True},\n",
       " {'id': 92, 'related': True},\n",
       " {'id': 93, 'related': True},\n",
       " {'id': 94, 'related': True},\n",
       " {'id': 95, 'related': True},\n",
       " {'id': 96, 'related': True},\n",
       " {'id': 97, 'related': True},\n",
       " {'id': 98, 'related': True},\n",
       " {'id': 99, 'related': True},\n",
       " {'id': 100, 'related': True},\n",
       " {'id': 101, 'related': True},\n",
       " {'id': 102, 'related': True},\n",
       " {'id': 103, 'related': True},\n",
       " {'id': 104, 'related': True},\n",
       " {'id': 105, 'related': False},\n",
       " {'id': 106, 'related': False},\n",
       " {'id': 107, 'related': False},\n",
       " {'id': 108, 'related': True},\n",
       " {'id': 109, 'related': True},\n",
       " {'id': 110, 'related': True},\n",
       " {'id': 111, 'related': False},\n",
       " {'id': 112, 'related': False},\n",
       " {'id': 113, 'related': False},\n",
       " {'id': 114, 'related': False},\n",
       " {'id': 115, 'related': False},\n",
       " {'id': 116, 'related': False},\n",
       " {'id': 117, 'related': False},\n",
       " {'id': 118, 'related': False},\n",
       " {'id': 119, 'related': False},\n",
       " {'id': 120, 'related': False},\n",
       " {'id': 121, 'related': False},\n",
       " {'id': 122, 'related': False},\n",
       " {'id': 123, 'related': False},\n",
       " {'id': 124, 'related': False},\n",
       " {'id': 125, 'related': False},\n",
       " {'id': 126, 'related': False},\n",
       " {'id': 127, 'related': False},\n",
       " {'id': 128, 'related': False},\n",
       " {'id': 129, 'related': False},\n",
       " {'id': 130, 'related': False},\n",
       " {'id': 131, 'related': False},\n",
       " {'id': 132, 'related': False},\n",
       " {'id': 133, 'related': False},\n",
       " {'id': 134, 'related': True},\n",
       " {'id': 135, 'related': False},\n",
       " {'id': 136, 'related': False},\n",
       " {'id': 137, 'related': False},\n",
       " {'id': 138, 'related': False},\n",
       " {'id': 139, 'related': False},\n",
       " {'id': 140, 'related': False},\n",
       " {'id': 141, 'related': False},\n",
       " {'id': 142, 'related': True},\n",
       " {'id': 143, 'related': True},\n",
       " {'id': 144, 'related': True},\n",
       " {'id': 145, 'related': True},\n",
       " {'id': 146, 'related': False},\n",
       " {'id': 147, 'related': False},\n",
       " {'id': 148, 'related': False},\n",
       " {'id': 149, 'related': True},\n",
       " {'id': 150, 'related': True},\n",
       " {'id': 151, 'related': True},\n",
       " {'id': 152, 'related': True},\n",
       " {'id': 153, 'related': True},\n",
       " {'id': 154, 'related': True},\n",
       " {'id': 155, 'related': True},\n",
       " {'id': 156, 'related': True},\n",
       " {'id': 157, 'related': True},\n",
       " {'id': 158, 'related': True},\n",
       " {'id': 159, 'related': True},\n",
       " {'id': 160, 'related': True},\n",
       " {'id': 161, 'related': True},\n",
       " {'id': 162, 'related': True},\n",
       " {'id': 163, 'related': True},\n",
       " {'id': 164, 'related': True},\n",
       " {'id': 165, 'related': True},\n",
       " {'id': 166, 'related': True},\n",
       " {'id': 167, 'related': True},\n",
       " {'id': 168, 'related': True},\n",
       " {'id': 169, 'related': True},\n",
       " {'id': 170, 'related': True},\n",
       " {'id': 171, 'related': True},\n",
       " {'id': 172, 'related': True},\n",
       " {'id': 173, 'related': True},\n",
       " {'id': 174, 'related': True},\n",
       " {'id': 175, 'related': True},\n",
       " {'id': 176, 'related': True},\n",
       " {'id': 177, 'related': True},\n",
       " {'id': 178, 'related': True},\n",
       " {'id': 179, 'related': False},\n",
       " {'id': 180, 'related': False},\n",
       " {'id': 181, 'related': False},\n",
       " {'id': 182, 'related': False},\n",
       " {'id': 183, 'related': False},\n",
       " {'id': 184, 'related': False},\n",
       " {'id': 185, 'related': False},\n",
       " {'id': 186, 'related': False},\n",
       " {'id': 187, 'related': False},\n",
       " {'id': 188, 'related': False},\n",
       " {'id': 189, 'related': False},\n",
       " {'id': 190, 'related': True},\n",
       " {'id': 191, 'related': False},\n",
       " {'id': 192, 'related': False},\n",
       " {'id': 193, 'related': False},\n",
       " {'id': 194, 'related': False},\n",
       " {'id': 195, 'related': False},\n",
       " {'id': 196, 'related': True},\n",
       " {'id': 197, 'related': False},\n",
       " {'id': 198, 'related': False},\n",
       " {'id': 199, 'related': False},\n",
       " {'id': 200, 'related': False},\n",
       " {'id': 201, 'related': False},\n",
       " {'id': 202, 'related': False},\n",
       " {'id': 203, 'related': False},\n",
       " {'id': 204, 'related': False},\n",
       " {'id': 205, 'related': False},\n",
       " {'id': 206, 'related': True},\n",
       " {'id': 207, 'related': True},\n",
       " {'id': 208, 'related': True},\n",
       " {'id': 209, 'related': True},\n",
       " {'id': 210, 'related': False},\n",
       " {'id': 211, 'related': True},\n",
       " {'id': 212, 'related': True},\n",
       " {'id': 213, 'related': True},\n",
       " {'id': 214, 'related': True},\n",
       " {'id': 215, 'related': True},\n",
       " {'id': 216, 'related': True},\n",
       " {'id': 217, 'related': True},\n",
       " {'id': 218, 'related': True},\n",
       " {'id': 219, 'related': False},\n",
       " {'id': 220, 'related': True},\n",
       " {'id': 221, 'related': True},\n",
       " {'id': 222, 'related': False},\n",
       " {'id': 223, 'related': False},\n",
       " {'id': 224, 'related': False},\n",
       " {'id': 225, 'related': False},\n",
       " {'id': 226, 'related': False},\n",
       " {'id': 227, 'related': True},\n",
       " {'id': 228, 'related': True},\n",
       " {'id': 229, 'related': True},\n",
       " {'id': 230, 'related': False},\n",
       " {'id': 231, 'related': True},\n",
       " {'id': 232, 'related': False},\n",
       " {'id': 233, 'related': True},\n",
       " {'id': 234, 'related': True},\n",
       " {'id': 235, 'related': True},\n",
       " {'id': 236, 'related': True},\n",
       " {'id': 237, 'related': True},\n",
       " {'id': 238, 'related': True},\n",
       " {'id': 239, 'related': True},\n",
       " {'id': 240, 'related': True},\n",
       " {'id': 241, 'related': False},\n",
       " {'id': 242, 'related': False},\n",
       " {'id': 243, 'related': True},\n",
       " {'id': 244, 'related': False},\n",
       " {'id': 245, 'related': False},\n",
       " {'id': 246, 'related': False},\n",
       " {'id': 247, 'related': True},\n",
       " {'id': 248, 'related': False},\n",
       " {'id': 249, 'related': False},\n",
       " {'id': 250, 'related': True},\n",
       " {'id': 251, 'related': False},\n",
       " {'id': 252, 'related': False},\n",
       " {'id': 253, 'related': True},\n",
       " {'id': 254, 'related': True},\n",
       " {'id': 255, 'related': True},\n",
       " {'id': 256, 'related': True},\n",
       " {'id': 257, 'related': True},\n",
       " {'id': 258, 'related': True},\n",
       " {'id': 259, 'related': True},\n",
       " {'id': 260, 'related': True},\n",
       " {'id': 261, 'related': True},\n",
       " {'id': 262, 'related': True},\n",
       " {'id': 263, 'related': True},\n",
       " {'id': 264, 'related': True},\n",
       " {'id': 265, 'related': True},\n",
       " {'id': 266, 'related': True},\n",
       " {'id': 267, 'related': True},\n",
       " {'id': 268, 'related': True},\n",
       " {'id': 269, 'related': True},\n",
       " {'id': 270, 'related': True},\n",
       " {'id': 271, 'related': True},\n",
       " {'id': 272, 'related': True},\n",
       " {'id': 273, 'related': True},\n",
       " {'id': 274, 'related': True},\n",
       " {'id': 275, 'related': True},\n",
       " {'id': 276, 'related': True},\n",
       " {'id': 277, 'related': True},\n",
       " {'id': 278, 'related': True},\n",
       " {'id': 279, 'related': True},\n",
       " {'id': 280, 'related': True},\n",
       " {'id': 281, 'related': True},\n",
       " {'id': 282, 'related': False},\n",
       " {'id': 283, 'related': False},\n",
       " {'id': 284, 'related': True},\n",
       " {'id': 285, 'related': True},\n",
       " {'id': 286, 'related': False},\n",
       " {'id': 287, 'related': True},\n",
       " {'id': 288, 'related': True},\n",
       " {'id': 289, 'related': False},\n",
       " {'id': 290, 'related': False},\n",
       " {'id': 291, 'related': True},\n",
       " {'id': 292, 'related': False},\n",
       " {'id': 293, 'related': True},\n",
       " {'id': 294, 'related': True},\n",
       " {'id': 295, 'related': False},\n",
       " {'id': 296, 'related': False},\n",
       " {'id': 297, 'related': False},\n",
       " {'id': 298, 'related': False},\n",
       " {'id': 299, 'related': False},\n",
       " {'id': 300, 'related': True},\n",
       " {'id': 301, 'related': True},\n",
       " {'id': 302, 'related': False},\n",
       " {'id': 303, 'related': False},\n",
       " {'id': 304, 'related': False},\n",
       " {'id': 305, 'related': False},\n",
       " {'id': 306, 'related': False},\n",
       " {'id': 307, 'related': False},\n",
       " {'id': 308, 'related': False},\n",
       " {'id': 309, 'related': False},\n",
       " {'id': 310, 'related': False},\n",
       " {'id': 311, 'related': False},\n",
       " {'id': 312, 'related': False},\n",
       " {'id': 313, 'related': False},\n",
       " {'id': 314, 'related': False},\n",
       " {'id': 315, 'related': False},\n",
       " {'id': 316, 'related': True},\n",
       " {'id': 317, 'related': False},\n",
       " {'id': 318, 'related': False},\n",
       " {'id': 319, 'related': True},\n",
       " {'id': 320, 'related': True},\n",
       " {'id': 321, 'related': False},\n",
       " {'id': 322, 'related': False},\n",
       " {'id': 323, 'related': True},\n",
       " {'id': 324, 'related': True},\n",
       " {'id': 325, 'related': True},\n",
       " {'id': 326, 'related': True},\n",
       " {'id': 327, 'related': False},\n",
       " {'id': 328, 'related': False},\n",
       " {'id': 329, 'related': False},\n",
       " {'id': 330, 'related': True},\n",
       " {'id': 331, 'related': True},\n",
       " {'id': 332, 'related': True},\n",
       " {'id': 333, 'related': True},\n",
       " {'id': 334, 'related': True},\n",
       " {'id': 335, 'related': True},\n",
       " {'id': 336, 'related': True},\n",
       " {'id': 337, 'related': True},\n",
       " {'id': 338, 'related': True},\n",
       " {'id': 339, 'related': True},\n",
       " {'id': 340, 'related': True},\n",
       " {'id': 341, 'related': False},\n",
       " {'id': 342, 'related': True},\n",
       " {'id': 343, 'related': False},\n",
       " {'id': 344, 'related': False},\n",
       " {'id': 345, 'related': False},\n",
       " {'id': 346, 'related': False},\n",
       " {'id': 347, 'related': False},\n",
       " {'id': 348, 'related': False},\n",
       " {'id': 349, 'related': True},\n",
       " {'id': 350, 'related': False},\n",
       " {'id': 351, 'related': False},\n",
       " {'id': 352, 'related': True},\n",
       " {'id': 353, 'related': True},\n",
       " {'id': 354, 'related': False},\n",
       " {'id': 355, 'related': False},\n",
       " {'id': 356, 'related': False},\n",
       " {'id': 357, 'related': True},\n",
       " {'id': 358, 'related': False},\n",
       " {'id': 359, 'related': False},\n",
       " {'id': 360, 'related': False},\n",
       " {'id': 361, 'related': False},\n",
       " {'id': 362, 'related': False},\n",
       " {'id': 363, 'related': False},\n",
       " {'id': 364, 'related': False},\n",
       " {'id': 365, 'related': False},\n",
       " {'id': 366, 'related': False},\n",
       " {'id': 367, 'related': False},\n",
       " {'id': 368, 'related': False},\n",
       " {'id': 369, 'related': False},\n",
       " {'id': 370, 'related': False},\n",
       " {'id': 371, 'related': False},\n",
       " {'id': 372, 'related': True},\n",
       " {'id': 373, 'related': True},\n",
       " {'id': 374, 'related': True},\n",
       " {'id': 375, 'related': False},\n",
       " {'id': 376, 'related': False},\n",
       " {'id': 377, 'related': True},\n",
       " {'id': 378, 'related': True},\n",
       " {'id': 379, 'related': True},\n",
       " {'id': 380, 'related': True},\n",
       " {'id': 381, 'related': True},\n",
       " {'id': 382, 'related': True},\n",
       " {'id': 383, 'related': True},\n",
       " {'id': 384, 'related': False},\n",
       " {'id': 385, 'related': False},\n",
       " {'id': 386, 'related': False},\n",
       " {'id': 387, 'related': False},\n",
       " {'id': 388, 'related': False},\n",
       " {'id': 389, 'related': False},\n",
       " {'id': 390, 'related': True},\n",
       " {'id': 391, 'related': False},\n",
       " {'id': 392, 'related': True},\n",
       " {'id': 393, 'related': True},\n",
       " {'id': 394, 'related': False},\n",
       " {'id': 395, 'related': True},\n",
       " {'id': 396, 'related': False},\n",
       " {'id': 397, 'related': False},\n",
       " {'id': 398, 'related': False},\n",
       " {'id': 399, 'related': False},\n",
       " {'id': 400, 'related': True},\n",
       " {'id': 401, 'related': True},\n",
       " {'id': 402, 'related': True},\n",
       " {'id': 403, 'related': False},\n",
       " {'id': 404, 'related': False},\n",
       " {'id': 405, 'related': True},\n",
       " {'id': 406, 'related': False},\n",
       " {'id': 407, 'related': False},\n",
       " {'id': 408, 'related': False},\n",
       " {'id': 409, 'related': False},\n",
       " {'id': 410, 'related': False},\n",
       " {'id': 411, 'related': False},\n",
       " {'id': 412, 'related': True},\n",
       " {'id': 413, 'related': True},\n",
       " {'id': 414, 'related': True},\n",
       " {'id': 415, 'related': False},\n",
       " {'id': 416, 'related': False},\n",
       " {'id': 417, 'related': False},\n",
       " {'id': 418, 'related': True},\n",
       " {'id': 419, 'related': True},\n",
       " {'id': 420, 'related': True},\n",
       " {'id': 421, 'related': True},\n",
       " {'id': 422, 'related': True},\n",
       " {'id': 423, 'related': False},\n",
       " {'id': 424, 'related': False},\n",
       " {'id': 425, 'related': True},\n",
       " {'id': 426, 'related': True},\n",
       " {'id': 427, 'related': False},\n",
       " {'id': 428, 'related': False},\n",
       " {'id': 429, 'related': False},\n",
       " {'id': 430, 'related': False},\n",
       " {'id': 431, 'related': True},\n",
       " {'id': 432, 'related': False},\n",
       " {'id': 433, 'related': True},\n",
       " {'id': 434, 'related': True},\n",
       " {'id': 435, 'related': True},\n",
       " {'id': 436, 'related': False},\n",
       " {'id': 437, 'related': True},\n",
       " {'id': 438, 'related': True},\n",
       " {'id': 439, 'related': False},\n",
       " {'id': 440, 'related': False}]"
      ]
     },
     "execution_count": 49,
     "metadata": {},
     "output_type": "execute_result"
    }
   ],
   "source": [
    "client = OpenAI()\n",
    "\n",
    "result = await process_pages(client, symbol, company, pages)\n",
    "\n",
    "result\n"
   ]
  },
  {
   "cell_type": "code",
   "execution_count": 50,
   "id": "937df9e1",
   "metadata": {},
   "outputs": [
    {
     "data": {
      "text/html": [
       "<div>\n",
       "<style scoped>\n",
       "    .dataframe tbody tr th:only-of-type {\n",
       "        vertical-align: middle;\n",
       "    }\n",
       "\n",
       "    .dataframe tbody tr th {\n",
       "        vertical-align: top;\n",
       "    }\n",
       "\n",
       "    .dataframe thead th {\n",
       "        text-align: right;\n",
       "    }\n",
       "</style>\n",
       "<table border=\"1\" class=\"dataframe\">\n",
       "  <thead>\n",
       "    <tr style=\"text-align: right;\">\n",
       "      <th></th>\n",
       "      <th>id</th>\n",
       "      <th>related</th>\n",
       "    </tr>\n",
       "  </thead>\n",
       "  <tbody>\n",
       "    <tr>\n",
       "      <th>0</th>\n",
       "      <td>0</td>\n",
       "      <td>False</td>\n",
       "    </tr>\n",
       "    <tr>\n",
       "      <th>1</th>\n",
       "      <td>1</td>\n",
       "      <td>True</td>\n",
       "    </tr>\n",
       "    <tr>\n",
       "      <th>2</th>\n",
       "      <td>2</td>\n",
       "      <td>False</td>\n",
       "    </tr>\n",
       "    <tr>\n",
       "      <th>3</th>\n",
       "      <td>3</td>\n",
       "      <td>False</td>\n",
       "    </tr>\n",
       "    <tr>\n",
       "      <th>4</th>\n",
       "      <td>4</td>\n",
       "      <td>True</td>\n",
       "    </tr>\n",
       "    <tr>\n",
       "      <th>...</th>\n",
       "      <td>...</td>\n",
       "      <td>...</td>\n",
       "    </tr>\n",
       "    <tr>\n",
       "      <th>436</th>\n",
       "      <td>436</td>\n",
       "      <td>False</td>\n",
       "    </tr>\n",
       "    <tr>\n",
       "      <th>437</th>\n",
       "      <td>437</td>\n",
       "      <td>True</td>\n",
       "    </tr>\n",
       "    <tr>\n",
       "      <th>438</th>\n",
       "      <td>438</td>\n",
       "      <td>True</td>\n",
       "    </tr>\n",
       "    <tr>\n",
       "      <th>439</th>\n",
       "      <td>439</td>\n",
       "      <td>False</td>\n",
       "    </tr>\n",
       "    <tr>\n",
       "      <th>440</th>\n",
       "      <td>440</td>\n",
       "      <td>False</td>\n",
       "    </tr>\n",
       "  </tbody>\n",
       "</table>\n",
       "<p>441 rows × 2 columns</p>\n",
       "</div>"
      ],
      "text/plain": [
       "      id  related\n",
       "0      0    False\n",
       "1      1     True\n",
       "2      2    False\n",
       "3      3    False\n",
       "4      4     True\n",
       "..   ...      ...\n",
       "436  436    False\n",
       "437  437     True\n",
       "438  438     True\n",
       "439  439    False\n",
       "440  440    False\n",
       "\n",
       "[441 rows x 2 columns]"
      ]
     },
     "execution_count": 50,
     "metadata": {},
     "output_type": "execute_result"
    }
   ],
   "source": [
    "relevance_df = pd.DataFrame(result)\n",
    "relevance_df\n"
   ]
  },
  {
   "cell_type": "code",
   "execution_count": 51,
   "id": "9802159e",
   "metadata": {},
   "outputs": [
    {
     "data": {
      "text/html": [
       "<div>\n",
       "<style scoped>\n",
       "    .dataframe tbody tr th:only-of-type {\n",
       "        vertical-align: middle;\n",
       "    }\n",
       "\n",
       "    .dataframe tbody tr th {\n",
       "        vertical-align: top;\n",
       "    }\n",
       "\n",
       "    .dataframe thead th {\n",
       "        text-align: right;\n",
       "    }\n",
       "</style>\n",
       "<table border=\"1\" class=\"dataframe\">\n",
       "  <thead>\n",
       "    <tr style=\"text-align: right;\">\n",
       "      <th></th>\n",
       "      <th>id</th>\n",
       "      <th>date</th>\n",
       "      <th>title</th>\n",
       "      <th>url</th>\n",
       "      <th>src</th>\n",
       "      <th>related</th>\n",
       "    </tr>\n",
       "  </thead>\n",
       "  <tbody>\n",
       "    <tr>\n",
       "      <th>0</th>\n",
       "      <td>0</td>\n",
       "      <td>2024-06-25 09:12:00+00:00</td>\n",
       "      <td>1 Supercharged Vanguard Index Fund to Buy Befo...</td>\n",
       "      <td>https://www.fool.com/investing/2024/06/25/1-in...</td>\n",
       "      <td>polygon</td>\n",
       "      <td>False</td>\n",
       "    </tr>\n",
       "    <tr>\n",
       "      <th>1</th>\n",
       "      <td>1</td>\n",
       "      <td>2024-06-20 13:50:44+00:00</td>\n",
       "      <td>1,084 Shares in Eli Lilly and Company (NYSE:LL...</td>\n",
       "      <td>https://www.etfdailynews.com/2024/06/20/1084-s...</td>\n",
       "      <td>NewsApi</td>\n",
       "      <td>True</td>\n",
       "    </tr>\n",
       "    <tr>\n",
       "      <th>2</th>\n",
       "      <td>2</td>\n",
       "      <td>2024-06-26 21:47:17.447733+00:00</td>\n",
       "      <td>10 Dividend Zombies and Kings with Longest Div...</td>\n",
       "      <td>https://www.insidermonkey.com/blog/10-dividend...</td>\n",
       "      <td>finviz</td>\n",
       "      <td>False</td>\n",
       "    </tr>\n",
       "    <tr>\n",
       "      <th>3</th>\n",
       "      <td>3</td>\n",
       "      <td>2024-06-25 12:39:00+00:00</td>\n",
       "      <td>10 Health Care Stocks Whale Activity In Today'...</td>\n",
       "      <td>https://finnhub.io/api/news?id=afdba26581f2107...</td>\n",
       "      <td>Finnhub</td>\n",
       "      <td>False</td>\n",
       "    </tr>\n",
       "    <tr>\n",
       "      <th>4</th>\n",
       "      <td>4</td>\n",
       "      <td>2024-06-24 20:11:10+00:00</td>\n",
       "      <td>11-K Form - Annual report of employee stock pu...</td>\n",
       "      <td>https://newsfilter.io/articles/11-k-form---ann...</td>\n",
       "      <td>NewsFilter</td>\n",
       "      <td>True</td>\n",
       "    </tr>\n",
       "    <tr>\n",
       "      <th>...</th>\n",
       "      <td>...</td>\n",
       "      <td>...</td>\n",
       "      <td>...</td>\n",
       "      <td>...</td>\n",
       "      <td>...</td>\n",
       "      <td>...</td>\n",
       "    </tr>\n",
       "    <tr>\n",
       "      <th>436</th>\n",
       "      <td>436</td>\n",
       "      <td>2024-06-26 21:47:17.240639+00:00</td>\n",
       "      <td>Windows on Arm finally has legs</td>\n",
       "      <td>https://news.google.com/articles/CBMibWh0dHBzO...</td>\n",
       "      <td>Google News</td>\n",
       "      <td>False</td>\n",
       "    </tr>\n",
       "    <tr>\n",
       "      <th>437</th>\n",
       "      <td>437</td>\n",
       "      <td>2024-06-21 11:56:49+00:00</td>\n",
       "      <td>Woodstock Corp Buys 31 Shares of Eli Lilly and...</td>\n",
       "      <td>https://www.etfdailynews.com/2024/06/21/woodst...</td>\n",
       "      <td>NewsApi</td>\n",
       "      <td>True</td>\n",
       "    </tr>\n",
       "    <tr>\n",
       "      <th>438</th>\n",
       "      <td>438</td>\n",
       "      <td>2024-06-26 14:55:01+00:00</td>\n",
       "      <td>Yahoo Video: Novo Nordisk, Eli Lilly still top...</td>\n",
       "      <td>https://finance.yahoo.com/news/yahoo-video-nov...</td>\n",
       "      <td>yfinance</td>\n",
       "      <td>True</td>\n",
       "    </tr>\n",
       "    <tr>\n",
       "      <th>439</th>\n",
       "      <td>439</td>\n",
       "      <td>2024-06-21 07:23:00+00:00</td>\n",
       "      <td>Zealand Pharma extends gains on early-stage da...</td>\n",
       "      <td>https://finnhub.io/api/news?id=758713cd82e1eff...</td>\n",
       "      <td>Finnhub</td>\n",
       "      <td>False</td>\n",
       "    </tr>\n",
       "    <tr>\n",
       "      <th>440</th>\n",
       "      <td>440</td>\n",
       "      <td>2024-06-24 13:05:06+00:00</td>\n",
       "      <td>Zealand Pharma: Weight Loss Drug Petrelintide ...</td>\n",
       "      <td>https://finnhub.io/api/news?id=11f25dd29285d02...</td>\n",
       "      <td>Finnhub</td>\n",
       "      <td>False</td>\n",
       "    </tr>\n",
       "  </tbody>\n",
       "</table>\n",
       "<p>441 rows × 6 columns</p>\n",
       "</div>"
      ],
      "text/plain": [
       "      id                             date  \\\n",
       "0      0        2024-06-25 09:12:00+00:00   \n",
       "1      1        2024-06-20 13:50:44+00:00   \n",
       "2      2 2024-06-26 21:47:17.447733+00:00   \n",
       "3      3        2024-06-25 12:39:00+00:00   \n",
       "4      4        2024-06-24 20:11:10+00:00   \n",
       "..   ...                              ...   \n",
       "436  436 2024-06-26 21:47:17.240639+00:00   \n",
       "437  437        2024-06-21 11:56:49+00:00   \n",
       "438  438        2024-06-26 14:55:01+00:00   \n",
       "439  439        2024-06-21 07:23:00+00:00   \n",
       "440  440        2024-06-24 13:05:06+00:00   \n",
       "\n",
       "                                                 title  \\\n",
       "0    1 Supercharged Vanguard Index Fund to Buy Befo...   \n",
       "1    1,084 Shares in Eli Lilly and Company (NYSE:LL...   \n",
       "2    10 Dividend Zombies and Kings with Longest Div...   \n",
       "3    10 Health Care Stocks Whale Activity In Today'...   \n",
       "4    11-K Form - Annual report of employee stock pu...   \n",
       "..                                                 ...   \n",
       "436                    Windows on Arm finally has legs   \n",
       "437  Woodstock Corp Buys 31 Shares of Eli Lilly and...   \n",
       "438  Yahoo Video: Novo Nordisk, Eli Lilly still top...   \n",
       "439  Zealand Pharma extends gains on early-stage da...   \n",
       "440  Zealand Pharma: Weight Loss Drug Petrelintide ...   \n",
       "\n",
       "                                                   url          src  related  \n",
       "0    https://www.fool.com/investing/2024/06/25/1-in...      polygon    False  \n",
       "1    https://www.etfdailynews.com/2024/06/20/1084-s...      NewsApi     True  \n",
       "2    https://www.insidermonkey.com/blog/10-dividend...       finviz    False  \n",
       "3    https://finnhub.io/api/news?id=afdba26581f2107...      Finnhub    False  \n",
       "4    https://newsfilter.io/articles/11-k-form---ann...   NewsFilter     True  \n",
       "..                                                 ...          ...      ...  \n",
       "436  https://news.google.com/articles/CBMibWh0dHBzO...  Google News    False  \n",
       "437  https://www.etfdailynews.com/2024/06/21/woodst...      NewsApi     True  \n",
       "438  https://finance.yahoo.com/news/yahoo-video-nov...     yfinance     True  \n",
       "439  https://finnhub.io/api/news?id=758713cd82e1eff...      Finnhub    False  \n",
       "440  https://finnhub.io/api/news?id=11f25dd29285d02...      Finnhub    False  \n",
       "\n",
       "[441 rows x 6 columns]"
      ]
     },
     "execution_count": 51,
     "metadata": {},
     "output_type": "execute_result"
    }
   ],
   "source": [
    "merged_df = pd.merge(news_df, relevance_df, on=\"id\", how=\"outer\")\n",
    "# merged_df['date'] = datetime.now().date()\n",
    "merged_df\n"
   ]
  },
  {
   "cell_type": "code",
   "execution_count": 52,
   "id": "c884c6d9",
   "metadata": {},
   "outputs": [
    {
     "data": {
      "text/markdown": [
       "[2024-06-20 13:50:44+00:00 1,084 Shares in Eli Lilly and Company (NYSE:LLY) Purchased by Emprise Bank](https://www.etfdailynews.com/2024/06/20/1084-shares-in-eli-lilly-and-company-nyselly-purchased-by-emprise-bank/)  "
      ],
      "text/plain": [
       "<IPython.core.display.Markdown object>"
      ]
     },
     "metadata": {},
     "output_type": "display_data"
    },
    {
     "data": {
      "text/markdown": [
       "[2024-06-24 20:11:10+00:00 11-K Form - Annual report of employee stock purchase, savings and similar plans - ELI LILLY & Co (0000059478) (Filer)](https://newsfilter.io/articles/11-k-form---annual-report-of-employee-stock-purchase-savings-and-similar-plans---eli-lilly--co-00000-d4fa1c9f1b4290e96de061cd7c6074a2)  "
      ],
      "text/plain": [
       "<IPython.core.display.Markdown object>"
      ]
     },
     "metadata": {},
     "output_type": "display_data"
    },
    {
     "data": {
      "text/markdown": [
       "[2024-06-20 18:43:03+00:00 144 Form - Report of proposed sale of securities - ELI LILLY & Co (0000059478) (Subject)](https://newsfilter.io/articles/144-form---report-of-proposed-sale-of-securities---eli-lilly--co-0000059478-subject-41d383bbabaad13873e30c52772707b2)  "
      ],
      "text/plain": [
       "<IPython.core.display.Markdown object>"
      ]
     },
     "metadata": {},
     "output_type": "display_data"
    },
    {
     "data": {
      "text/markdown": [
       "[2024-06-26 21:47:17.447705+00:00 2 Reasons Why Eli Lilly's Stock Likely Hasn't Peaked](https://finance.yahoo.com/m/8e0feebc-417b-31cb-92c5-d261799dfe3e/2-reasons-why-eli-lilly%27s.html)  "
      ],
      "text/plain": [
       "<IPython.core.display.Markdown object>"
      ]
     },
     "metadata": {},
     "output_type": "display_data"
    },
    {
     "data": {
      "text/markdown": [
       "[2024-06-26 21:47:17.240639+00:00 297 Shares in Eli Lilly and Company (NYSE:LLY) Bought by Conrad Siegel Investment Advisors Inc.](https://news.google.com/articles/CBMiiAFodHRwczovL3d3dy5kZWZlbnNld29ybGQubmV0LzIwMjQvMDYvMjIvMjk3LXNoYXJlcy1pbi1lbGktbGlsbHktYW5kLWNvbXBhbnktbnlzZWxseS1ib3VnaHQtYnktY29ucmFkLXNpZWdlbC1pbnZlc3RtZW50LWFkdmlzb3JzLWluYy5odG1s0gEA)  "
      ],
      "text/plain": [
       "<IPython.core.display.Markdown object>"
      ]
     },
     "metadata": {},
     "output_type": "display_data"
    },
    {
     "data": {
      "text/markdown": [
       "[2024-06-26 13:25:08+00:00 314 Shares in Eli Lilly and Company (NYSE:LLY) Acquired by Central Valley Advisors LLC](https://www.etfdailynews.com/2024/06/26/314-shares-in-eli-lilly-and-company-nyselly-acquired-by-central-valley-advisors-llc/)  "
      ],
      "text/plain": [
       "<IPython.core.display.Markdown object>"
      ]
     },
     "metadata": {},
     "output_type": "display_data"
    },
    {
     "data": {
      "text/markdown": [
       "[2024-06-26 20:00:05+00:00 4 Form - Statement of changes in beneficial ownership of securities - ELI LILLY & Co (0000059478) (Issuer)](https://newsfilter.io/articles/4-form---statement-of-changes-in-beneficial-ownership-of-securities---eli-lilly--co-0000059478-issue-845aa6c69fa0bcc34f13c0f24a2caefc)  "
      ],
      "text/plain": [
       "<IPython.core.display.Markdown object>"
      ]
     },
     "metadata": {},
     "output_type": "display_data"
    },
    {
     "data": {
      "text/markdown": [
       "[2024-06-26 21:47:17.240639+00:00 A 'Heads Up' on Eli Lilly as the Stock Continues to Climb](https://news.google.com/articles/CBMiXWh0dHBzOi8vcHJvLnRoZXN0cmVldC5jb20vdHJhZGUtaWRlYXMvYS1oZWFkcy11cC1vbi1lbGktbGlsbHktYXMtdGhlLXN0b2NrLWNvbnRpbnVlcy10by1jbGltYtIBAA)  "
      ],
      "text/plain": [
       "<IPython.core.display.Markdown object>"
      ]
     },
     "metadata": {},
     "output_type": "display_data"
    },
    {
     "data": {
      "text/markdown": [
       "[2024-06-24 19:12:41+00:00 Abacus Planning Group Inc. Cuts Holdings in Eli Lilly and Company (NYSE:LLY)](https://www.etfdailynews.com/2024/06/24/abacus-planning-group-inc-cuts-holdings-in-eli-lilly-and-company-nyselly/)  "
      ],
      "text/plain": [
       "<IPython.core.display.Markdown object>"
      ]
     },
     "metadata": {},
     "output_type": "display_data"
    },
    {
     "data": {
      "text/markdown": [
       "[2024-06-25 13:04:41+00:00 AdvisorNet Financial Inc Lowers Stock Position in Eli Lilly and Company (NYSE:LLY)](https://www.etfdailynews.com/2024/06/25/advisornet-financial-inc-lowers-stock-position-in-eli-lilly-and-company-nyselly/)  "
      ],
      "text/plain": [
       "<IPython.core.display.Markdown object>"
      ]
     },
     "metadata": {},
     "output_type": "display_data"
    },
    {
     "data": {
      "text/markdown": [
       "[2024-06-26 21:47:17.240639+00:00 After Earnings, Is Eli Lilly Stock a Buy, a Sell, or Fairly Valued?](https://news.google.com/articles/CBMiYGh0dHBzOi8vd3d3Lm1vcm5pbmdzdGFyLmNvbS9zdG9ja3MvYWZ0ZXItZWFybmluZ3MtaXMtZWxpLWxpbGx5LXN0b2NrLWJ1eS1zZWxsLW9yLWZhaXJseS12YWx1ZWQtMtIBAA)  "
      ],
      "text/plain": [
       "<IPython.core.display.Markdown object>"
      ]
     },
     "metadata": {},
     "output_type": "display_data"
    },
    {
     "data": {
      "text/markdown": [
       "[2024-06-21 11:56:49+00:00 Alaska Permanent Fund Corp Has $14.08 Million Stake in Eli Lilly and Company (NYSE:LLY)](https://www.etfdailynews.com/2024/06/21/alaska-permanent-fund-corp-has-14-08-million-stake-in-eli-lilly-and-company-nyselly/)  "
      ],
      "text/plain": [
       "<IPython.core.display.Markdown object>"
      ]
     },
     "metadata": {},
     "output_type": "display_data"
    },
    {
     "data": {
      "text/markdown": [
       "[2024-06-23 16:50:42+00:00 Allied Investment Advisors LLC Takes $209,000 Position in Eli Lilly and Company (NYSE:LLY)](https://www.etfdailynews.com/2024/06/23/allied-investment-advisors-llc-takes-209000-position-in-eli-lilly-and-company-nyselly/)  "
      ],
      "text/plain": [
       "<IPython.core.display.Markdown object>"
      ]
     },
     "metadata": {},
     "output_type": "display_data"
    },
    {
     "data": {
      "text/markdown": [
       "[2024-06-26 21:47:17.240639+00:00 Allied Investment Advisors LLC Takes Position in Eli Lilly and Company (NYSE:LLY)](https://news.google.com/articles/CBMie2h0dHBzOi8vd3d3LmRlZmVuc2V3b3JsZC5uZXQvMjAyNC8wNi8yMy9hbGxpZWQtaW52ZXN0bWVudC1hZHZpc29ycy1sbGMtdGFrZXMtcG9zaXRpb24taW4tZWxpLWxpbGx5LWFuZC1jb21wYW55LW55c2VsbHkuaHRtbNIBAA)  "
      ],
      "text/plain": [
       "<IPython.core.display.Markdown object>"
      ]
     },
     "metadata": {},
     "output_type": "display_data"
    },
    {
     "data": {
      "text/markdown": [
       "[2024-06-22 09:01:00+00:00 Analysts Are Bullish on Top Healthcare Stocks: Vertex Pharmaceuticals (VRTX), Eli Lilly & Co (LLY)](https://finnhub.io/api/news?id=2d8e998d25b2946f3cd3baeea3470d94387f4c7d1dbef41d7bb32fe5767c6e18)  "
      ],
      "text/plain": [
       "<IPython.core.display.Markdown object>"
      ]
     },
     "metadata": {},
     "output_type": "display_data"
    },
    {
     "data": {
      "text/markdown": [
       "[2024-06-22 08:51:00+00:00 Analysts Offer Insights on Healthcare Companies: Eli Lilly & Co (LLY) and Vertex Pharmaceuticals (VRTX)](https://finnhub.io/api/news?id=62eaa9dd141109d13403660807df1db83cfb5f4f381e05a1b92c6b73672ce7cb)  "
      ],
      "text/plain": [
       "<IPython.core.display.Markdown object>"
      ]
     },
     "metadata": {},
     "output_type": "display_data"
    },
    {
     "data": {
      "text/markdown": [
       "[2024-06-24 19:46:41+00:00 Anderson Hoagland & Co. Has $17.39 Million Stock Position in Eli Lilly and Company (NYSE:LLY)](https://www.etfdailynews.com/2024/06/24/anderson-hoagland-co-has-17-39-million-stock-position-in-eli-lilly-and-company-nyselly/)  "
      ],
      "text/plain": [
       "<IPython.core.display.Markdown object>"
      ]
     },
     "metadata": {},
     "output_type": "display_data"
    },
    {
     "data": {
      "text/markdown": [
       "[2024-06-22 17:20:45+00:00 Aprio Wealth Management LLC Purchases 378 Shares of Eli Lilly and Company (NYSE:LLY)](https://www.etfdailynews.com/2024/06/22/aprio-wealth-management-llc-purchases-378-shares-of-eli-lilly-and-company-nyselly/)  "
      ],
      "text/plain": [
       "<IPython.core.display.Markdown object>"
      ]
     },
     "metadata": {},
     "output_type": "display_data"
    },
    {
     "data": {
      "text/markdown": [
       "[2024-06-26 21:47:17.240639+00:00 Bangor Savings Bank Sells 47 Shares of Eli Lilly and Company (NYSE:LLY)](https://news.google.com/articles/CBMicWh0dHBzOi8vd3d3LmRlZmVuc2V3b3JsZC5uZXQvMjAyNC8wNi8yNC9iYW5nb3Itc2F2aW5ncy1iYW5rLXNlbGxzLTQ3LXNoYXJlcy1vZi1lbGktbGlsbHktYW5kLWNvbXBhbnktbnlzZWxseS5odG1s0gEA)  "
      ],
      "text/plain": [
       "<IPython.core.display.Markdown object>"
      ]
     },
     "metadata": {},
     "output_type": "display_data"
    },
    {
     "data": {
      "text/markdown": [
       "[2024-06-22 10:30:41+00:00 Banque Cantonale Vaudoise Buys 2,383 Shares of Eli Lilly and Company (NYSE:LLY)](https://www.etfdailynews.com/2024/06/22/banque-cantonale-vaudoise-buys-2383-shares-of-eli-lilly-and-company-nyselly/)  "
      ],
      "text/plain": [
       "<IPython.core.display.Markdown object>"
      ]
     },
     "metadata": {},
     "output_type": "display_data"
    },
    {
     "data": {
      "text/markdown": [
       "[2024-06-24 09:13:00+00:00 BofA says OSA resolution magnitude of tirzepatide not baked into Lilly shares](https://finnhub.io/api/news?id=575b4944c1fa15f810b6d9d49f6618c9e5155870f09269c4842a16edee526dbd)  "
      ],
      "text/plain": [
       "<IPython.core.display.Markdown object>"
      ]
     },
     "metadata": {},
     "output_type": "display_data"
    },
    {
     "data": {
      "text/markdown": [
       "[2024-06-24 17:22:42+00:00 Bridge Creek Capital Management LLC Reduces Position in Eli Lilly and Company (NYSE:LLY)](https://www.etfdailynews.com/2024/06/24/bridge-creek-capital-management-llc-reduces-position-in-eli-lilly-and-company-nyselly/)  "
      ],
      "text/plain": [
       "<IPython.core.display.Markdown object>"
      ]
     },
     "metadata": {},
     "output_type": "display_data"
    },
    {
     "data": {
      "text/markdown": [
       "[2024-06-26 21:47:17.240639+00:00 Bridge Creek Capital Management LLC Sells 125 Shares of Eli Lilly and Company (NYSE:LLY)](https://news.google.com/articles/CBMiggFodHRwczovL3d3dy5kZWZlbnNld29ybGQubmV0LzIwMjQvMDYvMjQvYnJpZGdlLWNyZWVrLWNhcGl0YWwtbWFuYWdlbWVudC1sbGMtc2VsbHMtMTI1LXNoYXJlcy1vZi1lbGktbGlsbHktYW5kLWNvbXBhbnktbnlzZWxseS5odG1s0gEA)  "
      ],
      "text/plain": [
       "<IPython.core.display.Markdown object>"
      ]
     },
     "metadata": {},
     "output_type": "display_data"
    },
    {
     "data": {
      "text/markdown": [
       "[2024-06-26 21:47:17.447748+00:00 Broadcom Is on Track to Edge Past Eli Lillys Market Value. AI Is Helping It Do So.](https://finance.yahoo.com/m/02610377-0198-3d01-a705-78cc58935fcb/broadcom-is-on-track-to-edge.html)  "
      ],
      "text/plain": [
       "<IPython.core.display.Markdown object>"
      ]
     },
     "metadata": {},
     "output_type": "display_data"
    },
    {
     "data": {
      "text/markdown": [
       "[2024-06-26 21:47:17.447733+00:00 Broadcom, Eli Lilly and Trump Media rise premarket; Under Armour falls](https://finance.yahoo.com/news/broadcom-eli-lilly-trump-media-072221862.html)  "
      ],
      "text/plain": [
       "<IPython.core.display.Markdown object>"
      ]
     },
     "metadata": {},
     "output_type": "display_data"
    },
    {
     "data": {
      "text/markdown": [
       "[2024-06-24 05:19:00+00:00 Buy Rating Affirmed for Eli Lilly on Tirzepatide’s Promise in OSA and Obesity Treatment](https://finnhub.io/api/news?id=08ad3250cb47156a757ca2fd79596823864cc252335a488bf2fe03c8773f8915)  "
      ],
      "text/plain": [
       "<IPython.core.display.Markdown object>"
      ]
     },
     "metadata": {},
     "output_type": "display_data"
    },
    {
     "data": {
      "text/markdown": [
       "[2024-06-26 21:47:17.240639+00:00 CHICAGO TRUST Co NA Has $4.84 Million Stake in Eli Lilly and Company (NYSE:LLY)](https://news.google.com/articles/CBMieGh0dHBzOi8vd3d3LmRlZmVuc2V3b3JsZC5uZXQvMjAyNC8wNi8yNS9jaGljYWdvLXRydXN0LWNvLW5hLWhhcy00LTg0LW1pbGxpb24tc3Rha2UtaW4tZWxpLWxpbGx5LWFuZC1jb21wYW55LW55c2VsbHkuaHRtbNIBAA)  "
      ],
      "text/plain": [
       "<IPython.core.display.Markdown object>"
      ]
     },
     "metadata": {},
     "output_type": "display_data"
    },
    {
     "data": {
      "text/markdown": [
       "[2024-06-26 21:47:17.240639+00:00 CHURCHILL MANAGEMENT Corp Purchases New Shares in Eli Lilly and Company (NYSE:LLY)](https://news.google.com/articles/CBMifGh0dHBzOi8vd3d3LmRlZmVuc2V3b3JsZC5uZXQvMjAyNC8wNi8yMy9jaHVyY2hpbGwtbWFuYWdlbWVudC1jb3JwLXB1cmNoYXNlcy1uZXctc2hhcmVzLWluLWVsaS1saWxseS1hbmQtY29tcGFueS1ueXNlbGx5Lmh0bWzSAQA)  "
      ],
      "text/plain": [
       "<IPython.core.display.Markdown object>"
      ]
     },
     "metadata": {},
     "output_type": "display_data"
    },
    {
     "data": {
      "text/markdown": [
       "[2024-06-23 12:22:43+00:00 Cardano Risk Management B.V. Acquires 199 Shares of Eli Lilly and Company (NYSE:LLY)](https://www.etfdailynews.com/2024/06/23/cardano-risk-management-b-v-acquires-199-shares-of-eli-lilly-and-company-nyselly/)  "
      ],
      "text/plain": [
       "<IPython.core.display.Markdown object>"
      ]
     },
     "metadata": {},
     "output_type": "display_data"
    },
    {
     "data": {
      "text/markdown": [
       "[2024-06-26 21:47:17.240639+00:00 Central Valley Advisors LLC Buys Shares of 314 Eli Lilly and Company (NYSE:LLY)](https://news.google.com/articles/CBMieWh0dHBzOi8vd3d3LmRlZmVuc2V3b3JsZC5uZXQvMjAyNC8wNi8yNi9jZW50cmFsLXZhbGxleS1hZHZpc29ycy1sbGMtYnV5cy1zaGFyZXMtb2YtMzE0LWVsaS1saWxseS1hbmQtY29tcGFueS1ueXNlbGx5Lmh0bWzSAQA)  "
      ],
      "text/plain": [
       "<IPython.core.display.Markdown object>"
      ]
     },
     "metadata": {},
     "output_type": "display_data"
    },
    {
     "data": {
      "text/markdown": [
       "[2024-06-26 07:32:00+00:00 Chart Of The Day: Eli Lilly - More New Highs](https://finnhub.io/api/news?id=8b8511f7bc94b678c83bec4448b1fe4c15bbaa2d1cfbe241ef446d91eceb8f2a)  "
      ],
      "text/plain": [
       "<IPython.core.display.Markdown object>"
      ]
     },
     "metadata": {},
     "output_type": "display_data"
    },
    {
     "data": {
      "text/markdown": [
       "[2024-06-26 21:47:17.240639+00:00 Chart of the Day: Eli Lilly - More New Highs](https://news.google.com/articles/CBMiZGh0dHBzOi8vd3d3LnRyYWRpbmd2aWV3LmNvbS9uZXdzL2JhcmNoYXJ0OmFlOGFkYWE0ZTA5NGI6MC1jaGFydC1vZi10aGUtZGF5LWVsaS1saWxseS1tb3JlLW5ldy1oaWdocy_SAQA)  "
      ],
      "text/plain": [
       "<IPython.core.display.Markdown object>"
      ]
     },
     "metadata": {},
     "output_type": "display_data"
    },
    {
     "data": {
      "text/markdown": [
       "[2024-06-24 12:10:48+00:00 City State Bank Sells 203 Shares of Eli Lilly and Company (NYSE:LLY)](https://www.etfdailynews.com/2024/06/24/city-state-bank-sells-203-shares-of-eli-lilly-and-company-nyselly/)  "
      ],
      "text/plain": [
       "<IPython.core.display.Markdown object>"
      ]
     },
     "metadata": {},
     "output_type": "display_data"
    },
    {
     "data": {
      "text/markdown": [
       "[2024-06-20 17:48:47+00:00 Compass Wealth Management LLC Sells 420 Shares of Eli Lilly and Company (NYSE:LLY)](https://www.etfdailynews.com/2024/06/20/compass-wealth-management-llc-sells-420-shares-of-eli-lilly-and-company-nyselly/)  "
      ],
      "text/plain": [
       "<IPython.core.display.Markdown object>"
      ]
     },
     "metadata": {},
     "output_type": "display_data"
    },
    {
     "data": {
      "text/markdown": [
       "[2024-06-26 21:47:17.240639+00:00 Cooper Financial Group Buys 211 Shares of Eli Lilly and Company (NYSE:LLY)](https://news.google.com/articles/CBMidGh0dHBzOi8vd3d3LmRlZmVuc2V3b3JsZC5uZXQvMjAyNC8wNi8yNC9jb29wZXItZmluYW5jaWFsLWdyb3VwLWJ1eXMtMjExLXNoYXJlcy1vZi1lbGktbGlsbHktYW5kLWNvbXBhbnktbnlzZWxseS5odG1s0gEA)  "
      ],
      "text/plain": [
       "<IPython.core.display.Markdown object>"
      ]
     },
     "metadata": {},
     "output_type": "display_data"
    },
    {
     "data": {
      "text/markdown": [
       "[2024-06-21 15:28:42+00:00 Curbstone Financial Management Corp Trims Stake in Eli Lilly and Company (NYSE:LLY)](https://www.etfdailynews.com/2024/06/21/curbstone-financial-management-corp-trims-stake-in-eli-lilly-and-company-nyselly/)  "
      ],
      "text/plain": [
       "<IPython.core.display.Markdown object>"
      ]
     },
     "metadata": {},
     "output_type": "display_data"
    },
    {
     "data": {
      "text/markdown": [
       "[2024-06-26 21:47:17.447733+00:00 Did Eli Lilly and Company (LLY) Achieve Its 10th Consecutive Year of Dividend Growth?](https://www.insidermonkey.com/blog/did-eli-lilly-and-company-lly-achieve-its-10th-consecutive-year-of-dividend-growth-1316939/)  "
      ],
      "text/plain": [
       "<IPython.core.display.Markdown object>"
      ]
     },
     "metadata": {},
     "output_type": "display_data"
    },
    {
     "data": {
      "text/markdown": [
       "[2024-06-26 21:47:17.240639+00:00 Douglas Lane & Associates LLC Sells 322 Shares of Eli Lilly and Company (NYSE:LLY)](https://news.google.com/articles/CBMiemh0dHBzOi8vd3d3LmRlZmVuc2V3b3JsZC5uZXQvMjAyNC8wNi8yNC9kb3VnbGFzLWxhbmUtYXNzb2NpYXRlcy1sbGMtc2VsbHMtMzIyLXNoYXJlcy1vZi1lbGktbGlsbHktYW5kLWNvbXBhbnktbnlzZWxseS5odG1s0gEA)  "
      ],
      "text/plain": [
       "<IPython.core.display.Markdown object>"
      ]
     },
     "metadata": {},
     "output_type": "display_data"
    },
    {
     "data": {
      "text/markdown": [
       "[2024-06-26 21:47:17.240639+00:00 Dynamic Advisor Solutions LLC Boosts Holdings in Eli Lilly and Company (NYSE:LLY)](https://news.google.com/articles/CBMie2h0dHBzOi8vd3d3LmRlZmVuc2V3b3JsZC5uZXQvMjAyNC8wNi8yNi9keW5hbWljLWFkdmlzb3Itc29sdXRpb25zLWxsYy1ib29zdHMtaG9sZGluZ3MtaW4tZWxpLWxpbGx5LWFuZC1jb21wYW55LW55c2VsbHkuaHRtbNIBAA)  "
      ],
      "text/plain": [
       "<IPython.core.display.Markdown object>"
      ]
     },
     "metadata": {},
     "output_type": "display_data"
    },
    {
     "data": {
      "text/markdown": [
       "[2024-06-20 21:45:19+00:00 Eli Lilly  ( LLY )  Registers a Bigger Fall Than the Market: Important Facts to Note](https://www.zacks.com/stock/news/2291076/eli-lilly-lly-registers-a-bigger-fall-than-the-market-important-facts-to-note)  "
      ],
      "text/plain": [
       "<IPython.core.display.Markdown object>"
      ]
     },
     "metadata": {},
     "output_type": "display_data"
    },
    {
     "data": {
      "text/markdown": [
       "[2024-06-26 21:45:21+00:00 Eli Lilly  ( LLY )  Stock Drops Despite Market Gains: Important Facts to Note](https://www.zacks.com/stock/news/2293935/eli-lilly-lly-stock-drops-despite-market-gains-important-facts-to-note)  "
      ],
      "text/plain": [
       "<IPython.core.display.Markdown object>"
      ]
     },
     "metadata": {},
     "output_type": "display_data"
    },
    {
     "data": {
      "text/markdown": [
       "[2024-06-24 07:26:00+00:00 Eli Lilly & Co (LLY) Gets a Buy from Cantor Fitzgerald](https://finnhub.io/api/news?id=0065685a1ff1370114b865e4222beb8fbc9574c24ff03c4a3925c43e656075ba)  "
      ],
      "text/plain": [
       "<IPython.core.display.Markdown object>"
      ]
     },
     "metadata": {},
     "output_type": "display_data"
    },
    {
     "data": {
      "text/markdown": [
       "[2024-06-24 06:56:00+00:00 Eli Lilly & Co (LLY) Receives a Buy from Jefferies](https://finnhub.io/api/news?id=b4afb3590db71a0b9282f5888a3adc94db812b1ece693f4e83581d8eec9d84e3)  "
      ],
      "text/plain": [
       "<IPython.core.display.Markdown object>"
      ]
     },
     "metadata": {},
     "output_type": "display_data"
    },
    {
     "data": {
      "text/markdown": [
       "[2024-06-26 21:47:17.240639+00:00 Eli Lilly & Co. (LLY) Declares $1.30 Quarterly Dividend; 0.6% Yield](https://news.google.com/articles/CBMihQFodHRwczovL3d3dy5zdHJlZXRpbnNpZGVyLmNvbS9EaXZpZGVuZHMvRWxpK0xpbGx5KyUyNitDby4rJTI4TExZJTI5K0RlY2xhcmVzKyUyNDEuMzArUXVhcnRlcmx5K0RpdmlkZW5kJTNCKzAuNiUyNStZaWVsZC8yMzM4ODY1My5odG1s0gEA)  "
      ],
      "text/plain": [
       "<IPython.core.display.Markdown object>"
      ]
     },
     "metadata": {},
     "output_type": "display_data"
    },
    {
     "data": {
      "text/markdown": [
       "[2024-06-26 21:47:17.447739+00:00 Eli Lilly (LLY) Registers a Bigger Fall Than the Market: Important Facts to Note](https://www.zacks.com/stock/news/2291076/eli-lilly-lly-registers-a-bigger-fall-than-the-market-important-facts-to-note)  "
      ],
      "text/plain": [
       "<IPython.core.display.Markdown object>"
      ]
     },
     "metadata": {},
     "output_type": "display_data"
    },
    {
     "data": {
      "text/markdown": [
       "[2024-06-26 21:47:17.447700+00:00 Eli Lilly (LLY) Stock Drops Despite Market Gains: Important Facts to Note](https://www.zacks.com/stock/news/2293935/eli-lilly-lly-stock-drops-despite-market-gains-important-facts-to-note)  "
      ],
      "text/plain": [
       "<IPython.core.display.Markdown object>"
      ]
     },
     "metadata": {},
     "output_type": "display_data"
    },
    {
     "data": {
      "text/markdown": [
       "[2024-06-25 05:21:00+00:00 Eli Lilly (NYSE:LLY) Gains after Announcing OpenAI Partnership](https://finnhub.io/api/news?id=0f3299e8ae27a2329bc65ebf4a4ef41c9b7c3af58f4591616feca758ceb5c31b)  "
      ],
      "text/plain": [
       "<IPython.core.display.Markdown object>"
      ]
     },
     "metadata": {},
     "output_type": "display_data"
    },
    {
     "data": {
      "text/markdown": [
       "[2024-06-26 21:47:17.240639+00:00 Eli Lilly (NYSE:LLY) Gains after Announcing OpenAI Partnership - TipRanks.com](https://news.google.com/articles/CBMiWWh0dHBzOi8vd3d3LnRpcHJhbmtzLmNvbS9uZXdzL2VsaS1saWxseS1ueXNlbGx5LWdhaW5zLWFmdGVyLWFubm91bmNpbmctb3BlbmFpLXBhcnRuZXJzaGlw0gEA)  "
      ],
      "text/plain": [
       "<IPython.core.display.Markdown object>"
      ]
     },
     "metadata": {},
     "output_type": "display_data"
    },
    {
     "data": {
      "text/markdown": [
       "[2024-06-20 12:05:00+00:00 Eli Lilly (NYSE:LLY) Notches Up on Pursuit of Bogus Mounjaro](https://finnhub.io/api/news?id=1a3f8103d6e728ff2e1ca317c733e10b17b2e4edf1da53d0f03e4702cd1b1acc)  "
      ],
      "text/plain": [
       "<IPython.core.display.Markdown object>"
      ]
     },
     "metadata": {},
     "output_type": "display_data"
    },
    {
     "data": {
      "text/markdown": [
       "[2024-06-26 21:47:17.240639+00:00 Eli Lilly (NYSE:LLY) Notches Up on Pursuit of Bogus Mounjaro - TipRanks.com](https://news.google.com/articles/CBMiV2h0dHBzOi8vd3d3LnRpcHJhbmtzLmNvbS9uZXdzL2VsaS1saWxseS1ueXNlbGx5LW5vdGNoZXMtdXAtb24tcHVyc3VpdC1vZi1ib2d1cy1tb3VuamFyb9IBAA)  "
      ],
      "text/plain": [
       "<IPython.core.display.Markdown object>"
      ]
     },
     "metadata": {},
     "output_type": "display_data"
    },
    {
     "data": {
      "text/markdown": [
       "[2024-06-26 21:47:17.240639+00:00 Eli Lilly And Company (LLY) Partners With OpenAI To Create “Novel Antimicrobials” For Drug-Resistant Pathogens](https://news.google.com/articles/CBMigAFodHRwczovL3djY2Z0ZWNoLmNvbS9lbGktbGlsbHktYW5kLWNvbXBhbnktbGx5LXBhcnRuZXJzLXdpdGgtb3BlbmFpLXRvLWNyZWF0ZS1ub3ZlbC1hbnRpbWljcm9iaWFscy1mb3ItZHJ1Zy1yZXNpc3RhbnQtcGF0aG9nZW5zL9IBhAFodHRwczovL3djY2Z0ZWNoLmNvbS9lbGktbGlsbHktYW5kLWNvbXBhbnktbGx5LXBhcnRuZXJzLXdpdGgtb3BlbmFpLXRvLWNyZWF0ZS1ub3ZlbC1hbnRpbWljcm9iaWFscy1mb3ItZHJ1Zy1yZXNpc3RhbnQtcGF0aG9nZW5zL2FtcC8)  "
      ],
      "text/plain": [
       "<IPython.core.display.Markdown object>"
      ]
     },
     "metadata": {},
     "output_type": "display_data"
    },
    {
     "data": {
      "text/markdown": [
       "[2024-06-20 06:45:00+00:00 Eli Lilly Expands Fight Against Counterfeit Obesity Drug Zepbound With New Legal Actions](https://finnhub.io/api/news?id=be9df28e5f129fde6a561249946b91fc24b38a8726729b79ea04f1e45aef3cce)  "
      ],
      "text/plain": [
       "<IPython.core.display.Markdown object>"
      ]
     },
     "metadata": {},
     "output_type": "display_data"
    },
    {
     "data": {
      "text/markdown": [
       "[2024-06-20 11:44:10+00:00 Eli Lilly Expands Fight Against Counterfeit Obesity Drug Zepbound With New Legal Actions - Novo Nordisk  ( NYSE:NVO ) , Eli Lilly and Co  ( NYSE:LLY ) ](https://www.benzinga.com/markets/equities/24/06/39408786/eli-lilly-expands-fight-against-counterfeit-obesity-drug-zepbound-with-new-legal-actions)  "
      ],
      "text/plain": [
       "<IPython.core.display.Markdown object>"
      ]
     },
     "metadata": {},
     "output_type": "display_data"
    },
    {
     "data": {
      "text/markdown": [
       "[2024-06-26 21:47:17.447742+00:00 Eli Lilly Files More Lawsuits at Sellers of Counterfeit Mounjaro, Zepbound](https://finance.yahoo.com/m/8c6db41e-4b44-3b02-a7e3-8c005198e349/eli-lilly-files-more-lawsuits.html)  "
      ],
      "text/plain": [
       "<IPython.core.display.Markdown object>"
      ]
     },
     "metadata": {},
     "output_type": "display_data"
    },
    {
     "data": {
      "text/markdown": [
       "[2024-06-26 21:47:17.447740+00:00 Eli Lilly Has a New Drug That Could Push the Stock Higher](https://finance.yahoo.com/m/39ffd5e9-b63c-33c3-92c2-4a8e7addabb9/eli-lilly-has-a-new-drug-that.html)  "
      ],
      "text/plain": [
       "<IPython.core.display.Markdown object>"
      ]
     },
     "metadata": {},
     "output_type": "display_data"
    },
    {
     "data": {
      "text/markdown": [
       "[2024-06-26 21:47:17.447750+00:00 Eli Lilly Scores Another Major Win and Lines Up Its Next Blockbuster](https://finance.yahoo.com/m/5c9b9df2-f1a4-3c97-871c-f77e202bf707/eli-lilly-scores-another.html)  "
      ],
      "text/plain": [
       "<IPython.core.display.Markdown object>"
      ]
     },
     "metadata": {},
     "output_type": "display_data"
    },
    {
     "data": {
      "text/markdown": [
       "[2024-06-26 21:47:17.240639+00:00 Eli Lilly Stock Analysis: Buy, Hold, or Sell?](https://news.google.com/articles/CBMiSWh0dHBzOi8vd3d3Lm5hc2RhcS5jb20vYXJ0aWNsZXMvZWxpLWxpbGx5LXN0b2NrLWFuYWx5c2lzLWJ1eS1ob2xkLW9yLXNlbGzSAQA)  "
      ],
      "text/plain": [
       "<IPython.core.display.Markdown object>"
      ]
     },
     "metadata": {},
     "output_type": "display_data"
    },
    {
     "data": {
      "text/markdown": [
       "[2024-06-26 21:47:17.240639+00:00 Eli Lilly Stock At Yet-Another All-Time High. Check Out New Names Added To IBD Best Stocks Lists](https://news.google.com/articles/CBMigwFodHRwczovL3d3dy5pbnZlc3RvcnMuY29tL3Jlc2VhcmNoL2VsaS1saWxseS1zdG9jay1hdC15ZXQtYW5vdGhlci1hbGwtdGltZS1oaWdoLWNoZWNrLW91dC1uZXctbmFtZXMtYWRkZWQtdG8taWJkLWJlc3Qtc3RvY2tzLWxpc3RzL9IBAA)  "
      ],
      "text/plain": [
       "<IPython.core.display.Markdown object>"
      ]
     },
     "metadata": {},
     "output_type": "display_data"
    },
    {
     "data": {
      "text/markdown": [
       "[2024-06-26 21:47:17.240639+00:00 Eli Lilly Stock Runs Up 49% Amid Lofty Expectations For Weight-Loss Drug](https://news.google.com/articles/CBMiYWh0dHBzOi8vd3d3LmludmVzdG9ycy5jb20vcmVzZWFyY2gvdGhlLW5ldy1hbWVyaWNhL2VsaS1saWxseS1zdG9jay13ZWlnaHQtbG9zcy1kcnVnLWV4cGVjdGF0aW9ucy_SAQA)  "
      ],
      "text/plain": [
       "<IPython.core.display.Markdown object>"
      ]
     },
     "metadata": {},
     "output_type": "display_data"
    },
    {
     "data": {
      "text/markdown": [
       "[2024-06-26 21:47:17.240639+00:00 Eli Lilly Stock: FDA Panelists Unanimously Back Lilly's Biogen-Rivaling Alzheimer's Drug](https://news.google.com/articles/CBMiZmh0dHBzOi8vd3d3LmludmVzdG9ycy5jb20vbmV3cy90ZWNobm9sb2d5L2VsaS1saWxseS1zdG9jay1mZGEtYWR2aXNvcnktY29tbWl0dGVlLWFsemhlaW1lcnMtdHJlYXRtZW50L9IBAA)  "
      ],
      "text/plain": [
       "<IPython.core.display.Markdown object>"
      ]
     },
     "metadata": {},
     "output_type": "display_data"
    },
    {
     "data": {
      "text/markdown": [
       "[2024-06-25 11:06:18+00:00 Eli Lilly Working With OpenAI to Develop Medicines Against Drug-Resistant Pathogens](https://finnhub.io/api/news?id=15a4dacf90d04d332392f0c132e37549deec16755cca10a92adb622c4243b753)  "
      ],
      "text/plain": [
       "<IPython.core.display.Markdown object>"
      ]
     },
     "metadata": {},
     "output_type": "display_data"
    },
    {
     "data": {
      "text/markdown": [
       "[2024-06-20 06:39:09+00:00 Eli Lilly and : An Open Letter From Eli Lilly and Company Regarding Certain Practices Related to Mounjaro® and Zepbound®](https://finnhub.io/api/news?id=88d67a4022779783254dae81e2245fb750ad1567374341782ba29836348fe053)  "
      ],
      "text/plain": [
       "<IPython.core.display.Markdown object>"
      ]
     },
     "metadata": {},
     "output_type": "display_data"
    },
    {
     "data": {
      "text/markdown": [
       "[2024-06-20 07:07:09+00:00 Eli Lilly and : Lilly Warns Patients About Counterfeit and Compounded Medicines Releases Open Letter and Takes Further Legal Action Against Counterfeit, Fake, Unsafe, and Untested Products](https://finnhub.io/api/news?id=ab7a2973922b2ce237ac0acc9b3b1c7ce354649aff1373778ecd5d80a554cd39)  "
      ],
      "text/plain": [
       "<IPython.core.display.Markdown object>"
      ]
     },
     "metadata": {},
     "output_type": "display_data"
    },
    {
     "data": {
      "text/markdown": [
       "[2024-06-26 21:47:17.240639+00:00 Eli Lilly and Company (NYSE:LLY) Given Buy Rating at Truist Financial](https://news.google.com/articles/CBMib2h0dHBzOi8vd3d3LmRlZmVuc2V3b3JsZC5uZXQvMjAyNC8wNi8yNi9lbGktbGlsbHktYW5kLWNvbXBhbnktbnlzZWxseS1naXZlbi1idXktcmF0aW5nLWF0LXRydWlzdC1maW5hbmNpYWwuaHRtbNIBAA)  "
      ],
      "text/plain": [
       "<IPython.core.display.Markdown object>"
      ]
     },
     "metadata": {},
     "output_type": "display_data"
    },
    {
     "data": {
      "text/markdown": [
       "[2024-06-26 21:47:17.240639+00:00 Eli Lilly and Company (NYSE:LLY) Receives Buy Rating from Truist Financial](https://news.google.com/articles/CBMiUGh0dHBzOi8vd3d3Lm1hcmtldGJlYXQuY29tL2luc3RhbnQtYWxlcnRzL255c2UtbGx5LXJlaXRlcmF0ZWQtcmF0aW5nLTIwMjQtMDYtMjUv0gEA)  "
      ],
      "text/plain": [
       "<IPython.core.display.Markdown object>"
      ]
     },
     "metadata": {},
     "output_type": "display_data"
    },
    {
     "data": {
      "text/markdown": [
       "[2024-06-26 21:47:17.240639+00:00 Eli Lilly and Company (NYSE:LLY) Receives “Buy” Rating from Bank of America](https://news.google.com/articles/CBMic2h0dHBzOi8vd3d3LmRlZmVuc2V3b3JsZC5uZXQvMjAyNC8wNi8yNS9lbGktbGlsbHktYW5kLWNvbXBhbnktbnlzZWxseS1yZWNlaXZlcy1idXktcmF0aW5nLWZyb20tYmFuay1vZi1hbWVyaWNhLmh0bWzSAQA)  "
      ],
      "text/plain": [
       "<IPython.core.display.Markdown object>"
      ]
     },
     "metadata": {},
     "output_type": "display_data"
    },
    {
     "data": {
      "text/markdown": [
       "[2024-06-25 06:44:48+00:00 Eli Lilly and Company (NYSE:LLY) Receives “Overweight” Rating from Cantor Fitzgerald](https://www.etfdailynews.com/2024/06/25/eli-lilly-and-company-nyselly-receives-overweight-rating-from-cantor-fitzgerald/)  "
      ],
      "text/plain": [
       "<IPython.core.display.Markdown object>"
      ]
     },
     "metadata": {},
     "output_type": "display_data"
    },
    {
     "data": {
      "text/markdown": [
       "[2024-06-26 21:47:17.240639+00:00 Eli Lilly and Company (NYSE:LLY) Shares Up 1.5% Following Dividend Announcement](https://news.google.com/articles/CBMieGh0dHBzOi8vd3d3LmRlZmVuc2V3b3JsZC5uZXQvMjAyNC8wNi8yNi9lbGktbGlsbHktYW5kLWNvbXBhbnktbnlzZWxseS1zaGFyZXMtdXAtMS01LWZvbGxvd2luZy1kaXZpZGVuZC1hbm5vdW5jZW1lbnQuaHRtbNIBAA)  "
      ],
      "text/plain": [
       "<IPython.core.display.Markdown object>"
      ]
     },
     "metadata": {},
     "output_type": "display_data"
    },
    {
     "data": {
      "text/markdown": [
       "[2024-06-23 08:02:44+00:00 Eli Lilly and Company (NYSE:LLY) Stock Price Down 0.3%](https://www.etfdailynews.com/2024/06/23/eli-lilly-and-company-nyselly-stock-price-down-0-3/)  "
      ],
      "text/plain": [
       "<IPython.core.display.Markdown object>"
      ]
     },
     "metadata": {},
     "output_type": "display_data"
    },
    {
     "data": {
      "text/markdown": [
       "[2024-06-26 21:47:17.240639+00:00 Eli Lilly and Company (NYSE:LLY) Stock Price Up 0.7%](https://news.google.com/articles/CBMiX2h0dHBzOi8vd3d3LmRlZmVuc2V3b3JsZC5uZXQvMjAyNC8wNi8yMi9lbGktbGlsbHktYW5kLWNvbXBhbnktbnlzZWxseS1zdG9jay1wcmljZS11cC0wLTctMi5odG1s0gEA)  "
      ],
      "text/plain": [
       "<IPython.core.display.Markdown object>"
      ]
     },
     "metadata": {},
     "output_type": "display_data"
    },
    {
     "data": {
      "text/markdown": [
       "[2024-06-26 21:47:17.240639+00:00 Eli Lilly and Company (NYSE:LLY) Trading Down 0% Following Insider Selling](https://news.google.com/articles/CBMiTmh0dHBzOi8vd3d3Lm1hcmtldGJlYXQuY29tL2luc3RhbnQtYWxlcnRzL255c2UtbGx5LXBlcmNlbnQtZGVjbGluZS0yMDI0LTA2LTI2L9IBAA)  "
      ],
      "text/plain": [
       "<IPython.core.display.Markdown object>"
      ]
     },
     "metadata": {},
     "output_type": "display_data"
    },
    {
     "data": {
      "text/markdown": [
       "[2024-06-26 21:47:17.240639+00:00 Eli Lilly and Company (NYSE:LLY) Trading Up 1.5% After Analyst Upgrade](https://news.google.com/articles/CBMiTmh0dHBzOi8vd3d3Lm1hcmtldGJlYXQuY29tL2luc3RhbnQtYWxlcnRzL255c2UtbGx5LXBlcmNlbnQtYWR2YW5jZS0yMDI0LTA2LTI1L9IBAA)  "
      ],
      "text/plain": [
       "<IPython.core.display.Markdown object>"
      ]
     },
     "metadata": {},
     "output_type": "display_data"
    },
    {
     "data": {
      "text/markdown": [
       "[2024-06-26 21:47:17.240639+00:00 Eli Lilly and Company's (LLY) Overweight Rating Reaffirmed at Cantor Fitzgerald](https://news.google.com/articles/CBMie2h0dHBzOi8vd3d3LmRlZmVuc2V3b3JsZC5uZXQvMjAyNC8wNi8yNC9lbGktbGlsbHktYW5kLWNvbXBhbnlzLWxseS1vdmVyd2VpZ2h0LXJhdGluZy1yZWFmZmlybWVkLWF0LWNhbnRvci1maXR6Z2VyYWxkLTIuaHRtbNIBAA)  "
      ],
      "text/plain": [
       "<IPython.core.display.Markdown object>"
      ]
     },
     "metadata": {},
     "output_type": "display_data"
    },
    {
     "data": {
      "text/markdown": [
       "[2024-06-26 08:22:41+00:00 Eli Lilly and Company’s (LLY) Buy Rating Reiterated at Truist Financial](https://www.etfdailynews.com/2024/06/26/eli-lilly-and-companys-lly-buy-rating-reiterated-at-truist-financial/)  "
      ],
      "text/plain": [
       "<IPython.core.display.Markdown object>"
      ]
     },
     "metadata": {},
     "output_type": "display_data"
    },
    {
     "data": {
      "text/markdown": [
       "[2024-06-26 21:47:17.447755+00:00 Eli Lilly and Novo Nordisk are a 'duopoly' in GLP-1 market](https://finance.yahoo.com/video/eli-lilly-novo-nordisk-duopoly-155816856.html)  "
      ],
      "text/plain": [
       "<IPython.core.display.Markdown object>"
      ]
     },
     "metadata": {},
     "output_type": "display_data"
    },
    {
     "data": {
      "text/markdown": [
       "[2024-06-25 10:12:00+00:00 Eli Lilly collaborates with OpenAI for medicines against drug-resistant bacteria](https://finnhub.io/api/news?id=b2ec1c2e223abcd0c5b534878e8edcc7c7625d69d59fd1210af48f2d6d56f177)  "
      ],
      "text/plain": [
       "<IPython.core.display.Markdown object>"
      ]
     },
     "metadata": {},
     "output_type": "display_data"
    },
    {
     "data": {
      "text/markdown": [
       "[2024-06-25 09:04:00+00:00 Eli Lilly collaborates with OpenAI to discover novel antimicrobials](https://finnhub.io/api/news?id=f7b2272cc825bd6cf1ed8f7419a14faec5835a0ce8f89b02c23e59a8d325274f)  "
      ],
      "text/plain": [
       "<IPython.core.display.Markdown object>"
      ]
     },
     "metadata": {},
     "output_type": "display_data"
    },
    {
     "data": {
      "text/markdown": [
       "[2024-06-24 10:40:00+00:00 Eli Lilly declares $1.30 dividend](https://finnhub.io/api/news?id=6734cede968b2139f99058caaf2f20a1cd5143426a993052cf120d6f9b584950)  "
      ],
      "text/plain": [
       "<IPython.core.display.Markdown object>"
      ]
     },
     "metadata": {},
     "output_type": "display_data"
    },
    {
     "data": {
      "text/markdown": [
       "[2024-06-21 07:37:00+00:00 Eli Lilly files lawsuits to stop sales of counterfeit Mounjaro, Reuters reports](https://finnhub.io/api/news?id=5d547b8802644f664c16bbfb2dffd64ed745c736a2b309c914bf4ad37815fb9f)  "
      ],
      "text/plain": [
       "<IPython.core.display.Markdown object>"
      ]
     },
     "metadata": {},
     "output_type": "display_data"
    },
    {
     "data": {
      "text/markdown": [
       "[2024-06-26 21:47:17.447707+00:00 Eli Lilly inks OpenAI deal for discovering new antibiotics](https://www.fiercebiotech.com/biotech/eli-lilly-inks-openai-deal-discovering-new-antibiotics)  "
      ],
      "text/plain": [
       "<IPython.core.display.Markdown object>"
      ]
     },
     "metadata": {},
     "output_type": "display_data"
    },
    {
     "data": {
      "text/markdown": [
       "[2024-06-26 21:47:17.447742+00:00 Eli Lilly is cracking down on knock off versions of its popular weight loss and diabetes drug](https://qz.com/eli-lilly-fake-zepbound-1851550525)  "
      ],
      "text/plain": [
       "<IPython.core.display.Markdown object>"
      ]
     },
     "metadata": {},
     "output_type": "display_data"
    },
    {
     "data": {
      "text/markdown": [
       "[2024-06-24 10:20:00+00:00 Eli Lilly participates in a conference call with Cantor Fitzgerald](https://finnhub.io/api/news?id=6a5f51e4ffd6500e4fd6f510d737058f5a53b013a985a1bf85c8f0b9d477af70)  "
      ],
      "text/plain": [
       "<IPython.core.display.Markdown object>"
      ]
     },
     "metadata": {},
     "output_type": "display_data"
    },
    {
     "data": {
      "text/markdown": [
       "[2024-06-25 08:26:00+00:00 Eli Lilly price target raised by $108 at Truist, here's why](https://finnhub.io/api/news?id=e67f0bf46570a51331cfd31316dc2d9cf8944832b0cba952f837a2b87a9e6f4e)  "
      ],
      "text/plain": [
       "<IPython.core.display.Markdown object>"
      ]
     },
     "metadata": {},
     "output_type": "display_data"
    },
    {
     "data": {
      "text/markdown": [
       "[2024-06-24 06:54:00+00:00 Eli Lilly price target raised by $21 at Jefferies, here's why](https://finnhub.io/api/news?id=f0ff4ab1a3458ba80a8c64734d7c90f718548683b5371f40be83a5cd74fc9232)  "
      ],
      "text/plain": [
       "<IPython.core.display.Markdown object>"
      ]
     },
     "metadata": {},
     "output_type": "display_data"
    },
    {
     "data": {
      "text/markdown": [
       "[2024-06-20 08:06:00+00:00 Eli Lilly ramps up efforts against fake weight loss drugs](https://finnhub.io/api/news?id=99a37f37915b48e18889a957dfe9aa323236e10d5b4b4d0f4fb27db6f87610aa)  "
      ],
      "text/plain": [
       "<IPython.core.display.Markdown object>"
      ]
     },
     "metadata": {},
     "output_type": "display_data"
    },
    {
     "data": {
      "text/markdown": [
       "[2024-06-21 02:53:00+00:00 Eli Lilly reports tirzepatide reduced obstructive sleep apnea severity in study](https://finnhub.io/api/news?id=fc69d56cf1f830b8cf7f22aaefe2c1b3cd2808ce1220f63a1c6ff88f047cf7a1)  "
      ],
      "text/plain": [
       "<IPython.core.display.Markdown object>"
      ]
     },
     "metadata": {},
     "output_type": "display_data"
    },
    {
     "data": {
      "text/markdown": [
       "[2024-06-26 21:47:17.447729+00:00 Eli Lilly seeks to expand Zepbound use to treat sleep apnea](https://finance.yahoo.com/video/eli-lilly-seeks-expand-zepbound-143600056.html)  "
      ],
      "text/plain": [
       "<IPython.core.display.Markdown object>"
      ]
     },
     "metadata": {},
     "output_type": "display_data"
    },
    {
     "data": {
      "text/markdown": [
       "[2024-06-22 12:15:00+00:00 Eli Lilly sleep apnea data 'represent a clear win,' says Barclays](https://finnhub.io/api/news?id=6e1616bd8eea8244f040ede99b21e2888f38e039e6464bf492f50d8080ac2b15)  "
      ],
      "text/plain": [
       "<IPython.core.display.Markdown object>"
      ]
     },
     "metadata": {},
     "output_type": "display_data"
    },
    {
     "data": {
      "text/markdown": [
       "[2024-06-26 21:47:17.447746+00:00 Eli Lilly unveils new North Carolina plant for GLP-1 drugs](https://finance.yahoo.com/video/eli-lilly-unveils-north-carolina-210054637.html)  "
      ],
      "text/plain": [
       "<IPython.core.display.Markdown object>"
      ]
     },
     "metadata": {},
     "output_type": "display_data"
    },
    {
     "data": {
      "text/markdown": [
       "[2024-06-26 21:47:17.447753+00:00 Eli Lilly unveils new manufacturing plant for GLP-1 pens](https://finance.yahoo.com/news/eli-lilly-unveils-new-manufacturing-plant-for-glp-1-pens-200808212.html)  "
      ],
      "text/plain": [
       "<IPython.core.display.Markdown object>"
      ]
     },
     "metadata": {},
     "output_type": "display_data"
    },
    {
     "data": {
      "text/markdown": [
       "[2024-06-26 21:47:17.447755+00:00 Eli Lilly wants to replace Zepbound with an even stronger weight loss drug](https://qz.com/eli-lilly-successor-1851540206)  "
      ],
      "text/plain": [
       "<IPython.core.display.Markdown object>"
      ]
     },
     "metadata": {},
     "output_type": "display_data"
    },
    {
     "data": {
      "text/markdown": [
       "[2024-06-26 21:47:17.447743+00:00 Eli Lilly's Growth Prospects Just Got a Huge Upgrade](https://finance.yahoo.com/m/adaa448e-7e2e-3b33-a28c-d7ae482e3fea/eli-lilly%27s-growth-prospects.html)  "
      ],
      "text/plain": [
       "<IPython.core.display.Markdown object>"
      ]
     },
     "metadata": {},
     "output_type": "display_data"
    },
    {
     "data": {
      "text/markdown": [
       "[2024-06-26 21:47:17.447723+00:00 Eli Lilly's Weight-Loss Drug Takes Down ResMed, Inspire Medical  Again](https://finance.yahoo.com/m/bbe694a5-ece2-3639-a09e-40da9dfddad5/eli-lilly%27s-weight-loss-drug.html)  "
      ],
      "text/plain": [
       "<IPython.core.display.Markdown object>"
      ]
     },
     "metadata": {},
     "output_type": "display_data"
    },
    {
     "data": {
      "text/markdown": [
       "[2024-06-24 13:23:57+00:00 Eli Lilly's Weight-Loss Drug Takes Down ResMed, Inspire Medical — Again](https://finnhub.io/api/news?id=eded1778eeed57ffb72fe6055a50b9f8393e03a0073581283bcb012ab38a36de)  "
      ],
      "text/plain": [
       "<IPython.core.display.Markdown object>"
      ]
     },
     "metadata": {},
     "output_type": "display_data"
    },
    {
     "data": {
      "text/markdown": [
       "[2024-06-26 21:47:17.447730+00:00 Eli Lilly's Zepbound For Weight Loss Shows Disease Resolution In Obese Sleep Apnea Patients, Lays Further Groundwork For Label Expansion](https://finance.yahoo.com/news/eli-lillys-zepbound-weight-loss-122943468.html)  "
      ],
      "text/plain": [
       "<IPython.core.display.Markdown object>"
      ]
     },
     "metadata": {},
     "output_type": "display_data"
    },
    {
     "data": {
      "text/markdown": [
       "[2024-06-26 21:47:17.240639+00:00 Eli Lilly: Throwing Its Weight Around - But, For How Long? (NYSE:LLY)](https://news.google.com/articles/CBMib2h0dHBzOi8vc2Vla2luZ2FscGhhLmNvbS9hcnRpY2xlLzQ3MDA2NDUtZWxpLWxpbGx5LXRocm93aW5nLXdlaWdodC1hcm91bmQtYnV0LWhvdy1sb25nP3NvdXJjZT1mZWVkX2FsbF9hcnRpY2xlc9IBAA)  "
      ],
      "text/plain": [
       "<IPython.core.display.Markdown object>"
      ]
     },
     "metadata": {},
     "output_type": "display_data"
    },
    {
     "data": {
      "text/markdown": [
       "[2024-06-24 04:53:13+00:00 Eli Lilly: Throwing Its Weight Around - But, For How Long? (Technical Analysis)](https://finnhub.io/api/news?id=0af06ec35d3dd2fb9319addf4bf6643c15d5135f7d1a9e9b6d2ec460d1842956)  "
      ],
      "text/plain": [
       "<IPython.core.display.Markdown object>"
      ]
     },
     "metadata": {},
     "output_type": "display_data"
    },
    {
     "data": {
      "text/markdown": [
       "[2024-06-25 10:48:25+00:00 Eli Lilly: collaboration agreement with OpenAI](https://finnhub.io/api/news?id=b1f8f5fe8e158e5793503693dcf57bde501b5a9f953bd41a6705acadcddc5dec)  "
      ],
      "text/plain": [
       "<IPython.core.display.Markdown object>"
      ]
     },
     "metadata": {},
     "output_type": "display_data"
    },
    {
     "data": {
      "text/markdown": [
       "[2024-06-20 10:07:31+00:00 Eli Lilly: warning about counterfeit products](https://finnhub.io/api/news?id=d1d7f000fbc4747fbfbf52aee16b0744ea32af2a29eb8935784efe093f77cc26)  "
      ],
      "text/plain": [
       "<IPython.core.display.Markdown object>"
      ]
     },
     "metadata": {},
     "output_type": "display_data"
    },
    {
     "data": {
      "text/markdown": [
       "[2024-06-26 21:47:17.447735+00:00 Eli Lillys Weight-Loss Franchise Has Been a Massive Winner Under Dave Ricks](https://finance.yahoo.com/m/59f79c85-29e8-378e-b67b-ea4288ec57a1/eli-lilly%E2%80%99s-weight-loss.html)  "
      ],
      "text/plain": [
       "<IPython.core.display.Markdown object>"
      ]
     },
     "metadata": {},
     "output_type": "display_data"
    },
    {
     "data": {
      "text/markdown": [
       "[2024-06-22 08:37:00+00:00 Eli Lilly’s Tirzepatide Shows Promising Results in Sleep Apnea Treatment, Justifying a Buy Rating](https://finnhub.io/api/news?id=a34d911e646e521bf575da4ebd7d0ba1647201730fe1fbb74f1df8b85c92ddb0)  "
      ],
      "text/plain": [
       "<IPython.core.display.Markdown object>"
      ]
     },
     "metadata": {},
     "output_type": "display_data"
    },
    {
     "data": {
      "text/markdown": [
       "[2024-06-21 16:00:00+00:00 Eli Lilly’s Weight-Loss Franchise Has Been a Massive Winner Under Dave Ricks](https://finnhub.io/api/news?id=2ed29f79d415f1f90d906af4d93d322f4aed8bcf8b2630daf08f86773d169b4f)  "
      ],
      "text/plain": [
       "<IPython.core.display.Markdown object>"
      ]
     },
     "metadata": {},
     "output_type": "display_data"
    },
    {
     "data": {
      "text/markdown": [
       "[2024-06-26 21:47:17.447754+00:00 Food companies worried about weight loss drugs can just make healthier food, Eli Lilly CEO says](https://qz.com/weight-loss-drugs-food-companies-eli-lilly-zepbound-1851540483)  "
      ],
      "text/plain": [
       "<IPython.core.display.Markdown object>"
      ]
     },
     "metadata": {},
     "output_type": "display_data"
    },
    {
     "data": {
      "text/markdown": [
       "[2024-06-26 21:47:17.447708+00:00 From Sci-Fi Dream to Market Maze: Eli Lilly's Weight-Loss Medication Faces Hurdles](https://finance.yahoo.com/news/sci-fi-dream-market-maze-140002588.html)  "
      ],
      "text/plain": [
       "<IPython.core.display.Markdown object>"
      ]
     },
     "metadata": {},
     "output_type": "display_data"
    },
    {
     "data": {
      "text/markdown": [
       "[2024-06-26 21:47:17.240639+00:00 Gilman Hill Asset Management LLC Lowers Stake in Eli Lilly and Company (NYSE:LLY)](https://news.google.com/articles/CBMie2h0dHBzOi8vd3d3LmRlZmVuc2V3b3JsZC5uZXQvMjAyNC8wNi8yNi9naWxtYW4taGlsbC1hc3NldC1tYW5hZ2VtZW50LWxsYy1sb3dlcnMtc3Rha2UtaW4tZWxpLWxpbGx5LWFuZC1jb21wYW55LW55c2VsbHkuaHRtbNIBAA)  "
      ],
      "text/plain": [
       "<IPython.core.display.Markdown object>"
      ]
     },
     "metadata": {},
     "output_type": "display_data"
    },
    {
     "data": {
      "text/markdown": [
       "[2024-06-25 18:12:41+00:00 Global Assets Advisory LLC Invests $325.42 Million in Eli Lilly and Company (NYSE:LLY)](https://www.etfdailynews.com/2024/06/25/global-assets-advisory-llc-invests-325-42-million-in-eli-lilly-and-company-nyselly/)  "
      ],
      "text/plain": [
       "<IPython.core.display.Markdown object>"
      ]
     },
     "metadata": {},
     "output_type": "display_data"
    },
    {
     "data": {
      "text/markdown": [
       "[2024-06-26 21:47:17.240639+00:00 Global Assets Advisory LLC Takes Position in Eli Lilly and Company (NYSE:LLY)](https://news.google.com/articles/CBMid2h0dHBzOi8vd3d3LmRlZmVuc2V3b3JsZC5uZXQvMjAyNC8wNi8yNS9nbG9iYWwtYXNzZXRzLWFkdmlzb3J5LWxsYy10YWtlcy1wb3NpdGlvbi1pbi1lbGktbGlsbHktYW5kLWNvbXBhbnktbnlzZWxseS5odG1s0gEA)  "
      ],
      "text/plain": [
       "<IPython.core.display.Markdown object>"
      ]
     },
     "metadata": {},
     "output_type": "display_data"
    },
    {
     "data": {
      "text/markdown": [
       "[2024-06-26 21:47:17.240639+00:00 Global Trust Asset Management LLC Sells 300 Shares of Eli Lilly and Company (NYSE:LLY)](https://news.google.com/articles/CBMigAFodHRwczovL3d3dy5kZWZlbnNld29ybGQubmV0LzIwMjQvMDYvMjUvZ2xvYmFsLXRydXN0LWFzc2V0LW1hbmFnZW1lbnQtbGxjLXNlbGxzLTMwMC1zaGFyZXMtb2YtZWxpLWxpbGx5LWFuZC1jb21wYW55LW55c2VsbHkuaHRtbNIBAA)  "
      ],
      "text/plain": [
       "<IPython.core.display.Markdown object>"
      ]
     },
     "metadata": {},
     "output_type": "display_data"
    },
    {
     "data": {
      "text/markdown": [
       "[2024-06-22 14:28:41+00:00 Grandview Asset Management LLC Purchases 227 Shares of Eli Lilly and Company (NYSE:LLY)](https://www.etfdailynews.com/2024/06/22/grandview-asset-management-llc-purchases-227-shares-of-eli-lilly-and-company-nyselly/)  "
      ],
      "text/plain": [
       "<IPython.core.display.Markdown object>"
      ]
     },
     "metadata": {},
     "output_type": "display_data"
    },
    {
     "data": {
      "text/markdown": [
       "[2024-06-23 16:12:43+00:00 Gulf International Bank UK Ltd Has $53.45 Million Stock Holdings in Eli Lilly and Company (NYSE:LLY)](https://www.etfdailynews.com/2024/06/23/gulf-international-bank-uk-ltd-has-53-45-million-stock-holdings-in-eli-lilly-and-company-nyselly/)  "
      ],
      "text/plain": [
       "<IPython.core.display.Markdown object>"
      ]
     },
     "metadata": {},
     "output_type": "display_data"
    },
    {
     "data": {
      "text/markdown": [
       "[2024-06-26 21:47:17.240639+00:00 Harbor Investment Advisory LLC Has $8.05 Million Stock Holdings in Eli Lilly and Company (NYSE:LLY)](https://news.google.com/articles/CBMijAFodHRwczovL3d3dy5kZWZlbnNld29ybGQubmV0LzIwMjQvMDYvMjUvaGFyYm9yLWludmVzdG1lbnQtYWR2aXNvcnktbGxjLWhhcy04LTA1LW1pbGxpb24tc3RvY2staG9sZGluZ3MtaW4tZWxpLWxpbGx5LWFuZC1jb21wYW55LW55c2VsbHkuaHRtbNIBAA)  "
      ],
      "text/plain": [
       "<IPython.core.display.Markdown object>"
      ]
     },
     "metadata": {},
     "output_type": "display_data"
    },
    {
     "data": {
      "text/markdown": [
       "[2024-06-25 18:12:42+00:00 Harbor Investment Advisory LLC Purchases 421 Shares of Eli Lilly and Company (NYSE:LLY)](https://www.etfdailynews.com/2024/06/25/harbor-investment-advisory-llc-purchases-421-shares-of-eli-lilly-and-company-nyselly/)  "
      ],
      "text/plain": [
       "<IPython.core.display.Markdown object>"
      ]
     },
     "metadata": {},
     "output_type": "display_data"
    },
    {
     "data": {
      "text/markdown": [
       "[2024-06-26 21:47:17.240639+00:00 Here's How Much a $1000 Investment in Eli Lilly Made 10 Years Ago Would Be Worth Today](https://news.google.com/articles/CBMiTGh0dHBzOi8vZmluYW5jZS55YWhvby5jb20vbmV3cy9oZXJlcy1tdWNoLTEwMDAtaW52ZXN0bWVudC1lbGktMTIzMDAzOTIxLmh0bWzSAQA)  "
      ],
      "text/plain": [
       "<IPython.core.display.Markdown object>"
      ]
     },
     "metadata": {},
     "output_type": "display_data"
    },
    {
     "data": {
      "text/markdown": [
       "[2024-06-20 13:01:00+00:00 Here's Why Eli Lilly  ( LLY )  is Probably the Best Drug Stock Now](https://www.zacks.com/stock/news/2290782/heres-why-eli-lilly-lly-is-probably-the-best-drug-stock-now)  "
      ],
      "text/plain": [
       "<IPython.core.display.Markdown object>"
      ]
     },
     "metadata": {},
     "output_type": "display_data"
    },
    {
     "data": {
      "text/markdown": [
       "[2024-06-26 21:47:17.447743+00:00 Here's Why Eli Lilly (LLY) is Probably the Best Drug Stock Now](https://www.zacks.com/stock/news/2290782/here-s-why-eli-lilly-lly-is-probably-the-best-drug-stock-now)  "
      ],
      "text/plain": [
       "<IPython.core.display.Markdown object>"
      ]
     },
     "metadata": {},
     "output_type": "display_data"
    },
    {
     "data": {
      "text/markdown": [
       "[2024-06-24 20:50:41+00:00 High Net Worth Advisory Group LLC Acquires 67 Shares of Eli Lilly and Company (NYSE:LLY)](https://www.etfdailynews.com/2024/06/24/high-net-worth-advisory-group-llc-acquires-67-shares-of-eli-lilly-and-company-nyselly/)  "
      ],
      "text/plain": [
       "<IPython.core.display.Markdown object>"
      ]
     },
     "metadata": {},
     "output_type": "display_data"
    },
    {
     "data": {
      "text/markdown": [
       "[2024-06-21 08:50:00+00:00 Hims & Hers defended at BofA as Lilly fights compounded GLP-1s](https://finnhub.io/api/news?id=947cda5285cc5c49598825136d48fe76ec0323844c70be0b85f56891df525b1e)  "
      ],
      "text/plain": [
       "<IPython.core.display.Markdown object>"
      ]
     },
     "metadata": {},
     "output_type": "display_data"
    },
    {
     "data": {
      "text/markdown": [
       "[2024-06-26 21:47:17.447725+00:00 How Lilly is joining Novo in the crusade to circumvent Medicare's block on weight loss drugs](https://finance.yahoo.com/news/how-lilly-is-joining-novo-in-the-crusade-to-circumvent-medicares-block-on-weight-loss-drugs-180112580.html)  "
      ],
      "text/plain": [
       "<IPython.core.display.Markdown object>"
      ]
     },
     "metadata": {},
     "output_type": "display_data"
    },
    {
     "data": {
      "text/markdown": [
       "[2024-06-26 21:47:17.240639+00:00 Independent Wealth Network Inc. Decreases Stake in Eli Lilly and Company (NYSE:LLY)](https://news.google.com/articles/CBMifGh0dHBzOi8vd3d3LmRlZmVuc2V3b3JsZC5uZXQvMjAyNC8wNi8yMy9pbmRlcGVuZGVudC13ZWFsdGgtbmV0d29yay1pbmMtZGVjcmVhc2VzLXN0YWtlLWluLWVsaS1saWxseS1hbmQtY29tcGFueS1ueXNlbGx5Lmh0bWzSAQA)  "
      ],
      "text/plain": [
       "<IPython.core.display.Markdown object>"
      ]
     },
     "metadata": {},
     "output_type": "display_data"
    },
    {
     "data": {
      "text/markdown": [
       "[2024-06-26 21:47:17.240639+00:00 Insider Selling: Eli Lilly and Company (NYSE:LLY) Major Shareholder Sells 17,229 Shares of Stock](https://news.google.com/articles/CBMiWWh0dHBzOi8vd3d3Lm1hcmtldGJlYXQuY29tL2luc3RhbnQtYWxlcnRzL255c2UtbGx5LWluc2lkZXItYnV5aW5nLWFuZC1zZWxsaW5nLTIwMjQtMDYtMjUv0gEA)  "
      ],
      "text/plain": [
       "<IPython.core.display.Markdown object>"
      ]
     },
     "metadata": {},
     "output_type": "display_data"
    },
    {
     "data": {
      "text/markdown": [
       "[2024-06-20 08:52:00+00:00 Insider Trade: Lilly Endowment Sells Eli Lilly Shares Worth $172M](https://finnhub.io/api/news?id=3834992e2eed07576074fddec0e44cf18bde63606fd0d092371d1f39dbf42bd4)  "
      ],
      "text/plain": [
       "<IPython.core.display.Markdown object>"
      ]
     },
     "metadata": {},
     "output_type": "display_data"
    },
    {
     "data": {
      "text/markdown": [
       "[2024-06-24 02:21:00+00:00 Inspire Medical, ResMed decline following Lilly tirzepatide sleep apnea data](https://finnhub.io/api/news?id=fef2a1d521b0ebb037e34a1917f4f8b5d1f4953185d82100546fa1b463278d33)  "
      ],
      "text/plain": [
       "<IPython.core.display.Markdown object>"
      ]
     },
     "metadata": {},
     "output_type": "display_data"
    },
    {
     "data": {
      "text/markdown": [
       "[2024-06-26 21:47:17.240639+00:00 International Assets Investment Management LLC Has $10.46 Million Position in Eli Lilly and Company (NYSE:LLY)](https://news.google.com/articles/CBMilwFodHRwczovL3d3dy5kZWZlbnNld29ybGQubmV0LzIwMjQvMDYvMjQvaW50ZXJuYXRpb25hbC1hc3NldHMtaW52ZXN0bWVudC1tYW5hZ2VtZW50LWxsYy1oYXMtMTAtNDYtbWlsbGlvbi1wb3NpdGlvbi1pbi1lbGktbGlsbHktYW5kLWNvbXBhbnktbnlzZWxseS5odG1s0gEA)  "
      ],
      "text/plain": [
       "<IPython.core.display.Markdown object>"
      ]
     },
     "metadata": {},
     "output_type": "display_data"
    },
    {
     "data": {
      "text/markdown": [
       "[2024-06-24 13:20:42+00:00 International Assets Investment Management LLC Purchases 1,160 Shares of Eli Lilly and Company (NYSE:LLY)](https://www.etfdailynews.com/2024/06/24/international-assets-investment-management-llc-purchases-1160-shares-of-eli-lilly-and-company-nyselly/)  "
      ],
      "text/plain": [
       "<IPython.core.display.Markdown object>"
      ]
     },
     "metadata": {},
     "output_type": "display_data"
    },
    {
     "data": {
      "text/markdown": [
       "[2024-06-24 13:00:15+00:00 Investors Heavily Search Eli Lilly and Company  ( LLY ) : Here is What You Need to Know](https://www.zacks.com/stock/news/2292048/investors-heavily-search-eli-lilly-and-company-lly-here-is-what-you-need-to-know)  "
      ],
      "text/plain": [
       "<IPython.core.display.Markdown object>"
      ]
     },
     "metadata": {},
     "output_type": "display_data"
    },
    {
     "data": {
      "text/markdown": [
       "[2024-06-26 21:47:17.447730+00:00 Investors Heavily Search Eli Lilly and Company (LLY): Here is What You Need to Know](https://www.zacks.com/stock/news/2292048/investors-heavily-search-eli-lilly-and-company-lly-here-is-what-you-need-to-know)  "
      ],
      "text/plain": [
       "<IPython.core.display.Markdown object>"
      ]
     },
     "metadata": {},
     "output_type": "display_data"
    },
    {
     "data": {
      "text/markdown": [
       "[2024-06-25 13:05:00+00:00 Is Eli Lilly  ( LLY )  a Buy on Tirzepatide Success in Sleep Apnea?](https://www.zacks.com/stock/news/2292780/is-eli-lilly-lly-a-buy-on-tirzepatide-success-in-sleep-apnea)  "
      ],
      "text/plain": [
       "<IPython.core.display.Markdown object>"
      ]
     },
     "metadata": {},
     "output_type": "display_data"
    },
    {
     "data": {
      "text/markdown": [
       "[2024-06-26 21:47:17.447710+00:00 Is Eli Lilly (LLY) a Buy on Tirzepatide Success in Sleep Apnea?](https://www.zacks.com/stock/news/2292780/is-eli-lilly-lly-a-buy-on-tirzepatide-success-in-sleep-apnea)  "
      ],
      "text/plain": [
       "<IPython.core.display.Markdown object>"
      ]
     },
     "metadata": {},
     "output_type": "display_data"
    },
    {
     "data": {
      "text/markdown": [
       "[2024-06-26 21:47:17.447741+00:00 Is Eli Lilly Stock A Buy After FDA Advisors Back Its Alzheimer's Drug?](https://finance.yahoo.com/m/75ad41f4-79f0-3b48-af19-38b6a6e1e059/is-eli-lilly-stock-a-buy.html)  "
      ],
      "text/plain": [
       "<IPython.core.display.Markdown object>"
      ]
     },
     "metadata": {},
     "output_type": "display_data"
    },
    {
     "data": {
      "text/markdown": [
       "[2024-06-26 21:47:17.240639+00:00 Is Lilly Stock A Buy After FDA Advisors Back Its Alzheimer's Drug?](https://news.google.com/articles/CBMiQmh0dHBzOi8vd3d3LmludmVzdG9ycy5jb20vbmV3cy90ZWNobm9sb2d5L2VsaS1saWxseS1zdG9jay1idXktbm93L9IBAA)  "
      ],
      "text/plain": [
       "<IPython.core.display.Markdown object>"
      ]
     },
     "metadata": {},
     "output_type": "display_data"
    },
    {
     "data": {
      "text/markdown": [
       "[2024-06-26 21:47:17.240639+00:00 Jacobs & Co. CA Has $17.53 Million Stake in Eli Lilly and Company (NYSE:LLY)](https://news.google.com/articles/CBMicmh0dHBzOi8vd3d3LmRlZmVuc2V3b3JsZC5uZXQvMjAyNC8wNi8yNi9qYWNvYnMtY28tY2EtaGFzLTE3LTUzLW1pbGxpb24tc3Rha2UtaW4tZWxpLWxpbGx5LWFuZC1jb21wYW55LW55c2VsbHkuaHRtbNIBAA)  "
      ],
      "text/plain": [
       "<IPython.core.display.Markdown object>"
      ]
     },
     "metadata": {},
     "output_type": "display_data"
    },
    {
     "data": {
      "text/markdown": [
       "[2024-06-22 14:28:41+00:00 KMG Fiduciary Partners LLC Has $19.80 Million Holdings in Eli Lilly and Company (NYSE:LLY)](https://www.etfdailynews.com/2024/06/22/kmg-fiduciary-partners-llc-has-19-80-million-holdings-in-eli-lilly-and-company-nyselly/)  "
      ],
      "text/plain": [
       "<IPython.core.display.Markdown object>"
      ]
     },
     "metadata": {},
     "output_type": "display_data"
    },
    {
     "data": {
      "text/markdown": [
       "[2024-06-22 14:28:42+00:00 Lantz Financial LLC Increases Stake in Eli Lilly and Company (NYSE:LLY)](https://www.etfdailynews.com/2024/06/22/lantz-financial-llc-increases-stake-in-eli-lilly-and-company-nyselly/)  "
      ],
      "text/plain": [
       "<IPython.core.display.Markdown object>"
      ]
     },
     "metadata": {},
     "output_type": "display_data"
    },
    {
     "data": {
      "text/markdown": [
       "[2024-06-23 16:12:43+00:00 Liberty Capital Management Inc. Sells 15 Shares of Eli Lilly and Company (NYSE:LLY)](https://www.etfdailynews.com/2024/06/23/liberty-capital-management-inc-sells-15-shares-of-eli-lilly-and-company-nyselly/)  "
      ],
      "text/plain": [
       "<IPython.core.display.Markdown object>"
      ]
     },
     "metadata": {},
     "output_type": "display_data"
    },
    {
     "data": {
      "text/markdown": [
       "[2024-06-26 21:47:17.447727+00:00 Lilly Declares Third-Quarter 2024 Dividend](https://www.prnewswire.com/news-releases/lilly-declares-third-quarter-2024-dividend-302180441.html)  "
      ],
      "text/plain": [
       "<IPython.core.display.Markdown object>"
      ]
     },
     "metadata": {},
     "output_type": "display_data"
    },
    {
     "data": {
      "text/markdown": [
       "[2024-06-26 21:47:17.240639+00:00 Lilly Endowment Inc Sells 9671 Shares of Eli Lilly and Company (NYSE:LLY) Stock](https://news.google.com/articles/CBMieWh0dHBzOi8vd3d3LmRlZmVuc2V3b3JsZC5uZXQvMjAyNC8wNi8yNC9saWxseS1lbmRvd21lbnQtaW5jLXNlbGxzLTk2NzEtc2hhcmVzLW9mLWVsaS1saWxseS1hbmQtY29tcGFueS1ueXNlbGx5LXN0b2NrLmh0bWzSAQA)  "
      ],
      "text/plain": [
       "<IPython.core.display.Markdown object>"
      ]
     },
     "metadata": {},
     "output_type": "display_data"
    },
    {
     "data": {
      "text/markdown": [
       "[2024-06-26 21:47:17.447724+00:00 Lilly Weight-Loss Drug Data Spurs Selloff in Sleep Apnea Stocks](https://finance.yahoo.com/news/lilly-weight-loss-drug-data-161219351.html)  "
      ],
      "text/plain": [
       "<IPython.core.display.Markdown object>"
      ]
     },
     "metadata": {},
     "output_type": "display_data"
    },
    {
     "data": {
      "text/markdown": [
       "[2024-06-26 21:47:17.447709+00:00 Lilly collaborates with OpenAI to discover novel medicines to treat drug-resistant bacteria](https://www.prnewswire.com/news-releases/lilly-collaborates-with-openai-to-discover-novel-medicines-to-treat-drug-resistant-bacteria-302180973.html)  "
      ],
      "text/plain": [
       "<IPython.core.display.Markdown object>"
      ]
     },
     "metadata": {},
     "output_type": "display_data"
    },
    {
     "data": {
      "text/markdown": [
       "[2024-06-26 21:47:17.240639+00:00 Lilly collaborates with OpenAI to discover novel medicines to treat drug-resistant bacteria | Eli Lilly and Company](https://news.google.com/articles/CBMie2h0dHBzOi8vaW52ZXN0b3IubGlsbHkuY29tL25ld3MtcmVsZWFzZXMvbmV3cy1yZWxlYXNlLWRldGFpbHMvbGlsbHktY29sbGFib3JhdGVzLW9wZW5haS1kaXNjb3Zlci1ub3ZlbC1tZWRpY2luZXMtdHJlYXQtZHJ1Z9IBAA)  "
      ],
      "text/plain": [
       "<IPython.core.display.Markdown object>"
      ]
     },
     "metadata": {},
     "output_type": "display_data"
    },
    {
     "data": {
      "text/markdown": [
       "[2024-06-20 06:30:30+00:00 Lilly files additional lawsuits over US sales of counterfeit Mounjaro](https://finnhub.io/api/news?id=614425cffd1772bbf3a33862a4d28e949bcf903ad92628725ccb6e1911b52b00)  "
      ],
      "text/plain": [
       "<IPython.core.display.Markdown object>"
      ]
     },
     "metadata": {},
     "output_type": "display_data"
    },
    {
     "data": {
      "text/markdown": [
       "[2024-06-25 11:18:00+00:00 Lilly gains approval of lebrikizumab in Canada for atopic dermatitis](https://finnhub.io/api/news?id=e2c89a20cd5a0bbcbe56db666507e7a1f9a387a3bc1e847668c2984de54da356)  "
      ],
      "text/plain": [
       "<IPython.core.display.Markdown object>"
      ]
     },
     "metadata": {},
     "output_type": "display_data"
    },
    {
     "data": {
      "text/markdown": [
       "[2024-06-26 21:47:17.447702+00:00 Lilly joins fellow pharma giants in OpenAI partnership](https://finance.yahoo.com/m/a76ab61c-6e40-3ed7-8fbb-8e49720dc1c1/lilly-joins-fellow-pharma.html)  "
      ],
      "text/plain": [
       "<IPython.core.display.Markdown object>"
      ]
     },
     "metadata": {},
     "output_type": "display_data"
    },
    {
     "data": {
      "text/markdown": [
       "[2024-06-26 21:47:17.240639+00:00 Lilly partners with OpenAI to develop medicines for drug-resistant bacteria](https://news.google.com/articles/CBMijAFodHRwczovL3d3dy5yZXV0ZXJzLmNvbS9idXNpbmVzcy9oZWFsdGhjYXJlLXBoYXJtYWNldXRpY2Fscy9saWxseS1wYXJ0bmVycy13aXRoLW9wZW5haS1kZXZlbG9wLW1lZGljaW5lcy1kcnVnLXJlc2lzdGFudC1iYWN0ZXJpYS0yMDI0LTA2LTI1L9IBAA)  "
      ],
      "text/plain": [
       "<IPython.core.display.Markdown object>"
      ]
     },
     "metadata": {},
     "output_type": "display_data"
    },
    {
     "data": {
      "text/markdown": [
       "[2024-06-21 03:30:00+00:00 Lilly weight loss drug tirzepatide meets primary endpoint in sleep apnea study](https://finnhub.io/api/news?id=368d4a18859d7e24bc5d77dca1850512e4c87e8b79f72071e9ef244b83321ad0)  "
      ],
      "text/plain": [
       "<IPython.core.display.Markdown object>"
      ]
     },
     "metadata": {},
     "output_type": "display_data"
    },
    {
     "data": {
      "text/markdown": [
       "[2024-06-21 19:49:00+00:00 Lilly&apos;s tirzepatide reduced obstructive sleep apnea (OSA) severity, with up to 51.5% of participants meeting the criteria for disease resolution](https://newsfilter.io/articles/lillyaposs-tirzepatide-reduced-obstructive-sleep-apnea-osa-severity-with-up-to-515-of-participants-m-2670953d761fb5c439f0c0f5163dc13b)  "
      ],
      "text/plain": [
       "<IPython.core.display.Markdown object>"
      ]
     },
     "metadata": {},
     "output_type": "display_data"
    },
    {
     "data": {
      "text/markdown": [
       "[2024-06-24 13:23:00+00:00 Lilly's Weight-Loss Drug Takes Down ResMed, Inspire - Again](https://www.investors.com/news/technology/resmed-stock-inspire-medical-systems-stock-obstructive-sleep-apnea-eli-lilly-weight-loss/)  "
      ],
      "text/plain": [
       "<IPython.core.display.Markdown object>"
      ]
     },
     "metadata": {},
     "output_type": "display_data"
    },
    {
     "data": {
      "text/markdown": [
       "[2024-06-26 21:47:17.240639+00:00 Lilly's tirzepatide reduced obstructive sleep apnea (OSA) severity, with up to 51.5% of participants meeting the criteria ...](https://news.google.com/articles/CBMifWh0dHBzOi8vaW52ZXN0b3IubGlsbHkuY29tL25ld3MtcmVsZWFzZXMvbmV3cy1yZWxlYXNlLWRldGFpbHMvbGlsbHlzLXRpcnplcGF0aWRlLXJlZHVjZWQtb2JzdHJ1Y3RpdmUtc2xlZXAtYXBuZWEtb3NhLXNldmVyaXR50gEA)  "
      ],
      "text/plain": [
       "<IPython.core.display.Markdown object>"
      ]
     },
     "metadata": {},
     "output_type": "display_data"
    },
    {
     "data": {
      "text/markdown": [
       "[2024-06-26 21:47:17.447734+00:00 Lilly's tirzepatide reduced obstructive sleep apnea (OSA) severity, with up to 51.5% of participants meeting the criteria for disease resolution](https://www.prnewswire.com/news-releases/lillys-tirzepatide-reduced-obstructive-sleep-apnea-osa-severity-with-up-to-51-5-of-participants-meeting-the-criteria-for-disease-resolution-302179373.html)  "
      ],
      "text/plain": [
       "<IPython.core.display.Markdown object>"
      ]
     },
     "metadata": {},
     "output_type": "display_data"
    },
    {
     "data": {
      "text/markdown": [
       "[2024-06-26 21:47:17.240639+00:00 Lilly's tirzepatide was superior to placebo for MASH resolution, and more than half of patients achieved improvement in ...](https://news.google.com/articles/CBMifmh0dHBzOi8vaW52ZXN0b3IubGlsbHkuY29tL25ld3MtcmVsZWFzZXMvbmV3cy1yZWxlYXNlLWRldGFpbHMvbGlsbHlzLXRpcnplcGF0aWRlLXdhcy1zdXBlcmlvci1wbGFjZWJvLW1hc2gtcmVzb2x1dGlvbi1hbmQtbW9yZdIBAA)  "
      ],
      "text/plain": [
       "<IPython.core.display.Markdown object>"
      ]
     },
     "metadata": {},
     "output_type": "display_data"
    },
    {
     "data": {
      "text/markdown": [
       "[2024-06-23 01:05:00+00:00 Lilly, Novo Nordisk to dominate weight loss therapy market: SA Investing Summit](https://finnhub.io/api/news?id=73b9f0ce2961cad4ea35db161ce99c432fad7488c2f127e0d20eacf5d96596ad)  "
      ],
      "text/plain": [
       "<IPython.core.display.Markdown object>"
      ]
     },
     "metadata": {},
     "output_type": "display_data"
    },
    {
     "data": {
      "text/markdown": [
       "[2024-06-26 21:47:17.447749+00:00 Lillys Phase II results in Alzheimers disease have most experts saying donanemab is done](https://finance.yahoo.com/m/a4ab855e-236b-377f-8e0c-3bdc976cd771/lilly%E2%80%99s-phase-ii-results-in.html)  "
      ],
      "text/plain": [
       "<IPython.core.display.Markdown object>"
      ]
     },
     "metadata": {},
     "output_type": "display_data"
    },
    {
     "data": {
      "text/markdown": [
       "[2024-06-26 21:47:17.447757+00:00 Lillys Weight-Loss Drug Is a Huge Hit. Its CEO Wants to Replace It ASAP.](https://finance.yahoo.com/m/f725b402-9d2b-3ac4-9d85-2482b9850f42/lilly%E2%80%99s-weight-loss-drug-is-a.html)  "
      ],
      "text/plain": [
       "<IPython.core.display.Markdown object>"
      ]
     },
     "metadata": {},
     "output_type": "display_data"
    },
    {
     "data": {
      "text/markdown": [
       "[2024-06-26 21:47:17.447732+00:00 Lillys tirzepatide reduces OSA severity in Phase III clinical trials](https://finance.yahoo.com/m/7f3010b1-6f61-34c7-bca5-92f9bae22b6c/lilly%E2%80%99s-tirzepatide-reduces.html)  "
      ],
      "text/plain": [
       "<IPython.core.display.Markdown object>"
      ]
     },
     "metadata": {},
     "output_type": "display_data"
    },
    {
     "data": {
      "text/markdown": [
       "[2024-06-24 08:42:04+00:00 Lilly’s tirzepatide reduces OSA severity in Phase III clinical trials](https://finnhub.io/api/news?id=a33c68a0bba5701cde0759182d6a19c8b7192ab79ae0aa41eb058eec57844644)  "
      ],
      "text/plain": [
       "<IPython.core.display.Markdown object>"
      ]
     },
     "metadata": {},
     "output_type": "display_data"
    },
    {
     "data": {
      "text/markdown": [
       "[2024-06-25 11:26:41+00:00 Lloyd Advisory Services LLC. Grows Holdings in Eli Lilly and Company (NYSE:LLY)](https://www.etfdailynews.com/2024/06/25/lloyd-advisory-services-llc-grows-holdings-in-eli-lilly-and-company-nyselly/)  "
      ],
      "text/plain": [
       "<IPython.core.display.Markdown object>"
      ]
     },
     "metadata": {},
     "output_type": "display_data"
    },
    {
     "data": {
      "text/markdown": [
       "[2024-06-20 11:28:43+00:00 Los Angeles Capital Management LLC Raises Holdings in Eli Lilly and Company (NYSE:LLY)](https://www.etfdailynews.com/2024/06/20/los-angeles-capital-management-llc-raises-holdings-in-eli-lilly-and-company-nyselly/)  "
      ],
      "text/plain": [
       "<IPython.core.display.Markdown object>"
      ]
     },
     "metadata": {},
     "output_type": "display_data"
    },
    {
     "data": {
      "text/markdown": [
       "[2024-06-21 16:06:43+00:00 Lynch & Associates IN Acquires 143 Shares of Eli Lilly and Company (NYSE:LLY)](https://www.etfdailynews.com/2024/06/21/lynch-associates-in-acquires-143-shares-of-eli-lilly-and-company-nyselly/)  "
      ],
      "text/plain": [
       "<IPython.core.display.Markdown object>"
      ]
     },
     "metadata": {},
     "output_type": "display_data"
    },
    {
     "data": {
      "text/markdown": [
       "[2024-06-22 15:39:16+00:00 M. Kraus & Co Sells 15 Shares of Eli Lilly and Company (NYSE:LLY)](https://www.etfdailynews.com/2024/06/22/m-kraus-co-sells-15-shares-of-eli-lilly-and-company-nyselly/)  "
      ],
      "text/plain": [
       "<IPython.core.display.Markdown object>"
      ]
     },
     "metadata": {},
     "output_type": "display_data"
    },
    {
     "data": {
      "text/markdown": [
       "[2024-06-23 17:26:45+00:00 MJP Associates Inc. ADV Buys 604 Shares of Eli Lilly and Company (NYSE:LLY)](https://www.etfdailynews.com/2024/06/23/mjp-associates-inc-adv-buys-604-shares-of-eli-lilly-and-company-nyselly/)  "
      ],
      "text/plain": [
       "<IPython.core.display.Markdown object>"
      ]
     },
     "metadata": {},
     "output_type": "display_data"
    },
    {
     "data": {
      "text/markdown": [
       "[2024-06-22 16:16:44+00:00 Marcum Wealth LLC Increases Position in Eli Lilly and Company (NYSE:LLY)](https://www.etfdailynews.com/2024/06/22/marcum-wealth-llc-increases-position-in-eli-lilly-and-company-nyselly/)  "
      ],
      "text/plain": [
       "<IPython.core.display.Markdown object>"
      ]
     },
     "metadata": {},
     "output_type": "display_data"
    },
    {
     "data": {
      "text/markdown": [
       "[2024-06-26 21:47:17.240639+00:00 Market Street Wealth Management Advisors LLC Raises Stock Position in Eli Lilly and Company (NYSE:LLY)](https://news.google.com/articles/CBMikAFodHRwczovL3d3dy5kZWZlbnNld29ybGQubmV0LzIwMjQvMDYvMjQvbWFya2V0LXN0cmVldC13ZWFsdGgtbWFuYWdlbWVudC1hZHZpc29ycy1sbGMtcmFpc2VzLXN0b2NrLXBvc2l0aW9uLWluLWVsaS1saWxseS1hbmQtY29tcGFueS1ueXNlbGx5Lmh0bWzSAQA)  "
      ],
      "text/plain": [
       "<IPython.core.display.Markdown object>"
      ]
     },
     "metadata": {},
     "output_type": "display_data"
    },
    {
     "data": {
      "text/markdown": [
       "[2024-06-21 04:33:00+00:00 Market Today: Eli Lilly's Tirzepatide Success, AeroVironment Faces Competition, and More](https://finnhub.io/api/news?id=64fe59b2c6b49524500b09758f76d216787b16523206b2d46b52ff52110f39b4)  "
      ],
      "text/plain": [
       "<IPython.core.display.Markdown object>"
      ]
     },
     "metadata": {},
     "output_type": "display_data"
    },
    {
     "data": {
      "text/markdown": [
       "[2024-06-26 21:47:17.240639+00:00 Mechanics Bank Trust Department Has $3.22 Million Position in Eli Lilly and Company (NYSE:LLY)](https://news.google.com/articles/CBMihwFodHRwczovL3d3dy5kZWZlbnNld29ybGQubmV0LzIwMjQvMDYvMjYvbWVjaGFuaWNzLWJhbmstdHJ1c3QtZGVwYXJ0bWVudC1oYXMtMy0yMi1taWxsaW9uLXBvc2l0aW9uLWluLWVsaS1saWxseS1hbmQtY29tcGFueS1ueXNlbGx5Lmh0bWzSAQA)  "
      ],
      "text/plain": [
       "<IPython.core.display.Markdown object>"
      ]
     },
     "metadata": {},
     "output_type": "display_data"
    },
    {
     "data": {
      "text/markdown": [
       "[2024-06-23 15:40:42+00:00 Meyer Handelman Co. Sells 919 Shares of Eli Lilly and Company (NYSE:LLY)](https://www.etfdailynews.com/2024/06/23/meyer-handelman-co-sells-919-shares-of-eli-lilly-and-company-nyselly/)  "
      ],
      "text/plain": [
       "<IPython.core.display.Markdown object>"
      ]
     },
     "metadata": {},
     "output_type": "display_data"
    },
    {
     "data": {
      "text/markdown": [
       "[2024-06-21 16:06:41+00:00 Montecito Bank & Trust Trims Stake in Eli Lilly and Company (NYSE:LLY)](https://www.etfdailynews.com/2024/06/21/montecito-bank-trust-trims-stake-in-eli-lilly-and-company-nyselly/)  "
      ],
      "text/plain": [
       "<IPython.core.display.Markdown object>"
      ]
     },
     "metadata": {},
     "output_type": "display_data"
    },
    {
     "data": {
      "text/markdown": [
       "[2024-06-20 13:50:41+00:00 Moody National Bank Trust Division Has $9.37 Million Stock Holdings in Eli Lilly and Company (NYSE:LLY)](https://www.etfdailynews.com/2024/06/20/moody-national-bank-trust-division-has-9-37-million-stock-holdings-in-eli-lilly-and-company-nyselly/)  "
      ],
      "text/plain": [
       "<IPython.core.display.Markdown object>"
      ]
     },
     "metadata": {},
     "output_type": "display_data"
    },
    {
     "data": {
      "text/markdown": [
       "[2024-06-26 21:47:17.447750+00:00 Mounjaro Is Targeting Another Multibillion-Dollar Market: Is Eli Lilly Stock a Buy?](https://finance.yahoo.com/m/1c9db29c-dab7-3502-9cbe-ebd278ad762c/mounjaro-is-targeting-another.html)  "
      ],
      "text/plain": [
       "<IPython.core.display.Markdown object>"
      ]
     },
     "metadata": {},
     "output_type": "display_data"
    },
    {
     "data": {
      "text/markdown": [
       "[2024-06-21 12:12:28+00:00 Move Aside Ozempic, WeGovy: Denmark's New Drug Just Showed Positive Results For Weightloss - Novo Nordisk  ( OTC:NONOF ) , Eli Lilly and Co  ( NYSE:LLY ) ](https://www.benzinga.com/general/biotech/24/06/39431082/move-aside-ozempic-wegovy-denmarks-new-drug-just-showed-positive-results-for-weightloss)  "
      ],
      "text/plain": [
       "<IPython.core.display.Markdown object>"
      ]
     },
     "metadata": {},
     "output_type": "display_data"
    },
    {
     "data": {
      "text/markdown": [
       "[2024-06-24 16:12:42+00:00 Murphy Pohlad Asset Management LLC Reduces Stock Holdings in Eli Lilly and Company (NYSE:LLY)](https://www.etfdailynews.com/2024/06/24/murphy-pohlad-asset-management-llc-reduces-stock-holdings-in-eli-lilly-and-company-nyselly/)  "
      ],
      "text/plain": [
       "<IPython.core.display.Markdown object>"
      ]
     },
     "metadata": {},
     "output_type": "display_data"
    },
    {
     "data": {
      "text/markdown": [
       "[2024-06-21 10:18:15+00:00 Nestle Carefully Targets Weight-Loss Drug Users with New Food Line - Novo Nordisk  ( NYSE:NVO ) , Eli Lilly and Co  ( NYSE:LLY ) , Nestle  ( OTC:NSRGY ) ](https://www.benzinga.com/general/biotech/24/06/39429336/nestle-carefully-targets-weight-loss-drug-users-with-new-food-line)  "
      ],
      "text/plain": [
       "<IPython.core.display.Markdown object>"
      ]
     },
     "metadata": {},
     "output_type": "display_data"
    },
    {
     "data": {
      "text/markdown": [
       "[2024-06-21 15:28:42+00:00 New Hampshire Trust Purchases 28 Shares of Eli Lilly and Company (NYSE:LLY)](https://www.etfdailynews.com/2024/06/21/new-hampshire-trust-purchases-28-shares-of-eli-lilly-and-company-nyselly/)  "
      ],
      "text/plain": [
       "<IPython.core.display.Markdown object>"
      ]
     },
     "metadata": {},
     "output_type": "display_data"
    },
    {
     "data": {
      "text/markdown": [
       "[2024-06-26 21:47:17.447703+00:00 Novo Nordisk, Eli Lilly still top 2 pharma stocks: Analyst](https://finance.yahoo.com/video/novo-nordisk-eli-lilly-still-144857840.html)  "
      ],
      "text/plain": [
       "<IPython.core.display.Markdown object>"
      ]
     },
     "metadata": {},
     "output_type": "display_data"
    },
    {
     "data": {
      "text/markdown": [
       "[2024-06-21 15:54:00+00:00 Obesity drug used in Mounjaro and Zepbound may help treat dangerous sleep apnea](https://finnhub.io/api/news?id=57892973e2ce234152cf31f6cb90dea3721b79b1f8c797678be411792e8bd75a)  "
      ],
      "text/plain": [
       "<IPython.core.display.Markdown object>"
      ]
     },
     "metadata": {},
     "output_type": "display_data"
    },
    {
     "data": {
      "text/markdown": [
       "[2024-06-24 12:11:00+00:00 Obesity drugs from Altimmune, Hengrui show potential; Lilly details Zepbound sleep apnea data](https://finnhub.io/api/news?id=20b2d5482f9888e48e45718cff0150e0bb7dd55ba4871ac20bf6fba77c713824)  "
      ],
      "text/plain": [
       "<IPython.core.display.Markdown object>"
      ]
     },
     "metadata": {},
     "output_type": "display_data"
    },
    {
     "data": {
      "text/markdown": [
       "[2024-06-26 21:47:17.240639+00:00 Orser Capital Management LLC Purchases 36 Shares of Eli Lilly and Company (NYSE:LLY)](https://news.google.com/articles/CBMifmh0dHBzOi8vd3d3LmRlZmVuc2V3b3JsZC5uZXQvMjAyNC8wNi8yNC9vcnNlci1jYXBpdGFsLW1hbmFnZW1lbnQtbGxjLXB1cmNoYXNlcy0zNi1zaGFyZXMtb2YtZWxpLWxpbGx5LWFuZC1jb21wYW55LW55c2VsbHkuaHRtbNIBAA)  "
      ],
      "text/plain": [
       "<IPython.core.display.Markdown object>"
      ]
     },
     "metadata": {},
     "output_type": "display_data"
    },
    {
     "data": {
      "text/markdown": [
       "[2024-06-22 16:16:45+00:00 PPS&V Asset Management Consultants Inc. Sells 24 Shares of Eli Lilly and Company (NYSE:LLY)](https://www.etfdailynews.com/2024/06/22/ppsv-asset-management-consultants-inc-sells-24-shares-of-eli-lilly-and-company-nyselly/)  "
      ],
      "text/plain": [
       "<IPython.core.display.Markdown object>"
      ]
     },
     "metadata": {},
     "output_type": "display_data"
    },
    {
     "data": {
      "text/markdown": [
       "[2024-06-25 17:04:45+00:00 Pacifica Partners Inc. Has $510,000 Stock Position in Eli Lilly and Company (NYSE:LLY)](https://www.etfdailynews.com/2024/06/25/pacifica-partners-inc-has-510000-stock-position-in-eli-lilly-and-company-nyselly/)  "
      ],
      "text/plain": [
       "<IPython.core.display.Markdown object>"
      ]
     },
     "metadata": {},
     "output_type": "display_data"
    },
    {
     "data": {
      "text/markdown": [
       "[2024-06-26 21:47:17.240639+00:00 Peak Financial Advisors LLC Decreases Holdings in Eli Lilly and Company (NYSE:LLY)](https://news.google.com/articles/CBMifGh0dHBzOi8vd3d3LmRlZmVuc2V3b3JsZC5uZXQvMjAyNC8wNi8yNS9wZWFrLWZpbmFuY2lhbC1hZHZpc29ycy1sbGMtZGVjcmVhc2VzLWhvbGRpbmdzLWluLWVsaS1saWxseS1hbmQtY29tcGFueS1ueXNlbGx5Lmh0bWzSAQA)  "
      ],
      "text/plain": [
       "<IPython.core.display.Markdown object>"
      ]
     },
     "metadata": {},
     "output_type": "display_data"
    },
    {
     "data": {
      "text/markdown": [
       "[2024-06-26 21:47:17.240639+00:00 RFG Advisory LLC Has $5.06 Million Stock Position in Eli Lilly and Company (NYSE:LLY)](https://news.google.com/articles/CBMifmh0dHBzOi8vd3d3LmRlZmVuc2V3b3JsZC5uZXQvMjAyNC8wNi8yMy9yZmctYWR2aXNvcnktbGxjLWhhcy01LTA2LW1pbGxpb24tc3RvY2stcG9zaXRpb24taW4tZWxpLWxpbGx5LWFuZC1jb21wYW55LW55c2VsbHkuaHRtbNIBAA)  "
      ],
      "text/plain": [
       "<IPython.core.display.Markdown object>"
      ]
     },
     "metadata": {},
     "output_type": "display_data"
    },
    {
     "data": {
      "text/markdown": [
       "[2024-06-26 21:47:17.240639+00:00 Radnor Capital Management LLC Trims Position in Eli Lilly and Company (NYSE:LLY)](https://news.google.com/articles/CBMiemh0dHBzOi8vd3d3LmRlZmVuc2V3b3JsZC5uZXQvMjAyNC8wNi8yNC9yYWRub3ItY2FwaXRhbC1tYW5hZ2VtZW50LWxsYy10cmltcy1wb3NpdGlvbi1pbi1lbGktbGlsbHktYW5kLWNvbXBhbnktbnlzZWxseS5odG1s0gEA)  "
      ],
      "text/plain": [
       "<IPython.core.display.Markdown object>"
      ]
     },
     "metadata": {},
     "output_type": "display_data"
    },
    {
     "data": {
      "text/markdown": [
       "[2024-06-26 21:47:17.240639+00:00 Range Financial Group LLC Acquires 60 Shares of Eli Lilly and Company (NYSE:LLY)](https://news.google.com/articles/CBMiemh0dHBzOi8vd3d3LmRlZmVuc2V3b3JsZC5uZXQvMjAyNC8wNi8yNS9yYW5nZS1maW5hbmNpYWwtZ3JvdXAtbGxjLWFjcXVpcmVzLTYwLXNoYXJlcy1vZi1lbGktbGlsbHktYW5kLWNvbXBhbnktbnlzZWxseS5odG1s0gEA)  "
      ],
      "text/plain": [
       "<IPython.core.display.Markdown object>"
      ]
     },
     "metadata": {},
     "output_type": "display_data"
    },
    {
     "data": {
      "text/markdown": [
       "[2024-06-26 21:47:17.240639+00:00 ResMed Stock Collapses After Eli Lilly's Weight-Loss Drug Reduces Sleep Apnea Events](https://news.google.com/articles/CBMigwFodHRwczovL3d3dy5pbnZlc3RvcnMuY29tL25ld3MvdGVjaG5vbG9neS9yZXNtZWQtc3RvY2staW5zcGlyZS1tZWRpY2FsLXN5c3RlbXMtc3RvY2stb2JzdHJ1Y3RpdmUtc2xlZXAtYXBuZWEtZWxpLWxpbGx5LXdlaWdodC1sb3NzL9IBAA)  "
      ],
      "text/plain": [
       "<IPython.core.display.Markdown object>"
      ]
     },
     "metadata": {},
     "output_type": "display_data"
    },
    {
     "data": {
      "text/markdown": [
       "[2024-06-26 21:47:17.447725+00:00 ResMed Stock Dives. Blame Eli Lillys Zepbound Trials for Sleep Apnea.](https://finance.yahoo.com/m/8ee8ce4d-a010-3f7b-b1de-5f4a79c1fede/resmed-stock-dives.-blame-eli.html)  "
      ],
      "text/plain": [
       "<IPython.core.display.Markdown object>"
      ]
     },
     "metadata": {},
     "output_type": "display_data"
    },
    {
     "data": {
      "text/markdown": [
       "[2024-06-24 13:54:00+00:00 ResMed Stock Dives. Blame Eli Lilly’s Zepbound Trials for Sleep Apnea.](https://finnhub.io/api/news?id=0c5aac27517abe7c9c6fc226e1308708d35db212b784d4654bf28adf6b08ff45)  "
      ],
      "text/plain": [
       "<IPython.core.display.Markdown object>"
      ]
     },
     "metadata": {},
     "output_type": "display_data"
    },
    {
     "data": {
      "text/markdown": [
       "[2024-06-26 21:47:17.447731+00:00 ResMed Stock Is Sinking. Blame Eli Lillys Zepbound Trials for Sleep Apnea.](https://finance.yahoo.com/m/b5888f6e-8324-3393-bc72-48b3dafe0fb0/resmed-stock-is-sinking..html)  "
      ],
      "text/plain": [
       "<IPython.core.display.Markdown object>"
      ]
     },
     "metadata": {},
     "output_type": "display_data"
    },
    {
     "data": {
      "text/markdown": [
       "[2024-06-26 21:47:17.447732+00:00 ResMed Stock Is Sinking. Blame Lillys Zepbound Trials for Sleep Apnea.](https://finance.yahoo.com/m/8ee8ce4d-a010-3f7b-b1de-5f4a79c1fede/resmed-stock-is-sinking..html)  "
      ],
      "text/plain": [
       "<IPython.core.display.Markdown object>"
      ]
     },
     "metadata": {},
     "output_type": "display_data"
    },
    {
     "data": {
      "text/markdown": [
       "[2024-06-25 12:41:00+00:00 ResMed cut at Oppenheimer after Eli Lilly’s tirzepatide sleep apnea data](https://finnhub.io/api/news?id=2db8b029c6fd72fe5ed95ea5019a4ca9789076723deb5dadc52323249ab49f4f)  "
      ],
      "text/plain": [
       "<IPython.core.display.Markdown object>"
      ]
     },
     "metadata": {},
     "output_type": "display_data"
    },
    {
     "data": {
      "text/markdown": [
       "[2024-06-21 02:56:00+00:00 ResMed shares slip after Eli Lilly reports sleep apnea study data](https://finnhub.io/api/news?id=93c90ebde04d15688400305c0a7b0218ffe220f18d8a8004a751a6fa32a26b97)  "
      ],
      "text/plain": [
       "<IPython.core.display.Markdown object>"
      ]
     },
     "metadata": {},
     "output_type": "display_data"
    },
    {
     "data": {
      "text/markdown": [
       "[2024-06-22 07:31:00+00:00 ResMed, Philips under pressure as Eli Lilly seeks sleep indication for weight loss drug](https://finnhub.io/api/news?id=4b18da4dc72265e53a2ce92f247834098bda02a74b113179d8048e48b39ac846)  "
      ],
      "text/plain": [
       "<IPython.core.display.Markdown object>"
      ]
     },
     "metadata": {},
     "output_type": "display_data"
    },
    {
     "data": {
      "text/markdown": [
       "[2024-06-23 18:02:44+00:00 Rockland Trust Co. Sells 338 Shares of Eli Lilly and Company (NYSE:LLY)](https://www.etfdailynews.com/2024/06/23/rockland-trust-co-sells-338-shares-of-eli-lilly-and-company-nyselly/)  "
      ],
      "text/plain": [
       "<IPython.core.display.Markdown object>"
      ]
     },
     "metadata": {},
     "output_type": "display_data"
    },
    {
     "data": {
      "text/markdown": [
       "[2024-06-26 21:47:17.240639+00:00 Shilanski & Associates Inc. Cuts Stake in Eli Lilly and Company (NYSE:LLY)](https://news.google.com/articles/CBMicWh0dHBzOi8vd3d3LmRlZmVuc2V3b3JsZC5uZXQvMjAyNC8wNi8yMy9zaGlsYW5za2ktYXNzb2NpYXRlcy1pbmMtY3V0cy1zdGFrZS1pbi1lbGktbGlsbHktYW5kLWNvbXBhbnktbnlzZWxseS5odG1s0gEA)  "
      ],
      "text/plain": [
       "<IPython.core.display.Markdown object>"
      ]
     },
     "metadata": {},
     "output_type": "display_data"
    },
    {
     "data": {
      "text/markdown": [
       "[2024-06-26 21:47:17.240639+00:00 Southland Equity Partners LLC Grows Holdings in Eli Lilly and Company (NYSE:LLY)](https://news.google.com/articles/CBMiemh0dHBzOi8vd3d3LmRlZmVuc2V3b3JsZC5uZXQvMjAyNC8wNi8yNS9zb3V0aGxhbmQtZXF1aXR5LXBhcnRuZXJzLWxsYy1ncm93cy1ob2xkaW5ncy1pbi1lbGktbGlsbHktYW5kLWNvbXBhbnktbnlzZWxseS5odG1s0gEA)  "
      ],
      "text/plain": [
       "<IPython.core.display.Markdown object>"
      ]
     },
     "metadata": {},
     "output_type": "display_data"
    },
    {
     "data": {
      "text/markdown": [
       "[2024-06-21 12:32:46+00:00 Stableford Capital II LLC Acquires 635 Shares of Eli Lilly and Company (NYSE:LLY)](https://www.etfdailynews.com/2024/06/21/stableford-capital-ii-llc-acquires-635-shares-of-eli-lilly-and-company-nyselly/)  "
      ],
      "text/plain": [
       "<IPython.core.display.Markdown object>"
      ]
     },
     "metadata": {},
     "output_type": "display_data"
    },
    {
     "data": {
      "text/markdown": [
       "[2024-06-26 21:47:17.240639+00:00 Sunflower Bank N.A. Lowers Position in Eli Lilly and Company (NYSE:LLY)](https://news.google.com/articles/CBMicGh0dHBzOi8vd3d3LmRlZmVuc2V3b3JsZC5uZXQvMjAyNC8wNi8yMi9zdW5mbG93ZXItYmFuay1uLWEtbG93ZXJzLXBvc2l0aW9uLWluLWVsaS1saWxseS1hbmQtY29tcGFueS1ueXNlbGx5Lmh0bWzSAQA)  "
      ],
      "text/plain": [
       "<IPython.core.display.Markdown object>"
      ]
     },
     "metadata": {},
     "output_type": "display_data"
    },
    {
     "data": {
      "text/markdown": [
       "[2024-06-21 11:59:00+00:00 The Zacks Analyst Blog Highlights Pfizer, Johnson & Johnson and Eli Lilly](https://www.zacks.com/stock/news/2291339/the-zacks-analyst-blog-highlights-pfizer-johnson-johnson-and-eli-lilly)  "
      ],
      "text/plain": [
       "<IPython.core.display.Markdown object>"
      ]
     },
     "metadata": {},
     "output_type": "display_data"
    },
    {
     "data": {
      "text/markdown": [
       "[2024-06-21 19:31:14+00:00 The Zacks Analyst Blog Highlights Pfizer, Johnson & Johnson and Eli Lilly - Johnson & Johnson  ( NYSE:JNJ ) , Eli Lilly and Co  ( NYSE:LLY ) ](https://www.benzinga.com/general/biotech/24/06/39432381/the-zacks-analyst-blog-highlights-pfizer-johnson-johnson-and-eli-lilly)  "
      ],
      "text/plain": [
       "<IPython.core.display.Markdown object>"
      ]
     },
     "metadata": {},
     "output_type": "display_data"
    },
    {
     "data": {
      "text/markdown": [
       "[2024-06-24 10:33:00+00:00 These Stocks Are Moving the Most Today: Apple, Meta, Trump Media, RXO, Eli Lilly, ResMed, Under Armour, and More](https://finnhub.io/api/news?id=61aaf69fd03e4fd7d2494a7d69dc6814f1caf9000dcbc8e8e307c96ddacba60a)  "
      ],
      "text/plain": [
       "<IPython.core.display.Markdown object>"
      ]
     },
     "metadata": {},
     "output_type": "display_data"
    },
    {
     "data": {
      "text/markdown": [
       "[2024-06-26 21:47:17.447749+00:00 Thinking of Buying Madrigal Pharmaceuticals Stock? Eli Lilly Would Like to Have a Word.](https://finance.yahoo.com/m/a037cb37-74ab-3127-a591-b4e02e03cd38/thinking-of-buying-madrigal.html)  "
      ],
      "text/plain": [
       "<IPython.core.display.Markdown object>"
      ]
     },
     "metadata": {},
     "output_type": "display_data"
    },
    {
     "data": {
      "text/markdown": [
       "[2024-06-25 08:54:00+00:00 This Is What Whales Are Betting On Eli Lilly and Co](https://finnhub.io/api/news?id=e56e49752319f54c81782d598121fe9ff9cf8f0faa034578bb505362eb4b3bda)  "
      ],
      "text/plain": [
       "<IPython.core.display.Markdown object>"
      ]
     },
     "metadata": {},
     "output_type": "display_data"
    },
    {
     "data": {
      "text/markdown": [
       "[2024-06-25 13:48:07+00:00 This Is What Whales Are Betting On Eli Lilly and Co - Eli Lilly and Co  ( NYSE:LLY ) ](https://www.benzinga.com/insights/options/24/06/39480553/this-is-what-whales-are-betting-on-eli-lilly-and-co)  "
      ],
      "text/plain": [
       "<IPython.core.display.Markdown object>"
      ]
     },
     "metadata": {},
     "output_type": "display_data"
    },
    {
     "data": {
      "text/markdown": [
       "[2024-06-26 21:47:17.240639+00:00 This Is What Whales Are Betting On Eli Lilly and Co - Eli Lilly and Co (NYSE:LLY)](https://news.google.com/articles/CBMibGh0dHBzOi8vd3d3LmJlbnppbmdhLmNvbS9pbnNpZ2h0cy9vcHRpb25zLzI0LzA2LzM5NDgwNTUzL3RoaXMtaXMtd2hhdC13aGFsZXMtYXJlLWJldHRpbmctb24tZWxpLWxpbGx5LWFuZC1jb9IBAA)  "
      ],
      "text/plain": [
       "<IPython.core.display.Markdown object>"
      ]
     },
     "metadata": {},
     "output_type": "display_data"
    },
    {
     "data": {
      "text/markdown": [
       "[2024-06-22 16:16:45+00:00 Threadgill Financial LLC Sells 225 Shares of Eli Lilly and Company (NYSE:LLY)](https://www.etfdailynews.com/2024/06/22/threadgill-financial-llc-sells-225-shares-of-eli-lilly-and-company-nyselly/)  "
      ],
      "text/plain": [
       "<IPython.core.display.Markdown object>"
      ]
     },
     "metadata": {},
     "output_type": "display_data"
    },
    {
     "data": {
      "text/markdown": [
       "[2024-06-26 21:47:17.447734+00:00 Three-Stock Lunch: Nvidia, Eli Lilly](https://www.youtube.com/watch?v=Xbfto0Up2no)  "
      ],
      "text/plain": [
       "<IPython.core.display.Markdown object>"
      ]
     },
     "metadata": {},
     "output_type": "display_data"
    },
    {
     "data": {
      "text/markdown": [
       "[2024-06-20 17:14:42+00:00 Tompkins Financial Corp Has $24 Million Position in Eli Lilly and Company (NYSE:LLY)](https://www.etfdailynews.com/2024/06/20/tompkins-financial-corp-has-24-million-position-in-eli-lilly-and-company-nyselly/)  "
      ],
      "text/plain": [
       "<IPython.core.display.Markdown object>"
      ]
     },
     "metadata": {},
     "output_type": "display_data"
    },
    {
     "data": {
      "text/markdown": [
       "[2024-06-26 21:47:17.240639+00:00 Traynor Capital Management Inc. Boosts Position in Eli Lilly and Company (NYSE:LLY)](https://news.google.com/articles/CBMifGh0dHBzOi8vd3d3LmRlZmVuc2V3b3JsZC5uZXQvMjAyNC8wNi8yNS90cmF5bm9yLWNhcGl0YWwtbWFuYWdlbWVudC1pbmMtYm9vc3RzLXBvc2l0aW9uLWluLWVsaS1saWxseS1hbmQtY29tcGFueS1ueXNlbGx5Lmh0bWzSAQA)  "
      ],
      "text/plain": [
       "<IPython.core.display.Markdown object>"
      ]
     },
     "metadata": {},
     "output_type": "display_data"
    },
    {
     "data": {
      "text/markdown": [
       "[2024-06-24 14:20:18+00:00 Trending : Lilly Anti-Obesity Drug Tirzepatide Reduces Sleep Apnea Severity in Studies](https://finnhub.io/api/news?id=9c5991d97720fbe9f88067b2845a0e3a611135812d674a229297e3b9857b3292)  "
      ],
      "text/plain": [
       "<IPython.core.display.Markdown object>"
      ]
     },
     "metadata": {},
     "output_type": "display_data"
    },
    {
     "data": {
      "text/markdown": [
       "[2024-06-23 11:12:41+00:00 Triangle Securities Wealth Management Reduces Position in Eli Lilly and Company (NYSE:LLY)](https://www.etfdailynews.com/2024/06/23/triangle-securities-wealth-management-reduces-position-in-eli-lilly-and-company-nyselly/)  "
      ],
      "text/plain": [
       "<IPython.core.display.Markdown object>"
      ]
     },
     "metadata": {},
     "output_type": "display_data"
    },
    {
     "data": {
      "text/markdown": [
       "[2024-06-25 06:27:00+00:00 Truist Financial Reaffirms Their Buy Rating on Eli Lilly & Co (LLY)](https://finnhub.io/api/news?id=f505aeabaf32756cac681eedf4047585f6da0e3ee6fbbb0537762e43b7b9dfe3)  "
      ],
      "text/plain": [
       "<IPython.core.display.Markdown object>"
      ]
     },
     "metadata": {},
     "output_type": "display_data"
    },
    {
     "data": {
      "text/markdown": [
       "[2024-06-26 21:47:17.240639+00:00 Unique Wealth LLC Takes Position in Eli Lilly and Company (NYSE:LLY)](https://news.google.com/articles/CBMibmh0dHBzOi8vd3d3LmRlZmVuc2V3b3JsZC5uZXQvMjAyNC8wNi8yNC91bmlxdWUtd2VhbHRoLWxsYy10YWtlcy1wb3NpdGlvbi1pbi1lbGktbGlsbHktYW5kLWNvbXBhbnktbnlzZWxseS5odG1s0gEA)  "
      ],
      "text/plain": [
       "<IPython.core.display.Markdown object>"
      ]
     },
     "metadata": {},
     "output_type": "display_data"
    },
    {
     "data": {
      "text/markdown": [
       "[2024-06-20 14:04:48+00:00 Unusual Put Option Trade in Eli Lilly and (LLY)  Worth $2,895.00K](https://finnhub.io/api/news?id=2df5eb3c0e7c448db5a9f65c4f3a2c5c03cf4071a1c64c7961743dddf40d2ace)  "
      ],
      "text/plain": [
       "<IPython.core.display.Markdown object>"
      ]
     },
     "metadata": {},
     "output_type": "display_data"
    },
    {
     "data": {
      "text/markdown": [
       "[2024-06-26 21:47:17.240639+00:00 Up 400% In 3 Years, Eli Lilly Stock Just Keeps Giving](https://news.google.com/articles/CBMicmh0dHBzOi8vd3d3LmZvcmJlcy5jb20vc2l0ZXMvZ3JlYXRzcGVjdWxhdGlvbnMvMjAyNC8wNi8wNy91cC00MDAtaW4tdGhyZWUteWVhcnMtZWxpLWxpbGx5LXN0b2NrLWp1c3Qta2VlcHMtZ2l2aW5nL9IBAA)  "
      ],
      "text/plain": [
       "<IPython.core.display.Markdown object>"
      ]
     },
     "metadata": {},
     "output_type": "display_data"
    },
    {
     "data": {
      "text/markdown": [
       "[2024-06-26 21:47:17.447740+00:00 WHO and Eli Lilly caution patients against falling for fake versions of popular weight-loss drugs](https://finance.yahoo.com/news/eli-lilly-caution-patients-against-180741023.html)  "
      ],
      "text/plain": [
       "<IPython.core.display.Markdown object>"
      ]
     },
     "metadata": {},
     "output_type": "display_data"
    },
    {
     "data": {
      "text/markdown": [
       "[2024-06-21 15:45:00+00:00 Weight-loss drug Zepbound resolves sleep apnea in up to 52% of patients, Lilly says](https://finnhub.io/api/news?id=c4fe5ca5dee68582be781e2bb71d59cc103889fc790d6b2ff1f35bd94f3e0859)  "
      ],
      "text/plain": [
       "<IPython.core.display.Markdown object>"
      ]
     },
     "metadata": {},
     "output_type": "display_data"
    },
    {
     "data": {
      "text/markdown": [
       "[2024-06-21 15:28:42+00:00 Welch Group LLC Has $4.62 Million Stock Holdings in Eli Lilly and Company (NYSE:LLY)](https://www.etfdailynews.com/2024/06/21/welch-group-llc-has-4-62-million-stock-holdings-in-eli-lilly-and-company-nyselly/)  "
      ],
      "text/plain": [
       "<IPython.core.display.Markdown object>"
      ]
     },
     "metadata": {},
     "output_type": "display_data"
    },
    {
     "data": {
      "text/markdown": [
       "[2024-06-26 21:47:17.447729+00:00 What Makes Eli Lilly & Company (LLY) a Hot Healthcare Stock Right Now?](https://www.insidermonkey.com/blog/what-makes-eli-lilly-company-lly-a-hot-healthcare-stock-right-now-1317293/)  "
      ],
      "text/plain": [
       "<IPython.core.display.Markdown object>"
      ]
     },
     "metadata": {},
     "output_type": "display_data"
    },
    {
     "data": {
      "text/markdown": [
       "[2024-06-24 20:18:06+00:00 What's Going On With Eli Lilly Shares Monday? - Eli Lilly and Co  ( NYSE:LLY ) ](https://www.benzinga.com/news/24/06/39466189/whats-going-on-with-eli-lilly-shares-monday)  "
      ],
      "text/plain": [
       "<IPython.core.display.Markdown object>"
      ]
     },
     "metadata": {},
     "output_type": "display_data"
    },
    {
     "data": {
      "text/markdown": [
       "[2024-06-24 12:29:43+00:00 What's Going On With Eli Lilly Stock On Monday? - Eli Lilly and Co  ( NYSE:LLY ) ](https://www.benzinga.com/general/biotech/24/06/39454632/eli-lillys-zepbound-for-weight-loss-shows-disease-resolution-in-obese-sleep-apnea-patients-lays-f)  "
      ],
      "text/plain": [
       "<IPython.core.display.Markdown object>"
      ]
     },
     "metadata": {},
     "output_type": "display_data"
    },
    {
     "data": {
      "text/markdown": [
       "[2024-06-25 11:56:00+00:00 What's Going On With Eli Lilly Stock On Tuesday?](https://finnhub.io/api/news?id=c9326fd7b57b1c5eaa0922367988f0ccc8bb05e82862f431e812ece43d83bb36)  "
      ],
      "text/plain": [
       "<IPython.core.display.Markdown object>"
      ]
     },
     "metadata": {},
     "output_type": "display_data"
    },
    {
     "data": {
      "text/markdown": [
       "[2024-06-25 16:50:29+00:00 What's Going On With Eli Lilly Stock On Tuesday? - Eli Lilly and Co  ( NYSE:LLY ) ](https://www.benzinga.com/general/biotech/24/06/39485742/whats-going-on-with-eli-lilly-stock-on-tuesday)  "
      ],
      "text/plain": [
       "<IPython.core.display.Markdown object>"
      ]
     },
     "metadata": {},
     "output_type": "display_data"
    },
    {
     "data": {
      "text/markdown": [
       "[2024-06-26 21:47:17.240639+00:00 What's Going On With Eli Lilly Stock On Tuesday? - Eli Lilly and Co (NYSE:LLY)](https://news.google.com/articles/CBMiZmh0dHBzOi8vd3d3LmJlbnppbmdhLmNvbS9nZW5lcmFsL2Jpb3RlY2gvMjQvMDYvMzk0ODU3NDIvd2hhdHMtZ29pbmctb24td2l0aC1lbGktbGlsbHktc3RvY2stb24tdHVlc2RhedIBAA)  "
      ],
      "text/plain": [
       "<IPython.core.display.Markdown object>"
      ]
     },
     "metadata": {},
     "output_type": "display_data"
    },
    {
     "data": {
      "text/markdown": [
       "[2024-06-26 21:47:17.447705+00:00 Why Drugmaker Eli Lilly Is Partnering With ChatGPT Maker OpenAI](https://www.investopedia.com/why-drugmaker-eli-lilly-is-partnering-with-chatgpt-maker-openai-8668887)  "
      ],
      "text/plain": [
       "<IPython.core.display.Markdown object>"
      ]
     },
     "metadata": {},
     "output_type": "display_data"
    },
    {
     "data": {
      "text/markdown": [
       "[2024-06-26 21:47:17.447758+00:00 Why Eli Lilly (LLY) is a Top Momentum Stock for the Long-Term](https://www.zacks.com/stock/news/2287885/why-eli-lilly-lly-is-a-top-momentum-stock-for-the-long-term)  "
      ],
      "text/plain": [
       "<IPython.core.display.Markdown object>"
      ]
     },
     "metadata": {},
     "output_type": "display_data"
    },
    {
     "data": {
      "text/markdown": [
       "[2024-06-26 21:47:17.447728+00:00 Why a Pair of Eli Lilly Clinical Trials Sent ResMed Stock Tumbling](https://www.investopedia.com/why-a-pair-of-eli-lilly-clinical-trials-sent-resmed-stock-tumbling-8668009)  "
      ],
      "text/plain": [
       "<IPython.core.display.Markdown object>"
      ]
     },
     "metadata": {},
     "output_type": "display_data"
    },
    {
     "data": {
      "text/markdown": [
       "[2024-06-26 21:47:17.240639+00:00 Will Novo Nordisk Building Fires Serve As A Catalyst For Eli Lilly? Redditors See A Stock Split For US Company 'Very ...](https://news.google.com/articles/CBMimQFodHRwczovL3d3dy5iZW56aW5nYS5jb20vZ2VuZXJhbC9iaW90ZWNoLzI0LzA2LzM5NDYzNzU4L3dpbGwtbm92by1ub3JkaXNrLWJ1aWxkaW5nLWZpcmVzLXNlcnZlLWFzLWEtY2F0YWx5c3QtZm9yLWVsaS1saWxseS1yZWRkaXRvcnMtc2VlLWEtc3RvY2stc3BsaXQtZm_SAQA)  "
      ],
      "text/plain": [
       "<IPython.core.display.Markdown object>"
      ]
     },
     "metadata": {},
     "output_type": "display_data"
    },
    {
     "data": {
      "text/markdown": [
       "[2024-06-24 18:16:20+00:00 Will Novo Nordisk Building Fires Serve As A Catalyst For Eli Lilly? Redditors See A Stock Split For US Company 'Very Likely'](https://biztoc.com/x/bf1cacadcdd2dad8)  "
      ],
      "text/plain": [
       "<IPython.core.display.Markdown object>"
      ]
     },
     "metadata": {},
     "output_type": "display_data"
    },
    {
     "data": {
      "text/markdown": [
       "[2024-06-24 18:08:51+00:00 Will Novo Nordisk Building Fires Serve As A Catalyst For Eli Lilly? Redditors See A Stock Split For US Company 'Very Likely' - Novo Nordisk  ( NYSE:NVO ) , Eli Lilly and Co  ( NYSE:LLY ) ](https://www.benzinga.com/general/biotech/24/06/39463758/will-novo-nordisk-building-fires-serve-as-a-catalyst-for-eli-lilly-redditors-see-a-stock-split-fo)  "
      ],
      "text/plain": [
       "<IPython.core.display.Markdown object>"
      ]
     },
     "metadata": {},
     "output_type": "display_data"
    },
    {
     "data": {
      "text/markdown": [
       "[2024-06-21 11:56:49+00:00 Woodstock Corp Buys 31 Shares of Eli Lilly and Company (NYSE:LLY)](https://www.etfdailynews.com/2024/06/21/woodstock-corp-buys-31-shares-of-eli-lilly-and-company-nyselly/)  "
      ],
      "text/plain": [
       "<IPython.core.display.Markdown object>"
      ]
     },
     "metadata": {},
     "output_type": "display_data"
    },
    {
     "data": {
      "text/markdown": [
       "[2024-06-26 14:55:01+00:00 Yahoo Video: Novo Nordisk, Eli Lilly still top 2 pharma stocks: Analyst](https://finance.yahoo.com/news/yahoo-video-novo-nordisk-eli-145501523.html)  "
      ],
      "text/plain": [
       "<IPython.core.display.Markdown object>"
      ]
     },
     "metadata": {},
     "output_type": "display_data"
    }
   ],
   "source": [
    "for row in merged_df.loc[merged_df['related']].itertuples():\n",
    "    display(Markdown(f\"[{row.date} {row.title}]({row.url})  \"))\n"
   ]
  },
  {
   "cell_type": "code",
   "execution_count": 53,
   "id": "d3aeefb3",
   "metadata": {},
   "outputs": [
    {
     "data": {
      "text/markdown": [
       "[2024-06-26 21:47:17.447758+00:00 Why Eli Lilly (LLY) is a Top Momentum Stock for the Long-Term](https://www.zacks.com/stock/news/2287885/why-eli-lilly-lly-is-a-top-momentum-stock-for-the-long-term)  "
      ],
      "text/plain": [
       "<IPython.core.display.Markdown object>"
      ]
     },
     "metadata": {},
     "output_type": "display_data"
    },
    {
     "data": {
      "text/markdown": [
       "[2024-06-26 21:47:17.447757+00:00 Lillys Weight-Loss Drug Is a Huge Hit. Its CEO Wants to Replace It ASAP.](https://finance.yahoo.com/m/f725b402-9d2b-3ac4-9d85-2482b9850f42/lilly%E2%80%99s-weight-loss-drug-is-a.html)  "
      ],
      "text/plain": [
       "<IPython.core.display.Markdown object>"
      ]
     },
     "metadata": {},
     "output_type": "display_data"
    },
    {
     "data": {
      "text/markdown": [
       "[2024-06-26 21:47:17.447755+00:00 Eli Lilly wants to replace Zepbound with an even stronger weight loss drug](https://qz.com/eli-lilly-successor-1851540206)  "
      ],
      "text/plain": [
       "<IPython.core.display.Markdown object>"
      ]
     },
     "metadata": {},
     "output_type": "display_data"
    },
    {
     "data": {
      "text/markdown": [
       "[2024-06-26 21:47:17.447755+00:00 Eli Lilly and Novo Nordisk are a 'duopoly' in GLP-1 market](https://finance.yahoo.com/video/eli-lilly-novo-nordisk-duopoly-155816856.html)  "
      ],
      "text/plain": [
       "<IPython.core.display.Markdown object>"
      ]
     },
     "metadata": {},
     "output_type": "display_data"
    },
    {
     "data": {
      "text/markdown": [
       "[2024-06-26 21:47:17.447754+00:00 Food companies worried about weight loss drugs can just make healthier food, Eli Lilly CEO says](https://qz.com/weight-loss-drugs-food-companies-eli-lilly-zepbound-1851540483)  "
      ],
      "text/plain": [
       "<IPython.core.display.Markdown object>"
      ]
     },
     "metadata": {},
     "output_type": "display_data"
    },
    {
     "data": {
      "text/markdown": [
       "[2024-06-26 21:47:17.447753+00:00 Eli Lilly unveils new manufacturing plant for GLP-1 pens](https://finance.yahoo.com/news/eli-lilly-unveils-new-manufacturing-plant-for-glp-1-pens-200808212.html)  "
      ],
      "text/plain": [
       "<IPython.core.display.Markdown object>"
      ]
     },
     "metadata": {},
     "output_type": "display_data"
    },
    {
     "data": {
      "text/markdown": [
       "[2024-06-26 21:47:17.447750+00:00 Eli Lilly Scores Another Major Win and Lines Up Its Next Blockbuster](https://finance.yahoo.com/m/5c9b9df2-f1a4-3c97-871c-f77e202bf707/eli-lilly-scores-another.html)  "
      ],
      "text/plain": [
       "<IPython.core.display.Markdown object>"
      ]
     },
     "metadata": {},
     "output_type": "display_data"
    },
    {
     "data": {
      "text/markdown": [
       "[2024-06-26 21:47:17.447750+00:00 Mounjaro Is Targeting Another Multibillion-Dollar Market: Is Eli Lilly Stock a Buy?](https://finance.yahoo.com/m/1c9db29c-dab7-3502-9cbe-ebd278ad762c/mounjaro-is-targeting-another.html)  "
      ],
      "text/plain": [
       "<IPython.core.display.Markdown object>"
      ]
     },
     "metadata": {},
     "output_type": "display_data"
    },
    {
     "data": {
      "text/markdown": [
       "[2024-06-26 21:47:17.447749+00:00 Thinking of Buying Madrigal Pharmaceuticals Stock? Eli Lilly Would Like to Have a Word.](https://finance.yahoo.com/m/a037cb37-74ab-3127-a591-b4e02e03cd38/thinking-of-buying-madrigal.html)  "
      ],
      "text/plain": [
       "<IPython.core.display.Markdown object>"
      ]
     },
     "metadata": {},
     "output_type": "display_data"
    },
    {
     "data": {
      "text/markdown": [
       "[2024-06-26 21:47:17.447749+00:00 Lillys Phase II results in Alzheimers disease have most experts saying donanemab is done](https://finance.yahoo.com/m/a4ab855e-236b-377f-8e0c-3bdc976cd771/lilly%E2%80%99s-phase-ii-results-in.html)  "
      ],
      "text/plain": [
       "<IPython.core.display.Markdown object>"
      ]
     },
     "metadata": {},
     "output_type": "display_data"
    },
    {
     "data": {
      "text/markdown": [
       "[2024-06-26 21:47:17.447748+00:00 Broadcom Is on Track to Edge Past Eli Lillys Market Value. AI Is Helping It Do So.](https://finance.yahoo.com/m/02610377-0198-3d01-a705-78cc58935fcb/broadcom-is-on-track-to-edge.html)  "
      ],
      "text/plain": [
       "<IPython.core.display.Markdown object>"
      ]
     },
     "metadata": {},
     "output_type": "display_data"
    },
    {
     "data": {
      "text/markdown": [
       "[2024-06-26 21:47:17.447746+00:00 Eli Lilly unveils new North Carolina plant for GLP-1 drugs](https://finance.yahoo.com/video/eli-lilly-unveils-north-carolina-210054637.html)  "
      ],
      "text/plain": [
       "<IPython.core.display.Markdown object>"
      ]
     },
     "metadata": {},
     "output_type": "display_data"
    },
    {
     "data": {
      "text/markdown": [
       "[2024-06-26 21:47:17.447743+00:00 Eli Lilly's Growth Prospects Just Got a Huge Upgrade](https://finance.yahoo.com/m/adaa448e-7e2e-3b33-a28c-d7ae482e3fea/eli-lilly%27s-growth-prospects.html)  "
      ],
      "text/plain": [
       "<IPython.core.display.Markdown object>"
      ]
     },
     "metadata": {},
     "output_type": "display_data"
    },
    {
     "data": {
      "text/markdown": [
       "[2024-06-26 21:47:17.447743+00:00 Here's Why Eli Lilly (LLY) is Probably the Best Drug Stock Now](https://www.zacks.com/stock/news/2290782/here-s-why-eli-lilly-lly-is-probably-the-best-drug-stock-now)  "
      ],
      "text/plain": [
       "<IPython.core.display.Markdown object>"
      ]
     },
     "metadata": {},
     "output_type": "display_data"
    },
    {
     "data": {
      "text/markdown": [
       "[2024-06-26 21:47:17.447742+00:00 Eli Lilly is cracking down on knock off versions of its popular weight loss and diabetes drug](https://qz.com/eli-lilly-fake-zepbound-1851550525)  "
      ],
      "text/plain": [
       "<IPython.core.display.Markdown object>"
      ]
     },
     "metadata": {},
     "output_type": "display_data"
    },
    {
     "data": {
      "text/markdown": [
       "[2024-06-26 21:47:17.447742+00:00 Eli Lilly Files More Lawsuits at Sellers of Counterfeit Mounjaro, Zepbound](https://finance.yahoo.com/m/8c6db41e-4b44-3b02-a7e3-8c005198e349/eli-lilly-files-more-lawsuits.html)  "
      ],
      "text/plain": [
       "<IPython.core.display.Markdown object>"
      ]
     },
     "metadata": {},
     "output_type": "display_data"
    },
    {
     "data": {
      "text/markdown": [
       "[2024-06-26 21:47:17.447741+00:00 Is Eli Lilly Stock A Buy After FDA Advisors Back Its Alzheimer's Drug?](https://finance.yahoo.com/m/75ad41f4-79f0-3b48-af19-38b6a6e1e059/is-eli-lilly-stock-a-buy.html)  "
      ],
      "text/plain": [
       "<IPython.core.display.Markdown object>"
      ]
     },
     "metadata": {},
     "output_type": "display_data"
    },
    {
     "data": {
      "text/markdown": [
       "[2024-06-26 21:47:17.447740+00:00 WHO and Eli Lilly caution patients against falling for fake versions of popular weight-loss drugs](https://finance.yahoo.com/news/eli-lilly-caution-patients-against-180741023.html)  "
      ],
      "text/plain": [
       "<IPython.core.display.Markdown object>"
      ]
     },
     "metadata": {},
     "output_type": "display_data"
    },
    {
     "data": {
      "text/markdown": [
       "[2024-06-26 21:47:17.447740+00:00 Eli Lilly Has a New Drug That Could Push the Stock Higher](https://finance.yahoo.com/m/39ffd5e9-b63c-33c3-92c2-4a8e7addabb9/eli-lilly-has-a-new-drug-that.html)  "
      ],
      "text/plain": [
       "<IPython.core.display.Markdown object>"
      ]
     },
     "metadata": {},
     "output_type": "display_data"
    },
    {
     "data": {
      "text/markdown": [
       "[2024-06-26 21:47:17.447739+00:00 Eli Lilly (LLY) Registers a Bigger Fall Than the Market: Important Facts to Note](https://www.zacks.com/stock/news/2291076/eli-lilly-lly-registers-a-bigger-fall-than-the-market-important-facts-to-note)  "
      ],
      "text/plain": [
       "<IPython.core.display.Markdown object>"
      ]
     },
     "metadata": {},
     "output_type": "display_data"
    },
    {
     "data": {
      "text/markdown": [
       "[2024-06-26 21:47:17.447735+00:00 Eli Lillys Weight-Loss Franchise Has Been a Massive Winner Under Dave Ricks](https://finance.yahoo.com/m/59f79c85-29e8-378e-b67b-ea4288ec57a1/eli-lilly%E2%80%99s-weight-loss.html)  "
      ],
      "text/plain": [
       "<IPython.core.display.Markdown object>"
      ]
     },
     "metadata": {},
     "output_type": "display_data"
    },
    {
     "data": {
      "text/markdown": [
       "[2024-06-26 21:47:17.447734+00:00 Lilly's tirzepatide reduced obstructive sleep apnea (OSA) severity, with up to 51.5% of participants meeting the criteria for disease resolution](https://www.prnewswire.com/news-releases/lillys-tirzepatide-reduced-obstructive-sleep-apnea-osa-severity-with-up-to-51-5-of-participants-meeting-the-criteria-for-disease-resolution-302179373.html)  "
      ],
      "text/plain": [
       "<IPython.core.display.Markdown object>"
      ]
     },
     "metadata": {},
     "output_type": "display_data"
    },
    {
     "data": {
      "text/markdown": [
       "[2024-06-26 21:47:17.447734+00:00 Three-Stock Lunch: Nvidia, Eli Lilly](https://www.youtube.com/watch?v=Xbfto0Up2no)  "
      ],
      "text/plain": [
       "<IPython.core.display.Markdown object>"
      ]
     },
     "metadata": {},
     "output_type": "display_data"
    },
    {
     "data": {
      "text/markdown": [
       "[2024-06-26 21:47:17.447733+00:00 Broadcom, Eli Lilly and Trump Media rise premarket; Under Armour falls](https://finance.yahoo.com/news/broadcom-eli-lilly-trump-media-072221862.html)  "
      ],
      "text/plain": [
       "<IPython.core.display.Markdown object>"
      ]
     },
     "metadata": {},
     "output_type": "display_data"
    },
    {
     "data": {
      "text/markdown": [
       "[2024-06-26 21:47:17.447733+00:00 Did Eli Lilly and Company (LLY) Achieve Its 10th Consecutive Year of Dividend Growth?](https://www.insidermonkey.com/blog/did-eli-lilly-and-company-lly-achieve-its-10th-consecutive-year-of-dividend-growth-1316939/)  "
      ],
      "text/plain": [
       "<IPython.core.display.Markdown object>"
      ]
     },
     "metadata": {},
     "output_type": "display_data"
    },
    {
     "data": {
      "text/markdown": [
       "[2024-06-26 21:47:17.447732+00:00 Lillys tirzepatide reduces OSA severity in Phase III clinical trials](https://finance.yahoo.com/m/7f3010b1-6f61-34c7-bca5-92f9bae22b6c/lilly%E2%80%99s-tirzepatide-reduces.html)  "
      ],
      "text/plain": [
       "<IPython.core.display.Markdown object>"
      ]
     },
     "metadata": {},
     "output_type": "display_data"
    },
    {
     "data": {
      "text/markdown": [
       "[2024-06-26 21:47:17.447732+00:00 ResMed Stock Is Sinking. Blame Lillys Zepbound Trials for Sleep Apnea.](https://finance.yahoo.com/m/8ee8ce4d-a010-3f7b-b1de-5f4a79c1fede/resmed-stock-is-sinking..html)  "
      ],
      "text/plain": [
       "<IPython.core.display.Markdown object>"
      ]
     },
     "metadata": {},
     "output_type": "display_data"
    },
    {
     "data": {
      "text/markdown": [
       "[2024-06-26 21:47:17.447731+00:00 ResMed Stock Is Sinking. Blame Eli Lillys Zepbound Trials for Sleep Apnea.](https://finance.yahoo.com/m/b5888f6e-8324-3393-bc72-48b3dafe0fb0/resmed-stock-is-sinking..html)  "
      ],
      "text/plain": [
       "<IPython.core.display.Markdown object>"
      ]
     },
     "metadata": {},
     "output_type": "display_data"
    },
    {
     "data": {
      "text/markdown": [
       "[2024-06-26 21:47:17.447730+00:00 Eli Lilly's Zepbound For Weight Loss Shows Disease Resolution In Obese Sleep Apnea Patients, Lays Further Groundwork For Label Expansion](https://finance.yahoo.com/news/eli-lillys-zepbound-weight-loss-122943468.html)  "
      ],
      "text/plain": [
       "<IPython.core.display.Markdown object>"
      ]
     },
     "metadata": {},
     "output_type": "display_data"
    },
    {
     "data": {
      "text/markdown": [
       "[2024-06-26 21:47:17.447730+00:00 Investors Heavily Search Eli Lilly and Company (LLY): Here is What You Need to Know](https://www.zacks.com/stock/news/2292048/investors-heavily-search-eli-lilly-and-company-lly-here-is-what-you-need-to-know)  "
      ],
      "text/plain": [
       "<IPython.core.display.Markdown object>"
      ]
     },
     "metadata": {},
     "output_type": "display_data"
    },
    {
     "data": {
      "text/markdown": [
       "[2024-06-26 21:47:17.447729+00:00 What Makes Eli Lilly & Company (LLY) a Hot Healthcare Stock Right Now?](https://www.insidermonkey.com/blog/what-makes-eli-lilly-company-lly-a-hot-healthcare-stock-right-now-1317293/)  "
      ],
      "text/plain": [
       "<IPython.core.display.Markdown object>"
      ]
     },
     "metadata": {},
     "output_type": "display_data"
    },
    {
     "data": {
      "text/markdown": [
       "[2024-06-26 21:47:17.447729+00:00 Eli Lilly seeks to expand Zepbound use to treat sleep apnea](https://finance.yahoo.com/video/eli-lilly-seeks-expand-zepbound-143600056.html)  "
      ],
      "text/plain": [
       "<IPython.core.display.Markdown object>"
      ]
     },
     "metadata": {},
     "output_type": "display_data"
    },
    {
     "data": {
      "text/markdown": [
       "[2024-06-26 21:47:17.447728+00:00 Why a Pair of Eli Lilly Clinical Trials Sent ResMed Stock Tumbling](https://www.investopedia.com/why-a-pair-of-eli-lilly-clinical-trials-sent-resmed-stock-tumbling-8668009)  "
      ],
      "text/plain": [
       "<IPython.core.display.Markdown object>"
      ]
     },
     "metadata": {},
     "output_type": "display_data"
    },
    {
     "data": {
      "text/markdown": [
       "[2024-06-26 21:47:17.447727+00:00 Lilly Declares Third-Quarter 2024 Dividend](https://www.prnewswire.com/news-releases/lilly-declares-third-quarter-2024-dividend-302180441.html)  "
      ],
      "text/plain": [
       "<IPython.core.display.Markdown object>"
      ]
     },
     "metadata": {},
     "output_type": "display_data"
    },
    {
     "data": {
      "text/markdown": [
       "[2024-06-26 21:47:17.447725+00:00 ResMed Stock Dives. Blame Eli Lillys Zepbound Trials for Sleep Apnea.](https://finance.yahoo.com/m/8ee8ce4d-a010-3f7b-b1de-5f4a79c1fede/resmed-stock-dives.-blame-eli.html)  "
      ],
      "text/plain": [
       "<IPython.core.display.Markdown object>"
      ]
     },
     "metadata": {},
     "output_type": "display_data"
    },
    {
     "data": {
      "text/markdown": [
       "[2024-06-26 21:47:17.447725+00:00 How Lilly is joining Novo in the crusade to circumvent Medicare's block on weight loss drugs](https://finance.yahoo.com/news/how-lilly-is-joining-novo-in-the-crusade-to-circumvent-medicares-block-on-weight-loss-drugs-180112580.html)  "
      ],
      "text/plain": [
       "<IPython.core.display.Markdown object>"
      ]
     },
     "metadata": {},
     "output_type": "display_data"
    },
    {
     "data": {
      "text/markdown": [
       "[2024-06-26 21:47:17.447724+00:00 Lilly Weight-Loss Drug Data Spurs Selloff in Sleep Apnea Stocks](https://finance.yahoo.com/news/lilly-weight-loss-drug-data-161219351.html)  "
      ],
      "text/plain": [
       "<IPython.core.display.Markdown object>"
      ]
     },
     "metadata": {},
     "output_type": "display_data"
    },
    {
     "data": {
      "text/markdown": [
       "[2024-06-26 21:47:17.447723+00:00 Eli Lilly's Weight-Loss Drug Takes Down ResMed, Inspire Medical  Again](https://finance.yahoo.com/m/bbe694a5-ece2-3639-a09e-40da9dfddad5/eli-lilly%27s-weight-loss-drug.html)  "
      ],
      "text/plain": [
       "<IPython.core.display.Markdown object>"
      ]
     },
     "metadata": {},
     "output_type": "display_data"
    },
    {
     "data": {
      "text/markdown": [
       "[2024-06-26 21:47:17.447710+00:00 Is Eli Lilly (LLY) a Buy on Tirzepatide Success in Sleep Apnea?](https://www.zacks.com/stock/news/2292780/is-eli-lilly-lly-a-buy-on-tirzepatide-success-in-sleep-apnea)  "
      ],
      "text/plain": [
       "<IPython.core.display.Markdown object>"
      ]
     },
     "metadata": {},
     "output_type": "display_data"
    },
    {
     "data": {
      "text/markdown": [
       "[2024-06-26 21:47:17.447709+00:00 Lilly collaborates with OpenAI to discover novel medicines to treat drug-resistant bacteria](https://www.prnewswire.com/news-releases/lilly-collaborates-with-openai-to-discover-novel-medicines-to-treat-drug-resistant-bacteria-302180973.html)  "
      ],
      "text/plain": [
       "<IPython.core.display.Markdown object>"
      ]
     },
     "metadata": {},
     "output_type": "display_data"
    },
    {
     "data": {
      "text/markdown": [
       "[2024-06-26 21:47:17.447708+00:00 From Sci-Fi Dream to Market Maze: Eli Lilly's Weight-Loss Medication Faces Hurdles](https://finance.yahoo.com/news/sci-fi-dream-market-maze-140002588.html)  "
      ],
      "text/plain": [
       "<IPython.core.display.Markdown object>"
      ]
     },
     "metadata": {},
     "output_type": "display_data"
    },
    {
     "data": {
      "text/markdown": [
       "[2024-06-26 21:47:17.447707+00:00 Eli Lilly inks OpenAI deal for discovering new antibiotics](https://www.fiercebiotech.com/biotech/eli-lilly-inks-openai-deal-discovering-new-antibiotics)  "
      ],
      "text/plain": [
       "<IPython.core.display.Markdown object>"
      ]
     },
     "metadata": {},
     "output_type": "display_data"
    },
    {
     "data": {
      "text/markdown": [
       "[2024-06-26 21:47:17.447705+00:00 Why Drugmaker Eli Lilly Is Partnering With ChatGPT Maker OpenAI](https://www.investopedia.com/why-drugmaker-eli-lilly-is-partnering-with-chatgpt-maker-openai-8668887)  "
      ],
      "text/plain": [
       "<IPython.core.display.Markdown object>"
      ]
     },
     "metadata": {},
     "output_type": "display_data"
    },
    {
     "data": {
      "text/markdown": [
       "[2024-06-26 21:47:17.447705+00:00 2 Reasons Why Eli Lilly's Stock Likely Hasn't Peaked](https://finance.yahoo.com/m/8e0feebc-417b-31cb-92c5-d261799dfe3e/2-reasons-why-eli-lilly%27s.html)  "
      ],
      "text/plain": [
       "<IPython.core.display.Markdown object>"
      ]
     },
     "metadata": {},
     "output_type": "display_data"
    },
    {
     "data": {
      "text/markdown": [
       "[2024-06-26 21:47:17.447703+00:00 Novo Nordisk, Eli Lilly still top 2 pharma stocks: Analyst](https://finance.yahoo.com/video/novo-nordisk-eli-lilly-still-144857840.html)  "
      ],
      "text/plain": [
       "<IPython.core.display.Markdown object>"
      ]
     },
     "metadata": {},
     "output_type": "display_data"
    },
    {
     "data": {
      "text/markdown": [
       "[2024-06-26 21:47:17.447702+00:00 Lilly joins fellow pharma giants in OpenAI partnership](https://finance.yahoo.com/m/a76ab61c-6e40-3ed7-8fbb-8e49720dc1c1/lilly-joins-fellow-pharma.html)  "
      ],
      "text/plain": [
       "<IPython.core.display.Markdown object>"
      ]
     },
     "metadata": {},
     "output_type": "display_data"
    },
    {
     "data": {
      "text/markdown": [
       "[2024-06-26 21:47:17.447700+00:00 Eli Lilly (LLY) Stock Drops Despite Market Gains: Important Facts to Note](https://www.zacks.com/stock/news/2293935/eli-lilly-lly-stock-drops-despite-market-gains-important-facts-to-note)  "
      ],
      "text/plain": [
       "<IPython.core.display.Markdown object>"
      ]
     },
     "metadata": {},
     "output_type": "display_data"
    },
    {
     "data": {
      "text/markdown": [
       "[2024-06-26 21:47:17.240639+00:00 297 Shares in Eli Lilly and Company (NYSE:LLY) Bought by Conrad Siegel Investment Advisors Inc.](https://news.google.com/articles/CBMiiAFodHRwczovL3d3dy5kZWZlbnNld29ybGQubmV0LzIwMjQvMDYvMjIvMjk3LXNoYXJlcy1pbi1lbGktbGlsbHktYW5kLWNvbXBhbnktbnlzZWxseS1ib3VnaHQtYnktY29ucmFkLXNpZWdlbC1pbnZlc3RtZW50LWFkdmlzb3JzLWluYy5odG1s0gEA)  "
      ],
      "text/plain": [
       "<IPython.core.display.Markdown object>"
      ]
     },
     "metadata": {},
     "output_type": "display_data"
    },
    {
     "data": {
      "text/markdown": [
       "[2024-06-26 21:47:17.240639+00:00 Lilly partners with OpenAI to develop medicines for drug-resistant bacteria](https://news.google.com/articles/CBMijAFodHRwczovL3d3dy5yZXV0ZXJzLmNvbS9idXNpbmVzcy9oZWFsdGhjYXJlLXBoYXJtYWNldXRpY2Fscy9saWxseS1wYXJ0bmVycy13aXRoLW9wZW5haS1kZXZlbG9wLW1lZGljaW5lcy1kcnVnLXJlc2lzdGFudC1iYWN0ZXJpYS0yMDI0LTA2LTI1L9IBAA)  "
      ],
      "text/plain": [
       "<IPython.core.display.Markdown object>"
      ]
     },
     "metadata": {},
     "output_type": "display_data"
    },
    {
     "data": {
      "text/markdown": [
       "[2024-06-26 21:47:17.240639+00:00 Independent Wealth Network Inc. Decreases Stake in Eli Lilly and Company (NYSE:LLY)](https://news.google.com/articles/CBMifGh0dHBzOi8vd3d3LmRlZmVuc2V3b3JsZC5uZXQvMjAyNC8wNi8yMy9pbmRlcGVuZGVudC13ZWFsdGgtbmV0d29yay1pbmMtZGVjcmVhc2VzLXN0YWtlLWluLWVsaS1saWxseS1hbmQtY29tcGFueS1ueXNlbGx5Lmh0bWzSAQA)  "
      ],
      "text/plain": [
       "<IPython.core.display.Markdown object>"
      ]
     },
     "metadata": {},
     "output_type": "display_data"
    },
    {
     "data": {
      "text/markdown": [
       "[2024-06-26 21:47:17.240639+00:00 Eli Lilly and Company (NYSE:LLY) Trading Up 1.5% After Analyst Upgrade](https://news.google.com/articles/CBMiTmh0dHBzOi8vd3d3Lm1hcmtldGJlYXQuY29tL2luc3RhbnQtYWxlcnRzL255c2UtbGx5LXBlcmNlbnQtYWR2YW5jZS0yMDI0LTA2LTI1L9IBAA)  "
      ],
      "text/plain": [
       "<IPython.core.display.Markdown object>"
      ]
     },
     "metadata": {},
     "output_type": "display_data"
    },
    {
     "data": {
      "text/markdown": [
       "[2024-06-26 21:47:17.240639+00:00 Eli Lilly and Company's (LLY) Overweight Rating Reaffirmed at Cantor Fitzgerald](https://news.google.com/articles/CBMie2h0dHBzOi8vd3d3LmRlZmVuc2V3b3JsZC5uZXQvMjAyNC8wNi8yNC9lbGktbGlsbHktYW5kLWNvbXBhbnlzLWxseS1vdmVyd2VpZ2h0LXJhdGluZy1yZWFmZmlybWVkLWF0LWNhbnRvci1maXR6Z2VyYWxkLTIuaHRtbNIBAA)  "
      ],
      "text/plain": [
       "<IPython.core.display.Markdown object>"
      ]
     },
     "metadata": {},
     "output_type": "display_data"
    },
    {
     "data": {
      "text/markdown": [
       "[2024-06-26 21:47:17.240639+00:00 Global Trust Asset Management LLC Sells 300 Shares of Eli Lilly and Company (NYSE:LLY)](https://news.google.com/articles/CBMigAFodHRwczovL3d3dy5kZWZlbnNld29ybGQubmV0LzIwMjQvMDYvMjUvZ2xvYmFsLXRydXN0LWFzc2V0LW1hbmFnZW1lbnQtbGxjLXNlbGxzLTMwMC1zaGFyZXMtb2YtZWxpLWxpbGx5LWFuZC1jb21wYW55LW55c2VsbHkuaHRtbNIBAA)  "
      ],
      "text/plain": [
       "<IPython.core.display.Markdown object>"
      ]
     },
     "metadata": {},
     "output_type": "display_data"
    },
    {
     "data": {
      "text/markdown": [
       "[2024-06-26 21:47:17.240639+00:00 A 'Heads Up' on Eli Lilly as the Stock Continues to Climb](https://news.google.com/articles/CBMiXWh0dHBzOi8vcHJvLnRoZXN0cmVldC5jb20vdHJhZGUtaWRlYXMvYS1oZWFkcy11cC1vbi1lbGktbGlsbHktYXMtdGhlLXN0b2NrLWNvbnRpbnVlcy10by1jbGltYtIBAA)  "
      ],
      "text/plain": [
       "<IPython.core.display.Markdown object>"
      ]
     },
     "metadata": {},
     "output_type": "display_data"
    },
    {
     "data": {
      "text/markdown": [
       "[2024-06-26 21:47:17.240639+00:00 Lilly's tirzepatide was superior to placebo for MASH resolution, and more than half of patients achieved improvement in ...](https://news.google.com/articles/CBMifmh0dHBzOi8vaW52ZXN0b3IubGlsbHkuY29tL25ld3MtcmVsZWFzZXMvbmV3cy1yZWxlYXNlLWRldGFpbHMvbGlsbHlzLXRpcnplcGF0aWRlLXdhcy1zdXBlcmlvci1wbGFjZWJvLW1hc2gtcmVzb2x1dGlvbi1hbmQtbW9yZdIBAA)  "
      ],
      "text/plain": [
       "<IPython.core.display.Markdown object>"
      ]
     },
     "metadata": {},
     "output_type": "display_data"
    },
    {
     "data": {
      "text/markdown": [
       "[2024-06-26 21:47:17.240639+00:00 Global Assets Advisory LLC Takes Position in Eli Lilly and Company (NYSE:LLY)](https://news.google.com/articles/CBMid2h0dHBzOi8vd3d3LmRlZmVuc2V3b3JsZC5uZXQvMjAyNC8wNi8yNS9nbG9iYWwtYXNzZXRzLWFkdmlzb3J5LWxsYy10YWtlcy1wb3NpdGlvbi1pbi1lbGktbGlsbHktYW5kLWNvbXBhbnktbnlzZWxseS5odG1s0gEA)  "
      ],
      "text/plain": [
       "<IPython.core.display.Markdown object>"
      ]
     },
     "metadata": {},
     "output_type": "display_data"
    },
    {
     "data": {
      "text/markdown": [
       "[2024-06-26 21:47:17.240639+00:00 Lilly's tirzepatide reduced obstructive sleep apnea (OSA) severity, with up to 51.5% of participants meeting the criteria ...](https://news.google.com/articles/CBMifWh0dHBzOi8vaW52ZXN0b3IubGlsbHkuY29tL25ld3MtcmVsZWFzZXMvbmV3cy1yZWxlYXNlLWRldGFpbHMvbGlsbHlzLXRpcnplcGF0aWRlLXJlZHVjZWQtb2JzdHJ1Y3RpdmUtc2xlZXAtYXBuZWEtb3NhLXNldmVyaXR50gEA)  "
      ],
      "text/plain": [
       "<IPython.core.display.Markdown object>"
      ]
     },
     "metadata": {},
     "output_type": "display_data"
    },
    {
     "data": {
      "text/markdown": [
       "[2024-06-26 21:47:17.240639+00:00 Gilman Hill Asset Management LLC Lowers Stake in Eli Lilly and Company (NYSE:LLY)](https://news.google.com/articles/CBMie2h0dHBzOi8vd3d3LmRlZmVuc2V3b3JsZC5uZXQvMjAyNC8wNi8yNi9naWxtYW4taGlsbC1hc3NldC1tYW5hZ2VtZW50LWxsYy1sb3dlcnMtc3Rha2UtaW4tZWxpLWxpbGx5LWFuZC1jb21wYW55LW55c2VsbHkuaHRtbNIBAA)  "
      ],
      "text/plain": [
       "<IPython.core.display.Markdown object>"
      ]
     },
     "metadata": {},
     "output_type": "display_data"
    },
    {
     "data": {
      "text/markdown": [
       "[2024-06-26 21:47:17.240639+00:00 Insider Selling: Eli Lilly and Company (NYSE:LLY) Major Shareholder Sells 17,229 Shares of Stock](https://news.google.com/articles/CBMiWWh0dHBzOi8vd3d3Lm1hcmtldGJlYXQuY29tL2luc3RhbnQtYWxlcnRzL255c2UtbGx5LWluc2lkZXItYnV5aW5nLWFuZC1zZWxsaW5nLTIwMjQtMDYtMjUv0gEA)  "
      ],
      "text/plain": [
       "<IPython.core.display.Markdown object>"
      ]
     },
     "metadata": {},
     "output_type": "display_data"
    },
    {
     "data": {
      "text/markdown": [
       "[2024-06-26 21:47:17.240639+00:00 Will Novo Nordisk Building Fires Serve As A Catalyst For Eli Lilly? Redditors See A Stock Split For US Company 'Very ...](https://news.google.com/articles/CBMimQFodHRwczovL3d3dy5iZW56aW5nYS5jb20vZ2VuZXJhbC9iaW90ZWNoLzI0LzA2LzM5NDYzNzU4L3dpbGwtbm92by1ub3JkaXNrLWJ1aWxkaW5nLWZpcmVzLXNlcnZlLWFzLWEtY2F0YWx5c3QtZm9yLWVsaS1saWxseS1yZWRkaXRvcnMtc2VlLWEtc3RvY2stc3BsaXQtZm_SAQA)  "
      ],
      "text/plain": [
       "<IPython.core.display.Markdown object>"
      ]
     },
     "metadata": {},
     "output_type": "display_data"
    },
    {
     "data": {
      "text/markdown": [
       "[2024-06-26 21:47:17.240639+00:00 International Assets Investment Management LLC Has $10.46 Million Position in Eli Lilly and Company (NYSE:LLY)](https://news.google.com/articles/CBMilwFodHRwczovL3d3dy5kZWZlbnNld29ybGQubmV0LzIwMjQvMDYvMjQvaW50ZXJuYXRpb25hbC1hc3NldHMtaW52ZXN0bWVudC1tYW5hZ2VtZW50LWxsYy1oYXMtMTAtNDYtbWlsbGlvbi1wb3NpdGlvbi1pbi1lbGktbGlsbHktYW5kLWNvbXBhbnktbnlzZWxseS5odG1s0gEA)  "
      ],
      "text/plain": [
       "<IPython.core.display.Markdown object>"
      ]
     },
     "metadata": {},
     "output_type": "display_data"
    },
    {
     "data": {
      "text/markdown": [
       "[2024-06-26 21:47:17.240639+00:00 Lilly collaborates with OpenAI to discover novel medicines to treat drug-resistant bacteria | Eli Lilly and Company](https://news.google.com/articles/CBMie2h0dHBzOi8vaW52ZXN0b3IubGlsbHkuY29tL25ld3MtcmVsZWFzZXMvbmV3cy1yZWxlYXNlLWRldGFpbHMvbGlsbHktY29sbGFib3JhdGVzLW9wZW5haS1kaXNjb3Zlci1ub3ZlbC1tZWRpY2luZXMtdHJlYXQtZHJ1Z9IBAA)  "
      ],
      "text/plain": [
       "<IPython.core.display.Markdown object>"
      ]
     },
     "metadata": {},
     "output_type": "display_data"
    },
    {
     "data": {
      "text/markdown": [
       "[2024-06-26 21:47:17.240639+00:00 Is Lilly Stock A Buy After FDA Advisors Back Its Alzheimer's Drug?](https://news.google.com/articles/CBMiQmh0dHBzOi8vd3d3LmludmVzdG9ycy5jb20vbmV3cy90ZWNobm9sb2d5L2VsaS1saWxseS1zdG9jay1idXktbm93L9IBAA)  "
      ],
      "text/plain": [
       "<IPython.core.display.Markdown object>"
      ]
     },
     "metadata": {},
     "output_type": "display_data"
    },
    {
     "data": {
      "text/markdown": [
       "[2024-06-26 21:47:17.240639+00:00 Eli Lilly: Throwing Its Weight Around - But, For How Long? (NYSE:LLY)](https://news.google.com/articles/CBMib2h0dHBzOi8vc2Vla2luZ2FscGhhLmNvbS9hcnRpY2xlLzQ3MDA2NDUtZWxpLWxpbGx5LXRocm93aW5nLXdlaWdodC1hcm91bmQtYnV0LWhvdy1sb25nP3NvdXJjZT1mZWVkX2FsbF9hcnRpY2xlc9IBAA)  "
      ],
      "text/plain": [
       "<IPython.core.display.Markdown object>"
      ]
     },
     "metadata": {},
     "output_type": "display_data"
    },
    {
     "data": {
      "text/markdown": [
       "[2024-06-26 21:47:17.240639+00:00 Lilly Endowment Inc Sells 9671 Shares of Eli Lilly and Company (NYSE:LLY) Stock](https://news.google.com/articles/CBMieWh0dHBzOi8vd3d3LmRlZmVuc2V3b3JsZC5uZXQvMjAyNC8wNi8yNC9saWxseS1lbmRvd21lbnQtaW5jLXNlbGxzLTk2NzEtc2hhcmVzLW9mLWVsaS1saWxseS1hbmQtY29tcGFueS1ueXNlbGx5LXN0b2NrLmh0bWzSAQA)  "
      ],
      "text/plain": [
       "<IPython.core.display.Markdown object>"
      ]
     },
     "metadata": {},
     "output_type": "display_data"
    },
    {
     "data": {
      "text/markdown": [
       "[2024-06-26 21:47:17.240639+00:00 Jacobs & Co. CA Has $17.53 Million Stake in Eli Lilly and Company (NYSE:LLY)](https://news.google.com/articles/CBMicmh0dHBzOi8vd3d3LmRlZmVuc2V3b3JsZC5uZXQvMjAyNC8wNi8yNi9qYWNvYnMtY28tY2EtaGFzLTE3LTUzLW1pbGxpb24tc3Rha2UtaW4tZWxpLWxpbGx5LWFuZC1jb21wYW55LW55c2VsbHkuaHRtbNIBAA)  "
      ],
      "text/plain": [
       "<IPython.core.display.Markdown object>"
      ]
     },
     "metadata": {},
     "output_type": "display_data"
    },
    {
     "data": {
      "text/markdown": [
       "[2024-06-26 21:47:17.240639+00:00 Eli Lilly and Company (NYSE:LLY) Stock Price Up 0.7%](https://news.google.com/articles/CBMiX2h0dHBzOi8vd3d3LmRlZmVuc2V3b3JsZC5uZXQvMjAyNC8wNi8yMi9lbGktbGlsbHktYW5kLWNvbXBhbnktbnlzZWxseS1zdG9jay1wcmljZS11cC0wLTctMi5odG1s0gEA)  "
      ],
      "text/plain": [
       "<IPython.core.display.Markdown object>"
      ]
     },
     "metadata": {},
     "output_type": "display_data"
    },
    {
     "data": {
      "text/markdown": [
       "[2024-06-26 21:47:17.240639+00:00 Eli Lilly and Company (NYSE:LLY) Trading Down 0% Following Insider Selling](https://news.google.com/articles/CBMiTmh0dHBzOi8vd3d3Lm1hcmtldGJlYXQuY29tL2luc3RhbnQtYWxlcnRzL255c2UtbGx5LXBlcmNlbnQtZGVjbGluZS0yMDI0LTA2LTI2L9IBAA)  "
      ],
      "text/plain": [
       "<IPython.core.display.Markdown object>"
      ]
     },
     "metadata": {},
     "output_type": "display_data"
    },
    {
     "data": {
      "text/markdown": [
       "[2024-06-26 21:47:17.240639+00:00 Market Street Wealth Management Advisors LLC Raises Stock Position in Eli Lilly and Company (NYSE:LLY)](https://news.google.com/articles/CBMikAFodHRwczovL3d3dy5kZWZlbnNld29ybGQubmV0LzIwMjQvMDYvMjQvbWFya2V0LXN0cmVldC13ZWFsdGgtbWFuYWdlbWVudC1hZHZpc29ycy1sbGMtcmFpc2VzLXN0b2NrLXBvc2l0aW9uLWluLWVsaS1saWxseS1hbmQtY29tcGFueS1ueXNlbGx5Lmh0bWzSAQA)  "
      ],
      "text/plain": [
       "<IPython.core.display.Markdown object>"
      ]
     },
     "metadata": {},
     "output_type": "display_data"
    },
    {
     "data": {
      "text/markdown": [
       "[2024-06-26 21:47:17.240639+00:00 After Earnings, Is Eli Lilly Stock a Buy, a Sell, or Fairly Valued?](https://news.google.com/articles/CBMiYGh0dHBzOi8vd3d3Lm1vcm5pbmdzdGFyLmNvbS9zdG9ja3MvYWZ0ZXItZWFybmluZ3MtaXMtZWxpLWxpbGx5LXN0b2NrLWJ1eS1zZWxsLW9yLWZhaXJseS12YWx1ZWQtMtIBAA)  "
      ],
      "text/plain": [
       "<IPython.core.display.Markdown object>"
      ]
     },
     "metadata": {},
     "output_type": "display_data"
    },
    {
     "data": {
      "text/markdown": [
       "[2024-06-26 21:47:17.240639+00:00 Eli Lilly and Company (NYSE:LLY) Shares Up 1.5% Following Dividend Announcement](https://news.google.com/articles/CBMieGh0dHBzOi8vd3d3LmRlZmVuc2V3b3JsZC5uZXQvMjAyNC8wNi8yNi9lbGktbGlsbHktYW5kLWNvbXBhbnktbnlzZWxseS1zaGFyZXMtdXAtMS01LWZvbGxvd2luZy1kaXZpZGVuZC1hbm5vdW5jZW1lbnQuaHRtbNIBAA)  "
      ],
      "text/plain": [
       "<IPython.core.display.Markdown object>"
      ]
     },
     "metadata": {},
     "output_type": "display_data"
    },
    {
     "data": {
      "text/markdown": [
       "[2024-06-26 21:47:17.240639+00:00 ResMed Stock Collapses After Eli Lilly's Weight-Loss Drug Reduces Sleep Apnea Events](https://news.google.com/articles/CBMigwFodHRwczovL3d3dy5pbnZlc3RvcnMuY29tL25ld3MvdGVjaG5vbG9neS9yZXNtZWQtc3RvY2staW5zcGlyZS1tZWRpY2FsLXN5c3RlbXMtc3RvY2stb2JzdHJ1Y3RpdmUtc2xlZXAtYXBuZWEtZWxpLWxpbGx5LXdlaWdodC1sb3NzL9IBAA)  "
      ],
      "text/plain": [
       "<IPython.core.display.Markdown object>"
      ]
     },
     "metadata": {},
     "output_type": "display_data"
    },
    {
     "data": {
      "text/markdown": [
       "[2024-06-26 21:47:17.240639+00:00 Dynamic Advisor Solutions LLC Boosts Holdings in Eli Lilly and Company (NYSE:LLY)](https://news.google.com/articles/CBMie2h0dHBzOi8vd3d3LmRlZmVuc2V3b3JsZC5uZXQvMjAyNC8wNi8yNi9keW5hbWljLWFkdmlzb3Itc29sdXRpb25zLWxsYy1ib29zdHMtaG9sZGluZ3MtaW4tZWxpLWxpbGx5LWFuZC1jb21wYW55LW55c2VsbHkuaHRtbNIBAA)  "
      ],
      "text/plain": [
       "<IPython.core.display.Markdown object>"
      ]
     },
     "metadata": {},
     "output_type": "display_data"
    },
    {
     "data": {
      "text/markdown": [
       "[2024-06-26 21:47:17.240639+00:00 Douglas Lane & Associates LLC Sells 322 Shares of Eli Lilly and Company (NYSE:LLY)](https://news.google.com/articles/CBMiemh0dHBzOi8vd3d3LmRlZmVuc2V3b3JsZC5uZXQvMjAyNC8wNi8yNC9kb3VnbGFzLWxhbmUtYXNzb2NpYXRlcy1sbGMtc2VsbHMtMzIyLXNoYXJlcy1vZi1lbGktbGlsbHktYW5kLWNvbXBhbnktbnlzZWxseS5odG1s0gEA)  "
      ],
      "text/plain": [
       "<IPython.core.display.Markdown object>"
      ]
     },
     "metadata": {},
     "output_type": "display_data"
    },
    {
     "data": {
      "text/markdown": [
       "[2024-06-26 21:47:17.240639+00:00 Cooper Financial Group Buys 211 Shares of Eli Lilly and Company (NYSE:LLY)](https://news.google.com/articles/CBMidGh0dHBzOi8vd3d3LmRlZmVuc2V3b3JsZC5uZXQvMjAyNC8wNi8yNC9jb29wZXItZmluYW5jaWFsLWdyb3VwLWJ1eXMtMjExLXNoYXJlcy1vZi1lbGktbGlsbHktYW5kLWNvbXBhbnktbnlzZWxseS5odG1s0gEA)  "
      ],
      "text/plain": [
       "<IPython.core.display.Markdown object>"
      ]
     },
     "metadata": {},
     "output_type": "display_data"
    },
    {
     "data": {
      "text/markdown": [
       "[2024-06-26 21:47:17.240639+00:00 Chart of the Day: Eli Lilly - More New Highs](https://news.google.com/articles/CBMiZGh0dHBzOi8vd3d3LnRyYWRpbmd2aWV3LmNvbS9uZXdzL2JhcmNoYXJ0OmFlOGFkYWE0ZTA5NGI6MC1jaGFydC1vZi10aGUtZGF5LWVsaS1saWxseS1tb3JlLW5ldy1oaWdocy_SAQA)  "
      ],
      "text/plain": [
       "<IPython.core.display.Markdown object>"
      ]
     },
     "metadata": {},
     "output_type": "display_data"
    },
    {
     "data": {
      "text/markdown": [
       "[2024-06-26 21:47:17.240639+00:00 Shilanski & Associates Inc. Cuts Stake in Eli Lilly and Company (NYSE:LLY)](https://news.google.com/articles/CBMicWh0dHBzOi8vd3d3LmRlZmVuc2V3b3JsZC5uZXQvMjAyNC8wNi8yMy9zaGlsYW5za2ktYXNzb2NpYXRlcy1pbmMtY3V0cy1zdGFrZS1pbi1lbGktbGlsbHktYW5kLWNvbXBhbnktbnlzZWxseS5odG1s0gEA)  "
      ],
      "text/plain": [
       "<IPython.core.display.Markdown object>"
      ]
     },
     "metadata": {},
     "output_type": "display_data"
    },
    {
     "data": {
      "text/markdown": [
       "[2024-06-26 21:47:17.240639+00:00 Central Valley Advisors LLC Buys Shares of 314 Eli Lilly and Company (NYSE:LLY)](https://news.google.com/articles/CBMieWh0dHBzOi8vd3d3LmRlZmVuc2V3b3JsZC5uZXQvMjAyNC8wNi8yNi9jZW50cmFsLXZhbGxleS1hZHZpc29ycy1sbGMtYnV5cy1zaGFyZXMtb2YtMzE0LWVsaS1saWxseS1hbmQtY29tcGFueS1ueXNlbGx5Lmh0bWzSAQA)  "
      ],
      "text/plain": [
       "<IPython.core.display.Markdown object>"
      ]
     },
     "metadata": {},
     "output_type": "display_data"
    },
    {
     "data": {
      "text/markdown": [
       "[2024-06-26 21:47:17.240639+00:00 Southland Equity Partners LLC Grows Holdings in Eli Lilly and Company (NYSE:LLY)](https://news.google.com/articles/CBMiemh0dHBzOi8vd3d3LmRlZmVuc2V3b3JsZC5uZXQvMjAyNC8wNi8yNS9zb3V0aGxhbmQtZXF1aXR5LXBhcnRuZXJzLWxsYy1ncm93cy1ob2xkaW5ncy1pbi1lbGktbGlsbHktYW5kLWNvbXBhbnktbnlzZWxseS5odG1s0gEA)  "
      ],
      "text/plain": [
       "<IPython.core.display.Markdown object>"
      ]
     },
     "metadata": {},
     "output_type": "display_data"
    },
    {
     "data": {
      "text/markdown": [
       "[2024-06-26 21:47:17.240639+00:00 CHURCHILL MANAGEMENT Corp Purchases New Shares in Eli Lilly and Company (NYSE:LLY)](https://news.google.com/articles/CBMifGh0dHBzOi8vd3d3LmRlZmVuc2V3b3JsZC5uZXQvMjAyNC8wNi8yMy9jaHVyY2hpbGwtbWFuYWdlbWVudC1jb3JwLXB1cmNoYXNlcy1uZXctc2hhcmVzLWluLWVsaS1saWxseS1hbmQtY29tcGFueS1ueXNlbGx5Lmh0bWzSAQA)  "
      ],
      "text/plain": [
       "<IPython.core.display.Markdown object>"
      ]
     },
     "metadata": {},
     "output_type": "display_data"
    },
    {
     "data": {
      "text/markdown": [
       "[2024-06-26 21:47:17.240639+00:00 CHICAGO TRUST Co NA Has $4.84 Million Stake in Eli Lilly and Company (NYSE:LLY)](https://news.google.com/articles/CBMieGh0dHBzOi8vd3d3LmRlZmVuc2V3b3JsZC5uZXQvMjAyNC8wNi8yNS9jaGljYWdvLXRydXN0LWNvLW5hLWhhcy00LTg0LW1pbGxpb24tc3Rha2UtaW4tZWxpLWxpbGx5LWFuZC1jb21wYW55LW55c2VsbHkuaHRtbNIBAA)  "
      ],
      "text/plain": [
       "<IPython.core.display.Markdown object>"
      ]
     },
     "metadata": {},
     "output_type": "display_data"
    },
    {
     "data": {
      "text/markdown": [
       "[2024-06-26 21:47:17.240639+00:00 Sunflower Bank N.A. Lowers Position in Eli Lilly and Company (NYSE:LLY)](https://news.google.com/articles/CBMicGh0dHBzOi8vd3d3LmRlZmVuc2V3b3JsZC5uZXQvMjAyNC8wNi8yMi9zdW5mbG93ZXItYmFuay1uLWEtbG93ZXJzLXBvc2l0aW9uLWluLWVsaS1saWxseS1hbmQtY29tcGFueS1ueXNlbGx5Lmh0bWzSAQA)  "
      ],
      "text/plain": [
       "<IPython.core.display.Markdown object>"
      ]
     },
     "metadata": {},
     "output_type": "display_data"
    },
    {
     "data": {
      "text/markdown": [
       "[2024-06-26 21:47:17.240639+00:00 Bridge Creek Capital Management LLC Sells 125 Shares of Eli Lilly and Company (NYSE:LLY)](https://news.google.com/articles/CBMiggFodHRwczovL3d3dy5kZWZlbnNld29ybGQubmV0LzIwMjQvMDYvMjQvYnJpZGdlLWNyZWVrLWNhcGl0YWwtbWFuYWdlbWVudC1sbGMtc2VsbHMtMTI1LXNoYXJlcy1vZi1lbGktbGlsbHktYW5kLWNvbXBhbnktbnlzZWxseS5odG1s0gEA)  "
      ],
      "text/plain": [
       "<IPython.core.display.Markdown object>"
      ]
     },
     "metadata": {},
     "output_type": "display_data"
    },
    {
     "data": {
      "text/markdown": [
       "[2024-06-26 21:47:17.240639+00:00 Allied Investment Advisors LLC Takes Position in Eli Lilly and Company (NYSE:LLY)](https://news.google.com/articles/CBMie2h0dHBzOi8vd3d3LmRlZmVuc2V3b3JsZC5uZXQvMjAyNC8wNi8yMy9hbGxpZWQtaW52ZXN0bWVudC1hZHZpc29ycy1sbGMtdGFrZXMtcG9zaXRpb24taW4tZWxpLWxpbGx5LWFuZC1jb21wYW55LW55c2VsbHkuaHRtbNIBAA)  "
      ],
      "text/plain": [
       "<IPython.core.display.Markdown object>"
      ]
     },
     "metadata": {},
     "output_type": "display_data"
    },
    {
     "data": {
      "text/markdown": [
       "[2024-06-26 21:47:17.240639+00:00 This Is What Whales Are Betting On Eli Lilly and Co - Eli Lilly and Co (NYSE:LLY)](https://news.google.com/articles/CBMibGh0dHBzOi8vd3d3LmJlbnppbmdhLmNvbS9pbnNpZ2h0cy9vcHRpb25zLzI0LzA2LzM5NDgwNTUzL3RoaXMtaXMtd2hhdC13aGFsZXMtYXJlLWJldHRpbmctb24tZWxpLWxpbGx5LWFuZC1jb9IBAA)  "
      ],
      "text/plain": [
       "<IPython.core.display.Markdown object>"
      ]
     },
     "metadata": {},
     "output_type": "display_data"
    },
    {
     "data": {
      "text/markdown": [
       "[2024-06-26 21:47:17.240639+00:00 Bangor Savings Bank Sells 47 Shares of Eli Lilly and Company (NYSE:LLY)](https://news.google.com/articles/CBMicWh0dHBzOi8vd3d3LmRlZmVuc2V3b3JsZC5uZXQvMjAyNC8wNi8yNC9iYW5nb3Itc2F2aW5ncy1iYW5rLXNlbGxzLTQ3LXNoYXJlcy1vZi1lbGktbGlsbHktYW5kLWNvbXBhbnktbnlzZWxseS5odG1s0gEA)  "
      ],
      "text/plain": [
       "<IPython.core.display.Markdown object>"
      ]
     },
     "metadata": {},
     "output_type": "display_data"
    },
    {
     "data": {
      "text/markdown": [
       "[2024-06-26 21:47:17.240639+00:00 Traynor Capital Management Inc. Boosts Position in Eli Lilly and Company (NYSE:LLY)](https://news.google.com/articles/CBMifGh0dHBzOi8vd3d3LmRlZmVuc2V3b3JsZC5uZXQvMjAyNC8wNi8yNS90cmF5bm9yLWNhcGl0YWwtbWFuYWdlbWVudC1pbmMtYm9vc3RzLXBvc2l0aW9uLWluLWVsaS1saWxseS1hbmQtY29tcGFueS1ueXNlbGx5Lmh0bWzSAQA)  "
      ],
      "text/plain": [
       "<IPython.core.display.Markdown object>"
      ]
     },
     "metadata": {},
     "output_type": "display_data"
    },
    {
     "data": {
      "text/markdown": [
       "[2024-06-26 21:47:17.240639+00:00 Unique Wealth LLC Takes Position in Eli Lilly and Company (NYSE:LLY)](https://news.google.com/articles/CBMibmh0dHBzOi8vd3d3LmRlZmVuc2V3b3JsZC5uZXQvMjAyNC8wNi8yNC91bmlxdWUtd2VhbHRoLWxsYy10YWtlcy1wb3NpdGlvbi1pbi1lbGktbGlsbHktYW5kLWNvbXBhbnktbnlzZWxseS5odG1s0gEA)  "
      ],
      "text/plain": [
       "<IPython.core.display.Markdown object>"
      ]
     },
     "metadata": {},
     "output_type": "display_data"
    },
    {
     "data": {
      "text/markdown": [
       "[2024-06-26 21:47:17.240639+00:00 Range Financial Group LLC Acquires 60 Shares of Eli Lilly and Company (NYSE:LLY)](https://news.google.com/articles/CBMiemh0dHBzOi8vd3d3LmRlZmVuc2V3b3JsZC5uZXQvMjAyNC8wNi8yNS9yYW5nZS1maW5hbmNpYWwtZ3JvdXAtbGxjLWFjcXVpcmVzLTYwLXNoYXJlcy1vZi1lbGktbGlsbHktYW5kLWNvbXBhbnktbnlzZWxseS5odG1s0gEA)  "
      ],
      "text/plain": [
       "<IPython.core.display.Markdown object>"
      ]
     },
     "metadata": {},
     "output_type": "display_data"
    },
    {
     "data": {
      "text/markdown": [
       "[2024-06-26 21:47:17.240639+00:00 Radnor Capital Management LLC Trims Position in Eli Lilly and Company (NYSE:LLY)](https://news.google.com/articles/CBMiemh0dHBzOi8vd3d3LmRlZmVuc2V3b3JsZC5uZXQvMjAyNC8wNi8yNC9yYWRub3ItY2FwaXRhbC1tYW5hZ2VtZW50LWxsYy10cmltcy1wb3NpdGlvbi1pbi1lbGktbGlsbHktYW5kLWNvbXBhbnktbnlzZWxseS5odG1s0gEA)  "
      ],
      "text/plain": [
       "<IPython.core.display.Markdown object>"
      ]
     },
     "metadata": {},
     "output_type": "display_data"
    },
    {
     "data": {
      "text/markdown": [
       "[2024-06-26 21:47:17.240639+00:00 Eli Lilly & Co. (LLY) Declares $1.30 Quarterly Dividend; 0.6% Yield](https://news.google.com/articles/CBMihQFodHRwczovL3d3dy5zdHJlZXRpbnNpZGVyLmNvbS9EaXZpZGVuZHMvRWxpK0xpbGx5KyUyNitDby4rJTI4TExZJTI5K0RlY2xhcmVzKyUyNDEuMzArUXVhcnRlcmx5K0RpdmlkZW5kJTNCKzAuNiUyNStZaWVsZC8yMzM4ODY1My5odG1s0gEA)  "
      ],
      "text/plain": [
       "<IPython.core.display.Markdown object>"
      ]
     },
     "metadata": {},
     "output_type": "display_data"
    },
    {
     "data": {
      "text/markdown": [
       "[2024-06-26 21:47:17.240639+00:00 Eli Lilly Stock At Yet-Another All-Time High. Check Out New Names Added To IBD Best Stocks Lists](https://news.google.com/articles/CBMigwFodHRwczovL3d3dy5pbnZlc3RvcnMuY29tL3Jlc2VhcmNoL2VsaS1saWxseS1zdG9jay1hdC15ZXQtYW5vdGhlci1hbGwtdGltZS1oaWdoLWNoZWNrLW91dC1uZXctbmFtZXMtYWRkZWQtdG8taWJkLWJlc3Qtc3RvY2tzLWxpc3RzL9IBAA)  "
      ],
      "text/plain": [
       "<IPython.core.display.Markdown object>"
      ]
     },
     "metadata": {},
     "output_type": "display_data"
    },
    {
     "data": {
      "text/markdown": [
       "[2024-06-26 21:47:17.240639+00:00 Eli Lilly and Company (NYSE:LLY) Receives “Buy” Rating from Bank of America](https://news.google.com/articles/CBMic2h0dHBzOi8vd3d3LmRlZmVuc2V3b3JsZC5uZXQvMjAyNC8wNi8yNS9lbGktbGlsbHktYW5kLWNvbXBhbnktbnlzZWxseS1yZWNlaXZlcy1idXktcmF0aW5nLWZyb20tYmFuay1vZi1hbWVyaWNhLmh0bWzSAQA)  "
      ],
      "text/plain": [
       "<IPython.core.display.Markdown object>"
      ]
     },
     "metadata": {},
     "output_type": "display_data"
    },
    {
     "data": {
      "text/markdown": [
       "[2024-06-26 21:47:17.240639+00:00 Eli Lilly and Company (NYSE:LLY) Receives Buy Rating from Truist Financial](https://news.google.com/articles/CBMiUGh0dHBzOi8vd3d3Lm1hcmtldGJlYXQuY29tL2luc3RhbnQtYWxlcnRzL255c2UtbGx5LXJlaXRlcmF0ZWQtcmF0aW5nLTIwMjQtMDYtMjUv0gEA)  "
      ],
      "text/plain": [
       "<IPython.core.display.Markdown object>"
      ]
     },
     "metadata": {},
     "output_type": "display_data"
    },
    {
     "data": {
      "text/markdown": [
       "[2024-06-26 21:47:17.240639+00:00 Eli Lilly and Company (NYSE:LLY) Given Buy Rating at Truist Financial](https://news.google.com/articles/CBMib2h0dHBzOi8vd3d3LmRlZmVuc2V3b3JsZC5uZXQvMjAyNC8wNi8yNi9lbGktbGlsbHktYW5kLWNvbXBhbnktbnlzZWxseS1naXZlbi1idXktcmF0aW5nLWF0LXRydWlzdC1maW5hbmNpYWwuaHRtbNIBAA)  "
      ],
      "text/plain": [
       "<IPython.core.display.Markdown object>"
      ]
     },
     "metadata": {},
     "output_type": "display_data"
    },
    {
     "data": {
      "text/markdown": [
       "[2024-06-26 21:47:17.240639+00:00 Up 400% In 3 Years, Eli Lilly Stock Just Keeps Giving](https://news.google.com/articles/CBMicmh0dHBzOi8vd3d3LmZvcmJlcy5jb20vc2l0ZXMvZ3JlYXRzcGVjdWxhdGlvbnMvMjAyNC8wNi8wNy91cC00MDAtaW4tdGhyZWUteWVhcnMtZWxpLWxpbGx5LXN0b2NrLWp1c3Qta2VlcHMtZ2l2aW5nL9IBAA)  "
      ],
      "text/plain": [
       "<IPython.core.display.Markdown object>"
      ]
     },
     "metadata": {},
     "output_type": "display_data"
    },
    {
     "data": {
      "text/markdown": [
       "[2024-06-26 21:47:17.240639+00:00 Mechanics Bank Trust Department Has $3.22 Million Position in Eli Lilly and Company (NYSE:LLY)](https://news.google.com/articles/CBMihwFodHRwczovL3d3dy5kZWZlbnNld29ybGQubmV0LzIwMjQvMDYvMjYvbWVjaGFuaWNzLWJhbmstdHJ1c3QtZGVwYXJ0bWVudC1oYXMtMy0yMi1taWxsaW9uLXBvc2l0aW9uLWluLWVsaS1saWxseS1hbmQtY29tcGFueS1ueXNlbGx5Lmh0bWzSAQA)  "
      ],
      "text/plain": [
       "<IPython.core.display.Markdown object>"
      ]
     },
     "metadata": {},
     "output_type": "display_data"
    },
    {
     "data": {
      "text/markdown": [
       "[2024-06-26 21:47:17.240639+00:00 What's Going On With Eli Lilly Stock On Tuesday? - Eli Lilly and Co (NYSE:LLY)](https://news.google.com/articles/CBMiZmh0dHBzOi8vd3d3LmJlbnppbmdhLmNvbS9nZW5lcmFsL2Jpb3RlY2gvMjQvMDYvMzk0ODU3NDIvd2hhdHMtZ29pbmctb24td2l0aC1lbGktbGlsbHktc3RvY2stb24tdHVlc2RhedIBAA)  "
      ],
      "text/plain": [
       "<IPython.core.display.Markdown object>"
      ]
     },
     "metadata": {},
     "output_type": "display_data"
    },
    {
     "data": {
      "text/markdown": [
       "[2024-06-26 21:47:17.240639+00:00 Eli Lilly Stock: FDA Panelists Unanimously Back Lilly's Biogen-Rivaling Alzheimer's Drug](https://news.google.com/articles/CBMiZmh0dHBzOi8vd3d3LmludmVzdG9ycy5jb20vbmV3cy90ZWNobm9sb2d5L2VsaS1saWxseS1zdG9jay1mZGEtYWR2aXNvcnktY29tbWl0dGVlLWFsemhlaW1lcnMtdHJlYXRtZW50L9IBAA)  "
      ],
      "text/plain": [
       "<IPython.core.display.Markdown object>"
      ]
     },
     "metadata": {},
     "output_type": "display_data"
    },
    {
     "data": {
      "text/markdown": [
       "[2024-06-26 21:47:17.240639+00:00 Eli Lilly Stock Runs Up 49% Amid Lofty Expectations For Weight-Loss Drug](https://news.google.com/articles/CBMiYWh0dHBzOi8vd3d3LmludmVzdG9ycy5jb20vcmVzZWFyY2gvdGhlLW5ldy1hbWVyaWNhL2VsaS1saWxseS1zdG9jay13ZWlnaHQtbG9zcy1kcnVnLWV4cGVjdGF0aW9ucy_SAQA)  "
      ],
      "text/plain": [
       "<IPython.core.display.Markdown object>"
      ]
     },
     "metadata": {},
     "output_type": "display_data"
    },
    {
     "data": {
      "text/markdown": [
       "[2024-06-26 21:47:17.240639+00:00 Eli Lilly Stock Analysis: Buy, Hold, or Sell?](https://news.google.com/articles/CBMiSWh0dHBzOi8vd3d3Lm5hc2RhcS5jb20vYXJ0aWNsZXMvZWxpLWxpbGx5LXN0b2NrLWFuYWx5c2lzLWJ1eS1ob2xkLW9yLXNlbGzSAQA)  "
      ],
      "text/plain": [
       "<IPython.core.display.Markdown object>"
      ]
     },
     "metadata": {},
     "output_type": "display_data"
    },
    {
     "data": {
      "text/markdown": [
       "[2024-06-26 21:47:17.240639+00:00 Here's How Much a $1000 Investment in Eli Lilly Made 10 Years Ago Would Be Worth Today](https://news.google.com/articles/CBMiTGh0dHBzOi8vZmluYW5jZS55YWhvby5jb20vbmV3cy9oZXJlcy1tdWNoLTEwMDAtaW52ZXN0bWVudC1lbGktMTIzMDAzOTIxLmh0bWzSAQA)  "
      ],
      "text/plain": [
       "<IPython.core.display.Markdown object>"
      ]
     },
     "metadata": {},
     "output_type": "display_data"
    },
    {
     "data": {
      "text/markdown": [
       "[2024-06-26 21:47:17.240639+00:00 Orser Capital Management LLC Purchases 36 Shares of Eli Lilly and Company (NYSE:LLY)](https://news.google.com/articles/CBMifmh0dHBzOi8vd3d3LmRlZmVuc2V3b3JsZC5uZXQvMjAyNC8wNi8yNC9vcnNlci1jYXBpdGFsLW1hbmFnZW1lbnQtbGxjLXB1cmNoYXNlcy0zNi1zaGFyZXMtb2YtZWxpLWxpbGx5LWFuZC1jb21wYW55LW55c2VsbHkuaHRtbNIBAA)  "
      ],
      "text/plain": [
       "<IPython.core.display.Markdown object>"
      ]
     },
     "metadata": {},
     "output_type": "display_data"
    },
    {
     "data": {
      "text/markdown": [
       "[2024-06-26 21:47:17.240639+00:00 Eli Lilly And Company (LLY) Partners With OpenAI To Create “Novel Antimicrobials” For Drug-Resistant Pathogens](https://news.google.com/articles/CBMigAFodHRwczovL3djY2Z0ZWNoLmNvbS9lbGktbGlsbHktYW5kLWNvbXBhbnktbGx5LXBhcnRuZXJzLXdpdGgtb3BlbmFpLXRvLWNyZWF0ZS1ub3ZlbC1hbnRpbWljcm9iaWFscy1mb3ItZHJ1Zy1yZXNpc3RhbnQtcGF0aG9nZW5zL9IBhAFodHRwczovL3djY2Z0ZWNoLmNvbS9lbGktbGlsbHktYW5kLWNvbXBhbnktbGx5LXBhcnRuZXJzLXdpdGgtb3BlbmFpLXRvLWNyZWF0ZS1ub3ZlbC1hbnRpbWljcm9iaWFscy1mb3ItZHJ1Zy1yZXNpc3RhbnQtcGF0aG9nZW5zL2FtcC8)  "
      ],
      "text/plain": [
       "<IPython.core.display.Markdown object>"
      ]
     },
     "metadata": {},
     "output_type": "display_data"
    },
    {
     "data": {
      "text/markdown": [
       "[2024-06-26 21:47:17.240639+00:00 Eli Lilly (NYSE:LLY) Notches Up on Pursuit of Bogus Mounjaro - TipRanks.com](https://news.google.com/articles/CBMiV2h0dHBzOi8vd3d3LnRpcHJhbmtzLmNvbS9uZXdzL2VsaS1saWxseS1ueXNlbGx5LW5vdGNoZXMtdXAtb24tcHVyc3VpdC1vZi1ib2d1cy1tb3VuamFyb9IBAA)  "
      ],
      "text/plain": [
       "<IPython.core.display.Markdown object>"
      ]
     },
     "metadata": {},
     "output_type": "display_data"
    },
    {
     "data": {
      "text/markdown": [
       "[2024-06-26 21:47:17.240639+00:00 Peak Financial Advisors LLC Decreases Holdings in Eli Lilly and Company (NYSE:LLY)](https://news.google.com/articles/CBMifGh0dHBzOi8vd3d3LmRlZmVuc2V3b3JsZC5uZXQvMjAyNC8wNi8yNS9wZWFrLWZpbmFuY2lhbC1hZHZpc29ycy1sbGMtZGVjcmVhc2VzLWhvbGRpbmdzLWluLWVsaS1saWxseS1hbmQtY29tcGFueS1ueXNlbGx5Lmh0bWzSAQA)  "
      ],
      "text/plain": [
       "<IPython.core.display.Markdown object>"
      ]
     },
     "metadata": {},
     "output_type": "display_data"
    },
    {
     "data": {
      "text/markdown": [
       "[2024-06-26 21:47:17.240639+00:00 Eli Lilly (NYSE:LLY) Gains after Announcing OpenAI Partnership - TipRanks.com](https://news.google.com/articles/CBMiWWh0dHBzOi8vd3d3LnRpcHJhbmtzLmNvbS9uZXdzL2VsaS1saWxseS1ueXNlbGx5LWdhaW5zLWFmdGVyLWFubm91bmNpbmctb3BlbmFpLXBhcnRuZXJzaGlw0gEA)  "
      ],
      "text/plain": [
       "<IPython.core.display.Markdown object>"
      ]
     },
     "metadata": {},
     "output_type": "display_data"
    },
    {
     "data": {
      "text/markdown": [
       "[2024-06-26 21:47:17.240639+00:00 RFG Advisory LLC Has $5.06 Million Stock Position in Eli Lilly and Company (NYSE:LLY)](https://news.google.com/articles/CBMifmh0dHBzOi8vd3d3LmRlZmVuc2V3b3JsZC5uZXQvMjAyNC8wNi8yMy9yZmctYWR2aXNvcnktbGxjLWhhcy01LTA2LW1pbGxpb24tc3RvY2stcG9zaXRpb24taW4tZWxpLWxpbGx5LWFuZC1jb21wYW55LW55c2VsbHkuaHRtbNIBAA)  "
      ],
      "text/plain": [
       "<IPython.core.display.Markdown object>"
      ]
     },
     "metadata": {},
     "output_type": "display_data"
    },
    {
     "data": {
      "text/markdown": [
       "[2024-06-26 21:47:17.240639+00:00 Harbor Investment Advisory LLC Has $8.05 Million Stock Holdings in Eli Lilly and Company (NYSE:LLY)](https://news.google.com/articles/CBMijAFodHRwczovL3d3dy5kZWZlbnNld29ybGQubmV0LzIwMjQvMDYvMjUvaGFyYm9yLWludmVzdG1lbnQtYWR2aXNvcnktbGxjLWhhcy04LTA1LW1pbGxpb24tc3RvY2staG9sZGluZ3MtaW4tZWxpLWxpbGx5LWFuZC1jb21wYW55LW55c2VsbHkuaHRtbNIBAA)  "
      ],
      "text/plain": [
       "<IPython.core.display.Markdown object>"
      ]
     },
     "metadata": {},
     "output_type": "display_data"
    },
    {
     "data": {
      "text/markdown": [
       "[2024-06-26 21:45:21+00:00 Eli Lilly  ( LLY )  Stock Drops Despite Market Gains: Important Facts to Note](https://www.zacks.com/stock/news/2293935/eli-lilly-lly-stock-drops-despite-market-gains-important-facts-to-note)  "
      ],
      "text/plain": [
       "<IPython.core.display.Markdown object>"
      ]
     },
     "metadata": {},
     "output_type": "display_data"
    },
    {
     "data": {
      "text/markdown": [
       "[2024-06-26 20:00:05+00:00 4 Form - Statement of changes in beneficial ownership of securities - ELI LILLY & Co (0000059478) (Issuer)](https://newsfilter.io/articles/4-form---statement-of-changes-in-beneficial-ownership-of-securities---eli-lilly--co-0000059478-issue-845aa6c69fa0bcc34f13c0f24a2caefc)  "
      ],
      "text/plain": [
       "<IPython.core.display.Markdown object>"
      ]
     },
     "metadata": {},
     "output_type": "display_data"
    },
    {
     "data": {
      "text/markdown": [
       "[2024-06-26 14:55:01+00:00 Yahoo Video: Novo Nordisk, Eli Lilly still top 2 pharma stocks: Analyst](https://finance.yahoo.com/news/yahoo-video-novo-nordisk-eli-145501523.html)  "
      ],
      "text/plain": [
       "<IPython.core.display.Markdown object>"
      ]
     },
     "metadata": {},
     "output_type": "display_data"
    },
    {
     "data": {
      "text/markdown": [
       "[2024-06-26 13:25:08+00:00 314 Shares in Eli Lilly and Company (NYSE:LLY) Acquired by Central Valley Advisors LLC](https://www.etfdailynews.com/2024/06/26/314-shares-in-eli-lilly-and-company-nyselly-acquired-by-central-valley-advisors-llc/)  "
      ],
      "text/plain": [
       "<IPython.core.display.Markdown object>"
      ]
     },
     "metadata": {},
     "output_type": "display_data"
    },
    {
     "data": {
      "text/markdown": [
       "[2024-06-26 08:22:41+00:00 Eli Lilly and Company’s (LLY) Buy Rating Reiterated at Truist Financial](https://www.etfdailynews.com/2024/06/26/eli-lilly-and-companys-lly-buy-rating-reiterated-at-truist-financial/)  "
      ],
      "text/plain": [
       "<IPython.core.display.Markdown object>"
      ]
     },
     "metadata": {},
     "output_type": "display_data"
    },
    {
     "data": {
      "text/markdown": [
       "[2024-06-26 07:32:00+00:00 Chart Of The Day: Eli Lilly - More New Highs](https://finnhub.io/api/news?id=8b8511f7bc94b678c83bec4448b1fe4c15bbaa2d1cfbe241ef446d91eceb8f2a)  "
      ],
      "text/plain": [
       "<IPython.core.display.Markdown object>"
      ]
     },
     "metadata": {},
     "output_type": "display_data"
    },
    {
     "data": {
      "text/markdown": [
       "[2024-06-25 18:12:42+00:00 Harbor Investment Advisory LLC Purchases 421 Shares of Eli Lilly and Company (NYSE:LLY)](https://www.etfdailynews.com/2024/06/25/harbor-investment-advisory-llc-purchases-421-shares-of-eli-lilly-and-company-nyselly/)  "
      ],
      "text/plain": [
       "<IPython.core.display.Markdown object>"
      ]
     },
     "metadata": {},
     "output_type": "display_data"
    },
    {
     "data": {
      "text/markdown": [
       "[2024-06-25 18:12:41+00:00 Global Assets Advisory LLC Invests $325.42 Million in Eli Lilly and Company (NYSE:LLY)](https://www.etfdailynews.com/2024/06/25/global-assets-advisory-llc-invests-325-42-million-in-eli-lilly-and-company-nyselly/)  "
      ],
      "text/plain": [
       "<IPython.core.display.Markdown object>"
      ]
     },
     "metadata": {},
     "output_type": "display_data"
    },
    {
     "data": {
      "text/markdown": [
       "[2024-06-25 17:04:45+00:00 Pacifica Partners Inc. Has $510,000 Stock Position in Eli Lilly and Company (NYSE:LLY)](https://www.etfdailynews.com/2024/06/25/pacifica-partners-inc-has-510000-stock-position-in-eli-lilly-and-company-nyselly/)  "
      ],
      "text/plain": [
       "<IPython.core.display.Markdown object>"
      ]
     },
     "metadata": {},
     "output_type": "display_data"
    },
    {
     "data": {
      "text/markdown": [
       "[2024-06-25 16:50:29+00:00 What's Going On With Eli Lilly Stock On Tuesday? - Eli Lilly and Co  ( NYSE:LLY ) ](https://www.benzinga.com/general/biotech/24/06/39485742/whats-going-on-with-eli-lilly-stock-on-tuesday)  "
      ],
      "text/plain": [
       "<IPython.core.display.Markdown object>"
      ]
     },
     "metadata": {},
     "output_type": "display_data"
    },
    {
     "data": {
      "text/markdown": [
       "[2024-06-25 13:48:07+00:00 This Is What Whales Are Betting On Eli Lilly and Co - Eli Lilly and Co  ( NYSE:LLY ) ](https://www.benzinga.com/insights/options/24/06/39480553/this-is-what-whales-are-betting-on-eli-lilly-and-co)  "
      ],
      "text/plain": [
       "<IPython.core.display.Markdown object>"
      ]
     },
     "metadata": {},
     "output_type": "display_data"
    },
    {
     "data": {
      "text/markdown": [
       "[2024-06-25 13:05:00+00:00 Is Eli Lilly  ( LLY )  a Buy on Tirzepatide Success in Sleep Apnea?](https://www.zacks.com/stock/news/2292780/is-eli-lilly-lly-a-buy-on-tirzepatide-success-in-sleep-apnea)  "
      ],
      "text/plain": [
       "<IPython.core.display.Markdown object>"
      ]
     },
     "metadata": {},
     "output_type": "display_data"
    },
    {
     "data": {
      "text/markdown": [
       "[2024-06-25 13:04:41+00:00 AdvisorNet Financial Inc Lowers Stock Position in Eli Lilly and Company (NYSE:LLY)](https://www.etfdailynews.com/2024/06/25/advisornet-financial-inc-lowers-stock-position-in-eli-lilly-and-company-nyselly/)  "
      ],
      "text/plain": [
       "<IPython.core.display.Markdown object>"
      ]
     },
     "metadata": {},
     "output_type": "display_data"
    },
    {
     "data": {
      "text/markdown": [
       "[2024-06-25 12:41:00+00:00 ResMed cut at Oppenheimer after Eli Lilly’s tirzepatide sleep apnea data](https://finnhub.io/api/news?id=2db8b029c6fd72fe5ed95ea5019a4ca9789076723deb5dadc52323249ab49f4f)  "
      ],
      "text/plain": [
       "<IPython.core.display.Markdown object>"
      ]
     },
     "metadata": {},
     "output_type": "display_data"
    },
    {
     "data": {
      "text/markdown": [
       "[2024-06-25 11:56:00+00:00 What's Going On With Eli Lilly Stock On Tuesday?](https://finnhub.io/api/news?id=c9326fd7b57b1c5eaa0922367988f0ccc8bb05e82862f431e812ece43d83bb36)  "
      ],
      "text/plain": [
       "<IPython.core.display.Markdown object>"
      ]
     },
     "metadata": {},
     "output_type": "display_data"
    },
    {
     "data": {
      "text/markdown": [
       "[2024-06-25 11:26:41+00:00 Lloyd Advisory Services LLC. Grows Holdings in Eli Lilly and Company (NYSE:LLY)](https://www.etfdailynews.com/2024/06/25/lloyd-advisory-services-llc-grows-holdings-in-eli-lilly-and-company-nyselly/)  "
      ],
      "text/plain": [
       "<IPython.core.display.Markdown object>"
      ]
     },
     "metadata": {},
     "output_type": "display_data"
    },
    {
     "data": {
      "text/markdown": [
       "[2024-06-25 11:18:00+00:00 Lilly gains approval of lebrikizumab in Canada for atopic dermatitis](https://finnhub.io/api/news?id=e2c89a20cd5a0bbcbe56db666507e7a1f9a387a3bc1e847668c2984de54da356)  "
      ],
      "text/plain": [
       "<IPython.core.display.Markdown object>"
      ]
     },
     "metadata": {},
     "output_type": "display_data"
    },
    {
     "data": {
      "text/markdown": [
       "[2024-06-25 11:06:18+00:00 Eli Lilly Working With OpenAI to Develop Medicines Against Drug-Resistant Pathogens](https://finnhub.io/api/news?id=15a4dacf90d04d332392f0c132e37549deec16755cca10a92adb622c4243b753)  "
      ],
      "text/plain": [
       "<IPython.core.display.Markdown object>"
      ]
     },
     "metadata": {},
     "output_type": "display_data"
    },
    {
     "data": {
      "text/markdown": [
       "[2024-06-25 10:48:25+00:00 Eli Lilly: collaboration agreement with OpenAI](https://finnhub.io/api/news?id=b1f8f5fe8e158e5793503693dcf57bde501b5a9f953bd41a6705acadcddc5dec)  "
      ],
      "text/plain": [
       "<IPython.core.display.Markdown object>"
      ]
     },
     "metadata": {},
     "output_type": "display_data"
    },
    {
     "data": {
      "text/markdown": [
       "[2024-06-25 10:12:00+00:00 Eli Lilly collaborates with OpenAI for medicines against drug-resistant bacteria](https://finnhub.io/api/news?id=b2ec1c2e223abcd0c5b534878e8edcc7c7625d69d59fd1210af48f2d6d56f177)  "
      ],
      "text/plain": [
       "<IPython.core.display.Markdown object>"
      ]
     },
     "metadata": {},
     "output_type": "display_data"
    },
    {
     "data": {
      "text/markdown": [
       "[2024-06-25 09:04:00+00:00 Eli Lilly collaborates with OpenAI to discover novel antimicrobials](https://finnhub.io/api/news?id=f7b2272cc825bd6cf1ed8f7419a14faec5835a0ce8f89b02c23e59a8d325274f)  "
      ],
      "text/plain": [
       "<IPython.core.display.Markdown object>"
      ]
     },
     "metadata": {},
     "output_type": "display_data"
    },
    {
     "data": {
      "text/markdown": [
       "[2024-06-25 08:54:00+00:00 This Is What Whales Are Betting On Eli Lilly and Co](https://finnhub.io/api/news?id=e56e49752319f54c81782d598121fe9ff9cf8f0faa034578bb505362eb4b3bda)  "
      ],
      "text/plain": [
       "<IPython.core.display.Markdown object>"
      ]
     },
     "metadata": {},
     "output_type": "display_data"
    },
    {
     "data": {
      "text/markdown": [
       "[2024-06-25 08:26:00+00:00 Eli Lilly price target raised by $108 at Truist, here's why](https://finnhub.io/api/news?id=e67f0bf46570a51331cfd31316dc2d9cf8944832b0cba952f837a2b87a9e6f4e)  "
      ],
      "text/plain": [
       "<IPython.core.display.Markdown object>"
      ]
     },
     "metadata": {},
     "output_type": "display_data"
    },
    {
     "data": {
      "text/markdown": [
       "[2024-06-25 06:44:48+00:00 Eli Lilly and Company (NYSE:LLY) Receives “Overweight” Rating from Cantor Fitzgerald](https://www.etfdailynews.com/2024/06/25/eli-lilly-and-company-nyselly-receives-overweight-rating-from-cantor-fitzgerald/)  "
      ],
      "text/plain": [
       "<IPython.core.display.Markdown object>"
      ]
     },
     "metadata": {},
     "output_type": "display_data"
    },
    {
     "data": {
      "text/markdown": [
       "[2024-06-25 06:27:00+00:00 Truist Financial Reaffirms Their Buy Rating on Eli Lilly & Co (LLY)](https://finnhub.io/api/news?id=f505aeabaf32756cac681eedf4047585f6da0e3ee6fbbb0537762e43b7b9dfe3)  "
      ],
      "text/plain": [
       "<IPython.core.display.Markdown object>"
      ]
     },
     "metadata": {},
     "output_type": "display_data"
    },
    {
     "data": {
      "text/markdown": [
       "[2024-06-25 05:21:00+00:00 Eli Lilly (NYSE:LLY) Gains after Announcing OpenAI Partnership](https://finnhub.io/api/news?id=0f3299e8ae27a2329bc65ebf4a4ef41c9b7c3af58f4591616feca758ceb5c31b)  "
      ],
      "text/plain": [
       "<IPython.core.display.Markdown object>"
      ]
     },
     "metadata": {},
     "output_type": "display_data"
    },
    {
     "data": {
      "text/markdown": [
       "[2024-06-24 20:50:41+00:00 High Net Worth Advisory Group LLC Acquires 67 Shares of Eli Lilly and Company (NYSE:LLY)](https://www.etfdailynews.com/2024/06/24/high-net-worth-advisory-group-llc-acquires-67-shares-of-eli-lilly-and-company-nyselly/)  "
      ],
      "text/plain": [
       "<IPython.core.display.Markdown object>"
      ]
     },
     "metadata": {},
     "output_type": "display_data"
    },
    {
     "data": {
      "text/markdown": [
       "[2024-06-24 20:18:06+00:00 What's Going On With Eli Lilly Shares Monday? - Eli Lilly and Co  ( NYSE:LLY ) ](https://www.benzinga.com/news/24/06/39466189/whats-going-on-with-eli-lilly-shares-monday)  "
      ],
      "text/plain": [
       "<IPython.core.display.Markdown object>"
      ]
     },
     "metadata": {},
     "output_type": "display_data"
    },
    {
     "data": {
      "text/markdown": [
       "[2024-06-24 20:11:10+00:00 11-K Form - Annual report of employee stock purchase, savings and similar plans - ELI LILLY & Co (0000059478) (Filer)](https://newsfilter.io/articles/11-k-form---annual-report-of-employee-stock-purchase-savings-and-similar-plans---eli-lilly--co-00000-d4fa1c9f1b4290e96de061cd7c6074a2)  "
      ],
      "text/plain": [
       "<IPython.core.display.Markdown object>"
      ]
     },
     "metadata": {},
     "output_type": "display_data"
    },
    {
     "data": {
      "text/markdown": [
       "[2024-06-24 19:46:41+00:00 Anderson Hoagland & Co. Has $17.39 Million Stock Position in Eli Lilly and Company (NYSE:LLY)](https://www.etfdailynews.com/2024/06/24/anderson-hoagland-co-has-17-39-million-stock-position-in-eli-lilly-and-company-nyselly/)  "
      ],
      "text/plain": [
       "<IPython.core.display.Markdown object>"
      ]
     },
     "metadata": {},
     "output_type": "display_data"
    },
    {
     "data": {
      "text/markdown": [
       "[2024-06-24 19:12:41+00:00 Abacus Planning Group Inc. Cuts Holdings in Eli Lilly and Company (NYSE:LLY)](https://www.etfdailynews.com/2024/06/24/abacus-planning-group-inc-cuts-holdings-in-eli-lilly-and-company-nyselly/)  "
      ],
      "text/plain": [
       "<IPython.core.display.Markdown object>"
      ]
     },
     "metadata": {},
     "output_type": "display_data"
    },
    {
     "data": {
      "text/markdown": [
       "[2024-06-24 18:16:20+00:00 Will Novo Nordisk Building Fires Serve As A Catalyst For Eli Lilly? Redditors See A Stock Split For US Company 'Very Likely'](https://biztoc.com/x/bf1cacadcdd2dad8)  "
      ],
      "text/plain": [
       "<IPython.core.display.Markdown object>"
      ]
     },
     "metadata": {},
     "output_type": "display_data"
    },
    {
     "data": {
      "text/markdown": [
       "[2024-06-24 18:08:51+00:00 Will Novo Nordisk Building Fires Serve As A Catalyst For Eli Lilly? Redditors See A Stock Split For US Company 'Very Likely' - Novo Nordisk  ( NYSE:NVO ) , Eli Lilly and Co  ( NYSE:LLY ) ](https://www.benzinga.com/general/biotech/24/06/39463758/will-novo-nordisk-building-fires-serve-as-a-catalyst-for-eli-lilly-redditors-see-a-stock-split-fo)  "
      ],
      "text/plain": [
       "<IPython.core.display.Markdown object>"
      ]
     },
     "metadata": {},
     "output_type": "display_data"
    },
    {
     "data": {
      "text/markdown": [
       "[2024-06-24 17:22:42+00:00 Bridge Creek Capital Management LLC Reduces Position in Eli Lilly and Company (NYSE:LLY)](https://www.etfdailynews.com/2024/06/24/bridge-creek-capital-management-llc-reduces-position-in-eli-lilly-and-company-nyselly/)  "
      ],
      "text/plain": [
       "<IPython.core.display.Markdown object>"
      ]
     },
     "metadata": {},
     "output_type": "display_data"
    },
    {
     "data": {
      "text/markdown": [
       "[2024-06-24 16:12:42+00:00 Murphy Pohlad Asset Management LLC Reduces Stock Holdings in Eli Lilly and Company (NYSE:LLY)](https://www.etfdailynews.com/2024/06/24/murphy-pohlad-asset-management-llc-reduces-stock-holdings-in-eli-lilly-and-company-nyselly/)  "
      ],
      "text/plain": [
       "<IPython.core.display.Markdown object>"
      ]
     },
     "metadata": {},
     "output_type": "display_data"
    },
    {
     "data": {
      "text/markdown": [
       "[2024-06-24 14:20:18+00:00 Trending : Lilly Anti-Obesity Drug Tirzepatide Reduces Sleep Apnea Severity in Studies](https://finnhub.io/api/news?id=9c5991d97720fbe9f88067b2845a0e3a611135812d674a229297e3b9857b3292)  "
      ],
      "text/plain": [
       "<IPython.core.display.Markdown object>"
      ]
     },
     "metadata": {},
     "output_type": "display_data"
    },
    {
     "data": {
      "text/markdown": [
       "[2024-06-24 13:54:00+00:00 ResMed Stock Dives. Blame Eli Lilly’s Zepbound Trials for Sleep Apnea.](https://finnhub.io/api/news?id=0c5aac27517abe7c9c6fc226e1308708d35db212b784d4654bf28adf6b08ff45)  "
      ],
      "text/plain": [
       "<IPython.core.display.Markdown object>"
      ]
     },
     "metadata": {},
     "output_type": "display_data"
    },
    {
     "data": {
      "text/markdown": [
       "[2024-06-24 13:23:57+00:00 Eli Lilly's Weight-Loss Drug Takes Down ResMed, Inspire Medical — Again](https://finnhub.io/api/news?id=eded1778eeed57ffb72fe6055a50b9f8393e03a0073581283bcb012ab38a36de)  "
      ],
      "text/plain": [
       "<IPython.core.display.Markdown object>"
      ]
     },
     "metadata": {},
     "output_type": "display_data"
    },
    {
     "data": {
      "text/markdown": [
       "[2024-06-24 13:23:00+00:00 Lilly's Weight-Loss Drug Takes Down ResMed, Inspire - Again](https://www.investors.com/news/technology/resmed-stock-inspire-medical-systems-stock-obstructive-sleep-apnea-eli-lilly-weight-loss/)  "
      ],
      "text/plain": [
       "<IPython.core.display.Markdown object>"
      ]
     },
     "metadata": {},
     "output_type": "display_data"
    },
    {
     "data": {
      "text/markdown": [
       "[2024-06-24 13:20:42+00:00 International Assets Investment Management LLC Purchases 1,160 Shares of Eli Lilly and Company (NYSE:LLY)](https://www.etfdailynews.com/2024/06/24/international-assets-investment-management-llc-purchases-1160-shares-of-eli-lilly-and-company-nyselly/)  "
      ],
      "text/plain": [
       "<IPython.core.display.Markdown object>"
      ]
     },
     "metadata": {},
     "output_type": "display_data"
    },
    {
     "data": {
      "text/markdown": [
       "[2024-06-24 13:00:15+00:00 Investors Heavily Search Eli Lilly and Company  ( LLY ) : Here is What You Need to Know](https://www.zacks.com/stock/news/2292048/investors-heavily-search-eli-lilly-and-company-lly-here-is-what-you-need-to-know)  "
      ],
      "text/plain": [
       "<IPython.core.display.Markdown object>"
      ]
     },
     "metadata": {},
     "output_type": "display_data"
    },
    {
     "data": {
      "text/markdown": [
       "[2024-06-24 12:29:43+00:00 What's Going On With Eli Lilly Stock On Monday? - Eli Lilly and Co  ( NYSE:LLY ) ](https://www.benzinga.com/general/biotech/24/06/39454632/eli-lillys-zepbound-for-weight-loss-shows-disease-resolution-in-obese-sleep-apnea-patients-lays-f)  "
      ],
      "text/plain": [
       "<IPython.core.display.Markdown object>"
      ]
     },
     "metadata": {},
     "output_type": "display_data"
    },
    {
     "data": {
      "text/markdown": [
       "[2024-06-24 12:11:00+00:00 Obesity drugs from Altimmune, Hengrui show potential; Lilly details Zepbound sleep apnea data](https://finnhub.io/api/news?id=20b2d5482f9888e48e45718cff0150e0bb7dd55ba4871ac20bf6fba77c713824)  "
      ],
      "text/plain": [
       "<IPython.core.display.Markdown object>"
      ]
     },
     "metadata": {},
     "output_type": "display_data"
    },
    {
     "data": {
      "text/markdown": [
       "[2024-06-24 12:10:48+00:00 City State Bank Sells 203 Shares of Eli Lilly and Company (NYSE:LLY)](https://www.etfdailynews.com/2024/06/24/city-state-bank-sells-203-shares-of-eli-lilly-and-company-nyselly/)  "
      ],
      "text/plain": [
       "<IPython.core.display.Markdown object>"
      ]
     },
     "metadata": {},
     "output_type": "display_data"
    },
    {
     "data": {
      "text/markdown": [
       "[2024-06-24 10:40:00+00:00 Eli Lilly declares $1.30 dividend](https://finnhub.io/api/news?id=6734cede968b2139f99058caaf2f20a1cd5143426a993052cf120d6f9b584950)  "
      ],
      "text/plain": [
       "<IPython.core.display.Markdown object>"
      ]
     },
     "metadata": {},
     "output_type": "display_data"
    },
    {
     "data": {
      "text/markdown": [
       "[2024-06-24 10:33:00+00:00 These Stocks Are Moving the Most Today: Apple, Meta, Trump Media, RXO, Eli Lilly, ResMed, Under Armour, and More](https://finnhub.io/api/news?id=61aaf69fd03e4fd7d2494a7d69dc6814f1caf9000dcbc8e8e307c96ddacba60a)  "
      ],
      "text/plain": [
       "<IPython.core.display.Markdown object>"
      ]
     },
     "metadata": {},
     "output_type": "display_data"
    },
    {
     "data": {
      "text/markdown": [
       "[2024-06-24 10:20:00+00:00 Eli Lilly participates in a conference call with Cantor Fitzgerald](https://finnhub.io/api/news?id=6a5f51e4ffd6500e4fd6f510d737058f5a53b013a985a1bf85c8f0b9d477af70)  "
      ],
      "text/plain": [
       "<IPython.core.display.Markdown object>"
      ]
     },
     "metadata": {},
     "output_type": "display_data"
    },
    {
     "data": {
      "text/markdown": [
       "[2024-06-24 09:13:00+00:00 BofA says OSA resolution magnitude of tirzepatide not baked into Lilly shares](https://finnhub.io/api/news?id=575b4944c1fa15f810b6d9d49f6618c9e5155870f09269c4842a16edee526dbd)  "
      ],
      "text/plain": [
       "<IPython.core.display.Markdown object>"
      ]
     },
     "metadata": {},
     "output_type": "display_data"
    },
    {
     "data": {
      "text/markdown": [
       "[2024-06-24 08:42:04+00:00 Lilly’s tirzepatide reduces OSA severity in Phase III clinical trials](https://finnhub.io/api/news?id=a33c68a0bba5701cde0759182d6a19c8b7192ab79ae0aa41eb058eec57844644)  "
      ],
      "text/plain": [
       "<IPython.core.display.Markdown object>"
      ]
     },
     "metadata": {},
     "output_type": "display_data"
    },
    {
     "data": {
      "text/markdown": [
       "[2024-06-24 07:26:00+00:00 Eli Lilly & Co (LLY) Gets a Buy from Cantor Fitzgerald](https://finnhub.io/api/news?id=0065685a1ff1370114b865e4222beb8fbc9574c24ff03c4a3925c43e656075ba)  "
      ],
      "text/plain": [
       "<IPython.core.display.Markdown object>"
      ]
     },
     "metadata": {},
     "output_type": "display_data"
    },
    {
     "data": {
      "text/markdown": [
       "[2024-06-24 06:56:00+00:00 Eli Lilly & Co (LLY) Receives a Buy from Jefferies](https://finnhub.io/api/news?id=b4afb3590db71a0b9282f5888a3adc94db812b1ece693f4e83581d8eec9d84e3)  "
      ],
      "text/plain": [
       "<IPython.core.display.Markdown object>"
      ]
     },
     "metadata": {},
     "output_type": "display_data"
    },
    {
     "data": {
      "text/markdown": [
       "[2024-06-24 06:54:00+00:00 Eli Lilly price target raised by $21 at Jefferies, here's why](https://finnhub.io/api/news?id=f0ff4ab1a3458ba80a8c64734d7c90f718548683b5371f40be83a5cd74fc9232)  "
      ],
      "text/plain": [
       "<IPython.core.display.Markdown object>"
      ]
     },
     "metadata": {},
     "output_type": "display_data"
    },
    {
     "data": {
      "text/markdown": [
       "[2024-06-24 05:19:00+00:00 Buy Rating Affirmed for Eli Lilly on Tirzepatide’s Promise in OSA and Obesity Treatment](https://finnhub.io/api/news?id=08ad3250cb47156a757ca2fd79596823864cc252335a488bf2fe03c8773f8915)  "
      ],
      "text/plain": [
       "<IPython.core.display.Markdown object>"
      ]
     },
     "metadata": {},
     "output_type": "display_data"
    },
    {
     "data": {
      "text/markdown": [
       "[2024-06-24 04:53:13+00:00 Eli Lilly: Throwing Its Weight Around - But, For How Long? (Technical Analysis)](https://finnhub.io/api/news?id=0af06ec35d3dd2fb9319addf4bf6643c15d5135f7d1a9e9b6d2ec460d1842956)  "
      ],
      "text/plain": [
       "<IPython.core.display.Markdown object>"
      ]
     },
     "metadata": {},
     "output_type": "display_data"
    },
    {
     "data": {
      "text/markdown": [
       "[2024-06-24 02:21:00+00:00 Inspire Medical, ResMed decline following Lilly tirzepatide sleep apnea data](https://finnhub.io/api/news?id=fef2a1d521b0ebb037e34a1917f4f8b5d1f4953185d82100546fa1b463278d33)  "
      ],
      "text/plain": [
       "<IPython.core.display.Markdown object>"
      ]
     },
     "metadata": {},
     "output_type": "display_data"
    },
    {
     "data": {
      "text/markdown": [
       "[2024-06-23 18:02:44+00:00 Rockland Trust Co. Sells 338 Shares of Eli Lilly and Company (NYSE:LLY)](https://www.etfdailynews.com/2024/06/23/rockland-trust-co-sells-338-shares-of-eli-lilly-and-company-nyselly/)  "
      ],
      "text/plain": [
       "<IPython.core.display.Markdown object>"
      ]
     },
     "metadata": {},
     "output_type": "display_data"
    },
    {
     "data": {
      "text/markdown": [
       "[2024-06-23 17:26:45+00:00 MJP Associates Inc. ADV Buys 604 Shares of Eli Lilly and Company (NYSE:LLY)](https://www.etfdailynews.com/2024/06/23/mjp-associates-inc-adv-buys-604-shares-of-eli-lilly-and-company-nyselly/)  "
      ],
      "text/plain": [
       "<IPython.core.display.Markdown object>"
      ]
     },
     "metadata": {},
     "output_type": "display_data"
    },
    {
     "data": {
      "text/markdown": [
       "[2024-06-23 16:50:42+00:00 Allied Investment Advisors LLC Takes $209,000 Position in Eli Lilly and Company (NYSE:LLY)](https://www.etfdailynews.com/2024/06/23/allied-investment-advisors-llc-takes-209000-position-in-eli-lilly-and-company-nyselly/)  "
      ],
      "text/plain": [
       "<IPython.core.display.Markdown object>"
      ]
     },
     "metadata": {},
     "output_type": "display_data"
    },
    {
     "data": {
      "text/markdown": [
       "[2024-06-23 16:12:43+00:00 Gulf International Bank UK Ltd Has $53.45 Million Stock Holdings in Eli Lilly and Company (NYSE:LLY)](https://www.etfdailynews.com/2024/06/23/gulf-international-bank-uk-ltd-has-53-45-million-stock-holdings-in-eli-lilly-and-company-nyselly/)  "
      ],
      "text/plain": [
       "<IPython.core.display.Markdown object>"
      ]
     },
     "metadata": {},
     "output_type": "display_data"
    },
    {
     "data": {
      "text/markdown": [
       "[2024-06-23 16:12:43+00:00 Liberty Capital Management Inc. Sells 15 Shares of Eli Lilly and Company (NYSE:LLY)](https://www.etfdailynews.com/2024/06/23/liberty-capital-management-inc-sells-15-shares-of-eli-lilly-and-company-nyselly/)  "
      ],
      "text/plain": [
       "<IPython.core.display.Markdown object>"
      ]
     },
     "metadata": {},
     "output_type": "display_data"
    },
    {
     "data": {
      "text/markdown": [
       "[2024-06-23 15:40:42+00:00 Meyer Handelman Co. Sells 919 Shares of Eli Lilly and Company (NYSE:LLY)](https://www.etfdailynews.com/2024/06/23/meyer-handelman-co-sells-919-shares-of-eli-lilly-and-company-nyselly/)  "
      ],
      "text/plain": [
       "<IPython.core.display.Markdown object>"
      ]
     },
     "metadata": {},
     "output_type": "display_data"
    },
    {
     "data": {
      "text/markdown": [
       "[2024-06-23 12:22:43+00:00 Cardano Risk Management B.V. Acquires 199 Shares of Eli Lilly and Company (NYSE:LLY)](https://www.etfdailynews.com/2024/06/23/cardano-risk-management-b-v-acquires-199-shares-of-eli-lilly-and-company-nyselly/)  "
      ],
      "text/plain": [
       "<IPython.core.display.Markdown object>"
      ]
     },
     "metadata": {},
     "output_type": "display_data"
    },
    {
     "data": {
      "text/markdown": [
       "[2024-06-23 11:12:41+00:00 Triangle Securities Wealth Management Reduces Position in Eli Lilly and Company (NYSE:LLY)](https://www.etfdailynews.com/2024/06/23/triangle-securities-wealth-management-reduces-position-in-eli-lilly-and-company-nyselly/)  "
      ],
      "text/plain": [
       "<IPython.core.display.Markdown object>"
      ]
     },
     "metadata": {},
     "output_type": "display_data"
    },
    {
     "data": {
      "text/markdown": [
       "[2024-06-23 08:02:44+00:00 Eli Lilly and Company (NYSE:LLY) Stock Price Down 0.3%](https://www.etfdailynews.com/2024/06/23/eli-lilly-and-company-nyselly-stock-price-down-0-3/)  "
      ],
      "text/plain": [
       "<IPython.core.display.Markdown object>"
      ]
     },
     "metadata": {},
     "output_type": "display_data"
    },
    {
     "data": {
      "text/markdown": [
       "[2024-06-23 01:05:00+00:00 Lilly, Novo Nordisk to dominate weight loss therapy market: SA Investing Summit](https://finnhub.io/api/news?id=73b9f0ce2961cad4ea35db161ce99c432fad7488c2f127e0d20eacf5d96596ad)  "
      ],
      "text/plain": [
       "<IPython.core.display.Markdown object>"
      ]
     },
     "metadata": {},
     "output_type": "display_data"
    },
    {
     "data": {
      "text/markdown": [
       "[2024-06-22 17:20:45+00:00 Aprio Wealth Management LLC Purchases 378 Shares of Eli Lilly and Company (NYSE:LLY)](https://www.etfdailynews.com/2024/06/22/aprio-wealth-management-llc-purchases-378-shares-of-eli-lilly-and-company-nyselly/)  "
      ],
      "text/plain": [
       "<IPython.core.display.Markdown object>"
      ]
     },
     "metadata": {},
     "output_type": "display_data"
    },
    {
     "data": {
      "text/markdown": [
       "[2024-06-22 16:16:45+00:00 Threadgill Financial LLC Sells 225 Shares of Eli Lilly and Company (NYSE:LLY)](https://www.etfdailynews.com/2024/06/22/threadgill-financial-llc-sells-225-shares-of-eli-lilly-and-company-nyselly/)  "
      ],
      "text/plain": [
       "<IPython.core.display.Markdown object>"
      ]
     },
     "metadata": {},
     "output_type": "display_data"
    },
    {
     "data": {
      "text/markdown": [
       "[2024-06-22 16:16:45+00:00 PPS&V Asset Management Consultants Inc. Sells 24 Shares of Eli Lilly and Company (NYSE:LLY)](https://www.etfdailynews.com/2024/06/22/ppsv-asset-management-consultants-inc-sells-24-shares-of-eli-lilly-and-company-nyselly/)  "
      ],
      "text/plain": [
       "<IPython.core.display.Markdown object>"
      ]
     },
     "metadata": {},
     "output_type": "display_data"
    },
    {
     "data": {
      "text/markdown": [
       "[2024-06-22 16:16:44+00:00 Marcum Wealth LLC Increases Position in Eli Lilly and Company (NYSE:LLY)](https://www.etfdailynews.com/2024/06/22/marcum-wealth-llc-increases-position-in-eli-lilly-and-company-nyselly/)  "
      ],
      "text/plain": [
       "<IPython.core.display.Markdown object>"
      ]
     },
     "metadata": {},
     "output_type": "display_data"
    },
    {
     "data": {
      "text/markdown": [
       "[2024-06-22 15:39:16+00:00 M. Kraus & Co Sells 15 Shares of Eli Lilly and Company (NYSE:LLY)](https://www.etfdailynews.com/2024/06/22/m-kraus-co-sells-15-shares-of-eli-lilly-and-company-nyselly/)  "
      ],
      "text/plain": [
       "<IPython.core.display.Markdown object>"
      ]
     },
     "metadata": {},
     "output_type": "display_data"
    },
    {
     "data": {
      "text/markdown": [
       "[2024-06-22 14:28:42+00:00 Lantz Financial LLC Increases Stake in Eli Lilly and Company (NYSE:LLY)](https://www.etfdailynews.com/2024/06/22/lantz-financial-llc-increases-stake-in-eli-lilly-and-company-nyselly/)  "
      ],
      "text/plain": [
       "<IPython.core.display.Markdown object>"
      ]
     },
     "metadata": {},
     "output_type": "display_data"
    },
    {
     "data": {
      "text/markdown": [
       "[2024-06-22 14:28:41+00:00 KMG Fiduciary Partners LLC Has $19.80 Million Holdings in Eli Lilly and Company (NYSE:LLY)](https://www.etfdailynews.com/2024/06/22/kmg-fiduciary-partners-llc-has-19-80-million-holdings-in-eli-lilly-and-company-nyselly/)  "
      ],
      "text/plain": [
       "<IPython.core.display.Markdown object>"
      ]
     },
     "metadata": {},
     "output_type": "display_data"
    },
    {
     "data": {
      "text/markdown": [
       "[2024-06-22 14:28:41+00:00 Grandview Asset Management LLC Purchases 227 Shares of Eli Lilly and Company (NYSE:LLY)](https://www.etfdailynews.com/2024/06/22/grandview-asset-management-llc-purchases-227-shares-of-eli-lilly-and-company-nyselly/)  "
      ],
      "text/plain": [
       "<IPython.core.display.Markdown object>"
      ]
     },
     "metadata": {},
     "output_type": "display_data"
    },
    {
     "data": {
      "text/markdown": [
       "[2024-06-22 12:15:00+00:00 Eli Lilly sleep apnea data 'represent a clear win,' says Barclays](https://finnhub.io/api/news?id=6e1616bd8eea8244f040ede99b21e2888f38e039e6464bf492f50d8080ac2b15)  "
      ],
      "text/plain": [
       "<IPython.core.display.Markdown object>"
      ]
     },
     "metadata": {},
     "output_type": "display_data"
    },
    {
     "data": {
      "text/markdown": [
       "[2024-06-22 10:30:41+00:00 Banque Cantonale Vaudoise Buys 2,383 Shares of Eli Lilly and Company (NYSE:LLY)](https://www.etfdailynews.com/2024/06/22/banque-cantonale-vaudoise-buys-2383-shares-of-eli-lilly-and-company-nyselly/)  "
      ],
      "text/plain": [
       "<IPython.core.display.Markdown object>"
      ]
     },
     "metadata": {},
     "output_type": "display_data"
    },
    {
     "data": {
      "text/markdown": [
       "[2024-06-22 09:01:00+00:00 Analysts Are Bullish on Top Healthcare Stocks: Vertex Pharmaceuticals (VRTX), Eli Lilly & Co (LLY)](https://finnhub.io/api/news?id=2d8e998d25b2946f3cd3baeea3470d94387f4c7d1dbef41d7bb32fe5767c6e18)  "
      ],
      "text/plain": [
       "<IPython.core.display.Markdown object>"
      ]
     },
     "metadata": {},
     "output_type": "display_data"
    },
    {
     "data": {
      "text/markdown": [
       "[2024-06-22 08:51:00+00:00 Analysts Offer Insights on Healthcare Companies: Eli Lilly & Co (LLY) and Vertex Pharmaceuticals (VRTX)](https://finnhub.io/api/news?id=62eaa9dd141109d13403660807df1db83cfb5f4f381e05a1b92c6b73672ce7cb)  "
      ],
      "text/plain": [
       "<IPython.core.display.Markdown object>"
      ]
     },
     "metadata": {},
     "output_type": "display_data"
    },
    {
     "data": {
      "text/markdown": [
       "[2024-06-22 08:37:00+00:00 Eli Lilly’s Tirzepatide Shows Promising Results in Sleep Apnea Treatment, Justifying a Buy Rating](https://finnhub.io/api/news?id=a34d911e646e521bf575da4ebd7d0ba1647201730fe1fbb74f1df8b85c92ddb0)  "
      ],
      "text/plain": [
       "<IPython.core.display.Markdown object>"
      ]
     },
     "metadata": {},
     "output_type": "display_data"
    },
    {
     "data": {
      "text/markdown": [
       "[2024-06-22 07:31:00+00:00 ResMed, Philips under pressure as Eli Lilly seeks sleep indication for weight loss drug](https://finnhub.io/api/news?id=4b18da4dc72265e53a2ce92f247834098bda02a74b113179d8048e48b39ac846)  "
      ],
      "text/plain": [
       "<IPython.core.display.Markdown object>"
      ]
     },
     "metadata": {},
     "output_type": "display_data"
    },
    {
     "data": {
      "text/markdown": [
       "[2024-06-21 19:49:00+00:00 Lilly&apos;s tirzepatide reduced obstructive sleep apnea (OSA) severity, with up to 51.5% of participants meeting the criteria for disease resolution](https://newsfilter.io/articles/lillyaposs-tirzepatide-reduced-obstructive-sleep-apnea-osa-severity-with-up-to-515-of-participants-m-2670953d761fb5c439f0c0f5163dc13b)  "
      ],
      "text/plain": [
       "<IPython.core.display.Markdown object>"
      ]
     },
     "metadata": {},
     "output_type": "display_data"
    },
    {
     "data": {
      "text/markdown": [
       "[2024-06-21 19:31:14+00:00 The Zacks Analyst Blog Highlights Pfizer, Johnson & Johnson and Eli Lilly - Johnson & Johnson  ( NYSE:JNJ ) , Eli Lilly and Co  ( NYSE:LLY ) ](https://www.benzinga.com/general/biotech/24/06/39432381/the-zacks-analyst-blog-highlights-pfizer-johnson-johnson-and-eli-lilly)  "
      ],
      "text/plain": [
       "<IPython.core.display.Markdown object>"
      ]
     },
     "metadata": {},
     "output_type": "display_data"
    },
    {
     "data": {
      "text/markdown": [
       "[2024-06-21 16:06:43+00:00 Lynch & Associates IN Acquires 143 Shares of Eli Lilly and Company (NYSE:LLY)](https://www.etfdailynews.com/2024/06/21/lynch-associates-in-acquires-143-shares-of-eli-lilly-and-company-nyselly/)  "
      ],
      "text/plain": [
       "<IPython.core.display.Markdown object>"
      ]
     },
     "metadata": {},
     "output_type": "display_data"
    },
    {
     "data": {
      "text/markdown": [
       "[2024-06-21 16:06:41+00:00 Montecito Bank & Trust Trims Stake in Eli Lilly and Company (NYSE:LLY)](https://www.etfdailynews.com/2024/06/21/montecito-bank-trust-trims-stake-in-eli-lilly-and-company-nyselly/)  "
      ],
      "text/plain": [
       "<IPython.core.display.Markdown object>"
      ]
     },
     "metadata": {},
     "output_type": "display_data"
    },
    {
     "data": {
      "text/markdown": [
       "[2024-06-21 16:00:00+00:00 Eli Lilly’s Weight-Loss Franchise Has Been a Massive Winner Under Dave Ricks](https://finnhub.io/api/news?id=2ed29f79d415f1f90d906af4d93d322f4aed8bcf8b2630daf08f86773d169b4f)  "
      ],
      "text/plain": [
       "<IPython.core.display.Markdown object>"
      ]
     },
     "metadata": {},
     "output_type": "display_data"
    },
    {
     "data": {
      "text/markdown": [
       "[2024-06-21 15:54:00+00:00 Obesity drug used in Mounjaro and Zepbound may help treat dangerous sleep apnea](https://finnhub.io/api/news?id=57892973e2ce234152cf31f6cb90dea3721b79b1f8c797678be411792e8bd75a)  "
      ],
      "text/plain": [
       "<IPython.core.display.Markdown object>"
      ]
     },
     "metadata": {},
     "output_type": "display_data"
    },
    {
     "data": {
      "text/markdown": [
       "[2024-06-21 15:45:00+00:00 Weight-loss drug Zepbound resolves sleep apnea in up to 52% of patients, Lilly says](https://finnhub.io/api/news?id=c4fe5ca5dee68582be781e2bb71d59cc103889fc790d6b2ff1f35bd94f3e0859)  "
      ],
      "text/plain": [
       "<IPython.core.display.Markdown object>"
      ]
     },
     "metadata": {},
     "output_type": "display_data"
    },
    {
     "data": {
      "text/markdown": [
       "[2024-06-21 15:28:42+00:00 Welch Group LLC Has $4.62 Million Stock Holdings in Eli Lilly and Company (NYSE:LLY)](https://www.etfdailynews.com/2024/06/21/welch-group-llc-has-4-62-million-stock-holdings-in-eli-lilly-and-company-nyselly/)  "
      ],
      "text/plain": [
       "<IPython.core.display.Markdown object>"
      ]
     },
     "metadata": {},
     "output_type": "display_data"
    },
    {
     "data": {
      "text/markdown": [
       "[2024-06-21 15:28:42+00:00 New Hampshire Trust Purchases 28 Shares of Eli Lilly and Company (NYSE:LLY)](https://www.etfdailynews.com/2024/06/21/new-hampshire-trust-purchases-28-shares-of-eli-lilly-and-company-nyselly/)  "
      ],
      "text/plain": [
       "<IPython.core.display.Markdown object>"
      ]
     },
     "metadata": {},
     "output_type": "display_data"
    },
    {
     "data": {
      "text/markdown": [
       "[2024-06-21 15:28:42+00:00 Curbstone Financial Management Corp Trims Stake in Eli Lilly and Company (NYSE:LLY)](https://www.etfdailynews.com/2024/06/21/curbstone-financial-management-corp-trims-stake-in-eli-lilly-and-company-nyselly/)  "
      ],
      "text/plain": [
       "<IPython.core.display.Markdown object>"
      ]
     },
     "metadata": {},
     "output_type": "display_data"
    },
    {
     "data": {
      "text/markdown": [
       "[2024-06-21 12:32:46+00:00 Stableford Capital II LLC Acquires 635 Shares of Eli Lilly and Company (NYSE:LLY)](https://www.etfdailynews.com/2024/06/21/stableford-capital-ii-llc-acquires-635-shares-of-eli-lilly-and-company-nyselly/)  "
      ],
      "text/plain": [
       "<IPython.core.display.Markdown object>"
      ]
     },
     "metadata": {},
     "output_type": "display_data"
    },
    {
     "data": {
      "text/markdown": [
       "[2024-06-21 12:12:28+00:00 Move Aside Ozempic, WeGovy: Denmark's New Drug Just Showed Positive Results For Weightloss - Novo Nordisk  ( OTC:NONOF ) , Eli Lilly and Co  ( NYSE:LLY ) ](https://www.benzinga.com/general/biotech/24/06/39431082/move-aside-ozempic-wegovy-denmarks-new-drug-just-showed-positive-results-for-weightloss)  "
      ],
      "text/plain": [
       "<IPython.core.display.Markdown object>"
      ]
     },
     "metadata": {},
     "output_type": "display_data"
    },
    {
     "data": {
      "text/markdown": [
       "[2024-06-21 11:59:00+00:00 The Zacks Analyst Blog Highlights Pfizer, Johnson & Johnson and Eli Lilly](https://www.zacks.com/stock/news/2291339/the-zacks-analyst-blog-highlights-pfizer-johnson-johnson-and-eli-lilly)  "
      ],
      "text/plain": [
       "<IPython.core.display.Markdown object>"
      ]
     },
     "metadata": {},
     "output_type": "display_data"
    },
    {
     "data": {
      "text/markdown": [
       "[2024-06-21 11:56:49+00:00 Alaska Permanent Fund Corp Has $14.08 Million Stake in Eli Lilly and Company (NYSE:LLY)](https://www.etfdailynews.com/2024/06/21/alaska-permanent-fund-corp-has-14-08-million-stake-in-eli-lilly-and-company-nyselly/)  "
      ],
      "text/plain": [
       "<IPython.core.display.Markdown object>"
      ]
     },
     "metadata": {},
     "output_type": "display_data"
    },
    {
     "data": {
      "text/markdown": [
       "[2024-06-21 11:56:49+00:00 Woodstock Corp Buys 31 Shares of Eli Lilly and Company (NYSE:LLY)](https://www.etfdailynews.com/2024/06/21/woodstock-corp-buys-31-shares-of-eli-lilly-and-company-nyselly/)  "
      ],
      "text/plain": [
       "<IPython.core.display.Markdown object>"
      ]
     },
     "metadata": {},
     "output_type": "display_data"
    },
    {
     "data": {
      "text/markdown": [
       "[2024-06-21 10:18:15+00:00 Nestle Carefully Targets Weight-Loss Drug Users with New Food Line - Novo Nordisk  ( NYSE:NVO ) , Eli Lilly and Co  ( NYSE:LLY ) , Nestle  ( OTC:NSRGY ) ](https://www.benzinga.com/general/biotech/24/06/39429336/nestle-carefully-targets-weight-loss-drug-users-with-new-food-line)  "
      ],
      "text/plain": [
       "<IPython.core.display.Markdown object>"
      ]
     },
     "metadata": {},
     "output_type": "display_data"
    },
    {
     "data": {
      "text/markdown": [
       "[2024-06-21 08:50:00+00:00 Hims & Hers defended at BofA as Lilly fights compounded GLP-1s](https://finnhub.io/api/news?id=947cda5285cc5c49598825136d48fe76ec0323844c70be0b85f56891df525b1e)  "
      ],
      "text/plain": [
       "<IPython.core.display.Markdown object>"
      ]
     },
     "metadata": {},
     "output_type": "display_data"
    },
    {
     "data": {
      "text/markdown": [
       "[2024-06-21 07:37:00+00:00 Eli Lilly files lawsuits to stop sales of counterfeit Mounjaro, Reuters reports](https://finnhub.io/api/news?id=5d547b8802644f664c16bbfb2dffd64ed745c736a2b309c914bf4ad37815fb9f)  "
      ],
      "text/plain": [
       "<IPython.core.display.Markdown object>"
      ]
     },
     "metadata": {},
     "output_type": "display_data"
    },
    {
     "data": {
      "text/markdown": [
       "[2024-06-21 04:33:00+00:00 Market Today: Eli Lilly's Tirzepatide Success, AeroVironment Faces Competition, and More](https://finnhub.io/api/news?id=64fe59b2c6b49524500b09758f76d216787b16523206b2d46b52ff52110f39b4)  "
      ],
      "text/plain": [
       "<IPython.core.display.Markdown object>"
      ]
     },
     "metadata": {},
     "output_type": "display_data"
    },
    {
     "data": {
      "text/markdown": [
       "[2024-06-21 03:30:00+00:00 Lilly weight loss drug tirzepatide meets primary endpoint in sleep apnea study](https://finnhub.io/api/news?id=368d4a18859d7e24bc5d77dca1850512e4c87e8b79f72071e9ef244b83321ad0)  "
      ],
      "text/plain": [
       "<IPython.core.display.Markdown object>"
      ]
     },
     "metadata": {},
     "output_type": "display_data"
    },
    {
     "data": {
      "text/markdown": [
       "[2024-06-21 02:56:00+00:00 ResMed shares slip after Eli Lilly reports sleep apnea study data](https://finnhub.io/api/news?id=93c90ebde04d15688400305c0a7b0218ffe220f18d8a8004a751a6fa32a26b97)  "
      ],
      "text/plain": [
       "<IPython.core.display.Markdown object>"
      ]
     },
     "metadata": {},
     "output_type": "display_data"
    },
    {
     "data": {
      "text/markdown": [
       "[2024-06-21 02:53:00+00:00 Eli Lilly reports tirzepatide reduced obstructive sleep apnea severity in study](https://finnhub.io/api/news?id=fc69d56cf1f830b8cf7f22aaefe2c1b3cd2808ce1220f63a1c6ff88f047cf7a1)  "
      ],
      "text/plain": [
       "<IPython.core.display.Markdown object>"
      ]
     },
     "metadata": {},
     "output_type": "display_data"
    },
    {
     "data": {
      "text/markdown": [
       "[2024-06-20 21:45:19+00:00 Eli Lilly  ( LLY )  Registers a Bigger Fall Than the Market: Important Facts to Note](https://www.zacks.com/stock/news/2291076/eli-lilly-lly-registers-a-bigger-fall-than-the-market-important-facts-to-note)  "
      ],
      "text/plain": [
       "<IPython.core.display.Markdown object>"
      ]
     },
     "metadata": {},
     "output_type": "display_data"
    },
    {
     "data": {
      "text/markdown": [
       "[2024-06-20 18:43:03+00:00 144 Form - Report of proposed sale of securities - ELI LILLY & Co (0000059478) (Subject)](https://newsfilter.io/articles/144-form---report-of-proposed-sale-of-securities---eli-lilly--co-0000059478-subject-41d383bbabaad13873e30c52772707b2)  "
      ],
      "text/plain": [
       "<IPython.core.display.Markdown object>"
      ]
     },
     "metadata": {},
     "output_type": "display_data"
    },
    {
     "data": {
      "text/markdown": [
       "[2024-06-20 17:48:47+00:00 Compass Wealth Management LLC Sells 420 Shares of Eli Lilly and Company (NYSE:LLY)](https://www.etfdailynews.com/2024/06/20/compass-wealth-management-llc-sells-420-shares-of-eli-lilly-and-company-nyselly/)  "
      ],
      "text/plain": [
       "<IPython.core.display.Markdown object>"
      ]
     },
     "metadata": {},
     "output_type": "display_data"
    },
    {
     "data": {
      "text/markdown": [
       "[2024-06-20 17:14:42+00:00 Tompkins Financial Corp Has $24 Million Position in Eli Lilly and Company (NYSE:LLY)](https://www.etfdailynews.com/2024/06/20/tompkins-financial-corp-has-24-million-position-in-eli-lilly-and-company-nyselly/)  "
      ],
      "text/plain": [
       "<IPython.core.display.Markdown object>"
      ]
     },
     "metadata": {},
     "output_type": "display_data"
    },
    {
     "data": {
      "text/markdown": [
       "[2024-06-20 14:04:48+00:00 Unusual Put Option Trade in Eli Lilly and (LLY)  Worth $2,895.00K](https://finnhub.io/api/news?id=2df5eb3c0e7c448db5a9f65c4f3a2c5c03cf4071a1c64c7961743dddf40d2ace)  "
      ],
      "text/plain": [
       "<IPython.core.display.Markdown object>"
      ]
     },
     "metadata": {},
     "output_type": "display_data"
    },
    {
     "data": {
      "text/markdown": [
       "[2024-06-20 13:50:44+00:00 1,084 Shares in Eli Lilly and Company (NYSE:LLY) Purchased by Emprise Bank](https://www.etfdailynews.com/2024/06/20/1084-shares-in-eli-lilly-and-company-nyselly-purchased-by-emprise-bank/)  "
      ],
      "text/plain": [
       "<IPython.core.display.Markdown object>"
      ]
     },
     "metadata": {},
     "output_type": "display_data"
    },
    {
     "data": {
      "text/markdown": [
       "[2024-06-20 13:50:41+00:00 Moody National Bank Trust Division Has $9.37 Million Stock Holdings in Eli Lilly and Company (NYSE:LLY)](https://www.etfdailynews.com/2024/06/20/moody-national-bank-trust-division-has-9-37-million-stock-holdings-in-eli-lilly-and-company-nyselly/)  "
      ],
      "text/plain": [
       "<IPython.core.display.Markdown object>"
      ]
     },
     "metadata": {},
     "output_type": "display_data"
    },
    {
     "data": {
      "text/markdown": [
       "[2024-06-20 13:01:00+00:00 Here's Why Eli Lilly  ( LLY )  is Probably the Best Drug Stock Now](https://www.zacks.com/stock/news/2290782/heres-why-eli-lilly-lly-is-probably-the-best-drug-stock-now)  "
      ],
      "text/plain": [
       "<IPython.core.display.Markdown object>"
      ]
     },
     "metadata": {},
     "output_type": "display_data"
    },
    {
     "data": {
      "text/markdown": [
       "[2024-06-20 12:05:00+00:00 Eli Lilly (NYSE:LLY) Notches Up on Pursuit of Bogus Mounjaro](https://finnhub.io/api/news?id=1a3f8103d6e728ff2e1ca317c733e10b17b2e4edf1da53d0f03e4702cd1b1acc)  "
      ],
      "text/plain": [
       "<IPython.core.display.Markdown object>"
      ]
     },
     "metadata": {},
     "output_type": "display_data"
    },
    {
     "data": {
      "text/markdown": [
       "[2024-06-20 11:44:10+00:00 Eli Lilly Expands Fight Against Counterfeit Obesity Drug Zepbound With New Legal Actions - Novo Nordisk  ( NYSE:NVO ) , Eli Lilly and Co  ( NYSE:LLY ) ](https://www.benzinga.com/markets/equities/24/06/39408786/eli-lilly-expands-fight-against-counterfeit-obesity-drug-zepbound-with-new-legal-actions)  "
      ],
      "text/plain": [
       "<IPython.core.display.Markdown object>"
      ]
     },
     "metadata": {},
     "output_type": "display_data"
    },
    {
     "data": {
      "text/markdown": [
       "[2024-06-20 11:28:43+00:00 Los Angeles Capital Management LLC Raises Holdings in Eli Lilly and Company (NYSE:LLY)](https://www.etfdailynews.com/2024/06/20/los-angeles-capital-management-llc-raises-holdings-in-eli-lilly-and-company-nyselly/)  "
      ],
      "text/plain": [
       "<IPython.core.display.Markdown object>"
      ]
     },
     "metadata": {},
     "output_type": "display_data"
    },
    {
     "data": {
      "text/markdown": [
       "[2024-06-20 10:07:31+00:00 Eli Lilly: warning about counterfeit products](https://finnhub.io/api/news?id=d1d7f000fbc4747fbfbf52aee16b0744ea32af2a29eb8935784efe093f77cc26)  "
      ],
      "text/plain": [
       "<IPython.core.display.Markdown object>"
      ]
     },
     "metadata": {},
     "output_type": "display_data"
    },
    {
     "data": {
      "text/markdown": [
       "[2024-06-20 08:52:00+00:00 Insider Trade: Lilly Endowment Sells Eli Lilly Shares Worth $172M](https://finnhub.io/api/news?id=3834992e2eed07576074fddec0e44cf18bde63606fd0d092371d1f39dbf42bd4)  "
      ],
      "text/plain": [
       "<IPython.core.display.Markdown object>"
      ]
     },
     "metadata": {},
     "output_type": "display_data"
    },
    {
     "data": {
      "text/markdown": [
       "[2024-06-20 08:06:00+00:00 Eli Lilly ramps up efforts against fake weight loss drugs](https://finnhub.io/api/news?id=99a37f37915b48e18889a957dfe9aa323236e10d5b4b4d0f4fb27db6f87610aa)  "
      ],
      "text/plain": [
       "<IPython.core.display.Markdown object>"
      ]
     },
     "metadata": {},
     "output_type": "display_data"
    },
    {
     "data": {
      "text/markdown": [
       "[2024-06-20 07:07:09+00:00 Eli Lilly and : Lilly Warns Patients About Counterfeit and Compounded Medicines Releases Open Letter and Takes Further Legal Action Against Counterfeit, Fake, Unsafe, and Untested Products](https://finnhub.io/api/news?id=ab7a2973922b2ce237ac0acc9b3b1c7ce354649aff1373778ecd5d80a554cd39)  "
      ],
      "text/plain": [
       "<IPython.core.display.Markdown object>"
      ]
     },
     "metadata": {},
     "output_type": "display_data"
    },
    {
     "data": {
      "text/markdown": [
       "[2024-06-20 06:45:00+00:00 Eli Lilly Expands Fight Against Counterfeit Obesity Drug Zepbound With New Legal Actions](https://finnhub.io/api/news?id=be9df28e5f129fde6a561249946b91fc24b38a8726729b79ea04f1e45aef3cce)  "
      ],
      "text/plain": [
       "<IPython.core.display.Markdown object>"
      ]
     },
     "metadata": {},
     "output_type": "display_data"
    },
    {
     "data": {
      "text/markdown": [
       "[2024-06-20 06:39:09+00:00 Eli Lilly and : An Open Letter From Eli Lilly and Company Regarding Certain Practices Related to Mounjaro® and Zepbound®](https://finnhub.io/api/news?id=88d67a4022779783254dae81e2245fb750ad1567374341782ba29836348fe053)  "
      ],
      "text/plain": [
       "<IPython.core.display.Markdown object>"
      ]
     },
     "metadata": {},
     "output_type": "display_data"
    },
    {
     "data": {
      "text/markdown": [
       "[2024-06-20 06:30:30+00:00 Lilly files additional lawsuits over US sales of counterfeit Mounjaro](https://finnhub.io/api/news?id=614425cffd1772bbf3a33862a4d28e949bcf903ad92628725ccb6e1911b52b00)  "
      ],
      "text/plain": [
       "<IPython.core.display.Markdown object>"
      ]
     },
     "metadata": {},
     "output_type": "display_data"
    }
   ],
   "source": [
    "output_df = merged_df.loc[merged_df['related']].sort_values(by=\"date\", ascending=False)\n",
    "md_str = ''\n",
    "for row in output_df.itertuples():\n",
    "    out_str = f\"[{row.date} {row.title}]({row.url})  \"\n",
    "    display(Markdown(out_str))\n",
    "    md_str += out_str + \"\\n\"\n",
    "\n",
    "outfile_name = \"headlines.txt\"\n",
    "with open(f\"{DOWNLOAD_DIR}/{outfile_name}\", \"w\") as outfile:\n",
    "    outfile.write(md_str)\n"
   ]
  },
  {
   "cell_type": "code",
   "execution_count": null,
   "id": "b701b4f8",
   "metadata": {},
   "outputs": [],
   "source": [
    "# a class to maintain the current state of the graph\n",
    "\n",
    "class TearsheetState(TypedDict):\n",
    "\n",
    "    company: str\n",
    "    symbol: str\n",
    "    wiki_search_results: str\n",
    "    wiki_page_title: str\n",
    "    wiki_page_text: str\n",
    "    wiki_page_summary: str\n",
    "    perplexity_profile: str\n",
    "    obb_profile: str\n",
    "    sec10k_profile: str\n",
    "    chart: str\n",
    "    error_state: str\n"
   ]
  },
  {
   "cell_type": "code",
   "execution_count": null,
   "id": "c6adab92",
   "metadata": {},
   "outputs": [],
   "source": [
    "# use a graph to run all the components.\n",
    "# class will contain the graph, the model, and tools, and have nodes for the functions above\n",
    "\n",
    "class TearsheetAgent:\n",
    "\n",
    "    def __init__(self, model, tools, checkpointer):\n",
    "        graph = StateGraph(TearsheetState)\n",
    "\n",
    "        graph.add_node(\"get_wiki_page_suggestions\", self.get_wikipedia_suggestions)\n",
    "        graph.add_node(\"pick_wiki_page\", self.pick_wiki_page)\n",
    "        graph.add_node(\"get_wiki_page\", self.get_wiki_page)\n",
    "        graph.add_node(\"summarize_wiki_page\", self.summarize_wiki_page)\n",
    "        graph.add_node(\"get_perplexity_profile\", self.get_perplexity_profile)\n",
    "        graph.add_node(\"get_openbb_profile\", self.get_openbb_profile)\n",
    "        graph.add_node(\"get_10k_profile\", self.get_10k_profile)\n",
    "        graph.add_node(\"get_chart\", self.get_chart)\n",
    "\n",
    "        graph.set_entry_point(\"get_wiki_page_suggestions\")\n",
    "        graph.add_edge(\"get_wiki_page_suggestions\", \"pick_wiki_page\")\n",
    "        graph.add_edge(\"pick_wiki_page\", \"get_wiki_page\")\n",
    "        graph.add_edge(\"get_wiki_page\", \"summarize_wiki_page\")\n",
    "        graph.add_edge(\"summarize_wiki_page\", \"get_perplexity_profile\")\n",
    "        graph.add_edge(\"get_perplexity_profile\", \"get_openbb_profile\")\n",
    "        graph.add_edge(\"get_openbb_profile\", \"get_10k_profile\")\n",
    "        graph.add_edge(\"get_10k_profile\", \"get_chart\")\n",
    "\n",
    "        graph.set_finish_point(\"get_chart\")\n",
    "\n",
    "        self.graph = graph.compile(checkpointer=checkpointer)\n",
    "        self.tools = {t.name: t for t in tools}\n",
    "        self.model = model.bind_tools(tools)\n",
    "        self.model = model\n",
    "        self.driver = None\n",
    "\n",
    "\n",
    "    def get_wikipedia_suggestions(self, state):\n",
    "        \"\"\"search for possible Wikipedia pages for a ticker symbol\"\"\"\n",
    "        search_results = fn_get_wikipedia_suggestions(state[\"symbol\"], state[\"company\"])\n",
    "        state[\"wiki_search_results\"] = search_results\n",
    "        return state\n",
    "\n",
    "\n",
    "    def pick_wiki_page(self, state):\n",
    "        \"\"\"Given a company, ticker, and a list of wikipedia pages search_results, return the most likely wikipedia page matching the given company and symbol\"\"\"\n",
    "        state[\"wiki_page_title\"] = fn_pick_wiki_page(self.model,\n",
    "                                                     state[\"symbol\"],\n",
    "                                                     state[\"company\"],\n",
    "                                                     state[\"wiki_search_results\"]\n",
    "                                                    )\n",
    "        return state\n",
    "\n",
    "\n",
    "    def get_wiki_page(self, state):\n",
    "        \"\"\"Given the name of existing wikipedia page, return the content of the page\"\"\"\n",
    "        state[\"wiki_page_text\"] = fn_get_wiki_page(state[\"wiki_page_title\"])\n",
    "\n",
    "        return state\n",
    "\n",
    "\n",
    "    def summarize_wiki_page(self, state):\n",
    "        \"\"\"Given the content of the company's wikipedia page, summarize the content of the page\"\"\"\n",
    "\n",
    "        state[\"wiki_page_summary\"] = summarize_wiki_page(self.model,\n",
    "                                                         state[\"symbol\"],\n",
    "                                                         state[\"company\"],\n",
    "                                                         state[\"wiki_page_text\"])\n",
    "\n",
    "        return state\n",
    "\n",
    "\n",
    "    def get_perplexity_profile(self, state):\n",
    "        \"\"\"Return a summary company profile from Perplexity\"\"\"\n",
    "        state[\"perplexity_profile\"] = fn_perplexity_profile(state[\"symbol\"],\n",
    "                                                            state[\"company\"])\n",
    "        return state\n",
    "\n",
    "\n",
    "    def get_openbb_profile(self, state):\n",
    "        \"\"\"Return a summary company profile from Perplexity\"\"\"\n",
    "        state[\"obb_profile\"] = fn_get_obb_profile(state[\"symbol\"])\n",
    "        return state\n",
    "\n",
    "\n",
    "    def get_10k_profile(self, state):\n",
    "        \"\"\"Return a summary company profile from SEC 10K\"\"\"\n",
    "\n",
    "        profile_10k = get_10k_item1_from_symbol(state[\"symbol\"])\n",
    "        profile_10k_summary = summarize_10k(state[\"symbol\"],\n",
    "                                            state[\"company\"],\n",
    "                                            profile_10k)\n",
    "\n",
    "        state[\"sec10k_profile\"] = profile_10k_summary\n",
    "        return state\n",
    "\n",
    "\n",
    "    def get_driver(self):\n",
    "        if not self.driver:\n",
    "            self.driver = init_driver()\n",
    "        return self.driver\n",
    "\n",
    "\n",
    "    def quit_driver():\n",
    "        try:\n",
    "            self.driver.quit()\n",
    "        except Exception as exc:\n",
    "            print(exc)\n",
    "\n",
    "\n",
    "    def get_chart(self, state):\n",
    "        \"\"\"Return filename of the chart\"\"\"\n",
    "\n",
    "        self.get_driver()\n",
    "        activate_app(\"Firefox\")\n",
    "        img_path = fn_get_chart(self.driver, state[\"symbol\"])\n",
    "        state[\"chart\"] = img_path\n",
    "        return state\n",
    "\n",
    "\n",
    "    def run(self, config, state):\n",
    "\n",
    "        self.get_driver()\n",
    "        for step in self.graph.stream(state, config, stream_mode=\"debug\"):\n",
    "            if step[\"type\"] == \"checkpoint\":\n",
    "                print(step[\"step\"], step[\"payload\"].get(\"values\"))\n",
    "\n",
    "            # Check if there is an error message in the state\n",
    "            if step[\"payload\"].get(\"values\") and step[\"payload\"][\"values\"].get(\"error_message\"):\n",
    "                # Update the error state to 'tested' since error simulation is complete\n",
    "                state['error_state'] = 'tested'\n",
    "                # Retry from the last checkpoint saved by the checkpointer\n",
    "                for retry_step in graph.stream(state, config, stream_mode=\"debug\"):\n",
    "                    if retry_step[\"type\"] == \"checkpoint\":\n",
    "                        print(retry_step[\"step\"], retry_step[\"payload\"].get(\"values\"))\n",
    "                break\n",
    "        self.quit_driver()\n",
    "        return None\n"
   ]
  },
  {
   "cell_type": "code",
   "execution_count": null,
   "id": "aaa0b3f5",
   "metadata": {},
   "outputs": [],
   "source": [
    "model = ChatOpenAI(model=MODEL)\n",
    "memory = SqliteSaver.from_conn_string(\":memory:\")\n",
    "\n",
    "lg_agent = TearsheetAgent(model, [], memory)\n"
   ]
  },
  {
   "cell_type": "code",
   "execution_count": null,
   "id": "e233b20a",
   "metadata": {},
   "outputs": [],
   "source": [
    "Image(lg_agent.graph.get_graph().draw_mermaid_png())"
   ]
  },
  {
   "cell_type": "code",
   "execution_count": null,
   "id": "516d374d",
   "metadata": {},
   "outputs": [],
   "source": [
    "# Configuration with thread ID for checkpointing\n",
    "config = {\"configurable\": {\"thread_id\": \"profile-thread-1\"}}\n",
    "# initial state\n",
    "state = TearsheetState(company=\"Tesla\", symbol=\"TSLA\")\n",
    "lg_agent.run(config, state)\n"
   ]
  },
  {
   "cell_type": "code",
   "execution_count": 63,
   "id": "fd33f2e5",
   "metadata": {},
   "outputs": [
    {
     "data": {
      "text/markdown": [
       "### Eli Lilly: Comprehensive Investor Overview\n",
       "\n",
       "#### Company Profile\n",
       "\n",
       "**Eli Lilly and Company**, founded in 1876 by Colonel Eli Lilly, is a leading American pharmaceutical firm headquartered in Indianapolis, Indiana. The company operates in 18 countries, with its products available in approximately 125 countries. As of 2024, Eli Lilly is ranked 127th on the Fortune 500 list with revenues of \\$34.12 billion and 221st on the Forbes Global 2000 list. Historically, Eli Lilly was the first company to mass-produce both insulin and the polio vaccine, showcasing its innovative prowess in the pharmaceutical industry.\n",
       "\n",
       "Eli Lilly’s primary revenue streams stem from its diabetes medications, including Humalog (insulin lispro) and Trulicity (dulaglutide). The company’s commitment to mental health is evident from its well-known drugs such as Prozac (fluoxetine) and Cymbalta (duloxetine). Additionally, the company has faced legal challenges, notably a \\$1.415 billion fine in 2009 for the illegal marketing of Zyprexa.\n",
       "\n",
       "#### Products and Services\n",
       "\n",
       "Eli Lilly offers a diverse portfolio of products aimed at treating various conditions, with a strong emphasis on diabetes, mental health, cancer, and immunological disorders. Key products include:\n",
       "\n",
       "- **Trulicity (dulaglutide)**: A GLP-1 receptor agonist for type 2 diabetes.\n",
       "- **Humalog (insulin lispro)**: A rapid-acting insulin for diabetes.\n",
       "- **Prozac (fluoxetine)**: An SSRI for depression.\n",
       "- **Cymbalta (duloxetine)**: A serotonin-norepinephrine reuptake inhibitor for depression and anxiety.\n",
       "- **Zyprexa (olanzapine)**: An antipsychotic for schizophrenia and bipolar disorder.\n",
       "- **Mounjaro (Tirzepatide)**: For type 2 diabetes.\n",
       "- **Verzenio, Taltz, Jardiance, Cyramza, Olumiant, Emgality, Tyvyt, Retevmo, Alimta, and Zepbound**: Various treatments for cancer, autoimmune diseases, and other conditions.\n",
       "\n",
       "Recent product launches include Zepbound for obesity, while notable acquisitions have expanded Eli Lilly’s portfolio, such as the acquisition of Loxo Oncology, which added Vitrakvi (Larotrectinib) to its offerings.\n",
       "\n",
       "#### Strategic Initiatives\n",
       "\n",
       "Eli Lilly has a robust history of strategic initiatives, including:\n",
       "\n",
       "- **Acquisitions**: Key acquisitions include Icos Corporation (2007), CoLucid Pharmaceuticals (2017), Loxo Oncology (2019), Dermira (2020), Disarm Therapeutics (2020), Prevail Therapeutics (2020), and Versanis (2023).\n",
       "- **Partnerships**: In January 2011, Eli Lilly entered a significant partnership with Boehringer Ingelheim to develop diabetes therapies.\n",
       "- **Divestitures**: Sold its share in DowElanco to Dow Chemical in 1997.\n",
       "- **Joint Ventures**: Formed collaborations like the one with Innovent Biologics in 2015, which was expanded in 2022.\n",
       "- **Restructuring**: Strategically narrowed its focus under CEO Randall L. Tobias in the 1990s, resulting in divestitures and increased research funding.\n",
       "\n",
       "#### Recent Events\n",
       "\n",
       "**Significant Developments**:\n",
       "\n",
       "- **COVID-19 Response**: Collaborated with AbCellera to develop monoclonal antibody treatments for COVID-19, leading to the emergency use authorization of bamlanivimab and bebtelovimab.\n",
       "- **Legal and Regulatory**: Faced a \\$1.415 billion fine in 2009 for illegal marketing of Zyprexa and settled various lawsuits related to this drug.\n",
       "- **Leadership Changes**: Recent leadership includes John C. Lechleiter (CEO from 2008) and newer executives steering the company towards innovative drug development.\n",
       "- **Product Developments**: Recent FDA approval of tirzepatide for obesity treatment and ongoing focus on diabetes, obesity, Alzheimer's, and autoimmune drug development.\n",
       "- **Market Adjustments**: Announced a \\$35 cap on monthly insulin prices in March 2023 in response to public and governmental pressure.\n",
       "\n",
       "**Controversies**:\n",
       "\n",
       "- **Prozac and Zyprexa Lawsuits**: Faced numerous lawsuits over adverse effects and illegal marketing.\n",
       "- **Insulin Pricing**: Under scrutiny for high insulin prices, leading to recent price reductions.\n",
       "\n",
       "#### Conclusion\n",
       "\n",
       "Eli Lilly remains a key player in the pharmaceutical industry with a strong focus on innovative treatments for diabetes, mental health, cancer, and immune disorders. Its strategic acquisitions, partnerships, and product developments continue to enhance its market position. Despite facing legal challenges and controversies, the company's proactive measures in pricing and product innovation underscore its commitment to growth and patient care. Investors should consider Eli Lilly's robust pipeline, strategic initiatives, and market responsiveness as crucial factors in its long-term investment potential."
      ],
      "text/plain": [
       "<IPython.core.display.Markdown object>"
      ]
     },
     "metadata": {},
     "output_type": "display_data"
    }
   ],
   "source": [
    "with open(f\"{DOWNLOAD_DIR}/wiki_summary.txt\", \"r\") as infile:\n",
    "    profile_wikipedia_summary = infile.read()\n",
    "    profile_wikipedia_summary = profile_wikipedia_summary.replace('$', '\\$')\n",
    "    display(Markdown(profile_wikipedia_summary))"
   ]
  },
  {
   "cell_type": "code",
   "execution_count": 56,
   "id": "5bb3e99c",
   "metadata": {},
   "outputs": [
    {
     "data": {
      "text/markdown": [
       "**Eli Lilly (LLY) Comprehensive Analysis**\n",
       "\n",
       "**Company Profile:**\n",
       "Eli Lilly and Company is a global pharmaceutical company founded in 1876 by Colonel Eli Lilly. Headquartered in Indianapolis, Indiana, the company is a leading developer, manufacturer, and marketer of pharmaceutical products. Lilly's commercial operations span across the globe, with a diverse portfolio of human pharmaceutical products, animal health products, and diagnostics.\n",
       "\n",
       "**Sales by Lines of Business and Geography:**\n",
       "\n",
       "* Human Pharmaceuticals: 85% of total revenue (2022)\n",
       "\t+ Neuroscience (e.g., Zyprexa, Cymbalta): 24%\n",
       "\t+ Diabetes (e.g., Humalog, Humulin): 23%\n",
       "\t+ Oncology (e.g., Verzenio, Cyramza): 17%\n",
       "\t+ Immunology (e.g., Taltz, Olumiant): 12%\n",
       "\t+ Cardiovascular (e.g., Trulicity, Jardiance): 9%\n",
       "* Animal Health: 13% of total revenue (2022)\n",
       "* Diagnostics: 2% of total revenue (2022)\n",
       "\n",
       "**Geographic Breakdown:**\n",
       "\n",
       "* United States: 44% of total revenue (2022)\n",
       "* Europe: 24%\n",
       "* Japan: 11%\n",
       "* Rest of World: 21%\n",
       "\n",
       "**Recent Key Developments:**\n",
       "\n",
       "* Lilly announced a strategic review of its Elanco Animal Health business, exploring options for a potential initial public offering (IPO) or spin-off.\n",
       "* The company received FDA approval for its oral GLP-1 receptor agonist, tirzepatide, for the treatment of type 2 diabetes.\n",
       "\n",
       "**Recent Events:**\n",
       "\n",
       "* On February 1, 2023, Lilly announced a voluntary recall of a specific lot of its diabetes medication, Humalog 100 insulin lispro, due to potential contamination.\n",
       "* The company's shares were impacted by the broader market volatility in response to the COVID-19 pandemic and interest rate changes.\n",
       "\n",
       "**Financial Performance:**\n",
       "\n",
       "* Q4 2022 Earnings Report: Lilly reported revenue of \\\\$7.34 billion, beating estimates by 2.5%. Adjusted EPS of \\\\$2.09 exceeded expectations by 5.6%.\n",
       "* Stock Performance: LLY shares have underperformed the S&P 500 index over the past 12 months, with a total return of -10.5% compared to the index's 2.5% return.\n",
       "* Dividend and Buyback: Lilly maintained its quarterly dividend of \\\\$0.98 per share and authorized an additional \\\\$5 billion share repurchase program.\n",
       "\n",
       "**Analyst Coverage:**\n",
       "\n",
       "* Upgrades:\n",
       "\t+ J.P. Morgan (February 2, 2023): Upgraded to Overweight from Neutral, citing the company's strong pipeline and potential upside from tirzepatide.\n",
       "\t+ Cowen (January 25, 2023): Upgraded to Outperform from Market Perform, highlighting Lilly's diversified portfolio and growth opportunities.\n",
       "* Downgrades:\n",
       "\t+ Morgan Stanley (January 10, 2023): Downgraded to Equal-weight from Overweight, citing concerns over the company's near-term growth prospects.\n",
       "* Short Seller Reports:\n",
       "\t+ Citron Research (February 15, 2023): Initiated a short position in LLY, citing concerns over the company's valuation and potential competition in the diabetes market.\n",
       "\n",
       "**Product Announcements:**\n",
       "\n",
       "* Tirzepatide (Mounjaro): FDA-approved oral GLP-1 receptor agonist for the treatment of type 2 diabetes.\n",
       "* Donanemab: Phase 2 study results for the treatment of Alzheimer's disease were presented at the 2022 Alzheimer's Association International Conference.\n",
       "\n",
       "**Strategic Initiatives:**\n",
       "\n",
       "* Lilly announced a collaboration with Foghorn Therapeutics to develop novel oncology therapies.\n",
       "* The company acquired Prevail Therapeutics, expanding its gene therapy capabilities.\n",
       "\n",
       "**Securities Offerings:**\n",
       "\n",
       "* Lilly issued \\\\$2.5 billion in senior notes in January 2023 to refinance existing debt.\n",
       "\n",
       "**Management Changes:**\n",
       "\n",
       "* David A. Ricks, Chairman and CEO, announced his retirement, effective June 30, 2023. He will be succeeded by Patrik Jonsson, currently President and COO.\n",
       "\n",
       "**Stock Price Movements:**\n",
       "\n",
       "* LLY shares have been trading in a range of \\\\$240-\\\\$280 over the past 12 months, with a recent uptrend driven by the tirzepatide approval and strong Q4 earnings report.\n",
       "* Notable deviations from trend include a 10% decline in January 2023 following the Morgan Stanley downgrade and a 5% increase in February 2023 after the J.P. Morgan upgrade.\n",
       "\n",
       "Overall, Eli Lilly's diversified portfolio, strong pipeline, and recent product approvals position the company for long-term growth. However, near-term challenges and competitive pressures in the diabetes market may impact the stock's performance."
      ],
      "text/plain": [
       "<IPython.core.display.Markdown object>"
      ]
     },
     "metadata": {},
     "output_type": "display_data"
    }
   ],
   "source": [
    "with open(f\"{DOWNLOAD_DIR}/profile_px.txt\", \"r\") as infile:\n",
    "    profile_px = infile.read()\n",
    "    profile_px = profile_px.replace('$', '\\$')\n",
    "    display(Markdown(profile_px))\n"
   ]
  },
  {
   "cell_type": "code",
   "execution_count": 57,
   "id": "008c5d10",
   "metadata": {},
   "outputs": [
    {
     "data": {
      "text/markdown": [
       "Eli Lilly & Co. engages in the discovery, development, manufacture, and sale of pharmaceutical products. The firm's products consist of diabetes, oncology, immunology, neuroscience, and other products and therapies. The company was founded by Eli Lilly in May 1876 and is headquartered in Indianapolis, IN."
      ],
      "text/plain": [
       "<IPython.core.display.Markdown object>"
      ]
     },
     "metadata": {},
     "output_type": "display_data"
    }
   ],
   "source": [
    "with open(f\"{DOWNLOAD_DIR}/profile_openbb.txt\", \"r\") as infile:\n",
    "    profile_openbb = infile.read()    \n",
    "    display(Markdown(profile_openbb))\n"
   ]
  },
  {
   "cell_type": "code",
   "execution_count": 58,
   "id": "448da1bc",
   "metadata": {},
   "outputs": [
    {
     "data": {
      "text/markdown": [
       "### Eli Lilly and Company (LLY) Summary\n",
       "\n",
       "#### Company Profile\n",
       "Eli Lilly and Company (referred to as \"Lilly\" or \"the company\") was founded in Indianapolis, Indiana, in 1876 by Colonel Eli Lilly and incorporated in Indiana in 1901. Lilly specializes in the discovery, development, manufacturing, and marketing of human pharmaceutical products. Operating in a single business segment—human pharmaceutical products—the company emphasizes its mission of uniting caring with discovery to produce medicines that improve lives globally. Most of Lilly’s current product portfolio was discovered or developed internally by its scientists. The company's long-term viability is tied to its capacity to innovate continually, either through internal research or acquisitions.\n",
       "\n",
       "Lilly's manufacturing and distribution network spans the United States (including Puerto Rico), Europe, and Asia, with products sold in approximately 105 countries. The company employs a robust marketing strategy tailored to local markets, leveraging a combination of direct engagement with healthcare professionals, online promotions, literature distribution, and attendance at medical conferences. In the U.S., Lilly supplements its sales force with contract sales organizations and maintains significant relationships with three major wholesale distributors—McKesson Corporation, Cencora, Inc., and Cardinal Health, Inc.\n",
       "\n",
       "#### Products and Services\n",
       "Lilly's product portfolio is diverse, targeting multiple therapeutic areas with notable products including:\n",
       "\n",
       "1. **Diabetes, Obesity, and Cardiometabolic Products:**\n",
       "   - **Basaglar®**: Long-acting insulin for diabetes.\n",
       "   - **Humalog®**: Human insulin analogs for diabetes.\n",
       "   - **Jardiance®**: For type 2 diabetes and cardiovascular conditions.\n",
       "   - **Mounjaro®**: For type 2 diabetes.\n",
       "   - **Trulicity®**: For type 2 diabetes in adults and pediatrics.\n",
       "   - **Zepbound®**: For obesity and weight-related comorbidities.\n",
       "\n",
       "2. **Oncology Products:**\n",
       "   - **Alimta®**: For non-small cell lung cancer (NSCLC) and malignant pleural mesothelioma.\n",
       "   - **Cyramza®**: For various advanced cancers including gastric and hepatocellular carcinoma.\n",
       "   - **Erbitux®**: For colorectal and head and neck cancers.\n",
       "   - **Jaypirca®**: For mantle cell lymphoma (MCL) and chronic lymphocytic leukemia.\n",
       "   - **Retevmo®**: For NSCLC and thyroid cancers with RET gene mutations.\n",
       "   - **Tyvyt®**: For Hodgkin's lymphoma and other cancers in China.\n",
       "   - **Verzenio®**: For HR+, HER2- metastatic and early breast cancer.\n",
       "\n",
       "3. **Immunology Products:**\n",
       "   - **Ebglyss®**: For atopic dermatitis.\n",
       "   - **Olumiant®**: For rheumatoid arthritis, alopecia areata, and COVID-19.\n",
       "   - **Omvoh™**: For ulcerative colitis.\n",
       "   - **Taltz®**: For psoriasis, psoriatic arthritis, and axial spondyloarthritis.\n",
       "\n",
       "4. **Neuroscience Products:**\n",
       "   - **Cymbalta®**: For major depressive disorder, diabetic neuropathic pain, and fibromyalgia.\n",
       "   - **Emgality®**: For migraine prevention and cluster headaches.\n",
       "   - **Reyvow®**: For migraine treatment.\n",
       "\n",
       "5. **Other Products and Therapies:**\n",
       "   - **Cialis®**: For erectile dysfunction and benign prostatic hyperplasia.\n",
       "   - **Forteo®**: For osteoporosis.\n",
       "\n",
       "#### Strategic Initiatives\n",
       "Lilly has actively pursued partnerships and collaborations to bolster its research and development capabilities. For instance, the company has a global agreement with Boehringer Ingelheim to develop and commercialize diabetes products, including Jardiance®, Trajenta®, and Basaglar®. Additionally, Lilly works with Innovent Biologics on Tyvyt® in China and collaborates with Incyte Corporation on Olumiant®.\n",
       "\n",
       "Lilly is also expanding its manufacturing footprint to meet projected demand increases, with new sites planned in Concord, North Carolina; Limerick, Ireland; Alzey, Germany; and Lebanon, Indiana.\n",
       "\n",
       "#### Recent Events\n",
       "Key recent developments include the launch of new products like Zepbound® and the submission of regulatory reviews for new treatments such as Donanemab for early Alzheimer’s disease and Lebrikizumab for atopic dermatitis. Additionally, the FDA’s selection of Jardiance as one of the first ten medicines subject to government-set pricing under the Inflation Reduction Act of 2022 will likely impact future revenue streams.\n",
       "\n",
       "Lilly's executive leadership has also seen changes, with executives such as David Ricks (CEO), Anat Ashkenazi (CFO), and others playing pivotal roles in steering the company's strategic direction. The company remains committed to maintaining a diverse and inclusive workforce, with significant representation of minority group members and women in leadership roles.\n",
       "\n",
       "Lilly faces ongoing challenges, including competitive pressures, regulatory scrutiny, and the need to innovate continually. However, its diversified product portfolio, strategic partnerships, and focus on expanding manufacturing capabilities position it well for future growth.\n",
       "\n",
       "#### Intellectual Property\n",
       "Lilly holds numerous patents and trademarks critical to protecting its innovations and maintaining market exclusivity. The company faces challenges from generic pharmaceuticals and biosimilars, which can erode market share and revenue upon patent expiration. Lilly is proactive in securing patent term extensions and supplementary protection certificates in key markets to extend product life cycles. The company also engages in patent litigation to defend its intellectual property rights.\n",
       "\n",
       "#### Regulatory Compliance\n",
       "Lilly's operations are subject to extensive regulation by numerous government agencies, including the FDA in the U.S. and equivalent bodies in other countries. Compliance with regulations concerning product safety, efficacy, manufacturing standards, and marketing practices is essential. The company invests significantly in maintaining high-quality standards across its operations to ensure compliance and minimize risks associated with regulatory scrutiny.\n",
       "\n",
       "#### Human Capital Management\n",
       "With approximately 43,000 employees worldwide, Lilly emphasizes creating a supportive and inclusive work environment. The company regularly surveys its workforce to gather feedback and implement improvements. Lilly's commitment to diversity, equity, and inclusion is reflected in its recruitment, training, and development strategies, ensuring a skilled and motivated workforce.\n",
       "\n",
       "### Conclusion\n",
       "Eli Lilly and Company is a prominent player in the pharmaceutical industry with a rich history and a strong focus on innovative drug development. Its diverse product portfolio, strategic partnerships, and commitment to expanding manufacturing capabilities underscore its potential for sustained growth. However, the company must navigate challenges such as regulatory pressures, competitive threats, and the need for continuous innovation to maintain its market position and drive future success."
      ],
      "text/plain": [
       "<IPython.core.display.Markdown object>"
      ]
     },
     "metadata": {},
     "output_type": "display_data"
    }
   ],
   "source": [
    "with open(f\"{DOWNLOAD_DIR}/profile_10k.txt\", \"r\") as infile:\n",
    "    profile_10k_summary = infile.read()\n",
    "    display(Markdown(profile_10k_summary))\n"
   ]
  },
  {
   "cell_type": "code",
   "execution_count": 61,
   "id": "538df9f5",
   "metadata": {},
   "outputs": [
    {
     "data": {
      "text/markdown": [
       "[2024-06-26 21:47:17.447758+00:00 Why Eli Lilly (LLY) is a Top Momentum Stock for the Long-Term](https://www.zacks.com/stock/news/2287885/why-eli-lilly-lly-is-a-top-momentum-stock-for-the-long-term)  \n",
       "[2024-06-26 21:47:17.447757+00:00 Lillys Weight-Loss Drug Is a Huge Hit. Its CEO Wants to Replace It ASAP.](https://finance.yahoo.com/m/f725b402-9d2b-3ac4-9d85-2482b9850f42/lilly%E2%80%99s-weight-loss-drug-is-a.html)  \n",
       "[2024-06-26 21:47:17.447755+00:00 Eli Lilly wants to replace Zepbound with an even stronger weight loss drug](https://qz.com/eli-lilly-successor-1851540206)  \n",
       "[2024-06-26 21:47:17.447755+00:00 Eli Lilly and Novo Nordisk are a 'duopoly' in GLP-1 market](https://finance.yahoo.com/video/eli-lilly-novo-nordisk-duopoly-155816856.html)  \n",
       "[2024-06-26 21:47:17.447754+00:00 Food companies worried about weight loss drugs can just make healthier food, Eli Lilly CEO says](https://qz.com/weight-loss-drugs-food-companies-eli-lilly-zepbound-1851540483)  \n",
       "[2024-06-26 21:47:17.447753+00:00 Eli Lilly unveils new manufacturing plant for GLP-1 pens](https://finance.yahoo.com/news/eli-lilly-unveils-new-manufacturing-plant-for-glp-1-pens-200808212.html)  \n",
       "[2024-06-26 21:47:17.447750+00:00 Eli Lilly Scores Another Major Win and Lines Up Its Next Blockbuster](https://finance.yahoo.com/m/5c9b9df2-f1a4-3c97-871c-f77e202bf707/eli-lilly-scores-another.html)  \n",
       "[2024-06-26 21:47:17.447750+00:00 Mounjaro Is Targeting Another Multibillion-Dollar Market: Is Eli Lilly Stock a Buy?](https://finance.yahoo.com/m/1c9db29c-dab7-3502-9cbe-ebd278ad762c/mounjaro-is-targeting-another.html)  \n",
       "[2024-06-26 21:47:17.447749+00:00 Thinking of Buying Madrigal Pharmaceuticals Stock? Eli Lilly Would Like to Have a Word.](https://finance.yahoo.com/m/a037cb37-74ab-3127-a591-b4e02e03cd38/thinking-of-buying-madrigal.html)  \n",
       "[2024-06-26 21:47:17.447749+00:00 Lillys Phase II results in Alzheimers disease have most experts saying donanemab is done](https://finance.yahoo.com/m/a4ab855e-236b-377f-8e0c-3bdc976cd771/lilly%E2%80%99s-phase-ii-results-in.html)  \n",
       "[2024-06-26 21:47:17.447748+00:00 Broadcom Is on Track to Edge Past Eli Lillys Market Value. AI Is Helping It Do So.](https://finance.yahoo.com/m/02610377-0198-3d01-a705-78cc58935fcb/broadcom-is-on-track-to-edge.html)  \n",
       "[2024-06-26 21:47:17.447746+00:00 Eli Lilly unveils new North Carolina plant for GLP-1 drugs](https://finance.yahoo.com/video/eli-lilly-unveils-north-carolina-210054637.html)  \n",
       "[2024-06-26 21:47:17.447743+00:00 Eli Lilly's Growth Prospects Just Got a Huge Upgrade](https://finance.yahoo.com/m/adaa448e-7e2e-3b33-a28c-d7ae482e3fea/eli-lilly%27s-growth-prospects.html)  \n",
       "[2024-06-26 21:47:17.447743+00:00 Here's Why Eli Lilly (LLY) is Probably the Best Drug Stock Now](https://www.zacks.com/stock/news/2290782/here-s-why-eli-lilly-lly-is-probably-the-best-drug-stock-now)  \n",
       "[2024-06-26 21:47:17.447742+00:00 Eli Lilly is cracking down on knock off versions of its popular weight loss and diabetes drug](https://qz.com/eli-lilly-fake-zepbound-1851550525)  \n",
       "[2024-06-26 21:47:17.447742+00:00 Eli Lilly Files More Lawsuits at Sellers of Counterfeit Mounjaro, Zepbound](https://finance.yahoo.com/m/8c6db41e-4b44-3b02-a7e3-8c005198e349/eli-lilly-files-more-lawsuits.html)  \n",
       "[2024-06-26 21:47:17.447741+00:00 Is Eli Lilly Stock A Buy After FDA Advisors Back Its Alzheimer's Drug?](https://finance.yahoo.com/m/75ad41f4-79f0-3b48-af19-38b6a6e1e059/is-eli-lilly-stock-a-buy.html)  \n",
       "[2024-06-26 21:47:17.447740+00:00 WHO and Eli Lilly caution patients against falling for fake versions of popular weight-loss drugs](https://finance.yahoo.com/news/eli-lilly-caution-patients-against-180741023.html)  \n",
       "[2024-06-26 21:47:17.447740+00:00 Eli Lilly Has a New Drug That Could Push the Stock Higher](https://finance.yahoo.com/m/39ffd5e9-b63c-33c3-92c2-4a8e7addabb9/eli-lilly-has-a-new-drug-that.html)  \n",
       "[2024-06-26 21:47:17.447739+00:00 Eli Lilly (LLY) Registers a Bigger Fall Than the Market: Important Facts to Note](https://www.zacks.com/stock/news/2291076/eli-lilly-lly-registers-a-bigger-fall-than-the-market-important-facts-to-note)  \n",
       "[2024-06-26 21:47:17.447735+00:00 Eli Lillys Weight-Loss Franchise Has Been a Massive Winner Under Dave Ricks](https://finance.yahoo.com/m/59f79c85-29e8-378e-b67b-ea4288ec57a1/eli-lilly%E2%80%99s-weight-loss.html)  \n",
       "[2024-06-26 21:47:17.447734+00:00 Lilly's tirzepatide reduced obstructive sleep apnea (OSA) severity, with up to 51.5% of participants meeting the criteria for disease resolution](https://www.prnewswire.com/news-releases/lillys-tirzepatide-reduced-obstructive-sleep-apnea-osa-severity-with-up-to-51-5-of-participants-meeting-the-criteria-for-disease-resolution-302179373.html)  \n",
       "[2024-06-26 21:47:17.447734+00:00 Three-Stock Lunch: Nvidia, Eli Lilly](https://www.youtube.com/watch?v=Xbfto0Up2no)  \n",
       "[2024-06-26 21:47:17.447733+00:00 Broadcom, Eli Lilly and Trump Media rise premarket; Under Armour falls](https://finance.yahoo.com/news/broadcom-eli-lilly-trump-media-072221862.html)  \n",
       "[2024-06-26 21:47:17.447733+00:00 Did Eli Lilly and Company (LLY) Achieve Its 10th Consecutive Year of Dividend Growth?](https://www.insidermonkey.com/blog/did-eli-lilly-and-company-lly-achieve-its-10th-consecutive-year-of-dividend-growth-1316939/)  \n",
       "[2024-06-26 21:47:17.447732+00:00 Lillys tirzepatide reduces OSA severity in Phase III clinical trials](https://finance.yahoo.com/m/7f3010b1-6f61-34c7-bca5-92f9bae22b6c/lilly%E2%80%99s-tirzepatide-reduces.html)  \n",
       "[2024-06-26 21:47:17.447732+00:00 ResMed Stock Is Sinking. Blame Lillys Zepbound Trials for Sleep Apnea.](https://finance.yahoo.com/m/8ee8ce4d-a010-3f7b-b1de-5f4a79c1fede/resmed-stock-is-sinking..html)  \n",
       "[2024-06-26 21:47:17.447731+00:00 ResMed Stock Is Sinking. Blame Eli Lillys Zepbound Trials for Sleep Apnea.](https://finance.yahoo.com/m/b5888f6e-8324-3393-bc72-48b3dafe0fb0/resmed-stock-is-sinking..html)  \n",
       "[2024-06-26 21:47:17.447730+00:00 Eli Lilly's Zepbound For Weight Loss Shows Disease Resolution In Obese Sleep Apnea Patients, Lays Further Groundwork For Label Expansion](https://finance.yahoo.com/news/eli-lillys-zepbound-weight-loss-122943468.html)  \n",
       "[2024-06-26 21:47:17.447730+00:00 Investors Heavily Search Eli Lilly and Company (LLY): Here is What You Need to Know](https://www.zacks.com/stock/news/2292048/investors-heavily-search-eli-lilly-and-company-lly-here-is-what-you-need-to-know)  \n",
       "[2024-06-26 21:47:17.447729+00:00 What Makes Eli Lilly & Company (LLY) a Hot Healthcare Stock Right Now?](https://www.insidermonkey.com/blog/what-makes-eli-lilly-company-lly-a-hot-healthcare-stock-right-now-1317293/)  \n",
       "[2024-06-26 21:47:17.447729+00:00 Eli Lilly seeks to expand Zepbound use to treat sleep apnea](https://finance.yahoo.com/video/eli-lilly-seeks-expand-zepbound-143600056.html)  \n",
       "[2024-06-26 21:47:17.447728+00:00 Why a Pair of Eli Lilly Clinical Trials Sent ResMed Stock Tumbling](https://www.investopedia.com/why-a-pair-of-eli-lilly-clinical-trials-sent-resmed-stock-tumbling-8668009)  \n",
       "[2024-06-26 21:47:17.447727+00:00 Lilly Declares Third-Quarter 2024 Dividend](https://www.prnewswire.com/news-releases/lilly-declares-third-quarter-2024-dividend-302180441.html)  \n",
       "[2024-06-26 21:47:17.447725+00:00 ResMed Stock Dives. Blame Eli Lillys Zepbound Trials for Sleep Apnea.](https://finance.yahoo.com/m/8ee8ce4d-a010-3f7b-b1de-5f4a79c1fede/resmed-stock-dives.-blame-eli.html)  \n",
       "[2024-06-26 21:47:17.447725+00:00 How Lilly is joining Novo in the crusade to circumvent Medicare's block on weight loss drugs](https://finance.yahoo.com/news/how-lilly-is-joining-novo-in-the-crusade-to-circumvent-medicares-block-on-weight-loss-drugs-180112580.html)  \n",
       "[2024-06-26 21:47:17.447724+00:00 Lilly Weight-Loss Drug Data Spurs Selloff in Sleep Apnea Stocks](https://finance.yahoo.com/news/lilly-weight-loss-drug-data-161219351.html)  \n",
       "[2024-06-26 21:47:17.447723+00:00 Eli Lilly's Weight-Loss Drug Takes Down ResMed, Inspire Medical  Again](https://finance.yahoo.com/m/bbe694a5-ece2-3639-a09e-40da9dfddad5/eli-lilly%27s-weight-loss-drug.html)  \n",
       "[2024-06-26 21:47:17.447710+00:00 Is Eli Lilly (LLY) a Buy on Tirzepatide Success in Sleep Apnea?](https://www.zacks.com/stock/news/2292780/is-eli-lilly-lly-a-buy-on-tirzepatide-success-in-sleep-apnea)  \n",
       "[2024-06-26 21:47:17.447709+00:00 Lilly collaborates with OpenAI to discover novel medicines to treat drug-resistant bacteria](https://www.prnewswire.com/news-releases/lilly-collaborates-with-openai-to-discover-novel-medicines-to-treat-drug-resistant-bacteria-302180973.html)  \n",
       "[2024-06-26 21:47:17.447708+00:00 From Sci-Fi Dream to Market Maze: Eli Lilly's Weight-Loss Medication Faces Hurdles](https://finance.yahoo.com/news/sci-fi-dream-market-maze-140002588.html)  \n",
       "[2024-06-26 21:47:17.447707+00:00 Eli Lilly inks OpenAI deal for discovering new antibiotics](https://www.fiercebiotech.com/biotech/eli-lilly-inks-openai-deal-discovering-new-antibiotics)  \n",
       "[2024-06-26 21:47:17.447705+00:00 Why Drugmaker Eli Lilly Is Partnering With ChatGPT Maker OpenAI](https://www.investopedia.com/why-drugmaker-eli-lilly-is-partnering-with-chatgpt-maker-openai-8668887)  \n",
       "[2024-06-26 21:47:17.447705+00:00 2 Reasons Why Eli Lilly's Stock Likely Hasn't Peaked](https://finance.yahoo.com/m/8e0feebc-417b-31cb-92c5-d261799dfe3e/2-reasons-why-eli-lilly%27s.html)  \n",
       "[2024-06-26 21:47:17.447703+00:00 Novo Nordisk, Eli Lilly still top 2 pharma stocks: Analyst](https://finance.yahoo.com/video/novo-nordisk-eli-lilly-still-144857840.html)  \n",
       "[2024-06-26 21:47:17.447702+00:00 Lilly joins fellow pharma giants in OpenAI partnership](https://finance.yahoo.com/m/a76ab61c-6e40-3ed7-8fbb-8e49720dc1c1/lilly-joins-fellow-pharma.html)  \n",
       "[2024-06-26 21:47:17.447700+00:00 Eli Lilly (LLY) Stock Drops Despite Market Gains: Important Facts to Note](https://www.zacks.com/stock/news/2293935/eli-lilly-lly-stock-drops-despite-market-gains-important-facts-to-note)  \n",
       "[2024-06-26 21:47:17.240639+00:00 297 Shares in Eli Lilly and Company (NYSE:LLY) Bought by Conrad Siegel Investment Advisors Inc.](https://news.google.com/articles/CBMiiAFodHRwczovL3d3dy5kZWZlbnNld29ybGQubmV0LzIwMjQvMDYvMjIvMjk3LXNoYXJlcy1pbi1lbGktbGlsbHktYW5kLWNvbXBhbnktbnlzZWxseS1ib3VnaHQtYnktY29ucmFkLXNpZWdlbC1pbnZlc3RtZW50LWFkdmlzb3JzLWluYy5odG1s0gEA)  \n",
       "[2024-06-26 21:47:17.240639+00:00 Lilly partners with OpenAI to develop medicines for drug-resistant bacteria](https://news.google.com/articles/CBMijAFodHRwczovL3d3dy5yZXV0ZXJzLmNvbS9idXNpbmVzcy9oZWFsdGhjYXJlLXBoYXJtYWNldXRpY2Fscy9saWxseS1wYXJ0bmVycy13aXRoLW9wZW5haS1kZXZlbG9wLW1lZGljaW5lcy1kcnVnLXJlc2lzdGFudC1iYWN0ZXJpYS0yMDI0LTA2LTI1L9IBAA)  \n",
       "[2024-06-26 21:47:17.240639+00:00 Independent Wealth Network Inc. Decreases Stake in Eli Lilly and Company (NYSE:LLY)](https://news.google.com/articles/CBMifGh0dHBzOi8vd3d3LmRlZmVuc2V3b3JsZC5uZXQvMjAyNC8wNi8yMy9pbmRlcGVuZGVudC13ZWFsdGgtbmV0d29yay1pbmMtZGVjcmVhc2VzLXN0YWtlLWluLWVsaS1saWxseS1hbmQtY29tcGFueS1ueXNlbGx5Lmh0bWzSAQA)  \n",
       "[2024-06-26 21:47:17.240639+00:00 Eli Lilly and Company (NYSE:LLY) Trading Up 1.5% After Analyst Upgrade](https://news.google.com/articles/CBMiTmh0dHBzOi8vd3d3Lm1hcmtldGJlYXQuY29tL2luc3RhbnQtYWxlcnRzL255c2UtbGx5LXBlcmNlbnQtYWR2YW5jZS0yMDI0LTA2LTI1L9IBAA)  \n",
       "[2024-06-26 21:47:17.240639+00:00 Eli Lilly and Company's (LLY) Overweight Rating Reaffirmed at Cantor Fitzgerald](https://news.google.com/articles/CBMie2h0dHBzOi8vd3d3LmRlZmVuc2V3b3JsZC5uZXQvMjAyNC8wNi8yNC9lbGktbGlsbHktYW5kLWNvbXBhbnlzLWxseS1vdmVyd2VpZ2h0LXJhdGluZy1yZWFmZmlybWVkLWF0LWNhbnRvci1maXR6Z2VyYWxkLTIuaHRtbNIBAA)  \n",
       "[2024-06-26 21:47:17.240639+00:00 Global Trust Asset Management LLC Sells 300 Shares of Eli Lilly and Company (NYSE:LLY)](https://news.google.com/articles/CBMigAFodHRwczovL3d3dy5kZWZlbnNld29ybGQubmV0LzIwMjQvMDYvMjUvZ2xvYmFsLXRydXN0LWFzc2V0LW1hbmFnZW1lbnQtbGxjLXNlbGxzLTMwMC1zaGFyZXMtb2YtZWxpLWxpbGx5LWFuZC1jb21wYW55LW55c2VsbHkuaHRtbNIBAA)  \n",
       "[2024-06-26 21:47:17.240639+00:00 A 'Heads Up' on Eli Lilly as the Stock Continues to Climb](https://news.google.com/articles/CBMiXWh0dHBzOi8vcHJvLnRoZXN0cmVldC5jb20vdHJhZGUtaWRlYXMvYS1oZWFkcy11cC1vbi1lbGktbGlsbHktYXMtdGhlLXN0b2NrLWNvbnRpbnVlcy10by1jbGltYtIBAA)  \n",
       "[2024-06-26 21:47:17.240639+00:00 Lilly's tirzepatide was superior to placebo for MASH resolution, and more than half of patients achieved improvement in ...](https://news.google.com/articles/CBMifmh0dHBzOi8vaW52ZXN0b3IubGlsbHkuY29tL25ld3MtcmVsZWFzZXMvbmV3cy1yZWxlYXNlLWRldGFpbHMvbGlsbHlzLXRpcnplcGF0aWRlLXdhcy1zdXBlcmlvci1wbGFjZWJvLW1hc2gtcmVzb2x1dGlvbi1hbmQtbW9yZdIBAA)  \n",
       "[2024-06-26 21:47:17.240639+00:00 Global Assets Advisory LLC Takes Position in Eli Lilly and Company (NYSE:LLY)](https://news.google.com/articles/CBMid2h0dHBzOi8vd3d3LmRlZmVuc2V3b3JsZC5uZXQvMjAyNC8wNi8yNS9nbG9iYWwtYXNzZXRzLWFkdmlzb3J5LWxsYy10YWtlcy1wb3NpdGlvbi1pbi1lbGktbGlsbHktYW5kLWNvbXBhbnktbnlzZWxseS5odG1s0gEA)  \n",
       "[2024-06-26 21:47:17.240639+00:00 Lilly's tirzepatide reduced obstructive sleep apnea (OSA) severity, with up to 51.5% of participants meeting the criteria ...](https://news.google.com/articles/CBMifWh0dHBzOi8vaW52ZXN0b3IubGlsbHkuY29tL25ld3MtcmVsZWFzZXMvbmV3cy1yZWxlYXNlLWRldGFpbHMvbGlsbHlzLXRpcnplcGF0aWRlLXJlZHVjZWQtb2JzdHJ1Y3RpdmUtc2xlZXAtYXBuZWEtb3NhLXNldmVyaXR50gEA)  \n",
       "[2024-06-26 21:47:17.240639+00:00 Gilman Hill Asset Management LLC Lowers Stake in Eli Lilly and Company (NYSE:LLY)](https://news.google.com/articles/CBMie2h0dHBzOi8vd3d3LmRlZmVuc2V3b3JsZC5uZXQvMjAyNC8wNi8yNi9naWxtYW4taGlsbC1hc3NldC1tYW5hZ2VtZW50LWxsYy1sb3dlcnMtc3Rha2UtaW4tZWxpLWxpbGx5LWFuZC1jb21wYW55LW55c2VsbHkuaHRtbNIBAA)  \n",
       "[2024-06-26 21:47:17.240639+00:00 Insider Selling: Eli Lilly and Company (NYSE:LLY) Major Shareholder Sells 17,229 Shares of Stock](https://news.google.com/articles/CBMiWWh0dHBzOi8vd3d3Lm1hcmtldGJlYXQuY29tL2luc3RhbnQtYWxlcnRzL255c2UtbGx5LWluc2lkZXItYnV5aW5nLWFuZC1zZWxsaW5nLTIwMjQtMDYtMjUv0gEA)  \n",
       "[2024-06-26 21:47:17.240639+00:00 Will Novo Nordisk Building Fires Serve As A Catalyst For Eli Lilly? Redditors See A Stock Split For US Company 'Very ...](https://news.google.com/articles/CBMimQFodHRwczovL3d3dy5iZW56aW5nYS5jb20vZ2VuZXJhbC9iaW90ZWNoLzI0LzA2LzM5NDYzNzU4L3dpbGwtbm92by1ub3JkaXNrLWJ1aWxkaW5nLWZpcmVzLXNlcnZlLWFzLWEtY2F0YWx5c3QtZm9yLWVsaS1saWxseS1yZWRkaXRvcnMtc2VlLWEtc3RvY2stc3BsaXQtZm_SAQA)  \n",
       "[2024-06-26 21:47:17.240639+00:00 International Assets Investment Management LLC Has \\$10.46 Million Position in Eli Lilly and Company (NYSE:LLY)](https://news.google.com/articles/CBMilwFodHRwczovL3d3dy5kZWZlbnNld29ybGQubmV0LzIwMjQvMDYvMjQvaW50ZXJuYXRpb25hbC1hc3NldHMtaW52ZXN0bWVudC1tYW5hZ2VtZW50LWxsYy1oYXMtMTAtNDYtbWlsbGlvbi1wb3NpdGlvbi1pbi1lbGktbGlsbHktYW5kLWNvbXBhbnktbnlzZWxseS5odG1s0gEA)  \n",
       "[2024-06-26 21:47:17.240639+00:00 Lilly collaborates with OpenAI to discover novel medicines to treat drug-resistant bacteria | Eli Lilly and Company](https://news.google.com/articles/CBMie2h0dHBzOi8vaW52ZXN0b3IubGlsbHkuY29tL25ld3MtcmVsZWFzZXMvbmV3cy1yZWxlYXNlLWRldGFpbHMvbGlsbHktY29sbGFib3JhdGVzLW9wZW5haS1kaXNjb3Zlci1ub3ZlbC1tZWRpY2luZXMtdHJlYXQtZHJ1Z9IBAA)  \n",
       "[2024-06-26 21:47:17.240639+00:00 Is Lilly Stock A Buy After FDA Advisors Back Its Alzheimer's Drug?](https://news.google.com/articles/CBMiQmh0dHBzOi8vd3d3LmludmVzdG9ycy5jb20vbmV3cy90ZWNobm9sb2d5L2VsaS1saWxseS1zdG9jay1idXktbm93L9IBAA)  \n",
       "[2024-06-26 21:47:17.240639+00:00 Eli Lilly: Throwing Its Weight Around - But, For How Long? (NYSE:LLY)](https://news.google.com/articles/CBMib2h0dHBzOi8vc2Vla2luZ2FscGhhLmNvbS9hcnRpY2xlLzQ3MDA2NDUtZWxpLWxpbGx5LXRocm93aW5nLXdlaWdodC1hcm91bmQtYnV0LWhvdy1sb25nP3NvdXJjZT1mZWVkX2FsbF9hcnRpY2xlc9IBAA)  \n",
       "[2024-06-26 21:47:17.240639+00:00 Lilly Endowment Inc Sells 9671 Shares of Eli Lilly and Company (NYSE:LLY) Stock](https://news.google.com/articles/CBMieWh0dHBzOi8vd3d3LmRlZmVuc2V3b3JsZC5uZXQvMjAyNC8wNi8yNC9saWxseS1lbmRvd21lbnQtaW5jLXNlbGxzLTk2NzEtc2hhcmVzLW9mLWVsaS1saWxseS1hbmQtY29tcGFueS1ueXNlbGx5LXN0b2NrLmh0bWzSAQA)  \n",
       "[2024-06-26 21:47:17.240639+00:00 Jacobs & Co. CA Has \\$17.53 Million Stake in Eli Lilly and Company (NYSE:LLY)](https://news.google.com/articles/CBMicmh0dHBzOi8vd3d3LmRlZmVuc2V3b3JsZC5uZXQvMjAyNC8wNi8yNi9qYWNvYnMtY28tY2EtaGFzLTE3LTUzLW1pbGxpb24tc3Rha2UtaW4tZWxpLWxpbGx5LWFuZC1jb21wYW55LW55c2VsbHkuaHRtbNIBAA)  \n",
       "[2024-06-26 21:47:17.240639+00:00 Eli Lilly and Company (NYSE:LLY) Stock Price Up 0.7%](https://news.google.com/articles/CBMiX2h0dHBzOi8vd3d3LmRlZmVuc2V3b3JsZC5uZXQvMjAyNC8wNi8yMi9lbGktbGlsbHktYW5kLWNvbXBhbnktbnlzZWxseS1zdG9jay1wcmljZS11cC0wLTctMi5odG1s0gEA)  \n",
       "[2024-06-26 21:47:17.240639+00:00 Eli Lilly and Company (NYSE:LLY) Trading Down 0% Following Insider Selling](https://news.google.com/articles/CBMiTmh0dHBzOi8vd3d3Lm1hcmtldGJlYXQuY29tL2luc3RhbnQtYWxlcnRzL255c2UtbGx5LXBlcmNlbnQtZGVjbGluZS0yMDI0LTA2LTI2L9IBAA)  \n",
       "[2024-06-26 21:47:17.240639+00:00 Market Street Wealth Management Advisors LLC Raises Stock Position in Eli Lilly and Company (NYSE:LLY)](https://news.google.com/articles/CBMikAFodHRwczovL3d3dy5kZWZlbnNld29ybGQubmV0LzIwMjQvMDYvMjQvbWFya2V0LXN0cmVldC13ZWFsdGgtbWFuYWdlbWVudC1hZHZpc29ycy1sbGMtcmFpc2VzLXN0b2NrLXBvc2l0aW9uLWluLWVsaS1saWxseS1hbmQtY29tcGFueS1ueXNlbGx5Lmh0bWzSAQA)  \n",
       "[2024-06-26 21:47:17.240639+00:00 After Earnings, Is Eli Lilly Stock a Buy, a Sell, or Fairly Valued?](https://news.google.com/articles/CBMiYGh0dHBzOi8vd3d3Lm1vcm5pbmdzdGFyLmNvbS9zdG9ja3MvYWZ0ZXItZWFybmluZ3MtaXMtZWxpLWxpbGx5LXN0b2NrLWJ1eS1zZWxsLW9yLWZhaXJseS12YWx1ZWQtMtIBAA)  \n",
       "[2024-06-26 21:47:17.240639+00:00 Eli Lilly and Company (NYSE:LLY) Shares Up 1.5% Following Dividend Announcement](https://news.google.com/articles/CBMieGh0dHBzOi8vd3d3LmRlZmVuc2V3b3JsZC5uZXQvMjAyNC8wNi8yNi9lbGktbGlsbHktYW5kLWNvbXBhbnktbnlzZWxseS1zaGFyZXMtdXAtMS01LWZvbGxvd2luZy1kaXZpZGVuZC1hbm5vdW5jZW1lbnQuaHRtbNIBAA)  \n",
       "[2024-06-26 21:47:17.240639+00:00 ResMed Stock Collapses After Eli Lilly's Weight-Loss Drug Reduces Sleep Apnea Events](https://news.google.com/articles/CBMigwFodHRwczovL3d3dy5pbnZlc3RvcnMuY29tL25ld3MvdGVjaG5vbG9neS9yZXNtZWQtc3RvY2staW5zcGlyZS1tZWRpY2FsLXN5c3RlbXMtc3RvY2stb2JzdHJ1Y3RpdmUtc2xlZXAtYXBuZWEtZWxpLWxpbGx5LXdlaWdodC1sb3NzL9IBAA)  \n",
       "[2024-06-26 21:47:17.240639+00:00 Dynamic Advisor Solutions LLC Boosts Holdings in Eli Lilly and Company (NYSE:LLY)](https://news.google.com/articles/CBMie2h0dHBzOi8vd3d3LmRlZmVuc2V3b3JsZC5uZXQvMjAyNC8wNi8yNi9keW5hbWljLWFkdmlzb3Itc29sdXRpb25zLWxsYy1ib29zdHMtaG9sZGluZ3MtaW4tZWxpLWxpbGx5LWFuZC1jb21wYW55LW55c2VsbHkuaHRtbNIBAA)  \n",
       "[2024-06-26 21:47:17.240639+00:00 Douglas Lane & Associates LLC Sells 322 Shares of Eli Lilly and Company (NYSE:LLY)](https://news.google.com/articles/CBMiemh0dHBzOi8vd3d3LmRlZmVuc2V3b3JsZC5uZXQvMjAyNC8wNi8yNC9kb3VnbGFzLWxhbmUtYXNzb2NpYXRlcy1sbGMtc2VsbHMtMzIyLXNoYXJlcy1vZi1lbGktbGlsbHktYW5kLWNvbXBhbnktbnlzZWxseS5odG1s0gEA)  \n",
       "[2024-06-26 21:47:17.240639+00:00 Cooper Financial Group Buys 211 Shares of Eli Lilly and Company (NYSE:LLY)](https://news.google.com/articles/CBMidGh0dHBzOi8vd3d3LmRlZmVuc2V3b3JsZC5uZXQvMjAyNC8wNi8yNC9jb29wZXItZmluYW5jaWFsLWdyb3VwLWJ1eXMtMjExLXNoYXJlcy1vZi1lbGktbGlsbHktYW5kLWNvbXBhbnktbnlzZWxseS5odG1s0gEA)  \n",
       "[2024-06-26 21:47:17.240639+00:00 Chart of the Day: Eli Lilly - More New Highs](https://news.google.com/articles/CBMiZGh0dHBzOi8vd3d3LnRyYWRpbmd2aWV3LmNvbS9uZXdzL2JhcmNoYXJ0OmFlOGFkYWE0ZTA5NGI6MC1jaGFydC1vZi10aGUtZGF5LWVsaS1saWxseS1tb3JlLW5ldy1oaWdocy_SAQA)  \n",
       "[2024-06-26 21:47:17.240639+00:00 Shilanski & Associates Inc. Cuts Stake in Eli Lilly and Company (NYSE:LLY)](https://news.google.com/articles/CBMicWh0dHBzOi8vd3d3LmRlZmVuc2V3b3JsZC5uZXQvMjAyNC8wNi8yMy9zaGlsYW5za2ktYXNzb2NpYXRlcy1pbmMtY3V0cy1zdGFrZS1pbi1lbGktbGlsbHktYW5kLWNvbXBhbnktbnlzZWxseS5odG1s0gEA)  \n",
       "[2024-06-26 21:47:17.240639+00:00 Central Valley Advisors LLC Buys Shares of 314 Eli Lilly and Company (NYSE:LLY)](https://news.google.com/articles/CBMieWh0dHBzOi8vd3d3LmRlZmVuc2V3b3JsZC5uZXQvMjAyNC8wNi8yNi9jZW50cmFsLXZhbGxleS1hZHZpc29ycy1sbGMtYnV5cy1zaGFyZXMtb2YtMzE0LWVsaS1saWxseS1hbmQtY29tcGFueS1ueXNlbGx5Lmh0bWzSAQA)  \n",
       "[2024-06-26 21:47:17.240639+00:00 Southland Equity Partners LLC Grows Holdings in Eli Lilly and Company (NYSE:LLY)](https://news.google.com/articles/CBMiemh0dHBzOi8vd3d3LmRlZmVuc2V3b3JsZC5uZXQvMjAyNC8wNi8yNS9zb3V0aGxhbmQtZXF1aXR5LXBhcnRuZXJzLWxsYy1ncm93cy1ob2xkaW5ncy1pbi1lbGktbGlsbHktYW5kLWNvbXBhbnktbnlzZWxseS5odG1s0gEA)  \n",
       "[2024-06-26 21:47:17.240639+00:00 CHURCHILL MANAGEMENT Corp Purchases New Shares in Eli Lilly and Company (NYSE:LLY)](https://news.google.com/articles/CBMifGh0dHBzOi8vd3d3LmRlZmVuc2V3b3JsZC5uZXQvMjAyNC8wNi8yMy9jaHVyY2hpbGwtbWFuYWdlbWVudC1jb3JwLXB1cmNoYXNlcy1uZXctc2hhcmVzLWluLWVsaS1saWxseS1hbmQtY29tcGFueS1ueXNlbGx5Lmh0bWzSAQA)  \n",
       "[2024-06-26 21:47:17.240639+00:00 CHICAGO TRUST Co NA Has \\$4.84 Million Stake in Eli Lilly and Company (NYSE:LLY)](https://news.google.com/articles/CBMieGh0dHBzOi8vd3d3LmRlZmVuc2V3b3JsZC5uZXQvMjAyNC8wNi8yNS9jaGljYWdvLXRydXN0LWNvLW5hLWhhcy00LTg0LW1pbGxpb24tc3Rha2UtaW4tZWxpLWxpbGx5LWFuZC1jb21wYW55LW55c2VsbHkuaHRtbNIBAA)  \n",
       "[2024-06-26 21:47:17.240639+00:00 Sunflower Bank N.A. Lowers Position in Eli Lilly and Company (NYSE:LLY)](https://news.google.com/articles/CBMicGh0dHBzOi8vd3d3LmRlZmVuc2V3b3JsZC5uZXQvMjAyNC8wNi8yMi9zdW5mbG93ZXItYmFuay1uLWEtbG93ZXJzLXBvc2l0aW9uLWluLWVsaS1saWxseS1hbmQtY29tcGFueS1ueXNlbGx5Lmh0bWzSAQA)  \n",
       "[2024-06-26 21:47:17.240639+00:00 Bridge Creek Capital Management LLC Sells 125 Shares of Eli Lilly and Company (NYSE:LLY)](https://news.google.com/articles/CBMiggFodHRwczovL3d3dy5kZWZlbnNld29ybGQubmV0LzIwMjQvMDYvMjQvYnJpZGdlLWNyZWVrLWNhcGl0YWwtbWFuYWdlbWVudC1sbGMtc2VsbHMtMTI1LXNoYXJlcy1vZi1lbGktbGlsbHktYW5kLWNvbXBhbnktbnlzZWxseS5odG1s0gEA)  \n",
       "[2024-06-26 21:47:17.240639+00:00 Allied Investment Advisors LLC Takes Position in Eli Lilly and Company (NYSE:LLY)](https://news.google.com/articles/CBMie2h0dHBzOi8vd3d3LmRlZmVuc2V3b3JsZC5uZXQvMjAyNC8wNi8yMy9hbGxpZWQtaW52ZXN0bWVudC1hZHZpc29ycy1sbGMtdGFrZXMtcG9zaXRpb24taW4tZWxpLWxpbGx5LWFuZC1jb21wYW55LW55c2VsbHkuaHRtbNIBAA)  \n",
       "[2024-06-26 21:47:17.240639+00:00 This Is What Whales Are Betting On Eli Lilly and Co - Eli Lilly and Co (NYSE:LLY)](https://news.google.com/articles/CBMibGh0dHBzOi8vd3d3LmJlbnppbmdhLmNvbS9pbnNpZ2h0cy9vcHRpb25zLzI0LzA2LzM5NDgwNTUzL3RoaXMtaXMtd2hhdC13aGFsZXMtYXJlLWJldHRpbmctb24tZWxpLWxpbGx5LWFuZC1jb9IBAA)  \n",
       "[2024-06-26 21:47:17.240639+00:00 Bangor Savings Bank Sells 47 Shares of Eli Lilly and Company (NYSE:LLY)](https://news.google.com/articles/CBMicWh0dHBzOi8vd3d3LmRlZmVuc2V3b3JsZC5uZXQvMjAyNC8wNi8yNC9iYW5nb3Itc2F2aW5ncy1iYW5rLXNlbGxzLTQ3LXNoYXJlcy1vZi1lbGktbGlsbHktYW5kLWNvbXBhbnktbnlzZWxseS5odG1s0gEA)  \n",
       "[2024-06-26 21:47:17.240639+00:00 Traynor Capital Management Inc. Boosts Position in Eli Lilly and Company (NYSE:LLY)](https://news.google.com/articles/CBMifGh0dHBzOi8vd3d3LmRlZmVuc2V3b3JsZC5uZXQvMjAyNC8wNi8yNS90cmF5bm9yLWNhcGl0YWwtbWFuYWdlbWVudC1pbmMtYm9vc3RzLXBvc2l0aW9uLWluLWVsaS1saWxseS1hbmQtY29tcGFueS1ueXNlbGx5Lmh0bWzSAQA)  \n",
       "[2024-06-26 21:47:17.240639+00:00 Unique Wealth LLC Takes Position in Eli Lilly and Company (NYSE:LLY)](https://news.google.com/articles/CBMibmh0dHBzOi8vd3d3LmRlZmVuc2V3b3JsZC5uZXQvMjAyNC8wNi8yNC91bmlxdWUtd2VhbHRoLWxsYy10YWtlcy1wb3NpdGlvbi1pbi1lbGktbGlsbHktYW5kLWNvbXBhbnktbnlzZWxseS5odG1s0gEA)  \n",
       "[2024-06-26 21:47:17.240639+00:00 Range Financial Group LLC Acquires 60 Shares of Eli Lilly and Company (NYSE:LLY)](https://news.google.com/articles/CBMiemh0dHBzOi8vd3d3LmRlZmVuc2V3b3JsZC5uZXQvMjAyNC8wNi8yNS9yYW5nZS1maW5hbmNpYWwtZ3JvdXAtbGxjLWFjcXVpcmVzLTYwLXNoYXJlcy1vZi1lbGktbGlsbHktYW5kLWNvbXBhbnktbnlzZWxseS5odG1s0gEA)  \n",
       "[2024-06-26 21:47:17.240639+00:00 Radnor Capital Management LLC Trims Position in Eli Lilly and Company (NYSE:LLY)](https://news.google.com/articles/CBMiemh0dHBzOi8vd3d3LmRlZmVuc2V3b3JsZC5uZXQvMjAyNC8wNi8yNC9yYWRub3ItY2FwaXRhbC1tYW5hZ2VtZW50LWxsYy10cmltcy1wb3NpdGlvbi1pbi1lbGktbGlsbHktYW5kLWNvbXBhbnktbnlzZWxseS5odG1s0gEA)  \n",
       "[2024-06-26 21:47:17.240639+00:00 Eli Lilly & Co. (LLY) Declares \\$1.30 Quarterly Dividend; 0.6% Yield](https://news.google.com/articles/CBMihQFodHRwczovL3d3dy5zdHJlZXRpbnNpZGVyLmNvbS9EaXZpZGVuZHMvRWxpK0xpbGx5KyUyNitDby4rJTI4TExZJTI5K0RlY2xhcmVzKyUyNDEuMzArUXVhcnRlcmx5K0RpdmlkZW5kJTNCKzAuNiUyNStZaWVsZC8yMzM4ODY1My5odG1s0gEA)  \n",
       "[2024-06-26 21:47:17.240639+00:00 Eli Lilly Stock At Yet-Another All-Time High. Check Out New Names Added To IBD Best Stocks Lists](https://news.google.com/articles/CBMigwFodHRwczovL3d3dy5pbnZlc3RvcnMuY29tL3Jlc2VhcmNoL2VsaS1saWxseS1zdG9jay1hdC15ZXQtYW5vdGhlci1hbGwtdGltZS1oaWdoLWNoZWNrLW91dC1uZXctbmFtZXMtYWRkZWQtdG8taWJkLWJlc3Qtc3RvY2tzLWxpc3RzL9IBAA)  \n",
       "[2024-06-26 21:47:17.240639+00:00 Eli Lilly and Company (NYSE:LLY) Receives “Buy” Rating from Bank of America](https://news.google.com/articles/CBMic2h0dHBzOi8vd3d3LmRlZmVuc2V3b3JsZC5uZXQvMjAyNC8wNi8yNS9lbGktbGlsbHktYW5kLWNvbXBhbnktbnlzZWxseS1yZWNlaXZlcy1idXktcmF0aW5nLWZyb20tYmFuay1vZi1hbWVyaWNhLmh0bWzSAQA)  \n",
       "[2024-06-26 21:47:17.240639+00:00 Eli Lilly and Company (NYSE:LLY) Receives Buy Rating from Truist Financial](https://news.google.com/articles/CBMiUGh0dHBzOi8vd3d3Lm1hcmtldGJlYXQuY29tL2luc3RhbnQtYWxlcnRzL255c2UtbGx5LXJlaXRlcmF0ZWQtcmF0aW5nLTIwMjQtMDYtMjUv0gEA)  \n",
       "[2024-06-26 21:47:17.240639+00:00 Eli Lilly and Company (NYSE:LLY) Given Buy Rating at Truist Financial](https://news.google.com/articles/CBMib2h0dHBzOi8vd3d3LmRlZmVuc2V3b3JsZC5uZXQvMjAyNC8wNi8yNi9lbGktbGlsbHktYW5kLWNvbXBhbnktbnlzZWxseS1naXZlbi1idXktcmF0aW5nLWF0LXRydWlzdC1maW5hbmNpYWwuaHRtbNIBAA)  \n",
       "[2024-06-26 21:47:17.240639+00:00 Up 400% In 3 Years, Eli Lilly Stock Just Keeps Giving](https://news.google.com/articles/CBMicmh0dHBzOi8vd3d3LmZvcmJlcy5jb20vc2l0ZXMvZ3JlYXRzcGVjdWxhdGlvbnMvMjAyNC8wNi8wNy91cC00MDAtaW4tdGhyZWUteWVhcnMtZWxpLWxpbGx5LXN0b2NrLWp1c3Qta2VlcHMtZ2l2aW5nL9IBAA)  \n",
       "[2024-06-26 21:47:17.240639+00:00 Mechanics Bank Trust Department Has \\$3.22 Million Position in Eli Lilly and Company (NYSE:LLY)](https://news.google.com/articles/CBMihwFodHRwczovL3d3dy5kZWZlbnNld29ybGQubmV0LzIwMjQvMDYvMjYvbWVjaGFuaWNzLWJhbmstdHJ1c3QtZGVwYXJ0bWVudC1oYXMtMy0yMi1taWxsaW9uLXBvc2l0aW9uLWluLWVsaS1saWxseS1hbmQtY29tcGFueS1ueXNlbGx5Lmh0bWzSAQA)  \n",
       "[2024-06-26 21:47:17.240639+00:00 What's Going On With Eli Lilly Stock On Tuesday? - Eli Lilly and Co (NYSE:LLY)](https://news.google.com/articles/CBMiZmh0dHBzOi8vd3d3LmJlbnppbmdhLmNvbS9nZW5lcmFsL2Jpb3RlY2gvMjQvMDYvMzk0ODU3NDIvd2hhdHMtZ29pbmctb24td2l0aC1lbGktbGlsbHktc3RvY2stb24tdHVlc2RhedIBAA)  \n",
       "[2024-06-26 21:47:17.240639+00:00 Eli Lilly Stock: FDA Panelists Unanimously Back Lilly's Biogen-Rivaling Alzheimer's Drug](https://news.google.com/articles/CBMiZmh0dHBzOi8vd3d3LmludmVzdG9ycy5jb20vbmV3cy90ZWNobm9sb2d5L2VsaS1saWxseS1zdG9jay1mZGEtYWR2aXNvcnktY29tbWl0dGVlLWFsemhlaW1lcnMtdHJlYXRtZW50L9IBAA)  \n",
       "[2024-06-26 21:47:17.240639+00:00 Eli Lilly Stock Runs Up 49% Amid Lofty Expectations For Weight-Loss Drug](https://news.google.com/articles/CBMiYWh0dHBzOi8vd3d3LmludmVzdG9ycy5jb20vcmVzZWFyY2gvdGhlLW5ldy1hbWVyaWNhL2VsaS1saWxseS1zdG9jay13ZWlnaHQtbG9zcy1kcnVnLWV4cGVjdGF0aW9ucy_SAQA)  \n",
       "[2024-06-26 21:47:17.240639+00:00 Eli Lilly Stock Analysis: Buy, Hold, or Sell?](https://news.google.com/articles/CBMiSWh0dHBzOi8vd3d3Lm5hc2RhcS5jb20vYXJ0aWNsZXMvZWxpLWxpbGx5LXN0b2NrLWFuYWx5c2lzLWJ1eS1ob2xkLW9yLXNlbGzSAQA)  \n",
       "[2024-06-26 21:47:17.240639+00:00 Here's How Much a \\$1000 Investment in Eli Lilly Made 10 Years Ago Would Be Worth Today](https://news.google.com/articles/CBMiTGh0dHBzOi8vZmluYW5jZS55YWhvby5jb20vbmV3cy9oZXJlcy1tdWNoLTEwMDAtaW52ZXN0bWVudC1lbGktMTIzMDAzOTIxLmh0bWzSAQA)  \n",
       "[2024-06-26 21:47:17.240639+00:00 Orser Capital Management LLC Purchases 36 Shares of Eli Lilly and Company (NYSE:LLY)](https://news.google.com/articles/CBMifmh0dHBzOi8vd3d3LmRlZmVuc2V3b3JsZC5uZXQvMjAyNC8wNi8yNC9vcnNlci1jYXBpdGFsLW1hbmFnZW1lbnQtbGxjLXB1cmNoYXNlcy0zNi1zaGFyZXMtb2YtZWxpLWxpbGx5LWFuZC1jb21wYW55LW55c2VsbHkuaHRtbNIBAA)  \n",
       "[2024-06-26 21:47:17.240639+00:00 Eli Lilly And Company (LLY) Partners With OpenAI To Create “Novel Antimicrobials” For Drug-Resistant Pathogens](https://news.google.com/articles/CBMigAFodHRwczovL3djY2Z0ZWNoLmNvbS9lbGktbGlsbHktYW5kLWNvbXBhbnktbGx5LXBhcnRuZXJzLXdpdGgtb3BlbmFpLXRvLWNyZWF0ZS1ub3ZlbC1hbnRpbWljcm9iaWFscy1mb3ItZHJ1Zy1yZXNpc3RhbnQtcGF0aG9nZW5zL9IBhAFodHRwczovL3djY2Z0ZWNoLmNvbS9lbGktbGlsbHktYW5kLWNvbXBhbnktbGx5LXBhcnRuZXJzLXdpdGgtb3BlbmFpLXRvLWNyZWF0ZS1ub3ZlbC1hbnRpbWljcm9iaWFscy1mb3ItZHJ1Zy1yZXNpc3RhbnQtcGF0aG9nZW5zL2FtcC8)  \n",
       "[2024-06-26 21:47:17.240639+00:00 Eli Lilly (NYSE:LLY) Notches Up on Pursuit of Bogus Mounjaro - TipRanks.com](https://news.google.com/articles/CBMiV2h0dHBzOi8vd3d3LnRpcHJhbmtzLmNvbS9uZXdzL2VsaS1saWxseS1ueXNlbGx5LW5vdGNoZXMtdXAtb24tcHVyc3VpdC1vZi1ib2d1cy1tb3VuamFyb9IBAA)  \n",
       "[2024-06-26 21:47:17.240639+00:00 Peak Financial Advisors LLC Decreases Holdings in Eli Lilly and Company (NYSE:LLY)](https://news.google.com/articles/CBMifGh0dHBzOi8vd3d3LmRlZmVuc2V3b3JsZC5uZXQvMjAyNC8wNi8yNS9wZWFrLWZpbmFuY2lhbC1hZHZpc29ycy1sbGMtZGVjcmVhc2VzLWhvbGRpbmdzLWluLWVsaS1saWxseS1hbmQtY29tcGFueS1ueXNlbGx5Lmh0bWzSAQA)  \n",
       "[2024-06-26 21:47:17.240639+00:00 Eli Lilly (NYSE:LLY) Gains after Announcing OpenAI Partnership - TipRanks.com](https://news.google.com/articles/CBMiWWh0dHBzOi8vd3d3LnRpcHJhbmtzLmNvbS9uZXdzL2VsaS1saWxseS1ueXNlbGx5LWdhaW5zLWFmdGVyLWFubm91bmNpbmctb3BlbmFpLXBhcnRuZXJzaGlw0gEA)  \n",
       "[2024-06-26 21:47:17.240639+00:00 RFG Advisory LLC Has \\$5.06 Million Stock Position in Eli Lilly and Company (NYSE:LLY)](https://news.google.com/articles/CBMifmh0dHBzOi8vd3d3LmRlZmVuc2V3b3JsZC5uZXQvMjAyNC8wNi8yMy9yZmctYWR2aXNvcnktbGxjLWhhcy01LTA2LW1pbGxpb24tc3RvY2stcG9zaXRpb24taW4tZWxpLWxpbGx5LWFuZC1jb21wYW55LW55c2VsbHkuaHRtbNIBAA)  \n",
       "[2024-06-26 21:47:17.240639+00:00 Harbor Investment Advisory LLC Has \\$8.05 Million Stock Holdings in Eli Lilly and Company (NYSE:LLY)](https://news.google.com/articles/CBMijAFodHRwczovL3d3dy5kZWZlbnNld29ybGQubmV0LzIwMjQvMDYvMjUvaGFyYm9yLWludmVzdG1lbnQtYWR2aXNvcnktbGxjLWhhcy04LTA1LW1pbGxpb24tc3RvY2staG9sZGluZ3MtaW4tZWxpLWxpbGx5LWFuZC1jb21wYW55LW55c2VsbHkuaHRtbNIBAA)  \n",
       "[2024-06-26 21:45:21+00:00 Eli Lilly  ( LLY )  Stock Drops Despite Market Gains: Important Facts to Note](https://www.zacks.com/stock/news/2293935/eli-lilly-lly-stock-drops-despite-market-gains-important-facts-to-note)  \n",
       "[2024-06-26 20:00:05+00:00 4 Form - Statement of changes in beneficial ownership of securities - ELI LILLY & Co (0000059478) (Issuer)](https://newsfilter.io/articles/4-form---statement-of-changes-in-beneficial-ownership-of-securities---eli-lilly--co-0000059478-issue-845aa6c69fa0bcc34f13c0f24a2caefc)  \n",
       "[2024-06-26 14:55:01+00:00 Yahoo Video: Novo Nordisk, Eli Lilly still top 2 pharma stocks: Analyst](https://finance.yahoo.com/news/yahoo-video-novo-nordisk-eli-145501523.html)  \n",
       "[2024-06-26 13:25:08+00:00 314 Shares in Eli Lilly and Company (NYSE:LLY) Acquired by Central Valley Advisors LLC](https://www.etfdailynews.com/2024/06/26/314-shares-in-eli-lilly-and-company-nyselly-acquired-by-central-valley-advisors-llc/)  \n",
       "[2024-06-26 08:22:41+00:00 Eli Lilly and Company’s (LLY) Buy Rating Reiterated at Truist Financial](https://www.etfdailynews.com/2024/06/26/eli-lilly-and-companys-lly-buy-rating-reiterated-at-truist-financial/)  \n",
       "[2024-06-26 07:32:00+00:00 Chart Of The Day: Eli Lilly - More New Highs](https://finnhub.io/api/news?id=8b8511f7bc94b678c83bec4448b1fe4c15bbaa2d1cfbe241ef446d91eceb8f2a)  \n",
       "[2024-06-25 18:12:42+00:00 Harbor Investment Advisory LLC Purchases 421 Shares of Eli Lilly and Company (NYSE:LLY)](https://www.etfdailynews.com/2024/06/25/harbor-investment-advisory-llc-purchases-421-shares-of-eli-lilly-and-company-nyselly/)  \n",
       "[2024-06-25 18:12:41+00:00 Global Assets Advisory LLC Invests \\$325.42 Million in Eli Lilly and Company (NYSE:LLY)](https://www.etfdailynews.com/2024/06/25/global-assets-advisory-llc-invests-325-42-million-in-eli-lilly-and-company-nyselly/)  \n",
       "[2024-06-25 17:04:45+00:00 Pacifica Partners Inc. Has \\$510,000 Stock Position in Eli Lilly and Company (NYSE:LLY)](https://www.etfdailynews.com/2024/06/25/pacifica-partners-inc-has-510000-stock-position-in-eli-lilly-and-company-nyselly/)  \n",
       "[2024-06-25 16:50:29+00:00 What's Going On With Eli Lilly Stock On Tuesday? - Eli Lilly and Co  ( NYSE:LLY ) ](https://www.benzinga.com/general/biotech/24/06/39485742/whats-going-on-with-eli-lilly-stock-on-tuesday)  \n",
       "[2024-06-25 13:48:07+00:00 This Is What Whales Are Betting On Eli Lilly and Co - Eli Lilly and Co  ( NYSE:LLY ) ](https://www.benzinga.com/insights/options/24/06/39480553/this-is-what-whales-are-betting-on-eli-lilly-and-co)  \n",
       "[2024-06-25 13:05:00+00:00 Is Eli Lilly  ( LLY )  a Buy on Tirzepatide Success in Sleep Apnea?](https://www.zacks.com/stock/news/2292780/is-eli-lilly-lly-a-buy-on-tirzepatide-success-in-sleep-apnea)  \n",
       "[2024-06-25 13:04:41+00:00 AdvisorNet Financial Inc Lowers Stock Position in Eli Lilly and Company (NYSE:LLY)](https://www.etfdailynews.com/2024/06/25/advisornet-financial-inc-lowers-stock-position-in-eli-lilly-and-company-nyselly/)  \n",
       "[2024-06-25 12:41:00+00:00 ResMed cut at Oppenheimer after Eli Lilly’s tirzepatide sleep apnea data](https://finnhub.io/api/news?id=2db8b029c6fd72fe5ed95ea5019a4ca9789076723deb5dadc52323249ab49f4f)  \n",
       "[2024-06-25 11:56:00+00:00 What's Going On With Eli Lilly Stock On Tuesday?](https://finnhub.io/api/news?id=c9326fd7b57b1c5eaa0922367988f0ccc8bb05e82862f431e812ece43d83bb36)  \n",
       "[2024-06-25 11:26:41+00:00 Lloyd Advisory Services LLC. Grows Holdings in Eli Lilly and Company (NYSE:LLY)](https://www.etfdailynews.com/2024/06/25/lloyd-advisory-services-llc-grows-holdings-in-eli-lilly-and-company-nyselly/)  \n",
       "[2024-06-25 11:18:00+00:00 Lilly gains approval of lebrikizumab in Canada for atopic dermatitis](https://finnhub.io/api/news?id=e2c89a20cd5a0bbcbe56db666507e7a1f9a387a3bc1e847668c2984de54da356)  \n",
       "[2024-06-25 11:06:18+00:00 Eli Lilly Working With OpenAI to Develop Medicines Against Drug-Resistant Pathogens](https://finnhub.io/api/news?id=15a4dacf90d04d332392f0c132e37549deec16755cca10a92adb622c4243b753)  \n",
       "[2024-06-25 10:48:25+00:00 Eli Lilly: collaboration agreement with OpenAI](https://finnhub.io/api/news?id=b1f8f5fe8e158e5793503693dcf57bde501b5a9f953bd41a6705acadcddc5dec)  \n",
       "[2024-06-25 10:12:00+00:00 Eli Lilly collaborates with OpenAI for medicines against drug-resistant bacteria](https://finnhub.io/api/news?id=b2ec1c2e223abcd0c5b534878e8edcc7c7625d69d59fd1210af48f2d6d56f177)  \n",
       "[2024-06-25 09:04:00+00:00 Eli Lilly collaborates with OpenAI to discover novel antimicrobials](https://finnhub.io/api/news?id=f7b2272cc825bd6cf1ed8f7419a14faec5835a0ce8f89b02c23e59a8d325274f)  \n",
       "[2024-06-25 08:54:00+00:00 This Is What Whales Are Betting On Eli Lilly and Co](https://finnhub.io/api/news?id=e56e49752319f54c81782d598121fe9ff9cf8f0faa034578bb505362eb4b3bda)  \n",
       "[2024-06-25 08:26:00+00:00 Eli Lilly price target raised by \\$108 at Truist, here's why](https://finnhub.io/api/news?id=e67f0bf46570a51331cfd31316dc2d9cf8944832b0cba952f837a2b87a9e6f4e)  \n",
       "[2024-06-25 06:44:48+00:00 Eli Lilly and Company (NYSE:LLY) Receives “Overweight” Rating from Cantor Fitzgerald](https://www.etfdailynews.com/2024/06/25/eli-lilly-and-company-nyselly-receives-overweight-rating-from-cantor-fitzgerald/)  \n",
       "[2024-06-25 06:27:00+00:00 Truist Financial Reaffirms Their Buy Rating on Eli Lilly & Co (LLY)](https://finnhub.io/api/news?id=f505aeabaf32756cac681eedf4047585f6da0e3ee6fbbb0537762e43b7b9dfe3)  \n",
       "[2024-06-25 05:21:00+00:00 Eli Lilly (NYSE:LLY) Gains after Announcing OpenAI Partnership](https://finnhub.io/api/news?id=0f3299e8ae27a2329bc65ebf4a4ef41c9b7c3af58f4591616feca758ceb5c31b)  \n",
       "[2024-06-24 20:50:41+00:00 High Net Worth Advisory Group LLC Acquires 67 Shares of Eli Lilly and Company (NYSE:LLY)](https://www.etfdailynews.com/2024/06/24/high-net-worth-advisory-group-llc-acquires-67-shares-of-eli-lilly-and-company-nyselly/)  \n",
       "[2024-06-24 20:18:06+00:00 What's Going On With Eli Lilly Shares Monday? - Eli Lilly and Co  ( NYSE:LLY ) ](https://www.benzinga.com/news/24/06/39466189/whats-going-on-with-eli-lilly-shares-monday)  \n",
       "[2024-06-24 20:11:10+00:00 11-K Form - Annual report of employee stock purchase, savings and similar plans - ELI LILLY & Co (0000059478) (Filer)](https://newsfilter.io/articles/11-k-form---annual-report-of-employee-stock-purchase-savings-and-similar-plans---eli-lilly--co-00000-d4fa1c9f1b4290e96de061cd7c6074a2)  \n",
       "[2024-06-24 19:46:41+00:00 Anderson Hoagland & Co. Has \\$17.39 Million Stock Position in Eli Lilly and Company (NYSE:LLY)](https://www.etfdailynews.com/2024/06/24/anderson-hoagland-co-has-17-39-million-stock-position-in-eli-lilly-and-company-nyselly/)  \n",
       "[2024-06-24 19:12:41+00:00 Abacus Planning Group Inc. Cuts Holdings in Eli Lilly and Company (NYSE:LLY)](https://www.etfdailynews.com/2024/06/24/abacus-planning-group-inc-cuts-holdings-in-eli-lilly-and-company-nyselly/)  \n",
       "[2024-06-24 18:16:20+00:00 Will Novo Nordisk Building Fires Serve As A Catalyst For Eli Lilly? Redditors See A Stock Split For US Company 'Very Likely'](https://biztoc.com/x/bf1cacadcdd2dad8)  \n",
       "[2024-06-24 18:08:51+00:00 Will Novo Nordisk Building Fires Serve As A Catalyst For Eli Lilly? Redditors See A Stock Split For US Company 'Very Likely' - Novo Nordisk  ( NYSE:NVO ) , Eli Lilly and Co  ( NYSE:LLY ) ](https://www.benzinga.com/general/biotech/24/06/39463758/will-novo-nordisk-building-fires-serve-as-a-catalyst-for-eli-lilly-redditors-see-a-stock-split-fo)  \n",
       "[2024-06-24 17:22:42+00:00 Bridge Creek Capital Management LLC Reduces Position in Eli Lilly and Company (NYSE:LLY)](https://www.etfdailynews.com/2024/06/24/bridge-creek-capital-management-llc-reduces-position-in-eli-lilly-and-company-nyselly/)  \n",
       "[2024-06-24 16:12:42+00:00 Murphy Pohlad Asset Management LLC Reduces Stock Holdings in Eli Lilly and Company (NYSE:LLY)](https://www.etfdailynews.com/2024/06/24/murphy-pohlad-asset-management-llc-reduces-stock-holdings-in-eli-lilly-and-company-nyselly/)  \n",
       "[2024-06-24 14:20:18+00:00 Trending : Lilly Anti-Obesity Drug Tirzepatide Reduces Sleep Apnea Severity in Studies](https://finnhub.io/api/news?id=9c5991d97720fbe9f88067b2845a0e3a611135812d674a229297e3b9857b3292)  \n",
       "[2024-06-24 13:54:00+00:00 ResMed Stock Dives. Blame Eli Lilly’s Zepbound Trials for Sleep Apnea.](https://finnhub.io/api/news?id=0c5aac27517abe7c9c6fc226e1308708d35db212b784d4654bf28adf6b08ff45)  \n",
       "[2024-06-24 13:23:57+00:00 Eli Lilly's Weight-Loss Drug Takes Down ResMed, Inspire Medical — Again](https://finnhub.io/api/news?id=eded1778eeed57ffb72fe6055a50b9f8393e03a0073581283bcb012ab38a36de)  \n",
       "[2024-06-24 13:23:00+00:00 Lilly's Weight-Loss Drug Takes Down ResMed, Inspire - Again](https://www.investors.com/news/technology/resmed-stock-inspire-medical-systems-stock-obstructive-sleep-apnea-eli-lilly-weight-loss/)  \n",
       "[2024-06-24 13:20:42+00:00 International Assets Investment Management LLC Purchases 1,160 Shares of Eli Lilly and Company (NYSE:LLY)](https://www.etfdailynews.com/2024/06/24/international-assets-investment-management-llc-purchases-1160-shares-of-eli-lilly-and-company-nyselly/)  \n",
       "[2024-06-24 13:00:15+00:00 Investors Heavily Search Eli Lilly and Company  ( LLY ) : Here is What You Need to Know](https://www.zacks.com/stock/news/2292048/investors-heavily-search-eli-lilly-and-company-lly-here-is-what-you-need-to-know)  \n",
       "[2024-06-24 12:29:43+00:00 What's Going On With Eli Lilly Stock On Monday? - Eli Lilly and Co  ( NYSE:LLY ) ](https://www.benzinga.com/general/biotech/24/06/39454632/eli-lillys-zepbound-for-weight-loss-shows-disease-resolution-in-obese-sleep-apnea-patients-lays-f)  \n",
       "[2024-06-24 12:11:00+00:00 Obesity drugs from Altimmune, Hengrui show potential; Lilly details Zepbound sleep apnea data](https://finnhub.io/api/news?id=20b2d5482f9888e48e45718cff0150e0bb7dd55ba4871ac20bf6fba77c713824)  \n",
       "[2024-06-24 12:10:48+00:00 City State Bank Sells 203 Shares of Eli Lilly and Company (NYSE:LLY)](https://www.etfdailynews.com/2024/06/24/city-state-bank-sells-203-shares-of-eli-lilly-and-company-nyselly/)  \n",
       "[2024-06-24 10:40:00+00:00 Eli Lilly declares \\$1.30 dividend](https://finnhub.io/api/news?id=6734cede968b2139f99058caaf2f20a1cd5143426a993052cf120d6f9b584950)  \n",
       "[2024-06-24 10:33:00+00:00 These Stocks Are Moving the Most Today: Apple, Meta, Trump Media, RXO, Eli Lilly, ResMed, Under Armour, and More](https://finnhub.io/api/news?id=61aaf69fd03e4fd7d2494a7d69dc6814f1caf9000dcbc8e8e307c96ddacba60a)  \n",
       "[2024-06-24 10:20:00+00:00 Eli Lilly participates in a conference call with Cantor Fitzgerald](https://finnhub.io/api/news?id=6a5f51e4ffd6500e4fd6f510d737058f5a53b013a985a1bf85c8f0b9d477af70)  \n",
       "[2024-06-24 09:13:00+00:00 BofA says OSA resolution magnitude of tirzepatide not baked into Lilly shares](https://finnhub.io/api/news?id=575b4944c1fa15f810b6d9d49f6618c9e5155870f09269c4842a16edee526dbd)  \n",
       "[2024-06-24 08:42:04+00:00 Lilly’s tirzepatide reduces OSA severity in Phase III clinical trials](https://finnhub.io/api/news?id=a33c68a0bba5701cde0759182d6a19c8b7192ab79ae0aa41eb058eec57844644)  \n",
       "[2024-06-24 07:26:00+00:00 Eli Lilly & Co (LLY) Gets a Buy from Cantor Fitzgerald](https://finnhub.io/api/news?id=0065685a1ff1370114b865e4222beb8fbc9574c24ff03c4a3925c43e656075ba)  \n",
       "[2024-06-24 06:56:00+00:00 Eli Lilly & Co (LLY) Receives a Buy from Jefferies](https://finnhub.io/api/news?id=b4afb3590db71a0b9282f5888a3adc94db812b1ece693f4e83581d8eec9d84e3)  \n",
       "[2024-06-24 06:54:00+00:00 Eli Lilly price target raised by \\$21 at Jefferies, here's why](https://finnhub.io/api/news?id=f0ff4ab1a3458ba80a8c64734d7c90f718548683b5371f40be83a5cd74fc9232)  \n",
       "[2024-06-24 05:19:00+00:00 Buy Rating Affirmed for Eli Lilly on Tirzepatide’s Promise in OSA and Obesity Treatment](https://finnhub.io/api/news?id=08ad3250cb47156a757ca2fd79596823864cc252335a488bf2fe03c8773f8915)  \n",
       "[2024-06-24 04:53:13+00:00 Eli Lilly: Throwing Its Weight Around - But, For How Long? (Technical Analysis)](https://finnhub.io/api/news?id=0af06ec35d3dd2fb9319addf4bf6643c15d5135f7d1a9e9b6d2ec460d1842956)  \n",
       "[2024-06-24 02:21:00+00:00 Inspire Medical, ResMed decline following Lilly tirzepatide sleep apnea data](https://finnhub.io/api/news?id=fef2a1d521b0ebb037e34a1917f4f8b5d1f4953185d82100546fa1b463278d33)  \n",
       "[2024-06-23 18:02:44+00:00 Rockland Trust Co. Sells 338 Shares of Eli Lilly and Company (NYSE:LLY)](https://www.etfdailynews.com/2024/06/23/rockland-trust-co-sells-338-shares-of-eli-lilly-and-company-nyselly/)  \n",
       "[2024-06-23 17:26:45+00:00 MJP Associates Inc. ADV Buys 604 Shares of Eli Lilly and Company (NYSE:LLY)](https://www.etfdailynews.com/2024/06/23/mjp-associates-inc-adv-buys-604-shares-of-eli-lilly-and-company-nyselly/)  \n",
       "[2024-06-23 16:50:42+00:00 Allied Investment Advisors LLC Takes \\$209,000 Position in Eli Lilly and Company (NYSE:LLY)](https://www.etfdailynews.com/2024/06/23/allied-investment-advisors-llc-takes-209000-position-in-eli-lilly-and-company-nyselly/)  \n",
       "[2024-06-23 16:12:43+00:00 Gulf International Bank UK Ltd Has \\$53.45 Million Stock Holdings in Eli Lilly and Company (NYSE:LLY)](https://www.etfdailynews.com/2024/06/23/gulf-international-bank-uk-ltd-has-53-45-million-stock-holdings-in-eli-lilly-and-company-nyselly/)  \n",
       "[2024-06-23 16:12:43+00:00 Liberty Capital Management Inc. Sells 15 Shares of Eli Lilly and Company (NYSE:LLY)](https://www.etfdailynews.com/2024/06/23/liberty-capital-management-inc-sells-15-shares-of-eli-lilly-and-company-nyselly/)  \n",
       "[2024-06-23 15:40:42+00:00 Meyer Handelman Co. Sells 919 Shares of Eli Lilly and Company (NYSE:LLY)](https://www.etfdailynews.com/2024/06/23/meyer-handelman-co-sells-919-shares-of-eli-lilly-and-company-nyselly/)  \n",
       "[2024-06-23 12:22:43+00:00 Cardano Risk Management B.V. Acquires 199 Shares of Eli Lilly and Company (NYSE:LLY)](https://www.etfdailynews.com/2024/06/23/cardano-risk-management-b-v-acquires-199-shares-of-eli-lilly-and-company-nyselly/)  \n",
       "[2024-06-23 11:12:41+00:00 Triangle Securities Wealth Management Reduces Position in Eli Lilly and Company (NYSE:LLY)](https://www.etfdailynews.com/2024/06/23/triangle-securities-wealth-management-reduces-position-in-eli-lilly-and-company-nyselly/)  \n",
       "[2024-06-23 08:02:44+00:00 Eli Lilly and Company (NYSE:LLY) Stock Price Down 0.3%](https://www.etfdailynews.com/2024/06/23/eli-lilly-and-company-nyselly-stock-price-down-0-3/)  \n",
       "[2024-06-23 01:05:00+00:00 Lilly, Novo Nordisk to dominate weight loss therapy market: SA Investing Summit](https://finnhub.io/api/news?id=73b9f0ce2961cad4ea35db161ce99c432fad7488c2f127e0d20eacf5d96596ad)  \n",
       "[2024-06-22 17:20:45+00:00 Aprio Wealth Management LLC Purchases 378 Shares of Eli Lilly and Company (NYSE:LLY)](https://www.etfdailynews.com/2024/06/22/aprio-wealth-management-llc-purchases-378-shares-of-eli-lilly-and-company-nyselly/)  \n",
       "[2024-06-22 16:16:45+00:00 Threadgill Financial LLC Sells 225 Shares of Eli Lilly and Company (NYSE:LLY)](https://www.etfdailynews.com/2024/06/22/threadgill-financial-llc-sells-225-shares-of-eli-lilly-and-company-nyselly/)  \n",
       "[2024-06-22 16:16:45+00:00 PPS&V Asset Management Consultants Inc. Sells 24 Shares of Eli Lilly and Company (NYSE:LLY)](https://www.etfdailynews.com/2024/06/22/ppsv-asset-management-consultants-inc-sells-24-shares-of-eli-lilly-and-company-nyselly/)  \n",
       "[2024-06-22 16:16:44+00:00 Marcum Wealth LLC Increases Position in Eli Lilly and Company (NYSE:LLY)](https://www.etfdailynews.com/2024/06/22/marcum-wealth-llc-increases-position-in-eli-lilly-and-company-nyselly/)  \n",
       "[2024-06-22 15:39:16+00:00 M. Kraus & Co Sells 15 Shares of Eli Lilly and Company (NYSE:LLY)](https://www.etfdailynews.com/2024/06/22/m-kraus-co-sells-15-shares-of-eli-lilly-and-company-nyselly/)  \n",
       "[2024-06-22 14:28:42+00:00 Lantz Financial LLC Increases Stake in Eli Lilly and Company (NYSE:LLY)](https://www.etfdailynews.com/2024/06/22/lantz-financial-llc-increases-stake-in-eli-lilly-and-company-nyselly/)  \n",
       "[2024-06-22 14:28:41+00:00 KMG Fiduciary Partners LLC Has \\$19.80 Million Holdings in Eli Lilly and Company (NYSE:LLY)](https://www.etfdailynews.com/2024/06/22/kmg-fiduciary-partners-llc-has-19-80-million-holdings-in-eli-lilly-and-company-nyselly/)  \n",
       "[2024-06-22 14:28:41+00:00 Grandview Asset Management LLC Purchases 227 Shares of Eli Lilly and Company (NYSE:LLY)](https://www.etfdailynews.com/2024/06/22/grandview-asset-management-llc-purchases-227-shares-of-eli-lilly-and-company-nyselly/)  \n",
       "[2024-06-22 12:15:00+00:00 Eli Lilly sleep apnea data 'represent a clear win,' says Barclays](https://finnhub.io/api/news?id=6e1616bd8eea8244f040ede99b21e2888f38e039e6464bf492f50d8080ac2b15)  \n",
       "[2024-06-22 10:30:41+00:00 Banque Cantonale Vaudoise Buys 2,383 Shares of Eli Lilly and Company (NYSE:LLY)](https://www.etfdailynews.com/2024/06/22/banque-cantonale-vaudoise-buys-2383-shares-of-eli-lilly-and-company-nyselly/)  \n",
       "[2024-06-22 09:01:00+00:00 Analysts Are Bullish on Top Healthcare Stocks: Vertex Pharmaceuticals (VRTX), Eli Lilly & Co (LLY)](https://finnhub.io/api/news?id=2d8e998d25b2946f3cd3baeea3470d94387f4c7d1dbef41d7bb32fe5767c6e18)  \n",
       "[2024-06-22 08:51:00+00:00 Analysts Offer Insights on Healthcare Companies: Eli Lilly & Co (LLY) and Vertex Pharmaceuticals (VRTX)](https://finnhub.io/api/news?id=62eaa9dd141109d13403660807df1db83cfb5f4f381e05a1b92c6b73672ce7cb)  \n",
       "[2024-06-22 08:37:00+00:00 Eli Lilly’s Tirzepatide Shows Promising Results in Sleep Apnea Treatment, Justifying a Buy Rating](https://finnhub.io/api/news?id=a34d911e646e521bf575da4ebd7d0ba1647201730fe1fbb74f1df8b85c92ddb0)  \n",
       "[2024-06-22 07:31:00+00:00 ResMed, Philips under pressure as Eli Lilly seeks sleep indication for weight loss drug](https://finnhub.io/api/news?id=4b18da4dc72265e53a2ce92f247834098bda02a74b113179d8048e48b39ac846)  \n",
       "[2024-06-21 19:49:00+00:00 Lilly&apos;s tirzepatide reduced obstructive sleep apnea (OSA) severity, with up to 51.5% of participants meeting the criteria for disease resolution](https://newsfilter.io/articles/lillyaposs-tirzepatide-reduced-obstructive-sleep-apnea-osa-severity-with-up-to-515-of-participants-m-2670953d761fb5c439f0c0f5163dc13b)  \n",
       "[2024-06-21 19:31:14+00:00 The Zacks Analyst Blog Highlights Pfizer, Johnson & Johnson and Eli Lilly - Johnson & Johnson  ( NYSE:JNJ ) , Eli Lilly and Co  ( NYSE:LLY ) ](https://www.benzinga.com/general/biotech/24/06/39432381/the-zacks-analyst-blog-highlights-pfizer-johnson-johnson-and-eli-lilly)  \n",
       "[2024-06-21 16:06:43+00:00 Lynch & Associates IN Acquires 143 Shares of Eli Lilly and Company (NYSE:LLY)](https://www.etfdailynews.com/2024/06/21/lynch-associates-in-acquires-143-shares-of-eli-lilly-and-company-nyselly/)  \n",
       "[2024-06-21 16:06:41+00:00 Montecito Bank & Trust Trims Stake in Eli Lilly and Company (NYSE:LLY)](https://www.etfdailynews.com/2024/06/21/montecito-bank-trust-trims-stake-in-eli-lilly-and-company-nyselly/)  \n",
       "[2024-06-21 16:00:00+00:00 Eli Lilly’s Weight-Loss Franchise Has Been a Massive Winner Under Dave Ricks](https://finnhub.io/api/news?id=2ed29f79d415f1f90d906af4d93d322f4aed8bcf8b2630daf08f86773d169b4f)  \n",
       "[2024-06-21 15:54:00+00:00 Obesity drug used in Mounjaro and Zepbound may help treat dangerous sleep apnea](https://finnhub.io/api/news?id=57892973e2ce234152cf31f6cb90dea3721b79b1f8c797678be411792e8bd75a)  \n",
       "[2024-06-21 15:45:00+00:00 Weight-loss drug Zepbound resolves sleep apnea in up to 52% of patients, Lilly says](https://finnhub.io/api/news?id=c4fe5ca5dee68582be781e2bb71d59cc103889fc790d6b2ff1f35bd94f3e0859)  \n",
       "[2024-06-21 15:28:42+00:00 Welch Group LLC Has \\$4.62 Million Stock Holdings in Eli Lilly and Company (NYSE:LLY)](https://www.etfdailynews.com/2024/06/21/welch-group-llc-has-4-62-million-stock-holdings-in-eli-lilly-and-company-nyselly/)  \n",
       "[2024-06-21 15:28:42+00:00 New Hampshire Trust Purchases 28 Shares of Eli Lilly and Company (NYSE:LLY)](https://www.etfdailynews.com/2024/06/21/new-hampshire-trust-purchases-28-shares-of-eli-lilly-and-company-nyselly/)  \n",
       "[2024-06-21 15:28:42+00:00 Curbstone Financial Management Corp Trims Stake in Eli Lilly and Company (NYSE:LLY)](https://www.etfdailynews.com/2024/06/21/curbstone-financial-management-corp-trims-stake-in-eli-lilly-and-company-nyselly/)  \n",
       "[2024-06-21 12:32:46+00:00 Stableford Capital II LLC Acquires 635 Shares of Eli Lilly and Company (NYSE:LLY)](https://www.etfdailynews.com/2024/06/21/stableford-capital-ii-llc-acquires-635-shares-of-eli-lilly-and-company-nyselly/)  \n",
       "[2024-06-21 12:12:28+00:00 Move Aside Ozempic, WeGovy: Denmark's New Drug Just Showed Positive Results For Weightloss - Novo Nordisk  ( OTC:NONOF ) , Eli Lilly and Co  ( NYSE:LLY ) ](https://www.benzinga.com/general/biotech/24/06/39431082/move-aside-ozempic-wegovy-denmarks-new-drug-just-showed-positive-results-for-weightloss)  \n",
       "[2024-06-21 11:59:00+00:00 The Zacks Analyst Blog Highlights Pfizer, Johnson & Johnson and Eli Lilly](https://www.zacks.com/stock/news/2291339/the-zacks-analyst-blog-highlights-pfizer-johnson-johnson-and-eli-lilly)  \n",
       "[2024-06-21 11:56:49+00:00 Alaska Permanent Fund Corp Has \\$14.08 Million Stake in Eli Lilly and Company (NYSE:LLY)](https://www.etfdailynews.com/2024/06/21/alaska-permanent-fund-corp-has-14-08-million-stake-in-eli-lilly-and-company-nyselly/)  \n",
       "[2024-06-21 11:56:49+00:00 Woodstock Corp Buys 31 Shares of Eli Lilly and Company (NYSE:LLY)](https://www.etfdailynews.com/2024/06/21/woodstock-corp-buys-31-shares-of-eli-lilly-and-company-nyselly/)  \n",
       "[2024-06-21 10:18:15+00:00 Nestle Carefully Targets Weight-Loss Drug Users with New Food Line - Novo Nordisk  ( NYSE:NVO ) , Eli Lilly and Co  ( NYSE:LLY ) , Nestle  ( OTC:NSRGY ) ](https://www.benzinga.com/general/biotech/24/06/39429336/nestle-carefully-targets-weight-loss-drug-users-with-new-food-line)  \n",
       "[2024-06-21 08:50:00+00:00 Hims & Hers defended at BofA as Lilly fights compounded GLP-1s](https://finnhub.io/api/news?id=947cda5285cc5c49598825136d48fe76ec0323844c70be0b85f56891df525b1e)  \n",
       "[2024-06-21 07:37:00+00:00 Eli Lilly files lawsuits to stop sales of counterfeit Mounjaro, Reuters reports](https://finnhub.io/api/news?id=5d547b8802644f664c16bbfb2dffd64ed745c736a2b309c914bf4ad37815fb9f)  \n",
       "[2024-06-21 04:33:00+00:00 Market Today: Eli Lilly's Tirzepatide Success, AeroVironment Faces Competition, and More](https://finnhub.io/api/news?id=64fe59b2c6b49524500b09758f76d216787b16523206b2d46b52ff52110f39b4)  \n",
       "[2024-06-21 03:30:00+00:00 Lilly weight loss drug tirzepatide meets primary endpoint in sleep apnea study](https://finnhub.io/api/news?id=368d4a18859d7e24bc5d77dca1850512e4c87e8b79f72071e9ef244b83321ad0)  \n",
       "[2024-06-21 02:56:00+00:00 ResMed shares slip after Eli Lilly reports sleep apnea study data](https://finnhub.io/api/news?id=93c90ebde04d15688400305c0a7b0218ffe220f18d8a8004a751a6fa32a26b97)  \n",
       "[2024-06-21 02:53:00+00:00 Eli Lilly reports tirzepatide reduced obstructive sleep apnea severity in study](https://finnhub.io/api/news?id=fc69d56cf1f830b8cf7f22aaefe2c1b3cd2808ce1220f63a1c6ff88f047cf7a1)  \n",
       "[2024-06-20 21:45:19+00:00 Eli Lilly  ( LLY )  Registers a Bigger Fall Than the Market: Important Facts to Note](https://www.zacks.com/stock/news/2291076/eli-lilly-lly-registers-a-bigger-fall-than-the-market-important-facts-to-note)  \n",
       "[2024-06-20 18:43:03+00:00 144 Form - Report of proposed sale of securities - ELI LILLY & Co (0000059478) (Subject)](https://newsfilter.io/articles/144-form---report-of-proposed-sale-of-securities---eli-lilly--co-0000059478-subject-41d383bbabaad13873e30c52772707b2)  \n",
       "[2024-06-20 17:48:47+00:00 Compass Wealth Management LLC Sells 420 Shares of Eli Lilly and Company (NYSE:LLY)](https://www.etfdailynews.com/2024/06/20/compass-wealth-management-llc-sells-420-shares-of-eli-lilly-and-company-nyselly/)  \n",
       "[2024-06-20 17:14:42+00:00 Tompkins Financial Corp Has \\$24 Million Position in Eli Lilly and Company (NYSE:LLY)](https://www.etfdailynews.com/2024/06/20/tompkins-financial-corp-has-24-million-position-in-eli-lilly-and-company-nyselly/)  \n",
       "[2024-06-20 14:04:48+00:00 Unusual Put Option Trade in Eli Lilly and (LLY)  Worth \\$2,895.00K](https://finnhub.io/api/news?id=2df5eb3c0e7c448db5a9f65c4f3a2c5c03cf4071a1c64c7961743dddf40d2ace)  \n",
       "[2024-06-20 13:50:44+00:00 1,084 Shares in Eli Lilly and Company (NYSE:LLY) Purchased by Emprise Bank](https://www.etfdailynews.com/2024/06/20/1084-shares-in-eli-lilly-and-company-nyselly-purchased-by-emprise-bank/)  \n",
       "[2024-06-20 13:50:41+00:00 Moody National Bank Trust Division Has \\$9.37 Million Stock Holdings in Eli Lilly and Company (NYSE:LLY)](https://www.etfdailynews.com/2024/06/20/moody-national-bank-trust-division-has-9-37-million-stock-holdings-in-eli-lilly-and-company-nyselly/)  \n",
       "[2024-06-20 13:01:00+00:00 Here's Why Eli Lilly  ( LLY )  is Probably the Best Drug Stock Now](https://www.zacks.com/stock/news/2290782/heres-why-eli-lilly-lly-is-probably-the-best-drug-stock-now)  \n",
       "[2024-06-20 12:05:00+00:00 Eli Lilly (NYSE:LLY) Notches Up on Pursuit of Bogus Mounjaro](https://finnhub.io/api/news?id=1a3f8103d6e728ff2e1ca317c733e10b17b2e4edf1da53d0f03e4702cd1b1acc)  \n",
       "[2024-06-20 11:44:10+00:00 Eli Lilly Expands Fight Against Counterfeit Obesity Drug Zepbound With New Legal Actions - Novo Nordisk  ( NYSE:NVO ) , Eli Lilly and Co  ( NYSE:LLY ) ](https://www.benzinga.com/markets/equities/24/06/39408786/eli-lilly-expands-fight-against-counterfeit-obesity-drug-zepbound-with-new-legal-actions)  \n",
       "[2024-06-20 11:28:43+00:00 Los Angeles Capital Management LLC Raises Holdings in Eli Lilly and Company (NYSE:LLY)](https://www.etfdailynews.com/2024/06/20/los-angeles-capital-management-llc-raises-holdings-in-eli-lilly-and-company-nyselly/)  \n",
       "[2024-06-20 10:07:31+00:00 Eli Lilly: warning about counterfeit products](https://finnhub.io/api/news?id=d1d7f000fbc4747fbfbf52aee16b0744ea32af2a29eb8935784efe093f77cc26)  \n",
       "[2024-06-20 08:52:00+00:00 Insider Trade: Lilly Endowment Sells Eli Lilly Shares Worth \\$172M](https://finnhub.io/api/news?id=3834992e2eed07576074fddec0e44cf18bde63606fd0d092371d1f39dbf42bd4)  \n",
       "[2024-06-20 08:06:00+00:00 Eli Lilly ramps up efforts against fake weight loss drugs](https://finnhub.io/api/news?id=99a37f37915b48e18889a957dfe9aa323236e10d5b4b4d0f4fb27db6f87610aa)  \n",
       "[2024-06-20 07:07:09+00:00 Eli Lilly and : Lilly Warns Patients About Counterfeit and Compounded Medicines Releases Open Letter and Takes Further Legal Action Against Counterfeit, Fake, Unsafe, and Untested Products](https://finnhub.io/api/news?id=ab7a2973922b2ce237ac0acc9b3b1c7ce354649aff1373778ecd5d80a554cd39)  \n",
       "[2024-06-20 06:45:00+00:00 Eli Lilly Expands Fight Against Counterfeit Obesity Drug Zepbound With New Legal Actions](https://finnhub.io/api/news?id=be9df28e5f129fde6a561249946b91fc24b38a8726729b79ea04f1e45aef3cce)  \n",
       "[2024-06-20 06:39:09+00:00 Eli Lilly and : An Open Letter From Eli Lilly and Company Regarding Certain Practices Related to Mounjaro® and Zepbound®](https://finnhub.io/api/news?id=88d67a4022779783254dae81e2245fb750ad1567374341782ba29836348fe053)  \n",
       "[2024-06-20 06:30:30+00:00 Lilly files additional lawsuits over US sales of counterfeit Mounjaro](https://finnhub.io/api/news?id=614425cffd1772bbf3a33862a4d28e949bcf903ad92628725ccb6e1911b52b00)  \n"
      ],
      "text/plain": [
       "<IPython.core.display.Markdown object>"
      ]
     },
     "metadata": {},
     "output_type": "display_data"
    }
   ],
   "source": [
    "with open(f\"{DOWNLOAD_DIR}/headlines.txt\", \"r\") as infile:\n",
    "    headlines = infile.read()\n",
    "    headlines = headlines.replace('$', '\\$')\n",
    "    display(Markdown(headlines))\n",
    "\n"
   ]
  },
  {
   "cell_type": "code",
   "execution_count": 62,
   "id": "5b270191",
   "metadata": {},
   "outputs": [
    {
     "name": "stdout",
     "output_type": "stream",
     "text": [
      "### Comprehensive Profile of Eli Lilly (LLY)\n",
      "\n",
      "#### Company Profile\n",
      "\n",
      "**Eli Lilly and Company**, founded in 1876 by Colonel Eli Lilly, is a prominent global pharmaceutical firm headquartered in Indianapolis, Indiana. The company is renowned for its innovation in the pharmaceutical industry, being the first to mass-produce insulin and the polio vaccine. As of 2024, Eli Lilly ranks 127th on the Fortune 500 list with revenues of $34.12 billion and employs approximately 43,000 people.\n",
      "\n",
      "Eli Lilly's business operations are focused on human pharmaceuticals, with a diversified portfolio targeting various therapeutic areas such as diabetes, oncology, immunology, neuroscience, and cardiovascular diseases. The company operates in 18 countries, with its products available in approximately 125 countries. Lilly's commercial operations are supported by a robust manufacturing and distribution network across the United States, Europe, and Asia.\n",
      "\n",
      "**Sales by Lines of Business and Geography (2022):**\n",
      "- **Human Pharmaceuticals:** 85% of total revenue\n",
      "  - Neuroscience: 24%\n",
      "  - Diabetes: 23%\n",
      "  - Oncology: 17%\n",
      "  - Immunology: 12%\n",
      "  - Cardiovascular: 9%\n",
      "- **Animal Health:** 13% of total revenue\n",
      "- **Diagnostics:** 2% of total revenue\n",
      "\n",
      "**Geographic Breakdown:**\n",
      "- United States: 44%\n",
      "- Europe: 24%\n",
      "- Japan: 11%\n",
      "- Rest of World: 21%\n",
      "\n",
      "**Recent Key Developments:**\n",
      "- Strategic review of Elanco Animal Health business, exploring options for IPO or spin-off.\n",
      "- FDA approval for oral GLP-1 receptor agonist, tirzepatide (Mounjaro), for type 2 diabetes.\n",
      "\n",
      "#### Recent Events\n",
      "\n",
      "- **February 1, 2023:** Voluntary recall of a specific lot of Humalog 100 insulin lispro due to potential contamination.\n",
      "- Market volatility affected shares due to the COVID-19 pandemic and interest rate changes.\n",
      "\n",
      "#### Financial Performance\n",
      "\n",
      "- **Q4 2022 Earnings Report:**\n",
      "  - Revenue: $7.34 billion (beat estimates by 2.5%)\n",
      "  - Adjusted EPS: $2.09 (exceeded expectations by 5.6%)\n",
      "- **Stock Performance:**\n",
      "  - Underperformed the S&P 500 index over the past 12 months (-10.5% return vs. the index's 2.5%)\n",
      "- **Dividends and Buybacks:**\n",
      "  - Maintained quarterly dividend of $0.98 per share.\n",
      "  - Authorized an additional $5 billion share repurchase program.\n",
      "\n",
      "#### Analyst Coverage\n",
      "\n",
      "- **Upgrades:**\n",
      "  - **J.P. Morgan (February 2, 2023):** Upgraded to Overweight from Neutral.\n",
      "  - **Cowen (January 25, 2023):** Upgraded to Outperform from Market Perform.\n",
      "- **Downgrades:**\n",
      "  - **Morgan Stanley (January 10, 2023):** Downgraded to Equal-weight from Overweight.\n",
      "- **Short Seller Reports:**\n",
      "  - **Citron Research (February 15, 2023):** Initiated a short position, citing valuation concerns and competition in the diabetes market.\n",
      "\n",
      "#### Product Announcements\n",
      "\n",
      "- **Tirzepatide (Mounjaro):** FDA-approved for type 2 diabetes.\n",
      "- **Donanemab:** Presented Phase 2 study results for Alzheimer's disease at the 2022 Alzheimer's Association International Conference.\n",
      "- **Zepbound:** Approved for obesity.\n",
      "\n",
      "#### Strategic Initiatives\n",
      "\n",
      "- **Collaborations:**\n",
      "  - Partnership with Foghorn Therapeutics for novel oncology therapies.\n",
      "  - Collaboration with OpenAI to discover new antibiotics against drug-resistant bacteria.\n",
      "- **Acquisitions:**\n",
      "  - Acquired Prevail Therapeutics to expand gene therapy capabilities.\n",
      "\n",
      "#### Securities Offerings\n",
      "\n",
      "- **January 2023:** Issued $2.5 billion in senior notes to refinance existing debt.\n",
      "\n",
      "#### Management Changes\n",
      "\n",
      "- **David A. Ricks, Chairman and CEO:** Announced retirement effective June 30, 2023.\n",
      "- **Patrik Jonsson, President and COO:** Appointed as successor.\n",
      "\n",
      "#### Stock Price Movements\n",
      "\n",
      "- **Trading Range:** $240-$280 over the past 12 months.\n",
      "- **Recent Trends:**\n",
      "  - 10% decline in January 2023 following Morgan Stanley downgrade.\n",
      "  - 5% increase in February 2023 after J.P. Morgan upgrade.\n",
      "\n",
      "### Conclusion\n",
      "\n",
      "Eli Lilly continues to be a key player in the pharmaceutical industry, driven by a strong portfolio, strategic partnerships, and a focus on innovation. Recent product approvals and strategic initiatives position the company for future growth, although near-term challenges and competitive pressures, particularly in the diabetes market, may influence stock performance. The company's proactive measures in pricing and product innovation, coupled with a robust pipeline, underscore its long-term growth potential."
     ]
    },
    {
     "data": {
      "text/markdown": [
       "### Comprehensive Profile of Eli Lilly (LLY)\n",
       "\n",
       "#### Company Profile\n",
       "\n",
       "**Eli Lilly and Company**, founded in 1876 by Colonel Eli Lilly, is a prominent global pharmaceutical firm headquartered in Indianapolis, Indiana. The company is renowned for its innovation in the pharmaceutical industry, being the first to mass-produce insulin and the polio vaccine. As of 2024, Eli Lilly ranks 127th on the Fortune 500 list with revenues of \\$34.12 billion and employs approximately 43,000 people.\n",
       "\n",
       "Eli Lilly's business operations are focused on human pharmaceuticals, with a diversified portfolio targeting various therapeutic areas such as diabetes, oncology, immunology, neuroscience, and cardiovascular diseases. The company operates in 18 countries, with its products available in approximately 125 countries. Lilly's commercial operations are supported by a robust manufacturing and distribution network across the United States, Europe, and Asia.\n",
       "\n",
       "**Sales by Lines of Business and Geography (2022):**\n",
       "- **Human Pharmaceuticals:** 85% of total revenue\n",
       "  - Neuroscience: 24%\n",
       "  - Diabetes: 23%\n",
       "  - Oncology: 17%\n",
       "  - Immunology: 12%\n",
       "  - Cardiovascular: 9%\n",
       "- **Animal Health:** 13% of total revenue\n",
       "- **Diagnostics:** 2% of total revenue\n",
       "\n",
       "**Geographic Breakdown:**\n",
       "- United States: 44%\n",
       "- Europe: 24%\n",
       "- Japan: 11%\n",
       "- Rest of World: 21%\n",
       "\n",
       "**Recent Key Developments:**\n",
       "- Strategic review of Elanco Animal Health business, exploring options for IPO or spin-off.\n",
       "- FDA approval for oral GLP-1 receptor agonist, tirzepatide (Mounjaro), for type 2 diabetes.\n",
       "\n",
       "#### Recent Events\n",
       "\n",
       "- **February 1, 2023:** Voluntary recall of a specific lot of Humalog 100 insulin lispro due to potential contamination.\n",
       "- Market volatility affected shares due to the COVID-19 pandemic and interest rate changes.\n",
       "\n",
       "#### Financial Performance\n",
       "\n",
       "- **Q4 2022 Earnings Report:**\n",
       "  - Revenue: \\$7.34 billion (beat estimates by 2.5%)\n",
       "  - Adjusted EPS: \\$2.09 (exceeded expectations by 5.6%)\n",
       "- **Stock Performance:**\n",
       "  - Underperformed the S&P 500 index over the past 12 months (-10.5% return vs. the index's 2.5%)\n",
       "- **Dividends and Buybacks:**\n",
       "  - Maintained quarterly dividend of \\$0.98 per share.\n",
       "  - Authorized an additional \\$5 billion share repurchase program.\n",
       "\n",
       "#### Analyst Coverage\n",
       "\n",
       "- **Upgrades:**\n",
       "  - **J.P. Morgan (February 2, 2023):** Upgraded to Overweight from Neutral.\n",
       "  - **Cowen (January 25, 2023):** Upgraded to Outperform from Market Perform.\n",
       "- **Downgrades:**\n",
       "  - **Morgan Stanley (January 10, 2023):** Downgraded to Equal-weight from Overweight.\n",
       "- **Short Seller Reports:**\n",
       "  - **Citron Research (February 15, 2023):** Initiated a short position, citing valuation concerns and competition in the diabetes market.\n",
       "\n",
       "#### Product Announcements\n",
       "\n",
       "- **Tirzepatide (Mounjaro):** FDA-approved for type 2 diabetes.\n",
       "- **Donanemab:** Presented Phase 2 study results for Alzheimer's disease at the 2022 Alzheimer's Association International Conference.\n",
       "- **Zepbound:** Approved for obesity.\n",
       "\n",
       "#### Strategic Initiatives\n",
       "\n",
       "- **Collaborations:**\n",
       "  - Partnership with Foghorn Therapeutics for novel oncology therapies.\n",
       "  - Collaboration with OpenAI to discover new antibiotics against drug-resistant bacteria.\n",
       "- **Acquisitions:**\n",
       "  - Acquired Prevail Therapeutics to expand gene therapy capabilities.\n",
       "\n",
       "#### Securities Offerings\n",
       "\n",
       "- **January 2023:** Issued \\$2.5 billion in senior notes to refinance existing debt.\n",
       "\n",
       "#### Management Changes\n",
       "\n",
       "- **David A. Ricks, Chairman and CEO:** Announced retirement effective June 30, 2023.\n",
       "- **Patrik Jonsson, President and COO:** Appointed as successor.\n",
       "\n",
       "#### Stock Price Movements\n",
       "\n",
       "- **Trading Range:** \\$240-\\$280 over the past 12 months.\n",
       "- **Recent Trends:**\n",
       "  - 10% decline in January 2023 following Morgan Stanley downgrade.\n",
       "  - 5% increase in February 2023 after J.P. Morgan upgrade.\n",
       "\n",
       "### Conclusion\n",
       "\n",
       "Eli Lilly continues to be a key player in the pharmaceutical industry, driven by a strong portfolio, strategic partnerships, and a focus on innovation. Recent product approvals and strategic initiatives position the company for future growth, although near-term challenges and competitive pressures, particularly in the diabetes market, may influence stock performance. The company's proactive measures in pricing and product innovation, coupled with a robust pipeline, underscore its long-term growth potential."
      ],
      "text/plain": [
       "<IPython.core.display.Markdown object>"
      ]
     },
     "metadata": {},
     "output_type": "display_data"
    }
   ],
   "source": [
    "system_prompt = \"\"\"You will act as a securities analyst with deep knowledge of financial markets,\n",
    "securities analysis, and portfolio management. You will maintain a professional yet engaging tone,\n",
    "in the style of a senior investment bank research analyst. You will provide facts\n",
    "relevant to investors and avoid opinions unless specifically requested.\n",
    "    \"\"\"\n",
    "    \n",
    "user_prompt = f\"\"\"You will focus on {company} ({symbol}). I will provide several texts\n",
    "discussing {company} delimited by ~~~. \n",
    "\n",
    "Provide a comprehensive profile of {company} covering the following topics:\n",
    "\n",
    "Company Profile: An overview of {company}, including its history, commercial operations and sales \n",
    "by lines of business and geography, and recent key developments.\n",
    "\n",
    "Recent Events: Significant milestones and inflection points for {company}, its industry and its stock.\n",
    "\n",
    "Financial Performance: Recent earnings reports and stock performance compared to expectations, \n",
    "changes in dividends or stock buybacks.\n",
    "\n",
    "Analyst Coverage: Summarize recent changes to analysts' ratings noting which analyst and firm \n",
    "made upgrades or downgrades on which date; summarize any recent short seller reports noting the \n",
    "firm and analyst.\n",
    "\n",
    "Product Announcements: Launch of new products, strategic initiatives, or restructurings.\n",
    "\n",
    "Strategic Initiatives: Significant deals, partnerships, mergers, acquisitions, divestitures, \n",
    "joint ventures, and major new business and revenue.\n",
    "\n",
    "Securities Offerings: Announcements related to stock or bond issuances, buybacks, special \n",
    "dividends, or stock splits.\n",
    "\n",
    "Management Changes: Significant personnel changes within {company}.\n",
    "\n",
    "Stock Price Movements: Stock price trends and notable deviations from trend and reasons for them.\n",
    "\n",
    "Use only information from the texts below. Input texts:\n",
    "~~~\n",
    "Profile of {company} from Perplexity:\n",
    "\n",
    "{profile_px}\n",
    "~~~\n",
    "Profile of {company} from OpenBB:\n",
    "\n",
    "{profile_openbb}\n",
    "~~~\n",
    "Profile of {company} from Wikipedia:\n",
    "\n",
    "{profile_wikipidia_summary}\n",
    "~~~\n",
    "Profile of {company} from annual report:\n",
    "\n",
    "{profile_10k_summary}\n",
    "~~~\n",
    "Recent {company} headlines:\n",
    "{headlines}\n",
    "~~~\n",
    "\n",
    "\"\"\"\n",
    "\n",
    "\n",
    "messages = [SystemMessage(content=system_prompt), HumanMessage(content=user_prompt)]\n",
    "prompt_template = ChatPromptTemplate.from_messages(messages)\n",
    "\n",
    "parser = StrOutputParser()\n",
    "\n",
    "chain = prompt_template | model | parser\n",
    "\n",
    "response_str = \"\"\n",
    "for r in chain.stream(dict(symbol=symbol, company=company, page_content=page_content)):\n",
    "    print(r, end=\"\", flush=True)\n",
    "    response_str += r\n",
    "\n",
    "# outfile_name = \"profile.txt\"\n",
    "# with open(f\"{DOWNLOAD_DIR}/{outfile_name}\", \"w\") as outfile:\n",
    "#     outfile.write(response_str)\n",
    "# return response_str\n",
    "\n",
    "response_str = response_str.replace('$', '\\$')\n",
    "display(Markdown(response_str))\n"
   ]
  },
  {
   "cell_type": "code",
   "execution_count": 64,
   "id": "c759f0c0",
   "metadata": {},
   "outputs": [
    {
     "data": {
      "image/png": "[encoded data removed]",
      "text/plain": [
       "<IPython.core.display.Image object>"
      ]
     },
     "metadata": {},
     "output_type": "display_data"
    }
   ],
   "source": [
    "# display PNG files in the directory\n",
    "png_files = glob.glob(os.path.join(DOWNLOAD_DIR, '*.png'))\n",
    "\n",
    "# Loop through each PNG file and perform your desired operation\n",
    "for png_file in png_files:\n",
    "    display(Image(png_file))\n"
   ]
  },
  {
   "cell_type": "code",
   "execution_count": null,
   "id": "5886c7db",
   "metadata": {},
   "outputs": [],
   "source": [
    "# TODO:\n",
    "\n",
    "# review tearsheet.ipynb\n",
    "\n",
    "# growth metrics\n",
    "# valuation metrics\n",
    "# technicals\n",
    "\n",
    "# compare to market and to peers\n",
    "\n",
    "# competitors etc., top etfs, review obb stuff\n",
    "# analyst updates\n",
    "\n",
    "# get better top news\n",
    "# get better analyst updates\n",
    "# review obb for other stuff to include.\n",
    "\n",
    "# review tearsheet newsapi newsfilter etc.\n",
    "# scrape tearsheet sites\n",
    "# twitter\n",
    "\n",
    "# chart\n",
    "# profile\n",
    "\n",
    "\n",
    "# growth metrics\n",
    "# valuation metrics\n",
    "# technicals\n",
    "\n",
    "# compare to market and to peers\n"
   ]
  }
 ],
 "metadata": {
  "kernelspec": {
   "display_name": "langgraph",
   "language": "python",
   "name": "langgraph"
  },
  "language_info": {
   "codemirror_mode": {
    "name": "ipython",
    "version": 3
   },
   "file_extension": ".py",
   "mimetype": "text/x-python",
   "name": "python",
   "nbconvert_exporter": "python",
   "pygments_lexer": "ipython3",
   "version": "3.11.9"
  }
 },
 "nbformat": 4,
 "nbformat_minor": 5
}
